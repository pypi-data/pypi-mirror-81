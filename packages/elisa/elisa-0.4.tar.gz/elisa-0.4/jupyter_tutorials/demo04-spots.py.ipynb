{
 "cells": [
  {
   "cell_type": "code",
   "execution_count": 9,
   "metadata": {
    "pycharm": {
     "is_executing": false
    }
   },
   "outputs": [],
   "source": [
    "%matplotlib notebook\n",
    "from astropy import units as u\n",
    "\n",
    "from elisa.binary_system.system import BinarySystem\n",
    "from elisa.base.star import Star\n",
    "from elisa.binary_system.container import OrbitalPositionContainer"
   ]
  },
  {
   "cell_type": "markdown",
   "metadata": {},
   "source": [
    "# Demo No. 4 - Spots"
   ]
  },
  {
   "cell_type": "markdown",
   "metadata": {},
   "source": [
    "This demo will demonstrate how to generate spots on the surface of the binary component."
   ]
  },
  {
   "cell_type": "markdown",
   "metadata": {},
   "source": [
    "## Generating spot metadata"
   ]
  },
  {
   "cell_type": "markdown",
   "metadata": {},
   "source": [
    "Before the standard procedure of defining the components and the binary system itself, lets first specify our spots on the primary component."
   ]
  },
  {
   "cell_type": "code",
   "execution_count": 10,
   "metadata": {
    "pycharm": {
     "is_executing": false
    }
   },
   "outputs": [],
   "source": [
    "spots_primary = [\n",
    "    #  Spot 1\n",
    "    {\"longitude\": 0,\n",
    "     \"latitude\": 45,\n",
    "     \"angular_radius\": 27,\n",
    "     \"temperature_factor\": 1.05,\n",
    "#      \"discretization_factor\": 2,\n",
    "    },\n",
    "    #  Spot 2\n",
    "    {\"longitude\": 30,\n",
    "     \"latitude\": 30,\n",
    "     \"angular_radius\": 15,\n",
    "     \"temperature_factor\": 0.98,\n",
    "    },\n",
    "    #  Spot 3\n",
    "    {\"longitude\": 40,\n",
    "     \"latitude\": 50,\n",
    "     \"angular_radius\": 15,\n",
    "     \"temperature_factor\": 1.02,\n",
    "    },\n",
    "    #  Spot 4\n",
    "    {\"longitude\": 0,\n",
    "     \"latitude\": 50,\n",
    "     \"angular_radius\": 8,\n",
    "     \"temperature_factor\": 0.98,\n",
    "    },\n",
    "]"
   ]
  },
  {
   "cell_type": "markdown",
   "metadata": {},
   "source": [
    "where spots on are defined by a list of dictionaries for each spot. Each spot is defined by 4 parameters `longitude`, `latitude`, `angular_radius` and `temperature_factor` = $T_{spot}/T_{star}$. Discretization factor of the each spot can be specifyied with `discretization_factor` keyword, but by default they are set automatically based on discretization factor of the parent star or the size of the spot. Order in which the spots are defined is important in case of overlaping spots, since the spot defined later will lay on top of the overlapping counterpart (eg. `Spot 2` will lay on top of the `Spot 1`). "
   ]
  },
  {
   "cell_type": "markdown",
   "metadata": {},
   "source": [
    "## Generating a binary system"
   ]
  },
  {
   "cell_type": "markdown",
   "metadata": {},
   "source": [
    "The binary system and its components will be generated in very similar fashion to previous exercises with small addition to component arguments with spots:"
   ]
  },
  {
   "cell_type": "markdown",
   "metadata": {},
   "source": [
    "Now we can build a system in the same way as in the previous demo:"
   ]
  },
  {
   "cell_type": "code",
   "execution_count": 11,
   "metadata": {
    "pycharm": {
     "is_executing": false
    }
   },
   "outputs": [
    {
     "name": "stdout",
     "text": [
      "2020-08-11 11:32:03,963 - 10575 - binary_system.system - INFO: initialising object BinarySystem\n",
      "2020-08-11 11:32:04,067 - 10575 - binary_system.system - INFO: setting discretization factor of secondary component to 6.52 according to discretization factor of the primary component.\n"
     ],
     "output_type": "stream"
    }
   ],
   "source": [
    "primary = Star(\n",
    "    mass=2.15 * u.solMass,\n",
    "    surface_potential=3.6,\n",
    "    synchronicity=1.0,\n",
    "    t_eff=10000 * u.K,\n",
    "    gravity_darkening=1.0,\n",
    "    discretization_factor=4, \n",
    "    albedo=0.6,\n",
    "    metallicity=0.0,\n",
    "    spots = spots_primary  # here we specify the spots present on the primary component\n",
    ")\n",
    "\n",
    "secondary = Star(\n",
    "    mass=1.2 * u.solMass,\n",
    "    surface_potential=4.0,\n",
    "    synchronicity=1.0,\n",
    "    t_eff=7000 * u.K,\n",
    "    gravity_darkening=1.0,\n",
    "    # discretization_factor=20,\n",
    "    albedo=0.6,\n",
    "    metallicity=0,  # similarly, spots can be added to the secondary component as well\n",
    ")\n",
    "\n",
    "bs = BinarySystem(\n",
    "    primary=primary,\n",
    "    secondary=secondary,\n",
    "    argument_of_periastron=58 * u.deg,\n",
    "    gamma=-30.7 * u.km / u.s,\n",
    "    period=2.5 * u.d,\n",
    "    eccentricity=0.2,\n",
    "    inclination=85 * u.deg,\n",
    "    primary_minimum_time=2440000.0 * u.d,\n",
    "    phase_shift=0.0,\n",
    ")"
   ]
  },
  {
   "cell_type": "markdown",
   "metadata": {},
   "source": [
    "## Data access and visualization"
   ]
  },
  {
   "cell_type": "markdown",
   "metadata": {},
   "source": [
    "Initially, we will initialize orbital position container and calculate geometry of the components:"
   ]
  },
  {
   "cell_type": "code",
   "execution_count": 12,
   "metadata": {
    "pycharm": {
     "is_executing": false
    }
   },
   "outputs": [
    {
     "data": {
      "text/plain": "<elisa.binary_system.container.OrbitalPositionContainer at 0x7f234f4644a8>"
     },
     "metadata": {},
     "output_type": "execute_result",
     "execution_count": 12
    }
   ],
   "source": [
    "phase = 0.2\n",
    "\n",
    "position = bs.calculate_orbital_motion(phase)[0]  \n",
    "orbital_position_container = OrbitalPositionContainer.from_binary_system(bs, position)\n",
    "orbital_position_container.build()"
   ]
  },
  {
   "cell_type": "markdown",
   "metadata": {},
   "source": [
    "Similarly, points, faces and surface parameters for the spots are stored in separate subcontainers that are specified by the spot index which are given by the order in which the spots were specified:"
   ]
  },
  {
   "cell_type": "code",
   "execution_count": 13,
   "metadata": {
    "pycharm": {
     "is_executing": false
    }
   },
   "outputs": [
    {
     "data": {
      "text/plain": "array([[ 9.13002490e-02,  0.00000000e+00,  3.10940093e-01],\n       [ 2.15534527e-01,  3.83556286e-02,  2.46851766e-01],\n       [ 1.99094034e-01,  5.40265361e-18,  2.61483501e-01],\n       [ 2.03482288e-01, -2.20806816e-02,  2.57568691e-01],\n       [ 2.15534527e-01, -3.83556286e-02,  2.46851766e-01],\n       [ 2.54706430e-01,  5.79404439e-02,  2.07398256e-01],\n       [ 2.38198288e-01,  6.55930602e-02,  2.21841739e-01],\n       [ 2.20865473e-01,  6.53044026e-02,  2.37150041e-01],\n       [ 1.83334754e-01, -2.24823936e-02,  2.70690540e-01],\n       [ 1.91767345e-01, -4.23328233e-02,  2.63114835e-01],\n       [ 2.04768693e-01, -5.72058280e-02,  2.51477056e-01],\n       [ 2.20865473e-01, -6.53044026e-02,  2.37150041e-01],\n       [ 2.38198288e-01, -6.55930602e-02,  2.21841739e-01],\n       [ 2.54706430e-01, -5.79404439e-02,  2.07398256e-01],\n       [ 2.93782650e-01,  0.00000000e+00,  1.66698051e-01],\n       [ 2.91571965e-01,  2.23314457e-02,  1.68570403e-01],\n       [ 2.85113561e-01,  4.31689917e-02,  1.74063707e-01],\n       [ 2.74901141e-01,  6.11459010e-02,  1.82816362e-01],\n       [ 2.61679747e-01,  7.51245209e-02,  1.94256449e-01],\n       [ 2.46362658e-01,  8.42625472e-02,  2.07643525e-01],\n       [ 1.61618302e-01, -1.08868131e-02,  2.83492398e-01],\n       [ 1.65584214e-01, -3.20028619e-02,  2.79895100e-01],\n       [ 1.73289606e-01, -5.11823384e-02,  2.72915924e-01],\n       [ 1.84292597e-01, -6.72533579e-02,  2.62974937e-01],\n       [ 1.97957410e-01, -7.92178152e-02,  2.50675154e-01],\n       [ 2.13485463e-01, -8.63105615e-02,  2.36769952e-01],\n       [ 2.29954337e-01, -8.80478597e-02,  2.22120299e-01],\n       [ 2.46362658e-01, -8.42625472e-02,  2.07643525e-01],\n       [ 2.61679747e-01, -7.51245209e-02,  1.94256449e-01],\n       [ 2.74901141e-01, -6.11459010e-02,  1.82816362e-01],\n       [ 2.85113561e-01, -4.31689917e-02,  1.74063707e-01],\n       [ 2.91571965e-01, -2.23314457e-02,  1.68570403e-01],\n       [ 3.05831093e-01,  0.00000000e+00,  1.47280492e-01],\n       [ 3.04013998e-01,  2.25536048e-02,  1.48808144e-01],\n       [ 2.98663931e-01,  4.41024599e-02,  1.53323952e-01],\n       [ 2.90070509e-01,  6.37053870e-02,  1.60630332e-01],\n       [ 2.78675931e-01,  8.05362283e-02,  1.70410255e-01],\n       [ 2.65031101e-01,  9.39178167e-02,  1.82243856e-01],\n       [ 1.41671370e-01, -1.08801930e-02,  2.92983272e-01],\n       [ 1.44859860e-01, -3.22154081e-02,  2.90068380e-01],\n       [ 1.51119751e-01, -5.22899754e-02,  2.84350670e-01],\n       [ 1.60220483e-01, -7.03127249e-02,  2.76050967e-01],\n       [ 1.71825216e-01, -8.55653093e-02,  2.65492087e-01],\n       [ 1.85501468e-01, -9.74289774e-02,  2.53088424e-01],\n       [ 2.00734829e-01, -1.05408619e-01,  2.39331803e-01],\n       [ 2.16945152e-01, -1.09153053e-01,  2.24773695e-01],\n       [ 2.33504398e-01, -1.08470737e-01,  2.10004262e-01],\n       [ 2.49755366e-01, -1.03340543e-01,  1.95628980e-01],\n       [ 2.65031101e-01, -9.39178167e-02,  1.82243856e-01],\n       [ 2.78675931e-01, -8.05362283e-02,  1.70410255e-01],\n       [ 2.90070509e-01, -6.37053870e-02,  1.60630332e-01],\n       [ 2.98663931e-01, -4.41024599e-02,  1.53323952e-01],\n       [ 3.04013998e-01, -2.25536048e-02,  1.48808144e-01],\n       [ 3.16533400e-01,  0.00000000e+00,  1.26970665e-01],\n       [ 3.14990162e-01,  2.26401251e-02,  1.28260758e-01],\n       [ 3.10426612e-01,  4.45550103e-02,  1.32090095e-01],\n       [ 3.03032649e-01,  6.50566815e-02,  1.38337838e-01],\n       [ 2.93099771e-01,  8.35246355e-02,  1.46808846e-01],\n       [ 2.80993505e-01,  9.94256157e-02,  1.57241972e-01],\n       [ 2.67127958e-01,  1.12323966e-01,  1.69320088e-01],\n       [ 1.21276154e-01, -1.08285384e-02,  3.01201054e-01],\n       [ 1.23925596e-01, -3.21900430e-02,  2.98760988e-01],\n       [ 1.29156768e-01, -5.26719185e-02,  2.93945805e-01],\n       [ 1.36835667e-01, -7.17113116e-02,  2.86884203e-01],\n       [ 1.46764860e-01, -8.87804833e-02,  2.77766146e-01],\n       [ 1.58687784e-01, -1.03400291e-01,  2.66838997e-01],\n       [ 1.72294465e-01, -1.15152912e-01,  2.54402116e-01],\n       [ 1.87228496e-01, -1.23693404e-01,  2.40799867e-01],\n       [ 2.03095029e-01, -1.28759642e-01,  2.26413030e-01],\n       [ 2.19469380e-01, -1.30180280e-01,  2.11648793e-01],\n       [ 2.35905814e-01, -1.27880532e-01,  1.96929575e-01],\n       [ 2.51946121e-01, -1.21885859e-01,  1.82681099e-01],\n       [ 2.67127958e-01, -1.12323966e-01,  1.69320088e-01],\n       [ 2.80993505e-01, -9.94256157e-02,  1.57241972e-01],\n       [ 2.93099771e-01, -8.35246355e-02,  1.46808846e-01],\n       [ 3.03032649e-01, -6.50566815e-02,  1.38337838e-01],\n       [ 3.10426612e-01, -4.45550103e-02,  1.32090095e-01],\n       [ 3.14990162e-01, -2.26401251e-02,  1.28260758e-01],\n       [ 3.25769988e-01,  0.00000000e+00,  1.05849085e-01],\n       [ 3.24430149e-01,  2.26303617e-02,  1.06965493e-01],\n       [ 3.20457364e-01,  4.47108479e-02,  1.10287515e-01],\n       [ 3.13986010e-01,  6.57159282e-02,  1.15734785e-01],\n       [ 3.05222951e-01,  8.51641557e-02,  1.23177240e-01],\n       [ 2.94428336e-01,  1.02630944e-01,  1.32440128e-01],\n       [ 2.81897580e-01,  1.17754835e-01,  1.43309855e-01],\n       [ 2.67947445e-01,  1.30239420e-01,  1.55540136e-01],\n       [ 1.00488387e-01, -1.07466561e-02,  3.08139012e-01],\n       [ 1.02742341e-01, -3.20237316e-02,  3.06048576e-01],\n       [ 1.07207882e-01, -5.26558426e-02,  3.01908319e-01],\n       [ 1.13800907e-01, -7.22254944e-02,  2.95798989e-01],\n       [ 1.22396841e-01, -9.03338864e-02,  2.87840458e-01],\n       [ 1.32832582e-01, -1.06608290e-01,  2.78190135e-01],\n       [ 1.44909135e-01, -1.20709237e-01,  2.67040694e-01],\n       [ 1.58394931e-01, -1.32337345e-01,  2.54617060e-01],\n       [ 1.73029773e-01, -1.41239590e-01,  2.41172601e-01],\n       [ 1.88529288e-01, -1.47214767e-01,  2.26984507e-01],\n       [ 2.04589687e-01, -1.50117964e-01,  2.12348447e-01],\n       [ 2.20892583e-01, -1.49863898e-01,  1.97572601e-01],\n       [ 2.37109607e-01, -1.46429118e-01,  1.82971266e-01],\n       [ 2.52906611e-01, -1.39853223e-01,  1.68858237e-01],\n       [ 2.67947445e-01, -1.30239420e-01,  1.55540136e-01],\n       [ 2.81897580e-01, -1.17754835e-01,  1.43309855e-01],\n       [ 2.94428336e-01, -1.02630944e-01,  1.32440128e-01],\n       [ 3.05222951e-01, -8.51641557e-02,  1.23177240e-01],\n       [ 3.13986010e-01, -6.57159282e-02,  1.15734785e-01],\n       [ 3.20457364e-01, -4.47108479e-02,  1.10287515e-01],\n       [ 3.24430149e-01, -2.26303617e-02,  1.06965493e-01],\n       [ 1.09453940e-01,  6.18690532e-03,  3.05439995e-01],\n       [ 1.28167424e-01, -8.65326137e-04,  2.98770963e-01],\n       [ 1.47514437e-01, -2.94828690e-03,  2.90536365e-01],\n       [ 1.66306781e-01,  1.00504539e-04,  2.81238719e-01],\n       [ 1.83364854e-01,  8.13178646e-03,  2.71439408e-01],\n       [ 1.97585332e-01,  2.06812868e-02,  2.61728113e-01],\n       [ 2.08014944e-01,  3.69833951e-02,  2.52692562e-01],\n       [ 2.13928174e-01,  5.60076374e-02,  2.44889037e-01],\n       [ 2.19269959e-01,  8.28990800e-02,  2.33226163e-01],\n       [ 2.34503178e-01,  8.65924438e-02,  2.18458269e-01],\n       [ 2.46886728e-01,  9.47949276e-02,  2.02755019e-01],\n       [ 2.55549933e-01,  1.07012035e-01,  1.87079831e-01],\n       [ 2.59852960e-01,  1.22465698e-01,  1.72428813e-01],\n       [ 2.59465187e-01,  1.40146167e-01,  1.59765943e-01],\n       [ 2.85557562e-01,  0.00000000e+00,  1.78436169e-01],\n       [ 2.81102065e-01,  2.33964730e-02,  1.82972470e-01],\n       [ 2.69039912e-01,  4.03659110e-02,  1.95328422e-01],\n       [ 2.52795730e-01,  4.63786707e-02,  2.12120804e-01],\n       [ 2.36784348e-01,  3.99784444e-02,  2.28816503e-01],\n       [ 2.25192655e-01,  2.30069247e-02,  2.40978461e-01],\n       [ 2.20974862e-01,  5.62857079e-18,  2.45417447e-01],\n       [ 2.25192655e-01, -2.30069247e-02,  2.40978461e-01],\n       [ 2.36784348e-01, -3.99784444e-02,  2.28816503e-01],\n       [ 2.52795730e-01, -4.63786707e-02,  2.12120804e-01],\n       [ 2.69039912e-01, -4.03659110e-02,  1.95328422e-01],\n       [ 2.81102065e-01, -2.33964730e-02,  1.82972470e-01]])"
     },
     "metadata": {},
     "output_type": "execute_result",
     "execution_count": 13
    }
   ],
   "source": [
    "orbital_position_container.primary.spots[0].points  # this will return surface points of the Spot 1"
   ]
  },
  {
   "cell_type": "code",
   "execution_count": 14,
   "metadata": {
    "pycharm": {
     "is_executing": false
    }
   },
   "outputs": [
    {
     "data": {
      "text/plain": "array([[21, 36, 35],\n       [24, 39, 40],\n       [17, 30, 18],\n       [41, 42, 26],\n       [19, 33, 32],\n       [19,  9, 18],\n       [31, 30, 18],\n       [19, 18, 32],\n       [31, 18, 32],\n       [ 5,  1,  4],\n       [ 3,  1,  4],\n       [23, 12, 11],\n       [23, 12, 24],\n       [23, 39, 38],\n       [23, 24, 39],\n       [25, 24, 40],\n       [25, 41, 26],\n       [25, 41, 40],\n       [27, 28, 15],\n       [27, 44, 43],\n       [27, 44, 28],\n       [42, 26, 43],\n       [27, 26, 43],\n       [27, 14, 15],\n       [27, 14, 26],\n       [20, 19, 33],\n       [20, 33, 34],\n       [20,  9, 10],\n       [20, 19,  9],\n       [20, 21, 10],\n       [34, 21, 35],\n       [20, 34, 21],\n       [29, 16, 15],\n       [29, 28, 15],\n       [ 8,  9, 18],\n       [ 8,  3,  4],\n       [ 8,  9,  4],\n       [ 8, 17, 18],\n       [ 6,  5,  1],\n       [ 6, 14,  7],\n       [ 6,  7,  1],\n       [ 5, 10,  4],\n       [ 9, 10,  4],\n       [ 5, 11, 10],\n       [ 6, 12,  5],\n       [13, 25, 24],\n       [13, 14, 26],\n       [13, 25, 26],\n       [13, 12, 24],\n       [13,  6, 14],\n       [13,  6, 12],\n       [45, 44, 28],\n       [29, 28, 46],\n       [45, 28, 46],\n       [ 2,  3,  1],\n       [ 2,  7,  1],\n       [ 2,  7, 16],\n       [11, 21, 10],\n       [22, 11, 21],\n       [22, 23, 11],\n       [22, 21, 36],\n       [22, 37, 36],\n       [23, 38, 37],\n       [22, 23, 37],\n       [12,  5, 11],\n       [14,  7, 15],\n       [ 7, 16, 15],\n       [53,  0, 54],\n       [50,  3, 49],\n       [48, 30, 47],\n       [48, 17, 30],\n       [ 2, 50,  3],\n       [29,  0, 46],\n       [29, 53,  0],\n       [52, 29, 16],\n       [52, 29, 53],\n       [ 8,  3, 49],\n       [48, 17, 49],\n       [ 8, 17, 49],\n       [51,  2, 50],\n       [51, 52, 16],\n       [51,  2, 16]])"
     },
     "metadata": {},
     "output_type": "execute_result",
     "execution_count": 14
    }
   ],
   "source": [
    "orbital_position_container.primary.spots[1].faces  # this will return faces of the Spot 2"
   ]
  },
  {
   "cell_type": "code",
   "execution_count": 15,
   "metadata": {
    "pycharm": {
     "is_executing": false
    }
   },
   "outputs": [
    {
     "data": {
      "text/plain": "array([10232.24062463, 10221.6083162 , 10190.30029814, 10196.74159329,\n       10200.09463576, 10290.43728561, 10325.63052003, 10330.21994856,\n       10195.73924561, 10180.69665394, 10186.95591757, 10222.05429874,\n       10267.30257774, 10255.9947739 , 10234.79558427, 10221.73588415,\n       10140.08052404, 10269.17504712, 10255.83985763, 10214.75463509,\n       10223.48606477, 10231.16512879, 10182.40908421, 10187.18494705,\n       10298.19783998, 10309.10492135, 10299.14387308, 10300.40138585,\n       10288.17584775, 10246.49416078, 10258.70973553, 10272.44022581,\n       10283.50957971, 10157.78378014, 10254.8230082 , 10159.18341727,\n       10147.51123775, 10249.33733133, 10255.30871386, 10266.29979059,\n       10285.32803991, 10251.27892396, 10263.40727532, 10281.35856169,\n       10292.27698936, 10277.56111407, 10288.15385155, 10325.09767083,\n       10304.11542866, 10293.8134363 , 10303.5198624 , 10316.80964014,\n       10329.40756861, 10311.57168599, 10322.6145614 , 10345.7072079 ,\n       10232.4931636 , 10220.74763485, 10375.76260255, 10223.12956463,\n       10227.29496209, 10216.146328  , 10316.26782445, 10333.91512519,\n       10322.65558299, 10367.34594073, 10373.52545405, 10344.62651254,\n       10341.39310795, 10349.82232711, 10361.84418198, 10348.9517445 ,\n       10372.20397873, 10361.83342387, 10348.16022252, 10197.94771555,\n       10202.92951995, 10191.79438962, 10311.52233799, 10304.33031699,\n       10334.34809656, 10335.41399097, 10322.71480561, 10288.21495444,\n       10266.59868831, 10360.01201077, 10361.85137394, 10349.4642983 ,\n       10174.37190396, 10250.18205099, 10239.00828576, 10275.72135135,\n       10263.86647105, 10164.90110329, 10160.76656514, 10154.92577469,\n       10145.41932454])"
     },
     "metadata": {},
     "output_type": "execute_result",
     "execution_count": 15
    }
   ],
   "source": [
    "# this will return temperatures for each face inside the Spot 3\n",
    "orbital_position_container.primary.spots[2].temperatures"
   ]
  },
  {
   "cell_type": "markdown",
   "metadata": {},
   "source": [
    "Finally, lets visualize the surface in the form of 3D plot:"
   ]
  },
  {
   "cell_type": "code",
   "execution_count": 16,
   "metadata": {
    "pycharm": {
     "is_executing": false
    }
   },
   "outputs": [
    {
     "data": {
      "text/plain": "<IPython.core.display.Javascript object>",
      "application/javascript": "/* Put everything inside the global mpl namespace */\nwindow.mpl = {};\n\n\nmpl.get_websocket_type = function() {\n    if (typeof(WebSocket) !== 'undefined') {\n        return WebSocket;\n    } else if (typeof(MozWebSocket) !== 'undefined') {\n        return MozWebSocket;\n    } else {\n        alert('Your browser does not have WebSocket support.' +\n              'Please try Chrome, Safari or Firefox ≥ 6. ' +\n              'Firefox 4 and 5 are also supported but you ' +\n              'have to enable WebSockets in about:config.');\n    };\n}\n\nmpl.figure = function(figure_id, websocket, ondownload, parent_element) {\n    this.id = figure_id;\n\n    this.ws = websocket;\n\n    this.supports_binary = (this.ws.binaryType != undefined);\n\n    if (!this.supports_binary) {\n        var warnings = document.getElementById(\"mpl-warnings\");\n        if (warnings) {\n            warnings.style.display = 'block';\n            warnings.textContent = (\n                \"This browser does not support binary websocket messages. \" +\n                    \"Performance may be slow.\");\n        }\n    }\n\n    this.imageObj = new Image();\n\n    this.context = undefined;\n    this.message = undefined;\n    this.canvas = undefined;\n    this.rubberband_canvas = undefined;\n    this.rubberband_context = undefined;\n    this.format_dropdown = undefined;\n\n    this.image_mode = 'full';\n\n    this.root = $('<div/>');\n    this._root_extra_style(this.root)\n    this.root.attr('style', 'display: inline-block');\n\n    $(parent_element).append(this.root);\n\n    this._init_header(this);\n    this._init_canvas(this);\n    this._init_toolbar(this);\n\n    var fig = this;\n\n    this.waiting = false;\n\n    this.ws.onopen =  function () {\n            fig.send_message(\"supports_binary\", {value: fig.supports_binary});\n            fig.send_message(\"send_image_mode\", {});\n            if (mpl.ratio != 1) {\n                fig.send_message(\"set_dpi_ratio\", {'dpi_ratio': mpl.ratio});\n            }\n            fig.send_message(\"refresh\", {});\n        }\n\n    this.imageObj.onload = function() {\n            if (fig.image_mode == 'full') {\n                // Full images could contain transparency (where diff images\n                // almost always do), so we need to clear the canvas so that\n                // there is no ghosting.\n                fig.context.clearRect(0, 0, fig.canvas.width, fig.canvas.height);\n            }\n            fig.context.drawImage(fig.imageObj, 0, 0);\n        };\n\n    this.imageObj.onunload = function() {\n        fig.ws.close();\n    }\n\n    this.ws.onmessage = this._make_on_message_function(this);\n\n    this.ondownload = ondownload;\n}\n\nmpl.figure.prototype._init_header = function() {\n    var titlebar = $(\n        '<div class=\"ui-dialog-titlebar ui-widget-header ui-corner-all ' +\n        'ui-helper-clearfix\"/>');\n    var titletext = $(\n        '<div class=\"ui-dialog-title\" style=\"width: 100%; ' +\n        'text-align: center; padding: 3px;\"/>');\n    titlebar.append(titletext)\n    this.root.append(titlebar);\n    this.header = titletext[0];\n}\n\n\n\nmpl.figure.prototype._canvas_extra_style = function(canvas_div) {\n\n}\n\n\nmpl.figure.prototype._root_extra_style = function(canvas_div) {\n\n}\n\nmpl.figure.prototype._init_canvas = function() {\n    var fig = this;\n\n    var canvas_div = $('<div/>');\n\n    canvas_div.attr('style', 'position: relative; clear: both; outline: 0');\n\n    function canvas_keyboard_event(event) {\n        return fig.key_event(event, event['data']);\n    }\n\n    canvas_div.keydown('key_press', canvas_keyboard_event);\n    canvas_div.keyup('key_release', canvas_keyboard_event);\n    this.canvas_div = canvas_div\n    this._canvas_extra_style(canvas_div)\n    this.root.append(canvas_div);\n\n    var canvas = $('<canvas/>');\n    canvas.addClass('mpl-canvas');\n    canvas.attr('style', \"left: 0; top: 0; z-index: 0; outline: 0\")\n\n    this.canvas = canvas[0];\n    this.context = canvas[0].getContext(\"2d\");\n\n    var backingStore = this.context.backingStorePixelRatio ||\n\tthis.context.webkitBackingStorePixelRatio ||\n\tthis.context.mozBackingStorePixelRatio ||\n\tthis.context.msBackingStorePixelRatio ||\n\tthis.context.oBackingStorePixelRatio ||\n\tthis.context.backingStorePixelRatio || 1;\n\n    mpl.ratio = (window.devicePixelRatio || 1) / backingStore;\n\n    var rubberband = $('<canvas/>');\n    rubberband.attr('style', \"position: absolute; left: 0; top: 0; z-index: 1;\")\n\n    var pass_mouse_events = true;\n\n    canvas_div.resizable({\n        start: function(event, ui) {\n            pass_mouse_events = false;\n        },\n        resize: function(event, ui) {\n            fig.request_resize(ui.size.width, ui.size.height);\n        },\n        stop: function(event, ui) {\n            pass_mouse_events = true;\n            fig.request_resize(ui.size.width, ui.size.height);\n        },\n    });\n\n    function mouse_event_fn(event) {\n        if (pass_mouse_events)\n            return fig.mouse_event(event, event['data']);\n    }\n\n    rubberband.mousedown('button_press', mouse_event_fn);\n    rubberband.mouseup('button_release', mouse_event_fn);\n    // Throttle sequential mouse events to 1 every 20ms.\n    rubberband.mousemove('motion_notify', mouse_event_fn);\n\n    rubberband.mouseenter('figure_enter', mouse_event_fn);\n    rubberband.mouseleave('figure_leave', mouse_event_fn);\n\n    canvas_div.on(\"wheel\", function (event) {\n        event = event.originalEvent;\n        event['data'] = 'scroll'\n        if (event.deltaY < 0) {\n            event.step = 1;\n        } else {\n            event.step = -1;\n        }\n        mouse_event_fn(event);\n    });\n\n    canvas_div.append(canvas);\n    canvas_div.append(rubberband);\n\n    this.rubberband = rubberband;\n    this.rubberband_canvas = rubberband[0];\n    this.rubberband_context = rubberband[0].getContext(\"2d\");\n    this.rubberband_context.strokeStyle = \"#000000\";\n\n    this._resize_canvas = function(width, height) {\n        // Keep the size of the canvas, canvas container, and rubber band\n        // canvas in synch.\n        canvas_div.css('width', width)\n        canvas_div.css('height', height)\n\n        canvas.attr('width', width * mpl.ratio);\n        canvas.attr('height', height * mpl.ratio);\n        canvas.attr('style', 'width: ' + width + 'px; height: ' + height + 'px;');\n\n        rubberband.attr('width', width);\n        rubberband.attr('height', height);\n    }\n\n    // Set the figure to an initial 600x600px, this will subsequently be updated\n    // upon first draw.\n    this._resize_canvas(600, 600);\n\n    // Disable right mouse context menu.\n    $(this.rubberband_canvas).bind(\"contextmenu\",function(e){\n        return false;\n    });\n\n    function set_focus () {\n        canvas.focus();\n        canvas_div.focus();\n    }\n\n    window.setTimeout(set_focus, 100);\n}\n\nmpl.figure.prototype._init_toolbar = function() {\n    var fig = this;\n\n    var nav_element = $('<div/>')\n    nav_element.attr('style', 'width: 100%');\n    this.root.append(nav_element);\n\n    // Define a callback function for later on.\n    function toolbar_event(event) {\n        return fig.toolbar_button_onclick(event['data']);\n    }\n    function toolbar_mouse_event(event) {\n        return fig.toolbar_button_onmouseover(event['data']);\n    }\n\n    for(var toolbar_ind in mpl.toolbar_items) {\n        var name = mpl.toolbar_items[toolbar_ind][0];\n        var tooltip = mpl.toolbar_items[toolbar_ind][1];\n        var image = mpl.toolbar_items[toolbar_ind][2];\n        var method_name = mpl.toolbar_items[toolbar_ind][3];\n\n        if (!name) {\n            // put a spacer in here.\n            continue;\n        }\n        var button = $('<button/>');\n        button.addClass('ui-button ui-widget ui-state-default ui-corner-all ' +\n                        'ui-button-icon-only');\n        button.attr('role', 'button');\n        button.attr('aria-disabled', 'false');\n        button.click(method_name, toolbar_event);\n        button.mouseover(tooltip, toolbar_mouse_event);\n\n        var icon_img = $('<span/>');\n        icon_img.addClass('ui-button-icon-primary ui-icon');\n        icon_img.addClass(image);\n        icon_img.addClass('ui-corner-all');\n\n        var tooltip_span = $('<span/>');\n        tooltip_span.addClass('ui-button-text');\n        tooltip_span.html(tooltip);\n\n        button.append(icon_img);\n        button.append(tooltip_span);\n\n        nav_element.append(button);\n    }\n\n    var fmt_picker_span = $('<span/>');\n\n    var fmt_picker = $('<select/>');\n    fmt_picker.addClass('mpl-toolbar-option ui-widget ui-widget-content');\n    fmt_picker_span.append(fmt_picker);\n    nav_element.append(fmt_picker_span);\n    this.format_dropdown = fmt_picker[0];\n\n    for (var ind in mpl.extensions) {\n        var fmt = mpl.extensions[ind];\n        var option = $(\n            '<option/>', {selected: fmt === mpl.default_extension}).html(fmt);\n        fmt_picker.append(option)\n    }\n\n    // Add hover states to the ui-buttons\n    $( \".ui-button\" ).hover(\n        function() { $(this).addClass(\"ui-state-hover\");},\n        function() { $(this).removeClass(\"ui-state-hover\");}\n    );\n\n    var status_bar = $('<span class=\"mpl-message\"/>');\n    nav_element.append(status_bar);\n    this.message = status_bar[0];\n}\n\nmpl.figure.prototype.request_resize = function(x_pixels, y_pixels) {\n    // Request matplotlib to resize the figure. Matplotlib will then trigger a resize in the client,\n    // which will in turn request a refresh of the image.\n    this.send_message('resize', {'width': x_pixels, 'height': y_pixels});\n}\n\nmpl.figure.prototype.send_message = function(type, properties) {\n    properties['type'] = type;\n    properties['figure_id'] = this.id;\n    this.ws.send(JSON.stringify(properties));\n}\n\nmpl.figure.prototype.send_draw_message = function() {\n    if (!this.waiting) {\n        this.waiting = true;\n        this.ws.send(JSON.stringify({type: \"draw\", figure_id: this.id}));\n    }\n}\n\n\nmpl.figure.prototype.handle_save = function(fig, msg) {\n    var format_dropdown = fig.format_dropdown;\n    var format = format_dropdown.options[format_dropdown.selectedIndex].value;\n    fig.ondownload(fig, format);\n}\n\n\nmpl.figure.prototype.handle_resize = function(fig, msg) {\n    var size = msg['size'];\n    if (size[0] != fig.canvas.width || size[1] != fig.canvas.height) {\n        fig._resize_canvas(size[0], size[1]);\n        fig.send_message(\"refresh\", {});\n    };\n}\n\nmpl.figure.prototype.handle_rubberband = function(fig, msg) {\n    var x0 = msg['x0'] / mpl.ratio;\n    var y0 = (fig.canvas.height - msg['y0']) / mpl.ratio;\n    var x1 = msg['x1'] / mpl.ratio;\n    var y1 = (fig.canvas.height - msg['y1']) / mpl.ratio;\n    x0 = Math.floor(x0) + 0.5;\n    y0 = Math.floor(y0) + 0.5;\n    x1 = Math.floor(x1) + 0.5;\n    y1 = Math.floor(y1) + 0.5;\n    var min_x = Math.min(x0, x1);\n    var min_y = Math.min(y0, y1);\n    var width = Math.abs(x1 - x0);\n    var height = Math.abs(y1 - y0);\n\n    fig.rubberband_context.clearRect(\n        0, 0, fig.canvas.width, fig.canvas.height);\n\n    fig.rubberband_context.strokeRect(min_x, min_y, width, height);\n}\n\nmpl.figure.prototype.handle_figure_label = function(fig, msg) {\n    // Updates the figure title.\n    fig.header.textContent = msg['label'];\n}\n\nmpl.figure.prototype.handle_cursor = function(fig, msg) {\n    var cursor = msg['cursor'];\n    switch(cursor)\n    {\n    case 0:\n        cursor = 'pointer';\n        break;\n    case 1:\n        cursor = 'default';\n        break;\n    case 2:\n        cursor = 'crosshair';\n        break;\n    case 3:\n        cursor = 'move';\n        break;\n    }\n    fig.rubberband_canvas.style.cursor = cursor;\n}\n\nmpl.figure.prototype.handle_message = function(fig, msg) {\n    fig.message.textContent = msg['message'];\n}\n\nmpl.figure.prototype.handle_draw = function(fig, msg) {\n    // Request the server to send over a new figure.\n    fig.send_draw_message();\n}\n\nmpl.figure.prototype.handle_image_mode = function(fig, msg) {\n    fig.image_mode = msg['mode'];\n}\n\nmpl.figure.prototype.updated_canvas_event = function() {\n    // Called whenever the canvas gets updated.\n    this.send_message(\"ack\", {});\n}\n\n// A function to construct a web socket function for onmessage handling.\n// Called in the figure constructor.\nmpl.figure.prototype._make_on_message_function = function(fig) {\n    return function socket_on_message(evt) {\n        if (evt.data instanceof Blob) {\n            /* FIXME: We get \"Resource interpreted as Image but\n             * transferred with MIME type text/plain:\" errors on\n             * Chrome.  But how to set the MIME type?  It doesn't seem\n             * to be part of the websocket stream */\n            evt.data.type = \"image/png\";\n\n            /* Free the memory for the previous frames */\n            if (fig.imageObj.src) {\n                (window.URL || window.webkitURL).revokeObjectURL(\n                    fig.imageObj.src);\n            }\n\n            fig.imageObj.src = (window.URL || window.webkitURL).createObjectURL(\n                evt.data);\n            fig.updated_canvas_event();\n            fig.waiting = false;\n            return;\n        }\n        else if (typeof evt.data === 'string' && evt.data.slice(0, 21) == \"data:image/png;base64\") {\n            fig.imageObj.src = evt.data;\n            fig.updated_canvas_event();\n            fig.waiting = false;\n            return;\n        }\n\n        var msg = JSON.parse(evt.data);\n        var msg_type = msg['type'];\n\n        // Call the  \"handle_{type}\" callback, which takes\n        // the figure and JSON message as its only arguments.\n        try {\n            var callback = fig[\"handle_\" + msg_type];\n        } catch (e) {\n            console.log(\"No handler for the '\" + msg_type + \"' message type: \", msg);\n            return;\n        }\n\n        if (callback) {\n            try {\n                // console.log(\"Handling '\" + msg_type + \"' message: \", msg);\n                callback(fig, msg);\n            } catch (e) {\n                console.log(\"Exception inside the 'handler_\" + msg_type + \"' callback:\", e, e.stack, msg);\n            }\n        }\n    };\n}\n\n// from http://stackoverflow.com/questions/1114465/getting-mouse-location-in-canvas\nmpl.findpos = function(e) {\n    //this section is from http://www.quirksmode.org/js/events_properties.html\n    var targ;\n    if (!e)\n        e = window.event;\n    if (e.target)\n        targ = e.target;\n    else if (e.srcElement)\n        targ = e.srcElement;\n    if (targ.nodeType == 3) // defeat Safari bug\n        targ = targ.parentNode;\n\n    // jQuery normalizes the pageX and pageY\n    // pageX,Y are the mouse positions relative to the document\n    // offset() returns the position of the element relative to the document\n    var x = e.pageX - $(targ).offset().left;\n    var y = e.pageY - $(targ).offset().top;\n\n    return {\"x\": x, \"y\": y};\n};\n\n/*\n * return a copy of an object with only non-object keys\n * we need this to avoid circular references\n * http://stackoverflow.com/a/24161582/3208463\n */\nfunction simpleKeys (original) {\n  return Object.keys(original).reduce(function (obj, key) {\n    if (typeof original[key] !== 'object')\n        obj[key] = original[key]\n    return obj;\n  }, {});\n}\n\nmpl.figure.prototype.mouse_event = function(event, name) {\n    var canvas_pos = mpl.findpos(event)\n\n    if (name === 'button_press')\n    {\n        this.canvas.focus();\n        this.canvas_div.focus();\n    }\n\n    var x = canvas_pos.x * mpl.ratio;\n    var y = canvas_pos.y * mpl.ratio;\n\n    this.send_message(name, {x: x, y: y, button: event.button,\n                             step: event.step,\n                             guiEvent: simpleKeys(event)});\n\n    /* This prevents the web browser from automatically changing to\n     * the text insertion cursor when the button is pressed.  We want\n     * to control all of the cursor setting manually through the\n     * 'cursor' event from matplotlib */\n    event.preventDefault();\n    return false;\n}\n\nmpl.figure.prototype._key_event_extra = function(event, name) {\n    // Handle any extra behaviour associated with a key event\n}\n\nmpl.figure.prototype.key_event = function(event, name) {\n\n    // Prevent repeat events\n    if (name == 'key_press')\n    {\n        if (event.which === this._key)\n            return;\n        else\n            this._key = event.which;\n    }\n    if (name == 'key_release')\n        this._key = null;\n\n    var value = '';\n    if (event.ctrlKey && event.which != 17)\n        value += \"ctrl+\";\n    if (event.altKey && event.which != 18)\n        value += \"alt+\";\n    if (event.shiftKey && event.which != 16)\n        value += \"shift+\";\n\n    value += 'k';\n    value += event.which.toString();\n\n    this._key_event_extra(event, name);\n\n    this.send_message(name, {key: value,\n                             guiEvent: simpleKeys(event)});\n    return false;\n}\n\nmpl.figure.prototype.toolbar_button_onclick = function(name) {\n    if (name == 'download') {\n        this.handle_save(this, null);\n    } else {\n        this.send_message(\"toolbar_button\", {name: name});\n    }\n};\n\nmpl.figure.prototype.toolbar_button_onmouseover = function(tooltip) {\n    this.message.textContent = tooltip;\n};\nmpl.toolbar_items = [[\"Home\", \"Reset original view\", \"fa fa-home icon-home\", \"home\"], [\"Back\", \"Back to  previous view\", \"fa fa-arrow-left icon-arrow-left\", \"back\"], [\"Forward\", \"Forward to next view\", \"fa fa-arrow-right icon-arrow-right\", \"forward\"], [\"\", \"\", \"\", \"\"], [\"Pan\", \"Pan axes with left mouse, zoom with right\", \"fa fa-arrows icon-move\", \"pan\"], [\"Zoom\", \"Zoom to rectangle\", \"fa fa-square-o icon-check-empty\", \"zoom\"], [\"\", \"\", \"\", \"\"], [\"Download\", \"Download plot\", \"fa fa-floppy-o icon-save\", \"download\"]];\n\nmpl.extensions = [\"eps\", \"pdf\", \"png\", \"ps\", \"raw\", \"svg\"];\n\nmpl.default_extension = \"png\";var comm_websocket_adapter = function(comm) {\n    // Create a \"websocket\"-like object which calls the given IPython comm\n    // object with the appropriate methods. Currently this is a non binary\n    // socket, so there is still some room for performance tuning.\n    var ws = {};\n\n    ws.close = function() {\n        comm.close()\n    };\n    ws.send = function(m) {\n        //console.log('sending', m);\n        comm.send(m);\n    };\n    // Register the callback with on_msg.\n    comm.on_msg(function(msg) {\n        //console.log('receiving', msg['content']['data'], msg);\n        // Pass the mpl event to the overriden (by mpl) onmessage function.\n        ws.onmessage(msg['content']['data'])\n    });\n    return ws;\n}\n\nmpl.mpl_figure_comm = function(comm, msg) {\n    // This is the function which gets called when the mpl process\n    // starts-up an IPython Comm through the \"matplotlib\" channel.\n\n    var id = msg.content.data.id;\n    // Get hold of the div created by the display call when the Comm\n    // socket was opened in Python.\n    var element = $(\"#\" + id);\n    var ws_proxy = comm_websocket_adapter(comm)\n\n    function ondownload(figure, format) {\n        window.open(figure.imageObj.src);\n    }\n\n    var fig = new mpl.figure(id, ws_proxy,\n                           ondownload,\n                           element.get(0));\n\n    // Call onopen now - mpl needs it, as it is assuming we've passed it a real\n    // web socket which is closed, not our websocket->open comm proxy.\n    ws_proxy.onopen();\n\n    fig.parent_element = element.get(0);\n    fig.cell_info = mpl.find_output_cell(\"<div id='\" + id + \"'></div>\");\n    if (!fig.cell_info) {\n        console.error(\"Failed to find cell for figure\", id, fig);\n        return;\n    }\n\n    var output_index = fig.cell_info[2]\n    var cell = fig.cell_info[0];\n\n};\n\nmpl.figure.prototype.handle_close = function(fig, msg) {\n    var width = fig.canvas.width/mpl.ratio\n    fig.root.unbind('remove')\n\n    // Update the output cell to use the data from the current canvas.\n    fig.push_to_output();\n    var dataURL = fig.canvas.toDataURL();\n    // Re-enable the keyboard manager in IPython - without this line, in FF,\n    // the notebook keyboard shortcuts fail.\n    IPython.keyboard_manager.enable()\n    $(fig.parent_element).html('<img src=\"' + dataURL + '\" width=\"' + width + '\">');\n    fig.close_ws(fig, msg);\n}\n\nmpl.figure.prototype.close_ws = function(fig, msg){\n    fig.send_message('closing', msg);\n    // fig.ws.close()\n}\n\nmpl.figure.prototype.push_to_output = function(remove_interactive) {\n    // Turn the data on the canvas into data in the output cell.\n    var width = this.canvas.width/mpl.ratio\n    var dataURL = this.canvas.toDataURL();\n    this.cell_info[1]['text/html'] = '<img src=\"' + dataURL + '\" width=\"' + width + '\">';\n}\n\nmpl.figure.prototype.updated_canvas_event = function() {\n    // Tell IPython that the notebook contents must change.\n    IPython.notebook.set_dirty(true);\n    this.send_message(\"ack\", {});\n    var fig = this;\n    // Wait a second, then push the new image to the DOM so\n    // that it is saved nicely (might be nice to debounce this).\n    setTimeout(function () { fig.push_to_output() }, 1000);\n}\n\nmpl.figure.prototype._init_toolbar = function() {\n    var fig = this;\n\n    var nav_element = $('<div/>')\n    nav_element.attr('style', 'width: 100%');\n    this.root.append(nav_element);\n\n    // Define a callback function for later on.\n    function toolbar_event(event) {\n        return fig.toolbar_button_onclick(event['data']);\n    }\n    function toolbar_mouse_event(event) {\n        return fig.toolbar_button_onmouseover(event['data']);\n    }\n\n    for(var toolbar_ind in mpl.toolbar_items){\n        var name = mpl.toolbar_items[toolbar_ind][0];\n        var tooltip = mpl.toolbar_items[toolbar_ind][1];\n        var image = mpl.toolbar_items[toolbar_ind][2];\n        var method_name = mpl.toolbar_items[toolbar_ind][3];\n\n        if (!name) { continue; };\n\n        var button = $('<button class=\"btn btn-default\" href=\"#\" title=\"' + name + '\"><i class=\"fa ' + image + ' fa-lg\"></i></button>');\n        button.click(method_name, toolbar_event);\n        button.mouseover(tooltip, toolbar_mouse_event);\n        nav_element.append(button);\n    }\n\n    // Add the status bar.\n    var status_bar = $('<span class=\"mpl-message\" style=\"text-align:right; float: right;\"/>');\n    nav_element.append(status_bar);\n    this.message = status_bar[0];\n\n    // Add the close button to the window.\n    var buttongrp = $('<div class=\"btn-group inline pull-right\"></div>');\n    var button = $('<button class=\"btn btn-mini btn-primary\" href=\"#\" title=\"Stop Interaction\"><i class=\"fa fa-power-off icon-remove icon-large\"></i></button>');\n    button.click(function (evt) { fig.handle_close(fig, {}); } );\n    button.mouseover('Stop Interaction', toolbar_mouse_event);\n    buttongrp.append(button);\n    var titlebar = this.root.find($('.ui-dialog-titlebar'));\n    titlebar.prepend(buttongrp);\n}\n\nmpl.figure.prototype._root_extra_style = function(el){\n    var fig = this\n    el.on(\"remove\", function(){\n\tfig.close_ws(fig, {});\n    });\n}\n\nmpl.figure.prototype._canvas_extra_style = function(el){\n    // this is important to make the div 'focusable\n    el.attr('tabindex', 0)\n    // reach out to IPython and tell the keyboard manager to turn it's self\n    // off when our div gets focus\n\n    // location in version 3\n    if (IPython.notebook.keyboard_manager) {\n        IPython.notebook.keyboard_manager.register_events(el);\n    }\n    else {\n        // location in version 2\n        IPython.keyboard_manager.register_events(el);\n    }\n\n}\n\nmpl.figure.prototype._key_event_extra = function(event, name) {\n    var manager = IPython.notebook.keyboard_manager;\n    if (!manager)\n        manager = IPython.keyboard_manager;\n\n    // Check for shift+enter\n    if (event.shiftKey && event.which == 13) {\n        this.canvas_div.blur();\n        event.shiftKey = false;\n        // Send a \"J\" for go to next cell\n        event.which = 74;\n        event.keyCode = 74;\n        manager.command_mode();\n        manager.handle_keydown(event);\n    }\n}\n\nmpl.figure.prototype.handle_save = function(fig, msg) {\n    fig.ondownload(fig, null);\n}\n\n\nmpl.find_output_cell = function(html_output) {\n    // Return the cell and output element which can be found *uniquely* in the notebook.\n    // Note - this is a bit hacky, but it is done because the \"notebook_saving.Notebook\"\n    // IPython event is triggered only after the cells have been serialised, which for\n    // our purposes (turning an active figure into a static one), is too late.\n    var cells = IPython.notebook.get_cells();\n    var ncells = cells.length;\n    for (var i=0; i<ncells; i++) {\n        var cell = cells[i];\n        if (cell.cell_type === 'code'){\n            for (var j=0; j<cell.output_area.outputs.length; j++) {\n                var data = cell.output_area.outputs[j];\n                if (data.data) {\n                    // IPython >= 3 moved mimebundle to data attribute of output\n                    data = data.data;\n                }\n                if (data['text/html'] == html_output) {\n                    return [cell, data, j];\n                }\n            }\n        }\n    }\n}\n\n// Register the function which deals with the matplotlib target/channel.\n// The kernel may be null if the page has been refreshed.\nif (IPython.notebook.kernel != null) {\n    IPython.notebook.kernel.comm_manager.register_target('matplotlib', mpl.mpl_figure_comm);\n}\n"
     },
     "metadata": {},
     "output_type": "display_data"
    },
    {
     "data": {
      "text/plain": "<IPython.core.display.HTML object>",
      "text/html": "<div id='d091005b-9333-4ecf-8569-0f1086ed0fce'></div>"
     },
     "metadata": {},
     "output_type": "display_data"
    }
   ],
   "source": [
    "bs.plot.surface(phase=0.05,\n",
    "                components_to_plot='primary',\n",
    "                colormap='temperature',\n",
    "                axis_unit=u.solRad,\n",
    "                inclination=60,\n",
    "               )"
   ]
  },
  {
   "cell_type": "code",
   "execution_count": 16,
   "metadata": {
    "pycharm": {
     "is_executing": false
    }
   },
   "outputs": [],
   "source": []
  }
 ],
 "metadata": {
  "kernelspec": {
   "display_name": "Python 3",
   "language": "python",
   "name": "python3"
  },
  "language_info": {
   "codemirror_mode": {
    "name": "ipython",
    "version": 3
   },
   "file_extension": ".py",
   "mimetype": "text/x-python",
   "name": "python",
   "nbconvert_exporter": "python",
   "pygments_lexer": "ipython3",
   "version": "3.6.10"
  },
  "pycharm": {
   "stem_cell": {
    "cell_type": "raw",
    "source": [],
    "metadata": {
     "collapsed": false
    }
   }
  }
 },
 "nbformat": 4,
 "nbformat_minor": 1
}