{
 "cells": [
  {
   "cell_type": "code",
   "execution_count": 76,
   "metadata": {
    "ExecuteTime": {
     "end_time": "2020-10-07T11:25:41.126958Z",
     "start_time": "2020-10-07T11:25:41.086179Z"
    }
   },
   "outputs": [],
   "source": [
    "from classo.solve_R2 import pathlasso_R2, Classo_R2, problem_R2\n",
    "from classo.solve_R1 import pathlasso_R1, Classo_R1, problem_R1\n",
    "from classo import random_data\n",
    "import numpy as np\n",
    "\n",
    "m,d,d_nonzero,k,sigma =5,10,2,0,0.5\n",
    "matrices,sol = random_data(m,d,d_nonzero,k,sigma,zerosum=True,seed=5)"
   ]
  },
  {
   "cell_type": "code",
   "execution_count": 77,
   "metadata": {
    "ExecuteTime": {
     "end_time": "2020-10-07T11:25:41.300665Z",
     "start_time": "2020-10-07T11:25:41.288728Z"
    },
    "run_control": {
     "marked": true
    }
   },
   "outputs": [],
   "source": [
    "rho = 1.5 \n",
    "lambdas = np.linspace(1.,1e-1,80)\n",
    "pb = problem_R2(matrices,'DR',rho)\n",
    "\n",
    "r = pb.lambdamax/(2*rho)\n",
    "pb.compute_param()"
   ]
  },
  {
   "cell_type": "code",
   "execution_count": 78,
   "metadata": {
    "ExecuteTime": {
     "end_time": "2020-10-07T11:25:41.494960Z",
     "start_time": "2020-10-07T11:25:41.487003Z"
    }
   },
   "outputs": [],
   "source": [
    "pb.init_R1()\n",
    "pb.add_r(r=r)\n",
    "pb1 = pb.prob_R1"
   ]
  },
  {
   "cell_type": "code",
   "execution_count": 79,
   "metadata": {
    "ExecuteTime": {
     "end_time": "2020-10-07T11:25:41.679231Z",
     "start_time": "2020-10-07T11:25:41.673676Z"
    }
   },
   "outputs": [],
   "source": [
    "pb.init_R1(r=r)\n",
    "pb2 = pb.prob_R1"
   ]
  },
  {
   "cell_type": "code",
   "execution_count": 80,
   "metadata": {
    "ExecuteTime": {
     "end_time": "2020-10-07T11:25:41.873157Z",
     "start_time": "2020-10-07T11:25:41.850959Z"
    }
   },
   "outputs": [],
   "source": [
    "AtA1 = pb1.AtA\n",
    "beta1 = Classo_R1(pb1, 0.1)[:d]"
   ]
  },
  {
   "cell_type": "code",
   "execution_count": 85,
   "metadata": {
    "ExecuteTime": {
     "end_time": "2020-10-07T11:26:15.529085Z",
     "start_time": "2020-10-07T11:26:15.454623Z"
    }
   },
   "outputs": [
    {
     "name": "stdout",
     "output_type": "stream",
     "text": [
      "[[ 0.          0.          0.          0.          0.          0.\n",
      "   0.          0.          0.          0.         -1.33608919  3.61183279\n",
      "   2.96939704 -2.40145956  0.92615924]\n",
      " [ 0.          0.          0.          0.          0.          0.\n",
      "   0.          0.          0.          0.          1.00191408  0.62039039\n",
      "   2.59465303  1.91247384  1.44662742]\n",
      " [ 0.          0.          0.          0.          0.          0.\n",
      "   0.          0.          0.          0.         -7.36066361  1.08657663\n",
      "   2.64015363  0.01875892 -0.30504719]\n",
      " [ 0.          0.          0.          0.          0.          0.\n",
      "   0.          0.          0.          0.          0.76336488 -1.82738362\n",
      "   1.27940415  0.30604472 -1.07630987]\n",
      " [ 0.          0.          0.          0.          0.          0.\n",
      "   0.          0.          0.          0.         -0.33191161  5.04117722\n",
      "  -3.01733804  0.15839529 -0.81641836]\n",
      " [ 0.          0.          0.          0.          0.          0.\n",
      "   0.          0.          0.          0.         -4.79194061  2.12022521\n",
      "  -2.15729615 -0.75466064 -3.91221844]\n",
      " [ 0.          0.          0.          0.          0.          0.\n",
      "   0.          0.          0.          0.          2.75326362 -3.48654861\n",
      "  -0.17909579 -0.59853821 -3.45006574]\n",
      " [ 0.          0.          0.          0.          0.          0.\n",
      "   0.          0.          0.          0.          1.79154601 -5.62421869\n",
      "   1.10014845 -4.04207989 -1.4972242 ]\n",
      " [ 0.          0.          0.          0.          0.          0.\n",
      "   0.          0.          0.          0.         -0.56808483  4.57603103\n",
      "  -0.00995901  0.26306965  1.0184661 ]\n",
      " [ 0.          0.          0.          0.          0.          0.\n",
      "   0.          0.          0.          0.          0.99888538 -1.95267478\n",
      "   0.32076995 -4.72850509  0.30467218]\n",
      " [-1.33608919  1.00191408 -7.36066361  0.76336488 -0.33191161 -4.79194061\n",
      "   2.75326362  1.79154601 -0.56808483  0.99888538 -9.16950266  0.\n",
      "   0.          0.          0.        ]\n",
      " [ 3.61183279  0.62039039  1.08657663 -1.82738362  5.04117722  2.12022521\n",
      "  -3.48654861 -5.62421869  4.57603103 -1.95267478  0.         -9.16950266\n",
      "   0.          0.          0.        ]\n",
      " [ 2.96939704  2.59465303  2.64015363  1.27940415 -3.01733804 -2.15729615\n",
      "  -0.17909579  1.10014845 -0.00995901  0.32076995  0.          0.\n",
      "  -9.16950266  0.          0.        ]\n",
      " [-2.40145956  1.91247384  0.01875892  0.30604472  0.15839529 -0.75466064\n",
      "  -0.59853821 -4.04207989  0.26306965 -4.72850509  0.          0.\n",
      "   0.         -9.16950266  0.        ]\n",
      " [ 0.92615924  1.44662742 -0.30504719 -1.07630987 -0.81641836 -3.91221844\n",
      "  -3.45006574 -1.4972242   1.0184661   0.30467218  0.          0.\n",
      "   0.          0.         -9.16950266]]\n"
     ]
    }
   ],
   "source": [
    "print(pb1.AtA-AtA1)"
   ]
  },
  {
   "cell_type": "code",
   "execution_count": null,
   "metadata": {},
   "outputs": [],
   "source": []
  }
 ],
 "metadata": {
  "kernelspec": {
   "display_name": "Python 3",
   "language": "python",
   "name": "python3"
  },
  "language_info": {
   "codemirror_mode": {
    "name": "ipython",
    "version": 3
   },
   "file_extension": ".py",
   "mimetype": "text/x-python",
   "name": "python",
   "nbconvert_exporter": "python",
   "pygments_lexer": "ipython3",
   "version": "3.6.8"
  },
  "toc": {
   "base_numbering": 1,
   "nav_menu": {},
   "number_sections": true,
   "sideBar": true,
   "skip_h1_title": false,
   "title_cell": "Table of Contents",
   "title_sidebar": "Contents",
   "toc_cell": false,
   "toc_position": {},
   "toc_section_display": true,
   "toc_window_display": false
  }
 },
 "nbformat": 4,
 "nbformat_minor": 4
}
