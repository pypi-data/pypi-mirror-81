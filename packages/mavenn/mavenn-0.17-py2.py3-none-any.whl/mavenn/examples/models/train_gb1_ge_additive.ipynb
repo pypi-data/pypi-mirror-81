{
 "cells": [
  {
   "cell_type": "code",
   "execution_count": 1,
   "metadata": {},
   "outputs": [
    {
     "name": "stdout",
     "output_type": "stream",
     "text": [
      "['/Users/jkinney/github/mavenn/mavenn']\n"
     ]
    }
   ],
   "source": [
    "# Standard imports\n",
    "import pandas as pd\n",
    "import matplotlib.pyplot as plt\n",
    "import numpy as np\n",
    "\n",
    "# Insert path to mavenn beginning of path\n",
    "import os\n",
    "import sys\n",
    "abs_path_to_mavenn = os.path.abspath('../../../')\n",
    "sys.path.insert(0, abs_path_to_mavenn)\n",
    "\n",
    "# Load mavenn\n",
    "import mavenn\n",
    "print(mavenn.__path__)"
   ]
  },
  {
   "cell_type": "code",
   "execution_count": 2,
   "metadata": {},
   "outputs": [
    {
     "data": {
      "text/html": [
       "<div>\n",
       "<style scoped>\n",
       "    .dataframe tbody tr th:only-of-type {\n",
       "        vertical-align: middle;\n",
       "    }\n",
       "\n",
       "    .dataframe tbody tr th {\n",
       "        vertical-align: top;\n",
       "    }\n",
       "\n",
       "    .dataframe thead th {\n",
       "        text-align: right;\n",
       "    }\n",
       "</style>\n",
       "<table border=\"1\" class=\"dataframe\">\n",
       "  <thead>\n",
       "    <tr style=\"text-align: right;\">\n",
       "      <th></th>\n",
       "      <th>input_ct</th>\n",
       "      <th>selected_ct</th>\n",
       "      <th>hamming_dist</th>\n",
       "      <th>training_set</th>\n",
       "      <th>y</th>\n",
       "      <th>dy</th>\n",
       "      <th>x</th>\n",
       "    </tr>\n",
       "  </thead>\n",
       "  <tbody>\n",
       "    <tr>\n",
       "      <th>0</th>\n",
       "      <td>1759616.0</td>\n",
       "      <td>3041819.0</td>\n",
       "      <td>0</td>\n",
       "      <td>True</td>\n",
       "      <td>0.000000</td>\n",
       "      <td>0.001366</td>\n",
       "      <td>QYKLILNGKTLKGETTTEAVDAATAEKVFKQYANDNGVDGEWTYDD...</td>\n",
       "    </tr>\n",
       "    <tr>\n",
       "      <th>1</th>\n",
       "      <td>14663.0</td>\n",
       "      <td>38476.0</td>\n",
       "      <td>1</td>\n",
       "      <td>True</td>\n",
       "      <td>0.602044</td>\n",
       "      <td>0.014001</td>\n",
       "      <td>AYKLILNGKTLKGETTTEAVDAATAEKVFKQYANDNGVDGEWTYDD...</td>\n",
       "    </tr>\n",
       "    <tr>\n",
       "      <th>2</th>\n",
       "      <td>13001.0</td>\n",
       "      <td>23023.0</td>\n",
       "      <td>1</td>\n",
       "      <td>True</td>\n",
       "      <td>0.034732</td>\n",
       "      <td>0.015827</td>\n",
       "      <td>CYKLILNGKTLKGETTTEAVDAATAEKVFKQYANDNGVDGEWTYDD...</td>\n",
       "    </tr>\n",
       "    <tr>\n",
       "      <th>3</th>\n",
       "      <td>11488.0</td>\n",
       "      <td>18085.0</td>\n",
       "      <td>1</td>\n",
       "      <td>True</td>\n",
       "      <td>-0.135053</td>\n",
       "      <td>0.017212</td>\n",
       "      <td>DYKLILNGKTLKGETTTEAVDAATAEKVFKQYANDNGVDGEWTYDD...</td>\n",
       "    </tr>\n",
       "    <tr>\n",
       "      <th>4</th>\n",
       "      <td>9501.0</td>\n",
       "      <td>15629.0</td>\n",
       "      <td>1</td>\n",
       "      <td>True</td>\n",
       "      <td>-0.071659</td>\n",
       "      <td>0.018767</td>\n",
       "      <td>EYKLILNGKTLKGETTTEAVDAATAEKVFKQYANDNGVDGEWTYDD...</td>\n",
       "    </tr>\n",
       "  </tbody>\n",
       "</table>\n",
       "</div>"
      ],
      "text/plain": [
       "    input_ct  selected_ct  hamming_dist  training_set         y        dy  \\\n",
       "0  1759616.0    3041819.0             0          True  0.000000  0.001366   \n",
       "1    14663.0      38476.0             1          True  0.602044  0.014001   \n",
       "2    13001.0      23023.0             1          True  0.034732  0.015827   \n",
       "3    11488.0      18085.0             1          True -0.135053  0.017212   \n",
       "4     9501.0      15629.0             1          True -0.071659  0.018767   \n",
       "\n",
       "                                                   x  \n",
       "0  QYKLILNGKTLKGETTTEAVDAATAEKVFKQYANDNGVDGEWTYDD...  \n",
       "1  AYKLILNGKTLKGETTTEAVDAATAEKVFKQYANDNGVDGEWTYDD...  \n",
       "2  CYKLILNGKTLKGETTTEAVDAATAEKVFKQYANDNGVDGEWTYDD...  \n",
       "3  DYKLILNGKTLKGETTTEAVDAATAEKVFKQYANDNGVDGEWTYDD...  \n",
       "4  EYKLILNGKTLKGETTTEAVDAATAEKVFKQYANDNGVDGEWTYDD...  "
      ]
     },
     "execution_count": 2,
     "metadata": {},
     "output_type": "execute_result"
    }
   ],
   "source": [
    "# Load example data\n",
    "data_df = mavenn.load_example_dataset('gb1')\n",
    "data_df.head()"
   ]
  },
  {
   "cell_type": "code",
   "execution_count": 3,
   "metadata": {},
   "outputs": [
    {
     "name": "stdout",
     "output_type": "stream",
     "text": [
      "training N: 429,674\n",
      "testing N: 107,289\n"
     ]
    }
   ],
   "source": [
    "# Split into trianing and test data\n",
    "ix = data_df['training_set']\n",
    "L = len(data_df['x'][0])\n",
    "train_df = data_df[ix]\n",
    "print(f'training N: {len(train_df):,}')\n",
    "test_df = data_df[~ix]\n",
    "print(f'testing N: {len(test_df):,}')"
   ]
  },
  {
   "cell_type": "code",
   "execution_count": 4,
   "metadata": {},
   "outputs": [],
   "source": [
    "# Set seeed\n",
    "mavenn.set_seed(0)\n",
    "\n",
    "# Define model\n",
    "model = mavenn.Model(regression_type='GE',\n",
    "                     L=L,\n",
    "                     alphabet='protein',\n",
    "                     gpmap_type='additive',                     \n",
    "                     ge_noise_model_type='SkewedT',\n",
    "                     ge_heteroskedasticity_order=2)"
   ]
  },
  {
   "cell_type": "code",
   "execution_count": 5,
   "metadata": {},
   "outputs": [
    {
     "name": "stdout",
     "output_type": "stream",
     "text": [
      "N = 429,674 observations set as training data.\n",
      "Data shuffled.\n",
      "Time to set data: 16.9 sec.\n"
     ]
    }
   ],
   "source": [
    "# Set training data\n",
    "model.set_data(x=train_df['x'],\n",
    "               y=train_df['y'])"
   ]
  },
  {
   "cell_type": "code",
   "execution_count": 6,
   "metadata": {},
   "outputs": [
    {
     "name": "stdout",
     "output_type": "stream",
     "text": [
      " \n",
      "LSMR            Least-squares solution of  Ax = b\n",
      "\n",
      "The matrix A has   429674 rows  and     1100 cols\n",
      "damp = 0.00000000000000e+00\n",
      "\n",
      "atol = 1.00e-06                 conlim = 1.00e+08\n",
      "\n",
      "btol = 1.00e-06             maxiter =     1100\n",
      "\n",
      " \n",
      "   itn      x(1)       norm r    norm Ar  compatible   LS      norm A   cond A\n",
      "     0  0.00000e+00  6.555e+02  6.819e+04   1.0e+00  1.6e-01\n",
      "     1  1.35584e-02  4.784e+02  5.099e+04   7.3e-01  8.4e-01  1.3e+02  1.0e+00\n",
      "     2  3.03543e-02  3.705e+02  8.062e+03   5.7e-01  4.7e-03  4.7e+03  1.6e+01\n",
      "     3  5.05346e-02  2.596e+02  4.464e+03   4.0e-01  3.7e-03  4.7e+03  1.1e+02\n",
      "     4  6.00529e-02  2.415e+02  1.645e+02   3.7e-01  1.5e-04  4.7e+03  9.0e+01\n",
      "     5  6.00044e-02  2.415e+02  1.627e+02   3.7e-01  1.4e-04  4.7e+03  9.0e+01\n",
      "     6  5.96612e-02  2.415e+02  1.486e+02   3.7e-01  9.5e-05  6.5e+03  9.0e+01\n",
      "     7  5.60233e-02  2.415e+02  1.438e+01   3.7e-01  9.0e-06  6.6e+03  9.0e+01\n",
      "     8  5.59991e-02  2.415e+02  1.375e+01   3.7e-01  8.6e-06  6.6e+03  9.0e+01\n",
      "     9  5.56915e-02  2.415e+02  1.338e+01   3.7e-01  8.4e-06  6.6e+03  4.2e+02\n",
      "    10  5.56145e-02  2.415e+02  1.329e+01   3.7e-01  7.9e-06  7.0e+03  9.6e+01\n",
      "    17 -4.18006e-01  2.410e+02  1.008e+00   3.7e-01  4.5e-07  9.4e+03  7.4e+02\n",
      " \n",
      "LSMR finished\n",
      "The least-squares solution is good enough, given atol     \n",
      "istop =       2    normr = 2.4e+02\n",
      "    normA = 9.4e+03    normAr = 1.0e+00\n",
      "itn   =      17    condA = 7.4e+02\n",
      "    normx = 1.9e+01\n",
      "    17 -4.18006e-01   2.410e+02  1.008e+00\n",
      "   3.7e-01  4.5e-07   9.4e+03  7.4e+02\n",
      "Linear regression time: 9.5520 sec\n",
      "Epoch 1/1000\n",
      "344/344 [==============================] - 3s 10ms/step - loss: 124.0728 - I_like: 1.6129 - val_loss: -86.7128 - val_I_like: 1.9152\n",
      "Epoch 2/1000\n",
      "344/344 [==============================] - 3s 9ms/step - loss: -178.2519 - I_like: 2.0464 - val_loss: -214.6512 - val_I_like: 2.0984\n",
      "Epoch 3/1000\n",
      "344/344 [==============================] - 3s 9ms/step - loss: -207.3500 - I_like: 2.0872 - val_loss: -212.1326 - val_I_like: 2.0938\n",
      "Epoch 4/1000\n",
      "344/344 [==============================] - 3s 8ms/step - loss: -204.4307 - I_like: 2.0822 - val_loss: -195.6271 - val_I_like: 2.0693\n",
      "Epoch 5/1000\n",
      "344/344 [==============================] - 3s 8ms/step - loss: -210.1675 - I_like: 2.0895 - val_loss: -216.1634 - val_I_like: 2.0981\n",
      "Epoch 6/1000\n",
      "344/344 [==============================] - 3s 9ms/step - loss: -204.8088 - I_like: 2.0809 - val_loss: -223.9328 - val_I_like: 2.1084\n",
      "Epoch 7/1000\n",
      "344/344 [==============================] - 3s 8ms/step - loss: -214.6870 - I_like: 2.0943 - val_loss: -226.5365 - val_I_like: 2.1111\n",
      "Epoch 8/1000\n",
      "344/344 [==============================] - 3s 8ms/step - loss: -213.1591 - I_like: 2.0909 - val_loss: -176.7038 - val_I_like: 2.0381\n",
      "Epoch 9/1000\n",
      "344/344 [==============================] - 3s 8ms/step - loss: -210.7478 - I_like: 2.0868 - val_loss: -211.2405 - val_I_like: 2.0874\n",
      "Epoch 10/1000\n",
      "344/344 [==============================] - 3s 10ms/step - loss: -209.1026 - I_like: 2.0837 - val_loss: -124.5690 - val_I_like: 1.9616\n",
      "Epoch 11/1000\n",
      "344/344 [==============================] - 3s 8ms/step - loss: -217.7132 - I_like: 2.0954 - val_loss: -189.0979 - val_I_like: 2.0539\n",
      "Epoch 12/1000\n",
      "344/344 [==============================] - 3s 9ms/step - loss: -214.5360 - I_like: 2.0900 - val_loss: -225.3651 - val_I_like: 2.1056\n",
      "Epoch 13/1000\n",
      "344/344 [==============================] - 3s 9ms/step - loss: -215.7897 - I_like: 2.0913 - val_loss: -225.6667 - val_I_like: 2.1053\n",
      "Epoch 14/1000\n",
      "344/344 [==============================] - 3s 9ms/step - loss: -216.3844 - I_like: 2.0913 - val_loss: -226.6147 - val_I_like: 2.1060\n",
      "Epoch 15/1000\n",
      "344/344 [==============================] - 3s 9ms/step - loss: -217.3018 - I_like: 2.0918 - val_loss: -226.7983 - val_I_like: 2.1054\n",
      "Epoch 16/1000\n",
      "344/344 [==============================] - 3s 9ms/step - loss: -216.5856 - I_like: 2.0905 - val_loss: -215.9465 - val_I_like: 2.0894\n",
      "Epoch 17/1000\n",
      "344/344 [==============================] - 4s 10ms/step - loss: -216.0850 - I_like: 2.0890 - val_loss: -134.0133 - val_I_like: 1.9706\n",
      "Epoch 18/1000\n",
      "344/344 [==============================] - 3s 9ms/step - loss: -213.8692 - I_like: 2.0854 - val_loss: -215.2856 - val_I_like: 2.0877\n",
      "Epoch 19/1000\n",
      "344/344 [==============================] - 3s 10ms/step - loss: -220.3991 - I_like: 2.0946 - val_loss: -213.0840 - val_I_like: 2.0838\n",
      "Epoch 20/1000\n",
      "344/344 [==============================] - 5s 14ms/step - loss: -219.1687 - I_like: 2.0921 - val_loss: -220.7501 - val_I_like: 2.0944\n",
      "Epoch 21/1000\n",
      "344/344 [==============================] - 5s 14ms/step - loss: -215.5046 - I_like: 2.0866 - val_loss: -229.7050 - val_I_like: 2.1070\n",
      "Epoch 22/1000\n",
      "344/344 [==============================] - 4s 13ms/step - loss: -219.8038 - I_like: 2.0924 - val_loss: -228.5829 - val_I_like: 2.1050\n",
      "Epoch 23/1000\n",
      "344/344 [==============================] - 5s 16ms/step - loss: -223.7380 - I_like: 2.0975 - val_loss: -228.7954 - val_I_like: 2.1046\n",
      "Epoch 24/1000\n",
      "344/344 [==============================] - 5s 15ms/step - loss: -218.9778 - I_like: 2.0904 - val_loss: -227.5772 - val_I_like: 2.1026\n",
      "Epoch 25/1000\n",
      "344/344 [==============================] - 4s 11ms/step - loss: -216.3735 - I_like: 2.0861 - val_loss: -190.5185 - val_I_like: 2.0488\n",
      "Epoch 26/1000\n",
      "344/344 [==============================] - 5s 13ms/step - loss: -221.0374 - I_like: 2.0925 - val_loss: -215.0772 - val_I_like: 2.0839\n",
      "Epoch 27/1000\n",
      "344/344 [==============================] - 7s 20ms/step - loss: -222.3020 - I_like: 2.0940 - val_loss: -230.6154 - val_I_like: 2.1060\n",
      "Epoch 28/1000\n",
      "344/344 [==============================] - 6s 17ms/step - loss: -220.7057 - I_like: 2.0914 - val_loss: -230.8939 - val_I_like: 2.1061\n",
      "Epoch 29/1000\n",
      "344/344 [==============================] - 4s 11ms/step - loss: -220.3400 - I_like: 2.0905 - val_loss: -197.0365 - val_I_like: 2.0570\n",
      "Epoch 30/1000\n",
      "344/344 [==============================] - 3s 9ms/step - loss: -217.6445 - I_like: 2.0866 - val_loss: -219.3991 - val_I_like: 2.0891\n",
      "Epoch 31/1000\n",
      "344/344 [==============================] - 3s 9ms/step - loss: -221.9308 - I_like: 2.0924 - val_loss: -220.2825 - val_I_like: 2.0902\n",
      "Epoch 32/1000\n",
      "344/344 [==============================] - 3s 9ms/step - loss: -220.9382 - I_like: 2.0906 - val_loss: -224.4762 - val_I_like: 2.0957\n",
      "Epoch 33/1000\n",
      "344/344 [==============================] - 3s 9ms/step - loss: -223.3329 - I_like: 2.0940 - val_loss: -228.4416 - val_I_like: 2.1012\n",
      "Epoch 34/1000\n",
      "344/344 [==============================] - 3s 10ms/step - loss: -223.2624 - I_like: 2.0935 - val_loss: -226.2816 - val_I_like: 2.0979\n",
      "Epoch 35/1000\n",
      "344/344 [==============================] - 4s 11ms/step - loss: -219.5452 - I_like: 2.0877 - val_loss: -227.4295 - val_I_like: 2.0991\n",
      "Epoch 36/1000\n",
      "344/344 [==============================] - 4s 12ms/step - loss: -219.2192 - I_like: 2.0871 - val_loss: -229.3674 - val_I_like: 2.1020\n",
      "Epoch 37/1000\n",
      "344/344 [==============================] - 5s 13ms/step - loss: -221.4231 - I_like: 2.0903 - val_loss: -228.9516 - val_I_like: 2.1011\n",
      "Epoch 38/1000\n",
      "344/344 [==============================] - 4s 12ms/step - loss: -218.0293 - I_like: 2.0850 - val_loss: -231.8154 - val_I_like: 2.1053\n",
      "Epoch 39/1000\n",
      "344/344 [==============================] - 4s 12ms/step - loss: -222.9551 - I_like: 2.0923 - val_loss: -231.9490 - val_I_like: 2.1053\n",
      "Epoch 40/1000\n",
      "344/344 [==============================] - 4s 11ms/step - loss: -222.9440 - I_like: 2.0918 - val_loss: -169.3833 - val_I_like: 2.0146\n",
      "Epoch 41/1000\n",
      "344/344 [==============================] - 3s 9ms/step - loss: -225.7575 - I_like: 2.0959 - val_loss: -231.3794 - val_I_like: 2.1039\n",
      "Epoch 42/1000\n",
      "344/344 [==============================] - 3s 8ms/step - loss: -222.0245 - I_like: 2.0901 - val_loss: -234.0211 - val_I_like: 2.1075\n",
      "Epoch 43/1000\n",
      "344/344 [==============================] - 3s 9ms/step - loss: -227.0582 - I_like: 2.0971 - val_loss: -219.4104 - val_I_like: 2.0861\n",
      "Epoch 44/1000\n",
      "344/344 [==============================] - 3s 9ms/step - loss: -223.5733 - I_like: 2.0918 - val_loss: -195.1503 - val_I_like: 2.0510\n",
      "Epoch 45/1000\n",
      "344/344 [==============================] - 3s 10ms/step - loss: -224.0808 - I_like: 2.0926 - val_loss: -221.8939 - val_I_like: 2.0893\n",
      "Epoch 46/1000\n"
     ]
    },
    {
     "name": "stdout",
     "output_type": "stream",
     "text": [
      "344/344 [==============================] - 4s 10ms/step - loss: -221.2598 - I_like: 2.0883 - val_loss: -188.9211 - val_I_like: 2.0418\n",
      "Epoch 47/1000\n",
      "344/344 [==============================] - 4s 11ms/step - loss: -224.8747 - I_like: 2.0934 - val_loss: -232.6810 - val_I_like: 2.1047\n",
      "Epoch 48/1000\n",
      "344/344 [==============================] - 3s 9ms/step - loss: -220.3581 - I_like: 2.0868 - val_loss: -227.6960 - val_I_like: 2.0974\n",
      "Epoch 49/1000\n",
      "344/344 [==============================] - 3s 9ms/step - loss: -224.9093 - I_like: 2.0933 - val_loss: -233.4326 - val_I_like: 2.1056\n",
      "Epoch 50/1000\n",
      "344/344 [==============================] - 3s 9ms/step - loss: -225.4677 - I_like: 2.0938 - val_loss: -161.1353 - val_I_like: 2.0010\n",
      "Epoch 51/1000\n",
      "344/344 [==============================] - 3s 9ms/step - loss: -223.0366 - I_like: 2.0903 - val_loss: -216.9480 - val_I_like: 2.0818\n",
      "Epoch 52/1000\n",
      "344/344 [==============================] - 3s 9ms/step - loss: -227.3748 - I_like: 2.0964 - val_loss: -217.0418 - val_I_like: 2.0816\n",
      "Training time: 205.9 seconds\n"
     ]
    }
   ],
   "source": [
    "# Fit model to data\n",
    "history = model.fit(learning_rate=.005,\n",
    "                    epochs=1000,\n",
    "                    batch_size=1000,\n",
    "                    early_stopping=True,\n",
    "                    early_stopping_patience=10)"
   ]
  },
  {
   "cell_type": "code",
   "execution_count": 7,
   "metadata": {},
   "outputs": [
    {
     "name": "stdout",
     "output_type": "stream",
     "text": [
      "Model saved to these files:\n",
      "\tgb1_ge_additive.pickle\n",
      "\tgb1_ge_additive.h5\n"
     ]
    }
   ],
   "source": [
    "# Save model\n",
    "model.save('gb1_ge_additive')"
   ]
  },
  {
   "cell_type": "code",
   "execution_count": 8,
   "metadata": {},
   "outputs": [
    {
     "name": "stdout",
     "output_type": "stream",
     "text": [
      "Model loaded from these files:\n",
      "\tgb1_ge_additive.pickle\n",
      "\tgb1_ge_additive.h5\n"
     ]
    }
   ],
   "source": [
    "# Load model\n",
    "model = mavenn.load('gb1_ge_additive')"
   ]
  },
  {
   "cell_type": "code",
   "execution_count": 9,
   "metadata": {},
   "outputs": [],
   "source": [
    "# Subsample indices for easy plotting and information estimation\n",
    "N_test = len(test_df)\n",
    "ix = np.random.rand(N_test) < .1\n",
    "\n",
    "# Get x and y\n",
    "x = test_df['x'].values[ix]\n",
    "y = test_df['y'].values[ix]"
   ]
  },
  {
   "cell_type": "code",
   "execution_count": 10,
   "metadata": {},
   "outputs": [
    {
     "name": "stdout",
     "output_type": "stream",
     "text": [
      "On test data:\n",
      "I_like_test: 2.094 +- 0.018 bits\n",
      "I_pred_test: 2.195 +- 0.013 bits\n"
     ]
    },
    {
     "data": {
      "image/png": "[encoded data removed]",
      "text/plain": [
       "<Figure size 288x288 with 1 Axes>"
      ]
     },
     "metadata": {
      "needs_background": "light"
     },
     "output_type": "display_data"
    }
   ],
   "source": [
    "# Show training history\n",
    "print('On test data:')\n",
    "\n",
    "# Compute likelihood information\n",
    "I_like, dI_like =  model.I_likelihood(x=x, y=y)\n",
    "print(f'I_like_test: {I_like:.3f} +- {dI_like:.3f} bits') \n",
    "\n",
    "# Compute predictive information\n",
    "I_pred, dI_pred = model.I_predictive(x=x, y=y)\n",
    "print(f'I_pred_test: {I_pred:.3f} +- {dI_pred:.3f} bits')\n",
    "\n",
    "I_like_hist = model.history['I_like']\n",
    "val_I_like_hist = model.history['val_I_like']\n",
    "\n",
    "fig, ax = plt.subplots(1,1,figsize=[4,4])\n",
    "ax.plot(I_like_hist, label='I_like_train')\n",
    "ax.plot(val_I_like_hist, label='I_like_val')\n",
    "ax.axhline(I_like, color='C2', linestyle=':', label='I_like_test')\n",
    "ax.axhline(I_pred, color='C3', linestyle=':', label='I_pred_test')\n",
    "ax.legend()\n",
    "ax.set_xlabel('epochs')\n",
    "ax.set_ylabel('bits')\n",
    "ax.set_title('training hisotry')\n",
    "ax.set_ylim([0, I_pred*1.2]);"
   ]
  },
  {
   "cell_type": "code",
   "execution_count": 11,
   "metadata": {},
   "outputs": [
    {
     "data": {
      "image/png": "[encoded data removed]",
      "text/plain": [
       "<Figure size 288x288 with 1 Axes>"
      ]
     },
     "metadata": {
      "needs_background": "light"
     },
     "output_type": "display_data"
    }
   ],
   "source": [
    "# Compute phi and yhat values\n",
    "phi = model.x_to_phi(x)\n",
    "yhat = model.phi_to_yhat(phi)\n",
    "\n",
    "# Create grid for plotting yhat and yqs\n",
    "phi_lim = [-5, 2.5]\n",
    "phi_grid = np.linspace(phi_lim[0], phi_lim[1], 1000)\n",
    "yhat_grid = model.phi_to_yhat(phi_grid)\n",
    "yqs_grid = model.yhat_to_yq(yhat_grid, q=[.16,.84])\n",
    "\n",
    "# Create two panels\n",
    "fig, ax = plt.subplots(1, 1, figsize=[4, 4])\n",
    "\n",
    "# Illustrate measurement process with GE curve\n",
    "ax.scatter(phi, y, color='C0', s=5, alpha=.2, label='test data')\n",
    "ax.plot(phi_grid, yhat_grid, linewidth=2, color='C1',\n",
    "        label='$\\hat{y} = g(\\phi)$')\n",
    "ax.plot(phi_grid, yqs_grid[:, 0], linestyle='--', color='C1',\n",
    "        label='68% CI')\n",
    "ax.plot(phi_grid, yqs_grid[:, 1], linestyle='--', color='C1')\n",
    "ax.set_xlim(phi_lim)\n",
    "ax.set_xlabel('latent phenotype ($\\phi$)')\n",
    "ax.set_ylabel('measurement ($y$)')\n",
    "ax.set_title('measurement process')\n",
    "ax.legend()\n",
    "\n",
    "# Fix up plot\n",
    "fig.tight_layout()\n",
    "plt.show()"
   ]
  },
  {
   "cell_type": "code",
   "execution_count": 12,
   "metadata": {},
   "outputs": [
    {
     "data": {
      "image/png": "[encoded data removed]",
      "text/plain": [
       "<Figure size 720x360 with 2 Axes>"
      ]
     },
     "metadata": {
      "needs_background": "light"
     },
     "output_type": "display_data"
    }
   ],
   "source": [
    "# Set wild-type sequence\n",
    "gb1_seq = model.x_stats['consensus_seq']\n",
    "\n",
    "# Get effects of all single-point mutations on phi\n",
    "theta_dict = model.get_theta(gauge='user',\n",
    "                             x_wt=gb1_seq)\n",
    "\n",
    "# Create two panels\n",
    "fig, ax = plt.subplots(1, 1, figsize=[10, 5])\n",
    "\n",
    "# Left panel: draw heatmap illustrating 1pt mutation effects\n",
    "ax, cb = mavenn.heatmap(theta_dict['theta_lc'],\n",
    "                        alphabet=theta_dict['alphabet'],\n",
    "                        seq=gb1_seq,\n",
    "                        cmap='PiYG',\n",
    "                        ccenter=0,\n",
    "                        ax=ax)\n",
    "ax.set_xlabel('position ($l$)')\n",
    "ax.set_ylabel('amino acid ($c$)')\n",
    "cb.set_label('effect ($\\Delta\\phi$)', rotation=-90, va=\"bottom\")\n",
    "ax.set_title('mutation effects')\n",
    "\n",
    "# Fix up plot\n",
    "fig.tight_layout()\n",
    "plt.show()\n"
   ]
  },
  {
   "cell_type": "code",
   "execution_count": 13,
   "metadata": {},
   "outputs": [
    {
     "data": {
      "text/html": [
       "<div>\n",
       "<style scoped>\n",
       "    .dataframe tbody tr th:only-of-type {\n",
       "        vertical-align: middle;\n",
       "    }\n",
       "\n",
       "    .dataframe tbody tr th {\n",
       "        vertical-align: top;\n",
       "    }\n",
       "\n",
       "    .dataframe thead th {\n",
       "        text-align: right;\n",
       "    }\n",
       "</style>\n",
       "<table border=\"1\" class=\"dataframe\">\n",
       "  <thead>\n",
       "    <tr style=\"text-align: right;\">\n",
       "      <th></th>\n",
       "      <th>training_set</th>\n",
       "      <th>yhat</th>\n",
       "      <th>phi</th>\n",
       "      <th>y</th>\n",
       "      <th>x</th>\n",
       "    </tr>\n",
       "  </thead>\n",
       "  <tbody>\n",
       "    <tr>\n",
       "      <th>0</th>\n",
       "      <td>False</td>\n",
       "      <td>-4.951964</td>\n",
       "      <td>-0.150888</td>\n",
       "      <td>-4.860683</td>\n",
       "      <td>QYKLILNGKTLKGETTTEAVDAATAEKVFKQCANDNGVDGEWTYDD...</td>\n",
       "    </tr>\n",
       "    <tr>\n",
       "      <th>1</th>\n",
       "      <td>True</td>\n",
       "      <td>1.678446</td>\n",
       "      <td>1.577866</td>\n",
       "      <td>1.671970</td>\n",
       "      <td>QYLLILNGKTLKGETTTELNDAATAEKVFKQYANDNGMDGGWTYDD...</td>\n",
       "    </tr>\n",
       "    <tr>\n",
       "      <th>2</th>\n",
       "      <td>False</td>\n",
       "      <td>-4.398256</td>\n",
       "      <td>-0.025313</td>\n",
       "      <td>-3.919147</td>\n",
       "      <td>QMKLILNGKTLKGETTTEAVDAATAEKVFKQYANDEGVDGEWTYDD...</td>\n",
       "    </tr>\n",
       "    <tr>\n",
       "      <th>3</th>\n",
       "      <td>False</td>\n",
       "      <td>-2.644590</td>\n",
       "      <td>0.336212</td>\n",
       "      <td>-1.853140</td>\n",
       "      <td>QYKLILNGKTLKGETTTEAVDAATAEKVFKQYANDNGVDGEWTYDD...</td>\n",
       "    </tr>\n",
       "    <tr>\n",
       "      <th>4</th>\n",
       "      <td>True</td>\n",
       "      <td>-2.644590</td>\n",
       "      <td>0.336212</td>\n",
       "      <td>-2.684397</td>\n",
       "      <td>QYKLILNGKTLKGETTTEAVDAATAEKVFKQYANDNGVDGEWTYDD...</td>\n",
       "    </tr>\n",
       "  </tbody>\n",
       "</table>\n",
       "</div>"
      ],
      "text/plain": [
       "   training_set      yhat       phi         y  \\\n",
       "0         False -4.951964 -0.150888 -4.860683   \n",
       "1          True  1.678446  1.577866  1.671970   \n",
       "2         False -4.398256 -0.025313 -3.919147   \n",
       "3         False -2.644590  0.336212 -1.853140   \n",
       "4          True -2.644590  0.336212 -2.684397   \n",
       "\n",
       "                                                   x  \n",
       "0  QYKLILNGKTLKGETTTEAVDAATAEKVFKQCANDNGVDGEWTYDD...  \n",
       "1  QYLLILNGKTLKGETTTELNDAATAEKVFKQYANDNGMDGGWTYDD...  \n",
       "2  QMKLILNGKTLKGETTTEAVDAATAEKVFKQYANDEGVDGEWTYDD...  \n",
       "3  QYKLILNGKTLKGETTTEAVDAATAEKVFKQYANDNGVDGEWTYDD...  \n",
       "4  QYKLILNGKTLKGETTTEAVDAATAEKVFKQYANDNGVDGEWTYDD...  "
      ]
     },
     "execution_count": 13,
     "metadata": {},
     "output_type": "execute_result"
    }
   ],
   "source": [
    "# Test simulate_data\n",
    "sim_df = model.simulate_dataset(N=1000)\n",
    "sim_df.head()"
   ]
  },
  {
   "cell_type": "code",
   "execution_count": null,
   "metadata": {},
   "outputs": [],
   "source": []
  }
 ],
 "metadata": {
  "kernelspec": {
   "display_name": "Python 3",
   "language": "python",
   "name": "python3"
  },
  "language_info": {
   "codemirror_mode": {
    "name": "ipython",
    "version": 3
   },
   "file_extension": ".py",
   "mimetype": "text/x-python",
   "name": "python",
   "nbconvert_exporter": "python",
   "pygments_lexer": "ipython3",
   "version": "3.7.4"
  }
 },
 "nbformat": 4,
 "nbformat_minor": 2
}
