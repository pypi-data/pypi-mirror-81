{
 "cells": [
  {
   "cell_type": "code",
   "execution_count": 3,
   "metadata": {},
   "outputs": [
    {
     "data": {
      "application/vnd.jupyter.widget-view+json": {
       "model_id": "60fa670560064c79bdec5a68a732d13d",
       "version_major": 2,
       "version_minor": 0
      },
      "text/plain": [
       "MitoWidget(code_json='{\"code\": \"0\"}', column_spreadsheet_code_json='{\"A\": \"\"}', sheet_json='{\"columns\": [\"A\"],…"
      ]
     },
     "metadata": {},
     "output_type": "display_data"
    }
   ],
   "source": [
    "import mitosheet\n",
    "import pandas as pd\n",
    "\n",
    "df = pd.DataFrame(data={'A': [123]})\n",
    "mitosheet.sheet(df)"
   ]
  },
  {
   "cell_type": "code",
   "execution_count": null,
   "metadata": {},
   "outputs": [],
   "source": []
  }
 ],
 "metadata": {
  "kernelspec": {
   "display_name": "Python 3",
   "language": "python",
   "name": "python3"
  },
  "language_info": {
   "codemirror_mode": {
    "name": "ipython",
    "version": 3
   },
   "file_extension": ".py",
   "mimetype": "text/x-python",
   "name": "python",
   "nbconvert_exporter": "python",
   "pygments_lexer": "ipython3",
   "version": "3.8.5"
  },
  "widgets": {
   "application/vnd.jupyter.widget-state+json": {
    "state": {
     "60fa670560064c79bdec5a68a732d13d": {
      "model_module": "mitosheet",
      "model_module_version": "^0.1.20",
      "model_name": "ExampleModel",
      "state": {
       "_model_module_version": "^0.1.20",
       "_view_module_version": "^0.1.20",
       "code_json": "{\"code\": \"0\"}",
       "column_spreadsheet_code_json": "{\"A\": \"\"}",
       "df_name": "df",
       "layout": "IPY_MODEL_838053601cd14ccaa01c775bee79585c",
       "sheet_json": "{\"columns\": [\"A\"], \"index\": [0], \"data\": [[123]]}",
       "user_id": "nate",
       "value": "Hello World"
      }
     },
     "802175ce0dd843b29a8903bef25015fc": {
      "model_module": "@jupyter-widgets/base",
      "model_module_version": "1.2.0",
      "model_name": "LayoutModel",
      "state": {}
     },
     "838053601cd14ccaa01c775bee79585c": {
      "model_module": "@jupyter-widgets/base",
      "model_module_version": "1.2.0",
      "model_name": "LayoutModel",
      "state": {}
     },
     "d1f0cc1a30b641e2aac125ac0c2813be": {
      "model_module": "mitosheet",
      "model_module_version": "^0.1.20",
      "model_name": "ExampleModel",
      "state": {
       "_model_module_version": "^0.1.20",
       "_view_module_version": "^0.1.20",
       "code_json": "{\"imports\": \"from mitosheet import AVG,CLEAN,CONCATENATE,FIND,LEFT,LEN,LOWER,MID,MULTIPLY,PROPER,RIGHT,SUBSTITUTE,SUM,TRIM,UPPER\", \"code\": [\"df['B'] = df['A']\"]}",
       "column_spreadsheet_code_json": "{\"A\": \"\", \"B\": \"=A\"}",
       "df_name": "",
       "layout": "IPY_MODEL_ddf48ede263e4e13b04ae16a1cab4ee0",
       "sheet_json": "{\"columns\": [\"A\", \"B\"], \"index\": [0], \"data\": [[123, 123]]}",
       "user_id": "nate",
       "value": "Hello World"
      }
     },
     "ddf48ede263e4e13b04ae16a1cab4ee0": {
      "model_module": "@jupyter-widgets/base",
      "model_module_version": "1.2.0",
      "model_name": "LayoutModel",
      "state": {}
     },
     "e9d81e724d9a44dfbb406f40eb53c6a3": {
      "model_module": "mitosheet",
      "model_module_version": "^0.1.20",
      "model_name": "ExampleModel",
      "state": {
       "_model_module_version": "^0.1.20",
       "_view_module_version": "^0.1.20",
       "code_json": "{\"imports\": \"from mitosheet import AVG,CLEAN,CONCATENATE,FIND,LEFT,LEN,LOWER,MID,MULTIPLY,PROPER,RIGHT,SUBSTITUTE,SUM,TRIM,UPPER\", \"code\": [\"df['B'] = 0\"]}",
       "column_spreadsheet_code_json": "{\"A\": \"\", \"B\": \"=0\"}",
       "df_name": "df",
       "layout": "IPY_MODEL_802175ce0dd843b29a8903bef25015fc",
       "sheet_json": "{\"columns\": [\"A\", \"B\"], \"index\": [0], \"data\": [[123, 0]]}",
       "user_id": "nate",
       "value": "Hello World"
      }
     }
    },
    "version_major": 2,
    "version_minor": 0
   }
  }
 },
 "nbformat": 4,
 "nbformat_minor": 4
}
