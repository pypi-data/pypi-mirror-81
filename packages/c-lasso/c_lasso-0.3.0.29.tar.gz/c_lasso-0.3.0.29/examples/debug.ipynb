{
 "cells": [
  {
   "cell_type": "code",
   "execution_count": 128,
   "metadata": {
    "ExecuteTime": {
     "end_time": "2020-10-08T14:52:06.328036Z",
     "start_time": "2020-10-08T14:52:06.304229Z"
    }
   },
   "outputs": [],
   "source": [
    "from classo.solve_R2 import pathlasso_R2, Classo_R2, problem_R2\n",
    "from classo.solve_R1 import pathlasso_R1, Classo_R1, problem_R1\n",
    "from classo.solve_R3 import pathlasso_R3, Classo_R3, problem_R3\n",
    "from classo.compact_func import Classo, pathlasso\n",
    "from classo import random_data, classo_problem\n",
    "import numpy as np\n",
    "import matplotlib.pyplot as plt\n",
    "\n",
    "m,d,d_nonzero,k,sigma =150,100,6,0,0.5\n",
    "(X,C,y),sol = random_data(m,d,d_nonzero,k,sigma,zerosum=True,seed=None)"
   ]
  },
  {
   "cell_type": "code",
   "execution_count": 135,
   "metadata": {
    "ExecuteTime": {
     "end_time": "2020-10-08T14:55:07.627260Z",
     "start_time": "2020-10-08T14:55:07.407404Z"
    }
   },
   "outputs": [],
   "source": [
    "lam = 1.\n",
    "pb_dr = problem_R3((X,C,y),'DR',e=m/2)\n",
    "pb_pa = problem_R3((X,C,y),'Path-Alg',e=m/2)\n",
    "beta_dr, s_dr = Classo_R3(pb_dr, lam)\n",
    "beta_pa, s_pa = Classo_R3(pb_pa, lam)"
   ]
  },
  {
   "cell_type": "code",
   "execution_count": 137,
   "metadata": {
    "ExecuteTime": {
     "end_time": "2020-10-08T14:57:20.418952Z",
     "start_time": "2020-10-08T14:57:20.385396Z"
    }
   },
   "outputs": [
    {
     "data": {
      "text/plain": [
       "134.48345814181286"
      ]
     },
     "execution_count": 137,
     "metadata": {},
     "output_type": "execute_result"
    }
   ],
   "source": [
    "pb.lambdamax/"
   ]
  },
  {
   "cell_type": "code",
   "execution_count": 136,
   "metadata": {
    "ExecuteTime": {
     "end_time": "2020-10-08T14:55:08.746417Z",
     "start_time": "2020-10-08T14:55:07.647086Z"
    }
   },
   "outputs": [
    {
     "data": {
      "image/png": "[encoded data removed]",
      "text/plain": [
       "<Figure size 432x288 with 1 Axes>"
      ]
     },
     "metadata": {
      "needs_background": "light"
     },
     "output_type": "display_data"
    },
    {
     "data": {
      "image/png": "[encoded data removed]",
      "text/plain": [
       "<Figure size 432x288 with 1 Axes>"
      ]
     },
     "metadata": {
      "needs_background": "light"
     },
     "output_type": "display_data"
    }
   ],
   "source": [
    "for beta in [beta_pa,beta_dr]:\n",
    "    plt.bar(range(len(beta)),beta)\n",
    "    plt.show()"
   ]
  },
  {
   "cell_type": "code",
   "execution_count": null,
   "metadata": {},
   "outputs": [],
   "source": []
  },
  {
   "cell_type": "code",
   "execution_count": null,
   "metadata": {},
   "outputs": [],
   "source": []
  },
  {
   "cell_type": "code",
   "execution_count": null,
   "metadata": {},
   "outputs": [],
   "source": []
  },
  {
   "cell_type": "code",
   "execution_count": null,
   "metadata": {},
   "outputs": [],
   "source": []
  },
  {
   "cell_type": "code",
   "execution_count": 2,
   "metadata": {
    "ExecuteTime": {
     "end_time": "2020-10-08T13:08:11.061096Z",
     "start_time": "2020-10-08T13:08:11.044021Z"
    }
   },
   "outputs": [],
   "source": [
    "'''\n",
    "lam = 20.\n",
    "e = m/2\n",
    "ny = np.linalg.norm(y)\n",
    "i = np.argmax(abs(sol))\n",
    "problem                                     = classo_problem(X,y,C)\n",
    "problem.formulation.huber                   = False\n",
    "problem.formulation.concomitant             = True\n",
    "\n",
    "problem.model_selection.CV                  = False\n",
    "problem.model_selection.LAMfixed            = False\n",
    "problem.model_selection.PATH                = True\n",
    "problem.model_selection.StabSel             = False\n",
    "\n",
    "problem.model_selection.LAMfixedparameters.rescaled_lam = False\n",
    "problem.model_selection.LAMfixedparameters.lam = lam\n",
    "\n",
    "problem.model_selection.PATHparameters.numerical_method = 'DR'\n",
    "problem.solve()\n",
    "print(problem.solution.PATH)\n",
    "betas= problem.solution.PATH.BETAS\n",
    "lambdas= problem.solution.PATH.LAMBDAS\n",
    "\n",
    "problem.model_selection.LAMfixed            = True\n",
    "problem.model_selection.PATH                = False\n",
    "\n",
    "i = 20\n",
    "\n",
    "beta1 = betas[i]\n",
    "lambda1 = lambdas[i]\n",
    "problem.model_selection.LAMfixedparameters.lam = lambda1\n",
    "problem.solve\n",
    "beta2 = problem.solution.LAMfixed.beta\n",
    "\n",
    "for beta in [beta1,beta2,beta1-beta2]:\n",
    "    plt.bar(range(len(beta)),beta)\n",
    "    plt.show()\n",
    "    \n",
    "BETA, LAMBDA = pathlasso((X,C,y),lambdas=np.linspace(1.,1e-2,100),typ='R3',meth='DR', true_lam = False, e=m/2)\n",
    "\n",
    "'''"
   ]
  },
  {
   "cell_type": "code",
   "execution_count": 53,
   "metadata": {
    "ExecuteTime": {
     "end_time": "2020-10-08T13:39:27.771342Z",
     "start_time": "2020-10-08T13:39:26.702203Z"
    }
   },
   "outputs": [
    {
     "data": {
      "image/png": "[encoded data removed]",
      "text/plain": [
       "<Figure size 432x288 with 1 Axes>"
      ]
     },
     "metadata": {
      "needs_background": "light"
     },
     "output_type": "display_data"
    },
    {
     "data": {
      "image/png": "[encoded data removed]",
      "text/plain": [
       "<Figure size 432x288 with 1 Axes>"
      ]
     },
     "metadata": {
      "needs_background": "light"
     },
     "output_type": "display_data"
    }
   ],
   "source": [
    "for beta in [beta_pa,beta_dr]:\n",
    "    plt.bar(range(len(beta)),beta)\n",
    "    plt.show()"
   ]
  }
 ],
 "metadata": {
  "kernelspec": {
   "display_name": "Python 3",
   "language": "python",
   "name": "python3"
  },
  "toc": {
   "base_numbering": 1,
   "nav_menu": {},
   "number_sections": true,
   "sideBar": true,
   "skip_h1_title": false,
   "title_cell": "Table of Contents",
   "title_sidebar": "Contents",
   "toc_cell": false,
   "toc_position": {},
   "toc_section_display": true,
   "toc_window_display": false
  }
 },
 "nbformat": 4,
 "nbformat_minor": 4
}
