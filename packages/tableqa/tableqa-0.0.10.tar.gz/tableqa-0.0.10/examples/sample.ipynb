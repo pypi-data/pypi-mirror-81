{
  "nbformat": 4,
  "nbformat_minor": 0,
  "metadata": {
    "colab": {
      "name": "tableQA.ipynb",
      "provenance": [],
      "toc_visible": true
    },
    "kernelspec": {
      "name": "python3",
      "display_name": "Python 3"
    },
    "accelerator": "GPU"
  },
  "cells": [
    {
      "cell_type": "markdown",
      "metadata": {
        "id": "K4qXc2S4DZrz"
      },
      "source": [
        "## tableQA\n",
        "\n",
        "This is a tool for querying natural language on tabular data like csvs,excel sheet,etc. The QA system converts natural language to SQL queries and feeds the dataframe to a database,upon which the generated SQL query is applied to obtain results.\n",
        "\n",
        "Some of the features of tableQA are:\n",
        "\n",
        "- Supports detection from multiple csvs\n",
        "- Support FuzzyString implementation. i.e, incomplete csv values in query can be automatically detected and filled in the query.\n",
        "- Open-Domain, No training required.\n",
        "- Add manual schema for customized experience\n",
        "- Auto-generate schemas in case schema not provided\n",
        "\n",
        "Built with the help of QA models of [huggingface transformers](https://huggingface.co/transformers/examples.html) ."
      ]
    },
    {
      "cell_type": "code",
      "metadata": {
        "id": "rKRfWRaB-e0H"
      },
      "source": [
        "! pip install tableqa"
      ],
      "execution_count": null,
      "outputs": []
    },
    {
      "cell_type": "code",
      "metadata": {
        "id": "O8en70TQ_AA5"
      },
      "source": [
        "! git clone https://github.com/abhijithneilabraham/tableQA/\n",
        "%cd tableQA/tableqa/"
      ],
      "execution_count": null,
      "outputs": []
    },
    {
      "cell_type": "code",
      "metadata": {
        "id": "d3BqR3zeDGgp",
        "outputId": "8c305a86-87ea-48b6-9ce0-36e84a953711",
        "colab": {
          "base_uri": "https://localhost:8080/",
          "height": 195
        }
      },
      "source": [
        "import pandas as pd\n",
        "\n",
        "df = pd.read_csv(\"cleaned_data/Cancer Death - Data.csv\")\n",
        "# A first look at data\n",
        "df.head()"
      ],
      "execution_count": null,
      "outputs": [
        {
          "output_type": "execute_result",
          "data": {
            "text/html": [
              "<div>\n",
              "<style scoped>\n",
              "    .dataframe tbody tr th:only-of-type {\n",
              "        vertical-align: middle;\n",
              "    }\n",
              "\n",
              "    .dataframe tbody tr th {\n",
              "        vertical-align: top;\n",
              "    }\n",
              "\n",
              "    .dataframe thead th {\n",
              "        text-align: right;\n",
              "    }\n",
              "</style>\n",
              "<table border=\"1\" class=\"dataframe\">\n",
              "  <thead>\n",
              "    <tr style=\"text-align: right;\">\n",
              "      <th></th>\n",
              "      <th>Unnamed: 0</th>\n",
              "      <th>Year</th>\n",
              "      <th>Nationality</th>\n",
              "      <th>Gender</th>\n",
              "      <th>Cancer site</th>\n",
              "      <th>Death Count</th>\n",
              "      <th>age</th>\n",
              "    </tr>\n",
              "  </thead>\n",
              "  <tbody>\n",
              "    <tr>\n",
              "      <th>0</th>\n",
              "      <td>0</td>\n",
              "      <td>2011</td>\n",
              "      <td>Expatriate</td>\n",
              "      <td>Female</td>\n",
              "      <td>Other Cancer</td>\n",
              "      <td>2</td>\n",
              "      <td>10</td>\n",
              "    </tr>\n",
              "    <tr>\n",
              "      <th>1</th>\n",
              "      <td>1</td>\n",
              "      <td>2011</td>\n",
              "      <td>Expatriate</td>\n",
              "      <td>Female</td>\n",
              "      <td>Kidney, renal pelvis and ureter</td>\n",
              "      <td>1</td>\n",
              "      <td>10</td>\n",
              "    </tr>\n",
              "    <tr>\n",
              "      <th>2</th>\n",
              "      <td>2</td>\n",
              "      <td>2011</td>\n",
              "      <td>Expatriate</td>\n",
              "      <td>Female</td>\n",
              "      <td>Breast</td>\n",
              "      <td>1</td>\n",
              "      <td>20</td>\n",
              "    </tr>\n",
              "    <tr>\n",
              "      <th>3</th>\n",
              "      <td>3</td>\n",
              "      <td>2011</td>\n",
              "      <td>Expatriate</td>\n",
              "      <td>Female</td>\n",
              "      <td>Stomach</td>\n",
              "      <td>1</td>\n",
              "      <td>30</td>\n",
              "    </tr>\n",
              "    <tr>\n",
              "      <th>4</th>\n",
              "      <td>4</td>\n",
              "      <td>2011</td>\n",
              "      <td>Expatriate</td>\n",
              "      <td>Female</td>\n",
              "      <td>Leukaemia</td>\n",
              "      <td>2</td>\n",
              "      <td>30</td>\n",
              "    </tr>\n",
              "  </tbody>\n",
              "</table>\n",
              "</div>"
            ],
            "text/plain": [
              "   Unnamed: 0  Year  ... Death Count age\n",
              "0           0  2011  ...           2  10\n",
              "1           1  2011  ...           1  10\n",
              "2           2  2011  ...           1  20\n",
              "3           3  2011  ...           1  30\n",
              "4           4  2011  ...           2  30\n",
              "\n",
              "[5 rows x 7 columns]"
            ]
          },
          "metadata": {
            "tags": []
          },
          "execution_count": 4
        }
      ]
    },
    {
      "cell_type": "markdown",
      "metadata": {
        "id": "jNONpdnwFfgr"
      },
      "source": [
        "- You can see the file we are trying to query is a CSV file with columns like Year, Nationality, Gender, Cancer Site, Death Count, age. Let's try to answer some questions from this dataset.\n",
        "\n",
        "Make sure you are giving the absolute path of the directory containing the csv files."
      ]
    },
    {
      "cell_type": "code",
      "metadata": {
        "id": "d0mx-dA2A1mf"
      },
      "source": [
        "from tableqa.agent import Agent\n",
        "\n",
        "agent = Agent(df)"
      ],
      "execution_count": null,
      "outputs": []
    },
    {
      "cell_type": "markdown",
      "metadata": {
        "id": "9-xLcEqkHH1F"
      },
      "source": [
        "Let's try answering a important question from this dataset like:\n",
        "\n",
        "**how many deaths of age below 40 had breast cancer?**\n"
      ]
    },
    {
      "cell_type": "code",
      "metadata": {
        "id": "nNUlcvjNCAMt",
        "outputId": "b685ed28-831c-41b7-a9dd-dcee5ba104f3",
        "colab": {
          "base_uri": "https://localhost:8080/",
          "height": 34
        }
      },
      "source": [
        "agent.query_db(\"how many deaths of age below 40 had breast cancer?\")"
      ],
      "execution_count": null,
      "outputs": [
        {
          "output_type": "execute_result",
          "data": {
            "text/plain": [
              "[(426,)]"
            ]
          },
          "metadata": {
            "tags": []
          },
          "execution_count": 14
        }
      ]
    },
    {
      "cell_type": "markdown",
      "metadata": {
        "id": "lWliiZg9GOiy"
      },
      "source": [
        "- You can see that **426 people** below age 40 died with stomach cancer\n",
        "\n",
        "You can see the associated SQL query with this result. If you want to get just the associated SQL query use `get_query` function"
      ]
    },
    {
      "cell_type": "code",
      "metadata": {
        "id": "7aHWgkFvBzze",
        "outputId": "21eccd2e-1c1f-4ea6-cd01-62c9beaa589a",
        "colab": {
          "base_uri": "https://localhost:8080/",
          "height": 35
        }
      },
      "source": [
        "agent.get_query(\"how many deaths of age below 40 had breast cancer?\")"
      ],
      "execution_count": null,
      "outputs": [
        {
          "output_type": "execute_result",
          "data": {
            "application/vnd.google.colaboratory.intrinsic+json": {
              "type": "string"
            },
            "text/plain": [
              "'SELECT COUNT(cancer_site) FROM cancer_death_data WHERE age  < 40 '"
            ]
          },
          "metadata": {
            "tags": []
          },
          "execution_count": 13
        }
      ]
    },
    {
      "cell_type": "markdown",
      "metadata": {
        "id": "L2V5YgLXHfIG"
      },
      "source": [
        "- Let's try another question:\n",
        "\n",
        "`Get me the average death count per year of stomach cancer deaths?`"
      ]
    },
    {
      "cell_type": "code",
      "metadata": {
        "id": "dzZMvn5XCpB9",
        "outputId": "d1ee0eee-472f-47cc-9dc1-70dee9426966",
        "colab": {
          "base_uri": "https://localhost:8080/",
          "height": 34
        }
      },
      "source": [
        "agent.query_db(\"Get me the average death count per year of stomach cancer deaths?\")"
      ],
      "execution_count": null,
      "outputs": [
        {
          "output_type": "execute_result",
          "data": {
            "text/plain": [
              "[(1.2877697841726619,)]"
            ]
          },
          "metadata": {
            "tags": []
          },
          "execution_count": 17
        }
      ]
    },
    {
      "cell_type": "markdown",
      "metadata": {
        "id": "Ois6kYZA7ex-"
      },
      "source": [
        "Using a manual schema can improve the perfomance, i.e , you can give keywords related to the csv names or column names, which allows the user to have more control over the output. A schema format can be seen below:"
      ]
    },
    {
      "cell_type": "code",
      "metadata": {
        "id": "tN3JF--28k30"
      },
      "source": [
        "Schema Format:\n",
        "{\n",
        "    \"name\": DATABASE NAME,\n",
        "    \"keywords\":[DATABASE KEYWORDS],\n",
        "    \"columns\":\n",
        "    [\n",
        "        {\n",
        "        \"name\": COLUMN 1 NAME,\n",
        "        \"mapping\":{\n",
        "            CATEGORY 1: [CATEGORY 1 KEYWORDS],\n",
        "            CATEGORY 2: [CATEGORY 2 KEYWORDS]\n",
        "        }\n",
        "\n",
        "        },\n",
        "        {\n",
        "        \"name\": COLUMN 2 NAME,\n",
        "        \"keywords\": [COLUMN 2 KEYWORDS]\n",
        "        },\n",
        "        {\n",
        "        \"name\": \"COLUMN 3 NAME\",\n",
        "        \"keywords\": [COLUMN 3 KEYWORDS],\n",
        "        \"summable\":\"True\"\n",
        "        }\n",
        "    ]\n",
        "}\n"
      ],
      "execution_count": null,
      "outputs": []
    },
    {
      "cell_type": "markdown",
      "metadata": {
        "id": "IMJm8ZgU8lyT"
      },
      "source": [
        "-\"Mappings\" are for those columns whose values have only few distinct classes.i.e, Gender in the above cancer death data have only two distinct classes, Male and Female.\n",
        "\n",
        "-Include only the column names which need to have manual \"keywords\" or \"mappings\".Rest will will be autogenerated.\n",
        "\n",
        "-\"summable\" is included for Numeric Type columns whose values are already count representations. Eg. Death Count,Cases etc. consists values which already represent a count.\n",
        "\n",
        "You can see the schema of cancer death data below."
      ]
    },
    {
      "cell_type": "code",
      "metadata": {
        "id": "l4KXiCI29Hs2",
        "outputId": "f31003dc-69a3-46fe-a5f9-e14e935b6333",
        "colab": {
          "base_uri": "https://localhost:8080/",
          "height": 54
        }
      },
      "source": [
        "import json\n",
        "file=open('schema/Cancer Death - Data.json')\n",
        "schema_file=json.load(file)\n",
        "print(schema_file)"
      ],
      "execution_count": null,
      "outputs": [
        {
          "output_type": "stream",
          "text": [
            "{'name': 'Cancer Death', 'columns': [{'name': 'Nationality', 'mapping': {'National': ['national', 'nationals', 'citizen', 'citizens', 'emarati', 'emaratis'], 'Expatriate': ['expatriate', 'foreigner', 'foreigners', 'immigrant', 'immgrants', 'foreign']}}, {'name': 'Gender', 'mapping': {'Male': ['male', 'males', 'man', 'men', 'boys'], 'Female': ['female', 'females', 'woman', 'women', 'girls']}}, {'name': 'Cancer site', 'keywords': ['type of cancer', 'cancer location']}, {'name': 'Death Count', 'keywords': ['died', 'death', 'dead'], 'summable': 'True'}]}\n"
          ],
          "name": "stdout"
        }
      ]
    },
    {
      "cell_type": "markdown",
      "metadata": {
        "id": "tW_8FZsz9_iy"
      },
      "source": [
        "Using a schema:"
      ]
    },
    {
      "cell_type": "code",
      "metadata": {
        "id": "ICmG2dNY99YA"
      },
      "source": [
        "agent = Agent(df,schema_file)"
      ],
      "execution_count": null,
      "outputs": []
    },
    {
      "cell_type": "code",
      "metadata": {
        "id": "JiGTL7vF_09l",
        "outputId": "0bf0d2b6-eda3-4b36-92b1-454884c9b01a",
        "colab": {
          "base_uri": "https://localhost:8080/",
          "height": 34
        }
      },
      "source": [
        "agent.query_db(\"how many deaths of age below 40 had breast cancer?\")"
      ],
      "execution_count": null,
      "outputs": [
        {
          "output_type": "execute_result",
          "data": {
            "text/plain": [
              "[(45,)]"
            ]
          },
          "metadata": {
            "tags": []
          },
          "execution_count": 19
        }
      ]
    },
    {
      "cell_type": "markdown",
      "metadata": {
        "id": "qMaKg2rEm70D"
      },
      "source": [
        "You can also input multiple csvs and schemas and detect the corresponding csv,by giving the absolute path to the directories of  csvs and their respective schemas as shown below. Using a schema is optional."
      ]
    },
    {
      "cell_type": "code",
      "metadata": {
        "id": "HxA1qiutm5fB"
      },
      "source": [
        "csv_path=\"/content/tableQA/tableqa/cleaned_data\"\n",
        "schema_path=\"/content/tableQA/tableqa/schema\"\n",
        "\n",
        "agent=Agent(csv_path,schema_path)\n"
      ],
      "execution_count": null,
      "outputs": []
    },
    {
      "cell_type": "markdown",
      "metadata": {
        "id": "iI4l4IeiIAX5"
      },
      "source": [
        "If you liked this project, feel free to give a ⭐ in the [github repository](https://github.com/abhijithneilabraham/tableQA). Learn about more of it's features in the [README](https://github.com/abhijithneilabraham/tableQA/blob/master/README.md)."
      ]
    }
  ]
}