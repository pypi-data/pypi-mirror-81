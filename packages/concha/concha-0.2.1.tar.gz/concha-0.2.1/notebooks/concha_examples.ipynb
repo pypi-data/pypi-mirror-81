{
 "cells": [
  {
   "cell_type": "markdown",
   "metadata": {},
   "source": [
    "## Concha\n",
    "\n",
    "Concha calculcates the optimal number of things to make/order of perishables.\n",
    "It uses machine learning, the day of the week, the weather, and the profit margin\n",
    "of each product to optimally balance filling customer demand and reducing waste.\n",
    "\n",
    "Open this notebook up in Google Colab to run it on Google's computers (it's free...and amazing).\n",
    "\n",
    "[![Open In Colab](https://colab.research.google.com/assets/colab-badge.svg)](https://colab.research.google.com/github/Ready4theCrush/concha/blob/master/notebooks/concha_examples.ipynb)"
   ]
  },
  {
   "cell_type": "code",
   "execution_count": 5,
   "metadata": {},
   "outputs": [],
   "source": [
    "# Run this cell first to bring in the concha code\n",
    "!pip -q install concha\n",
    "from concha import Planner"
   ]
  },
  {
   "cell_type": "code",
   "execution_count": 6,
   "metadata": {},
   "outputs": [],
   "source": [
    "# First, let's run a simulation for muffins.\n",
    "# Let's say they're made in batches of 4, the marginal cost is\n",
    "# $1.50 per muffin ($6 per batch), and they sell for $3.00 each.\n",
    "sim_planner = Planner(\n",
    "    planner_name=\"cafe_2\",\n",
    "    batch_size = 4,\n",
    "    batch_cost= 6.0,\n",
    "    unit_sale_price= 3.0\n",
    ")\n",
    "\n",
    "# We'll simulate 180 days of sales for 5 kinds of muffins\n",
    "sim_planner.simulate_history(\n",
    "    num_days=180,\n",
    "    stockout_prob=0.5,\n",
    "    demand_mean=100,\n",
    "    demand_std=10,\n",
    "    num_products = 5\n",
    ") "
   ]
  },
  {
   "cell_type": "code",
   "execution_count": 6,
   "metadata": {},
   "outputs": [
    {
     "name": "stdout",
     "output_type": "stream",
     "text": [
      "Evaluating: {'model': 'MeanWeekPart'}\n",
      "Evaluating: {'model': 'ProfitMaximizer'}\n"
     ]
    },
    {
     "data": {
      "text/html": [
       "<div>\n",
       "<style scoped>\n",
       "    .dataframe tbody tr th:only-of-type {\n",
       "        vertical-align: middle;\n",
       "    }\n",
       "\n",
       "    .dataframe tbody tr th {\n",
       "        vertical-align: top;\n",
       "    }\n",
       "\n",
       "    .dataframe thead th {\n",
       "        text-align: right;\n",
       "    }\n",
       "</style>\n",
       "<table border=\"1\" class=\"dataframe\">\n",
       "  <thead>\n",
       "    <tr style=\"text-align: right;\">\n",
       "      <th></th>\n",
       "      <th>model</th>\n",
       "      <th>label</th>\n",
       "      <th>profit_avg</th>\n",
       "      <th>waste_pct</th>\n",
       "      <th>profit</th>\n",
       "      <th>val_loss</th>\n",
       "      <th>waste</th>\n",
       "    </tr>\n",
       "  </thead>\n",
       "  <tbody>\n",
       "    <tr>\n",
       "      <th>0</th>\n",
       "      <td>MeanWeekPart</td>\n",
       "      <td>model=MeanWeekPart</td>\n",
       "      <td>65.606667</td>\n",
       "      <td>15.070632</td>\n",
       "      <td>[[110.92, 107.92, 106.67, 109.33, 108.08, 44.5...</td>\n",
       "      <td>[[]]</td>\n",
       "      <td>[[3.64, 5.25, 5.56, 4.11, 4.53, 10.97, 16.28, ...</td>\n",
       "    </tr>\n",
       "    <tr>\n",
       "      <th>1</th>\n",
       "      <td>ProfitMaximizer</td>\n",
       "      <td>model=ProfitMaximizer</td>\n",
       "      <td>87.110000</td>\n",
       "      <td>10.189812</td>\n",
       "      <td>[[137.75, 127.67, 121.5, 139.83, 141.58, 57.0,...</td>\n",
       "      <td>[[1.389, 1.3094, 1.2381, 1.1785, 1.1238, 1.074...</td>\n",
       "      <td>[[5.58, 9.61, 4.61, 5.17, 7.08, 9.06, 9.86, 6....</td>\n",
       "    </tr>\n",
       "  </tbody>\n",
       "</table>\n",
       "</div>"
      ],
      "text/plain": [
       "             model                  label  profit_avg  waste_pct  \\\n",
       "0     MeanWeekPart     model=MeanWeekPart   65.606667  15.070632   \n",
       "1  ProfitMaximizer  model=ProfitMaximizer   87.110000  10.189812   \n",
       "\n",
       "                                              profit  \\\n",
       "0  [[110.92, 107.92, 106.67, 109.33, 108.08, 44.5...   \n",
       "1  [[137.75, 127.67, 121.5, 139.83, 141.58, 57.0,...   \n",
       "\n",
       "                                            val_loss  \\\n",
       "0                                               [[]]   \n",
       "1  [[1.389, 1.3094, 1.2381, 1.1785, 1.1238, 1.074...   \n",
       "\n",
       "                                               waste  \n",
       "0  [[3.64, 5.25, 5.56, 4.11, 4.53, 10.97, 16.28, ...  \n",
       "1  [[5.58, 9.61, 4.61, 5.17, 7.08, 9.06, 9.86, 6....  "
      ]
     },
     "execution_count": 6,
     "metadata": {},
     "output_type": "execute_result"
    }
   ],
   "source": [
    "# We'll compare profits from two different ways to plan production.\n",
    "# The first is to use the average for weekdays and weekends from past\n",
    "# days to plan future production. The other uses machine learning to\n",
    "# maximize profit (revenue - waste). \n",
    "sim_planner.grid_search(\n",
    "    param_grid={\"model\": [\n",
    "        \"MeanWeekPart\",\n",
    "        \"ProfitMaximizer\"\n",
    "    ]},\n",
    "    true_demand='demand'\n",
    ")"
   ]
  },
  {
   "cell_type": "code",
   "execution_count": 4,
   "metadata": {},
   "outputs": [
    {
     "name": "stdout",
     "output_type": "stream",
     "text": [
      "/home/thomas/concha_planners/cafe_2\n",
      "No transaction csv files to import.\n",
      "Training model for product: 1\n",
      "Training model for product: 2\n",
      "Training model for product: 3\n",
      "Training model for product: 4\n",
      "Training model for product: 5\n",
      "Predicting production for product: 1\n",
      "Predicting production for product: 2\n",
      "Predicting production for product: 3\n",
      "Predicting production for product: 4\n",
      "Predicting production for product: 5\n"
     ]
    },
    {
     "data": {
      "text/html": [
       "<div>\n",
       "<style scoped>\n",
       "    .dataframe tbody tr th:only-of-type {\n",
       "        vertical-align: middle;\n",
       "    }\n",
       "\n",
       "    .dataframe tbody tr th {\n",
       "        vertical-align: top;\n",
       "    }\n",
       "\n",
       "    .dataframe thead th {\n",
       "        text-align: right;\n",
       "    }\n",
       "</style>\n",
       "<table border=\"1\" class=\"dataframe\">\n",
       "  <thead>\n",
       "    <tr style=\"text-align: right;\">\n",
       "      <th></th>\n",
       "      <th>date</th>\n",
       "      <th>product</th>\n",
       "      <th>day_of_week</th>\n",
       "      <th>tmin</th>\n",
       "      <th>tmax</th>\n",
       "      <th>prcp</th>\n",
       "      <th>snow</th>\n",
       "      <th>production</th>\n",
       "    </tr>\n",
       "  </thead>\n",
       "  <tbody>\n",
       "    <tr>\n",
       "      <th>0</th>\n",
       "      <td>2020-10-09</td>\n",
       "      <td>1</td>\n",
       "      <td>Fri</td>\n",
       "      <td>54.0</td>\n",
       "      <td>78.0</td>\n",
       "      <td>False</td>\n",
       "      <td>False</td>\n",
       "      <td>48.0</td>\n",
       "    </tr>\n",
       "    <tr>\n",
       "      <th>1</th>\n",
       "      <td>2020-10-10</td>\n",
       "      <td>1</td>\n",
       "      <td>Sat</td>\n",
       "      <td>57.0</td>\n",
       "      <td>77.0</td>\n",
       "      <td>False</td>\n",
       "      <td>False</td>\n",
       "      <td>148.0</td>\n",
       "    </tr>\n",
       "    <tr>\n",
       "      <th>2</th>\n",
       "      <td>2020-10-11</td>\n",
       "      <td>1</td>\n",
       "      <td>Sun</td>\n",
       "      <td>57.0</td>\n",
       "      <td>80.0</td>\n",
       "      <td>False</td>\n",
       "      <td>False</td>\n",
       "      <td>100.0</td>\n",
       "    </tr>\n",
       "    <tr>\n",
       "      <th>3</th>\n",
       "      <td>2020-10-12</td>\n",
       "      <td>1</td>\n",
       "      <td>Mon</td>\n",
       "      <td>57.0</td>\n",
       "      <td>91.0</td>\n",
       "      <td>False</td>\n",
       "      <td>False</td>\n",
       "      <td>56.0</td>\n",
       "    </tr>\n",
       "    <tr>\n",
       "      <th>4</th>\n",
       "      <td>2020-10-13</td>\n",
       "      <td>1</td>\n",
       "      <td>Tue</td>\n",
       "      <td>57.0</td>\n",
       "      <td>95.0</td>\n",
       "      <td>False</td>\n",
       "      <td>False</td>\n",
       "      <td>32.0</td>\n",
       "    </tr>\n",
       "  </tbody>\n",
       "</table>\n",
       "</div>"
      ],
      "text/plain": [
       "        date product day_of_week  tmin  tmax   prcp   snow  production\n",
       "0 2020-10-09       1         Fri  54.0  78.0  False  False        48.0\n",
       "1 2020-10-10       1         Sat  57.0  77.0  False  False       148.0\n",
       "2 2020-10-11       1         Sun  57.0  80.0  False  False       100.0\n",
       "3 2020-10-12       1         Mon  57.0  91.0  False  False        56.0\n",
       "4 2020-10-13       1         Tue  57.0  95.0  False  False        32.0"
      ]
     },
     "execution_count": 4,
     "metadata": {},
     "output_type": "execute_result"
    }
   ],
   "source": [
    "# To predict how much to make of each product, we\n",
    "# just need to train the model for each product on the \n",
    "# transaction history first (which is simulated right now). \n",
    "\n",
    "sim_planner.train()\n",
    "production = sim_planner.predict()\n",
    "\n",
    "# The predictions are written to the forecast/forecast_production.csv file.\n",
    "# Here's the first five rows of predictions.\n",
    "production.head()"
   ]
  },
  {
   "cell_type": "code",
   "execution_count": null,
   "metadata": {},
   "outputs": [],
   "source": [
    "# Importing the transaction history\n",
    "\n",
    "# From the POS you need a csv dump of the transactions with\n",
    "# three columns (in this order): timestamp, item name, quantity.\n",
    "sim_planner.import_transactions()\n",
    "sim_planner.update_settings()"
   ]
  },
  {
   "cell_type": "code",
   "execution_count": 3,
   "metadata": {},
   "outputs": [
    {
     "name": "stdout",
     "output_type": "stream",
     "text": [
      "NOAA station set.\n"
     ]
    }
   ],
   "source": [
    "# Using the weather\n",
    "\n",
    "# The weather history and forecasts come from NOAA. You'll\n",
    "# need to get a NOAA api key from here: https://www.ncdc.noaa.gov/cdo-web/token\n",
    "# You can set it in the planner with:\n",
    "sim_planner.noaa_key(\"Yourkeyhere\")"
   ]
  },
  {
   "cell_type": "code",
   "execution_count": 5,
   "metadata": {},
   "outputs": [],
   "source": [
    "# To find a station near your business location you can\n",
    "# pick one off the NOAA map. Go here: https://www.ncdc.noaa.gov/cdo-web/search\n",
    "#  - For \"Select a Dataset\" pick \"Daily Summaries\"\n",
    "#  - For \"Enter a Search Term\" put in your city/state name. Hit \"SEARCH\" and a map should come up.\n",
    "#  - On the left side of the map, above the search results and below the \"Search\" box,\n",
    "#    click on \"More Search Options\" and check the \"Air Temperature\" and \"Precipitation\"\n",
    "#    boxes. Then click \"SEARCH\" again. When you find the nearest station, click on it\n",
    "#    and copy the ID. It will look like \"GHCND:USC00448084\". You can set it with:\n",
    "sim_planner.noaa_station(\"GHCND:USC00448084\")"
   ]
  }
 ],
 "metadata": {
  "kernelspec": {
   "display_name": "concha",
   "language": "python",
   "name": "concha"
  },
  "language_info": {
   "codemirror_mode": {
    "name": "ipython",
    "version": 3
   },
   "file_extension": ".py",
   "mimetype": "text/x-python",
   "name": "python",
   "nbconvert_exporter": "python",
   "pygments_lexer": "ipython3",
   "version": "3.7.7"
  }
 },
 "nbformat": 4,
 "nbformat_minor": 4
}
