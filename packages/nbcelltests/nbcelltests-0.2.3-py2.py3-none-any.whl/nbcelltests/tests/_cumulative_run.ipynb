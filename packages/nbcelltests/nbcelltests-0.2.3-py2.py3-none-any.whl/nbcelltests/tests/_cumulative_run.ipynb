{
 "cells": [
  {
   "cell_type": "code",
   "execution_count": 1,
   "metadata": {
    "celltests": [
     "# no %cell"
    ]
   },
   "outputs": [],
   "source": [
    "x = 0"
   ]
  },
  {
   "cell_type": "code",
   "execution_count": 2,
   "metadata": {
    "celltests": [
     "%cell"
    ]
   },
   "outputs": [],
   "source": [
    "try:\n",
    "    x\n",
    "except NameError:\n",
    "    x = 0"
   ]
  },  
  {
   "cell_type": "code",
   "execution_count": 3,
   "metadata": {
    "celltests": [
     "%cell"
    ]
   },
   "outputs": [],
   "source": [
    "x += 1"
   ]
  },
  {
   "cell_type": "code",
   "execution_count": 4,
   "metadata": {
    "celltests": [
     "%cell"
    ]
   },
   "outputs": [],
   "source": [
    "x += 1"
   ]
  },    
  {
   "cell_type": "code",
   "execution_count": 5,
   "metadata": {
    "celltests": [
     "%cell\n",
     "x += 1"
    ]
   },
   "outputs": [],
   "source": [
    "pass"
   ]
  },
  {
   "cell_type": "code",
   "execution_count": 6,
   "metadata": {
    "celltests": [
     "\n"
    ]
   },
   "outputs": [],
   "source": [
    "y = 10"
   ]
  },
  {
   "cell_type": "code",
   "execution_count": 7,
   "metadata": {
    "celltests": [
     "# no %cell"
    ]
   },
   "outputs": [],
   "source": [
    "a = 1"
   ]
  },  
  {
   "cell_type": "code",
   "execution_count": 8,
   "metadata": {
    "celltests": [
     "%cell\n"
    ]
   },
   "outputs": [],
   "source": [
    "z = 1"
   ]
  }    
 ],
 "metadata": {
  "kernelspec": {
   "display_name": "Python 3",
   "language": "python",
   "name": "python3"
  },
  "language_info": {
   "codemirror_mode": {
    "name": "ipython",
    "version": 3
   },
   "file_extension": ".py",
   "mimetype": "text/x-python",
   "name": "python",
   "nbconvert_exporter": "python",
   "pygments_lexer": "ipython3",
   "version": "3.7.6"
  }
 },
 "nbformat": 4,
 "nbformat_minor": 4
}
