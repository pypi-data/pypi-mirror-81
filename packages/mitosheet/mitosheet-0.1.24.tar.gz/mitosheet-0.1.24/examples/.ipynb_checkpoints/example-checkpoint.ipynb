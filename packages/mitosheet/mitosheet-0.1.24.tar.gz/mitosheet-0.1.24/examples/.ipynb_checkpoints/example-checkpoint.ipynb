{
 "cells": [
  {
   "cell_type": "code",
   "execution_count": 6,
   "metadata": {},
   "outputs": [
    {
     "data": {
      "application/vnd.jupyter.widget-view+json": {
       "model_id": "bb795d131a954013b54c0c3571a08c84",
       "version_major": 2,
       "version_minor": 0
      },
      "text/plain": [
       "MitoWidget(code_json='{\"code\": \"0\"}', column_spreadsheet_code_json='{\"A\": \"\", \"B\": \"\"}', sheet_json='{\"columns…"
      ]
     },
     "metadata": {},
     "output_type": "display_data"
    }
   ],
   "source": [
    "import pandas as pd\n",
    "import mitosheet\n",
    "df = pd.DataFrame(data={'A': [123]})\n",
    "\n",
    "# MITO CODE START (DO NOT EDIT)\n",
    "# SAVED-ANALYSIS-START{\"A\":\"\",\"B\":\"=AVG(A)\"}SAVED-ANALYSIS-END\n",
    "\n",
    "from mitosheet import AVG,CLEAN,CONCATENATE,FIND,LEFT,LEN,LOWER,MID,MULTIPLY,PROPER,RIGHT,SUBSTITUTE,SUM,TRIM,UPPER\n",
    "\n",
    "def mito_analysis(df):\n",
    "    df['B'] = AVG(df['A'])\n",
    "\n",
    "mito_analysis(df)\n",
    "  \n",
    "# MITO CODE END (DO NOT EDIT)\n",
    "\n",
    "mitosheet.sheet(df)"
   ]
  },
  {
   "cell_type": "code",
   "execution_count": null,
   "metadata": {},
   "outputs": [],
   "source": []
  },
  {
   "cell_type": "code",
   "execution_count": null,
   "metadata": {},
   "outputs": [],
   "source": []
  }
 ],
 "metadata": {
  "kernelspec": {
   "display_name": "Python 3",
   "language": "python",
   "name": "python3"
  },
  "language_info": {
   "codemirror_mode": {
    "name": "ipython",
    "version": 3
   },
   "file_extension": ".py",
   "mimetype": "text/x-python",
   "name": "python",
   "nbconvert_exporter": "python",
   "pygments_lexer": "ipython3",
   "version": "3.8.5"
  },
  "widgets": {
   "application/vnd.jupyter.widget-state+json": {
    "state": {
     "06d1069b2eeb4ec18e8bcfcef524d35e": {
      "model_module": "@jupyter-widgets/base",
      "model_module_version": "1.2.0",
      "model_name": "LayoutModel",
      "state": {}
     },
     "2c713a22d69043ef86924a119292e03b": {
      "model_module": "mitosheet",
      "model_module_version": "^0.1.22",
      "model_name": "ExampleModel",
      "state": {
       "_model_module_version": "^0.1.22",
       "_view_module_version": "^0.1.22",
       "code_json": "{\"imports\": \"from mitosheet import AVG,CLEAN,CONCATENATE,FIND,LEFT,LEN,LOWER,MID,MULTIPLY,PROPER,RIGHT,SUBSTITUTE,SUM,TRIM,UPPER\", \"code\": [\"df['B'] = AVG(df['A'])\"]}",
       "column_spreadsheet_code_json": "{\"A\": \"\", \"B\": \"=AVG(A)\"}",
       "df_name": "",
       "layout": "IPY_MODEL_f623de1673784bfd99357f18b338eced",
       "sheet_json": "{\"columns\": [\"A\", \"B\"], \"index\": [0], \"data\": [[123, 123.0]]}",
       "user_id": "nate",
       "value": "Hello World"
      }
     },
     "567d044643cb474196624abc74fd3c7c": {
      "model_module": "mitosheet",
      "model_module_version": "^0.1.22",
      "model_name": "ExampleModel",
      "state": {
       "_model_module_version": "^0.1.22",
       "_view_module_version": "^0.1.22",
       "code_json": "{\"imports\": \"from mitosheet import AVG,CLEAN,CONCATENATE,FIND,LEFT,LEN,LOWER,MID,MULTIPLY,PROPER,RIGHT,SUBSTITUTE,SUM,TRIM,UPPER\", \"code\": [\"df['B'] = AVG(df['A'])\"]}",
       "column_spreadsheet_code_json": "{\"A\": \"\", \"B\": \"=AVG(A)\"}",
       "df_name": "",
       "layout": "IPY_MODEL_6b9e81fb3c0a4bed9d6a8f43f639cbe6",
       "sheet_json": "{\"columns\": [\"A\", \"B\"], \"index\": [0], \"data\": [[123, 123.0]]}",
       "user_id": "nate",
       "value": "Hello World"
      }
     },
     "6b9e81fb3c0a4bed9d6a8f43f639cbe6": {
      "model_module": "@jupyter-widgets/base",
      "model_module_version": "1.2.0",
      "model_name": "LayoutModel",
      "state": {}
     },
     "6e5f2650c42b4f22be13127c3ef962a3": {
      "model_module": "mitosheet",
      "model_module_version": "^0.1.22",
      "model_name": "ExampleModel",
      "state": {
       "_model_module_version": "^0.1.22",
       "_view_module_version": "^0.1.22",
       "code_json": "{\"imports\": \"from mitosheet import AVG,CLEAN,CONCATENATE,FIND,LEFT,LEN,LOWER,MID,MULTIPLY,PROPER,RIGHT,SUBSTITUTE,SUM,TRIM,UPPER\", \"code\": [\"df['B'] = AVG(df['A'])\"]}",
       "column_spreadsheet_code_json": "{\"A\": \"\", \"B\": \"=AVG(A)\"}",
       "df_name": "",
       "layout": "IPY_MODEL_06d1069b2eeb4ec18e8bcfcef524d35e",
       "sheet_json": "{\"columns\": [\"A\", \"B\"], \"index\": [0], \"data\": [[123, 123.0]]}",
       "user_id": "nate",
       "value": "Hello World"
      }
     },
     "bb795d131a954013b54c0c3571a08c84": {
      "model_module": "mitosheet",
      "model_module_version": "^0.1.22",
      "model_name": "ExampleModel",
      "state": {
       "_model_module_version": "^0.1.22",
       "_view_module_version": "^0.1.22",
       "code_json": "{\"code\": \"0\"}",
       "column_spreadsheet_code_json": "{\"A\": \"\", \"B\": \"=AVG(A)\"}",
       "df_name": "df",
       "layout": "IPY_MODEL_d3150c9343e048c9a3f389d0ec2cd438",
       "sheet_json": "{\"columns\": [\"A\", \"B\"], \"index\": [0], \"data\": [[123, 123.0]]}",
       "user_id": "nate",
       "value": "Hello World"
      }
     },
     "d3150c9343e048c9a3f389d0ec2cd438": {
      "model_module": "@jupyter-widgets/base",
      "model_module_version": "1.2.0",
      "model_name": "LayoutModel",
      "state": {}
     },
     "f623de1673784bfd99357f18b338eced": {
      "model_module": "@jupyter-widgets/base",
      "model_module_version": "1.2.0",
      "model_name": "LayoutModel",
      "state": {}
     }
    },
    "version_major": 2,
    "version_minor": 0
   }
  }
 },
 "nbformat": 4,
 "nbformat_minor": 4
}
