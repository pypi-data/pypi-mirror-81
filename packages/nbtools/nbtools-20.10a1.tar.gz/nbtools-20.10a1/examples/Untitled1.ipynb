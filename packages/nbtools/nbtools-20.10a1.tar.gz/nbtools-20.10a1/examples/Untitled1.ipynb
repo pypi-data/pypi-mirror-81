{
 "cells": [
  {
   "cell_type": "code",
   "execution_count": 2,
   "metadata": {},
   "outputs": [
    {
     "data": {
      "application/vnd.jupyter.widget-view+json": {
       "model_id": "b1ef37fa403141c19eb65955d2c64e77",
       "version_major": 2,
       "version_minor": 0
      },
      "text/plain": [
       "GPAuthWidget(buttons={'Register an Account': \"\\n    const target = event.target;\\n    const widget = target.cl…"
      ]
     },
     "metadata": {},
     "output_type": "display_data"
    },
    {
     "data": {
      "application/vnd.jupyter.widget-view+json": {
       "model_id": "132ecddbbf044ffe92dd13a3f872bb04",
       "version_major": 2,
       "version_minor": 0
      },
      "text/plain": [
       "Output()"
      ]
     },
     "metadata": {},
     "output_type": "display_data"
    }
   ],
   "source": [
    "import nbtools\n",
    "\n",
    "nbtools.tool(id='authentication', origin='+')"
   ]
  },
  {
   "cell_type": "code",
   "execution_count": 3,
   "metadata": {},
   "outputs": [
    {
     "data": {
      "application/vnd.jupyter.widget-view+json": {
       "model_id": "ad429b4f39c04af282d662e46b00bcfb",
       "version_major": 2,
       "version_minor": 0
      },
      "text/plain": [
       "UIOutput(appendix=VBox(), error='Cannot find tool: GenePattern Cloud | urn:lsid:broad.mit.edu:cancer.software.…"
      ]
     },
     "metadata": {},
     "output_type": "display_data"
    },
    {
     "data": {
      "application/vnd.jupyter.widget-view+json": {
       "model_id": "9ccc69c163864bab8aef7664c9deed67",
       "version_major": 2,
       "version_minor": 0
      },
      "text/plain": [
       "Output(outputs=({'output_type': 'display_data', 'data': {}, 'metadata': {}},))"
      ]
     },
     "metadata": {},
     "output_type": "display_data"
    }
   ],
   "source": [
    "nbtools.tool(id='urn:lsid:broad.mit.edu:cancer.software.genepattern.module.analysis:00017:4.2', origin='GenePattern Cloud')"
   ]
  },
  {
   "cell_type": "code",
   "execution_count": 4,
   "metadata": {},
   "outputs": [
    {
     "data": {
      "application/vnd.jupyter.widget-view+json": {
       "model_id": "d95f379af8ce445f9bf45dd58b4e3d2c",
       "version_major": 2,
       "version_minor": 0
      },
      "text/plain": [
       "UIBuilder(collapse=True, form=InteractiveForm(children=(FileFormInput(value='', children=(Label(value='bar*', …"
      ]
     },
     "metadata": {},
     "output_type": "display_data"
    },
    {
     "data": {
      "application/vnd.jupyter.widget-view+json": {
       "model_id": "da2f987174554ef59eee18528d14bc43",
       "version_major": 2,
       "version_minor": 0
      },
      "text/plain": [
       "Output()"
      ]
     },
     "metadata": {},
     "output_type": "display_data"
    }
   ],
   "source": [
    "import nbtools\n",
    "import genepattern\n",
    "\n",
    "@nbtools.build_ui(parameters={\n",
    "    'bar': {\n",
    "        'type': 'file',\n",
    "        'kinds': ['_s.odf']\n",
    "    }\n",
    "})\n",
    "def foo(bar):\n",
    "    uio = nbtools.UIOutput(files=['https://www.drivethrurpg.com/product/103096/Escape-from-Castle-Island?filters=0_2110_100_0_0'])\n",
    "    genepattern.display(uio)"
   ]
  },
  {
   "cell_type": "code",
   "execution_count": 5,
   "metadata": {},
   "outputs": [
    {
     "data": {
      "application/vnd.jupyter.widget-view+json": {
       "model_id": "d95f379af8ce445f9bf45dd58b4e3d2c",
       "version_major": 2,
       "version_minor": 0
      },
      "text/plain": [
       "UIBuilder(collapse=True, form=InteractiveForm(children=(FileFormInput(value='', children=(Label(value='bar*', …"
      ]
     },
     "metadata": {},
     "output_type": "display_data"
    },
    {
     "data": {
      "application/vnd.jupyter.widget-view+json": {
       "model_id": "da2f987174554ef59eee18528d14bc43",
       "version_major": 2,
       "version_minor": 0
      },
      "text/plain": [
       "Output()"
      ]
     },
     "metadata": {},
     "output_type": "display_data"
    }
   ],
   "source": [
    "nbtools.tool(id='foo', origin='Notebook')"
   ]
  },
  {
   "cell_type": "code",
   "execution_count": null,
   "metadata": {},
   "outputs": [],
   "source": []
  }
 ],
 "metadata": {
  "kernelspec": {
   "display_name": "Python 3",
   "language": "python",
   "name": "python3"
  },
  "language_info": {
   "codemirror_mode": {
    "name": "ipython",
    "version": 3
   },
   "file_extension": ".py",
   "mimetype": "text/x-python",
   "name": "python",
   "nbconvert_exporter": "python",
   "pygments_lexer": "ipython3",
   "version": "3.7.6"
  },
  "widgets": {
   "application/vnd.jupyter.widget-state+json": {
    "state": {
     "020660ff9d734e3086b4de634e71a5f7": {
      "model_module": "@jupyter-widgets/base",
      "model_module_version": "1.2.0",
      "model_name": "LayoutModel",
      "state": {}
     },
     "06a3ce4d92e04c6798ef131afb4b0078": {
      "model_module": "@jupyter-widgets/controls",
      "model_module_version": "1.5.0",
      "model_name": "LabelModel",
      "state": {
       "description": "Username",
       "layout": "IPY_MODEL_5f8234bcf1f2463fbc2d12f0357e8993",
       "style": "IPY_MODEL_696a74ee8fc24ead8890bbf767bba5bc",
       "value": "Username*"
      }
     },
     "06e37c238a664affbd5268da39929dbe": {
      "model_module": "@jupyter-widgets/base",
      "model_module_version": "1.2.0",
      "model_name": "LayoutModel",
      "state": {
       "display": "none",
       "grid_template_areas": "\n                    \"label input\"\n                    \". description\"\n                ",
       "grid_template_columns": "25% 75%",
       "grid_template_rows": "auto auto",
       "width": "100%"
      }
     },
     "0785b88858c14152bac5f3a92ddafa5b": {
      "model_module": "@jupyter-widgets/base",
      "model_module_version": "1.2.0",
      "model_name": "LayoutModel",
      "state": {
       "display": "none",
       "grid_template_areas": "\n                    \"label input\"\n                    \". description\"\n                ",
       "grid_template_columns": "25% 75%",
       "grid_template_rows": "auto auto",
       "width": "100%"
      }
     },
     "080a09ea0c0a465fa17af5466543e768": {
      "model_module": "@jupyter-widgets/base",
      "model_module_version": "1.2.0",
      "model_name": "LayoutModel",
      "state": {
       "grid_area": "label",
       "width": "auto"
      }
     },
     "0ae44ff680e04585a1405ecd7909a10a": {
      "model_module": "@jupyter-widgets/base",
      "model_module_version": "1.2.0",
      "model_name": "LayoutModel",
      "state": {
       "grid_area": "description",
       "width": "auto"
      }
     },
     "0db6bf31ea504e51b6c49495445aa5c5": {
      "model_module": "@jupyter-widgets/base",
      "model_module_version": "1.2.0",
      "model_name": "LayoutModel",
      "state": {}
     },
     "106858df3f3143f8a276ca1084796869": {
      "model_module": "@jupyter-widgets/controls",
      "model_module_version": "1.5.0",
      "model_name": "LabelModel",
      "state": {
       "description": "output variable",
       "layout": "IPY_MODEL_ef5c33125877435e9e443e580dd39d7b",
       "style": "IPY_MODEL_e8ccb7f83523497c9d57042cc68f2791",
       "value": "output variable"
      }
     },
     "109a1a07884543a88b10f2fe69f5ad7a": {
      "model_module": "@jupyter-widgets/controls",
      "model_module_version": "1.5.0",
      "model_name": "LabelModel",
      "state": {
       "layout": "IPY_MODEL_b6768cc0e5dc483fa9b615415bcb3e35",
       "style": "IPY_MODEL_788388e0b9254f3f946ce8f48f02bdfb"
      }
     },
     "11db0bda10824c3d9c3631005f57d41e": {
      "model_module": "@jupyter-widgets/controls",
      "model_module_version": "1.5.0",
      "model_name": "ComboboxModel",
      "state": {
       "_dom_classes": [
        "nbtools-menu-attached",
        "nbtools-nosendto"
       ],
       "choices": {
        "Broad Internal": "https://gpbroad.broadinstitute.org/gp",
        "GenePattern Cloud": "https://cloud.genepattern.org/gp",
        "Indiana University": "https://gp.indiana.edu/gp"
       },
       "ensure_option": false,
       "kinds": [],
       "layout": "IPY_MODEL_6d84e0c0f30f4fa58ce07370ce9a8b7b",
       "style": "IPY_MODEL_269a70ae793e45ada41e38f542a533fb",
       "value": "https://cloud.genepattern.org/gp"
      }
     },
     "132ecddbbf044ffe92dd13a3f872bb04": {
      "model_module": "@jupyter-widgets/output",
      "model_module_version": "1.0.0",
      "model_name": "OutputModel",
      "state": {
       "layout": "IPY_MODEL_a0bb3b8531a447a09b5c702f97f1e27c"
      }
     },
     "1421516a584f4fe5a06b65d559229fa4": {
      "model_module": "@jupyter-widgets/controls",
      "model_module_version": "1.5.0",
      "model_name": "DescriptionStyleModel",
      "state": {
       "description_width": ""
      }
     },
     "143077acd6df4ed08463dc84fce528e6": {
      "model_module": "@jupyter-widgets/controls",
      "model_module_version": "1.5.0",
      "model_name": "DescriptionStyleModel",
      "state": {
       "description_width": ""
      }
     },
     "150ff4a92b4f454581d987eca389ac4d": {
      "model_module": "@jupyter-widgets/controls",
      "model_module_version": "1.5.0",
      "model_name": "DescriptionStyleModel",
      "state": {
       "description_width": ""
      }
     },
     "16116553dadf46b895eb978980b1e272": {
      "model_module": "@jupyter-widgets/base",
      "model_module_version": "1.2.0",
      "model_name": "LayoutModel",
      "state": {}
     },
     "17ea75d38ca74630a595abe80224400a": {
      "model_module": "@jupyter-widgets/base",
      "model_module_version": "1.2.0",
      "model_name": "LayoutModel",
      "state": {
       "grid_area": "label",
       "width": "auto"
      }
     },
     "1a39f6abcd6b406a8f38888f16ca6cb4": {
      "model_module": "@jupyter-widgets/controls",
      "model_module_version": "1.5.0",
      "model_name": "GridBoxModel",
      "state": {
       "_dom_classes": [
        "nbtools-input",
        "nbtools-textinput"
       ],
       "children": [
        "IPY_MODEL_913c32af10d4479f9da016f4b309bcc3",
        "IPY_MODEL_1f4825e6d43443a6b4dab98841f8b6bf",
        "IPY_MODEL_260b88fdac494d5f802880d07c96cf55"
       ],
       "layout": "IPY_MODEL_06e37c238a664affbd5268da39929dbe"
      }
     },
     "1b58971fca664f0786f57f5f7534bfe5": {
      "model_module": "@jupyter-widgets/controls",
      "model_module_version": "1.5.0",
      "model_name": "LabelModel",
      "state": {
       "layout": "IPY_MODEL_0ae44ff680e04585a1405ecd7909a10a",
       "style": "IPY_MODEL_4b2e597ff45643ec8d8f565a598120ee"
      }
     },
     "1ed3866900b847039a136320dddfe2ad": {
      "model_module": "@jupyter-widgets/controls",
      "model_module_version": "1.5.0",
      "model_name": "ButtonStyleModel",
      "state": {}
     },
     "1f4825e6d43443a6b4dab98841f8b6bf": {
      "model_module": "@jupyter-widgets/controls",
      "model_module_version": "1.5.0",
      "model_name": "TextModel",
      "state": {
       "_dom_classes": [
        "nbtools-menu-attached"
       ],
       "layout": "IPY_MODEL_90a4bc4056a34c9b92cca6b9d4f73ead",
       "style": "IPY_MODEL_5bfe41cea5564ad0be270fcbc6849f58"
      }
     },
     "20581bd61bcd4bb8a825f6f72695acf7": {
      "model_module": "@jupyter-widgets/controls",
      "model_module_version": "1.5.0",
      "model_name": "LabelModel",
      "state": {
       "layout": "IPY_MODEL_d02ce48222ec44a091249698aff78431",
       "style": "IPY_MODEL_61d8f66f7ea641a5967d1e60a3349da8"
      }
     },
     "209536736df644719892d360eb731677": {
      "model_module": "@jupyter-widgets/base",
      "model_module_version": "1.2.0",
      "model_name": "LayoutModel",
      "state": {
       "grid_area": "description",
       "width": "auto"
      }
     },
     "21f341e2acc94b798e43cb485e91db64": {
      "model_module": "@jupyter-widgets/base",
      "model_module_version": "1.2.0",
      "model_name": "LayoutModel",
      "state": {}
     },
     "2350333f928c4470a6761235437518ca": {
      "model_module": "@jupyter-widgets/base",
      "model_module_version": "1.2.0",
      "model_name": "LayoutModel",
      "state": {
       "grid_area": "label",
       "width": "auto"
      }
     },
     "260b88fdac494d5f802880d07c96cf55": {
      "model_module": "@jupyter-widgets/controls",
      "model_module_version": "1.5.0",
      "model_name": "LabelModel",
      "state": {
       "layout": "IPY_MODEL_6635d251c9124f22a158f256ee05ee84",
       "style": "IPY_MODEL_273a18df2aa0445e91c1cbc662817447"
      }
     },
     "269a70ae793e45ada41e38f542a533fb": {
      "model_module": "@jupyter-widgets/controls",
      "model_module_version": "1.5.0",
      "model_name": "DescriptionStyleModel",
      "state": {
       "description_width": ""
      }
     },
     "26efb94b861347b78d8e311c4dd00110": {
      "model_module": "@jupyter-widgets/base",
      "model_module_version": "1.2.0",
      "model_name": "LayoutModel",
      "state": {}
     },
     "27243c4791ac42e98490f3b836b90c0a": {
      "model_module": "@jupyter-widgets/base",
      "model_module_version": "1.2.0",
      "model_name": "LayoutModel",
      "state": {
       "grid_template_areas": "\n                    \"label input\"\n                    \". description\"\n                ",
       "grid_template_columns": "25% 75%",
       "grid_template_rows": "auto auto",
       "width": "100%"
      }
     },
     "273a18df2aa0445e91c1cbc662817447": {
      "model_module": "@jupyter-widgets/controls",
      "model_module_version": "1.5.0",
      "model_name": "DescriptionStyleModel",
      "state": {
       "description_width": ""
      }
     },
     "2d05c8a032f44287891a23636d73f4b5": {
      "model_module": "@jupyter-widgets/controls",
      "model_module_version": "1.5.0",
      "model_name": "GridBoxModel",
      "state": {
       "_dom_classes": [
        "nbtools-input",
        "nbtools-textinput"
       ],
       "children": [
        "IPY_MODEL_106858df3f3143f8a276ca1084796869",
        "IPY_MODEL_b98c9e5cbbdf4f9f9f12a4a6fd736223",
        "IPY_MODEL_d09e503580164cc387c9f74196f1d91f"
       ],
       "layout": "IPY_MODEL_a97e2b3c2b7b46f190faebb72285625d"
      }
     },
     "309de904b92a418ea61ae3524b6bd1de": {
      "model_module": "@jupyter-widgets/controls",
      "model_module_version": "1.5.0",
      "model_name": "HBoxModel",
      "state": {
       "children": [
        "IPY_MODEL_6faa27f7397c4edcad5d6080539f93d9",
        "IPY_MODEL_c64130e7e0e34854882cdefd8ac4972a"
       ],
       "layout": "IPY_MODEL_c224f79598634eb5ba0d9544514358ae"
      }
     },
     "30dcf35958d24219bdf0a5257433ae27": {
      "model_module": "@jupyter-widgets/base",
      "model_module_version": "1.2.0",
      "model_name": "LayoutModel",
      "state": {
       "grid_area": "label",
       "width": "auto"
      }
     },
     "31a61482e5564023bb9aec2220c089fa": {
      "model_module": "@jupyter-widgets/base",
      "model_module_version": "1.2.0",
      "model_name": "LayoutModel",
      "state": {}
     },
     "31cce81f569c476faef2005168a6cafe": {
      "model_module": "@jupyter-widgets/output",
      "model_module_version": "1.0.0",
      "model_name": "OutputModel",
      "state": {
       "layout": "IPY_MODEL_0db6bf31ea504e51b6c49495445aa5c5"
      }
     },
     "329542ba76d348a48709b89322295e29": {
      "model_module": "@jupyter-widgets/controls",
      "model_module_version": "1.5.0",
      "model_name": "LabelModel",
      "state": {
       "description": "output variable",
       "layout": "IPY_MODEL_080a09ea0c0a465fa17af5466543e768",
       "style": "IPY_MODEL_fa063962a301465299e05708f3eb6b7c",
       "value": "output variable"
      }
     },
     "368d6eb4e1b44a5f80bcfad8ae525dd5": {
      "model_module": "@jupyter-widgets/controls",
      "model_module_version": "1.5.0",
      "model_name": "DescriptionStyleModel",
      "state": {
       "description_width": ""
      }
     },
     "3f2b09b41d294c89b67b64d55078bc35": {
      "model_module": "@jupyter-widgets/output",
      "model_module_version": "1.0.0",
      "model_name": "OutputModel",
      "state": {
       "layout": "IPY_MODEL_fefbe72c0289407093903e1c7e7a883b"
      }
     },
     "4577dc3c0866436b94700eb9174b5519": {
      "model_module": "@jupyter-widgets/controls",
      "model_module_version": "1.5.0",
      "model_name": "DescriptionStyleModel",
      "state": {
       "description_width": ""
      }
     },
     "480936bcc345414ba8aee570403bdff1": {
      "model_module": "@jupyter-widgets/controls",
      "model_module_version": "1.5.0",
      "model_name": "DescriptionStyleModel",
      "state": {
       "description_width": ""
      }
     },
     "48248a782aa24922bebec3e2a0ca7ed0": {
      "model_module": "@jupyter-widgets/controls",
      "model_module_version": "1.5.0",
      "model_name": "ButtonModel",
      "state": {
       "_dom_classes": [
        "hidden"
       ],
       "description": "Run",
       "layout": "IPY_MODEL_e7384f746a60435593d358a0f7391bd9",
       "style": "IPY_MODEL_a80be102d80f44e19485359fe467bb46"
      }
     },
     "49aa01c1d4b04169a16dde3c9b4200c8": {
      "model_module": "@jupyter-widgets/controls",
      "model_module_version": "1.5.0",
      "model_name": "GridBoxModel",
      "state": {
       "_dom_classes": [
        "nbtools-input",
        "nbtools-textinput",
        "required"
       ],
       "children": [
        "IPY_MODEL_06a3ce4d92e04c6798ef131afb4b0078",
        "IPY_MODEL_b8e71d8e576c43cebe264e81e3e231f2",
        "IPY_MODEL_4d307d626edf401eadb1345caf851cba"
       ],
       "layout": "IPY_MODEL_eaaf39d6d0564add998ece9de849dbdc"
      }
     },
     "4b10e084723045d7ae3327fbcf22beb3": {
      "model_module": "@jupyter-widgets/base",
      "model_module_version": "1.2.0",
      "model_name": "LayoutModel",
      "state": {
       "grid_area": "input",
       "width": "auto"
      }
     },
     "4b2e597ff45643ec8d8f565a598120ee": {
      "model_module": "@jupyter-widgets/controls",
      "model_module_version": "1.5.0",
      "model_name": "DescriptionStyleModel",
      "state": {
       "description_width": ""
      }
     },
     "4c44c8ed029840e79d25880a9edeae98": {
      "model_module": "@jupyter-widgets/controls",
      "model_module_version": "1.5.0",
      "model_name": "DescriptionStyleModel",
      "state": {
       "description_width": ""
      }
     },
     "4d307d626edf401eadb1345caf851cba": {
      "model_module": "@jupyter-widgets/controls",
      "model_module_version": "1.5.0",
      "model_name": "LabelModel",
      "state": {
       "layout": "IPY_MODEL_77661290908b40d389738049c603b5d1",
       "style": "IPY_MODEL_661db45a6191476cbf41c68077d10dc2"
      }
     },
     "4d36d5aa6b6d47d992c631daa9938397": {
      "model_module": "@jupyter-widgets/base",
      "model_module_version": "1.2.0",
      "model_name": "LayoutModel",
      "state": {
       "grid_area": "input",
       "width": "auto"
      }
     },
     "540a62f8ba5842ed9333970054948209": {
      "model_module": "@jupyter-widgets/base",
      "model_module_version": "1.2.0",
      "model_name": "LayoutModel",
      "state": {}
     },
     "5bfe41cea5564ad0be270fcbc6849f58": {
      "model_module": "@jupyter-widgets/controls",
      "model_module_version": "1.5.0",
      "model_name": "DescriptionStyleModel",
      "state": {
       "description_width": ""
      }
     },
     "5d4fe5280f96466da1ac16ebf0122536": {
      "model_module": "@jupyter-widgets/base",
      "model_module_version": "1.2.0",
      "model_name": "LayoutModel",
      "state": {}
     },
     "5f8234bcf1f2463fbc2d12f0357e8993": {
      "model_module": "@jupyter-widgets/base",
      "model_module_version": "1.2.0",
      "model_name": "LayoutModel",
      "state": {
       "grid_area": "label",
       "width": "auto"
      }
     },
     "61d8f66f7ea641a5967d1e60a3349da8": {
      "model_module": "@jupyter-widgets/controls",
      "model_module_version": "1.5.0",
      "model_name": "DescriptionStyleModel",
      "state": {
       "description_width": ""
      }
     },
     "62278253e0ff49e8b78c31b3843270bc": {
      "model_module": "@jupyter-widgets/controls",
      "model_module_version": "1.5.0",
      "model_name": "GridBoxModel",
      "state": {
       "_dom_classes": [
        "nbtools-input",
        "nbtools-textinput"
       ],
       "children": [
        "IPY_MODEL_d75f0def55774e6699b1479eaaa91ff0",
        "IPY_MODEL_86577c568de446e59006a12395c29915",
        "IPY_MODEL_1b58971fca664f0786f57f5f7534bfe5"
       ],
       "layout": "IPY_MODEL_7a0e99025b8d46408128a5bbc21826a8"
      }
     },
     "63b97a5083704084802f98657d93f2c1": {
      "model_module": "@jupyter-widgets/controls",
      "model_module_version": "1.5.0",
      "model_name": "TextModel",
      "state": {
       "_dom_classes": [
        "nbtools-menu-attached"
       ],
       "layout": "IPY_MODEL_93a7e474518b493db4b043d1ca2e4cf4",
       "style": "IPY_MODEL_b2a07f3fb04d4d9d850e0364d27a1a30"
      }
     },
     "661db45a6191476cbf41c68077d10dc2": {
      "model_module": "@jupyter-widgets/controls",
      "model_module_version": "1.5.0",
      "model_name": "DescriptionStyleModel",
      "state": {
       "description_width": ""
      }
     },
     "6635d251c9124f22a158f256ee05ee84": {
      "model_module": "@jupyter-widgets/base",
      "model_module_version": "1.2.0",
      "model_name": "LayoutModel",
      "state": {
       "grid_area": "description",
       "width": "auto"
      }
     },
     "679ca7086cb8413e88d4f85be25c13c6": {
      "model_module": "@jupyter-widgets/base",
      "model_module_version": "1.2.0",
      "model_name": "LayoutModel",
      "state": {
       "grid_area": "label",
       "width": "auto"
      }
     },
     "69129777320d45d5ae592b72fcb92ab5": {
      "model_module": "@jupyter-widgets/controls",
      "model_module_version": "1.5.0",
      "model_name": "ButtonModel",
      "state": {
       "_dom_classes": [
        "hidden"
       ],
       "description": "Run",
       "layout": "IPY_MODEL_fd04d946c028475392a8f3db1943a18e",
       "style": "IPY_MODEL_d69cbefd0395499498dfb2437aa5141d"
      }
     },
     "694e26ff8cbe4471b849727d922475b7": {
      "model_module": "@jupyter-widgets/controls",
      "model_module_version": "1.5.0",
      "model_name": "DescriptionStyleModel",
      "state": {
       "description_width": ""
      }
     },
     "696a74ee8fc24ead8890bbf767bba5bc": {
      "model_module": "@jupyter-widgets/controls",
      "model_module_version": "1.5.0",
      "model_name": "DescriptionStyleModel",
      "state": {
       "description_width": ""
      }
     },
     "6a04f057b93941ab93e58a1304f183bf": {
      "model_module": "@jupyter-widgets/base",
      "model_module_version": "1.2.0",
      "model_name": "LayoutModel",
      "state": {
       "grid_template_areas": "\n                    \"label input\"\n                    \". description\"\n                ",
       "grid_template_columns": "25% 75%",
       "grid_template_rows": "auto auto",
       "width": "100%"
      }
     },
     "6a6958dbc9174d509933bc6e5a36f375": {
      "model_module": "@jupyter-widgets/base",
      "model_module_version": "1.2.0",
      "model_name": "LayoutModel",
      "state": {}
     },
     "6c9a09ae10ae436c8b0a141f3c10ded6": {
      "model_module": "@jupyter-widgets/controls",
      "model_module_version": "1.5.0",
      "model_name": "GridBoxModel",
      "state": {
       "_dom_classes": [
        "nbtools-input",
        "nbtools-textinput"
       ],
       "children": [
        "IPY_MODEL_329542ba76d348a48709b89322295e29",
        "IPY_MODEL_63b97a5083704084802f98657d93f2c1",
        "IPY_MODEL_d24a71549dc84f68939a0339b5edb02c"
       ],
       "layout": "IPY_MODEL_0785b88858c14152bac5f3a92ddafa5b"
      }
     },
     "6d84e0c0f30f4fa58ce07370ce9a8b7b": {
      "model_module": "@jupyter-widgets/base",
      "model_module_version": "1.2.0",
      "model_name": "LayoutModel",
      "state": {
       "grid_area": "input",
       "width": "auto"
      }
     },
     "6ef0b8fa332643218aa69c9a7cef3b59": {
      "model_module": "@jupyter-widgets/controls",
      "model_module_version": "1.5.0",
      "model_name": "ComboboxModel",
      "state": {
       "_dom_classes": [
        "nbtools-menu-attached"
       ],
       "choices": {},
       "ensure_option": false,
       "kinds": [
        "_s.odf"
       ],
       "layout": "IPY_MODEL_540a62f8ba5842ed9333970054948209",
       "style": "IPY_MODEL_694e26ff8cbe4471b849727d922475b7"
      }
     },
     "6f395ece4d234c16a19069ddf100b15c": {
      "model_module": "@jupyter-widgets/controls",
      "model_module_version": "1.5.0",
      "model_name": "VBoxModel",
      "state": {
       "_dom_classes": [
        "widget-interact"
       ],
       "children": [
        "IPY_MODEL_738432c3c9204ac9a291ac9e120f4776",
        "IPY_MODEL_49aa01c1d4b04169a16dde3c9b4200c8",
        "IPY_MODEL_734a2f32efe246f381cc19bd72ff504a",
        "IPY_MODEL_95537e20322749c4a841366a767126f3",
        "IPY_MODEL_1a39f6abcd6b406a8f38888f16ca6cb4"
       ],
       "layout": "IPY_MODEL_5d4fe5280f96466da1ac16ebf0122536"
      }
     },
     "6faa27f7397c4edcad5d6080539f93d9": {
      "model_module": "@jupyter-widgets/controls",
      "model_module_version": "1.5.0",
      "model_name": "FileUploadModel",
      "state": {
       "accept": "._s.odf",
       "description_tooltip": null,
       "layout": "IPY_MODEL_26efb94b861347b78d8e311c4dd00110",
       "style": "IPY_MODEL_7006981fca9c49f1a63c41f5f86cdca1"
      }
     },
     "7006981fca9c49f1a63c41f5f86cdca1": {
      "model_module": "@jupyter-widgets/controls",
      "model_module_version": "1.5.0",
      "model_name": "ButtonStyleModel",
      "state": {}
     },
     "70cbbeb73cbd4994bd79653be36e42ce": {
      "model_module": "@jupyter-widgets/base",
      "model_module_version": "1.2.0",
      "model_name": "LayoutModel",
      "state": {}
     },
     "7342a57bce51451286c31a3ce0f951c8": {
      "model_module": "@jupyter-widgets/output",
      "model_module_version": "1.0.0",
      "model_name": "OutputModel",
      "state": {
       "layout": "IPY_MODEL_743f7314108d4ec9ae4900390abc2569"
      }
     },
     "734a2f32efe246f381cc19bd72ff504a": {
      "model_module": "@jupyter-widgets/controls",
      "model_module_version": "1.5.0",
      "model_name": "GridBoxModel",
      "state": {
       "_dom_classes": [
        "nbtools-input",
        "nbtools-passwordinput",
        "required"
       ],
       "children": [
        "IPY_MODEL_ae9067dccbe843f1a20471331a609967",
        "IPY_MODEL_da452f551c0a42f384deb56e0b038dd5",
        "IPY_MODEL_109a1a07884543a88b10f2fe69f5ad7a"
       ],
       "layout": "IPY_MODEL_a5c41c6ab7c84d25b24a21106940cd17"
      }
     },
     "738432c3c9204ac9a291ac9e120f4776": {
      "model_module": "@jupyter-widgets/controls",
      "model_module_version": "1.5.0",
      "model_name": "GridBoxModel",
      "state": {
       "_dom_classes": [
        "nbtools-input",
        "nbtools-comboinput",
        "required"
       ],
       "children": [
        "IPY_MODEL_abf0771295dd4a24b8618e3159ed690d",
        "IPY_MODEL_11db0bda10824c3d9c3631005f57d41e",
        "IPY_MODEL_f3622205a85f487db7ebc1e71cfb25fc"
       ],
       "layout": "IPY_MODEL_6a04f057b93941ab93e58a1304f183bf"
      }
     },
     "743f7314108d4ec9ae4900390abc2569": {
      "model_module": "@jupyter-widgets/base",
      "model_module_version": "1.2.0",
      "model_name": "LayoutModel",
      "state": {}
     },
     "76df75a7476346589e7ac789d245b402": {
      "model_module": "@jupyter-widgets/base",
      "model_module_version": "1.2.0",
      "model_name": "LayoutModel",
      "state": {}
     },
     "77661290908b40d389738049c603b5d1": {
      "model_module": "@jupyter-widgets/base",
      "model_module_version": "1.2.0",
      "model_name": "LayoutModel",
      "state": {
       "grid_area": "description",
       "width": "auto"
      }
     },
     "788388e0b9254f3f946ce8f48f02bdfb": {
      "model_module": "@jupyter-widgets/controls",
      "model_module_version": "1.5.0",
      "model_name": "DescriptionStyleModel",
      "state": {
       "description_width": ""
      }
     },
     "7a0e99025b8d46408128a5bbc21826a8": {
      "model_module": "@jupyter-widgets/base",
      "model_module_version": "1.2.0",
      "model_name": "LayoutModel",
      "state": {
       "display": "none",
       "grid_template_areas": "\n                    \"label input\"\n                    \". description\"\n                ",
       "grid_template_columns": "25% 75%",
       "grid_template_rows": "auto auto",
       "width": "100%"
      }
     },
     "7c0a88d219a74f4ab4a360ad683a77ab": {
      "model_module": "@jupyter-widgets/controls",
      "model_module_version": "1.5.0",
      "model_name": "VBoxModel",
      "state": {
       "_dom_classes": [
        "widget-interact"
       ],
       "children": [
        "IPY_MODEL_69129777320d45d5ae592b72fcb92ab5",
        "IPY_MODEL_7342a57bce51451286c31a3ce0f951c8"
       ],
       "layout": "IPY_MODEL_31a61482e5564023bb9aec2220c089fa"
      }
     },
     "86577c568de446e59006a12395c29915": {
      "model_module": "@jupyter-widgets/controls",
      "model_module_version": "1.5.0",
      "model_name": "TextModel",
      "state": {
       "_dom_classes": [
        "nbtools-menu-attached"
       ],
       "layout": "IPY_MODEL_4b10e084723045d7ae3327fbcf22beb3",
       "style": "IPY_MODEL_94223a4c411d4af2bebc4f390e065950"
      }
     },
     "89b9aec99fc04864af616ff00128367f": {
      "model_module": "@jupyter-widgets/controls",
      "model_module_version": "1.5.0",
      "model_name": "GridBoxModel",
      "state": {
       "_dom_classes": [
        "nbtools-input",
        "nbtools-fileinput",
        "required"
       ],
       "children": [
        "IPY_MODEL_e76ac3d9cb37444c907c77af66690324",
        "IPY_MODEL_309de904b92a418ea61ae3524b6bd1de",
        "IPY_MODEL_20581bd61bcd4bb8a825f6f72695acf7"
       ],
       "layout": "IPY_MODEL_27243c4791ac42e98490f3b836b90c0a"
      }
     },
     "8f2d45eead4e49ab940f20719c37a385": {
      "model_module": "@jupyter-widgets/base",
      "model_module_version": "1.2.0",
      "model_name": "LayoutModel",
      "state": {
       "grid_area": "description",
       "width": "auto"
      }
     },
     "90a4bc4056a34c9b92cca6b9d4f73ead": {
      "model_module": "@jupyter-widgets/base",
      "model_module_version": "1.2.0",
      "model_name": "LayoutModel",
      "state": {
       "grid_area": "input",
       "width": "auto"
      }
     },
     "913c32af10d4479f9da016f4b309bcc3": {
      "model_module": "@jupyter-widgets/controls",
      "model_module_version": "1.5.0",
      "model_name": "LabelModel",
      "state": {
       "description": "output variable",
       "layout": "IPY_MODEL_679ca7086cb8413e88d4f85be25c13c6",
       "style": "IPY_MODEL_368d6eb4e1b44a5f80bcfad8ae525dd5",
       "value": "output variable"
      }
     },
     "93a7e474518b493db4b043d1ca2e4cf4": {
      "model_module": "@jupyter-widgets/base",
      "model_module_version": "1.2.0",
      "model_name": "LayoutModel",
      "state": {
       "grid_area": "input",
       "width": "auto"
      }
     },
     "94223a4c411d4af2bebc4f390e065950": {
      "model_module": "@jupyter-widgets/controls",
      "model_module_version": "1.5.0",
      "model_name": "DescriptionStyleModel",
      "state": {
       "description_width": ""
      }
     },
     "942846b32344422c9efac8d74ded3532": {
      "model_module": "@jupyter-widgets/controls",
      "model_module_version": "1.5.0",
      "model_name": "DescriptionStyleModel",
      "state": {
       "description_width": ""
      }
     },
     "952f0bd050db4c6dacf98ed0844f567b": {
      "model_module": "@jupyter-widgets/controls",
      "model_module_version": "1.5.0",
      "model_name": "ButtonStyleModel",
      "state": {}
     },
     "95537e20322749c4a841366a767126f3": {
      "model_module": "@jupyter-widgets/controls",
      "model_module_version": "1.5.0",
      "model_name": "ButtonModel",
      "state": {
       "_dom_classes": [
        "hidden"
       ],
       "description": "Run",
       "layout": "IPY_MODEL_21f341e2acc94b798e43cb485e91db64",
       "style": "IPY_MODEL_952f0bd050db4c6dacf98ed0844f567b"
      }
     },
     "980bcf65a0ac401b92610351dbd75aaa": {
      "model_module": "@jupyter-widgets/controls",
      "model_module_version": "1.5.0",
      "model_name": "DescriptionStyleModel",
      "state": {
       "description_width": ""
      }
     },
     "989e78c9855743c0b31c911b0af4d5d2": {
      "model_module": "@jupyter-widgets/base",
      "model_module_version": "1.2.0",
      "model_name": "LayoutModel",
      "state": {}
     },
     "9ccc69c163864bab8aef7664c9deed67": {
      "model_module": "@jupyter-widgets/output",
      "model_module_version": "1.0.0",
      "model_name": "OutputModel",
      "state": {
       "layout": "IPY_MODEL_6a6958dbc9174d509933bc6e5a36f375",
       "outputs": [
        {
         "data": {},
         "metadata": {},
         "output_type": "display_data"
        }
       ]
      }
     },
     "a0bb3b8531a447a09b5c702f97f1e27c": {
      "model_module": "@jupyter-widgets/base",
      "model_module_version": "1.2.0",
      "model_name": "LayoutModel",
      "state": {}
     },
     "a207f3afe15940938d7da49c0a907222": {
      "model_module": "@jupyter-widgets/controls",
      "model_module_version": "1.5.0",
      "model_name": "VBoxModel",
      "state": {
       "_dom_classes": [
        "widget-interact"
       ],
       "children": [
        "IPY_MODEL_89b9aec99fc04864af616ff00128367f",
        "IPY_MODEL_b5af8c9aab5a4bdda73c2a4b6fe6fafc",
        "IPY_MODEL_6c9a09ae10ae436c8b0a141f3c10ded6"
       ],
       "layout": "IPY_MODEL_76df75a7476346589e7ac789d245b402"
      }
     },
     "a3ea9f3945d74fad8cb225fd74bf3fc9": {
      "model_module": "@jupyter-widgets/base",
      "model_module_version": "1.2.0",
      "model_name": "LayoutModel",
      "state": {}
     },
     "a5c41c6ab7c84d25b24a21106940cd17": {
      "model_module": "@jupyter-widgets/base",
      "model_module_version": "1.2.0",
      "model_name": "LayoutModel",
      "state": {
       "grid_template_areas": "\n                    \"label input\"\n                    \". description\"\n                ",
       "grid_template_columns": "25% 75%",
       "grid_template_rows": "auto auto",
       "width": "100%"
      }
     },
     "a80be102d80f44e19485359fe467bb46": {
      "model_module": "@jupyter-widgets/controls",
      "model_module_version": "1.5.0",
      "model_name": "ButtonStyleModel",
      "state": {}
     },
     "a97e2b3c2b7b46f190faebb72285625d": {
      "model_module": "@jupyter-widgets/base",
      "model_module_version": "1.2.0",
      "model_name": "LayoutModel",
      "state": {
       "display": "none",
       "grid_template_areas": "\n                    \"label input\"\n                    \". description\"\n                ",
       "grid_template_columns": "25% 75%",
       "grid_template_rows": "auto auto",
       "width": "100%"
      }
     },
     "abf0771295dd4a24b8618e3159ed690d": {
      "model_module": "@jupyter-widgets/controls",
      "model_module_version": "1.5.0",
      "model_name": "LabelModel",
      "state": {
       "description": "GenePattern Server",
       "layout": "IPY_MODEL_30dcf35958d24219bdf0a5257433ae27",
       "style": "IPY_MODEL_150ff4a92b4f454581d987eca389ac4d",
       "value": "GenePattern Server*"
      }
     },
     "ad429b4f39c04af282d662e46b00bcfb": {
      "model_module": "@genepattern/nbtools",
      "model_module_version": "^20.10.0-alpha.0",
      "model_name": "UIOutputModel",
      "state": {
       "_dom_classes": [],
       "_model_module_version": "^20.10.0-alpha.0",
       "_view_count": null,
       "_view_module_version": "^20.10.0-alpha.0",
       "appendix": "IPY_MODEL_da0cdb1ec8544fcb98cc26225d954335",
       "error": "Cannot find tool: GenePattern Cloud | urn:lsid:broad.mit.edu:cancer.software.genepattern.module.analysis:00017:4.2",
       "layout": "IPY_MODEL_a3ea9f3945d74fad8cb225fd74bf3fc9",
       "name": "Cannot find tool"
      }
     },
     "ae9067dccbe843f1a20471331a609967": {
      "model_module": "@jupyter-widgets/controls",
      "model_module_version": "1.5.0",
      "model_name": "LabelModel",
      "state": {
       "description": "Password",
       "layout": "IPY_MODEL_2350333f928c4470a6761235437518ca",
       "style": "IPY_MODEL_4577dc3c0866436b94700eb9174b5519",
       "value": "Password*"
      }
     },
     "b1ef37fa403141c19eb65955d2c64e77": {
      "model_module": "@genepattern/nbtools",
      "model_module_version": "^20.10.0-alpha.0",
      "model_name": "UIBuilderModel",
      "state": {
       "_dom_classes": [],
       "_model_module_version": "^20.10.0-alpha.0",
       "_parameters": [
        {
         "choices": {
          "Broad Internal": "https://gpbroad.broadinstitute.org/gp",
          "GenePattern Cloud": "https://cloud.genepattern.org/gp",
          "Indiana University": "https://gp.indiana.edu/gp"
         },
         "combo": true,
         "default": "https://cloud.genepattern.org/gp",
         "description": "",
         "events": null,
         "hide": false,
         "id": null,
         "kinds": null,
         "label": "GenePattern Server",
         "name": "server",
         "optional": false,
         "sendto": false,
         "type": "choice",
         "value": ""
        },
        {
         "choices": {},
         "default": "",
         "description": "",
         "events": null,
         "hide": false,
         "id": null,
         "kinds": null,
         "label": "Username",
         "name": "username",
         "optional": false,
         "sendto": false,
         "type": "text",
         "value": ""
        },
        {
         "choices": {},
         "default": "",
         "description": "",
         "events": null,
         "hide": false,
         "id": null,
         "kinds": null,
         "label": "Password",
         "name": "password",
         "optional": false,
         "sendto": false,
         "type": "password",
         "value": ""
        },
        {
         "choices": {},
         "default": "",
         "description": "",
         "events": null,
         "hide": true,
         "id": null,
         "kinds": null,
         "label": "output variable",
         "name": "output_var",
         "optional": true,
         "type": "text",
         "value": ""
        }
       ],
       "_view_count": null,
       "_view_module_version": "^20.10.0-alpha.0",
       "buttons": {
        "Register an Account": "\n    const target = event.target;\n    const widget = target.closest('.nbtools') || target;\n    const server_input = widget.querySelector('input[type=text]');\n    if (server_input) window.open(server_input.value + '/pages/registerUser.jsf');\n    else console.warn('Cannot obtain GenePattern Server URL');"
       },
       "collapse": false,
       "color": "rgba(10, 45, 105, 0.80)",
       "description": "Login to the GenePattern server",
       "display_header": false,
       "form": "IPY_MODEL_6f395ece4d234c16a19069ddf100b15c",
       "layout": "IPY_MODEL_70cbbeb73cbd4994bd79653be36e42ce",
       "name": "Login",
       "origin": "genepattern.authwidget",
       "output": "IPY_MODEL_132ecddbbf044ffe92dd13a3f872bb04",
       "output_var": "",
       "run_label": "Log into GenePattern"
      }
     },
     "b2a07f3fb04d4d9d850e0364d27a1a30": {
      "model_module": "@jupyter-widgets/controls",
      "model_module_version": "1.5.0",
      "model_name": "DescriptionStyleModel",
      "state": {
       "description_width": ""
      }
     },
     "b57e48158ee34731b7225c94b4049125": {
      "model_module": "@jupyter-widgets/base",
      "model_module_version": "1.2.0",
      "model_name": "LayoutModel",
      "state": {
       "grid_area": "input",
       "width": "auto"
      }
     },
     "b5af8c9aab5a4bdda73c2a4b6fe6fafc": {
      "model_module": "@jupyter-widgets/controls",
      "model_module_version": "1.5.0",
      "model_name": "ButtonModel",
      "state": {
       "_dom_classes": [
        "hidden"
       ],
       "description": "Run",
       "layout": "IPY_MODEL_16116553dadf46b895eb978980b1e272",
       "style": "IPY_MODEL_1ed3866900b847039a136320dddfe2ad"
      }
     },
     "b6768cc0e5dc483fa9b615415bcb3e35": {
      "model_module": "@jupyter-widgets/base",
      "model_module_version": "1.2.0",
      "model_name": "LayoutModel",
      "state": {
       "grid_area": "description",
       "width": "auto"
      }
     },
     "b88d511ce59a41d1878f0723e9b48967": {
      "model_module": "@jupyter-widgets/controls",
      "model_module_version": "1.5.0",
      "model_name": "VBoxModel",
      "state": {
       "_dom_classes": [
        "widget-interact"
       ],
       "children": [
        "IPY_MODEL_48248a782aa24922bebec3e2a0ca7ed0",
        "IPY_MODEL_31cce81f569c476faef2005168a6cafe"
       ],
       "layout": "IPY_MODEL_eae8fe3f868d47149523226127c3cc44"
      }
     },
     "b8e71d8e576c43cebe264e81e3e231f2": {
      "model_module": "@jupyter-widgets/controls",
      "model_module_version": "1.5.0",
      "model_name": "TextModel",
      "state": {
       "_dom_classes": [
        "nbtools-menu-attached"
       ],
       "layout": "IPY_MODEL_b57e48158ee34731b7225c94b4049125",
       "style": "IPY_MODEL_942846b32344422c9efac8d74ded3532"
      }
     },
     "b98c9e5cbbdf4f9f9f12a4a6fd736223": {
      "model_module": "@jupyter-widgets/controls",
      "model_module_version": "1.5.0",
      "model_name": "TextModel",
      "state": {
       "_dom_classes": [
        "nbtools-menu-attached"
       ],
       "layout": "IPY_MODEL_4d36d5aa6b6d47d992c631daa9938397",
       "style": "IPY_MODEL_1421516a584f4fe5a06b65d559229fa4"
      }
     },
     "c224f79598634eb5ba0d9544514358ae": {
      "model_module": "@jupyter-widgets/base",
      "model_module_version": "1.2.0",
      "model_name": "LayoutModel",
      "state": {
       "grid_area": "input",
       "width": "auto"
      }
     },
     "c64130e7e0e34854882cdefd8ac4972a": {
      "model_module": "@jupyter-widgets/controls",
      "model_module_version": "1.5.0",
      "model_name": "VBoxModel",
      "state": {
       "children": [
        "IPY_MODEL_6ef0b8fa332643218aa69c9a7cef3b59"
       ],
       "layout": "IPY_MODEL_989e78c9855743c0b31c911b0af4d5d2"
      }
     },
     "cb28a3783c844e5483395883b3e8098e": {
      "model_module": "@jupyter-widgets/output",
      "model_module_version": "1.0.0",
      "model_name": "OutputModel",
      "state": {
       "layout": "IPY_MODEL_dae7c9d03856462f928608ff2b0b4a5b"
      }
     },
     "ccdc7d66f427468db9005da86bc14fef": {
      "model_module": "@jupyter-widgets/base",
      "model_module_version": "1.2.0",
      "model_name": "LayoutModel",
      "state": {
       "grid_area": "input",
       "width": "auto"
      }
     },
     "d02ce48222ec44a091249698aff78431": {
      "model_module": "@jupyter-widgets/base",
      "model_module_version": "1.2.0",
      "model_name": "LayoutModel",
      "state": {
       "grid_area": "description",
       "width": "auto"
      }
     },
     "d09e503580164cc387c9f74196f1d91f": {
      "model_module": "@jupyter-widgets/controls",
      "model_module_version": "1.5.0",
      "model_name": "LabelModel",
      "state": {
       "layout": "IPY_MODEL_e90def6e9d1a4804afd5f7712cfd7249",
       "style": "IPY_MODEL_4c44c8ed029840e79d25880a9edeae98"
      }
     },
     "d24a71549dc84f68939a0339b5edb02c": {
      "model_module": "@jupyter-widgets/controls",
      "model_module_version": "1.5.0",
      "model_name": "LabelModel",
      "state": {
       "layout": "IPY_MODEL_209536736df644719892d360eb731677",
       "style": "IPY_MODEL_143077acd6df4ed08463dc84fce528e6"
      }
     },
     "d44cb15f85b24ffe977490b81d0c019b": {
      "model_module": "@jupyter-widgets/controls",
      "model_module_version": "1.5.0",
      "model_name": "DescriptionStyleModel",
      "state": {
       "description_width": ""
      }
     },
     "d69cbefd0395499498dfb2437aa5141d": {
      "model_module": "@jupyter-widgets/controls",
      "model_module_version": "1.5.0",
      "model_name": "ButtonStyleModel",
      "state": {}
     },
     "d75f0def55774e6699b1479eaaa91ff0": {
      "model_module": "@jupyter-widgets/controls",
      "model_module_version": "1.5.0",
      "model_name": "LabelModel",
      "state": {
       "description": "output variable",
       "layout": "IPY_MODEL_e2f5af38c39d4269ad710b05a43428c7",
       "style": "IPY_MODEL_d44cb15f85b24ffe977490b81d0c019b",
       "value": "output variable"
      }
     },
     "d95f379af8ce445f9bf45dd58b4e3d2c": {
      "model_module": "@genepattern/nbtools",
      "model_module_version": "^20.10.0-alpha.0",
      "model_name": "UIBuilderModel",
      "state": {
       "_dom_classes": [],
       "_model_module_version": "^20.10.0-alpha.0",
       "_parameters": [
        {
         "choices": {},
         "default": "",
         "description": "",
         "events": null,
         "hide": false,
         "id": null,
         "kinds": [
          "_s.odf"
         ],
         "label": "bar",
         "name": "bar",
         "optional": false,
         "type": "file",
         "value": ""
        },
        {
         "choices": {},
         "default": "",
         "description": "",
         "events": null,
         "hide": true,
         "id": null,
         "kinds": null,
         "label": "output variable",
         "name": "output_var",
         "optional": true,
         "type": "text",
         "value": ""
        }
       ],
       "_view_count": null,
       "_view_module_version": "^20.10.0-alpha.0",
       "form": "IPY_MODEL_a207f3afe15940938d7da49c0a907222",
       "layout": "IPY_MODEL_e9878a4a668748a7a9f5132530d529d5",
       "name": "foo",
       "origin": "Notebook",
       "output": "IPY_MODEL_da2f987174554ef59eee18528d14bc43",
       "output_var": ""
      }
     },
     "da0cdb1ec8544fcb98cc26225d954335": {
      "model_module": "@jupyter-widgets/controls",
      "model_module_version": "1.5.0",
      "model_name": "VBoxModel",
      "state": {
       "layout": "IPY_MODEL_ebbc5797061546118228929757654e3f"
      }
     },
     "da2f987174554ef59eee18528d14bc43": {
      "model_module": "@jupyter-widgets/output",
      "model_module_version": "1.0.0",
      "model_name": "OutputModel",
      "state": {
       "layout": "IPY_MODEL_020660ff9d734e3086b4de634e71a5f7"
      }
     },
     "da452f551c0a42f384deb56e0b038dd5": {
      "model_module": "@jupyter-widgets/controls",
      "model_module_version": "1.5.0",
      "model_name": "PasswordModel",
      "state": {
       "layout": "IPY_MODEL_ccdc7d66f427468db9005da86bc14fef",
       "style": "IPY_MODEL_480936bcc345414ba8aee570403bdff1"
      }
     },
     "dae7c9d03856462f928608ff2b0b4a5b": {
      "model_module": "@jupyter-widgets/base",
      "model_module_version": "1.2.0",
      "model_name": "LayoutModel",
      "state": {}
     },
     "e2f5af38c39d4269ad710b05a43428c7": {
      "model_module": "@jupyter-widgets/base",
      "model_module_version": "1.2.0",
      "model_name": "LayoutModel",
      "state": {
       "grid_area": "label",
       "width": "auto"
      }
     },
     "e7384f746a60435593d358a0f7391bd9": {
      "model_module": "@jupyter-widgets/base",
      "model_module_version": "1.2.0",
      "model_name": "LayoutModel",
      "state": {}
     },
     "e76ac3d9cb37444c907c77af66690324": {
      "model_module": "@jupyter-widgets/controls",
      "model_module_version": "1.5.0",
      "model_name": "LabelModel",
      "state": {
       "description": "bar",
       "layout": "IPY_MODEL_17ea75d38ca74630a595abe80224400a",
       "style": "IPY_MODEL_f52084a2101947f6843bbeca4b786376",
       "value": "bar*"
      }
     },
     "e8ccb7f83523497c9d57042cc68f2791": {
      "model_module": "@jupyter-widgets/controls",
      "model_module_version": "1.5.0",
      "model_name": "DescriptionStyleModel",
      "state": {
       "description_width": ""
      }
     },
     "e90def6e9d1a4804afd5f7712cfd7249": {
      "model_module": "@jupyter-widgets/base",
      "model_module_version": "1.2.0",
      "model_name": "LayoutModel",
      "state": {
       "grid_area": "description",
       "width": "auto"
      }
     },
     "e9878a4a668748a7a9f5132530d529d5": {
      "model_module": "@jupyter-widgets/base",
      "model_module_version": "1.2.0",
      "model_name": "LayoutModel",
      "state": {}
     },
     "eaaf39d6d0564add998ece9de849dbdc": {
      "model_module": "@jupyter-widgets/base",
      "model_module_version": "1.2.0",
      "model_name": "LayoutModel",
      "state": {
       "grid_template_areas": "\n                    \"label input\"\n                    \". description\"\n                ",
       "grid_template_columns": "25% 75%",
       "grid_template_rows": "auto auto",
       "width": "100%"
      }
     },
     "eae8fe3f868d47149523226127c3cc44": {
      "model_module": "@jupyter-widgets/base",
      "model_module_version": "1.2.0",
      "model_name": "LayoutModel",
      "state": {}
     },
     "ebbc5797061546118228929757654e3f": {
      "model_module": "@jupyter-widgets/base",
      "model_module_version": "1.2.0",
      "model_name": "LayoutModel",
      "state": {}
     },
     "ef5c33125877435e9e443e580dd39d7b": {
      "model_module": "@jupyter-widgets/base",
      "model_module_version": "1.2.0",
      "model_name": "LayoutModel",
      "state": {
       "grid_area": "label",
       "width": "auto"
      }
     },
     "f3622205a85f487db7ebc1e71cfb25fc": {
      "model_module": "@jupyter-widgets/controls",
      "model_module_version": "1.5.0",
      "model_name": "LabelModel",
      "state": {
       "layout": "IPY_MODEL_8f2d45eead4e49ab940f20719c37a385",
       "style": "IPY_MODEL_980bcf65a0ac401b92610351dbd75aaa"
      }
     },
     "f52084a2101947f6843bbeca4b786376": {
      "model_module": "@jupyter-widgets/controls",
      "model_module_version": "1.5.0",
      "model_name": "DescriptionStyleModel",
      "state": {
       "description_width": ""
      }
     },
     "fa063962a301465299e05708f3eb6b7c": {
      "model_module": "@jupyter-widgets/controls",
      "model_module_version": "1.5.0",
      "model_name": "DescriptionStyleModel",
      "state": {
       "description_width": ""
      }
     },
     "fd04d946c028475392a8f3db1943a18e": {
      "model_module": "@jupyter-widgets/base",
      "model_module_version": "1.2.0",
      "model_name": "LayoutModel",
      "state": {}
     },
     "fefbe72c0289407093903e1c7e7a883b": {
      "model_module": "@jupyter-widgets/base",
      "model_module_version": "1.2.0",
      "model_name": "LayoutModel",
      "state": {}
     }
    },
    "version_major": 2,
    "version_minor": 0
   }
  }
 },
 "nbformat": 4,
 "nbformat_minor": 4
}
