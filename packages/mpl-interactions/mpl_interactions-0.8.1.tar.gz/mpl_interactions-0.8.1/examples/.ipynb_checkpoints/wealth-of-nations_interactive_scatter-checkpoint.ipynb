{
 "cells": [
  {
   "cell_type": "code",
   "execution_count": null,
   "metadata": {},
   "outputs": [],
   "source": [
    "%matplotlib ipympl\n",
    "import matplotlib.pyplot as plt\n",
    "import numpy as np\n",
    "from mpl_interactions import interactive_scatter\n",
    "import ipywidgets as widgets\n",
    "import pandas as pd\n",
    "from matplotlib.colors import to_rgba_array, TABLEAU_COLORS, XKCD_COLORS"
   ]
  },
  {
   "cell_type": "markdown",
   "metadata": {},
   "source": [
    "### Wealth of Nations\n",
    "Recreatation of [wealth of nations](https://observablehq.com/@mbostock/the-wealth-health-of-nations)\n",
    "The data preprocessing was taken from [example notebook](https://github.com/bqplot/bqplot/blob/55152feb645b523faccb97ea4083ca505f26f6a2/examples/Applications/Wealth%20Of%20Nations/Bubble%20Chart.ipynb) from the [bqplot](https://github.com/bqplot/bqplot) library. If you are working in jupyter notebooks then you should definitely check out bqplot!\n",
    "\n",
    "\n",
    "### Data preporcessing"
   ]
  },
  {
   "cell_type": "code",
   "execution_count": null,
   "metadata": {},
   "outputs": [],
   "source": [
    "# this cell was taken wholesale from the bqplot example \n",
    "# bqplot is under the apache license, see their license file here:\n",
    "# https://github.com/bqplot/bqplot/blob/55152feb645b523faccb97ea4083ca505f26f6a2/LICENSE\n",
    "data = pd.read_json('nations.json')\n",
    "def clean_data(data):\n",
    "    for column in ['income', 'lifeExpectancy', 'population']:\n",
    "        data = data.drop(data[data[column].apply(len) <= 4].index)\n",
    "    return data\n",
    "\n",
    "def extrap_interp(data):\n",
    "    data = np.array(data)\n",
    "    x_range = np.arange(1800, 2009, 1.)\n",
    "    y_range = np.interp(x_range, data[:, 0], data[:, 1])\n",
    "    return y_range\n",
    "\n",
    "def extrap_data(data):\n",
    "    for column in ['income', 'lifeExpectancy', 'population']:\n",
    "        data[column] = data[column].apply(extrap_interp)\n",
    "    return data\n",
    "data = clean_data(data)\n",
    "data = extrap_data(data)\n",
    "income_min, income_max = np.min(data['income'].apply(np.min)), np.max(data['income'].apply(np.max))\n",
    "life_exp_min, life_exp_max = np.min(data['lifeExpectancy'].apply(np.min)), np.max(data['lifeExpectancy'].apply(np.max))\n",
    "pop_min, pop_max = np.min(data['population'].apply(np.min)), np.max(data['population'].apply(np.max))"
   ]
  },
  {
   "cell_type": "markdown",
   "metadata": {},
   "source": [
    "### Define functions to provide the data"
   ]
  },
  {
   "cell_type": "code",
   "execution_count": null,
   "metadata": {},
   "outputs": [],
   "source": [
    "def x(year):\n",
    "    return data['income'].apply(lambda x: x[year-1800])\n",
    "\n",
    "def y(x,year):\n",
    "    return data['lifeExpectancy'].apply(lambda x: x[year-1800])\n",
    "\n",
    "def s(x, y, year):\n",
    "    pop =  data['population'].apply(lambda x: x[year-1800])\n",
    "    return 3000*pop.values/pop_max\n",
    "regions = data['region'].unique().tolist()\n",
    "c =  data['region'].apply(lambda x: list(TABLEAU_COLORS)[regions.index(x)]).values"
   ]
  },
  {
   "cell_type": "markdown",
   "metadata": {},
   "source": [
    "### Marvel at data"
   ]
  },
  {
   "cell_type": "code",
   "execution_count": null,
   "metadata": {},
   "outputs": [],
   "source": [
    "fig, ax, controls = interactive_scatter(x, y, s=s, year = np.arange(1800,2009),c=[c],\n",
    "                                        edgecolors='k', slider_format_string='{:d}')\n",
    "ax.set_xscale('log')\n",
    "ax.set_ylim([0,100])\n",
    "ax.set_xlim([200,income_max*1.05])\n",
    "ax.set_xlabel('Income')\n",
    "_ = ax.set_ylabel('Life Expectancy')"
   ]
  },
  {
   "cell_type": "code",
   "execution_count": null,
   "metadata": {},
   "outputs": [],
   "source": []
  }
 ],
 "metadata": {
  "kernelspec": {
   "display_name": "Python 3",
   "language": "python",
   "name": "python3"
  },
  "language_info": {
   "codemirror_mode": {
    "name": "ipython",
    "version": 3
   },
   "file_extension": ".py",
   "mimetype": "text/x-python",
   "name": "python",
   "nbconvert_exporter": "python",
   "pygments_lexer": "ipython3",
   "version": "3.7.8"
  }
 },
 "nbformat": 4,
 "nbformat_minor": 4
}
