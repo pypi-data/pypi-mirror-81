{
 "cells": [
  {
   "cell_type": "code",
   "execution_count": 2,
   "metadata": {},
   "outputs": [
    {
     "data": {
      "application/vnd.jupyter.widget-view+json": {
       "model_id": "f92c75c002264cc0910efd1fd550b03b",
       "version_major": 2,
       "version_minor": 0
      },
      "text/plain": [
       "GPAuthWidget(buttons={'Register an Account': \"\\n    const target = event.target;\\n    const widget = target.cl…"
      ]
     },
     "metadata": {},
     "output_type": "display_data"
    },
    {
     "data": {
      "application/vnd.jupyter.widget-view+json": {
       "model_id": "102c4ea4f76641e0943915c2672b7d75",
       "version_major": 2,
       "version_minor": 0
      },
      "text/plain": [
       "Output()"
      ]
     },
     "metadata": {},
     "output_type": "display_data"
    }
   ],
   "source": [
    "import nbtools\n",
    "\n",
    "nbtools.tool(id='authentication', origin='+')"
   ]
  },
  {
   "cell_type": "code",
   "execution_count": 3,
   "metadata": {},
   "outputs": [
    {
     "data": {
      "application/vnd.jupyter.widget-view+json": {
       "model_id": "614b9b368a944de094d3849581591294",
       "version_major": 2,
       "version_minor": 0
      },
      "text/plain": [
       "UIOutput(appendix=VBox(), files=['foo.gct'])"
      ]
     },
     "metadata": {},
     "output_type": "display_data"
    }
   ],
   "source": [
    "import nbtools\n",
    "\n",
    "nbtools.UIOutput(files=['foo.gct'])"
   ]
  },
  {
   "cell_type": "markdown",
   "metadata": {},
   "source": [
    "<span class=\"nbtools-text-option\">TEST MARKDOWN SENDTO</span>"
   ]
  },
  {
   "cell_type": "code",
   "execution_count": 4,
   "metadata": {},
   "outputs": [
    {
     "data": {
      "application/vnd.jupyter.widget-view+json": {
       "model_id": "16fffb401fab4009a1deb65a8f58e21f",
       "version_major": 2,
       "version_minor": 0
      },
      "text/plain": [
       "UIBuilder(collapse=True, form=InteractiveForm(children=(FileFormInput(value='', children=(Label(value='i*', de…"
      ]
     },
     "metadata": {},
     "output_type": "display_data"
    },
    {
     "data": {
      "application/vnd.jupyter.widget-view+json": {
       "model_id": "46f9aff750f741e8815bd8cbfc07625d",
       "version_major": 2,
       "version_minor": 0
      },
      "text/plain": [
       "Output()"
      ]
     },
     "metadata": {},
     "output_type": "display_data"
    }
   ],
   "source": [
    "# @nbtools.build_ui(parameters={\n",
    "#     'i': {\n",
    "#         'type': 'file',\n",
    "#         'kinds': ['gct']\n",
    "#     }\n",
    "# })\n",
    "def test_menus(i, j):\n",
    "    print(i)\n",
    "    \n",
    "uibuilder = nbtools.UIBuilder(test_menus, parameters={\n",
    "    'i': {\n",
    "        'type': 'file',\n",
    "        'kinds': ['gct']\n",
    "    }\n",
    "})\n",
    "\n",
    "uibuilder"
   ]
  },
  {
   "cell_type": "markdown",
   "metadata": {},
   "source": [
    "### Why is `min_std` and `confounding_variable_cls_file` required?"
   ]
  },
  {
   "cell_type": "code",
   "execution_count": 6,
   "metadata": {},
   "outputs": [
    {
     "data": {
      "application/vnd.jupyter.widget-view+json": {
       "model_id": "57275195f9f346bcaae58cfae57119a0",
       "version_major": 2,
       "version_minor": 0
      },
      "text/plain": [
       "UIOutput(appendix=VBox(), error='Cannot find tool: GenePattern Cloud | urn:lsid:broad.mit.edu:cancer.software.…"
      ]
     },
     "metadata": {},
     "output_type": "display_data"
    },
    {
     "data": {
      "application/vnd.jupyter.widget-view+json": {
       "model_id": "1063db8703b346338656df545568e258",
       "version_major": 2,
       "version_minor": 0
      },
      "text/plain": [
       "Output(outputs=({'output_type': 'display_data', 'data': {}, 'metadata': {}},))"
      ]
     },
     "metadata": {},
     "output_type": "display_data"
    }
   ],
   "source": [
    "nbtools.tool(id='urn:lsid:broad.mit.edu:cancer.software.genepattern.module.analysis:00002:2', origin='GenePattern Cloud')"
   ]
  },
  {
   "cell_type": "code",
   "execution_count": 7,
   "metadata": {},
   "outputs": [
    {
     "data": {
      "application/vnd.jupyter.widget-view+json": {
       "model_id": "fcb651e7be194097a3fb3f044f3c51ed",
       "version_major": 2,
       "version_minor": 0
      },
      "text/plain": [
       "UIOutput(appendix=VBox(), error='Cannot find tool: GenePattern Cloud | urn:lsid:broad.mit.edu:cancer.software.…"
      ]
     },
     "metadata": {},
     "output_type": "display_data"
    },
    {
     "data": {
      "application/vnd.jupyter.widget-view+json": {
       "model_id": "3aaec64f7ac4459db431b64575e1baa5",
       "version_major": 2,
       "version_minor": 0
      },
      "text/plain": [
       "Output(outputs=({'output_type': 'display_data', 'data': {}, 'metadata': {}},))"
      ]
     },
     "metadata": {},
     "output_type": "display_data"
    }
   ],
   "source": [
    "nbtools.tool(id='urn:lsid:broad.mit.edu:cancer.software.genepattern.module.analysis:00044:10.1', origin='GenePattern Cloud')"
   ]
  },
  {
   "cell_type": "code",
   "execution_count": 8,
   "metadata": {},
   "outputs": [
    {
     "data": {
      "application/vnd.jupyter.widget-view+json": {
       "model_id": "8836597d7ccd4fa88556f89ddb6f1d81",
       "version_major": 2,
       "version_minor": 0
      },
      "text/plain": [
       "UIOutput(appendix=VBox(), error='Cannot find tool: GenePattern Cloud | urn:lsid:broad.mit.edu:cancer.software.…"
      ]
     },
     "metadata": {},
     "output_type": "display_data"
    },
    {
     "data": {
      "application/vnd.jupyter.widget-view+json": {
       "model_id": "eb33a43dc327498688ac9e65e1603022",
       "version_major": 2,
       "version_minor": 0
      },
      "text/plain": [
       "Output(outputs=({'output_type': 'display_data', 'data': {}, 'metadata': {}},))"
      ]
     },
     "metadata": {},
     "output_type": "display_data"
    }
   ],
   "source": [
    "nbtools.tool(id='urn:lsid:broad.mit.edu:cancer.software.genepattern.module.visualizer:00045:9', origin='GenePattern Cloud')"
   ]
  },
  {
   "cell_type": "code",
   "execution_count": null,
   "metadata": {},
   "outputs": [],
   "source": []
  }
 ],
 "metadata": {
  "kernelspec": {
   "display_name": "Python 3",
   "language": "python",
   "name": "python3"
  },
  "language_info": {
   "codemirror_mode": {
    "name": "ipython",
    "version": 3
   },
   "file_extension": ".py",
   "mimetype": "text/x-python",
   "name": "python",
   "nbconvert_exporter": "python",
   "pygments_lexer": "ipython3",
   "version": "3.7.6"
  },
  "widgets": {
   "application/vnd.jupyter.widget-state+json": {
    "state": {
     "0797e5960fb9424b89d82b1ece91604e": {
      "model_module": "@jupyter-widgets/base",
      "model_module_version": "1.2.0",
      "model_name": "LayoutModel",
      "state": {}
     },
     "0916cd372e6b454599ad63b99677bcd0": {
      "model_module": "@jupyter-widgets/base",
      "model_module_version": "1.2.0",
      "model_name": "LayoutModel",
      "state": {}
     },
     "0e78b86e9828443d8edb3b53a0c56088": {
      "model_module": "@jupyter-widgets/base",
      "model_module_version": "1.2.0",
      "model_name": "LayoutModel",
      "state": {
       "grid_area": "description",
       "width": "auto"
      }
     },
     "102c4ea4f76641e0943915c2672b7d75": {
      "model_module": "@jupyter-widgets/output",
      "model_module_version": "1.0.0",
      "model_name": "OutputModel",
      "state": {
       "layout": "IPY_MODEL_c60a9d9bd2cd42729e80d913b952ccb2"
      }
     },
     "1063db8703b346338656df545568e258": {
      "model_module": "@jupyter-widgets/output",
      "model_module_version": "1.0.0",
      "model_name": "OutputModel",
      "state": {
       "layout": "IPY_MODEL_6db31814d07044f5bca4b22754d7f687",
       "outputs": [
        {
         "data": {},
         "metadata": {},
         "output_type": "display_data"
        }
       ]
      }
     },
     "1154a5169dd24bb5b70b7e85647e5d4f": {
      "model_module": "@jupyter-widgets/controls",
      "model_module_version": "1.5.0",
      "model_name": "ComboboxModel",
      "state": {
       "_dom_classes": [
        "nbtools-menu-attached"
       ],
       "choices": {},
       "ensure_option": false,
       "kinds": [],
       "layout": "IPY_MODEL_9211a3381494447ba1b56baecf5d4978",
       "style": "IPY_MODEL_28d2492610574fdaa19711f98a459836",
       "value": "foo.gct"
      }
     },
     "15f98e382dfe42b3aa05446147f7b0d1": {
      "model_module": "@jupyter-widgets/base",
      "model_module_version": "1.2.0",
      "model_name": "LayoutModel",
      "state": {
       "grid_area": "label",
       "width": "auto"
      }
     },
     "16fffb401fab4009a1deb65a8f58e21f": {
      "model_module": "@genepattern/nbtools",
      "model_module_version": "^0.2.0",
      "model_name": "UIBuilderModel",
      "state": {
       "_dom_classes": [],
       "_model_module_version": "^0.2.0",
       "_parameters": [
        {
         "choices": {},
         "default": "",
         "description": "",
         "events": null,
         "hide": false,
         "id": null,
         "kinds": [
          "gct"
         ],
         "label": "i",
         "name": "i",
         "optional": false,
         "type": "file",
         "value": ""
        },
        {
         "choices": {},
         "default": "",
         "description": "",
         "events": null,
         "hide": false,
         "id": null,
         "kinds": null,
         "label": "j",
         "name": "j",
         "optional": false,
         "type": "text",
         "value": ""
        },
        {
         "choices": {},
         "default": "",
         "description": "",
         "events": null,
         "hide": true,
         "id": null,
         "kinds": null,
         "label": "output variable",
         "name": "output_var",
         "optional": true,
         "type": "text",
         "value": ""
        }
       ],
       "_view_count": null,
       "_view_module_version": "^0.2.0",
       "form": "IPY_MODEL_ef505cde94df4bf8a867516d3d2db902",
       "layout": "IPY_MODEL_c09c419fbe8c465cba50c2a096f6d17e",
       "name": "test_menus",
       "origin": "Notebook",
       "output": "IPY_MODEL_46f9aff750f741e8815bd8cbfc07625d",
       "output_var": ""
      }
     },
     "19597a6c3c8c418db749668a687150fe": {
      "model_module": "@jupyter-widgets/controls",
      "model_module_version": "1.5.0",
      "model_name": "LabelModel",
      "state": {
       "description": "output variable",
       "layout": "IPY_MODEL_528c0d49a8f04db08862d4de60784391",
       "style": "IPY_MODEL_2520467ff5004ea4a55540001906c210",
       "value": "output variable"
      }
     },
     "1b18fa5ff46b4bfe8a812e31eb6406ca": {
      "model_module": "@jupyter-widgets/controls",
      "model_module_version": "1.5.0",
      "model_name": "GridBoxModel",
      "state": {
       "_dom_classes": [
        "nbtools-input",
        "nbtools-textinput"
       ],
       "children": [
        "IPY_MODEL_25df436973c54a8b9680c23008f464ce",
        "IPY_MODEL_cb907fffe35e477a9dbfdd7498d58b6c",
        "IPY_MODEL_f5e07eb9aac84753b397432d275e8d41"
       ],
       "layout": "IPY_MODEL_e14f4cc748a34817a97b6a2d74322b8a"
      }
     },
     "1c4a196bdc8f4a99b3f79db21633fe44": {
      "model_module": "@jupyter-widgets/controls",
      "model_module_version": "1.5.0",
      "model_name": "LabelModel",
      "state": {
       "layout": "IPY_MODEL_e86a1129e89040758087a64428043309",
       "style": "IPY_MODEL_fb2146d331784de1b0e074105a47b9f4"
      }
     },
     "1c564ba738fd447196c201786277d99c": {
      "model_module": "@jupyter-widgets/controls",
      "model_module_version": "1.5.0",
      "model_name": "LabelModel",
      "state": {
       "description": "output variable",
       "layout": "IPY_MODEL_15f98e382dfe42b3aa05446147f7b0d1",
       "style": "IPY_MODEL_3e59a3d236c84977a192809faa9ff326",
       "value": "output variable"
      }
     },
     "1d95341a19f7482183670fb13459628f": {
      "model_module": "@jupyter-widgets/base",
      "model_module_version": "1.2.0",
      "model_name": "LayoutModel",
      "state": {
       "grid_area": "input",
       "width": "auto"
      }
     },
     "1dc668862afd4f18b105edb09c5772e7": {
      "model_module": "@jupyter-widgets/controls",
      "model_module_version": "1.5.0",
      "model_name": "VBoxModel",
      "state": {
       "_dom_classes": [
        "widget-interact"
       ],
       "children": [
        "IPY_MODEL_c5f678b90eb24aada8158f555220edea",
        "IPY_MODEL_83c37b8bc75f459e9ddb4d4f02898cf1"
       ],
       "layout": "IPY_MODEL_39aa80869de6412693d2e7bedd5ad567"
      }
     },
     "1eae244fb88844999714a190ee46f1c6": {
      "model_module": "@jupyter-widgets/controls",
      "model_module_version": "1.5.0",
      "model_name": "DescriptionStyleModel",
      "state": {
       "description_width": ""
      }
     },
     "1ee01549e7e941be941a6324528fa4a9": {
      "model_module": "@jupyter-widgets/base",
      "model_module_version": "1.2.0",
      "model_name": "LayoutModel",
      "state": {
       "display": "none",
       "grid_template_areas": "\n                    \"label input\"\n                    \". description\"\n                ",
       "grid_template_columns": "25% 75%",
       "grid_template_rows": "auto auto",
       "width": "100%"
      }
     },
     "1f48bc27ce234286a0685125bca18758": {
      "model_module": "@jupyter-widgets/base",
      "model_module_version": "1.2.0",
      "model_name": "LayoutModel",
      "state": {
       "grid_area": "description",
       "width": "auto"
      }
     },
     "2001e755f7cc46e6979e9773e650d776": {
      "model_module": "@jupyter-widgets/base",
      "model_module_version": "1.2.0",
      "model_name": "LayoutModel",
      "state": {}
     },
     "24383907a03148598fb630496fa946b0": {
      "model_module": "@jupyter-widgets/controls",
      "model_module_version": "1.5.0",
      "model_name": "VBoxModel",
      "state": {
       "_dom_classes": [
        "widget-interact"
       ],
       "children": [
        "IPY_MODEL_ba9161f35a40423681791f02ee17e278",
        "IPY_MODEL_a0f4c2cc079c48ddacd8b83da22b69c7"
       ],
       "layout": "IPY_MODEL_9cb1127f46be487fadbffa328ba68238"
      }
     },
     "24d14f96f0b04ccd80a3c6d787b1ebf1": {
      "model_module": "@jupyter-widgets/base",
      "model_module_version": "1.2.0",
      "model_name": "LayoutModel",
      "state": {}
     },
     "2520467ff5004ea4a55540001906c210": {
      "model_module": "@jupyter-widgets/controls",
      "model_module_version": "1.5.0",
      "model_name": "DescriptionStyleModel",
      "state": {
       "description_width": ""
      }
     },
     "25df436973c54a8b9680c23008f464ce": {
      "model_module": "@jupyter-widgets/controls",
      "model_module_version": "1.5.0",
      "model_name": "LabelModel",
      "state": {
       "description": "output variable",
       "layout": "IPY_MODEL_c6dfa69b09c24286ad2484e1b98fb96d",
       "style": "IPY_MODEL_1eae244fb88844999714a190ee46f1c6",
       "value": "output variable"
      }
     },
     "28d2492610574fdaa19711f98a459836": {
      "model_module": "@jupyter-widgets/controls",
      "model_module_version": "1.5.0",
      "model_name": "DescriptionStyleModel",
      "state": {
       "description_width": ""
      }
     },
     "2be23dbcce8545499e57edf066df4ab0": {
      "model_module": "@jupyter-widgets/base",
      "model_module_version": "1.2.0",
      "model_name": "LayoutModel",
      "state": {}
     },
     "2bf910b7a90c4f348ff75bb5983c0b93": {
      "model_module": "@jupyter-widgets/base",
      "model_module_version": "1.2.0",
      "model_name": "LayoutModel",
      "state": {
       "grid_area": "label",
       "width": "auto"
      }
     },
     "2c482b3eadf74fc3b2d831793666e97c": {
      "model_module": "@jupyter-widgets/base",
      "model_module_version": "1.2.0",
      "model_name": "LayoutModel",
      "state": {}
     },
     "2fcfef78ffdb45e69918dcd80b3d09e6": {
      "model_module": "@jupyter-widgets/base",
      "model_module_version": "1.2.0",
      "model_name": "LayoutModel",
      "state": {}
     },
     "30ee813969884ba58a4f31b85d94eb38": {
      "model_module": "@jupyter-widgets/controls",
      "model_module_version": "1.5.0",
      "model_name": "LabelModel",
      "state": {
       "layout": "IPY_MODEL_0e78b86e9828443d8edb3b53a0c56088",
       "style": "IPY_MODEL_55234eabc1564f64b8dbb61e56db0022"
      }
     },
     "31f5c6d7aa814d60a4b3021ae93592c5": {
      "model_module": "@jupyter-widgets/base",
      "model_module_version": "1.2.0",
      "model_name": "LayoutModel",
      "state": {}
     },
     "357258f73db647d8a33d2c684abdd81e": {
      "model_module": "@jupyter-widgets/base",
      "model_module_version": "1.2.0",
      "model_name": "LayoutModel",
      "state": {
       "grid_area": "description",
       "width": "auto"
      }
     },
     "35a2a28ab9b0415f8bc72e3e46bfa915": {
      "model_module": "@jupyter-widgets/controls",
      "model_module_version": "1.5.0",
      "model_name": "DescriptionStyleModel",
      "state": {
       "description_width": ""
      }
     },
     "37b50cdd55ff4a80b70095df2427f34d": {
      "model_module": "@jupyter-widgets/controls",
      "model_module_version": "1.5.0",
      "model_name": "DescriptionStyleModel",
      "state": {
       "description_width": ""
      }
     },
     "3828fb800f6d4e8da4b8ff70e0af2ae0": {
      "model_module": "@jupyter-widgets/controls",
      "model_module_version": "1.5.0",
      "model_name": "GridBoxModel",
      "state": {
       "_dom_classes": [
        "nbtools-input",
        "nbtools-textinput",
        "required"
       ],
       "children": [
        "IPY_MODEL_40b0dc6ca3404931ae6389a0a00a2975",
        "IPY_MODEL_b10be4c726824bf38e74dea8a7559cc8",
        "IPY_MODEL_30ee813969884ba58a4f31b85d94eb38"
       ],
       "layout": "IPY_MODEL_8ea8671c3b19400884bfa81709a1b046"
      }
     },
     "39aa80869de6412693d2e7bedd5ad567": {
      "model_module": "@jupyter-widgets/base",
      "model_module_version": "1.2.0",
      "model_name": "LayoutModel",
      "state": {}
     },
     "3aaec64f7ac4459db431b64575e1baa5": {
      "model_module": "@jupyter-widgets/output",
      "model_module_version": "1.0.0",
      "model_name": "OutputModel",
      "state": {
       "layout": "IPY_MODEL_cd894556768f406198cc9e87e076d0de",
       "outputs": [
        {
         "data": {},
         "metadata": {},
         "output_type": "display_data"
        }
       ]
      }
     },
     "3b2891cbb104475fa2b91998acccc2b4": {
      "model_module": "@jupyter-widgets/controls",
      "model_module_version": "1.5.0",
      "model_name": "LabelModel",
      "state": {
       "description": "Password",
       "layout": "IPY_MODEL_9b8e1bd984c941ddb0babf330882e5d8",
       "style": "IPY_MODEL_dbf0283ea6c44d43b5a2e94dfc7052ca",
       "value": "Password*"
      }
     },
     "3bcf3a86ec764353ac3b2910b01272d6": {
      "model_module": "@jupyter-widgets/base",
      "model_module_version": "1.2.0",
      "model_name": "LayoutModel",
      "state": {
       "grid_area": "label",
       "width": "auto"
      }
     },
     "3d9cd873198349e3a54635738d9a1dab": {
      "model_module": "@jupyter-widgets/controls",
      "model_module_version": "1.5.0",
      "model_name": "DescriptionStyleModel",
      "state": {
       "description_width": ""
      }
     },
     "3e59a3d236c84977a192809faa9ff326": {
      "model_module": "@jupyter-widgets/controls",
      "model_module_version": "1.5.0",
      "model_name": "DescriptionStyleModel",
      "state": {
       "description_width": ""
      }
     },
     "40b0dc6ca3404931ae6389a0a00a2975": {
      "model_module": "@jupyter-widgets/controls",
      "model_module_version": "1.5.0",
      "model_name": "LabelModel",
      "state": {
       "description": "Username",
       "layout": "IPY_MODEL_2bf910b7a90c4f348ff75bb5983c0b93",
       "style": "IPY_MODEL_e79a43ae24b0467e891ba35e4bcdf36d",
       "value": "Username*"
      }
     },
     "41de4a44835e4c659c3389a8f353ccf7": {
      "model_module": "@jupyter-widgets/base",
      "model_module_version": "1.2.0",
      "model_name": "LayoutModel",
      "state": {}
     },
     "43d528703fd844979934e7c3c262b95c": {
      "model_module": "@jupyter-widgets/controls",
      "model_module_version": "1.5.0",
      "model_name": "VBoxModel",
      "state": {
       "children": [
        "IPY_MODEL_1154a5169dd24bb5b70b7e85647e5d4f"
       ],
       "layout": "IPY_MODEL_31f5c6d7aa814d60a4b3021ae93592c5"
      }
     },
     "459a04ddb2ee4d6392c0595a494bd2cd": {
      "model_module": "@jupyter-widgets/controls",
      "model_module_version": "1.5.0",
      "model_name": "GridBoxModel",
      "state": {
       "_dom_classes": [
        "nbtools-input",
        "nbtools-textinput"
       ],
       "children": [
        "IPY_MODEL_1c564ba738fd447196c201786277d99c",
        "IPY_MODEL_9b698a2a0919416a94c886335f2fab8e",
        "IPY_MODEL_e32a8758b1af4f99b955e6b6da9cf2e2"
       ],
       "layout": "IPY_MODEL_cdc5595f28384130b99a91922d627528"
      }
     },
     "46c7b95cb55c436ba0b4b539192d6046": {
      "model_module": "@jupyter-widgets/base",
      "model_module_version": "1.2.0",
      "model_name": "LayoutModel",
      "state": {}
     },
     "46f9aff750f741e8815bd8cbfc07625d": {
      "model_module": "@jupyter-widgets/output",
      "model_module_version": "1.0.0",
      "model_name": "OutputModel",
      "state": {
       "layout": "IPY_MODEL_2c482b3eadf74fc3b2d831793666e97c"
      }
     },
     "47fcf74383b5422ebc995fc0bbe313d0": {
      "model_module": "@jupyter-widgets/base",
      "model_module_version": "1.2.0",
      "model_name": "LayoutModel",
      "state": {
       "grid_area": "input",
       "width": "auto"
      }
     },
     "487e6f4e872746919406249bae712998": {
      "model_module": "@jupyter-widgets/controls",
      "model_module_version": "1.5.0",
      "model_name": "VBoxModel",
      "state": {
       "layout": "IPY_MODEL_24d14f96f0b04ccd80a3c6d787b1ebf1"
      }
     },
     "4a681ab686fd412dacbb2f84d32a3cd6": {
      "model_module": "@jupyter-widgets/controls",
      "model_module_version": "1.5.0",
      "model_name": "DescriptionStyleModel",
      "state": {
       "description_width": ""
      }
     },
     "528c0d49a8f04db08862d4de60784391": {
      "model_module": "@jupyter-widgets/base",
      "model_module_version": "1.2.0",
      "model_name": "LayoutModel",
      "state": {
       "grid_area": "label",
       "width": "auto"
      }
     },
     "538ce2fda45c40dba029134bc184cb91": {
      "model_module": "@jupyter-widgets/base",
      "model_module_version": "1.2.0",
      "model_name": "LayoutModel",
      "state": {}
     },
     "53f3143e1f234698a5805593435738bc": {
      "model_module": "@jupyter-widgets/controls",
      "model_module_version": "1.5.0",
      "model_name": "VBoxModel",
      "state": {
       "layout": "IPY_MODEL_e7985692c8344a06af24cd5c4c5fabf2"
      }
     },
     "55234eabc1564f64b8dbb61e56db0022": {
      "model_module": "@jupyter-widgets/controls",
      "model_module_version": "1.5.0",
      "model_name": "DescriptionStyleModel",
      "state": {
       "description_width": ""
      }
     },
     "57275195f9f346bcaae58cfae57119a0": {
      "model_module": "@genepattern/nbtools",
      "model_module_version": "^0.2.0",
      "model_name": "UIOutputModel",
      "state": {
       "_dom_classes": [],
       "_model_module_version": "^0.2.0",
       "_view_count": null,
       "_view_module_version": "^0.2.0",
       "appendix": "IPY_MODEL_7604487cfba04724932d13dc11e6b310",
       "error": "Cannot find tool: GenePattern Cloud | urn:lsid:broad.mit.edu:cancer.software.genepattern.module.analysis:00002:2",
       "layout": "IPY_MODEL_2001e755f7cc46e6979e9773e650d776",
       "name": "Cannot find tool"
      }
     },
     "5adaecd7255d4266bf887fb3c4e9a3d9": {
      "model_module": "@jupyter-widgets/controls",
      "model_module_version": "1.5.0",
      "model_name": "DescriptionStyleModel",
      "state": {
       "description_width": ""
      }
     },
     "5b09e8182d5f49aa819da7738720fb2c": {
      "model_module": "@jupyter-widgets/controls",
      "model_module_version": "1.5.0",
      "model_name": "DescriptionStyleModel",
      "state": {
       "description_width": ""
      }
     },
     "5bf0892953d3452995b759b48e7b36ac": {
      "model_module": "@jupyter-widgets/controls",
      "model_module_version": "1.5.0",
      "model_name": "ButtonStyleModel",
      "state": {}
     },
     "5de25b450dae4339a584c860a61c9acc": {
      "model_module": "@jupyter-widgets/controls",
      "model_module_version": "1.5.0",
      "model_name": "ComboboxModel",
      "state": {
       "_dom_classes": [
        "nbtools-menu-attached",
        "nbtools-nosendto"
       ],
       "choices": {
        "Broad Internal": "https://gpbroad.broadinstitute.org/gp",
        "GenePattern Cloud": "https://cloud.genepattern.org/gp",
        "Indiana University": "https://gp.indiana.edu/gp"
       },
       "ensure_option": false,
       "kinds": [],
       "layout": "IPY_MODEL_deacc7c77d6c4a0b906172ae1d607152",
       "style": "IPY_MODEL_8eed35166cc94e998968f3fc5c4f2777",
       "value": "https://cloud.genepattern.org/gp"
      }
     },
     "5e74da4098fd41409af790defe8bfdd6": {
      "model_module": "@jupyter-widgets/controls",
      "model_module_version": "1.5.0",
      "model_name": "LabelModel",
      "state": {
       "layout": "IPY_MODEL_a763b9f18c6c4989ad198ccb46f5a995",
       "style": "IPY_MODEL_750227cfb3bc482f9895efb7fbcab90a"
      }
     },
     "5fc6fc78c7fc44548d22973988ab9313": {
      "model_module": "@jupyter-widgets/base",
      "model_module_version": "1.2.0",
      "model_name": "LayoutModel",
      "state": {
       "grid_area": "label",
       "width": "auto"
      }
     },
     "614b9b368a944de094d3849581591294": {
      "model_module": "@genepattern/nbtools",
      "model_module_version": "^0.2.0",
      "model_name": "UIOutputModel",
      "state": {
       "_dom_classes": [],
       "_model_module_version": "^0.2.0",
       "_view_count": null,
       "_view_module_version": "^0.2.0",
       "appendix": "IPY_MODEL_53f3143e1f234698a5805593435738bc",
       "files": [
        "foo.gct"
       ],
       "layout": "IPY_MODEL_8766f14c4a1a4c45acb1dc38d311210c"
      }
     },
     "61a8e548eff1411baa9a4feb96a4cecc": {
      "model_module": "@jupyter-widgets/base",
      "model_module_version": "1.2.0",
      "model_name": "LayoutModel",
      "state": {
       "grid_area": "input",
       "width": "auto"
      }
     },
     "63544d18d02c4b2da0d1f774da4451f1": {
      "model_module": "@jupyter-widgets/base",
      "model_module_version": "1.2.0",
      "model_name": "LayoutModel",
      "state": {}
     },
     "647460f72657447591b07e2d75947f90": {
      "model_module": "@jupyter-widgets/controls",
      "model_module_version": "1.5.0",
      "model_name": "LabelModel",
      "state": {
       "layout": "IPY_MODEL_9f026ae602ff49ff9b91b74c645eac65",
       "style": "IPY_MODEL_d10e284ffdb74d58b700e4e0f497c2fd"
      }
     },
     "69b950a4c8174dbe9977964b98c4a1ef": {
      "model_module": "@jupyter-widgets/controls",
      "model_module_version": "1.5.0",
      "model_name": "VBoxModel",
      "state": {
       "layout": "IPY_MODEL_ae1c5000066f45debdbabad924c692d8"
      }
     },
     "6d5c158cc5e44fb5958258c449a00faa": {
      "model_module": "@jupyter-widgets/base",
      "model_module_version": "1.2.0",
      "model_name": "LayoutModel",
      "state": {
       "grid_area": "description",
       "width": "auto"
      }
     },
     "6d91915003d54aefa9463393440612ec": {
      "model_module": "@jupyter-widgets/base",
      "model_module_version": "1.2.0",
      "model_name": "LayoutModel",
      "state": {}
     },
     "6db31814d07044f5bca4b22754d7f687": {
      "model_module": "@jupyter-widgets/base",
      "model_module_version": "1.2.0",
      "model_name": "LayoutModel",
      "state": {}
     },
     "6fc1ff42cad54d90a5c274ee439881e2": {
      "model_module": "@jupyter-widgets/controls",
      "model_module_version": "1.5.0",
      "model_name": "DescriptionStyleModel",
      "state": {
       "description_width": ""
      }
     },
     "750227cfb3bc482f9895efb7fbcab90a": {
      "model_module": "@jupyter-widgets/controls",
      "model_module_version": "1.5.0",
      "model_name": "DescriptionStyleModel",
      "state": {
       "description_width": ""
      }
     },
     "7604487cfba04724932d13dc11e6b310": {
      "model_module": "@jupyter-widgets/controls",
      "model_module_version": "1.5.0",
      "model_name": "VBoxModel",
      "state": {
       "layout": "IPY_MODEL_b07c5e2d492e41e5b5bfd3ee88be5892"
      }
     },
     "761ee01d93b24a00b7f66f49735d6543": {
      "model_module": "@jupyter-widgets/base",
      "model_module_version": "1.2.0",
      "model_name": "LayoutModel",
      "state": {
       "grid_area": "input",
       "width": "auto"
      }
     },
     "7987c4981300450ca585b8a61886db2b": {
      "model_module": "@jupyter-widgets/base",
      "model_module_version": "1.2.0",
      "model_name": "LayoutModel",
      "state": {
       "grid_template_areas": "\n                    \"label input\"\n                    \". description\"\n                ",
       "grid_template_columns": "25% 75%",
       "grid_template_rows": "auto auto",
       "width": "100%"
      }
     },
     "7d3c165cbc02470ea4a5efe2007bc2ad": {
      "model_module": "@jupyter-widgets/controls",
      "model_module_version": "1.5.0",
      "model_name": "ButtonStyleModel",
      "state": {}
     },
     "80b35a90e6eb4c47a15b274551fc4873": {
      "model_module": "@jupyter-widgets/controls",
      "model_module_version": "1.5.0",
      "model_name": "ButtonStyleModel",
      "state": {}
     },
     "8111b8299266411a836aec0e73f7b8a5": {
      "model_module": "@jupyter-widgets/controls",
      "model_module_version": "1.5.0",
      "model_name": "LabelModel",
      "state": {
       "layout": "IPY_MODEL_6d5c158cc5e44fb5958258c449a00faa",
       "style": "IPY_MODEL_d46f9d0045044a789008869e8653d4ef"
      }
     },
     "824ba4a5cf834feb98c6a0ab26448bde": {
      "model_module": "@jupyter-widgets/controls",
      "model_module_version": "1.5.0",
      "model_name": "DescriptionStyleModel",
      "state": {
       "description_width": ""
      }
     },
     "83c37b8bc75f459e9ddb4d4f02898cf1": {
      "model_module": "@jupyter-widgets/output",
      "model_module_version": "1.0.0",
      "model_name": "OutputModel",
      "state": {
       "layout": "IPY_MODEL_0797e5960fb9424b89d82b1ece91604e"
      }
     },
     "8453121d826d4b0290df62a4e778cbb6": {
      "model_module": "@jupyter-widgets/base",
      "model_module_version": "1.2.0",
      "model_name": "LayoutModel",
      "state": {}
     },
     "84953b6fd0394f188f67e1f612ba1301": {
      "model_module": "@jupyter-widgets/base",
      "model_module_version": "1.2.0",
      "model_name": "LayoutModel",
      "state": {
       "display": "none",
       "grid_template_areas": "\n                    \"label input\"\n                    \". description\"\n                ",
       "grid_template_columns": "25% 75%",
       "grid_template_rows": "auto auto",
       "width": "100%"
      }
     },
     "84f15183ab28491fafce6b0476af161b": {
      "model_module": "@jupyter-widgets/base",
      "model_module_version": "1.2.0",
      "model_name": "LayoutModel",
      "state": {}
     },
     "85b79cfba900421796acfd2d622a8006": {
      "model_module": "@jupyter-widgets/controls",
      "model_module_version": "1.5.0",
      "model_name": "FileUploadModel",
      "state": {
       "accept": ".gct",
       "description_tooltip": null,
       "layout": "IPY_MODEL_6d91915003d54aefa9463393440612ec",
       "style": "IPY_MODEL_5bf0892953d3452995b759b48e7b36ac"
      }
     },
     "85c88a25cbe743769cdf91b6809086d4": {
      "model_module": "@jupyter-widgets/controls",
      "model_module_version": "1.5.0",
      "model_name": "DescriptionStyleModel",
      "state": {
       "description_width": ""
      }
     },
     "8766f14c4a1a4c45acb1dc38d311210c": {
      "model_module": "@jupyter-widgets/base",
      "model_module_version": "1.2.0",
      "model_name": "LayoutModel",
      "state": {}
     },
     "88257d059e684408ae5bf112c7ac08f8": {
      "model_module": "@jupyter-widgets/controls",
      "model_module_version": "1.5.0",
      "model_name": "GridBoxModel",
      "state": {
       "_dom_classes": [
        "nbtools-input",
        "nbtools-comboinput",
        "required"
       ],
       "children": [
        "IPY_MODEL_fa1306d472644bc396d62143087d95b6",
        "IPY_MODEL_5de25b450dae4339a584c860a61c9acc",
        "IPY_MODEL_f0a9e3df47174383876e1a4eb9e350d5"
       ],
       "layout": "IPY_MODEL_f5714b83e25940c187d3d2ff1b375517"
      }
     },
     "8836597d7ccd4fa88556f89ddb6f1d81": {
      "model_module": "@genepattern/nbtools",
      "model_module_version": "^0.2.0",
      "model_name": "UIOutputModel",
      "state": {
       "_dom_classes": [],
       "_model_module_version": "^0.2.0",
       "_view_count": null,
       "_view_module_version": "^0.2.0",
       "appendix": "IPY_MODEL_487e6f4e872746919406249bae712998",
       "error": "Cannot find tool: GenePattern Cloud | urn:lsid:broad.mit.edu:cancer.software.genepattern.module.visualizer:00045:9",
       "layout": "IPY_MODEL_2fcfef78ffdb45e69918dcd80b3d09e6",
       "name": "Cannot find tool"
      }
     },
     "8948fe324a644c22aaffbceffc3dbadc": {
      "model_module": "@jupyter-widgets/controls",
      "model_module_version": "1.5.0",
      "model_name": "DescriptionStyleModel",
      "state": {
       "description_width": ""
      }
     },
     "8bc1c0b54c2d4e5abbd05773d7cdf7be": {
      "model_module": "@jupyter-widgets/controls",
      "model_module_version": "1.5.0",
      "model_name": "LabelModel",
      "state": {
       "description": "i",
       "layout": "IPY_MODEL_3bcf3a86ec764353ac3b2910b01272d6",
       "style": "IPY_MODEL_6fc1ff42cad54d90a5c274ee439881e2",
       "value": "i*"
      }
     },
     "8bdf739edeca479cb3dfd813f0e0077e": {
      "model_module": "@jupyter-widgets/base",
      "model_module_version": "1.2.0",
      "model_name": "LayoutModel",
      "state": {
       "grid_area": "label",
       "width": "auto"
      }
     },
     "8ea8671c3b19400884bfa81709a1b046": {
      "model_module": "@jupyter-widgets/base",
      "model_module_version": "1.2.0",
      "model_name": "LayoutModel",
      "state": {
       "grid_template_areas": "\n                    \"label input\"\n                    \". description\"\n                ",
       "grid_template_columns": "25% 75%",
       "grid_template_rows": "auto auto",
       "width": "100%"
      }
     },
     "8eec22403ba144b984eb8c1d7747aa39": {
      "model_module": "@jupyter-widgets/base",
      "model_module_version": "1.2.0",
      "model_name": "LayoutModel",
      "state": {
       "grid_area": "description",
       "width": "auto"
      }
     },
     "8eed35166cc94e998968f3fc5c4f2777": {
      "model_module": "@jupyter-widgets/controls",
      "model_module_version": "1.5.0",
      "model_name": "DescriptionStyleModel",
      "state": {
       "description_width": ""
      }
     },
     "9211a3381494447ba1b56baecf5d4978": {
      "model_module": "@jupyter-widgets/base",
      "model_module_version": "1.2.0",
      "model_name": "LayoutModel",
      "state": {}
     },
     "9354eafd141041429e69580d0d2ba686": {
      "model_module": "@jupyter-widgets/controls",
      "model_module_version": "1.5.0",
      "model_name": "GridBoxModel",
      "state": {
       "_dom_classes": [
        "nbtools-input",
        "nbtools-textinput"
       ],
       "children": [
        "IPY_MODEL_ec8b2a61e50c454daf19ae406274e0e7",
        "IPY_MODEL_ca267164d5bb4fbfa78ed802a9079cda",
        "IPY_MODEL_8111b8299266411a836aec0e73f7b8a5"
       ],
       "layout": "IPY_MODEL_84953b6fd0394f188f67e1f612ba1301"
      }
     },
     "97d10006cba749ddbb706b08d8096355": {
      "model_module": "@jupyter-widgets/controls",
      "model_module_version": "1.5.0",
      "model_name": "VBoxModel",
      "state": {
       "_dom_classes": [
        "widget-interact"
       ],
       "children": [
        "IPY_MODEL_88257d059e684408ae5bf112c7ac08f8",
        "IPY_MODEL_3828fb800f6d4e8da4b8ff70e0af2ae0",
        "IPY_MODEL_c2ed5029b6e64e95ba477f6b30fd9e3b",
        "IPY_MODEL_a724f2fc7ce941b1a8558b42a2c19bf7",
        "IPY_MODEL_a31b3526a95f4ce78626043cd33b3bfc"
       ],
       "layout": "IPY_MODEL_63544d18d02c4b2da0d1f774da4451f1"
      }
     },
     "97e19eea46344da2bd723a7a1e530208": {
      "model_module": "@jupyter-widgets/controls",
      "model_module_version": "1.5.0",
      "model_name": "GridBoxModel",
      "state": {
       "_dom_classes": [
        "nbtools-input",
        "nbtools-textinput",
        "required"
       ],
       "children": [
        "IPY_MODEL_e34911129dcf469e8c13a3853496c82c",
        "IPY_MODEL_caa977c92bcc4f0ca16c935a4405672a",
        "IPY_MODEL_647460f72657447591b07e2d75947f90"
       ],
       "layout": "IPY_MODEL_d51b0d5491db402ba125ac94aaa05858"
      }
     },
     "9b378da714f945a4a987e22815837e69": {
      "model_module": "@jupyter-widgets/base",
      "model_module_version": "1.2.0",
      "model_name": "LayoutModel",
      "state": {
       "grid_area": "input",
       "width": "auto"
      }
     },
     "9b698a2a0919416a94c886335f2fab8e": {
      "model_module": "@jupyter-widgets/controls",
      "model_module_version": "1.5.0",
      "model_name": "TextModel",
      "state": {
       "_dom_classes": [
        "nbtools-menu-attached"
       ],
       "layout": "IPY_MODEL_61a8e548eff1411baa9a4feb96a4cecc",
       "style": "IPY_MODEL_5adaecd7255d4266bf887fb3c4e9a3d9"
      }
     },
     "9b8e1bd984c941ddb0babf330882e5d8": {
      "model_module": "@jupyter-widgets/base",
      "model_module_version": "1.2.0",
      "model_name": "LayoutModel",
      "state": {
       "grid_area": "label",
       "width": "auto"
      }
     },
     "9cb1127f46be487fadbffa328ba68238": {
      "model_module": "@jupyter-widgets/base",
      "model_module_version": "1.2.0",
      "model_name": "LayoutModel",
      "state": {}
     },
     "9d9815ec8f3d4eaa9e9f792bfeb00edf": {
      "model_module": "@jupyter-widgets/controls",
      "model_module_version": "1.5.0",
      "model_name": "TextModel",
      "state": {
       "_dom_classes": [
        "nbtools-menu-attached"
       ],
       "layout": "IPY_MODEL_fc8a4c45a7ed4d74a298f5d81a6a687b",
       "style": "IPY_MODEL_35a2a28ab9b0415f8bc72e3e46bfa915"
      }
     },
     "9f026ae602ff49ff9b91b74c645eac65": {
      "model_module": "@jupyter-widgets/base",
      "model_module_version": "1.2.0",
      "model_name": "LayoutModel",
      "state": {
       "grid_area": "description",
       "width": "auto"
      }
     },
     "9ff6dbfb6b0046bb920d18a6c3c04878": {
      "model_module": "@jupyter-widgets/controls",
      "model_module_version": "1.5.0",
      "model_name": "ButtonModel",
      "state": {
       "_dom_classes": [
        "hidden"
       ],
       "description": "Run",
       "layout": "IPY_MODEL_538ce2fda45c40dba029134bc184cb91",
       "style": "IPY_MODEL_80b35a90e6eb4c47a15b274551fc4873"
      }
     },
     "a02ef9c162d146fc9ba37722f0b4f3e4": {
      "model_module": "@jupyter-widgets/base",
      "model_module_version": "1.2.0",
      "model_name": "LayoutModel",
      "state": {
       "grid_area": "description",
       "width": "auto"
      }
     },
     "a0f4c2cc079c48ddacd8b83da22b69c7": {
      "model_module": "@jupyter-widgets/output",
      "model_module_version": "1.0.0",
      "model_name": "OutputModel",
      "state": {
       "layout": "IPY_MODEL_41de4a44835e4c659c3389a8f353ccf7"
      }
     },
     "a2fb58ac81eb469f8ac450eddd605f8b": {
      "model_module": "@jupyter-widgets/base",
      "model_module_version": "1.2.0",
      "model_name": "LayoutModel",
      "state": {}
     },
     "a31b3526a95f4ce78626043cd33b3bfc": {
      "model_module": "@jupyter-widgets/controls",
      "model_module_version": "1.5.0",
      "model_name": "GridBoxModel",
      "state": {
       "_dom_classes": [
        "nbtools-input",
        "nbtools-textinput"
       ],
       "children": [
        "IPY_MODEL_19597a6c3c8c418db749668a687150fe",
        "IPY_MODEL_9d9815ec8f3d4eaa9e9f792bfeb00edf",
        "IPY_MODEL_d85a3d298f484c9b9bc6654988a8d66c"
       ],
       "layout": "IPY_MODEL_1ee01549e7e941be941a6324528fa4a9"
      }
     },
     "a724f2fc7ce941b1a8558b42a2c19bf7": {
      "model_module": "@jupyter-widgets/controls",
      "model_module_version": "1.5.0",
      "model_name": "ButtonModel",
      "state": {
       "_dom_classes": [
        "hidden"
       ],
       "description": "Run",
       "layout": "IPY_MODEL_c18112e7513c4ed4baf07a220a0e4a4c",
       "style": "IPY_MODEL_c3578f5275044c25bf493ba2e7a4d442"
      }
     },
     "a763b9f18c6c4989ad198ccb46f5a995": {
      "model_module": "@jupyter-widgets/base",
      "model_module_version": "1.2.0",
      "model_name": "LayoutModel",
      "state": {
       "grid_area": "description",
       "width": "auto"
      }
     },
     "aa0a41b5926943db9316afdfe7805027": {
      "model_module": "@jupyter-widgets/base",
      "model_module_version": "1.2.0",
      "model_name": "LayoutModel",
      "state": {
       "grid_template_areas": "\n                    \"label input\"\n                    \". description\"\n                ",
       "grid_template_columns": "25% 75%",
       "grid_template_rows": "auto auto",
       "width": "100%"
      }
     },
     "ae1c5000066f45debdbabad924c692d8": {
      "model_module": "@jupyter-widgets/base",
      "model_module_version": "1.2.0",
      "model_name": "LayoutModel",
      "state": {}
     },
     "b07c5e2d492e41e5b5bfd3ee88be5892": {
      "model_module": "@jupyter-widgets/base",
      "model_module_version": "1.2.0",
      "model_name": "LayoutModel",
      "state": {}
     },
     "b10be4c726824bf38e74dea8a7559cc8": {
      "model_module": "@jupyter-widgets/controls",
      "model_module_version": "1.5.0",
      "model_name": "TextModel",
      "state": {
       "_dom_classes": [
        "nbtools-menu-attached"
       ],
       "layout": "IPY_MODEL_47fcf74383b5422ebc995fc0bbe313d0",
       "style": "IPY_MODEL_37b50cdd55ff4a80b70095df2427f34d"
      }
     },
     "b1a1a9312bc14b38b7516b1a68fdd7f1": {
      "model_module": "@jupyter-widgets/base",
      "model_module_version": "1.2.0",
      "model_name": "LayoutModel",
      "state": {}
     },
     "b1cfdbcda7204dea925c6355d2c317ae": {
      "model_module": "@jupyter-widgets/controls",
      "model_module_version": "1.5.0",
      "model_name": "HBoxModel",
      "state": {
       "children": [
        "IPY_MODEL_85b79cfba900421796acfd2d622a8006",
        "IPY_MODEL_43d528703fd844979934e7c3c262b95c"
       ],
       "layout": "IPY_MODEL_1d95341a19f7482183670fb13459628f"
      }
     },
     "b2f88edd50404c8b92e0c2e31eb1665d": {
      "model_module": "@jupyter-widgets/base",
      "model_module_version": "1.2.0",
      "model_name": "LayoutModel",
      "state": {
       "grid_area": "input",
       "width": "auto"
      }
     },
     "ba7ca08bd48d44129ef42b56a5c2de7a": {
      "model_module": "@jupyter-widgets/controls",
      "model_module_version": "1.5.0",
      "model_name": "ButtonStyleModel",
      "state": {}
     },
     "ba9161f35a40423681791f02ee17e278": {
      "model_module": "@jupyter-widgets/controls",
      "model_module_version": "1.5.0",
      "model_name": "ButtonModel",
      "state": {
       "_dom_classes": [
        "hidden"
       ],
       "description": "Run",
       "layout": "IPY_MODEL_8453121d826d4b0290df62a4e778cbb6",
       "style": "IPY_MODEL_ba7ca08bd48d44129ef42b56a5c2de7a"
      }
     },
     "bad6d1b78cb44278b7706c8f89c8662d": {
      "model_module": "@jupyter-widgets/base",
      "model_module_version": "1.2.0",
      "model_name": "LayoutModel",
      "state": {
       "grid_area": "input",
       "width": "auto"
      }
     },
     "c09c419fbe8c465cba50c2a096f6d17e": {
      "model_module": "@jupyter-widgets/base",
      "model_module_version": "1.2.0",
      "model_name": "LayoutModel",
      "state": {}
     },
     "c15477dbfb074005ba4015d9731ddb1b": {
      "model_module": "@jupyter-widgets/controls",
      "model_module_version": "1.5.0",
      "model_name": "DescriptionStyleModel",
      "state": {
       "description_width": ""
      }
     },
     "c18112e7513c4ed4baf07a220a0e4a4c": {
      "model_module": "@jupyter-widgets/base",
      "model_module_version": "1.2.0",
      "model_name": "LayoutModel",
      "state": {}
     },
     "c18725d3f9f84b978455d3ba46e902f4": {
      "model_module": "@jupyter-widgets/controls",
      "model_module_version": "1.5.0",
      "model_name": "PasswordModel",
      "state": {
       "layout": "IPY_MODEL_761ee01d93b24a00b7f66f49735d6543",
       "style": "IPY_MODEL_d4512ee560fa4801aca095e48b6edf5c"
      }
     },
     "c2ed5029b6e64e95ba477f6b30fd9e3b": {
      "model_module": "@jupyter-widgets/controls",
      "model_module_version": "1.5.0",
      "model_name": "GridBoxModel",
      "state": {
       "_dom_classes": [
        "nbtools-input",
        "nbtools-passwordinput",
        "required"
       ],
       "children": [
        "IPY_MODEL_3b2891cbb104475fa2b91998acccc2b4",
        "IPY_MODEL_c18725d3f9f84b978455d3ba46e902f4",
        "IPY_MODEL_5e74da4098fd41409af790defe8bfdd6"
       ],
       "layout": "IPY_MODEL_aa0a41b5926943db9316afdfe7805027"
      }
     },
     "c3578f5275044c25bf493ba2e7a4d442": {
      "model_module": "@jupyter-widgets/controls",
      "model_module_version": "1.5.0",
      "model_name": "ButtonStyleModel",
      "state": {}
     },
     "c5f678b90eb24aada8158f555220edea": {
      "model_module": "@jupyter-widgets/controls",
      "model_module_version": "1.5.0",
      "model_name": "ButtonModel",
      "state": {
       "_dom_classes": [
        "hidden"
       ],
       "description": "Run",
       "layout": "IPY_MODEL_2be23dbcce8545499e57edf066df4ab0",
       "style": "IPY_MODEL_7d3c165cbc02470ea4a5efe2007bc2ad"
      }
     },
     "c60a9d9bd2cd42729e80d913b952ccb2": {
      "model_module": "@jupyter-widgets/base",
      "model_module_version": "1.2.0",
      "model_name": "LayoutModel",
      "state": {}
     },
     "c6dfa69b09c24286ad2484e1b98fb96d": {
      "model_module": "@jupyter-widgets/base",
      "model_module_version": "1.2.0",
      "model_name": "LayoutModel",
      "state": {
       "grid_area": "label",
       "width": "auto"
      }
     },
     "ca267164d5bb4fbfa78ed802a9079cda": {
      "model_module": "@jupyter-widgets/controls",
      "model_module_version": "1.5.0",
      "model_name": "TextModel",
      "state": {
       "_dom_classes": [
        "nbtools-menu-attached"
       ],
       "layout": "IPY_MODEL_bad6d1b78cb44278b7706c8f89c8662d",
       "style": "IPY_MODEL_4a681ab686fd412dacbb2f84d32a3cd6"
      }
     },
     "caa977c92bcc4f0ca16c935a4405672a": {
      "model_module": "@jupyter-widgets/controls",
      "model_module_version": "1.5.0",
      "model_name": "TextModel",
      "state": {
       "_dom_classes": [
        "nbtools-menu-attached"
       ],
       "layout": "IPY_MODEL_9b378da714f945a4a987e22815837e69",
       "style": "IPY_MODEL_3d9cd873198349e3a54635738d9a1dab"
      }
     },
     "cb907fffe35e477a9dbfdd7498d58b6c": {
      "model_module": "@jupyter-widgets/controls",
      "model_module_version": "1.5.0",
      "model_name": "TextModel",
      "state": {
       "_dom_classes": [
        "nbtools-menu-attached"
       ],
       "layout": "IPY_MODEL_b2f88edd50404c8b92e0c2e31eb1665d",
       "style": "IPY_MODEL_fe26a7fe8987430688f95694bb541244"
      }
     },
     "cd18e2a0d409430594f9aa9a900084a3": {
      "model_module": "@jupyter-widgets/controls",
      "model_module_version": "1.5.0",
      "model_name": "DescriptionStyleModel",
      "state": {
       "description_width": ""
      }
     },
     "cd894556768f406198cc9e87e076d0de": {
      "model_module": "@jupyter-widgets/base",
      "model_module_version": "1.2.0",
      "model_name": "LayoutModel",
      "state": {}
     },
     "cdc5595f28384130b99a91922d627528": {
      "model_module": "@jupyter-widgets/base",
      "model_module_version": "1.2.0",
      "model_name": "LayoutModel",
      "state": {
       "display": "none",
       "grid_template_areas": "\n                    \"label input\"\n                    \". description\"\n                ",
       "grid_template_columns": "25% 75%",
       "grid_template_rows": "auto auto",
       "width": "100%"
      }
     },
     "d0a68df891af4234a2e6abbe29ad1d6b": {
      "model_module": "@jupyter-widgets/base",
      "model_module_version": "1.2.0",
      "model_name": "LayoutModel",
      "state": {}
     },
     "d10e284ffdb74d58b700e4e0f497c2fd": {
      "model_module": "@jupyter-widgets/controls",
      "model_module_version": "1.5.0",
      "model_name": "DescriptionStyleModel",
      "state": {
       "description_width": ""
      }
     },
     "d23c9792853d4e3c802c44ef81e90921": {
      "model_module": "@jupyter-widgets/output",
      "model_module_version": "1.0.0",
      "model_name": "OutputModel",
      "state": {
       "layout": "IPY_MODEL_d0a68df891af4234a2e6abbe29ad1d6b"
      }
     },
     "d4512ee560fa4801aca095e48b6edf5c": {
      "model_module": "@jupyter-widgets/controls",
      "model_module_version": "1.5.0",
      "model_name": "DescriptionStyleModel",
      "state": {
       "description_width": ""
      }
     },
     "d46f9d0045044a789008869e8653d4ef": {
      "model_module": "@jupyter-widgets/controls",
      "model_module_version": "1.5.0",
      "model_name": "DescriptionStyleModel",
      "state": {
       "description_width": ""
      }
     },
     "d4fca04b1bfd4bf8b04e7bab43532c3e": {
      "model_module": "@jupyter-widgets/controls",
      "model_module_version": "1.5.0",
      "model_name": "DescriptionStyleModel",
      "state": {
       "description_width": ""
      }
     },
     "d51b0d5491db402ba125ac94aaa05858": {
      "model_module": "@jupyter-widgets/base",
      "model_module_version": "1.2.0",
      "model_name": "LayoutModel",
      "state": {
       "grid_template_areas": "\n                    \"label input\"\n                    \". description\"\n                ",
       "grid_template_columns": "25% 75%",
       "grid_template_rows": "auto auto",
       "width": "100%"
      }
     },
     "d85a3d298f484c9b9bc6654988a8d66c": {
      "model_module": "@jupyter-widgets/controls",
      "model_module_version": "1.5.0",
      "model_name": "LabelModel",
      "state": {
       "layout": "IPY_MODEL_a02ef9c162d146fc9ba37722f0b4f3e4",
       "style": "IPY_MODEL_cd18e2a0d409430594f9aa9a900084a3"
      }
     },
     "dbf0283ea6c44d43b5a2e94dfc7052ca": {
      "model_module": "@jupyter-widgets/controls",
      "model_module_version": "1.5.0",
      "model_name": "DescriptionStyleModel",
      "state": {
       "description_width": ""
      }
     },
     "dd1e1abe0bd546a49faeeffd02e5bacb": {
      "model_module": "@jupyter-widgets/controls",
      "model_module_version": "1.5.0",
      "model_name": "GridBoxModel",
      "state": {
       "_dom_classes": [
        "nbtools-input",
        "nbtools-fileinput",
        "required"
       ],
       "children": [
        "IPY_MODEL_8bc1c0b54c2d4e5abbd05773d7cdf7be",
        "IPY_MODEL_b1cfdbcda7204dea925c6355d2c317ae",
        "IPY_MODEL_1c4a196bdc8f4a99b3f79db21633fe44"
       ],
       "layout": "IPY_MODEL_7987c4981300450ca585b8a61886db2b"
      }
     },
     "deacc7c77d6c4a0b906172ae1d607152": {
      "model_module": "@jupyter-widgets/base",
      "model_module_version": "1.2.0",
      "model_name": "LayoutModel",
      "state": {
       "grid_area": "input",
       "width": "auto"
      }
     },
     "e14f4cc748a34817a97b6a2d74322b8a": {
      "model_module": "@jupyter-widgets/base",
      "model_module_version": "1.2.0",
      "model_name": "LayoutModel",
      "state": {
       "display": "none",
       "grid_template_areas": "\n                    \"label input\"\n                    \". description\"\n                ",
       "grid_template_columns": "25% 75%",
       "grid_template_rows": "auto auto",
       "width": "100%"
      }
     },
     "e32a8758b1af4f99b955e6b6da9cf2e2": {
      "model_module": "@jupyter-widgets/controls",
      "model_module_version": "1.5.0",
      "model_name": "LabelModel",
      "state": {
       "layout": "IPY_MODEL_1f48bc27ce234286a0685125bca18758",
       "style": "IPY_MODEL_d4fca04b1bfd4bf8b04e7bab43532c3e"
      }
     },
     "e34911129dcf469e8c13a3853496c82c": {
      "model_module": "@jupyter-widgets/controls",
      "model_module_version": "1.5.0",
      "model_name": "LabelModel",
      "state": {
       "description": "j",
       "layout": "IPY_MODEL_fe6de6dae14d4a6aa9c4cb6b38113a76",
       "style": "IPY_MODEL_8948fe324a644c22aaffbceffc3dbadc",
       "value": "j*"
      }
     },
     "e7985692c8344a06af24cd5c4c5fabf2": {
      "model_module": "@jupyter-widgets/base",
      "model_module_version": "1.2.0",
      "model_name": "LayoutModel",
      "state": {}
     },
     "e79a43ae24b0467e891ba35e4bcdf36d": {
      "model_module": "@jupyter-widgets/controls",
      "model_module_version": "1.5.0",
      "model_name": "DescriptionStyleModel",
      "state": {
       "description_width": ""
      }
     },
     "e86a1129e89040758087a64428043309": {
      "model_module": "@jupyter-widgets/base",
      "model_module_version": "1.2.0",
      "model_name": "LayoutModel",
      "state": {
       "grid_area": "description",
       "width": "auto"
      }
     },
     "eb33a43dc327498688ac9e65e1603022": {
      "model_module": "@jupyter-widgets/output",
      "model_module_version": "1.0.0",
      "model_name": "OutputModel",
      "state": {
       "layout": "IPY_MODEL_46c7b95cb55c436ba0b4b539192d6046",
       "outputs": [
        {
         "data": {},
         "metadata": {},
         "output_type": "display_data"
        }
       ]
      }
     },
     "ec8b2a61e50c454daf19ae406274e0e7": {
      "model_module": "@jupyter-widgets/controls",
      "model_module_version": "1.5.0",
      "model_name": "LabelModel",
      "state": {
       "description": "output variable",
       "layout": "IPY_MODEL_5fc6fc78c7fc44548d22973988ab9313",
       "style": "IPY_MODEL_85c88a25cbe743769cdf91b6809086d4",
       "value": "output variable"
      }
     },
     "ef505cde94df4bf8a867516d3d2db902": {
      "model_module": "@jupyter-widgets/controls",
      "model_module_version": "1.5.0",
      "model_name": "VBoxModel",
      "state": {
       "_dom_classes": [
        "widget-interact"
       ],
       "children": [
        "IPY_MODEL_dd1e1abe0bd546a49faeeffd02e5bacb",
        "IPY_MODEL_97e19eea46344da2bd723a7a1e530208",
        "IPY_MODEL_9ff6dbfb6b0046bb920d18a6c3c04878",
        "IPY_MODEL_459a04ddb2ee4d6392c0595a494bd2cd"
       ],
       "layout": "IPY_MODEL_a2fb58ac81eb469f8ac450eddd605f8b"
      }
     },
     "f0a9e3df47174383876e1a4eb9e350d5": {
      "model_module": "@jupyter-widgets/controls",
      "model_module_version": "1.5.0",
      "model_name": "LabelModel",
      "state": {
       "layout": "IPY_MODEL_8eec22403ba144b984eb8c1d7747aa39",
       "style": "IPY_MODEL_c15477dbfb074005ba4015d9731ddb1b"
      }
     },
     "f5714b83e25940c187d3d2ff1b375517": {
      "model_module": "@jupyter-widgets/base",
      "model_module_version": "1.2.0",
      "model_name": "LayoutModel",
      "state": {
       "grid_template_areas": "\n                    \"label input\"\n                    \". description\"\n                ",
       "grid_template_columns": "25% 75%",
       "grid_template_rows": "auto auto",
       "width": "100%"
      }
     },
     "f5e07eb9aac84753b397432d275e8d41": {
      "model_module": "@jupyter-widgets/controls",
      "model_module_version": "1.5.0",
      "model_name": "LabelModel",
      "state": {
       "layout": "IPY_MODEL_357258f73db647d8a33d2c684abdd81e",
       "style": "IPY_MODEL_5b09e8182d5f49aa819da7738720fb2c"
      }
     },
     "f92c75c002264cc0910efd1fd550b03b": {
      "model_module": "@genepattern/nbtools",
      "model_module_version": "^0.2.0",
      "model_name": "UIBuilderModel",
      "state": {
       "_dom_classes": [],
       "_model_module_version": "^0.2.0",
       "_parameters": [
        {
         "choices": {
          "Broad Internal": "https://gpbroad.broadinstitute.org/gp",
          "GenePattern Cloud": "https://cloud.genepattern.org/gp",
          "Indiana University": "https://gp.indiana.edu/gp"
         },
         "combo": true,
         "default": "https://cloud.genepattern.org/gp",
         "description": "",
         "events": null,
         "hide": false,
         "id": null,
         "kinds": null,
         "label": "GenePattern Server",
         "name": "server",
         "optional": false,
         "sendto": false,
         "type": "choice",
         "value": ""
        },
        {
         "choices": {},
         "default": "",
         "description": "",
         "events": null,
         "hide": false,
         "id": null,
         "kinds": null,
         "label": "Username",
         "name": "username",
         "optional": false,
         "type": "text",
         "value": ""
        },
        {
         "choices": {},
         "default": "",
         "description": "",
         "events": null,
         "hide": false,
         "id": null,
         "kinds": null,
         "label": "Password",
         "name": "password",
         "optional": false,
         "type": "password",
         "value": ""
        },
        {
         "choices": {},
         "default": "",
         "description": "",
         "events": null,
         "hide": true,
         "id": null,
         "kinds": null,
         "label": "output variable",
         "name": "output_var",
         "optional": true,
         "type": "text",
         "value": ""
        }
       ],
       "_view_count": null,
       "_view_module_version": "^0.2.0",
       "buttons": {
        "Register an Account": "\n    const target = event.target;\n    const widget = target.closest('.nbtools') || target;\n    const server_input = widget.querySelector('input[type=text]');\n    if (server_input) window.open(server_input.value + '/pages/registerUser.jsf');\n    else console.warn('Cannot obtain GenePattern Server URL');"
       },
       "collapse": false,
       "color": "rgba(10, 45, 105, 0.80)",
       "description": "Login to the GenePattern server",
       "display_header": false,
       "form": "IPY_MODEL_97d10006cba749ddbb706b08d8096355",
       "layout": "IPY_MODEL_0916cd372e6b454599ad63b99677bcd0",
       "name": "Login",
       "origin": "genepattern.authwidget",
       "output": "IPY_MODEL_102c4ea4f76641e0943915c2672b7d75",
       "output_var": "",
       "run_label": "Log into GenePattern"
      }
     },
     "fa1306d472644bc396d62143087d95b6": {
      "model_module": "@jupyter-widgets/controls",
      "model_module_version": "1.5.0",
      "model_name": "LabelModel",
      "state": {
       "description": "GenePattern Server",
       "layout": "IPY_MODEL_8bdf739edeca479cb3dfd813f0e0077e",
       "style": "IPY_MODEL_824ba4a5cf834feb98c6a0ab26448bde",
       "value": "GenePattern Server*"
      }
     },
     "fb2146d331784de1b0e074105a47b9f4": {
      "model_module": "@jupyter-widgets/controls",
      "model_module_version": "1.5.0",
      "model_name": "DescriptionStyleModel",
      "state": {
       "description_width": ""
      }
     },
     "fc8a4c45a7ed4d74a298f5d81a6a687b": {
      "model_module": "@jupyter-widgets/base",
      "model_module_version": "1.2.0",
      "model_name": "LayoutModel",
      "state": {
       "grid_area": "input",
       "width": "auto"
      }
     },
     "fcb651e7be194097a3fb3f044f3c51ed": {
      "model_module": "@genepattern/nbtools",
      "model_module_version": "^0.2.0",
      "model_name": "UIOutputModel",
      "state": {
       "_dom_classes": [],
       "_model_module_version": "^0.2.0",
       "_view_count": null,
       "_view_module_version": "^0.2.0",
       "appendix": "IPY_MODEL_69b950a4c8174dbe9977964b98c4a1ef",
       "error": "Cannot find tool: GenePattern Cloud | urn:lsid:broad.mit.edu:cancer.software.genepattern.module.analysis:00044:10.1",
       "layout": "IPY_MODEL_b1a1a9312bc14b38b7516b1a68fdd7f1",
       "name": "Cannot find tool"
      }
     },
     "fe26a7fe8987430688f95694bb541244": {
      "model_module": "@jupyter-widgets/controls",
      "model_module_version": "1.5.0",
      "model_name": "DescriptionStyleModel",
      "state": {
       "description_width": ""
      }
     },
     "fe6de6dae14d4a6aa9c4cb6b38113a76": {
      "model_module": "@jupyter-widgets/base",
      "model_module_version": "1.2.0",
      "model_name": "LayoutModel",
      "state": {
       "grid_area": "label",
       "width": "auto"
      }
     },
     "ff94b2c4b59a4f10af70e3a139982a80": {
      "model_module": "@jupyter-widgets/output",
      "model_module_version": "1.0.0",
      "model_name": "OutputModel",
      "state": {
       "layout": "IPY_MODEL_84f15183ab28491fafce6b0476af161b"
      }
     }
    },
    "version_major": 2,
    "version_minor": 0
   }
  }
 },
 "nbformat": 4,
 "nbformat_minor": 4
}
