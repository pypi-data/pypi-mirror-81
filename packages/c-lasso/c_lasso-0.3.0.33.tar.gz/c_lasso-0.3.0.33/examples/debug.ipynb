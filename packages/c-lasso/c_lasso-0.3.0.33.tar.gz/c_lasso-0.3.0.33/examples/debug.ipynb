{
 "cells": [
  {
   "cell_type": "code",
   "execution_count": 1,
   "metadata": {
    "ExecuteTime": {
     "end_time": "2020-10-08T17:30:21.326163Z",
     "start_time": "2020-10-08T17:30:19.181500Z"
    }
   },
   "outputs": [
    {
     "ename": "SyntaxError",
     "evalue": "invalid syntax (compact_func.py, line 126)",
     "output_type": "error",
     "traceback": [
      "Traceback \u001b[0;36m(most recent call last)\u001b[0m:\n",
      "  File \u001b[1;32m\"/Users/lsimpson/anaconda3/lib/python3.6/site-packages/IPython/core/interactiveshell.py\"\u001b[0m, line \u001b[1;32m3343\u001b[0m, in \u001b[1;35mrun_code\u001b[0m\n    exec(code_obj, self.user_global_ns, self.user_ns)\n",
      "  File \u001b[1;32m\"<ipython-input-1-c16726426358>\"\u001b[0m, line \u001b[1;32m1\u001b[0m, in \u001b[1;35m<module>\u001b[0m\n    from classo.solve_R2 import pathlasso_R2, Classo_R2, problem_R2\n",
      "\u001b[0;36m  File \u001b[0;32m\"/Users/lsimpson/anaconda3/lib/python3.6/site-packages/classo/__init__.py\"\u001b[0;36m, line \u001b[0;32m2\u001b[0;36m, in \u001b[0;35m<module>\u001b[0;36m\u001b[0m\n\u001b[0;31m    from .compact_func import Classo, pathlasso\u001b[0m\n",
      "\u001b[0;36m  File \u001b[0;32m\"/Users/lsimpson/anaconda3/lib/python3.6/site-packages/classo/compact_func.py\"\u001b[0;36m, line \u001b[0;32m126\u001b[0m\n\u001b[0;31m    if not r==1. : matrices_r = (matrices[0]*r;matrices[1],matrices[2]*2)\u001b[0m\n\u001b[0m                                              ^\u001b[0m\n\u001b[0;31mSyntaxError\u001b[0m\u001b[0;31m:\u001b[0m invalid syntax\n"
     ]
    }
   ],
   "source": [
    "from classo.solve_R2 import pathlasso_R2, Classo_R2, problem_R2\n",
    "from classo.solve_R1 import pathlasso_R1, Classo_R1, problem_R1\n",
    "from classo.solve_R3 import pathlasso_R3, Classo_R3, problem_R3\n",
    "from classo.compact_func import Classo, pathlasso\n",
    "from classo import random_data, classo_problem\n",
    "import numpy as np\n",
    "import matplotlib.pyplot as plt\n",
    "\n",
    "m,d,d_nonzero,k,sigma =150,100,6,0,0.5\n",
    "(X,C,y),sol = random_data(m,d,d_nonzero,k,sigma,zerosum=True,seed=None)"
   ]
  },
  {
   "cell_type": "code",
   "execution_count": null,
   "metadata": {
    "ExecuteTime": {
     "end_time": "2020-10-08T17:26:29.763409Z",
     "start_time": "2020-10-08T17:26:18.598Z"
    }
   },
   "outputs": [],
   "source": [
    "e = 10\n",
    "\n",
    "problem                                     = classo_problem(X,y,C)\n",
    "problem.formulation.e                       = e                                  \n",
    "problem.model_selection.LAMfixed            = False\n",
    "problem.model_selection.PATH                = True\n",
    "problem.model_selection.StabSel             = False\n",
    "\n",
    "problem.model_selection.LAMfixedparameters.rescaled_lam = True\n",
    "problem.model_selection.LAMfixedparameters.lam = 0.3\n",
    "\n",
    "problem.model_selection.PATHparameters.numerical_method = 'DR'\n",
    "problem.solve()\n",
    "print(problem.solution.PATH)\n",
    "\n",
    "problem.model_selection.PATHparameters.numerical_method = 'Path-Alg'\n",
    "problem.solve()\n",
    "print(problem.solution.PATH)"
   ]
  },
  {
   "cell_type": "code",
   "execution_count": null,
   "metadata": {
    "ExecuteTime": {
     "end_time": "2020-10-08T17:26:29.767924Z",
     "start_time": "2020-10-08T17:26:18.782Z"
    }
   },
   "outputs": [],
   "source": [
    "lam = .1\n",
    "pb_dr = problem_R3((X,C,y),'DR',e=m/2)\n",
    "pb_pa = problem_R3((X,C,y),'Path-Alg',e=m/2)\n",
    "beta_dr, s_dr = Classo_R3(pb_dr, lam)\n",
    "beta_pa, s_pa = Classo_R3(pb_pa, lam)"
   ]
  },
  {
   "cell_type": "code",
   "execution_count": null,
   "metadata": {
    "ExecuteTime": {
     "end_time": "2020-10-08T17:26:29.776379Z",
     "start_time": "2020-10-08T17:26:21.588Z"
    }
   },
   "outputs": [],
   "source": [
    "for beta in [beta_pa,beta_dr]:\n",
    "    plt.bar(range(len(beta)),beta)\n",
    "    plt.show()"
   ]
  },
  {
   "cell_type": "code",
   "execution_count": null,
   "metadata": {},
   "outputs": [],
   "source": []
  },
  {
   "cell_type": "code",
   "execution_count": null,
   "metadata": {},
   "outputs": [],
   "source": []
  },
  {
   "cell_type": "code",
   "execution_count": null,
   "metadata": {},
   "outputs": [],
   "source": []
  },
  {
   "cell_type": "code",
   "execution_count": null,
   "metadata": {},
   "outputs": [],
   "source": []
  },
  {
   "cell_type": "code",
   "execution_count": null,
   "metadata": {
    "ExecuteTime": {
     "end_time": "2020-10-08T15:24:42.241703Z",
     "start_time": "2020-10-08T15:24:42.171Z"
    }
   },
   "outputs": [],
   "source": [
    "'''\n",
    "lam = 20.\n",
    "e = m/2\n",
    "ny = np.linalg.norm(y)\n",
    "i = np.argmax(abs(sol))\n",
    "problem                                     = classo_problem(X,y,C)\n",
    "problem.formulation.huber                   = False\n",
    "problem.formulation.concomitant             = True\n",
    "\n",
    "problem.model_selection.CV                  = False\n",
    "problem.model_selection.LAMfixed            = False\n",
    "problem.model_selection.PATH                = True\n",
    "problem.model_selection.StabSel             = False\n",
    "\n",
    "problem.model_selection.LAMfixedparameters.rescaled_lam = False\n",
    "problem.model_selection.LAMfixedparameters.lam = lam\n",
    "\n",
    "problem.model_selection.PATHparameters.numerical_method = 'DR'\n",
    "problem.solve()\n",
    "print(problem.solution.PATH)\n",
    "betas= problem.solution.PATH.BETAS\n",
    "lambdas= problem.solution.PATH.LAMBDAS\n",
    "\n",
    "problem.model_selection.LAMfixed            = True\n",
    "problem.model_selection.PATH                = False\n",
    "\n",
    "i = 20\n",
    "\n",
    "beta1 = betas[i]\n",
    "lambda1 = lambdas[i]\n",
    "problem.model_selection.LAMfixedparameters.lam = lambda1\n",
    "problem.solve\n",
    "beta2 = problem.solution.LAMfixed.beta\n",
    "\n",
    "for beta in [beta1,beta2,beta1-beta2]:\n",
    "    plt.bar(range(len(beta)),beta)\n",
    "    plt.show()\n",
    "    \n",
    "BETA, LAMBDA = pathlasso((X,C,y),lambdas=np.linspace(1.,1e-2,100),typ='R3',meth='DR', true_lam = False, e=m/2)\n",
    "\n",
    "'''"
   ]
  },
  {
   "cell_type": "code",
   "execution_count": null,
   "metadata": {
    "ExecuteTime": {
     "end_time": "2020-10-08T15:24:42.244915Z",
     "start_time": "2020-10-08T15:24:42.176Z"
    }
   },
   "outputs": [],
   "source": [
    "for beta in [beta_pa,beta_dr]:\n",
    "    plt.bar(range(len(beta)),beta)\n",
    "    plt.show()"
   ]
  }
 ],
 "metadata": {
  "kernelspec": {
   "display_name": "Python 3",
   "language": "python",
   "name": "python3"
  },
  "toc": {
   "base_numbering": 1,
   "nav_menu": {},
   "number_sections": true,
   "sideBar": true,
   "skip_h1_title": false,
   "title_cell": "Table of Contents",
   "title_sidebar": "Contents",
   "toc_cell": false,
   "toc_position": {},
   "toc_section_display": true,
   "toc_window_display": false
  }
 },
 "nbformat": 4,
 "nbformat_minor": 4
}
