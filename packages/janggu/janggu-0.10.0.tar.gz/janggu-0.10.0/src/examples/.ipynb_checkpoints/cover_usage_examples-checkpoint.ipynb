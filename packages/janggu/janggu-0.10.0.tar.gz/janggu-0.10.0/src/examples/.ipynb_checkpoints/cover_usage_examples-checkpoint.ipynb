{
 "cells": [
  {
   "cell_type": "markdown",
   "metadata": {},
   "source": [
    "# Cover usage examples"
   ]
  },
  {
   "cell_type": "markdown",
   "metadata": {},
   "source": [
    "Cover objects can be used to extract genomics coverage data for fitting machine learning models.\n",
    "\n",
    "However, the potential usage of the Cover object depends on multiple factors, including whether you want to\n",
    "use it to serve input coverage tracks or output labels or signal. Whether you want to use the coverage as base pair-resolution coverage\n",
    "or whether you want to extract aggregate scores describing a region.\n",
    "\n",
    "In this tutorial, we shall go over some of the most important usage examples."
   ]
  },
  {
   "cell_type": "markdown",
   "metadata": {},
   "source": [
    "## Extract output labels/signal from a Cover object"
   ]
  },
  {
   "cell_type": "code",
   "execution_count": 1,
   "metadata": {},
   "outputs": [
    {
     "ename": "ModuleNotFoundError",
     "evalue": "No module named 'janggu'",
     "output_type": "error",
     "traceback": [
      "\u001b[0;31m---------------------------------------------------------------------------\u001b[0m",
      "\u001b[0;31mModuleNotFoundError\u001b[0m                       Traceback (most recent call last)",
      "\u001b[0;32m<ipython-input-1-ca8bbbea4f86>\u001b[0m in \u001b[0;36m<module>\u001b[0;34m\u001b[0m\n\u001b[0;32m----> 1\u001b[0;31m \u001b[0;32mfrom\u001b[0m \u001b[0mjanggu\u001b[0m\u001b[0;34m.\u001b[0m\u001b[0mdata\u001b[0m \u001b[0;32mimport\u001b[0m \u001b[0mCover\u001b[0m\u001b[0;34m\u001b[0m\u001b[0;34m\u001b[0m\u001b[0m\n\u001b[0m",
      "\u001b[0;31mModuleNotFoundError\u001b[0m: No module named 'janggu'"
     ]
    }
   ],
   "source": [
    "from janggu.data import Cover\n",
    "from janggu.data import ReduceDim"
   ]
  },
  {
   "cell_type": "code",
   "execution_count": null,
   "metadata": {},
   "outputs": [],
   "source": [
    "A common use case is to extract genomic feature tracks \n",
    "such that each interval is represented by an aggregate score.\n",
    "\n",
    "This use case will involve feature extraction using Cover followed by reshaping\n",
    "using the ReduceDim wrapper to generate 2D data structures."
   ]
  },
  {
   "cell_type": "code",
   "execution_count": null,
   "metadata": {},
   "outputs": [],
   "source": []
  },
  {
   "cell_type": "code",
   "execution_count": null,
   "metadata": {},
   "outputs": [],
   "source": [
    "First, we assume that the data has already been aranged in equally sized intervals."
   ]
  },
  {
   "cell_type": "code",
   "execution_count": null,
   "metadata": {},
   "outputs": [],
   "source": [
    "Given a set of equally sized intervals, \n",
    "we want to extract a single score/label for each interval\n",
    "and use these as training labels."
   ]
  },
  {
   "cell_type": "code",
   "execution_count": null,
   "metadata": {},
   "outputs": [],
   "source": [
    "There are multiple ways to achieve this end."
   ]
  },
  {
   "cell_type": "code",
   "execution_count": null,
   "metadata": {},
   "outputs": [],
   "source": [
    "We can extract the coverage tracks in three ways:"
   ]
  },
  {
   "cell_type": "code",
   "execution_count": null,
   "metadata": {},
   "outputs": [],
   "source": [
    "Option 1: Compatible with partial genome coverage. \n",
    "    works with overlapping and non-overlapping intervals."
   ]
  },
  {
   "cell_type": "code",
   "execution_count": null,
   "metadata": {},
   "outputs": [],
   "source": [
    "c1 = Cover.create_from_bed('signal', bedfiles=, roi=,\n",
    "                           resolution=None)\n",
    "\n",
    "c2 = Cover.create_from_bigwig('signal', bedfiles=, roi=,\n",
    "                              resolution=None)\n",
    "\n",
    "c3 = Cover.create_from_bam('signal', bedfiles=, roi=,\n",
    "                           resolution=None)"
   ]
  },
  {
   "cell_type": "code",
   "execution_count": null,
   "metadata": {},
   "outputs": [],
   "source": [
    "c1.shape, c2.shape, c3.shape"
   ]
  },
  {
   "cell_type": "code",
   "execution_count": null,
   "metadata": {},
   "outputs": [],
   "source": [
    "#Option 2:"
   ]
  },
  {
   "cell_type": "code",
   "execution_count": null,
   "metadata": {},
   "outputs": [],
   "source": [
    "#c1 = Cover.create_from_bed('signal', bedfiles=, roi=,\n",
    "#                           resolution=500)\n",
    "\n",
    "#c2 = Cover.create_from_bigwig('signal', bedfiles=, roi=,\n",
    "#                              resolution=500)\n",
    "\n",
    "#c3 = Cover.create_from_bam('signal', bedfiles=, roi=,\n",
    "#                           resolution=500)"
   ]
  },
  {
   "cell_type": "code",
   "execution_count": null,
   "metadata": {},
   "outputs": [],
   "source": [
    "#c1.shape, c2.shape, c3.shape"
   ]
  },
  {
   "cell_type": "code",
   "execution_count": null,
   "metadata": {},
   "outputs": [],
   "source": [
    "The result of these operations will yield a coverage tracks with the shape (nbatch, 1, 1, ncondition).\n",
    "In order to convert these signal tracks to a 2D table-like data structure, we can wrap the\n",
    "coverage tracks using the ReduceDim class."
   ]
  },
  {
   "cell_type": "code",
   "execution_count": null,
   "metadata": {},
   "outputs": [],
   "source": [
    "rc1 = ReduceDim(c1)"
   ]
  },
  {
   "cell_type": "code",
   "execution_count": null,
   "metadata": {},
   "outputs": [],
   "source": [
    "print(rc1)"
   ]
  },
  {
   "cell_type": "code",
   "execution_count": 2,
   "metadata": {},
   "outputs": [
    {
     "ename": "NameError",
     "evalue": "name 'rc1' is not defined",
     "output_type": "error",
     "traceback": [
      "\u001b[0;31m---------------------------------------------------------------------------\u001b[0m",
      "\u001b[0;31mNameError\u001b[0m                                 Traceback (most recent call last)",
      "\u001b[0;32m<ipython-input-2-f4dbd94d91de>\u001b[0m in \u001b[0;36m<module>\u001b[0;34m\u001b[0m\n\u001b[0;32m----> 1\u001b[0;31m \u001b[0mrc1\u001b[0m\u001b[0;34m.\u001b[0m\u001b[0mshape\u001b[0m\u001b[0;34m\u001b[0m\u001b[0;34m\u001b[0m\u001b[0m\n\u001b[0m",
      "\u001b[0;31mNameError\u001b[0m: name 'rc1' is not defined"
     ]
    }
   ],
   "source": [
    "rc1.shape"
   ]
  },
  {
   "cell_type": "code",
   "execution_count": null,
   "metadata": {},
   "outputs": [],
   "source": [
    "If you want to work with the whole-genome coverage tracks. There are two ways:"
   ]
  },
  {
   "cell_type": "code",
   "execution_count": null,
   "metadata": {},
   "outputs": [],
   "source": [
    "First, we extract the coverage signal in base-pair resolution and subsequently apply the ReduceDim wrapper\n",
    "which aggregates the signal to a single score  per interval."
   ]
  },
  {
   "cell_type": "code",
   "execution_count": null,
   "metadata": {},
   "outputs": [],
   "source": [
    "c2 = ReduceDim(Cover.create_from_bed('signal', bedfiles=, roi=,\n",
    "                                resolution=1), aggregate='max')"
   ]
  },
  {
   "cell_type": "code",
   "execution_count": null,
   "metadata": {},
   "outputs": [],
   "source": [
    "The downside of this approach is that\n",
    "it may require quite a bit of memory, since the genome is extracted and stored in base-pair resolution."
   ]
  },
  {
   "cell_type": "code",
   "execution_count": null,
   "metadata": {},
   "outputs": [],
   "source": [
    "A more memory friendly version of this can be achieved by specifying resolution=500\n",
    "specifically. In this case, the genome is binned in non-overlapping 500bp regions\n",
    "and only one value is stored per bin.\n",
    "That is to say that the signal is stored in 500bp resolution.\n",
    "The prerequisite for this approach is that the intervals contained in the roi \n",
    "must be aligned with the bins."
   ]
  },
  {
   "cell_type": "code",
   "execution_count": null,
   "metadata": {},
   "outputs": [],
   "source": [
    "c2 = ReduceDim(Cover.create_from_bed('signal', bedfiles=, roi=,\n",
    "                                resolution=500))"
   ]
  },
  {
   "cell_type": "markdown",
   "metadata": {},
   "source": [
    "## Extract input coverage tracks from a Cover object"
   ]
  },
  {
   "cell_type": "code",
   "execution_count": 3,
   "metadata": {},
   "outputs": [
    {
     "ename": "SyntaxError",
     "evalue": "invalid syntax (<ipython-input-3-8bd9208d6d49>, line 1)",
     "output_type": "error",
     "traceback": [
      "\u001b[0;36m  File \u001b[0;32m\"<ipython-input-3-8bd9208d6d49>\"\u001b[0;36m, line \u001b[0;32m1\u001b[0m\n\u001b[0;31m    Of course, it may be desired that coverage tracks as supplied as input to a machine learning model.\u001b[0m\n\u001b[0m            ^\u001b[0m\n\u001b[0;31mSyntaxError\u001b[0m\u001b[0;31m:\u001b[0m invalid syntax\n"
     ]
    }
   ],
   "source": [
    "Of course, it may be desired that coverage tracks as supplied as input to a machine learning model.\n",
    "For instance, for predicing gene expression from histon modification ChIP-seq tracks."
   ]
  },
  {
   "cell_type": "code",
   "execution_count": null,
   "metadata": {},
   "outputs": [],
   "source": [
    "In this situation, it is more common to extract the coverage in base-pair resolution coverage tracks\n",
    "or by performing partial aggregation instead of aggregating the a single summary score for each interval."
   ]
  },
  {
   "cell_type": "code",
   "execution_count": null,
   "metadata": {},
   "outputs": [],
   "source": [
    "base pair resolution coverage"
   ]
  },
  {
   "cell_type": "code",
   "execution_count": null,
   "metadata": {},
   "outputs": [],
   "source": [
    "partially aggregated coverage tracks"
   ]
  }
 ],
 "metadata": {
  "kernelspec": {
   "display_name": "Python 3",
   "language": "python",
   "name": "python3"
  },
  "language_info": {
   "codemirror_mode": {
    "name": "ipython",
    "version": 3
   },
   "file_extension": ".py",
   "mimetype": "text/x-python",
   "name": "python",
   "nbconvert_exporter": "python",
   "pygments_lexer": "ipython3",
   "version": "3.7.3"
  }
 },
 "nbformat": 4,
 "nbformat_minor": 2
}
