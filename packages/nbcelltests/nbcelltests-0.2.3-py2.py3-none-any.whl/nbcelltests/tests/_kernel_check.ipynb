{
 "cells": [
  {
   "cell_type": "markdown",
   "source": [
    "some markdown"
   ],   
   "metadata": {}
  } 
 ],
 "metadata": {
  "kernelspec": {
   "display_name": "Python 3.7.6 64-bit ('celltestsui': conda)",
   "language": "python",
   "name": "NOBODY WOULD EVER CALL A KERNEL THIS"
  },
  "language_info": {
   "codemirror_mode": {
    "name": "ipython",
    "version": 3
   },
   "file_extension": ".py",
   "mimetype": "text/x-python",
   "name": "python",
   "nbconvert_exporter": "python",
   "pygments_lexer": "ipython3",
   "version": "3.7.6"
  }
 },
 "nbformat": 4,
 "nbformat_minor": 4
}
