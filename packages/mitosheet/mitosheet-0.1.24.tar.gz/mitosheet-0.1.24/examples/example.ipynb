{
 "cells": [
  {
   "cell_type": "code",
   "execution_count": 39,
   "metadata": {},
   "outputs": [
    {
     "data": {
      "application/vnd.jupyter.widget-view+json": {
       "model_id": "14c198146a5c40928b4e10194057a8d8",
       "version_major": 2,
       "version_minor": 0
      },
      "text/plain": [
       "MitoWidget(code_json='{\"code\": \"0\"}', column_spreadsheet_code_json='{\"A\": \"\", \"C\": \"\", \"B\": \"\"}', sheet_json='…"
      ]
     },
     "metadata": {},
     "output_type": "display_data"
    }
   ],
   "source": [
    "import pandas as pd\n",
    "import mitosheet\n",
    "df = pd.DataFrame(data={'A': [123]})\n",
    "\n",
    "# MITO CODE START (DO NOT EDIT)\n",
    "# SAVED-ANALYSIS-START{\"A\":\"\",\"C\":\"=AVG(A)\",\"B\":\"=AVG(A)\"}SAVED-ANALYSIS-END\n",
    "\n",
    "from mitosheet import AVG,CLEAN,CONCATENATE,FIND,LEFT,LEN,LOWER,MID,MULTIPLY,PROPER,RIGHT,SUBSTITUTE,SUM,TRIM,UPPER\n",
    "\n",
    "def mito_analysis(df):\n",
    "    df['C'] = AVG(df['A'])\n",
    "\n",
    "    df['B'] = AVG(df['A'])\n",
    "\n",
    "mito_analysis(df)\n",
    "  \n",
    "# MITO CODE END (DO NOT EDIT)\n",
    "\n",
    "mitosheet.sheet(df)"
   ]
  },
  {
   "cell_type": "code",
   "execution_count": null,
   "metadata": {},
   "outputs": [],
   "source": []
  },
  {
   "cell_type": "code",
   "execution_count": null,
   "metadata": {},
   "outputs": [],
   "source": []
  }
 ],
 "metadata": {
  "kernelspec": {
   "display_name": "Python 3",
   "language": "python",
   "name": "python3"
  },
  "language_info": {
   "codemirror_mode": {
    "name": "ipython",
    "version": 3
   },
   "file_extension": ".py",
   "mimetype": "text/x-python",
   "name": "python",
   "nbconvert_exporter": "python",
   "pygments_lexer": "ipython3",
   "version": "3.8.5"
  },
  "widgets": {
   "application/vnd.jupyter.widget-state+json": {
    "state": {
     "0330bbeb08ba4180a885c6cf1f719fb4": {
      "model_module": "mitosheet",
      "model_module_version": "^0.1.22",
      "model_name": "ExampleModel",
      "state": {
       "_model_module_version": "^0.1.22",
       "_view_module_version": "^0.1.22",
       "code_json": "{\"imports\": \"from mitosheet import AVG,CLEAN,CONCATENATE,FIND,LEFT,LEN,LOWER,MID,MULTIPLY,PROPER,RIGHT,SUBSTITUTE,SUM,TRIM,UPPER\", \"code\": [\"df['B'] = AVG(df['A'], 10)\"]}",
       "column_spreadsheet_code_json": "{\"A\": \"\", \"B\": \"=AVG(A, 10)\"}",
       "df_name": "",
       "layout": "IPY_MODEL_d7d776fb830344fc8727de74cd0396a1",
       "sheet_json": "{\"columns\": [\"A\", \"B\"], \"index\": [0], \"data\": [[123, 66.5]]}",
       "user_id": "nate",
       "value": "Hello World"
      }
     },
     "06d1069b2eeb4ec18e8bcfcef524d35e": {
      "model_module": "@jupyter-widgets/base",
      "model_module_version": "1.2.0",
      "model_name": "LayoutModel",
      "state": {}
     },
     "0844ff0460ed4304a1aaa336bed051b6": {
      "model_module": "mitosheet",
      "model_module_version": "^0.1.22",
      "model_name": "ExampleModel",
      "state": {
       "_model_module_version": "^0.1.22",
       "_view_module_version": "^0.1.22",
       "code_json": "{\"imports\": \"from mitosheet import AVG,CLEAN,CONCATENATE,FIND,LEFT,LEN,LOWER,MID,MULTIPLY,PROPER,RIGHT,SUBSTITUTE,SUM,TRIM,UPPER\", \"code\": [\"df['B'] = AVG(df['A'])\"]}",
       "column_spreadsheet_code_json": "{\"A\": \"\", \"B\": \"=AVG(A)\"}",
       "df_name": "",
       "layout": "IPY_MODEL_664d44094f1f47229f9124f781935076",
       "sheet_json": "{\"columns\": [\"A\", \"B\"], \"index\": [0], \"data\": [[123, 123.0]]}",
       "user_id": "nate",
       "value": "Hello World"
      }
     },
     "096870772d024793a085d47786162f8a": {
      "model_module": "mitosheet",
      "model_module_version": "^0.1.22",
      "model_name": "ExampleModel",
      "state": {
       "_model_module_version": "^0.1.22",
       "_view_module_version": "^0.1.22",
       "code_json": "{\"imports\": \"from mitosheet import AVG,CLEAN,CONCATENATE,FIND,LEFT,LEN,LOWER,MID,MULTIPLY,PROPER,RIGHT,SUBSTITUTE,SUM,TRIM,UPPER\", \"code\": [\"df['C'] = AVG(df['A'])\", \"df['B'] = AVG(df['A'])\"]}",
       "column_spreadsheet_code_json": "{\"A\": \"\", \"C\": \"=AVG(A)\", \"B\": \"=AVG(A)\"}",
       "df_name": "",
       "layout": "IPY_MODEL_4688174c2baf434286797d055612fb00",
       "sheet_json": "{\"columns\": [\"A\", \"C\", \"B\"], \"index\": [0], \"data\": [[123, 123.0, 123.0]]}",
       "user_id": "nate",
       "value": "Hello World"
      }
     },
     "0d0f560098634971b56729be51cd3c62": {
      "model_module": "mitosheet",
      "model_module_version": "^0.1.22",
      "model_name": "ExampleModel",
      "state": {
       "_model_module_version": "^0.1.22",
       "_view_module_version": "^0.1.22",
       "code_json": "{\"imports\": \"from mitosheet import AVG,CLEAN,CONCATENATE,FIND,LEFT,LEN,LOWER,MID,MULTIPLY,PROPER,RIGHT,SUBSTITUTE,SUM,TRIM,UPPER\", \"code\": [\"df['B'] = AVG(df['A'], 1)\"]}",
       "column_spreadsheet_code_json": "{\"A\": \"\", \"B\": \"=AVG(A, 1)\"}",
       "df_name": "",
       "layout": "IPY_MODEL_3e73682b33554e2f9e671c3fd8b75825",
       "sheet_json": "{\"columns\": [\"A\", \"B\"], \"index\": [0], \"data\": [[123, 62.0]]}",
       "user_id": "nate",
       "value": "Hello World"
      }
     },
     "0dc67298f2e8486083d6fca6398119b4": {
      "model_module": "@jupyter-widgets/base",
      "model_module_version": "1.2.0",
      "model_name": "LayoutModel",
      "state": {}
     },
     "0dd8d02e3234493db5fe676c61aaf315": {
      "model_module": "mitosheet",
      "model_module_version": "^0.1.22",
      "model_name": "ExampleModel",
      "state": {
       "_model_module_version": "^0.1.22",
       "_view_module_version": "^0.1.22",
       "code_json": "{\"code\": \"0\"}",
       "column_spreadsheet_code_json": "{\"A\": \"\", \"C\": \"=0\", \"B\": \"=AVG(A)\"}",
       "df_name": "",
       "layout": "IPY_MODEL_5c002de1497145a78108296aae8f785f",
       "sheet_json": "{\"columns\": [\"A\", \"C\", \"B\"], \"index\": [0], \"data\": [[123, 0, 123.0]]}",
       "user_id": "nate",
       "value": "Hello World"
      }
     },
     "0f3c504790bb4f2cb66f8586103c20ba": {
      "model_module": "@jupyter-widgets/base",
      "model_module_version": "1.2.0",
      "model_name": "LayoutModel",
      "state": {}
     },
     "12549464910040c28f795b225cf5f504": {
      "model_module": "mitosheet",
      "model_module_version": "^0.1.22",
      "model_name": "ExampleModel",
      "state": {
       "_model_module_version": "^0.1.22",
       "_view_module_version": "^0.1.22",
       "code_json": "{\"code\": \"0\"}",
       "column_spreadsheet_code_json": "{\"A\": \"\", \"B\": \"=AVG(A, 1)\"}",
       "df_name": "",
       "layout": "IPY_MODEL_c885757462354f32b613ac3a1e5aab90",
       "sheet_json": "{\"columns\": [\"A\", \"B\"], \"index\": [0], \"data\": [[123, 62.0]]}",
       "user_id": "nate",
       "value": "Hello World"
      }
     },
     "14c198146a5c40928b4e10194057a8d8": {
      "model_module": "mitosheet",
      "model_module_version": "^0.1.22",
      "model_name": "ExampleModel",
      "state": {
       "_model_module_version": "^0.1.22",
       "_view_module_version": "^0.1.22",
       "code_json": "{\"code\": \"0\"}",
       "column_spreadsheet_code_json": "{\"A\": \"\", \"C\": \"=AVG(A)\", \"B\": \"=AVG(A)\"}",
       "df_name": "df",
       "layout": "IPY_MODEL_46556e621d614bf8aa040989e8df854c",
       "sheet_json": "{\"columns\": [\"A\", \"C\", \"B\"], \"index\": [0], \"data\": [[123, 123.0, 123.0]]}",
       "user_id": "nate",
       "value": "Hello World"
      }
     },
     "1b9b360325b04698bad273058dcbbdb5": {
      "model_module": "mitosheet",
      "model_module_version": "^0.1.22",
      "model_name": "ExampleModel",
      "state": {
       "_model_module_version": "^0.1.22",
       "_view_module_version": "^0.1.22",
       "code_json": "{\"code\": \"0\"}",
       "column_spreadsheet_code_json": "{\"A\": \"\", \"B\": \"=AVG(A)\"}",
       "df_name": "",
       "layout": "IPY_MODEL_9f2a8a7d31ba4d06a0da6a3f6f991ec6",
       "sheet_json": "{\"columns\": [\"A\", \"B\"], \"index\": [0], \"data\": [[123, 123.0]]}",
       "user_id": "nate",
       "value": "Hello World"
      }
     },
     "29502bb4418245af9e10603ffe47555b": {
      "model_module": "mitosheet",
      "model_module_version": "^0.1.22",
      "model_name": "ExampleModel",
      "state": {
       "_model_module_version": "^0.1.22",
       "_view_module_version": "^0.1.22",
       "code_json": "{\"code\": \"0\"}",
       "column_spreadsheet_code_json": "{\"A\": \"\", \"C\": \"=0\", \"B\": \"=AVG(A)\"}",
       "df_name": "",
       "layout": "IPY_MODEL_ae76bd56e15a40b3b3d72ef29aae3b95",
       "sheet_json": "{\"columns\": [\"A\", \"C\", \"B\"], \"index\": [0], \"data\": [[123, 0, 123.0]]}",
       "user_id": "nate",
       "value": "Hello World"
      }
     },
     "29a4938ae1af4a18960ed3d234189b6d": {
      "model_module": "@jupyter-widgets/base",
      "model_module_version": "1.2.0",
      "model_name": "LayoutModel",
      "state": {}
     },
     "2b2e8ef2f5504e7c89de7a4976f10634": {
      "model_module": "mitosheet",
      "model_module_version": "^0.1.22",
      "model_name": "ExampleModel",
      "state": {
       "_model_module_version": "^0.1.22",
       "_view_module_version": "^0.1.22",
       "code_json": "{\"code\": \"0\"}",
       "column_spreadsheet_code_json": "{\"A\": \"\", \"B\": \"=AVG(A)\"}",
       "df_name": "",
       "layout": "IPY_MODEL_dc5b944c205744d49d36922a70944d8f",
       "sheet_json": "{\"columns\": [\"A\", \"B\"], \"index\": [0], \"data\": [[123, 123.0]]}",
       "user_id": "nate",
       "value": "Hello World"
      }
     },
     "2c49347274d440268944cebc0dbf9de5": {
      "model_module": "mitosheet",
      "model_module_version": "^0.1.22",
      "model_name": "ExampleModel",
      "state": {
       "_model_module_version": "^0.1.22",
       "_view_module_version": "^0.1.22",
       "code_json": "{\"code\": \"0\"}",
       "column_spreadsheet_code_json": "{\"A\": \"\", \"C\": \"=0\", \"B\": \"=AVG(A)\"}",
       "df_name": "",
       "layout": "IPY_MODEL_81c01b1455124034affa79e0d7595ab1",
       "sheet_json": "{\"columns\": [\"A\", \"C\", \"B\"], \"index\": [0], \"data\": [[123, 0, 123.0]]}",
       "user_id": "nate",
       "value": "Hello World"
      }
     },
     "2c713a22d69043ef86924a119292e03b": {
      "model_module": "mitosheet",
      "model_module_version": "^0.1.22",
      "model_name": "ExampleModel",
      "state": {
       "_model_module_version": "^0.1.22",
       "_view_module_version": "^0.1.22",
       "code_json": "{\"imports\": \"from mitosheet import AVG,CLEAN,CONCATENATE,FIND,LEFT,LEN,LOWER,MID,MULTIPLY,PROPER,RIGHT,SUBSTITUTE,SUM,TRIM,UPPER\", \"code\": [\"df['B'] = AVG(df['A'])\"]}",
       "column_spreadsheet_code_json": "{\"A\": \"\", \"B\": \"=AVG(A)\"}",
       "df_name": "",
       "layout": "IPY_MODEL_f623de1673784bfd99357f18b338eced",
       "sheet_json": "{\"columns\": [\"A\", \"B\"], \"index\": [0], \"data\": [[123, 123.0]]}",
       "user_id": "nate",
       "value": "Hello World"
      }
     },
     "2f1f7e1e87654252815e628a91ceb8b7": {
      "model_module": "mitosheet",
      "model_module_version": "^0.1.22",
      "model_name": "ExampleModel",
      "state": {
       "_model_module_version": "^0.1.22",
       "_view_module_version": "^0.1.22",
       "code_json": "{\"imports\": \"from mitosheet import AVG,CLEAN,CONCATENATE,FIND,LEFT,LEN,LOWER,MID,MULTIPLY,PROPER,RIGHT,SUBSTITUTE,SUM,TRIM,UPPER\", \"code\": [\"df['C'] = LEFT(LOWER(LEN(df['A'])))\", \"df['B'] = AVG(df['A'])\"]}",
       "column_spreadsheet_code_json": "{\"A\": \"\", \"C\": \"=LEFT(LOWER(LEN(A)))\", \"B\": \"=AVG(A)\"}",
       "df_name": "",
       "layout": "IPY_MODEL_f8a1deb744994fdfaeccf0ed18bb7eca",
       "sheet_json": "{\"columns\": [\"A\", \"C\", \"B\"], \"index\": [0], \"data\": [[123, 3, 123.0]]}",
       "user_id": "nate",
       "value": "Hello World"
      }
     },
     "35cd29c38a9543fcb00ef07a43ea6d18": {
      "model_module": "mitosheet",
      "model_module_version": "^0.1.22",
      "model_name": "ExampleModel",
      "state": {
       "_model_module_version": "^0.1.22",
       "_view_module_version": "^0.1.22",
       "code_json": "{\"code\": \"0\"}",
       "column_spreadsheet_code_json": "{\"A\": \"\", \"C\": \"=0\", \"B\": \"=AVG(A)\"}",
       "df_name": "",
       "layout": "IPY_MODEL_d4ba6b2c834b4996b753a77ce1ba996c",
       "sheet_json": "{\"columns\": [\"A\", \"C\", \"B\"], \"index\": [0], \"data\": [[123, 0, 123.0]]}",
       "user_id": "nate",
       "value": "Hello World"
      }
     },
     "3e73682b33554e2f9e671c3fd8b75825": {
      "model_module": "@jupyter-widgets/base",
      "model_module_version": "1.2.0",
      "model_name": "LayoutModel",
      "state": {}
     },
     "443098a15d694eefaf1fa4c721139870": {
      "model_module": "mitosheet",
      "model_module_version": "^0.1.22",
      "model_name": "ExampleModel",
      "state": {
       "_model_module_version": "^0.1.22",
       "_view_module_version": "^0.1.22",
       "code_json": "{\"code\": \"0\"}",
       "column_spreadsheet_code_json": "{\"A\": \"\", \"B\": \"=AVG(A)\"}",
       "df_name": "",
       "layout": "IPY_MODEL_834f50bdc2fa43eab09ad68f799621a1",
       "sheet_json": "{\"columns\": [\"A\", \"B\"], \"index\": [0], \"data\": [[123, 123.0]]}",
       "user_id": "nate",
       "value": "Hello World"
      }
     },
     "46556e621d614bf8aa040989e8df854c": {
      "model_module": "@jupyter-widgets/base",
      "model_module_version": "1.2.0",
      "model_name": "LayoutModel",
      "state": {}
     },
     "4688174c2baf434286797d055612fb00": {
      "model_module": "@jupyter-widgets/base",
      "model_module_version": "1.2.0",
      "model_name": "LayoutModel",
      "state": {}
     },
     "499c5a1d54ba483da27c05f94430f80f": {
      "model_module": "@jupyter-widgets/base",
      "model_module_version": "1.2.0",
      "model_name": "LayoutModel",
      "state": {}
     },
     "4da70a3414a445e294493c898d559eb3": {
      "model_module": "@jupyter-widgets/base",
      "model_module_version": "1.2.0",
      "model_name": "LayoutModel",
      "state": {}
     },
     "51be03e868844d8181d06a359151e345": {
      "model_module": "mitosheet",
      "model_module_version": "^0.1.22",
      "model_name": "ExampleModel",
      "state": {
       "_model_module_version": "^0.1.22",
       "_view_module_version": "^0.1.22",
       "code_json": "{\"code\": \"0\"}",
       "column_spreadsheet_code_json": "{\"A\": \"\", \"B\": \"=AVG(A)\"}",
       "df_name": "",
       "layout": "IPY_MODEL_499c5a1d54ba483da27c05f94430f80f",
       "sheet_json": "{\"columns\": [\"A\", \"B\"], \"index\": [0], \"data\": [[123, 123.0]]}",
       "user_id": "nate",
       "value": "Hello World"
      }
     },
     "567d044643cb474196624abc74fd3c7c": {
      "model_module": "mitosheet",
      "model_module_version": "^0.1.22",
      "model_name": "ExampleModel",
      "state": {
       "_model_module_version": "^0.1.22",
       "_view_module_version": "^0.1.22",
       "code_json": "{\"imports\": \"from mitosheet import AVG,CLEAN,CONCATENATE,FIND,LEFT,LEN,LOWER,MID,MULTIPLY,PROPER,RIGHT,SUBSTITUTE,SUM,TRIM,UPPER\", \"code\": [\"df['B'] = AVG(df['A'])\"]}",
       "column_spreadsheet_code_json": "{\"A\": \"\", \"B\": \"=AVG(A)\"}",
       "df_name": "",
       "layout": "IPY_MODEL_6b9e81fb3c0a4bed9d6a8f43f639cbe6",
       "sheet_json": "{\"columns\": [\"A\", \"B\"], \"index\": [0], \"data\": [[123, 123.0]]}",
       "user_id": "nate",
       "value": "Hello World"
      }
     },
     "5971435850d1460eab1b005c089cee18": {
      "model_module": "mitosheet",
      "model_module_version": "^0.1.22",
      "model_name": "ExampleModel",
      "state": {
       "_model_module_version": "^0.1.22",
       "_view_module_version": "^0.1.22",
       "code_json": "{\"code\": \"0\"}",
       "column_spreadsheet_code_json": "{\"A\": \"\", \"B\": \"=AVG(A)\"}",
       "df_name": "",
       "layout": "IPY_MODEL_69afcc72f8214fe1add2d3bdfe7ddf03",
       "sheet_json": "{\"columns\": [\"A\", \"B\"], \"index\": [0], \"data\": [[123, 123.0]]}",
       "user_id": "nate",
       "value": "Hello World"
      }
     },
     "5c002de1497145a78108296aae8f785f": {
      "model_module": "@jupyter-widgets/base",
      "model_module_version": "1.2.0",
      "model_name": "LayoutModel",
      "state": {}
     },
     "5c5fe2e15f1e4372afbfa19c1e0339b6": {
      "model_module": "@jupyter-widgets/base",
      "model_module_version": "1.2.0",
      "model_name": "LayoutModel",
      "state": {}
     },
     "644c921b3a6b45b9a656c5794c30c888": {
      "model_module": "mitosheet",
      "model_module_version": "^0.1.22",
      "model_name": "ExampleModel",
      "state": {
       "_model_module_version": "^0.1.22",
       "_view_module_version": "^0.1.22",
       "code_json": "{\"code\": \"0\"}",
       "column_spreadsheet_code_json": "{\"A\": \"\", \"B\": \"=AVG(A)\"}",
       "df_name": "",
       "layout": "IPY_MODEL_7a5248fc669c4934aa51108fee35b68c",
       "sheet_json": "{\"columns\": [\"A\", \"B\"], \"index\": [0], \"data\": [[123, 123.0]]}",
       "user_id": "nate",
       "value": "Hello World"
      }
     },
     "664d44094f1f47229f9124f781935076": {
      "model_module": "@jupyter-widgets/base",
      "model_module_version": "1.2.0",
      "model_name": "LayoutModel",
      "state": {}
     },
     "69afcc72f8214fe1add2d3bdfe7ddf03": {
      "model_module": "@jupyter-widgets/base",
      "model_module_version": "1.2.0",
      "model_name": "LayoutModel",
      "state": {}
     },
     "6b9e81fb3c0a4bed9d6a8f43f639cbe6": {
      "model_module": "@jupyter-widgets/base",
      "model_module_version": "1.2.0",
      "model_name": "LayoutModel",
      "state": {}
     },
     "6e5f2650c42b4f22be13127c3ef962a3": {
      "model_module": "mitosheet",
      "model_module_version": "^0.1.22",
      "model_name": "ExampleModel",
      "state": {
       "_model_module_version": "^0.1.22",
       "_view_module_version": "^0.1.22",
       "code_json": "{\"imports\": \"from mitosheet import AVG,CLEAN,CONCATENATE,FIND,LEFT,LEN,LOWER,MID,MULTIPLY,PROPER,RIGHT,SUBSTITUTE,SUM,TRIM,UPPER\", \"code\": [\"df['B'] = AVG(df['A'])\"]}",
       "column_spreadsheet_code_json": "{\"A\": \"\", \"B\": \"=AVG(A)\"}",
       "df_name": "",
       "layout": "IPY_MODEL_06d1069b2eeb4ec18e8bcfcef524d35e",
       "sheet_json": "{\"columns\": [\"A\", \"B\"], \"index\": [0], \"data\": [[123, 123.0]]}",
       "user_id": "nate",
       "value": "Hello World"
      }
     },
     "6eea76ea097241b7bbf4a9d24d0abe1d": {
      "model_module": "mitosheet",
      "model_module_version": "^0.1.22",
      "model_name": "ExampleModel",
      "state": {
       "_model_module_version": "^0.1.22",
       "_view_module_version": "^0.1.22",
       "code_json": "{\"imports\": \"from mitosheet import AVG,CLEAN,CONCATENATE,FIND,LEFT,LEN,LOWER,MID,MULTIPLY,PROPER,RIGHT,SUBSTITUTE,SUM,TRIM,UPPER\", \"code\": [\"df['B'] = AVG(df['A'])\"]}",
       "column_spreadsheet_code_json": "{\"A\": \"\", \"B\": \"=AVG(A)\"}",
       "df_name": "",
       "layout": "IPY_MODEL_96e2e5ec4c8b464e98a569799bcea791",
       "sheet_json": "{\"columns\": [\"A\", \"B\"], \"index\": [0], \"data\": [[123, 123.0]]}",
       "user_id": "nate",
       "value": "Hello World"
      }
     },
     "6f5cce67167d4905a367f400b1cb9e04": {
      "model_module": "mitosheet",
      "model_module_version": "^0.1.22",
      "model_name": "ExampleModel",
      "state": {
       "_model_module_version": "^0.1.22",
       "_view_module_version": "^0.1.22",
       "code_json": "{\"code\": \"0\"}",
       "column_spreadsheet_code_json": "{\"A\": \"\", \"C\": \"=0\", \"B\": \"=AVG(A)\"}",
       "df_name": "",
       "layout": "IPY_MODEL_f37e560f15ef416c8e0ebd42264da6e6",
       "sheet_json": "{\"columns\": [\"A\", \"C\", \"B\"], \"index\": [0], \"data\": [[123, 0, 123.0]]}",
       "user_id": "nate",
       "value": "Hello World"
      }
     },
     "7a5248fc669c4934aa51108fee35b68c": {
      "model_module": "@jupyter-widgets/base",
      "model_module_version": "1.2.0",
      "model_name": "LayoutModel",
      "state": {}
     },
     "7a78bd5ca7aa43c1a1993d5e46a7ad36": {
      "model_module": "@jupyter-widgets/base",
      "model_module_version": "1.2.0",
      "model_name": "LayoutModel",
      "state": {}
     },
     "7b464a8c06f44281b8326343054cda2c": {
      "model_module": "mitosheet",
      "model_module_version": "^0.1.22",
      "model_name": "ExampleModel",
      "state": {
       "_model_module_version": "^0.1.22",
       "_view_module_version": "^0.1.22",
       "code_json": "{\"code\": \"0\"}",
       "column_spreadsheet_code_json": "{\"A\": \"\", \"C\": \"=0\", \"B\": \"=AVG(A)\"}",
       "df_name": "",
       "layout": "IPY_MODEL_c1f040f637d54d67898fb2e1cd4d7091",
       "sheet_json": "{\"columns\": [\"A\", \"C\", \"B\"], \"index\": [0], \"data\": [[123, 0, 123.0]]}",
       "user_id": "nate",
       "value": "Hello World"
      }
     },
     "7bfc601b4fb94cb1b79516305ae84ed2": {
      "model_module": "mitosheet",
      "model_module_version": "^0.1.22",
      "model_name": "ExampleModel",
      "state": {
       "_model_module_version": "^0.1.22",
       "_view_module_version": "^0.1.22",
       "code_json": "{\"code\": \"0\"}",
       "column_spreadsheet_code_json": "{\"A\": \"\", \"C\": \"=0\", \"B\": \"=AVG(A)\"}",
       "df_name": "",
       "layout": "IPY_MODEL_ac54921c87574b97b957f4f1988cabd9",
       "sheet_json": "{\"columns\": [\"A\", \"C\", \"B\"], \"index\": [0], \"data\": [[123, 0, 123.0]]}",
       "user_id": "nate",
       "value": "Hello World"
      }
     },
     "80f0b2d4e86c4ce5a08353b3d13b1e83": {
      "model_module": "mitosheet",
      "model_module_version": "^0.1.22",
      "model_name": "ExampleModel",
      "state": {
       "_model_module_version": "^0.1.22",
       "_view_module_version": "^0.1.22",
       "code_json": "{\"code\": \"0\"}",
       "column_spreadsheet_code_json": "{\"A\": \"\", \"B\": \"=AVG(A, 1)\"}",
       "df_name": "",
       "layout": "IPY_MODEL_5c5fe2e15f1e4372afbfa19c1e0339b6",
       "sheet_json": "{\"columns\": [\"A\", \"B\"], \"index\": [0], \"data\": [[123, 62.0]]}",
       "user_id": "nate",
       "value": "Hello World"
      }
     },
     "81c01b1455124034affa79e0d7595ab1": {
      "model_module": "@jupyter-widgets/base",
      "model_module_version": "1.2.0",
      "model_name": "LayoutModel",
      "state": {}
     },
     "834f50bdc2fa43eab09ad68f799621a1": {
      "model_module": "@jupyter-widgets/base",
      "model_module_version": "1.2.0",
      "model_name": "LayoutModel",
      "state": {}
     },
     "836717f7bb86422abafe5512c9b9e589": {
      "model_module": "mitosheet",
      "model_module_version": "^0.1.22",
      "model_name": "ExampleModel",
      "state": {
       "_model_module_version": "^0.1.22",
       "_view_module_version": "^0.1.22",
       "code_json": "{\"code\": \"0\"}",
       "column_spreadsheet_code_json": "{\"A\": \"\", \"C\": \"=0\", \"B\": \"=AVG(A)\"}",
       "df_name": "",
       "layout": "IPY_MODEL_ff10a7c4571043dcadfbc68b47ca31f2",
       "sheet_json": "{\"columns\": [\"A\", \"C\", \"B\"], \"index\": [0], \"data\": [[123, 0, 123.0]]}",
       "user_id": "nate",
       "value": "Hello World"
      }
     },
     "965c8b54a72242dc9a2e05212c9ffa4a": {
      "model_module": "mitosheet",
      "model_module_version": "^0.1.22",
      "model_name": "ExampleModel",
      "state": {
       "_model_module_version": "^0.1.22",
       "_view_module_version": "^0.1.22",
       "code_json": "{\"code\": \"0\"}",
       "column_spreadsheet_code_json": "{\"A\": \"\", \"B\": \"=AVG(A)\"}",
       "df_name": "",
       "layout": "IPY_MODEL_0f3c504790bb4f2cb66f8586103c20ba",
       "sheet_json": "{\"columns\": [\"A\", \"B\"], \"index\": [0], \"data\": [[123, 123.0]]}",
       "user_id": "nate",
       "value": "Hello World"
      }
     },
     "96e2e5ec4c8b464e98a569799bcea791": {
      "model_module": "@jupyter-widgets/base",
      "model_module_version": "1.2.0",
      "model_name": "LayoutModel",
      "state": {}
     },
     "972da051deeb4c2b90b5b3d0430b43ad": {
      "model_module": "mitosheet",
      "model_module_version": "^0.1.22",
      "model_name": "ExampleModel",
      "state": {
       "_model_module_version": "^0.1.22",
       "_view_module_version": "^0.1.22",
       "code_json": "{\"code\": \"0\"}",
       "column_spreadsheet_code_json": "{\"A\": \"\", \"C\": \"=0\", \"B\": \"=AVG(A)\"}",
       "df_name": "",
       "layout": "IPY_MODEL_fb9faa0398d44e8f8be55d02fb4d2e28",
       "sheet_json": "{\"columns\": [\"A\", \"C\", \"B\"], \"index\": [0], \"data\": [[123, 0, 123.0]]}",
       "user_id": "nate",
       "value": "Hello World"
      }
     },
     "9b53ed1332064b73b04ee24c3f204e0c": {
      "model_module": "@jupyter-widgets/base",
      "model_module_version": "1.2.0",
      "model_name": "LayoutModel",
      "state": {}
     },
     "9f2a8a7d31ba4d06a0da6a3f6f991ec6": {
      "model_module": "@jupyter-widgets/base",
      "model_module_version": "1.2.0",
      "model_name": "LayoutModel",
      "state": {}
     },
     "a49b1cb9fc7445e0b3aff2bd3b368d2e": {
      "model_module": "mitosheet",
      "model_module_version": "^0.1.22",
      "model_name": "ExampleModel",
      "state": {
       "_model_module_version": "^0.1.22",
       "_view_module_version": "^0.1.22",
       "code_json": "{\"imports\": \"from mitosheet import AVG,CLEAN,CONCATENATE,FIND,LEFT,LEN,LOWER,MID,MULTIPLY,PROPER,RIGHT,SUBSTITUTE,SUM,TRIM,UPPER\", \"code\": [\"df['B'] = AVG(df['A'], 100)\"]}",
       "column_spreadsheet_code_json": "{\"A\": \"\", \"B\": \"=AVG(A, 100)\"}",
       "df_name": "",
       "layout": "IPY_MODEL_4da70a3414a445e294493c898d559eb3",
       "sheet_json": "{\"columns\": [\"A\", \"B\"], \"index\": [0], \"data\": [[123, 111.5]]}",
       "user_id": "nate",
       "value": "Hello World"
      }
     },
     "ac54921c87574b97b957f4f1988cabd9": {
      "model_module": "@jupyter-widgets/base",
      "model_module_version": "1.2.0",
      "model_name": "LayoutModel",
      "state": {}
     },
     "ae76bd56e15a40b3b3d72ef29aae3b95": {
      "model_module": "@jupyter-widgets/base",
      "model_module_version": "1.2.0",
      "model_name": "LayoutModel",
      "state": {}
     },
     "b58782904b584d2aa056960bebd562e7": {
      "model_module": "@jupyter-widgets/base",
      "model_module_version": "1.2.0",
      "model_name": "LayoutModel",
      "state": {}
     },
     "bb795d131a954013b54c0c3571a08c84": {
      "model_module": "mitosheet",
      "model_module_version": "^0.1.22",
      "model_name": "ExampleModel",
      "state": {
       "_model_module_version": "^0.1.22",
       "_view_module_version": "^0.1.22",
       "code_json": "{\"imports\": \"from mitosheet import AVG,CLEAN,CONCATENATE,FIND,LEFT,LEN,LOWER,MID,MULTIPLY,PROPER,RIGHT,SUBSTITUTE,SUM,TRIM,UPPER\", \"code\": [\"df['B'] = LEN(AVG(df['A']))\"]}",
       "column_spreadsheet_code_json": "{\"A\": \"\", \"B\": \"=LEN(AVG(A))\"}",
       "df_name": "",
       "layout": "IPY_MODEL_d3150c9343e048c9a3f389d0ec2cd438",
       "sheet_json": "{\"columns\": [\"A\", \"B\"], \"index\": [0], \"data\": [[123, 5]]}",
       "user_id": "nate",
       "value": "Hello World"
      }
     },
     "c1f040f637d54d67898fb2e1cd4d7091": {
      "model_module": "@jupyter-widgets/base",
      "model_module_version": "1.2.0",
      "model_name": "LayoutModel",
      "state": {}
     },
     "c885757462354f32b613ac3a1e5aab90": {
      "model_module": "@jupyter-widgets/base",
      "model_module_version": "1.2.0",
      "model_name": "LayoutModel",
      "state": {}
     },
     "cdf4d32b43d045258687bb91bd3cdc1e": {
      "model_module": "mitosheet",
      "model_module_version": "^0.1.22",
      "model_name": "ExampleModel",
      "state": {
       "_model_module_version": "^0.1.22",
       "_view_module_version": "^0.1.22",
       "code_json": "{\"code\": \"0\"}",
       "column_spreadsheet_code_json": "{\"A\": \"\", \"C\": \"=0\", \"B\": \"=AVG(A)\"}",
       "df_name": "",
       "layout": "IPY_MODEL_29a4938ae1af4a18960ed3d234189b6d",
       "sheet_json": "{\"columns\": [\"A\", \"C\", \"B\"], \"index\": [0], \"data\": [[123, 0, 123.0]]}",
       "user_id": "nate",
       "value": "Hello World"
      }
     },
     "cf79fbeef8e9461690190611126c1c98": {
      "model_module": "mitosheet",
      "model_module_version": "^0.1.22",
      "model_name": "ExampleModel",
      "state": {
       "_model_module_version": "^0.1.22",
       "_view_module_version": "^0.1.22",
       "code_json": "{\"code\": \"0\"}",
       "column_spreadsheet_code_json": "{\"A\": \"\", \"B\": \"=LEN(AVG(A))\"}",
       "df_name": "",
       "layout": "IPY_MODEL_7a78bd5ca7aa43c1a1993d5e46a7ad36",
       "sheet_json": "{\"columns\": [\"A\", \"B\"], \"index\": [0], \"data\": [[123, 5]]}",
       "user_id": "nate",
       "value": "Hello World"
      }
     },
     "d3150c9343e048c9a3f389d0ec2cd438": {
      "model_module": "@jupyter-widgets/base",
      "model_module_version": "1.2.0",
      "model_name": "LayoutModel",
      "state": {}
     },
     "d4ba6b2c834b4996b753a77ce1ba996c": {
      "model_module": "@jupyter-widgets/base",
      "model_module_version": "1.2.0",
      "model_name": "LayoutModel",
      "state": {}
     },
     "d7d776fb830344fc8727de74cd0396a1": {
      "model_module": "@jupyter-widgets/base",
      "model_module_version": "1.2.0",
      "model_name": "LayoutModel",
      "state": {}
     },
     "d80bd313cc3b420a87c0df165626bd4b": {
      "model_module": "mitosheet",
      "model_module_version": "^0.1.22",
      "model_name": "ExampleModel",
      "state": {
       "_model_module_version": "^0.1.22",
       "_view_module_version": "^0.1.22",
       "code_json": "{\"imports\": \"from mitosheet import AVG,CLEAN,CONCATENATE,FIND,LEFT,LEN,LOWER,MID,MULTIPLY,PROPER,RIGHT,SUBSTITUTE,SUM,TRIM,UPPER\", \"code\": [\"df['B'] = AVG(df['A'], 1)\"]}",
       "column_spreadsheet_code_json": "{\"A\": \"\", \"B\": \"=AVG(A, 1)\"}",
       "df_name": "",
       "layout": "IPY_MODEL_b58782904b584d2aa056960bebd562e7",
       "sheet_json": "{\"columns\": [\"A\", \"B\"], \"index\": [0], \"data\": [[123, 62.0]]}",
       "user_id": "nate",
       "value": "Hello World"
      }
     },
     "dc5b944c205744d49d36922a70944d8f": {
      "model_module": "@jupyter-widgets/base",
      "model_module_version": "1.2.0",
      "model_name": "LayoutModel",
      "state": {}
     },
     "f07798ead4d84340bec2cdfcff9be394": {
      "model_module": "mitosheet",
      "model_module_version": "^0.1.22",
      "model_name": "ExampleModel",
      "state": {
       "_model_module_version": "^0.1.22",
       "_view_module_version": "^0.1.22",
       "code_json": "{\"code\": \"0\"}",
       "column_spreadsheet_code_json": "{\"A\": \"\", \"C\": \"=0\", \"B\": \"=AVG(A)\"}",
       "df_name": "",
       "layout": "IPY_MODEL_9b53ed1332064b73b04ee24c3f204e0c",
       "sheet_json": "{\"columns\": [\"A\", \"C\", \"B\"], \"index\": [0], \"data\": [[123, 0, 123.0]]}",
       "user_id": "nate",
       "value": "Hello World"
      }
     },
     "f37e560f15ef416c8e0ebd42264da6e6": {
      "model_module": "@jupyter-widgets/base",
      "model_module_version": "1.2.0",
      "model_name": "LayoutModel",
      "state": {}
     },
     "f623de1673784bfd99357f18b338eced": {
      "model_module": "@jupyter-widgets/base",
      "model_module_version": "1.2.0",
      "model_name": "LayoutModel",
      "state": {}
     },
     "f8a1deb744994fdfaeccf0ed18bb7eca": {
      "model_module": "@jupyter-widgets/base",
      "model_module_version": "1.2.0",
      "model_name": "LayoutModel",
      "state": {}
     },
     "fb9faa0398d44e8f8be55d02fb4d2e28": {
      "model_module": "@jupyter-widgets/base",
      "model_module_version": "1.2.0",
      "model_name": "LayoutModel",
      "state": {}
     },
     "fd73274004b4418b8869d25f3f114050": {
      "model_module": "mitosheet",
      "model_module_version": "^0.1.22",
      "model_name": "ExampleModel",
      "state": {
       "_model_module_version": "^0.1.22",
       "_view_module_version": "^0.1.22",
       "code_json": "{\"code\": \"0\"}",
       "column_spreadsheet_code_json": "{\"A\": \"\", \"C\": \"=0\", \"B\": \"=AVG(A)\"}",
       "df_name": "",
       "layout": "IPY_MODEL_0dc67298f2e8486083d6fca6398119b4",
       "sheet_json": "{\"columns\": [\"A\", \"C\", \"B\"], \"index\": [0], \"data\": [[123, 0, 123.0]]}",
       "user_id": "nate",
       "value": "Hello World"
      }
     },
     "ff10a7c4571043dcadfbc68b47ca31f2": {
      "model_module": "@jupyter-widgets/base",
      "model_module_version": "1.2.0",
      "model_name": "LayoutModel",
      "state": {}
     }
    },
    "version_major": 2,
    "version_minor": 0
   }
  }
 },
 "nbformat": 4,
 "nbformat_minor": 4
}
