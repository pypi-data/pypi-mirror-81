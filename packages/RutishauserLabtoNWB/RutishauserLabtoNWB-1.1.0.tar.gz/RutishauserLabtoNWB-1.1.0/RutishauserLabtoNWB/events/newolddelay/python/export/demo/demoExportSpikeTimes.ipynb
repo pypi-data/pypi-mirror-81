{
 "cells": [
  {
   "cell_type": "code",
   "execution_count": 1,
   "metadata": {},
   "outputs": [
    {
     "name": "stderr",
     "output_type": "stream",
     "text": [
      "C:\\Users\\chandravadn1\\AppData\\Local\\Continuum\\anaconda3\\lib\\site-packages\\h5py\\__init__.py:36: FutureWarning: Conversion of the second argument of issubdtype from `float` to `np.floating` is deprecated. In future, it will be treated as `np.float64 == np.dtype(float).type`.\n",
      "  from ._conv import register_converters as _register_converters\n"
     ]
    }
   ],
   "source": [
    "import numpy as np\n",
    "from scipy.io import loadmat\n",
    "from pynwb import NWBFile\n",
    "from pynwb.misc import AnnotationSeries\n",
    "from pynwb.file import Subject\n",
    "import datetime\n",
    "from datetime import datetime\n"
   ]
  },
  {
   "cell_type": "code",
   "execution_count": 2,
   "metadata": {},
   "outputs": [],
   "source": [
    "#Input General Parameters here\n",
    "\n",
    "pt_session = '1'\n",
    "nwb_subject = 'P1_Example'\n",
    "age = 30\n",
    "epilepsyDx = 'Right Mesial Temporal'\n",
    "sex = 'M'\n",
    "unformattedDate = '2006-03-23'\n",
    "date = datetime.strptime(unformattedDate, '%Y-%m-%d') \n",
    "session = {'experiment_id_learn': 80, 'experiment_id_recog': 81}b        "
   ]
  },
  {
   "cell_type": "code",
   "execution_count": 3,
   "metadata": {},
   "outputs": [],
   "source": [
    "#Input Files Here\n",
    "\n",
    "#Input Events file (.mat)\n",
    "events = 'C:\\\\Users\\\\chandravadn1\\\\Desktop\\\\code\\\\data\\\\Faraut et al 2018\\\\Data\\\\events\\\\P9HMH_032306\\\\NO\\\\eventsRaw.mat'\n"
   ]
  },
  {
   "cell_type": "code",
   "execution_count": 4,
   "metadata": {},
   "outputs": [],
   "source": [
    "#Create the Subject \n",
    "nwb_subject = Subject(age = str(age), description = epilepsyDx,\n",
    "                          sex = sex, species = 'Human',\n",
    "                          subject_id=pt_session)"
   ]
  },
  {
   "cell_type": "code",
   "execution_count": 5,
   "metadata": {},
   "outputs": [
    {
     "name": "stdout",
     "output_type": "stream",
     "text": [
      "\n",
      "root <class 'pynwb.file.NWBFile'>\n",
      "Fields:\n",
      "  acquisition: { }\n",
      "  analysis: { }\n",
      "  data_collection: learning: 80, recognition: 81\n",
      "  devices: { }\n",
      "  electrode_groups: { }\n",
      "  epoch_tags: {}\n",
      "  experiment_description: The data contained within this file describes a new/old recogntion task performed in patients with intractable epilepsy implanted with depth electrodes and Behnke-Fried microwires in the human Medical Temporal Lobe (MTL).\n",
      "  ic_electrodes: { }\n",
      "  imaging_planes: { }\n",
      "  institution: Cedars-Sinai Medical Center\n",
      "  keywords: ['Intracranial Recordings' 'Intractable Epilepsy' 'Single-Unit Recordings'\n",
      " 'Cognitive Neuroscience' 'Learning' 'Memory' 'Neurosurgery']\n",
      "  lab: Rutishauser\n",
      "  lab_meta_data: { }\n",
      "  modules: { }\n",
      "  ogen_sites: { }\n",
      "  related_publications: Faraut et al. 2018, Scientific Data; Rutishauser et al. 2015, Nat Neurosci;\n",
      "  stimulus: { }\n",
      "  stimulus_template: { }\n",
      "  subject: subject <class 'pynwb.file.Subject'>\n",
      "  time_intervals: { }\n",
      "\n"
     ]
    },
    {
     "name": "stderr",
     "output_type": "stream",
     "text": [
      "C:\\Users\\chandravadn1\\AppData\\Local\\Continuum\\anaconda3\\lib\\site-packages\\pynwb\\file.py:619: UserWarning: Date is missing timezone information. Updating to local timezone.\n",
      "  warn(\"Date is missing timezone information. Updating to local timezone.\")\n"
     ]
    }
   ],
   "source": [
    "#Create the NWB file\n",
    "\n",
    "nwbfile = NWBFile(\n",
    "        #source='https://datadryad.org/bitstream/handle/10255/dryad.163179/RecogMemory_MTL_release_v2.zip',\n",
    "        session_description = 'New/Old recognition task for ID: {}. '.format(pt_session),\n",
    "        identifier = pt_session,\n",
    "        session_start_time = date,\n",
    "        file_create_date = datetime.now(),\n",
    "        experiment_description = 'The data contained within this file describes a new/old recogntion task performed in '\n",
    "                                 'patients with intractable epilepsy implanted with depth electrodes and Behnke-Fried '\n",
    "                                 'microwires in the human Medical Temporal Lobe (MTL).',\n",
    "        institution = 'Cedars-Sinai Medical Center',\n",
    "        keywords = ['Intracranial Recordings', 'Intractable Epilepsy', 'Single-Unit Recordings', 'Cognitive Neuroscience',\n",
    "                    'Learning', 'Memory', 'Neurosurgery'],\n",
    "        related_publications = 'Faraut et al. 2018, Scientific Data; Rutishauser et al. 2015, Nat Neurosci;',\n",
    "        lab = 'Rutishauser',\n",
    "        subject = nwb_subject,\n",
    "        data_collection = 'learning: {}, recognition: {}'.format(session['experiment_id_learn'], session['experiment_id_recog'])\n",
    "    )\n",
    "\n",
    "print(nwbfile)"
   ]
  },
  {
   "cell_type": "code",
   "execution_count": 6,
   "metadata": {},
   "outputs": [],
   "source": [
    "#Write the Events Data into the \\acquistion Group \n",
    "\n",
    "# Time scaling (covert uS -----> S for NWB file)\n",
    "TIME_SCALING = 10**6\n",
    "\n",
    "#Load Events \n",
    "eventsRaw = loadmat(events)['events'][:, 1]\n",
    "timeStamps = loadmat(events)['events'][:, 0]\n",
    "\n",
    "#Add Events to Annotation Series\n",
    "nwbEvents = AnnotationSeries(name = 'events', data = np.asarray(eventsRaw).astype(str), \n",
    "                             timestamps=np.asarray(timeStamps)/TIME_SCALING,\n",
    "                             description = 'Events Data')\n",
    "\n",
    "#Add events to acquisition Group\n",
    "nwbfile.add_acquisition(nwbEvents)\n",
    "\n"
   ]
  },
  {
   "cell_type": "code",
   "execution_count": 12,
   "metadata": {},
   "outputs": [
    {
     "data": {
      "text/plain": [
       "<function LabelledDict.values>"
      ]
     },
     "execution_count": 12,
     "metadata": {},
     "output_type": "execute_result"
    }
   ],
   "source": [
    "#Examine the acquistion Group \n",
    "\n",
    "nwbfile.acquisition.values"
   ]
  }
 ],
 "metadata": {
  "kernelspec": {
   "display_name": "Python 3",
   "language": "python",
   "name": "python3"
  },
  "language_info": {
   "codemirror_mode": {
    "name": "ipython",
    "version": 3
   },
   "file_extension": ".py",
   "mimetype": "text/x-python",
   "name": "python",
   "nbconvert_exporter": "python",
   "pygments_lexer": "ipython3",
   "version": "3.6.5"
  }
 },
 "nbformat": 4,
 "nbformat_minor": 2
}
