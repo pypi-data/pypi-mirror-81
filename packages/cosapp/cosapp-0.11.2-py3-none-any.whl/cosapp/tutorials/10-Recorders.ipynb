{
 "cells": [
  {
   "cell_type": "markdown",
   "metadata": {
    "nbsphinx": "hidden"
   },
   "source": [
    "![CoSAppLogo](images/cosapp.svg) **CoSApp** tutorials:"
   ]
  },
  {
   "cell_type": "markdown",
   "metadata": {},
   "source": [
    "# Recorders\n",
    "\n",
    "## What is a `Recorder`?!\n",
    "\n",
    "A `Recorder` saves results of a [Driver](03-Drivers.ipynb) for data sharing and/or analysis.\n",
    "\n",
    "## Introduction\n",
    "\n",
    "### Add a `Recorder`\n",
    "\n",
    "Simply use the `add_recorder` of a `Driver` method passing a recorder object you want to use \n",
    "(see [Available recorders](#Available-recorders) section of this tutorial)."
   ]
  },
  {
   "cell_type": "code",
   "execution_count": null,
   "metadata": {},
   "outputs": [],
   "source": [
    "from cosapp.tests.library.systems import Multiply1\n",
    "from cosapp.systems import System\n",
    "from cosapp.drivers import RunOnce\n",
    "from cosapp.recorders import DataFrameRecorder\n",
    "\n",
    "m = Multiply1('mult')\n",
    "run = m.add_driver(RunOnce('run', verbose=True))\n",
    "run.add_recorder(DataFrameRecorder());"
   ]
  },
  {
   "cell_type": "markdown",
   "metadata": {},
   "source": [
    "### Default behaviour\n",
    "\n",
    "By default, units are added in the headers with the variable name. And some special columns are presented:\n",
    "- `Section`: User name reference\n",
    "- `Reference`: Internal reference for the record\n",
    "- `Status`: Status of the execution for the record\n",
    "- `Error code`: Error code for the record"
   ]
  },
  {
   "cell_type": "code",
   "execution_count": null,
   "metadata": {},
   "outputs": [],
   "source": [
    "m.run_drivers()\n",
    "run.recorder.data"
   ]
  },
  {
   "cell_type": "markdown",
   "metadata": {},
   "source": [
    "### Common options\n",
    "\n",
    "All recorders share the following options at creation:\n",
    "- `includes`: Variable name or list of variable names to be recorded. It supports *\\** and *?* special characters - the former will be replaced by 0 to infinity of any character and the latter will be replace by *one* character.\n",
    "- `excludes`: Variable name or list of variable names not to be recorded. It supports *\\** and *?* too. `excludes` shadow `includes`.\n",
    "- `section`: String to named a section of the recording\n",
    "- `hold`: Boolean to hold previous results or not in the recorder.\n",
    "- `precision`: Integer specifying the number of digits used when writing floating point number.\n",
    "- `raw_output`: Don't add units in variable header neither add the special columns\n",
    "\n",
    "`section`, `hold` and `precision` can be modified after the recorder creation."
   ]
  },
  {
   "cell_type": "code",
   "execution_count": null,
   "metadata": {},
   "outputs": [],
   "source": [
    "class Example(System):\n",
    "    \n",
    "    def setup(self):\n",
    "        self.add_inward('one', 0.)\n",
    "        self.add_inward('one_two', [0., 1.])\n",
    "        self.add_inward('two_1', 'test')\n",
    "        self.add_inward('two_2', 42.)\n",
    "        \n",
    "e = Example('test')\n",
    "run = e.add_driver(RunOnce('run'))\n",
    "run.add_recorder(DataFrameRecorder(includes=['one*', 'two_?'], excludes=['one_*', ]))\n",
    "e.run_drivers()\n",
    "run.recorder.data"
   ]
  },
  {
   "cell_type": "code",
   "execution_count": null,
   "metadata": {},
   "outputs": [],
   "source": [
    "run.recorder.hold = True\n",
    "e.one = 22.\n",
    "e.run_drivers()\n",
    "run.recorder.data"
   ]
  },
  {
   "cell_type": "markdown",
   "metadata": {},
   "source": [
    "## Available recorders\n",
    "\n",
    "### DataFrameRecorder\n",
    "\n",
    "Record the data in memory to be accessed after the execution through the `inwards` property as a\n",
    "`pandas.DataFrame`.\n",
    "\n",
    "### DSVRecorder\n",
    "\n",
    "Record the data in a Delimited Separated Value formatted file. The constructor requires the \n",
    "`filepath`. And it has two specific options:\n",
    "- `delimiter`: Delimiter to use (possibilities are `,` , `;` or `\\t`)\n",
    "- `buffer`: Boolean specifiying if the data must be written during the execution (`buffer=False`)\n",
    "or after it (`buffer=True`). The default behaviour is `buffer=False`."
   ]
  },
  {
   "cell_type": "code",
   "execution_count": null,
   "metadata": {},
   "outputs": [],
   "source": [
    "from cosapp.recorders import DSVRecorder\n",
    "m = Multiply1('mult')\n",
    "run = m.add_driver(RunOnce('run', verbose=True))\n",
    "run.add_recorder(DSVRecorder('test.csv', delimiter=';', precision=2))\n",
    "m.run_drivers()"
   ]
  },
  {
   "cell_type": "code",
   "execution_count": null,
   "metadata": {},
   "outputs": [],
   "source": [
    "%less test.csv"
   ]
  }
 ],
 "metadata": {
  "kernelspec": {
   "display_name": "default",
   "language": "python",
   "name": "python3"
  },
  "language_info": {
   "codemirror_mode": {
    "name": "ipython",
    "version": 3
   },
   "file_extension": ".py",
   "mimetype": "text/x-python",
   "name": "python",
   "nbconvert_exporter": "python",
   "pygments_lexer": "ipython3",
   "version": "3.6.6"
  }
 },
 "nbformat": 4,
 "nbformat_minor": 2
}
