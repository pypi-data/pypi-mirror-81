{
 "cells": [
  {
   "cell_type": "code",
   "execution_count": 2,
   "metadata": {},
   "outputs": [
    {
     "data": {
      "application/vnd.jupyter.widget-view+json": {
       "model_id": "",
       "version_major": 2,
       "version_minor": 0
      },
      "text/plain": [
       "GPAuthWidget(buttons={'Register an Account': \"\\n    const target = event.target;\\n    const widget = target.cl…"
      ]
     },
     "metadata": {},
     "output_type": "display_data"
    },
    {
     "data": {
      "application/vnd.jupyter.widget-view+json": {
       "model_id": "52953141a723427e9495611e5c44ef63",
       "version_major": 2,
       "version_minor": 0
      },
      "text/plain": [
       "Output()"
      ]
     },
     "metadata": {},
     "output_type": "display_data"
    }
   ],
   "source": [
    "import nbtools\n",
    "\n",
    "login = nbtools.tool(id='authentication', origin='+')\n",
    "login"
   ]
  },
  {
   "cell_type": "code",
   "execution_count": 3,
   "metadata": {},
   "outputs": [
    {
     "data": {
      "application/vnd.jupyter.widget-view+json": {
       "model_id": "",
       "version_major": 2,
       "version_minor": 0
      },
      "text/plain": [
       "UIOutput(appendix=VBox(), error='Cannot find tool: GenePattern Cloud | urn:lsid:broad.mit.edu:cancer.software.…"
      ]
     },
     "metadata": {},
     "output_type": "display_data"
    },
    {
     "data": {
      "application/vnd.jupyter.widget-view+json": {
       "model_id": "1c2af79b91244b09800912e3975c4441",
       "version_major": 2,
       "version_minor": 0
      },
      "text/plain": [
       "Output(outputs=({'output_type': 'display_data', 'data': {}, 'metadata': {}},))"
      ]
     },
     "metadata": {},
     "output_type": "display_data"
    }
   ],
   "source": [
    "nbtools.tool(id='urn:lsid:broad.mit.edu:cancer.software.genepattern.module.analysis:00002:2', origin='GenePattern Cloud')"
   ]
  },
  {
   "cell_type": "code",
   "execution_count": 4,
   "metadata": {},
   "outputs": [
    {
     "data": {
      "application/vnd.jupyter.widget-view+json": {
       "model_id": "",
       "version_major": 2,
       "version_minor": 0
      },
      "text/plain": [
       "UIOutput(appendix=VBox(), error='Cannot find tool: GenePattern Cloud | urn:lsid:broad.mit.edu:cancer.software.…"
      ]
     },
     "metadata": {},
     "output_type": "display_data"
    },
    {
     "data": {
      "application/vnd.jupyter.widget-view+json": {
       "model_id": "d580fce564d249c8aba7f147e89bbfcb",
       "version_major": 2,
       "version_minor": 0
      },
      "text/plain": [
       "Output(outputs=({'output_type': 'display_data', 'data': {}, 'metadata': {}},))"
      ]
     },
     "metadata": {},
     "output_type": "display_data"
    }
   ],
   "source": [
    "nbtools.tool(id='urn:lsid:broad.mit.edu:cancer.software.genepattern.module.visualizer:00010:13.9', origin='GenePattern Cloud')"
   ]
  },
  {
   "cell_type": "code",
   "execution_count": null,
   "metadata": {},
   "outputs": [],
   "source": []
  }
 ],
 "metadata": {
  "kernelspec": {
   "display_name": "Python 3",
   "language": "python",
   "name": "python3"
  },
  "language_info": {
   "codemirror_mode": {
    "name": "ipython",
    "version": 3
   },
   "file_extension": ".py",
   "mimetype": "text/x-python",
   "name": "python",
   "nbconvert_exporter": "python",
   "pygments_lexer": "ipython3",
   "version": "3.7.6"
  },
  "widgets": {
   "application/vnd.jupyter.widget-state+json": {
    "state": {
     "01088cf9be8a4acdac9303f7db056572": {
      "model_module": "@jupyter-widgets/controls",
      "model_module_version": "1.5.0",
      "model_name": "DescriptionStyleModel",
      "state": {
       "description_width": ""
      }
     },
     "0676c6f3f8bb467a8905d0efc9de7890": {
      "model_module": "@jupyter-widgets/base",
      "model_module_version": "1.2.0",
      "model_name": "LayoutModel",
      "state": {
       "grid_area": "input",
       "width": "auto"
      }
     },
     "074d4bb4c2a845d89ada4534cb66466c": {
      "model_module": "@jupyter-widgets/controls",
      "model_module_version": "1.5.0",
      "model_name": "TextModel",
      "state": {
       "_dom_classes": [
        "nbtools-menu-attached"
       ],
       "layout": "IPY_MODEL_6bc92892ce144eb582cd1b11cfa46ecb",
       "style": "IPY_MODEL_9bd736aaa2a04bc3a800831c674ecb06"
      }
     },
     "0838099307ed48b19f095cb973ce4fc0": {
      "model_module": "@jupyter-widgets/base",
      "model_module_version": "1.2.0",
      "model_name": "LayoutModel",
      "state": {
       "grid_template_areas": "\n                    \"label input\"\n                    \". description\"\n                ",
       "grid_template_columns": "25% 75%",
       "grid_template_rows": "auto auto",
       "width": "100%"
      }
     },
     "0b7581fb5151449f801ee28e56137b03": {
      "model_module": "@jupyter-widgets/controls",
      "model_module_version": "1.5.0",
      "model_name": "ButtonModel",
      "state": {
       "_dom_classes": [
        "hidden"
       ],
       "description": "Run",
       "layout": "IPY_MODEL_3ae0682a042f4e6882a07a73fde26ca5",
       "style": "IPY_MODEL_ba7818a33c5449ec9269cf783fec1047"
      }
     },
     "0c78ecc3667f4ae69f7e5c93c7008ba3": {
      "model_module": "@jupyter-widgets/base",
      "model_module_version": "1.2.0",
      "model_name": "LayoutModel",
      "state": {}
     },
     "0d8e1527f2ba41429606e91b321e2cd5": {
      "model_module": "@jupyter-widgets/base",
      "model_module_version": "1.2.0",
      "model_name": "LayoutModel",
      "state": {}
     },
     "0e3f624bb35a4c6288dddbba6e36116c": {
      "model_module": "@jupyter-widgets/controls",
      "model_module_version": "1.5.0",
      "model_name": "LabelModel",
      "state": {
       "layout": "IPY_MODEL_82915b5ab53a44c8bbc13f46ef684637",
       "style": "IPY_MODEL_8a931eeacae44e759d880e07f92207d8"
      }
     },
     "0e3f9d4106354a308199ee3bb8016d62": {
      "model_module": "@jupyter-widgets/controls",
      "model_module_version": "1.5.0",
      "model_name": "TextModel",
      "state": {
       "_dom_classes": [
        "nbtools-menu-attached"
       ],
       "layout": "IPY_MODEL_5a8d4c2387204473bd8503931b7424c6",
       "style": "IPY_MODEL_174c5035533141b39b54601d98b3890f"
      }
     },
     "0ec488b4d9bb4d04aa7317a29bb2474f": {
      "model_module": "@jupyter-widgets/base",
      "model_module_version": "1.2.0",
      "model_name": "LayoutModel",
      "state": {
       "grid_area": "input",
       "width": "auto"
      }
     },
     "0f354d44752149a49c7958c79cf758c9": {
      "model_module": "@jupyter-widgets/controls",
      "model_module_version": "1.5.0",
      "model_name": "FileUploadModel",
      "state": {
       "description_tooltip": null,
       "layout": "IPY_MODEL_8fbc970bcc36443187abaf9836b63db3",
       "style": "IPY_MODEL_545c88cfac8d4eb688aad24fa221b0b7"
      }
     },
     "0f6f0447886049d986605938668998cc": {
      "model_module": "@jupyter-widgets/controls",
      "model_module_version": "1.5.0",
      "model_name": "ButtonModel",
      "state": {
       "_dom_classes": [
        "hidden"
       ],
       "description": "Run",
       "layout": "IPY_MODEL_642e52faaa3f42faa70493aeb8c5ae77",
       "style": "IPY_MODEL_f5eccae899554d2a9725f00079d26c3d"
      }
     },
     "12402ed0969342549960df5ecbca2f60": {
      "model_module": "@jupyter-widgets/output",
      "model_module_version": "1.0.0",
      "model_name": "OutputModel",
      "state": {
       "layout": "IPY_MODEL_a23a3a0d0a9248fcb39bcc3a617fbea1"
      }
     },
     "129babaeaa4e404189f42128a856a85c": {
      "model_module": "@jupyter-widgets/base",
      "model_module_version": "1.2.0",
      "model_name": "LayoutModel",
      "state": {
       "grid_area": "label",
       "width": "auto"
      }
     },
     "13afb17649ab4cbdaa672702ea1df891": {
      "model_module": "@jupyter-widgets/base",
      "model_module_version": "1.2.0",
      "model_name": "LayoutModel",
      "state": {
       "grid_area": "label",
       "width": "auto"
      }
     },
     "13b194e6fe2f470d990e0f22bb237fa6": {
      "model_module": "@jupyter-widgets/controls",
      "model_module_version": "1.5.0",
      "model_name": "ComboboxModel",
      "state": {
       "_dom_classes": [
        "nbtools-menu-attached"
       ],
       "choices": {},
       "ensure_option": false,
       "kinds": [],
       "layout": "IPY_MODEL_1546abb25bd64c14a5a2e1fccf05a76b",
       "style": "IPY_MODEL_4e670c8f43f5462c8e781fc58e9fcc6f"
      }
     },
     "13e7902d034e4009a8309734c5b04642": {
      "model_module": "@jupyter-widgets/controls",
      "model_module_version": "1.5.0",
      "model_name": "DescriptionStyleModel",
      "state": {
       "description_width": ""
      }
     },
     "1546abb25bd64c14a5a2e1fccf05a76b": {
      "model_module": "@jupyter-widgets/base",
      "model_module_version": "1.2.0",
      "model_name": "LayoutModel",
      "state": {}
     },
     "163cad112a2447ebb77a0cf5e24c801e": {
      "model_module": "@jupyter-widgets/base",
      "model_module_version": "1.2.0",
      "model_name": "LayoutModel",
      "state": {}
     },
     "174c5035533141b39b54601d98b3890f": {
      "model_module": "@jupyter-widgets/controls",
      "model_module_version": "1.5.0",
      "model_name": "DescriptionStyleModel",
      "state": {
       "description_width": ""
      }
     },
     "182ee3980d0c425b8180771397031f86": {
      "model_module": "@jupyter-widgets/controls",
      "model_module_version": "1.5.0",
      "model_name": "VBoxModel",
      "state": {
       "_dom_classes": [
        "widget-interact"
       ],
       "children": [
        "IPY_MODEL_f34971437650489baa7c05c71860a557",
        "IPY_MODEL_71f94bc89d4c4992b6b7f81d09eeef84"
       ],
       "layout": "IPY_MODEL_aeb03fa181434be4998185151bd6026a"
      }
     },
     "1a0577185e504cd2b2c0e351b3f55c6a": {
      "model_module": "@jupyter-widgets/controls",
      "model_module_version": "1.5.0",
      "model_name": "LabelModel",
      "state": {
       "layout": "IPY_MODEL_27d1a3b829c1479a80eb84212653a18f",
       "style": "IPY_MODEL_c894f7b6dcf24b48b4a02587d9bb56ec"
      }
     },
     "1b15749c679e41cf97d4cfa4583a8ee2": {
      "model_module": "@jupyter-widgets/controls",
      "model_module_version": "1.5.0",
      "model_name": "TextModel",
      "state": {
       "_dom_classes": [
        "nbtools-menu-attached"
       ],
       "layout": "IPY_MODEL_c2799bf72f55497f868f09c67d0ae286",
       "style": "IPY_MODEL_2e1a0eba91c84b7a834ab385605a7bac",
       "value": "<input.filename_basename>.cvt.<input.filename_extension>"
      }
     },
     "1b2646dcd572403ea35be72be09786c6": {
      "model_module": "@jupyter-widgets/controls",
      "model_module_version": "1.5.0",
      "model_name": "LabelModel",
      "state": {
       "description": "output variable",
       "layout": "IPY_MODEL_945115ebadfb4bdbb3886ae423624257",
       "style": "IPY_MODEL_69ef88b525fd41fcbd29c17bed521e02",
       "value": "output variable"
      }
     },
     "1bed17a68ffb490abac7bf17f0cb6b5e": {
      "model_module": "@jupyter-widgets/controls",
      "model_module_version": "1.5.0",
      "model_name": "TextModel",
      "state": {
       "_dom_classes": [
        "nbtools-menu-attached"
       ],
       "layout": "IPY_MODEL_59c72c4d643a4ee6b4e03a81cc4f95a3",
       "style": "IPY_MODEL_bede212a74de4410b881ddec08becb6b"
      }
     },
     "1bf3b940d91446adbc1af9f4f26bbbac": {
      "model_module": "@jupyter-widgets/base",
      "model_module_version": "1.2.0",
      "model_name": "LayoutModel",
      "state": {}
     },
     "1c2af79b91244b09800912e3975c4441": {
      "model_module": "@jupyter-widgets/output",
      "model_module_version": "1.0.0",
      "model_name": "OutputModel",
      "state": {
       "layout": "IPY_MODEL_41db204ca5a84441b779bd8bf1930137",
       "outputs": [
        {
         "data": {},
         "metadata": {},
         "output_type": "display_data"
        },
        {
         "data": {
          "application/vnd.jupyter.widget-view+json": {
           "model_id": "dff6666db8854cef9522d27ddcfcc892",
           "version_major": 2,
           "version_minor": 0
          },
          "text/plain": "GPTaskWidget(collapse=True, color='rgba(10, 45, 105, 0.80)', description=\"Converts line endings to the host op…"
         },
         "metadata": {},
         "output_type": "display_data"
        },
        {
         "data": {
          "application/vnd.jupyter.widget-view+json": {
           "model_id": "bed285cb0946430aa7ad74678234a2aa",
           "version_major": 2,
           "version_minor": 0
          },
          "text/plain": "Output()"
         },
         "metadata": {},
         "output_type": "display_data"
        }
       ]
      }
     },
     "1ee102aec0724aa08ddbc6282705bfa9": {
      "model_module": "@jupyter-widgets/controls",
      "model_module_version": "1.5.0",
      "model_name": "DescriptionStyleModel",
      "state": {
       "description_width": ""
      }
     },
     "21eca9ca52064b53b8d62ca873a7ca73": {
      "model_module": "@jupyter-widgets/controls",
      "model_module_version": "1.5.0",
      "model_name": "GridBoxModel",
      "state": {
       "_dom_classes": [
        "nbtools-input",
        "nbtools-passwordinput",
        "required"
       ],
       "children": [
        "IPY_MODEL_55ea7e3d330b404f9475b8213e9f3c62",
        "IPY_MODEL_4608e339313a4dc2acaffa276451576c",
        "IPY_MODEL_edde6d50d9994e8592f343e588db7a12"
       ],
       "layout": "IPY_MODEL_987ff7f1a10f4a32b1d42b78502acf3c"
      }
     },
     "2709e5ca5b6344a1b86ef5f764bfdb6e": {
      "model_module": "@jupyter-widgets/controls",
      "model_module_version": "1.5.0",
      "model_name": "LabelModel",
      "state": {
       "description": "output variable",
       "layout": "IPY_MODEL_53e0b67509f24368bebb238d4d304841",
       "style": "IPY_MODEL_e25d129d58454de1bbe6647a1dd85756",
       "value": "output variable"
      }
     },
     "279c0d977cc94dad88baedb99c9ffdb5": {
      "model_module": "@jupyter-widgets/controls",
      "model_module_version": "1.5.0",
      "model_name": "ComboboxModel",
      "state": {
       "_dom_classes": [
        "nbtools-menu-attached",
        "nbtools-nosendto"
       ],
       "choices": {
        "Broad Internal": "https://gpbroad.broadinstitute.org/gp",
        "GenePattern Cloud": "https://cloud.genepattern.org/gp",
        "Indiana University": "https://gp.indiana.edu/gp"
       },
       "ensure_option": false,
       "kinds": [],
       "layout": "IPY_MODEL_7c3bfc76b80c41db848f340844248c2d",
       "style": "IPY_MODEL_a79a72d0872e42a58526075060e4550a",
       "value": "https://cloud.genepattern.org/gp"
      }
     },
     "27d1a3b829c1479a80eb84212653a18f": {
      "model_module": "@jupyter-widgets/base",
      "model_module_version": "1.2.0",
      "model_name": "LayoutModel",
      "state": {
       "grid_area": "description",
       "width": "auto"
      }
     },
     "2a737fac9315449eba40017c04492e8f": {
      "model_module": "@jupyter-widgets/controls",
      "model_module_version": "1.5.0",
      "model_name": "LabelModel",
      "state": {
       "description": "output variable",
       "layout": "IPY_MODEL_adff1f35f7214c12afa66da77660f440",
       "style": "IPY_MODEL_449c778ead3c4734b2073b4e38fe81da",
       "value": "output variable"
      }
     },
     "2a90b248a81e4e678783fe94389a16d1": {
      "model_module": "@jupyter-widgets/base",
      "model_module_version": "1.2.0",
      "model_name": "LayoutModel",
      "state": {
       "grid_area": "description",
       "width": "auto"
      }
     },
     "2b0e002ca69c478bb9ef2c20f55128df": {
      "model_module": "@jupyter-widgets/controls",
      "model_module_version": "1.5.0",
      "model_name": "GridBoxModel",
      "state": {
       "_dom_classes": [
        "nbtools-input",
        "nbtools-textinput"
       ],
       "children": [
        "IPY_MODEL_2a737fac9315449eba40017c04492e8f",
        "IPY_MODEL_1bed17a68ffb490abac7bf17f0cb6b5e",
        "IPY_MODEL_0e3f624bb35a4c6288dddbba6e36116c"
       ],
       "layout": "IPY_MODEL_afe149e17c184075b4908bf39def7ca8"
      }
     },
     "2dc5eaccc9de4f8997434edd4bf6ac80": {
      "model_module": "@jupyter-widgets/controls",
      "model_module_version": "1.5.0",
      "model_name": "GridBoxModel",
      "state": {
       "_dom_classes": [
        "nbtools-input",
        "nbtools-textinput"
       ],
       "children": [
        "IPY_MODEL_90c0bb3a54c843fc8a0cd414fa286ed3",
        "IPY_MODEL_074d4bb4c2a845d89ada4534cb66466c",
        "IPY_MODEL_cf515de66d0743678182f2cc4323eb99"
       ],
       "layout": "IPY_MODEL_c682b456e13c4d67b9dd07f4ce5fb582"
      }
     },
     "2e1a0eba91c84b7a834ab385605a7bac": {
      "model_module": "@jupyter-widgets/controls",
      "model_module_version": "1.5.0",
      "model_name": "DescriptionStyleModel",
      "state": {
       "description_width": ""
      }
     },
     "2e281132206543ba8e3f6c9fb5fc985b": {
      "model_module": "@jupyter-widgets/base",
      "model_module_version": "1.2.0",
      "model_name": "LayoutModel",
      "state": {}
     },
     "3267a2be8240416bb0fb3667879443ab": {
      "model_module": "@jupyter-widgets/controls",
      "model_module_version": "1.5.0",
      "model_name": "DescriptionStyleModel",
      "state": {
       "description_width": ""
      }
     },
     "32783a16f3a54eea82e0868c72c48d64": {
      "model_module": "@jupyter-widgets/base",
      "model_module_version": "1.2.0",
      "model_name": "LayoutModel",
      "state": {
       "grid_area": "description",
       "width": "auto"
      }
     },
     "32b78c39db2a4502a0c5222977ddd2c6": {
      "model_module": "@jupyter-widgets/output",
      "model_module_version": "1.0.0",
      "model_name": "OutputModel",
      "state": {
       "layout": "IPY_MODEL_cf23e7a398484111bf10693b86b49a86"
      }
     },
     "33d97ebcc08349b9a3b4db85579a6bb1": {
      "model_module": "@jupyter-widgets/controls",
      "model_module_version": "1.5.0",
      "model_name": "VBoxModel",
      "state": {
       "_dom_classes": [
        "widget-interact"
       ],
       "children": [
        "IPY_MODEL_ef53f787e4394f8aaa5b59a9b3ba69e2",
        "IPY_MODEL_c2346d11da3a48e3b7796eee009f0368",
        "IPY_MODEL_d0e5c1c8414d4e48b3a417bfd10059c2"
       ],
       "layout": "IPY_MODEL_77c53600ce15489cbb52addfcb335917"
      }
     },
     "358f630e4c9140f2a174a7f804c22ac8": {
      "model_module": "@jupyter-widgets/controls",
      "model_module_version": "1.5.0",
      "model_name": "VBoxModel",
      "state": {
       "children": [
        "IPY_MODEL_b0725fc41a8042ae823d295fd06ca7ce"
       ],
       "layout": "IPY_MODEL_bae1cd908e544a9f8d2f6d481f1cab92"
      }
     },
     "3611cdd436d94f1ebc226e23860ea6e7": {
      "model_module": "@jupyter-widgets/controls",
      "model_module_version": "1.5.0",
      "model_name": "LabelModel",
      "state": {
       "layout": "IPY_MODEL_7d50e3c4f4c248cba74c4fd4b1b9d08b",
       "style": "IPY_MODEL_ab900fa5d6054d819f993062d859808f"
      }
     },
     "3a00e68e11894fb597db377c09da003b": {
      "model_module": "@jupyter-widgets/base",
      "model_module_version": "1.2.0",
      "model_name": "LayoutModel",
      "state": {
       "grid_area": "description",
       "width": "auto"
      }
     },
     "3ae0682a042f4e6882a07a73fde26ca5": {
      "model_module": "@jupyter-widgets/base",
      "model_module_version": "1.2.0",
      "model_name": "LayoutModel",
      "state": {}
     },
     "3cd977bd9421423ea9af5686a94f888d": {
      "model_module": "@jupyter-widgets/controls",
      "model_module_version": "1.5.0",
      "model_name": "HBoxModel",
      "state": {
       "children": [
        "IPY_MODEL_0f354d44752149a49c7958c79cf758c9",
        "IPY_MODEL_e778114cf63242b1b324a39821f7939e"
       ],
       "layout": "IPY_MODEL_9347a744710442e09778c0e3bde7681a"
      }
     },
     "3e7a2be91a394b4da95c22ff92db5edf": {
      "model_module": "@jupyter-widgets/base",
      "model_module_version": "1.2.0",
      "model_name": "LayoutModel",
      "state": {}
     },
     "400346f72e9e49c3b9a96e7cae8c0721": {
      "model_module": "@jupyter-widgets/controls",
      "model_module_version": "1.5.0",
      "model_name": "DescriptionStyleModel",
      "state": {
       "description_width": ""
      }
     },
     "405eb245f05244f0b74cb18be8f16b21": {
      "model_module": "@jupyter-widgets/base",
      "model_module_version": "1.2.0",
      "model_name": "LayoutModel",
      "state": {}
     },
     "40e54fd4e1dc4028b35384a7130493f5": {
      "model_module": "@jupyter-widgets/base",
      "model_module_version": "1.2.0",
      "model_name": "LayoutModel",
      "state": {}
     },
     "41db204ca5a84441b779bd8bf1930137": {
      "model_module": "@jupyter-widgets/base",
      "model_module_version": "1.2.0",
      "model_name": "LayoutModel",
      "state": {}
     },
     "44096305f283499e81232b3ff54f30ac": {
      "model_module": "@jupyter-widgets/controls",
      "model_module_version": "1.5.0",
      "model_name": "VBoxModel",
      "state": {
       "layout": "IPY_MODEL_4e759ed74af84859b7802552f8e27712"
      }
     },
     "449c778ead3c4734b2073b4e38fe81da": {
      "model_module": "@jupyter-widgets/controls",
      "model_module_version": "1.5.0",
      "model_name": "DescriptionStyleModel",
      "state": {
       "description_width": ""
      }
     },
     "45da5a2225e14fd29495dd7e7131db31": {
      "model_module": "@jupyter-widgets/controls",
      "model_module_version": "1.5.0",
      "model_name": "GridBoxModel",
      "state": {
       "_dom_classes": [
        "nbtools-input",
        "nbtools-comboinput",
        "required"
       ],
       "children": [
        "IPY_MODEL_dc0a4a8c5aa244f19f4c4b719204c150",
        "IPY_MODEL_279c0d977cc94dad88baedb99c9ffdb5",
        "IPY_MODEL_512d3f93b08d404aabee719b3d81029c"
       ],
       "layout": "IPY_MODEL_b1214c5bcdfb48459be3eca02f230667"
      }
     },
     "45fa32b74f5a4998b0105193331725d8": {
      "model_module": "@jupyter-widgets/controls",
      "model_module_version": "1.5.0",
      "model_name": "VBoxModel",
      "state": {
       "_dom_classes": [
        "widget-interact"
       ],
       "children": [
        "IPY_MODEL_0b7581fb5151449f801ee28e56137b03",
        "IPY_MODEL_6f2fd653d51b4d91808c9afb5478e706"
       ],
       "layout": "IPY_MODEL_5b22939111ee486dadabd4622ce10f88"
      }
     },
     "4608e339313a4dc2acaffa276451576c": {
      "model_module": "@jupyter-widgets/controls",
      "model_module_version": "1.5.0",
      "model_name": "PasswordModel",
      "state": {
       "layout": "IPY_MODEL_0676c6f3f8bb467a8905d0efc9de7890",
       "style": "IPY_MODEL_e4946f6ffc084ab48afa624d12aa7bdf"
      }
     },
     "4741fb57856c44b9865f073a88870a6c": {
      "model_module": "@jupyter-widgets/base",
      "model_module_version": "1.2.0",
      "model_name": "LayoutModel",
      "state": {
       "grid_template_areas": "\n                    \"label input\"\n                    \". description\"\n                ",
       "grid_template_columns": "25% 75%",
       "grid_template_rows": "auto auto",
       "width": "100%"
      }
     },
     "47a88720ce844638af52bfa1821d128d": {
      "model_module": "@jupyter-widgets/output",
      "model_module_version": "1.0.0",
      "model_name": "OutputModel",
      "state": {
       "layout": "IPY_MODEL_6d2559f8e640415ba147ac1bae1bf967"
      }
     },
     "4a46d07947c9413fa51d995eadcb9d68": {
      "model_module": "@jupyter-widgets/controls",
      "model_module_version": "1.5.0",
      "model_name": "GridBoxModel",
      "state": {
       "_dom_classes": [
        "nbtools-input",
        "nbtools-textinput"
       ],
       "children": [
        "IPY_MODEL_8768c4960daf4edd85a47dfd13addf1c",
        "IPY_MODEL_8ba7bf76a6c8438ea50f80317241df93",
        "IPY_MODEL_3611cdd436d94f1ebc226e23860ea6e7"
       ],
       "layout": "IPY_MODEL_58cbfcda3df54659ad0e703f5aea8022"
      }
     },
     "4c1ecf3e3cd746289a8409fe0d11fe5b": {
      "model_module": "@jupyter-widgets/base",
      "model_module_version": "1.2.0",
      "model_name": "LayoutModel",
      "state": {
       "grid_area": "description",
       "width": "auto"
      }
     },
     "4e670c8f43f5462c8e781fc58e9fcc6f": {
      "model_module": "@jupyter-widgets/controls",
      "model_module_version": "1.5.0",
      "model_name": "DescriptionStyleModel",
      "state": {
       "description_width": ""
      }
     },
     "4e759ed74af84859b7802552f8e27712": {
      "model_module": "@jupyter-widgets/base",
      "model_module_version": "1.2.0",
      "model_name": "LayoutModel",
      "state": {}
     },
     "4fc857d303f643a8a1fc49651808c62a": {
      "model_module": "@genepattern/nbtools",
      "model_module_version": "^0.2.0",
      "model_name": "UIBuilderModel",
      "state": {
       "_dom_classes": [],
       "_model_module_version": "^0.2.0",
       "_parameters": [
        {
         "choices": {},
         "default": "",
         "description": "",
         "events": null,
         "hide": true,
         "id": null,
         "kinds": null,
         "label": "output variable",
         "name": "output_var",
         "optional": true,
         "type": "text",
         "value": ""
        }
       ],
       "_view_count": null,
       "_view_module_version": "^0.2.0",
       "collapsed": true,
       "color": "rgba(10, 45, 105, 0.80)",
       "display_footer": false,
       "display_header": false,
       "form": "IPY_MODEL_45fa32b74f5a4998b0105193331725d8",
       "info": "<div class=\"systemMessageOk\"><br />The main GenePattern server (<a href=\"https://cloud.genepattern.org\">cloud.genepattern.org</a>) has a 1 hour maintenance window on the first Monday of each month from 2pm - 3pm PDT (UTC-7)<br><br />The next update will be <b>Tuesday, September 8, 2020</b> to allow for the Labor Day Holiday.<br /> <br /></div><br /><div class=\"systemMessageOk\"><br />    Follow the GenePattern team on <a href=\"https://twitter.com/GenePattern\", target=\"_blank\">Twitter</a>, <a href=\"https://www.instagram.com/genepatternnotebook/\",target=\"_blank\">Instagram</a> or <a href=\"https://www.facebook.com/GenePattern\", target=\"_blank\">Facebook</a> to keep up with the latest news and events or <a href=\"https://groups.google.com/forum/?utm_medium=email&utm_source=footer#!forum/genepattern-help\", target=\"_blank\">join the conversation in our forum</a>!<br /><br /><a href=\"https://genepattern.org/genepattern-in-the-amazon-cloud\", target=\"_blank\">Terms of Service</a> - Updated August 2020<br /><br /></div>",
       "layout": "IPY_MODEL_5b2c81da9b17400c8f408135330411fe",
       "name": "https://cloud.genepattern.org/gp",
       "origin": "genepattern.authwidget",
       "output": "IPY_MODEL_b665727545214f0d800e88ae7ae2c2f1",
       "output_var": ""
      }
     },
     "5028bf0c45b44b2cb4aa5a140e06b35d": {
      "model_module": "@jupyter-widgets/output",
      "model_module_version": "1.0.0",
      "model_name": "OutputModel",
      "state": {
       "layout": "IPY_MODEL_0c78ecc3667f4ae69f7e5c93c7008ba3"
      }
     },
     "50bfc71d51be4bc7a58756bcd7cc8584": {
      "model_module": "@jupyter-widgets/controls",
      "model_module_version": "1.5.0",
      "model_name": "ButtonStyleModel",
      "state": {}
     },
     "512d3f93b08d404aabee719b3d81029c": {
      "model_module": "@jupyter-widgets/controls",
      "model_module_version": "1.5.0",
      "model_name": "LabelModel",
      "state": {
       "layout": "IPY_MODEL_8d16578c7d6a4cd693f29a4bca0acbe0",
       "style": "IPY_MODEL_5fe0a3265fca47fc91c01a2c207bc6ca"
      }
     },
     "52883d4bb0254f9a87cf7def8fe0bc59": {
      "model_module": "@jupyter-widgets/controls",
      "model_module_version": "1.5.0",
      "model_name": "ButtonStyleModel",
      "state": {}
     },
     "52953141a723427e9495611e5c44ef63": {
      "model_module": "@jupyter-widgets/output",
      "model_module_version": "1.0.0",
      "model_name": "OutputModel",
      "state": {
       "layout": "IPY_MODEL_c1fb1462afe94b14bcd2650643252ad6",
       "outputs": [
        {
         "data": {
          "application/vnd.jupyter.widget-view+json": {
           "model_id": "4fc857d303f643a8a1fc49651808c62a",
           "version_major": 2,
           "version_minor": 0
          },
          "text/plain": "GPAuthWidget(collapse=True, collapsed=True, color='rgba(10, 45, 105, 0.80)', display_footer=False, display_hea…"
         },
         "metadata": {},
         "output_type": "display_data"
        },
        {
         "data": {
          "application/vnd.jupyter.widget-view+json": {
           "model_id": "b665727545214f0d800e88ae7ae2c2f1",
           "version_major": 2,
           "version_minor": 0
          },
          "text/plain": "Output()"
         },
         "metadata": {},
         "output_type": "display_data"
        }
       ]
      }
     },
     "5308b98407b746018b50d6a445596788": {
      "model_module": "@jupyter-widgets/controls",
      "model_module_version": "1.5.0",
      "model_name": "DescriptionStyleModel",
      "state": {
       "description_width": ""
      }
     },
     "53e0b67509f24368bebb238d4d304841": {
      "model_module": "@jupyter-widgets/base",
      "model_module_version": "1.2.0",
      "model_name": "LayoutModel",
      "state": {
       "grid_area": "label",
       "width": "auto"
      }
     },
     "545c88cfac8d4eb688aad24fa221b0b7": {
      "model_module": "@jupyter-widgets/controls",
      "model_module_version": "1.5.0",
      "model_name": "ButtonStyleModel",
      "state": {}
     },
     "5560310533a64c879e76a79dcda3c0cd": {
      "model_module": "@jupyter-widgets/base",
      "model_module_version": "1.2.0",
      "model_name": "LayoutModel",
      "state": {
       "grid_area": "label",
       "width": "auto"
      }
     },
     "55ea7e3d330b404f9475b8213e9f3c62": {
      "model_module": "@jupyter-widgets/controls",
      "model_module_version": "1.5.0",
      "model_name": "LabelModel",
      "state": {
       "description": "Password",
       "layout": "IPY_MODEL_e953eb70173b4b87bc385683b7dab935",
       "style": "IPY_MODEL_cc8a0b1df1314970858609cc53952023",
       "value": "Password*"
      }
     },
     "565547602673448eb0dd62c17fc2bdcb": {
      "model_module": "@jupyter-widgets/controls",
      "model_module_version": "1.5.0",
      "model_name": "DescriptionStyleModel",
      "state": {
       "description_width": ""
      }
     },
     "570cb5a2b000497c90c9dd56e6a71961": {
      "model_module": "@jupyter-widgets/base",
      "model_module_version": "1.2.0",
      "model_name": "LayoutModel",
      "state": {}
     },
     "573417719fd94bf2a8d7efee976783cd": {
      "model_module": "@jupyter-widgets/base",
      "model_module_version": "1.2.0",
      "model_name": "LayoutModel",
      "state": {}
     },
     "58cbfcda3df54659ad0e703f5aea8022": {
      "model_module": "@jupyter-widgets/base",
      "model_module_version": "1.2.0",
      "model_name": "LayoutModel",
      "state": {
       "display": "none",
       "grid_template_areas": "\n                    \"label input\"\n                    \". description\"\n                ",
       "grid_template_columns": "25% 75%",
       "grid_template_rows": "auto auto",
       "width": "100%"
      }
     },
     "590042cfeaa743d3b36d8535fab26217": {
      "model_module": "@jupyter-widgets/base",
      "model_module_version": "1.2.0",
      "model_name": "LayoutModel",
      "state": {
       "grid_area": "description",
       "width": "auto"
      }
     },
     "599e81b037d44707b95e9443b5e73d12": {
      "model_module": "@jupyter-widgets/base",
      "model_module_version": "1.2.0",
      "model_name": "LayoutModel",
      "state": {}
     },
     "59c72c4d643a4ee6b4e03a81cc4f95a3": {
      "model_module": "@jupyter-widgets/base",
      "model_module_version": "1.2.0",
      "model_name": "LayoutModel",
      "state": {
       "grid_area": "input",
       "width": "auto"
      }
     },
     "59f3f5db457c47e5ad5cea35c148d276": {
      "model_module": "@jupyter-widgets/base",
      "model_module_version": "1.2.0",
      "model_name": "LayoutModel",
      "state": {
       "display": "none",
       "grid_template_areas": "\n                    \"label input\"\n                    \". description\"\n                ",
       "grid_template_columns": "25% 75%",
       "grid_template_rows": "auto auto",
       "width": "100%"
      }
     },
     "5a68339ac2874b0f8eb24da8d76a92ed": {
      "model_module": "@jupyter-widgets/base",
      "model_module_version": "1.2.0",
      "model_name": "LayoutModel",
      "state": {}
     },
     "5a8d4c2387204473bd8503931b7424c6": {
      "model_module": "@jupyter-widgets/base",
      "model_module_version": "1.2.0",
      "model_name": "LayoutModel",
      "state": {
       "grid_area": "input",
       "width": "auto"
      }
     },
     "5b22939111ee486dadabd4622ce10f88": {
      "model_module": "@jupyter-widgets/base",
      "model_module_version": "1.2.0",
      "model_name": "LayoutModel",
      "state": {}
     },
     "5b2c81da9b17400c8f408135330411fe": {
      "model_module": "@jupyter-widgets/base",
      "model_module_version": "1.2.0",
      "model_name": "LayoutModel",
      "state": {}
     },
     "5b34be83b14743768c8a3ed4e9f8fe90": {
      "model_module": "@jupyter-widgets/controls",
      "model_module_version": "1.5.0",
      "model_name": "DescriptionStyleModel",
      "state": {
       "description_width": ""
      }
     },
     "5bad560934a44534af98fa7bcf53f788": {
      "model_module": "@jupyter-widgets/base",
      "model_module_version": "1.2.0",
      "model_name": "LayoutModel",
      "state": {}
     },
     "5ebb0f9cc2eb48fcb208b527911d4104": {
      "model_module": "@jupyter-widgets/base",
      "model_module_version": "1.2.0",
      "model_name": "LayoutModel",
      "state": {
       "grid_area": "description",
       "width": "auto"
      }
     },
     "5f9a337085f141668b308d8b165b4dd3": {
      "model_module": "@jupyter-widgets/controls",
      "model_module_version": "1.5.0",
      "model_name": "LabelModel",
      "state": {
       "description": "output variable",
       "layout": "IPY_MODEL_f52640168894475c88ec3fe9d8d9c441",
       "style": "IPY_MODEL_64c7ba32cc214d8ba1ef75f235e79e9c",
       "value": "output variable"
      }
     },
     "5fe0a3265fca47fc91c01a2c207bc6ca": {
      "model_module": "@jupyter-widgets/controls",
      "model_module_version": "1.5.0",
      "model_name": "DescriptionStyleModel",
      "state": {
       "description_width": ""
      }
     },
     "62dceccf7ee4464cab0a891f2e226152": {
      "model_module": "@jupyter-widgets/controls",
      "model_module_version": "1.5.0",
      "model_name": "VBoxModel",
      "state": {
       "_dom_classes": [
        "widget-interact"
       ],
       "children": [
        "IPY_MODEL_85c4a6fed577464ebc0128c19197e628",
        "IPY_MODEL_32b78c39db2a4502a0c5222977ddd2c6"
       ],
       "layout": "IPY_MODEL_75c3eeb513c64dc1807579ad0fde096a"
      }
     },
     "63e1665b993f4be0b02f2b313095e08c": {
      "model_module": "@jupyter-widgets/controls",
      "model_module_version": "1.5.0",
      "model_name": "LabelModel",
      "state": {
       "description": "The dataset to display - .gct",
       "layout": "IPY_MODEL_8170ee3a5c6f454697205ca89cb1e3ef",
       "style": "IPY_MODEL_de76345bc0f64ae887972e7bf93fc21b",
       "value": "The dataset to display - .gct"
      }
     },
     "642e52faaa3f42faa70493aeb8c5ae77": {
      "model_module": "@jupyter-widgets/base",
      "model_module_version": "1.2.0",
      "model_name": "LayoutModel",
      "state": {}
     },
     "64c7ba32cc214d8ba1ef75f235e79e9c": {
      "model_module": "@jupyter-widgets/controls",
      "model_module_version": "1.5.0",
      "model_name": "DescriptionStyleModel",
      "state": {
       "description_width": ""
      }
     },
     "65295db3cd5549b58150f71fd78a54a6": {
      "model_module": "@jupyter-widgets/base",
      "model_module_version": "1.2.0",
      "model_name": "LayoutModel",
      "state": {
       "display": "none",
       "grid_template_areas": "\n                    \"label input\"\n                    \". description\"\n                ",
       "grid_template_columns": "25% 75%",
       "grid_template_rows": "auto auto",
       "width": "100%"
      }
     },
     "652bf8741f394db8a94b555609eb8d24": {
      "model_module": "@jupyter-widgets/controls",
      "model_module_version": "1.5.0",
      "model_name": "DescriptionStyleModel",
      "state": {
       "description_width": ""
      }
     },
     "6824aebc93e9412aabe613b7283af330": {
      "model_module": "@jupyter-widgets/controls",
      "model_module_version": "1.5.0",
      "model_name": "TextModel",
      "state": {
       "_dom_classes": [
        "nbtools-menu-attached"
       ],
       "layout": "IPY_MODEL_9fec8a3e65f04952b1dbc77784feea48",
       "style": "IPY_MODEL_7ede69b24bf94e6b8c615ed635aa30c3"
      }
     },
     "693b7b178f274096b80054a2cada8708": {
      "model_module": "@jupyter-widgets/output",
      "model_module_version": "1.0.0",
      "model_name": "OutputModel",
      "state": {
       "layout": "IPY_MODEL_9959bf022a014a8a910fac39b998e9ab"
      }
     },
     "69ef88b525fd41fcbd29c17bed521e02": {
      "model_module": "@jupyter-widgets/controls",
      "model_module_version": "1.5.0",
      "model_name": "DescriptionStyleModel",
      "state": {
       "description_width": ""
      }
     },
     "6bc92892ce144eb582cd1b11cfa46ecb": {
      "model_module": "@jupyter-widgets/base",
      "model_module_version": "1.2.0",
      "model_name": "LayoutModel",
      "state": {
       "grid_area": "input",
       "width": "auto"
      }
     },
     "6c84c027e31a4ce6ad3768dc259b6b05": {
      "model_module": "@jupyter-widgets/controls",
      "model_module_version": "1.5.0",
      "model_name": "DescriptionStyleModel",
      "state": {
       "description_width": ""
      }
     },
     "6d2559f8e640415ba147ac1bae1bf967": {
      "model_module": "@jupyter-widgets/base",
      "model_module_version": "1.2.0",
      "model_name": "LayoutModel",
      "state": {}
     },
     "6d4e7a6a77d14f77bbbf96b78aefb0f1": {
      "model_module": "@jupyter-widgets/base",
      "model_module_version": "1.2.0",
      "model_name": "LayoutModel",
      "state": {}
     },
     "6f2fd653d51b4d91808c9afb5478e706": {
      "model_module": "@jupyter-widgets/controls",
      "model_module_version": "1.5.0",
      "model_name": "GridBoxModel",
      "state": {
       "_dom_classes": [
        "nbtools-input",
        "nbtools-textinput"
       ],
       "children": [
        "IPY_MODEL_1b2646dcd572403ea35be72be09786c6",
        "IPY_MODEL_d6b87611c5b14629bf462c0163e775ad",
        "IPY_MODEL_80bdb56ad7734b8eb3d12960cfd77f88"
       ],
       "layout": "IPY_MODEL_c7fe90ac0cb44ffab8ff260bebff0b9c"
      }
     },
     "7175373372724e67b3b8179ca16a6e6e": {
      "model_module": "@jupyter-widgets/controls",
      "model_module_version": "1.5.0",
      "model_name": "ButtonStyleModel",
      "state": {}
     },
     "71f94bc89d4c4992b6b7f81d09eeef84": {
      "model_module": "@jupyter-widgets/output",
      "model_module_version": "1.0.0",
      "model_name": "OutputModel",
      "state": {
       "layout": "IPY_MODEL_0d8e1527f2ba41429606e91b321e2cd5"
      }
     },
     "741673556b6b4db2b5dc222dcd82e077": {
      "model_module": "@jupyter-widgets/base",
      "model_module_version": "1.2.0",
      "model_name": "LayoutModel",
      "state": {}
     },
     "749d8bfb220f48fa9d7317eebf6a1166": {
      "model_module": "@jupyter-widgets/controls",
      "model_module_version": "1.5.0",
      "model_name": "ButtonStyleModel",
      "state": {}
     },
     "75c3eeb513c64dc1807579ad0fde096a": {
      "model_module": "@jupyter-widgets/base",
      "model_module_version": "1.2.0",
      "model_name": "LayoutModel",
      "state": {}
     },
     "75fad425483a4e6fb5d6f8a37a3334bf": {
      "model_module": "@jupyter-widgets/controls",
      "model_module_version": "1.5.0",
      "model_name": "VBoxModel",
      "state": {
       "_dom_classes": [
        "widget-interact"
       ],
       "children": [
        "IPY_MODEL_94c24157922a437fb618a34bf254ff8a",
        "IPY_MODEL_693b7b178f274096b80054a2cada8708"
       ],
       "layout": "IPY_MODEL_ff5fc7fc9a7f4762aed2a3c373d4e43e"
      }
     },
     "76419ba09eec41b694fbc35ae7c62a07": {
      "model_module": "@jupyter-widgets/output",
      "model_module_version": "1.0.0",
      "model_name": "OutputModel",
      "state": {
       "layout": "IPY_MODEL_7722d74091864b74840286e0fbaa2c76"
      }
     },
     "7722d74091864b74840286e0fbaa2c76": {
      "model_module": "@jupyter-widgets/base",
      "model_module_version": "1.2.0",
      "model_name": "LayoutModel",
      "state": {}
     },
     "77c53600ce15489cbb52addfcb335917": {
      "model_module": "@jupyter-widgets/base",
      "model_module_version": "1.2.0",
      "model_name": "LayoutModel",
      "state": {}
     },
     "78b02a37ab30409ea2ae8b42bf987663": {
      "model_module": "@genepattern/nbtools",
      "model_module_version": "^0.2.0",
      "model_name": "UIBuilderModel",
      "state": {
       "_dom_classes": [],
       "_model_module_version": "^0.2.0",
       "_parameters": [
        {
         "choices": {},
         "default": "",
         "description": "The dataset to display - .gct",
         "events": null,
         "hide": false,
         "id": null,
         "kinds": [
          "res",
          "gct",
          "odf",
          "Dataset"
         ],
         "label": "dataset",
         "name": "dataset",
         "optional": false,
         "type": "file",
         "value": ""
        },
        {
         "choices": {},
         "default": "",
         "description": "",
         "events": null,
         "hide": true,
         "id": null,
         "kinds": null,
         "label": "output variable",
         "name": "output_var",
         "optional": true,
         "type": "text",
         "value": ""
        }
       ],
       "_view_count": null,
       "_view_module_version": "^0.2.0",
       "color": "rgba(10, 45, 105, 0.80)",
       "description": "A configurable heat map viewer that provides users with several options for manipulating and visualizing array-based data",
       "form": "IPY_MODEL_33d97ebcc08349b9a3b4db85579a6bb1",
       "layout": "IPY_MODEL_b451df51b8d94a53acfbd0f5c3993c9f",
       "name": "HeatMapViewer",
       "origin": "genepattern.taskwidget",
       "output": "IPY_MODEL_5028bf0c45b44b2cb4aa5a140e06b35d",
       "output_var": ""
      }
     },
     "7985834e45ca4dfe884074ef3808ccfc": {
      "model_module": "@jupyter-widgets/controls",
      "model_module_version": "1.5.0",
      "model_name": "ButtonModel",
      "state": {
       "_dom_classes": [
        "hidden"
       ],
       "description": "Run",
       "layout": "IPY_MODEL_93bd97052ac34632b3e90c778f0ccf70",
       "style": "IPY_MODEL_850c1d95bf0d45c58d4be9c147c6eca1"
      }
     },
     "7c3bfc76b80c41db848f340844248c2d": {
      "model_module": "@jupyter-widgets/base",
      "model_module_version": "1.2.0",
      "model_name": "LayoutModel",
      "state": {
       "grid_area": "input",
       "width": "auto"
      }
     },
     "7d50e3c4f4c248cba74c4fd4b1b9d08b": {
      "model_module": "@jupyter-widgets/base",
      "model_module_version": "1.2.0",
      "model_name": "LayoutModel",
      "state": {
       "grid_area": "description",
       "width": "auto"
      }
     },
     "7dbbdbe0e52d4c8a91059fd95c9c7587": {
      "model_module": "@jupyter-widgets/controls",
      "model_module_version": "1.5.0",
      "model_name": "GridBoxModel",
      "state": {
       "_dom_classes": [
        "nbtools-input",
        "nbtools-textinput"
       ],
       "children": [
        "IPY_MODEL_2709e5ca5b6344a1b86ef5f764bfdb6e",
        "IPY_MODEL_e95d1d9f04ae4a1885f2725a8ec6fa94",
        "IPY_MODEL_d7d250da4b024c6abc8603274943fea7"
       ],
       "layout": "IPY_MODEL_bbabfedd77ec4ec59364415c5cb8a3b4"
      }
     },
     "7ede69b24bf94e6b8c615ed635aa30c3": {
      "model_module": "@jupyter-widgets/controls",
      "model_module_version": "1.5.0",
      "model_name": "DescriptionStyleModel",
      "state": {
       "description_width": ""
      }
     },
     "7fe8cf067e6743e69a1de235a2817248": {
      "model_module": "@jupyter-widgets/base",
      "model_module_version": "1.2.0",
      "model_name": "LayoutModel",
      "state": {
       "display": "none",
       "grid_template_areas": "\n                    \"label input\"\n                    \". description\"\n                ",
       "grid_template_columns": "25% 75%",
       "grid_template_rows": "auto auto",
       "width": "100%"
      }
     },
     "80bdb56ad7734b8eb3d12960cfd77f88": {
      "model_module": "@jupyter-widgets/controls",
      "model_module_version": "1.5.0",
      "model_name": "LabelModel",
      "state": {
       "layout": "IPY_MODEL_903c7ebe67b349dd859266b57d9f63e1",
       "style": "IPY_MODEL_a66a322712364f7a923b954b8c09f4fe"
      }
     },
     "8170ee3a5c6f454697205ca89cb1e3ef": {
      "model_module": "@jupyter-widgets/base",
      "model_module_version": "1.2.0",
      "model_name": "LayoutModel",
      "state": {
       "grid_area": "description",
       "width": "auto"
      }
     },
     "82915b5ab53a44c8bbc13f46ef684637": {
      "model_module": "@jupyter-widgets/base",
      "model_module_version": "1.2.0",
      "model_name": "LayoutModel",
      "state": {
       "grid_area": "description",
       "width": "auto"
      }
     },
     "850c1d95bf0d45c58d4be9c147c6eca1": {
      "model_module": "@jupyter-widgets/controls",
      "model_module_version": "1.5.0",
      "model_name": "ButtonStyleModel",
      "state": {}
     },
     "85c4a6fed577464ebc0128c19197e628": {
      "model_module": "@jupyter-widgets/controls",
      "model_module_version": "1.5.0",
      "model_name": "ButtonModel",
      "state": {
       "_dom_classes": [
        "hidden"
       ],
       "description": "Run",
       "layout": "IPY_MODEL_a51cd420bd3647048ff99a751f8a192b",
       "style": "IPY_MODEL_ca3957138da5449c8f3ce5a2ca712f6f"
      }
     },
     "8628de6e9f5d47ebb14882df02889bac": {
      "model_module": "@jupyter-widgets/controls",
      "model_module_version": "1.5.0",
      "model_name": "DescriptionStyleModel",
      "state": {
       "description_width": ""
      }
     },
     "8768c4960daf4edd85a47dfd13addf1c": {
      "model_module": "@jupyter-widgets/controls",
      "model_module_version": "1.5.0",
      "model_name": "LabelModel",
      "state": {
       "description": "output variable",
       "layout": "IPY_MODEL_13afb17649ab4cbdaa672702ea1df891",
       "style": "IPY_MODEL_652bf8741f394db8a94b555609eb8d24",
       "value": "output variable"
      }
     },
     "8a1ac2e7a2cd43d78f4ec02437606bce": {
      "model_module": "@jupyter-widgets/base",
      "model_module_version": "1.2.0",
      "model_name": "LayoutModel",
      "state": {
       "grid_template_areas": "\n                    \"label input\"\n                    \". description\"\n                ",
       "grid_template_columns": "25% 75%",
       "grid_template_rows": "auto auto",
       "width": "100%"
      }
     },
     "8a931eeacae44e759d880e07f92207d8": {
      "model_module": "@jupyter-widgets/controls",
      "model_module_version": "1.5.0",
      "model_name": "DescriptionStyleModel",
      "state": {
       "description_width": ""
      }
     },
     "8b8b6ff723f54c54acd09d56edd761a0": {
      "model_module": "@jupyter-widgets/controls",
      "model_module_version": "1.5.0",
      "model_name": "LabelModel",
      "state": {
       "description": "output_file",
       "layout": "IPY_MODEL_5560310533a64c879e76a79dcda3c0cd",
       "style": "IPY_MODEL_13e7902d034e4009a8309734c5b04642",
       "value": "output_file*"
      }
     },
     "8ba7bf76a6c8438ea50f80317241df93": {
      "model_module": "@jupyter-widgets/controls",
      "model_module_version": "1.5.0",
      "model_name": "TextModel",
      "state": {
       "_dom_classes": [
        "nbtools-menu-attached"
       ],
       "layout": "IPY_MODEL_f842c2f2fd98405fa91d318d8a5aef41",
       "style": "IPY_MODEL_8eda95a046ea476cba54b8b3b495b92e"
      }
     },
     "8be0518b6c6640e2b3280b558bb125ce": {
      "model_module": "@jupyter-widgets/base",
      "model_module_version": "1.2.0",
      "model_name": "LayoutModel",
      "state": {
       "grid_area": "label",
       "width": "auto"
      }
     },
     "8d16578c7d6a4cd693f29a4bca0acbe0": {
      "model_module": "@jupyter-widgets/base",
      "model_module_version": "1.2.0",
      "model_name": "LayoutModel",
      "state": {
       "grid_area": "description",
       "width": "auto"
      }
     },
     "8eda95a046ea476cba54b8b3b495b92e": {
      "model_module": "@jupyter-widgets/controls",
      "model_module_version": "1.5.0",
      "model_name": "DescriptionStyleModel",
      "state": {
       "description_width": ""
      }
     },
     "8fbc970bcc36443187abaf9836b63db3": {
      "model_module": "@jupyter-widgets/base",
      "model_module_version": "1.2.0",
      "model_name": "LayoutModel",
      "state": {}
     },
     "8fbd2dd9bd6442c2b4f750b0c964153a": {
      "model_module": "@jupyter-widgets/controls",
      "model_module_version": "1.5.0",
      "model_name": "ButtonModel",
      "state": {
       "_dom_classes": [
        "hidden"
       ],
       "description": "Run",
       "layout": "IPY_MODEL_3e7a2be91a394b4da95c22ff92db5edf",
       "style": "IPY_MODEL_7175373372724e67b3b8179ca16a6e6e"
      }
     },
     "9030643b79a14769a624ec78ec89d578": {
      "model_module": "@jupyter-widgets/controls",
      "model_module_version": "1.5.0",
      "model_name": "DescriptionStyleModel",
      "state": {
       "description_width": ""
      }
     },
     "903c7ebe67b349dd859266b57d9f63e1": {
      "model_module": "@jupyter-widgets/base",
      "model_module_version": "1.2.0",
      "model_name": "LayoutModel",
      "state": {
       "grid_area": "description",
       "width": "auto"
      }
     },
     "90c0bb3a54c843fc8a0cd414fa286ed3": {
      "model_module": "@jupyter-widgets/controls",
      "model_module_version": "1.5.0",
      "model_name": "LabelModel",
      "state": {
       "description": "output variable",
       "layout": "IPY_MODEL_de0313e812c94f88bcb6b8bfdce74be0",
       "style": "IPY_MODEL_bb3f734e033b4b2597051ae1d9b91fce",
       "value": "output variable"
      }
     },
     "91e7df83fd964b0ab6ca599cd0dde3a8": {
      "model_module": "@jupyter-widgets/controls",
      "model_module_version": "1.5.0",
      "model_name": "VBoxModel",
      "state": {
       "_dom_classes": [
        "widget-interact"
       ],
       "children": [
        "IPY_MODEL_0f6f0447886049d986605938668998cc",
        "IPY_MODEL_eb0662e931724128ab74af18ed8e1dde"
       ],
       "layout": "IPY_MODEL_40e54fd4e1dc4028b35384a7130493f5"
      }
     },
     "9347a744710442e09778c0e3bde7681a": {
      "model_module": "@jupyter-widgets/base",
      "model_module_version": "1.2.0",
      "model_name": "LayoutModel",
      "state": {
       "grid_area": "input",
       "width": "auto"
      }
     },
     "93bd97052ac34632b3e90c778f0ccf70": {
      "model_module": "@jupyter-widgets/base",
      "model_module_version": "1.2.0",
      "model_name": "LayoutModel",
      "state": {}
     },
     "944d4f266439474591f2a522dc41768c": {
      "model_module": "@jupyter-widgets/output",
      "model_module_version": "1.0.0",
      "model_name": "OutputModel",
      "state": {
       "layout": "IPY_MODEL_5a68339ac2874b0f8eb24da8d76a92ed"
      }
     },
     "945115ebadfb4bdbb3886ae423624257": {
      "model_module": "@jupyter-widgets/base",
      "model_module_version": "1.2.0",
      "model_name": "LayoutModel",
      "state": {
       "grid_area": "label",
       "width": "auto"
      }
     },
     "94b8c35e0ba046758619cfa58bf5bad3": {
      "model_module": "@jupyter-widgets/controls",
      "model_module_version": "1.5.0",
      "model_name": "LabelModel",
      "state": {
       "description": "The output file",
       "layout": "IPY_MODEL_c6435b83ed7e45a892e1acd8ee407319",
       "style": "IPY_MODEL_a1d0608950a447ba8b6980f3aa2d3551",
       "value": "The output file"
      }
     },
     "94c24157922a437fb618a34bf254ff8a": {
      "model_module": "@jupyter-widgets/controls",
      "model_module_version": "1.5.0",
      "model_name": "ButtonModel",
      "state": {
       "_dom_classes": [
        "hidden"
       ],
       "description": "Run",
       "layout": "IPY_MODEL_599e81b037d44707b95e9443b5e73d12",
       "style": "IPY_MODEL_52883d4bb0254f9a87cf7def8fe0bc59"
      }
     },
     "9639e34caf94467b816754186bfd1ace": {
      "model_module": "@jupyter-widgets/controls",
      "model_module_version": "1.5.0",
      "model_name": "FileUploadModel",
      "state": {
       "accept": ".res, .gct, .odf, .Dataset",
       "description_tooltip": null,
       "layout": "IPY_MODEL_ae6ff1e400e24307907f35be9b0f20e1",
       "style": "IPY_MODEL_bb67a71abca641c5b017cedf4802f829"
      }
     },
     "987ff7f1a10f4a32b1d42b78502acf3c": {
      "model_module": "@jupyter-widgets/base",
      "model_module_version": "1.2.0",
      "model_name": "LayoutModel",
      "state": {
       "grid_template_areas": "\n                    \"label input\"\n                    \". description\"\n                ",
       "grid_template_columns": "25% 75%",
       "grid_template_rows": "auto auto",
       "width": "100%"
      }
     },
     "9959bf022a014a8a910fac39b998e9ab": {
      "model_module": "@jupyter-widgets/base",
      "model_module_version": "1.2.0",
      "model_name": "LayoutModel",
      "state": {}
     },
     "9bc0034efbef408381621ec5cc1c3c96": {
      "model_module": "@jupyter-widgets/base",
      "model_module_version": "1.2.0",
      "model_name": "LayoutModel",
      "state": {
       "grid_area": "label",
       "width": "auto"
      }
     },
     "9bd736aaa2a04bc3a800831c674ecb06": {
      "model_module": "@jupyter-widgets/controls",
      "model_module_version": "1.5.0",
      "model_name": "DescriptionStyleModel",
      "state": {
       "description_width": ""
      }
     },
     "9dbd6be54d26462fb7f8897e35ec55a4": {
      "model_module": "@jupyter-widgets/controls",
      "model_module_version": "1.5.0",
      "model_name": "DescriptionStyleModel",
      "state": {
       "description_width": ""
      }
     },
     "9fec8a3e65f04952b1dbc77784feea48": {
      "model_module": "@jupyter-widgets/base",
      "model_module_version": "1.2.0",
      "model_name": "LayoutModel",
      "state": {
       "grid_area": "input",
       "width": "auto"
      }
     },
     "a1d0608950a447ba8b6980f3aa2d3551": {
      "model_module": "@jupyter-widgets/controls",
      "model_module_version": "1.5.0",
      "model_name": "DescriptionStyleModel",
      "state": {
       "description_width": ""
      }
     },
     "a1f7fba95df544c8a055058895c3696c": {
      "model_module": "@jupyter-widgets/base",
      "model_module_version": "1.2.0",
      "model_name": "LayoutModel",
      "state": {
       "grid_area": "input",
       "width": "auto"
      }
     },
     "a23a3a0d0a9248fcb39bcc3a617fbea1": {
      "model_module": "@jupyter-widgets/base",
      "model_module_version": "1.2.0",
      "model_name": "LayoutModel",
      "state": {}
     },
     "a51cd420bd3647048ff99a751f8a192b": {
      "model_module": "@jupyter-widgets/base",
      "model_module_version": "1.2.0",
      "model_name": "LayoutModel",
      "state": {}
     },
     "a60c6fd692f8450fb9d8e75b2c7710e1": {
      "model_module": "@jupyter-widgets/controls",
      "model_module_version": "1.5.0",
      "model_name": "GridBoxModel",
      "state": {
       "_dom_classes": [
        "nbtools-input",
        "nbtools-fileinput",
        "required"
       ],
       "children": [
        "IPY_MODEL_fa514b616d8045a69cc1eb01ec5e74d5",
        "IPY_MODEL_3cd977bd9421423ea9af5686a94f888d",
        "IPY_MODEL_f3c5054d83b14231b165e9a3bc61e97c"
       ],
       "layout": "IPY_MODEL_dc07cbb26b41404aaa16d59e702749fc"
      }
     },
     "a66a322712364f7a923b954b8c09f4fe": {
      "model_module": "@jupyter-widgets/controls",
      "model_module_version": "1.5.0",
      "model_name": "DescriptionStyleModel",
      "state": {
       "description_width": ""
      }
     },
     "a761b7e380084ac0845c37969c388948": {
      "model_module": "@jupyter-widgets/base",
      "model_module_version": "1.2.0",
      "model_name": "LayoutModel",
      "state": {
       "grid_area": "description",
       "width": "auto"
      }
     },
     "a79a72d0872e42a58526075060e4550a": {
      "model_module": "@jupyter-widgets/controls",
      "model_module_version": "1.5.0",
      "model_name": "DescriptionStyleModel",
      "state": {
       "description_width": ""
      }
     },
     "a80e93b0eef64c99939b6afc7df5c5b9": {
      "model_module": "@jupyter-widgets/controls",
      "model_module_version": "1.5.0",
      "model_name": "VBoxModel",
      "state": {
       "layout": "IPY_MODEL_573417719fd94bf2a8d7efee976783cd"
      }
     },
     "a92ef232419b4119848aae165a7ccc08": {
      "model_module": "@jupyter-widgets/controls",
      "model_module_version": "1.5.0",
      "model_name": "LabelModel",
      "state": {
       "layout": "IPY_MODEL_32783a16f3a54eea82e0868c72c48d64",
       "style": "IPY_MODEL_a9cf78ad975648d1b33287f3d64af85b"
      }
     },
     "a9cf78ad975648d1b33287f3d64af85b": {
      "model_module": "@jupyter-widgets/controls",
      "model_module_version": "1.5.0",
      "model_name": "DescriptionStyleModel",
      "state": {
       "description_width": ""
      }
     },
     "ab900fa5d6054d819f993062d859808f": {
      "model_module": "@jupyter-widgets/controls",
      "model_module_version": "1.5.0",
      "model_name": "DescriptionStyleModel",
      "state": {
       "description_width": ""
      }
     },
     "adff1f35f7214c12afa66da77660f440": {
      "model_module": "@jupyter-widgets/base",
      "model_module_version": "1.2.0",
      "model_name": "LayoutModel",
      "state": {
       "grid_area": "label",
       "width": "auto"
      }
     },
     "ae6ff1e400e24307907f35be9b0f20e1": {
      "model_module": "@jupyter-widgets/base",
      "model_module_version": "1.2.0",
      "model_name": "LayoutModel",
      "state": {}
     },
     "aeb03fa181434be4998185151bd6026a": {
      "model_module": "@jupyter-widgets/base",
      "model_module_version": "1.2.0",
      "model_name": "LayoutModel",
      "state": {}
     },
     "afe149e17c184075b4908bf39def7ca8": {
      "model_module": "@jupyter-widgets/base",
      "model_module_version": "1.2.0",
      "model_name": "LayoutModel",
      "state": {
       "display": "none",
       "grid_template_areas": "\n                    \"label input\"\n                    \". description\"\n                ",
       "grid_template_columns": "25% 75%",
       "grid_template_rows": "auto auto",
       "width": "100%"
      }
     },
     "b0104261a4574d5eb2471eb03f269ac9": {
      "model_module": "@jupyter-widgets/controls",
      "model_module_version": "1.5.0",
      "model_name": "GridBoxModel",
      "state": {
       "_dom_classes": [
        "nbtools-input",
        "nbtools-textinput",
        "required"
       ],
       "children": [
        "IPY_MODEL_8b8b6ff723f54c54acd09d56edd761a0",
        "IPY_MODEL_1b15749c679e41cf97d4cfa4583a8ee2",
        "IPY_MODEL_94b8c35e0ba046758619cfa58bf5bad3"
       ],
       "layout": "IPY_MODEL_8a1ac2e7a2cd43d78f4ec02437606bce"
      }
     },
     "b0725fc41a8042ae823d295fd06ca7ce": {
      "model_module": "@jupyter-widgets/controls",
      "model_module_version": "1.5.0",
      "model_name": "ComboboxModel",
      "state": {
       "_dom_classes": [
        "nbtools-menu-attached"
       ],
       "choices": {},
       "ensure_option": false,
       "kinds": [
        "res",
        "gct",
        "odf",
        "Dataset"
       ],
       "layout": "IPY_MODEL_6d4e7a6a77d14f77bbbf96b78aefb0f1",
       "style": "IPY_MODEL_b562c6e86eda4ce2b51800799fb9ac29"
      }
     },
     "b1214c5bcdfb48459be3eca02f230667": {
      "model_module": "@jupyter-widgets/base",
      "model_module_version": "1.2.0",
      "model_name": "LayoutModel",
      "state": {
       "grid_template_areas": "\n                    \"label input\"\n                    \". description\"\n                ",
       "grid_template_columns": "25% 75%",
       "grid_template_rows": "auto auto",
       "width": "100%"
      }
     },
     "b25977e06f734ff7b89761468ee2d5cc": {
      "model_module": "@jupyter-widgets/controls",
      "model_module_version": "1.5.0",
      "model_name": "HBoxModel",
      "state": {
       "children": [
        "IPY_MODEL_9639e34caf94467b816754186bfd1ace",
        "IPY_MODEL_358f630e4c9140f2a174a7f804c22ac8"
       ],
       "layout": "IPY_MODEL_be1da3f8cce041adaa9081951efd5536"
      }
     },
     "b451df51b8d94a53acfbd0f5c3993c9f": {
      "model_module": "@jupyter-widgets/base",
      "model_module_version": "1.2.0",
      "model_name": "LayoutModel",
      "state": {}
     },
     "b562c6e86eda4ce2b51800799fb9ac29": {
      "model_module": "@jupyter-widgets/controls",
      "model_module_version": "1.5.0",
      "model_name": "DescriptionStyleModel",
      "state": {
       "description_width": ""
      }
     },
     "b665727545214f0d800e88ae7ae2c2f1": {
      "model_module": "@jupyter-widgets/output",
      "model_module_version": "1.0.0",
      "model_name": "OutputModel",
      "state": {
       "layout": "IPY_MODEL_163cad112a2447ebb77a0cf5e24c801e"
      }
     },
     "b835d1bcf43b465481cc5efd55f5d6c8": {
      "model_module": "@jupyter-widgets/controls",
      "model_module_version": "1.5.0",
      "model_name": "LabelModel",
      "state": {
       "description": "output variable",
       "layout": "IPY_MODEL_9bc0034efbef408381621ec5cc1c3c96",
       "style": "IPY_MODEL_9dbd6be54d26462fb7f8897e35ec55a4",
       "value": "output variable"
      }
     },
     "b8862f6fb7644e278ce805426d4b6f90": {
      "model_module": "@jupyter-widgets/controls",
      "model_module_version": "1.5.0",
      "model_name": "DescriptionStyleModel",
      "state": {
       "description_width": ""
      }
     },
     "ba7818a33c5449ec9269cf783fec1047": {
      "model_module": "@jupyter-widgets/controls",
      "model_module_version": "1.5.0",
      "model_name": "ButtonStyleModel",
      "state": {}
     },
     "ba88aba072254927b9410260d6fec939": {
      "model_module": "@jupyter-widgets/controls",
      "model_module_version": "1.5.0",
      "model_name": "GridBoxModel",
      "state": {
       "_dom_classes": [
        "nbtools-input",
        "nbtools-textinput"
       ],
       "children": [
        "IPY_MODEL_e8e1c6f6bbf644c7ab0a44afe4cf704b",
        "IPY_MODEL_6824aebc93e9412aabe613b7283af330",
        "IPY_MODEL_a92ef232419b4119848aae165a7ccc08"
       ],
       "layout": "IPY_MODEL_65295db3cd5549b58150f71fd78a54a6"
      }
     },
     "bae1cd908e544a9f8d2f6d481f1cab92": {
      "model_module": "@jupyter-widgets/base",
      "model_module_version": "1.2.0",
      "model_name": "LayoutModel",
      "state": {}
     },
     "bb0b714648de43b2873de33784e48758": {
      "model_module": "@jupyter-widgets/base",
      "model_module_version": "1.2.0",
      "model_name": "LayoutModel",
      "state": {
       "grid_area": "input",
       "width": "auto"
      }
     },
     "bb3f734e033b4b2597051ae1d9b91fce": {
      "model_module": "@jupyter-widgets/controls",
      "model_module_version": "1.5.0",
      "model_name": "DescriptionStyleModel",
      "state": {
       "description_width": ""
      }
     },
     "bb67a71abca641c5b017cedf4802f829": {
      "model_module": "@jupyter-widgets/controls",
      "model_module_version": "1.5.0",
      "model_name": "ButtonStyleModel",
      "state": {}
     },
     "bbabfedd77ec4ec59364415c5cb8a3b4": {
      "model_module": "@jupyter-widgets/base",
      "model_module_version": "1.2.0",
      "model_name": "LayoutModel",
      "state": {
       "display": "none",
       "grid_template_areas": "\n                    \"label input\"\n                    \". description\"\n                ",
       "grid_template_columns": "25% 75%",
       "grid_template_rows": "auto auto",
       "width": "100%"
      }
     },
     "be1da3f8cce041adaa9081951efd5536": {
      "model_module": "@jupyter-widgets/base",
      "model_module_version": "1.2.0",
      "model_name": "LayoutModel",
      "state": {
       "grid_area": "input",
       "width": "auto"
      }
     },
     "bed285cb0946430aa7ad74678234a2aa": {
      "model_module": "@jupyter-widgets/output",
      "model_module_version": "1.0.0",
      "model_name": "OutputModel",
      "state": {
       "layout": "IPY_MODEL_741673556b6b4db2b5dc222dcd82e077"
      }
     },
     "bede212a74de4410b881ddec08becb6b": {
      "model_module": "@jupyter-widgets/controls",
      "model_module_version": "1.5.0",
      "model_name": "DescriptionStyleModel",
      "state": {
       "description_width": ""
      }
     },
     "c1e5f3b76f0a43ddaedd71b3412796d0": {
      "model_module": "@jupyter-widgets/base",
      "model_module_version": "1.2.0",
      "model_name": "LayoutModel",
      "state": {
       "grid_area": "label",
       "width": "auto"
      }
     },
     "c1fb1462afe94b14bcd2650643252ad6": {
      "model_module": "@jupyter-widgets/base",
      "model_module_version": "1.2.0",
      "model_name": "LayoutModel",
      "state": {}
     },
     "c2346d11da3a48e3b7796eee009f0368": {
      "model_module": "@jupyter-widgets/controls",
      "model_module_version": "1.5.0",
      "model_name": "ButtonModel",
      "state": {
       "_dom_classes": [
        "hidden"
       ],
       "description": "Run",
       "layout": "IPY_MODEL_ea2b79c32cec4ee8a1942ee457612d87",
       "style": "IPY_MODEL_749d8bfb220f48fa9d7317eebf6a1166"
      }
     },
     "c2799bf72f55497f868f09c67d0ae286": {
      "model_module": "@jupyter-widgets/base",
      "model_module_version": "1.2.0",
      "model_name": "LayoutModel",
      "state": {
       "grid_area": "input",
       "width": "auto"
      }
     },
     "c47a4875004247b0b9a951b241e02c6b": {
      "model_module": "@jupyter-widgets/controls",
      "model_module_version": "1.5.0",
      "model_name": "GridBoxModel",
      "state": {
       "_dom_classes": [
        "nbtools-input",
        "nbtools-textinput",
        "required"
       ],
       "children": [
        "IPY_MODEL_c7181e3ccd084814ba830119e4cd1d9d",
        "IPY_MODEL_cfbf22b1004149d786cd9a9220168c0e",
        "IPY_MODEL_c81e85c886c34a3ab4fa8621bf006fa0"
       ],
       "layout": "IPY_MODEL_4741fb57856c44b9865f073a88870a6c"
      }
     },
     "c5d9a2cfa1e94df086b15a9a51bfba25": {
      "model_module": "@jupyter-widgets/base",
      "model_module_version": "1.2.0",
      "model_name": "LayoutModel",
      "state": {}
     },
     "c6435b83ed7e45a892e1acd8ee407319": {
      "model_module": "@jupyter-widgets/base",
      "model_module_version": "1.2.0",
      "model_name": "LayoutModel",
      "state": {
       "grid_area": "description",
       "width": "auto"
      }
     },
     "c682b456e13c4d67b9dd07f4ce5fb582": {
      "model_module": "@jupyter-widgets/base",
      "model_module_version": "1.2.0",
      "model_name": "LayoutModel",
      "state": {
       "display": "none",
       "grid_template_areas": "\n                    \"label input\"\n                    \". description\"\n                ",
       "grid_template_columns": "25% 75%",
       "grid_template_rows": "auto auto",
       "width": "100%"
      }
     },
     "c7181e3ccd084814ba830119e4cd1d9d": {
      "model_module": "@jupyter-widgets/controls",
      "model_module_version": "1.5.0",
      "model_name": "LabelModel",
      "state": {
       "description": "Username",
       "layout": "IPY_MODEL_c1e5f3b76f0a43ddaedd71b3412796d0",
       "style": "IPY_MODEL_de2b9646c4c344508e96bc7a1b9e99c8",
       "value": "Username*"
      }
     },
     "c7fe90ac0cb44ffab8ff260bebff0b9c": {
      "model_module": "@jupyter-widgets/base",
      "model_module_version": "1.2.0",
      "model_name": "LayoutModel",
      "state": {
       "display": "none",
       "grid_template_areas": "\n                    \"label input\"\n                    \". description\"\n                ",
       "grid_template_columns": "25% 75%",
       "grid_template_rows": "auto auto",
       "width": "100%"
      }
     },
     "c81e85c886c34a3ab4fa8621bf006fa0": {
      "model_module": "@jupyter-widgets/controls",
      "model_module_version": "1.5.0",
      "model_name": "LabelModel",
      "state": {
       "layout": "IPY_MODEL_590042cfeaa743d3b36d8535fab26217",
       "style": "IPY_MODEL_565547602673448eb0dd62c17fc2bdcb"
      }
     },
     "c894f7b6dcf24b48b4a02587d9bb56ec": {
      "model_module": "@jupyter-widgets/controls",
      "model_module_version": "1.5.0",
      "model_name": "DescriptionStyleModel",
      "state": {
       "description_width": ""
      }
     },
     "ca3957138da5449c8f3ce5a2ca712f6f": {
      "model_module": "@jupyter-widgets/controls",
      "model_module_version": "1.5.0",
      "model_name": "ButtonStyleModel",
      "state": {}
     },
     "cc8a0b1df1314970858609cc53952023": {
      "model_module": "@jupyter-widgets/controls",
      "model_module_version": "1.5.0",
      "model_name": "DescriptionStyleModel",
      "state": {
       "description_width": ""
      }
     },
     "cf23e7a398484111bf10693b86b49a86": {
      "model_module": "@jupyter-widgets/base",
      "model_module_version": "1.2.0",
      "model_name": "LayoutModel",
      "state": {}
     },
     "cf515de66d0743678182f2cc4323eb99": {
      "model_module": "@jupyter-widgets/controls",
      "model_module_version": "1.5.0",
      "model_name": "LabelModel",
      "state": {
       "layout": "IPY_MODEL_a761b7e380084ac0845c37969c388948",
       "style": "IPY_MODEL_8628de6e9f5d47ebb14882df02889bac"
      }
     },
     "cfbf22b1004149d786cd9a9220168c0e": {
      "model_module": "@jupyter-widgets/controls",
      "model_module_version": "1.5.0",
      "model_name": "TextModel",
      "state": {
       "_dom_classes": [
        "nbtools-menu-attached"
       ],
       "layout": "IPY_MODEL_e696c7cdf4754b89ae75a8d5f51739bf",
       "style": "IPY_MODEL_d3cb9aeb2a1f42e2832982c492667809",
       "value": "tabor"
      }
     },
     "d0e5c1c8414d4e48b3a417bfd10059c2": {
      "model_module": "@jupyter-widgets/controls",
      "model_module_version": "1.5.0",
      "model_name": "GridBoxModel",
      "state": {
       "_dom_classes": [
        "nbtools-input",
        "nbtools-textinput"
       ],
       "children": [
        "IPY_MODEL_b835d1bcf43b465481cc5efd55f5d6c8",
        "IPY_MODEL_0e3f9d4106354a308199ee3bb8016d62",
        "IPY_MODEL_f071070a59af48fe83d1a60c8ec76465"
       ],
       "layout": "IPY_MODEL_59f3f5db457c47e5ad5cea35c148d276"
      }
     },
     "d3cb9aeb2a1f42e2832982c492667809": {
      "model_module": "@jupyter-widgets/controls",
      "model_module_version": "1.5.0",
      "model_name": "DescriptionStyleModel",
      "state": {
       "description_width": ""
      }
     },
     "d3e34c2ae63547b28eb8432b870f518c": {
      "model_module": "@jupyter-widgets/controls",
      "model_module_version": "1.5.0",
      "model_name": "LabelModel",
      "state": {
       "description": "dataset",
       "layout": "IPY_MODEL_8be0518b6c6640e2b3280b558bb125ce",
       "style": "IPY_MODEL_9030643b79a14769a624ec78ec89d578",
       "value": "dataset*"
      }
     },
     "d47c206fed604bc8ba5a9aefbf112241": {
      "model_module": "@jupyter-widgets/controls",
      "model_module_version": "1.5.0",
      "model_name": "DescriptionStyleModel",
      "state": {
       "description_width": ""
      }
     },
     "d53a11ef25ce41e9a476b82cf4e9dc12": {
      "model_module": "@jupyter-widgets/controls",
      "model_module_version": "1.5.0",
      "model_name": "VBoxModel",
      "state": {
       "_dom_classes": [
        "widget-interact"
       ],
       "children": [
        "IPY_MODEL_a60c6fd692f8450fb9d8e75b2c7710e1",
        "IPY_MODEL_b0104261a4574d5eb2471eb03f269ac9",
        "IPY_MODEL_7985834e45ca4dfe884074ef3808ccfc",
        "IPY_MODEL_f381cc91ec624b258630db4cd065fe77"
       ],
       "layout": "IPY_MODEL_5bad560934a44534af98fa7bcf53f788"
      }
     },
     "d580fce564d249c8aba7f147e89bbfcb": {
      "model_module": "@jupyter-widgets/output",
      "model_module_version": "1.0.0",
      "model_name": "OutputModel",
      "state": {
       "layout": "IPY_MODEL_fb9bb7c6fef54f40a078241262b79430",
       "outputs": [
        {
         "data": {},
         "metadata": {},
         "output_type": "display_data"
        },
        {
         "data": {
          "application/vnd.jupyter.widget-view+json": {
           "model_id": "78b02a37ab30409ea2ae8b42bf987663",
           "version_major": 2,
           "version_minor": 0
          },
          "text/plain": "GPTaskWidget(collapse=True, color='rgba(10, 45, 105, 0.80)', description='A configurable heat map viewer that …"
         },
         "metadata": {},
         "output_type": "display_data"
        },
        {
         "data": {
          "application/vnd.jupyter.widget-view+json": {
           "model_id": "5028bf0c45b44b2cb4aa5a140e06b35d",
           "version_major": 2,
           "version_minor": 0
          },
          "text/plain": "Output()"
         },
         "metadata": {},
         "output_type": "display_data"
        }
       ]
      }
     },
     "d6b87611c5b14629bf462c0163e775ad": {
      "model_module": "@jupyter-widgets/controls",
      "model_module_version": "1.5.0",
      "model_name": "TextModel",
      "state": {
       "_dom_classes": [
        "nbtools-menu-attached"
       ],
       "layout": "IPY_MODEL_a1f7fba95df544c8a055058895c3696c",
       "style": "IPY_MODEL_5b34be83b14743768c8a3ed4e9f8fe90"
      }
     },
     "d7d250da4b024c6abc8603274943fea7": {
      "model_module": "@jupyter-widgets/controls",
      "model_module_version": "1.5.0",
      "model_name": "LabelModel",
      "state": {
       "layout": "IPY_MODEL_5ebb0f9cc2eb48fcb208b527911d4104",
       "style": "IPY_MODEL_3267a2be8240416bb0fb3667879443ab"
      }
     },
     "dc07cbb26b41404aaa16d59e702749fc": {
      "model_module": "@jupyter-widgets/base",
      "model_module_version": "1.2.0",
      "model_name": "LayoutModel",
      "state": {
       "grid_template_areas": "\n                    \"label input\"\n                    \". description\"\n                ",
       "grid_template_columns": "25% 75%",
       "grid_template_rows": "auto auto",
       "width": "100%"
      }
     },
     "dc0a4a8c5aa244f19f4c4b719204c150": {
      "model_module": "@jupyter-widgets/controls",
      "model_module_version": "1.5.0",
      "model_name": "LabelModel",
      "state": {
       "description": "GenePattern Server",
       "layout": "IPY_MODEL_fe24325afa2f4b12abafb5c82e4c8486",
       "style": "IPY_MODEL_5308b98407b746018b50d6a445596788",
       "value": "GenePattern Server*"
      }
     },
     "de0313e812c94f88bcb6b8bfdce74be0": {
      "model_module": "@jupyter-widgets/base",
      "model_module_version": "1.2.0",
      "model_name": "LayoutModel",
      "state": {
       "grid_area": "label",
       "width": "auto"
      }
     },
     "de2b9646c4c344508e96bc7a1b9e99c8": {
      "model_module": "@jupyter-widgets/controls",
      "model_module_version": "1.5.0",
      "model_name": "DescriptionStyleModel",
      "state": {
       "description_width": ""
      }
     },
     "de76345bc0f64ae887972e7bf93fc21b": {
      "model_module": "@jupyter-widgets/controls",
      "model_module_version": "1.5.0",
      "model_name": "DescriptionStyleModel",
      "state": {
       "description_width": ""
      }
     },
     "dff6666db8854cef9522d27ddcfcc892": {
      "model_module": "@genepattern/nbtools",
      "model_module_version": "^0.2.0",
      "model_name": "UIBuilderModel",
      "state": {
       "_dom_classes": [],
       "_model_module_version": "^0.2.0",
       "_parameters": [
        {
         "choices": {},
         "default": "",
         "description": "The input file (any non-binary file format)",
         "events": null,
         "hide": false,
         "id": null,
         "kinds": [],
         "label": "input_filename",
         "name": "input_filename",
         "optional": false,
         "type": "file",
         "value": ""
        },
        {
         "choices": {},
         "default": "<input.filename_basename>.cvt.<input.filename_extension>",
         "description": "The output file",
         "events": null,
         "hide": false,
         "id": null,
         "kinds": [],
         "label": "output_file",
         "name": "output_file",
         "optional": false,
         "type": "text",
         "value": ""
        },
        {
         "choices": {},
         "default": "",
         "description": "",
         "events": null,
         "hide": true,
         "id": null,
         "kinds": null,
         "label": "output variable",
         "name": "output_var",
         "optional": true,
         "type": "text",
         "value": ""
        }
       ],
       "_view_count": null,
       "_view_module_version": "^0.2.0",
       "color": "rgba(10, 45, 105, 0.80)",
       "description": "Converts line endings to the host operating system's format.",
       "form": "IPY_MODEL_d53a11ef25ce41e9a476b82cf4e9dc12",
       "layout": "IPY_MODEL_ecf977aeea674f0f97e5f34f11810f1a",
       "name": "ConvertLineEndings",
       "origin": "genepattern.taskwidget",
       "output": "IPY_MODEL_bed285cb0946430aa7ad74678234a2aa",
       "output_var": ""
      }
     },
     "e08de93082e84b368168d16bb369e4c3": {
      "model_module": "@jupyter-widgets/base",
      "model_module_version": "1.2.0",
      "model_name": "LayoutModel",
      "state": {}
     },
     "e25d129d58454de1bbe6647a1dd85756": {
      "model_module": "@jupyter-widgets/controls",
      "model_module_version": "1.5.0",
      "model_name": "DescriptionStyleModel",
      "state": {
       "description_width": ""
      }
     },
     "e322fec6ef4844c9bfa4bc242f2d2849": {
      "model_module": "@jupyter-widgets/controls",
      "model_module_version": "1.5.0",
      "model_name": "TextModel",
      "state": {
       "_dom_classes": [
        "nbtools-menu-attached"
       ],
       "layout": "IPY_MODEL_0ec488b4d9bb4d04aa7317a29bb2474f",
       "style": "IPY_MODEL_f4c3ec13769e497dbd60e2b737219a7c"
      }
     },
     "e4946f6ffc084ab48afa624d12aa7bdf": {
      "model_module": "@jupyter-widgets/controls",
      "model_module_version": "1.5.0",
      "model_name": "DescriptionStyleModel",
      "state": {
       "description_width": ""
      }
     },
     "e696c7cdf4754b89ae75a8d5f51739bf": {
      "model_module": "@jupyter-widgets/base",
      "model_module_version": "1.2.0",
      "model_name": "LayoutModel",
      "state": {
       "grid_area": "input",
       "width": "auto"
      }
     },
     "e778114cf63242b1b324a39821f7939e": {
      "model_module": "@jupyter-widgets/controls",
      "model_module_version": "1.5.0",
      "model_name": "VBoxModel",
      "state": {
       "children": [
        "IPY_MODEL_13b194e6fe2f470d990e0f22bb237fa6"
       ],
       "layout": "IPY_MODEL_405eb245f05244f0b74cb18be8f16b21"
      }
     },
     "e8e1c6f6bbf644c7ab0a44afe4cf704b": {
      "model_module": "@jupyter-widgets/controls",
      "model_module_version": "1.5.0",
      "model_name": "LabelModel",
      "state": {
       "description": "output variable",
       "layout": "IPY_MODEL_129babaeaa4e404189f42128a856a85c",
       "style": "IPY_MODEL_d47c206fed604bc8ba5a9aefbf112241",
       "value": "output variable"
      }
     },
     "e91c5199e7a84b668adc1dc736576c53": {
      "model_module": "@jupyter-widgets/controls",
      "model_module_version": "1.5.0",
      "model_name": "VBoxModel",
      "state": {
       "_dom_classes": [
        "widget-interact"
       ],
       "children": [
        "IPY_MODEL_45da5a2225e14fd29495dd7e7131db31",
        "IPY_MODEL_c47a4875004247b0b9a951b241e02c6b",
        "IPY_MODEL_21eca9ca52064b53b8d62ca873a7ca73",
        "IPY_MODEL_8fbd2dd9bd6442c2b4f750b0c964153a",
        "IPY_MODEL_ba88aba072254927b9410260d6fec939"
       ],
       "layout": "IPY_MODEL_2e281132206543ba8e3f6c9fb5fc985b"
      }
     },
     "e953eb70173b4b87bc385683b7dab935": {
      "model_module": "@jupyter-widgets/base",
      "model_module_version": "1.2.0",
      "model_name": "LayoutModel",
      "state": {
       "grid_area": "label",
       "width": "auto"
      }
     },
     "e95d1d9f04ae4a1885f2725a8ec6fa94": {
      "model_module": "@jupyter-widgets/controls",
      "model_module_version": "1.5.0",
      "model_name": "TextModel",
      "state": {
       "_dom_classes": [
        "nbtools-menu-attached"
       ],
       "layout": "IPY_MODEL_bb0b714648de43b2873de33784e48758",
       "style": "IPY_MODEL_6c84c027e31a4ce6ad3768dc259b6b05"
      }
     },
     "ea2b79c32cec4ee8a1942ee457612d87": {
      "model_module": "@jupyter-widgets/base",
      "model_module_version": "1.2.0",
      "model_name": "LayoutModel",
      "state": {}
     },
     "ea4e416f4d6b4b3cb7284505eba8b3f2": {
      "model_module": "@jupyter-widgets/base",
      "model_module_version": "1.2.0",
      "model_name": "LayoutModel",
      "state": {
       "grid_area": "label",
       "width": "auto"
      }
     },
     "eb0662e931724128ab74af18ed8e1dde": {
      "model_module": "@jupyter-widgets/output",
      "model_module_version": "1.0.0",
      "model_name": "OutputModel",
      "state": {
       "layout": "IPY_MODEL_e08de93082e84b368168d16bb369e4c3"
      }
     },
     "ecf977aeea674f0f97e5f34f11810f1a": {
      "model_module": "@jupyter-widgets/base",
      "model_module_version": "1.2.0",
      "model_name": "LayoutModel",
      "state": {}
     },
     "edde6d50d9994e8592f343e588db7a12": {
      "model_module": "@jupyter-widgets/controls",
      "model_module_version": "1.5.0",
      "model_name": "LabelModel",
      "state": {
       "layout": "IPY_MODEL_4c1ecf3e3cd746289a8409fe0d11fe5b",
       "style": "IPY_MODEL_400346f72e9e49c3b9a96e7cae8c0721"
      }
     },
     "ef53f787e4394f8aaa5b59a9b3ba69e2": {
      "model_module": "@jupyter-widgets/controls",
      "model_module_version": "1.5.0",
      "model_name": "GridBoxModel",
      "state": {
       "_dom_classes": [
        "nbtools-input",
        "nbtools-fileinput",
        "required"
       ],
       "children": [
        "IPY_MODEL_d3e34c2ae63547b28eb8432b870f518c",
        "IPY_MODEL_b25977e06f734ff7b89761468ee2d5cc",
        "IPY_MODEL_63e1665b993f4be0b02f2b313095e08c"
       ],
       "layout": "IPY_MODEL_0838099307ed48b19f095cb973ce4fc0"
      }
     },
     "f071070a59af48fe83d1a60c8ec76465": {
      "model_module": "@jupyter-widgets/controls",
      "model_module_version": "1.5.0",
      "model_name": "LabelModel",
      "state": {
       "layout": "IPY_MODEL_3a00e68e11894fb597db377c09da003b",
       "style": "IPY_MODEL_b8862f6fb7644e278ce805426d4b6f90"
      }
     },
     "f34971437650489baa7c05c71860a557": {
      "model_module": "@jupyter-widgets/controls",
      "model_module_version": "1.5.0",
      "model_name": "ButtonModel",
      "state": {
       "_dom_classes": [
        "hidden"
       ],
       "description": "Run",
       "layout": "IPY_MODEL_f7ecd96083bc49ceb74d784f785d8ef0",
       "style": "IPY_MODEL_50bfc71d51be4bc7a58756bcd7cc8584"
      }
     },
     "f381cc91ec624b258630db4cd065fe77": {
      "model_module": "@jupyter-widgets/controls",
      "model_module_version": "1.5.0",
      "model_name": "GridBoxModel",
      "state": {
       "_dom_classes": [
        "nbtools-input",
        "nbtools-textinput"
       ],
       "children": [
        "IPY_MODEL_5f9a337085f141668b308d8b165b4dd3",
        "IPY_MODEL_e322fec6ef4844c9bfa4bc242f2d2849",
        "IPY_MODEL_1a0577185e504cd2b2c0e351b3f55c6a"
       ],
       "layout": "IPY_MODEL_7fe8cf067e6743e69a1de235a2817248"
      }
     },
     "f3c5054d83b14231b165e9a3bc61e97c": {
      "model_module": "@jupyter-widgets/controls",
      "model_module_version": "1.5.0",
      "model_name": "LabelModel",
      "state": {
       "description": "The input file (any non-binary file format)",
       "layout": "IPY_MODEL_2a90b248a81e4e678783fe94389a16d1",
       "style": "IPY_MODEL_1ee102aec0724aa08ddbc6282705bfa9",
       "value": "The input file (any non-binary file format)"
      }
     },
     "f4c3ec13769e497dbd60e2b737219a7c": {
      "model_module": "@jupyter-widgets/controls",
      "model_module_version": "1.5.0",
      "model_name": "DescriptionStyleModel",
      "state": {
       "description_width": ""
      }
     },
     "f52640168894475c88ec3fe9d8d9c441": {
      "model_module": "@jupyter-widgets/base",
      "model_module_version": "1.2.0",
      "model_name": "LayoutModel",
      "state": {
       "grid_area": "label",
       "width": "auto"
      }
     },
     "f5eccae899554d2a9725f00079d26c3d": {
      "model_module": "@jupyter-widgets/controls",
      "model_module_version": "1.5.0",
      "model_name": "ButtonStyleModel",
      "state": {}
     },
     "f7ecd96083bc49ceb74d784f785d8ef0": {
      "model_module": "@jupyter-widgets/base",
      "model_module_version": "1.2.0",
      "model_name": "LayoutModel",
      "state": {}
     },
     "f842c2f2fd98405fa91d318d8a5aef41": {
      "model_module": "@jupyter-widgets/base",
      "model_module_version": "1.2.0",
      "model_name": "LayoutModel",
      "state": {
       "grid_area": "input",
       "width": "auto"
      }
     },
     "fa514b616d8045a69cc1eb01ec5e74d5": {
      "model_module": "@jupyter-widgets/controls",
      "model_module_version": "1.5.0",
      "model_name": "LabelModel",
      "state": {
       "description": "input_filename",
       "layout": "IPY_MODEL_ea4e416f4d6b4b3cb7284505eba8b3f2",
       "style": "IPY_MODEL_01088cf9be8a4acdac9303f7db056572",
       "value": "input_filename*"
      }
     },
     "fb9bb7c6fef54f40a078241262b79430": {
      "model_module": "@jupyter-widgets/base",
      "model_module_version": "1.2.0",
      "model_name": "LayoutModel",
      "state": {}
     },
     "fe24325afa2f4b12abafb5c82e4c8486": {
      "model_module": "@jupyter-widgets/base",
      "model_module_version": "1.2.0",
      "model_name": "LayoutModel",
      "state": {
       "grid_area": "label",
       "width": "auto"
      }
     },
     "ff5fc7fc9a7f4762aed2a3c373d4e43e": {
      "model_module": "@jupyter-widgets/base",
      "model_module_version": "1.2.0",
      "model_name": "LayoutModel",
      "state": {}
     }
    },
    "version_major": 2,
    "version_minor": 0
   }
  }
 },
 "nbformat": 4,
 "nbformat_minor": 4
}
