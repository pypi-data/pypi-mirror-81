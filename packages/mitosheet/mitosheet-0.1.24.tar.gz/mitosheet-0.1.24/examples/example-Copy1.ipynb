{
 "cells": [
  {
   "cell_type": "code",
   "execution_count": 46,
   "metadata": {},
   "outputs": [
    {
     "data": {
      "application/vnd.jupyter.widget-view+json": {
       "model_id": "8549fc9132a249e4b4d2c006944dd323",
       "version_major": 2,
       "version_minor": 0
      },
      "text/plain": [
       "MitoWidget(code_json='{\"code\": \"0\"}', column_spreadsheet_code_json='{\"Story\": \"\", \"Points\": \"\", \"actual_time\":…"
      ]
     },
     "metadata": {},
     "output_type": "display_data"
    }
   ],
   "source": [
    "import pandas as pd\n",
    "import mitosheet\n",
    "df = pd.read_csv('sprint_stories.csv')\n",
    "df = df.rename(columns={'Actual time': 'actual_time'})\n",
    "df = df.drop(['Priority', 'Sprint', 'Assigned'], axis=1)\n",
    "\n",
    "# MITO CODE START (DO NOT EDIT)\n",
    "# SAVED-ANALYSIS-START{\"Story\":\"\",\"Points\":\"\",\"actual_time\":\"\",\"State\":\"\",\"H\":\"=MID(Points, FIND(Points, \\\"(\\\"), FIND(Points, \\\")\\\"))\",\"F\":\"=0\"}SAVED-ANALYSIS-END\n",
    "\n",
    "from mitosheet import AVG,CLEAN,CONCATENATE,FIND,LEFT,LEN,LOWER,MID,MULTIPLY,PROPER,RIGHT,SUBSTITUTE,SUM,TRIM,UPPER\n",
    "\n",
    "def mito_analysis(df):\n",
    "    df['F'] = 0\n",
    "\n",
    "    df['H'] = MID(df['Points'], FIND(df['Points'], \"(\"), FIND(df['Points'], \")\"))\n",
    "\n",
    "mito_analysis(df)\n",
    "  \n",
    "# MITO CODE END (DO NOT EDIT)\n",
    "\n",
    "mitosheet.sheet(df)"
   ]
  },
  {
   "cell_type": "code",
   "execution_count": null,
   "metadata": {},
   "outputs": [],
   "source": []
  },
  {
   "cell_type": "code",
   "execution_count": null,
   "metadata": {},
   "outputs": [],
   "source": []
  }
 ],
 "metadata": {
  "kernelspec": {
   "display_name": "Python 3",
   "language": "python",
   "name": "python3"
  },
  "language_info": {
   "codemirror_mode": {
    "name": "ipython",
    "version": 3
   },
   "file_extension": ".py",
   "mimetype": "text/x-python",
   "name": "python",
   "nbconvert_exporter": "python",
   "pygments_lexer": "ipython3",
   "version": "3.8.5"
  },
  "widgets": {
   "application/vnd.jupyter.widget-state+json": {
    "state": {
     "0330bbeb08ba4180a885c6cf1f719fb4": {
      "model_module": "mitosheet",
      "model_module_version": "^0.1.22",
      "model_name": "ExampleModel",
      "state": {
       "_model_module_version": "^0.1.22",
       "_view_module_version": "^0.1.22",
       "code_json": "{\"imports\": \"from mitosheet import AVG,CLEAN,CONCATENATE,FIND,LEFT,LEN,LOWER,MID,MULTIPLY,PROPER,RIGHT,SUBSTITUTE,SUM,TRIM,UPPER\", \"code\": [\"df['B'] = AVG(df['A'], 10)\"]}",
       "column_spreadsheet_code_json": "{\"A\": \"\", \"B\": \"=AVG(A, 10)\"}",
       "df_name": "",
       "layout": "IPY_MODEL_d7d776fb830344fc8727de74cd0396a1",
       "sheet_json": "{\"columns\": [\"A\", \"B\"], \"index\": [0], \"data\": [[123, 66.5]]}",
       "user_id": "nate",
       "value": "Hello World"
      }
     },
     "06d1069b2eeb4ec18e8bcfcef524d35e": {
      "model_module": "@jupyter-widgets/base",
      "model_module_version": "1.2.0",
      "model_name": "LayoutModel",
      "state": {}
     },
     "0844ff0460ed4304a1aaa336bed051b6": {
      "model_module": "mitosheet",
      "model_module_version": "^0.1.22",
      "model_name": "ExampleModel",
      "state": {
       "_model_module_version": "^0.1.22",
       "_view_module_version": "^0.1.22",
       "code_json": "{\"imports\": \"from mitosheet import AVG,CLEAN,CONCATENATE,FIND,LEFT,LEN,LOWER,MID,MULTIPLY,PROPER,RIGHT,SUBSTITUTE,SUM,TRIM,UPPER\", \"code\": [\"df['B'] = AVG(df['A'])\"]}",
       "column_spreadsheet_code_json": "{\"A\": \"\", \"B\": \"=AVG(A)\"}",
       "df_name": "",
       "layout": "IPY_MODEL_664d44094f1f47229f9124f781935076",
       "sheet_json": "{\"columns\": [\"A\", \"B\"], \"index\": [0], \"data\": [[123, 123.0]]}",
       "user_id": "nate",
       "value": "Hello World"
      }
     },
     "096870772d024793a085d47786162f8a": {
      "model_module": "mitosheet",
      "model_module_version": "^0.1.22",
      "model_name": "ExampleModel",
      "state": {
       "_model_module_version": "^0.1.22",
       "_view_module_version": "^0.1.22",
       "code_json": "{\"imports\": \"from mitosheet import AVG,CLEAN,CONCATENATE,FIND,LEFT,LEN,LOWER,MID,MULTIPLY,PROPER,RIGHT,SUBSTITUTE,SUM,TRIM,UPPER\", \"code\": [\"df['C'] = AVG(df['A'])\", \"df['B'] = AVG(df['A'])\"]}",
       "column_spreadsheet_code_json": "{\"A\": \"\", \"C\": \"=AVG(A)\", \"B\": \"=AVG(A)\"}",
       "df_name": "",
       "layout": "IPY_MODEL_4688174c2baf434286797d055612fb00",
       "sheet_json": "{\"columns\": [\"A\", \"C\", \"B\"], \"index\": [0], \"data\": [[123, 123.0, 123.0]]}",
       "user_id": "nate",
       "value": "Hello World"
      }
     },
     "0d0f560098634971b56729be51cd3c62": {
      "model_module": "mitosheet",
      "model_module_version": "^0.1.22",
      "model_name": "ExampleModel",
      "state": {
       "_model_module_version": "^0.1.22",
       "_view_module_version": "^0.1.22",
       "code_json": "{\"imports\": \"from mitosheet import AVG,CLEAN,CONCATENATE,FIND,LEFT,LEN,LOWER,MID,MULTIPLY,PROPER,RIGHT,SUBSTITUTE,SUM,TRIM,UPPER\", \"code\": [\"df['B'] = AVG(df['A'], 1)\"]}",
       "column_spreadsheet_code_json": "{\"A\": \"\", \"B\": \"=AVG(A, 1)\"}",
       "df_name": "",
       "layout": "IPY_MODEL_3e73682b33554e2f9e671c3fd8b75825",
       "sheet_json": "{\"columns\": [\"A\", \"B\"], \"index\": [0], \"data\": [[123, 62.0]]}",
       "user_id": "nate",
       "value": "Hello World"
      }
     },
     "0dc67298f2e8486083d6fca6398119b4": {
      "model_module": "@jupyter-widgets/base",
      "model_module_version": "1.2.0",
      "model_name": "LayoutModel",
      "state": {}
     },
     "0dd8d02e3234493db5fe676c61aaf315": {
      "model_module": "mitosheet",
      "model_module_version": "^0.1.22",
      "model_name": "ExampleModel",
      "state": {
       "_model_module_version": "^0.1.22",
       "_view_module_version": "^0.1.22",
       "code_json": "{\"code\": \"0\"}",
       "column_spreadsheet_code_json": "{\"A\": \"\", \"C\": \"=0\", \"B\": \"=AVG(A)\"}",
       "df_name": "",
       "layout": "IPY_MODEL_5c002de1497145a78108296aae8f785f",
       "sheet_json": "{\"columns\": [\"A\", \"C\", \"B\"], \"index\": [0], \"data\": [[123, 0, 123.0]]}",
       "user_id": "nate",
       "value": "Hello World"
      }
     },
     "0f3c504790bb4f2cb66f8586103c20ba": {
      "model_module": "@jupyter-widgets/base",
      "model_module_version": "1.2.0",
      "model_name": "LayoutModel",
      "state": {}
     },
     "12549464910040c28f795b225cf5f504": {
      "model_module": "mitosheet",
      "model_module_version": "^0.1.22",
      "model_name": "ExampleModel",
      "state": {
       "_model_module_version": "^0.1.22",
       "_view_module_version": "^0.1.22",
       "code_json": "{\"code\": \"0\"}",
       "column_spreadsheet_code_json": "{\"A\": \"\", \"B\": \"=AVG(A, 1)\"}",
       "df_name": "",
       "layout": "IPY_MODEL_c885757462354f32b613ac3a1e5aab90",
       "sheet_json": "{\"columns\": [\"A\", \"B\"], \"index\": [0], \"data\": [[123, 62.0]]}",
       "user_id": "nate",
       "value": "Hello World"
      }
     },
     "14c198146a5c40928b4e10194057a8d8": {
      "model_module": "mitosheet",
      "model_module_version": "^0.1.22",
      "model_name": "ExampleModel",
      "state": {
       "_model_module_version": "^0.1.22",
       "_view_module_version": "^0.1.22",
       "code_json": "{\"code\": \"0\"}",
       "column_spreadsheet_code_json": "{\"A\": \"\", \"C\": \"=AVG(A)\", \"B\": \"=AVG(A)\"}",
       "df_name": "",
       "layout": "IPY_MODEL_46556e621d614bf8aa040989e8df854c",
       "sheet_json": "{\"columns\": [\"A\", \"C\", \"B\"], \"index\": [0], \"data\": [[123, 123.0, 123.0]]}",
       "user_id": "nate",
       "value": "Hello World"
      }
     },
     "1767a761d8424fb18b68a9c77c18c7df": {
      "model_module": "mitosheet",
      "model_module_version": "^0.1.22",
      "model_name": "ExampleModel",
      "state": {
       "_model_module_version": "^0.1.22",
       "_view_module_version": "^0.1.22",
       "code_json": "",
       "column_spreadsheet_code_json": "",
       "df_name": "",
       "layout": "IPY_MODEL_f0ce9383ddd445b588285d4fa5c4213c",
       "sheet_json": "",
       "user_id": "nate",
       "value": "Hello World"
      }
     },
     "1b9b360325b04698bad273058dcbbdb5": {
      "model_module": "mitosheet",
      "model_module_version": "^0.1.22",
      "model_name": "ExampleModel",
      "state": {
       "_model_module_version": "^0.1.22",
       "_view_module_version": "^0.1.22",
       "code_json": "{\"code\": \"0\"}",
       "column_spreadsheet_code_json": "{\"A\": \"\", \"B\": \"=AVG(A)\"}",
       "df_name": "",
       "layout": "IPY_MODEL_9f2a8a7d31ba4d06a0da6a3f6f991ec6",
       "sheet_json": "{\"columns\": [\"A\", \"B\"], \"index\": [0], \"data\": [[123, 123.0]]}",
       "user_id": "nate",
       "value": "Hello World"
      }
     },
     "29502bb4418245af9e10603ffe47555b": {
      "model_module": "mitosheet",
      "model_module_version": "^0.1.22",
      "model_name": "ExampleModel",
      "state": {
       "_model_module_version": "^0.1.22",
       "_view_module_version": "^0.1.22",
       "code_json": "{\"code\": \"0\"}",
       "column_spreadsheet_code_json": "{\"A\": \"\", \"C\": \"=0\", \"B\": \"=AVG(A)\"}",
       "df_name": "",
       "layout": "IPY_MODEL_ae76bd56e15a40b3b3d72ef29aae3b95",
       "sheet_json": "{\"columns\": [\"A\", \"C\", \"B\"], \"index\": [0], \"data\": [[123, 0, 123.0]]}",
       "user_id": "nate",
       "value": "Hello World"
      }
     },
     "29a4938ae1af4a18960ed3d234189b6d": {
      "model_module": "@jupyter-widgets/base",
      "model_module_version": "1.2.0",
      "model_name": "LayoutModel",
      "state": {}
     },
     "2b2e8ef2f5504e7c89de7a4976f10634": {
      "model_module": "mitosheet",
      "model_module_version": "^0.1.22",
      "model_name": "ExampleModel",
      "state": {
       "_model_module_version": "^0.1.22",
       "_view_module_version": "^0.1.22",
       "code_json": "{\"code\": \"0\"}",
       "column_spreadsheet_code_json": "{\"A\": \"\", \"B\": \"=AVG(A)\"}",
       "df_name": "",
       "layout": "IPY_MODEL_dc5b944c205744d49d36922a70944d8f",
       "sheet_json": "{\"columns\": [\"A\", \"B\"], \"index\": [0], \"data\": [[123, 123.0]]}",
       "user_id": "nate",
       "value": "Hello World"
      }
     },
     "2c49347274d440268944cebc0dbf9de5": {
      "model_module": "mitosheet",
      "model_module_version": "^0.1.22",
      "model_name": "ExampleModel",
      "state": {
       "_model_module_version": "^0.1.22",
       "_view_module_version": "^0.1.22",
       "code_json": "{\"code\": \"0\"}",
       "column_spreadsheet_code_json": "{\"A\": \"\", \"C\": \"=0\", \"B\": \"=AVG(A)\"}",
       "df_name": "",
       "layout": "IPY_MODEL_81c01b1455124034affa79e0d7595ab1",
       "sheet_json": "{\"columns\": [\"A\", \"C\", \"B\"], \"index\": [0], \"data\": [[123, 0, 123.0]]}",
       "user_id": "nate",
       "value": "Hello World"
      }
     },
     "2c713a22d69043ef86924a119292e03b": {
      "model_module": "mitosheet",
      "model_module_version": "^0.1.22",
      "model_name": "ExampleModel",
      "state": {
       "_model_module_version": "^0.1.22",
       "_view_module_version": "^0.1.22",
       "code_json": "{\"imports\": \"from mitosheet import AVG,CLEAN,CONCATENATE,FIND,LEFT,LEN,LOWER,MID,MULTIPLY,PROPER,RIGHT,SUBSTITUTE,SUM,TRIM,UPPER\", \"code\": [\"df['B'] = AVG(df['A'])\"]}",
       "column_spreadsheet_code_json": "{\"A\": \"\", \"B\": \"=AVG(A)\"}",
       "df_name": "",
       "layout": "IPY_MODEL_f623de1673784bfd99357f18b338eced",
       "sheet_json": "{\"columns\": [\"A\", \"B\"], \"index\": [0], \"data\": [[123, 123.0]]}",
       "user_id": "nate",
       "value": "Hello World"
      }
     },
     "2f1f7e1e87654252815e628a91ceb8b7": {
      "model_module": "mitosheet",
      "model_module_version": "^0.1.22",
      "model_name": "ExampleModel",
      "state": {
       "_model_module_version": "^0.1.22",
       "_view_module_version": "^0.1.22",
       "code_json": "{\"imports\": \"from mitosheet import AVG,CLEAN,CONCATENATE,FIND,LEFT,LEN,LOWER,MID,MULTIPLY,PROPER,RIGHT,SUBSTITUTE,SUM,TRIM,UPPER\", \"code\": [\"df['C'] = LEFT(LOWER(LEN(df['A'])))\", \"df['B'] = AVG(df['A'])\"]}",
       "column_spreadsheet_code_json": "{\"A\": \"\", \"C\": \"=LEFT(LOWER(LEN(A)))\", \"B\": \"=AVG(A)\"}",
       "df_name": "",
       "layout": "IPY_MODEL_f8a1deb744994fdfaeccf0ed18bb7eca",
       "sheet_json": "{\"columns\": [\"A\", \"C\", \"B\"], \"index\": [0], \"data\": [[123, 3, 123.0]]}",
       "user_id": "nate",
       "value": "Hello World"
      }
     },
     "35cd29c38a9543fcb00ef07a43ea6d18": {
      "model_module": "mitosheet",
      "model_module_version": "^0.1.22",
      "model_name": "ExampleModel",
      "state": {
       "_model_module_version": "^0.1.22",
       "_view_module_version": "^0.1.22",
       "code_json": "{\"code\": \"0\"}",
       "column_spreadsheet_code_json": "{\"A\": \"\", \"C\": \"=0\", \"B\": \"=AVG(A)\"}",
       "df_name": "",
       "layout": "IPY_MODEL_d4ba6b2c834b4996b753a77ce1ba996c",
       "sheet_json": "{\"columns\": [\"A\", \"C\", \"B\"], \"index\": [0], \"data\": [[123, 0, 123.0]]}",
       "user_id": "nate",
       "value": "Hello World"
      }
     },
     "361b23a1289641849f06547efa1e2fab": {
      "model_module": "mitosheet",
      "model_module_version": "^0.1.22",
      "model_name": "ExampleModel",
      "state": {
       "_model_module_version": "^0.1.22",
       "_view_module_version": "^0.1.22",
       "code_json": "{\"code\": \"0\"}",
       "column_spreadsheet_code_json": "{\"Story\": \"\", \"Sprint\": \"\", \"Assigned\": \"\", \"Priority\": \"\", \"Points\": \"\", \"actual_time\": \"\", \"State\": \"\", \"H\": \"=0\"}",
       "df_name": "df",
       "layout": "IPY_MODEL_bfc5a428b4a047b781e747a6fa9a6623",
       "sheet_json": "{\"columns\": [\"Story\", \"Sprint\", \"Assigned\", \"Priority\", \"Points\", \"actual_time\", \"State\", \"H\"], \"index\": [0, 1, 2, 3, 4, 5, 6, 7, 8, 9, 10, 11, 12, 13, 14, 15, 16, 17, 18, 19, 20, 21, 22, 23, 24, 25, 26, 27, 28, 29, 30, 31, 32, 33, 34, 35, 36, 37, 38, 39, 40, 41, 42, 43, 44, 45, 46, 47, 48, 49, 50, 51, 52, 53, 54, 55, 56, 57, 58, 59, 60, 61, 62, 63, 64, 65, 66, 67, 68, 69, 70, 71, 72, 73, 74, 75, 76, 77, 78, 79, 80, 81, 82, 83, 84, 85, 86, 87, 88, 89, 90, 91, 92, 93, 94, 95, 96, 97, 98, 99, 100, 101, 102, 103, 104, 105, 106, 107, 108, 109, 110, 111, 112, 113, 114, 115, 116, 117, 118, 119, 120, 121, 122, 123, 124, 125, 126, 127, 128, 129, 130, 131, 132, 133, 134, 135, 136, 137, 138, 139, 140, 141, 142, 143, 144, 145, 146], \"data\": [[\"mitosheet.sheet call with no params\", \"MyBinder\", \"undefined\", \"Medium\", \"1 (4 hours)\", \"undefined\", \"complete\", 0], [\"mitosheet.sheet with a single data frame\", \"MyBinder\", \"Aaron Diamond-Reivich\", \"High\", \"3 (16 hours)\", \"12 hours\", \"complete\", 0], [\"import csv to empty dataframe\", \"undefined\", \"undefined\", \"Medium\", \"1 (4 hours)\", \"undefined\", \"Sprint\", 0], [\"Creating new Column\", \"MyBinder\", \"Nate Rush\", \"Medium\", \"2 (8 hours)\", \"undefined\", \"complete\", 0], [\"Editing a column\", \"MyBinder\", \"Nate Rush\", \"High\", \"3 (16 hours)\", \"12 hours (to implement)\", \"complete\", 0], [\"Formula bar\", \"MyBinder\", \"Aaron Diamond-Reivich\", \"Low\", \"1 (4 hours)\", \"undefined\", \"complete\", 0], [\"Logging infrastructure\", \"MyBinder\", \"Nate Rush\", \"High\", \"2 (8 hours)\", \"4 hours\", \"complete\", 0], [\"Logging dashboard\", \"MyBinder\", \"Jake DR\", \"Low\", \"2 (8 hours)\", \"undefined\", \"complete\", 0], [\"Manual testing\", \"MyBinder\", \"undefined\", \"High\", \"2 (8 hours)\", \".5 hrs to set up infrastructure\\n? to write tests\", \"complete\", 0], [\"Determine Automatic testing Infrastructure\", \"MyBinder\", \"Nate Rush\", \"Medium\", \"2 (8 hours)\", \"2 hours\", \"complete\", 0], [\"MyBinder deployment\", \"MyBinder\", \"Nate Rush\", \"Low\", \"2 (8 hours)\", \"undefined\", \"complete\", 0], [\"Investigate Automatic Widget Testing\", \"Sprint 2 Formulas\", \"Aaron Diamond-Reivich\", \"High\", \"2 (8 hours)\", \"10 hours\", \"complete\", 0], [\"Add Widget Interaction Tests\", \"Sprint 2 Formulas\", \"undefined\", \"Low\", \"3 (16 hours)\", \"undefined\", \"Sprint\", 0], [\"Fuzz Test the Backend\", \"undefined\", \"undefined\", \"Low\", \"3 (16 hours)\", \"undefined\", \"backlog\", 0], [\"Investigate Formula Parser Implementations\", \"Sprint 2 Formulas\", \"Nate Rush\", \"High\", \"3 (16 hours)\", \"8 Hours\", \"complete\", 0], [\"Implement the Formula Parser\", \"Sprint 2 Formulas\", \"Nate Rush\", \"High\", \"3 (16 hours)\", \"8 hours\", \"complete\", 0], [\"Implement formulas\", \"Sprint 2 Formulas\", \"Nate Rush, Aaron Diamond-Reivich\", \"Medium\", \"3 (16 hours)\", \"undefined\", \"complete\", 0], [\"Implement operators\", \"Sprint 2 Formulas\", \"Nate Rush\", \"Medium\", \"2 (8 hours)\", \"2 hours\", \"complete\", 0], [\"Implement Export to CSV\", \"undefined\", \"undefined\", \"Low\", \"1 (4 hours)\", \"undefined\", \"Sprint\", 0], [\"Implement Automatic Testing for Version Compatability\", \"undefined\", \"undefined\", \"undefined\", \"undefined\", \"undefined\", \"undefined\", 0], [\"Reevaluate deployment mechanisms\", \"Sprint 2 Formulas\", \"Nate Rush\", \"High\", \"3 (16 hours)\", \"4 hours\", \"complete\", 0], [\"Implement deployment mechanism\", \"Sprint 2 Formulas\", \"Aaron Diamond-Reivich, Nate Rush\", \"High\", \"?\", \"undefined\", \"complete\", 0], [\"Implement Mixpanel Dashboards\", \"Sprint 2 Formulas\", \"Jake DR\", \"Low\", \"2 (8 hours)\", \"undefined\", \"complete\", 0], [\"undefined\", \"undefined\", \"undefined\", \"undefined\", \"undefined\", \"undefined\", \"undefined\", 0], [\"Jake's Logging Additions\", \"Sprint 2 Formulas\", \"Jake DR, Nate Rush\", \"undefined\", \"1 (4 hours)\", \"undefined\", \"complete\", 0], [\"Update UI \", \"Sprint 2 Formulas\", \"Aaron Diamond-Reivich\", \"High\", \"1 (4 hours)\", \"1 hour\", \"complete\", 0], [\"Make basic formula parsing more robust\", \"Sprint 2 Formulas\", \"Nate Rush\", \"High\", \"1 (4 hours)\", \".5 hours\", \"complete\", 0], [\"Create marketing goals \", \"Sprint 3 Wild\", \"Jake DR\", \"High\", \"1 (4 hours)\", \"1 hour (we did as a group)\", \"complete\", 0], [\"Users should have accounts on JupyterHub\", \"Sprint 3 Wild\", \"Nate Rush, Aaron Diamond-Reivich\", \"Low\", \"1 (4 hours)\", \"0-1? This was part of other stories.\", \"complete\", 0], [\"JupyterHub instance should be hosted at a subdomain of tryMito\", \"Sprint 3 Wild\", \"Nate Rush, Aaron Diamond-Reivich\", \"Medium\", \"2 (8 hours)\", \"1 hr (not including logs)\", \"complete\", 0], [\"Create Marketing Plan\", \"Sprint 3 Wild\", \"Jake DR\", \"Medium\", \"2 (8 hours)\", \"10 hours\", \"complete\", 0], [\"Spreadsheet formulas should persist throughout the same analysis. \", \"Sprint 3 Wild\", \"Nate Rush\", \"Low\", \"3 (16 hours)\", \"6 hours\", \"complete\", 0], [\"Send visual update to the waiting list \", \"Sprint 3 Wild\", \"undefined\", \"Low\", \"2 (8 hours)\", \"undefined\", \"Sprint\", 0], [\"Add error messages for all errors we currently support. \", \"Sprint 3 Wild\", \"undefined\", \"Medium\", \"1 (4 hours)\", \"3 hours\", \"complete\", 0], [\"Test run referal link \", \"Sprint 3 Wild\", \"undefined\", \"Medium\", \"1 (4 hours)\", \"3 hours\", \"complete\", 0], [\"Export CSV\", \"Sprint 3 Wild\", \"Nate Rush\", \"Low\", \".5 (2 hours)\", \"15 minutes\", \"complete\", 0], [\"Import CSV\", \"undefined\", \"undefined\", \"Low\", \"3 (16 hours)\", \"undefined\", \"Sprint\", 0], [\"Make flow report in Mixpanel\", \"Sprint 2 Formulas\", \"Jake DR\", \"undefined\", \"undefined\", \"undefined\", \"complete\", 0], [\"Formula composition tests\", \"Sprint 3 Wild\", \"Nate Rush\", \"Low\", \"3 (16 hours)\", \"3 hours\", \"complete\", 0], [\"Update sheet data through grid-api in the proper way\", \"undefined\", \"undefined\", \"undefined\", \"undefined\", \"undefined\", \"backlog\", 0], [\"Create a Github Action for linting mito\", \"Sprint 2 Formulas\", \"undefined\", \"undefined\", \"undefined\", \"undefined\", \"Sprint\", 0], [\"Support named dataframes other than df\", \"Sprint 3 Wild\", \"Nate Rush\", \"Low\", \"1 (4 hours)\", \"10 minutes\", \"complete\", 0], [\"Support for non-alphabetic column names\", \"Sprint 3 Wild\", \"Nate Rush\", \"Low\", \"1 (4 hours)\", \"2.5 hours\", \"complete\", 0], [\"mitosheet.sheet call with no params\", \"undefined\", \"undefined\", \"Medium\", \"2 (8 hours)\", \"undefined\", \"Sprint\", 0], [\"Error message popup looks nicer + tells you more. \", \"Sprint 3 Wild\", \"Nate Rush\", \"High\", \"2 (8 hours)\", \"~2 hours\", \"complete\", 0], [\"Do a data analysis on the Mito Survey results\", \"Sprint 3 Wild\", \"undefined\", \"Low\", \"2 (8 hours)\", \"undefined\", \"in progress\", 0], [\"Analysis redesign ideation\", \"undefined\", \"undefined\", \"Low\", \"2 (8 hours)\", \"undefined\", \"Sprint\", 0], [\"Written documentation for all the formulas.\", \"Sprint 3 Wild\", \"Nate Rush\", \"Medium\", \"3 (16 hours)\", \"2 hours\", \"complete\", 0], [\"Update Mito Survey\", \"Sprint 3 Wild\", \"Jake DR\", \"Medium\", \"1 (4 hours)\", \"1.5 hours\", \"complete\", 0], [\"Turn analysis into function\", \"Sprint 3 Wild\", \"Nate Rush\", \"High\", \"2 (8 hours)\", \"30 minutes\", \"complete\", 0], [\"Create launch strategy\", \"Sprint 3 Wild\", \"Nate Rush, Aaron Diamond-Reivich, Jake DR\", \"High\", \"2 (8 hours)\", \"12\", \"complete\", 0], [\"Formula syntax placeholder Ideation\", \"undefined\", \"undefined\", \"High\", \"2 (8 hours)\", \"undefined\", \"Sprint\", 0], [\"Create new user testing plan\", \"Sprint 3 Wild\", \"Jake DR\", \"High\", \"3 (16 hours)\", \"4\", \"complete\", 0], [\"Investigate backups\", \"undefined\", \"undefined\", \"Low\", \"2 (8 hours)\", \"undefined\", \"Sprint\", 0], [\"Formula syntax placeholder Implementation\", \"undefined\", \"undefined\", \"Low\", \"1 (4 hours)\", \"undefined\", \"Sprint\", 0], [\"Implement backups\", \"undefined\", \"undefined\", \"Low\", \"2 (8 hours)\", \"undefined\", \"Sprint\", 0], [\"Use logs to figure out what functions we should include\", \"Sprint 3 Wild\", \"undefined\", \"Medium\", \"1 (4 hours)\", \"undefined\", \"Sprint\", 0], [\"Cell selection via clicking technical exploration\", \"Sprint 3 Wild\", \"Aaron Diamond-Reivich\", \"High\", \"2 (8 hours)\", \"2.5 hours\", \"complete\", 0], [\"Cell selection via clicking implementation\", \"Sprint 3 Wild\", \"Aaron Diamond-Reivich\", \"Low\", \"1 (4 hours)\", \"16 hours\", \"complete\", 0], [\"Write the first Mito technical blog post \", \"Sprint 3 Wild\", \"Nate Rush\", \"Low\", \"1 (4 hours)\", \"4.5 hours\", \"in progress\", 0], [\"Create admin-manual for TheLittlestJupyterHub\", \"Sprint 3 Wild\", \"Nate Rush\", \"High\", \"3 (16 hours)\", \"8 hours\", \"complete\", 0], [\"Fix formula parser to handle edge cases \", \"Sprint 3 Wild\", \"Nate Rush\", \"Low\", \"1 (4 hours)\", \".5 hours\", \"complete\", 0], [\"Update Formula Bar CSS\", \"Sprint 3 Wild\", \"Aaron Diamond-Reivich\", \"High\", \".5 (2 hours)\", \"1 hour\", \"complete\", 0], [\"CSS + placement of toolbar\", \"Sprint 3 Wild\", \"Aaron Diamond-Reivich\", \"High\", \".5 (2 hours)\", \"4 hours (webpack issues + start & stop due to storage being full)\", \"complete\", 0], [\"Add Mito Logo to sheet\", \"Sprint 3 Wild\", \"undefined\", \"Low\", \".5 (2 hours)\", \"undefined\", \"Sprint\", 0], [\"AWS Class\", \"Sprint 3 Wild\", \"undefined\", \"Medium\", \"2 (8 hours)\", \"undefined\", \"in progress\", 0], [\"Manual test suite of Mito in a variety of situations (in workbooks).\", \"Sprint 3 Wild\", \"Nate Rush\", \"Low\", \"2 (8 hours)\", \"1.5 hours\", \"in progress\", 0], [\"In-app help + documentation.\", \"Sprint 3 Wild\", \"Nate Rush\", \"Medium\", \"2 (8 hours)\", \"4 hours\", \"complete\", 0], [\"Investigate and multiple-use bug\", \"Sprint 3 Wild\", \"undefined\", \"High\", \"3 (16 hours)\", \"2 hours\", \"complete\", 0], [\"Add ability to pass file name to sheet function\", \"undefined\", \"undefined\", \"Low\", \"2 (8 hours)\", \"undefined\", \"backlog\", 0], [\"Add logging on buttons\", \"undefined\", \"undefined\", \"Low\", \".5 (2 hours)\", \"undefined\", \"backlog\", 0], [\"Send server logs to segment\", \"undefined\", \"undefined\", \"Low\", \"2 (8 hours)\", \"undefined\", \"backlog\", 0], [\"Popup documentation when writing formulas\", \"undefined\", \"undefined\", \"Low\", \"2 (8 hours)\", \"undefined\", \"backlog\", 0], [\"Auto-suggest formulas/columns when typing\", \"undefined\", \"undefined\", \"Low\", \"2 (8 hours)\", \"undefined\", \"backlog\", 0], [\"Standarize error conditions on sheet functions\", \"undefined\", \"undefined\", \"Low\", \"3 (16 hours)\", \"undefined\", \"backlog\", 0], [\"Create checklist of what we need to do before live link \", \"undefined\", \"undefined\", \"Low\", \"undefined\", \"undefined\", \"backlog\", 0], [\"Ideation on column identifier\", \"undefined\", \"undefined\", \"Low\", \"1 (4 hours)\", \"undefined\", \"backlog\", 0], [\"Investigate CSS issue with webpack\", \"undefined\", \"undefined\", \"High\", \"2 (8 hours)\", \"undefined\", \"backlog\", 0], [\"Fuzzy matching ideation\", \"undefined\", \"undefined\", \"Low\", \"2 (8 hours)\", \"undefined\", \"backlog\", 0], [\"Display current address next to formula bar\", \"undefined\", \"undefined\", \"Low\", \".5 (2 hours)\", \"undefined\", \"backlog\", 0], [\"Redesign toolbar buttons\", \"Go 4 Launch\", \"Aaron Diamond-Reivich\", \"Low\", \"1 (4 hours)\", \"2 hours\", \"complete\", 0], [\"Add basic examples to documentation\", \"Go 4 Launch\", \"undefined\", \"Low\", \"2 (8 hours)\", \"undefined\", \"Sprint\", 0], [\"Make formula bar longer\", \"Go 4 Launch\", \"undefined\", \"Low\", \".5 (2 hours)\", \"undefined\", \"Sprint\", 0], [\"Error cleanup + UX improvements\", \"Go 4 Launch\", \"Aaron Diamond-Reivich\", \"Low\", \"1 (4 hours)\", \".25 hours\", \"in progress\", 0], [\"Documentation UX cleanup\", \"Go 4 Launch\", \"undefined\", \"Low\", \"1 (4 hours)\", \"undefined\", \"Sprint\", 0], [\"Standardize function names\", \"Go 4 Launch\", \"undefined\", \"Low\", \".5 (2 hours)\", \"undefined\", \"Sprint\", 0], [\"Support colon syntax\", \"Go 4 Launch\", \"undefined\", \"Low\", \"1 (4 hours)\", \"undefined\", \"Sprint\", 0], [\"Make cell editor display current formula when you start re-editing\", \"undefined\", \"undefined\", \"Low\", \"1 (4 hours)\", \"undefined\", \"backlog\", 0], [\"Ideation on detecting unmatched parens\", \"undefined\", \"undefined\", \"High\", \"1 (4 hours)\", \"undefined\", \"backlog\", 0], [\"Implement unmatched parens \", \"undefined\", \"undefined\", \"Low\", \"2 (8 hours)\", \"undefined\", \"backlog\", 0], [\"Design sprint on the cell editor\", \"Go 4 Launch\", \"Nate Rush\", \"High\", \"2 (8 hours)\", \"2 hours (first time)\", \"in progress\", 0], [\"Implement newly designed cell editor\", \"Go 4 Launch\", \"undefined\", \"Low\", \"3 (16 hours)\", \"undefined\", \"Sprint\", 0], [\"Add round functions\", \"undefined\", \"undefined\", \"Low\", \"1 (4 hours)\", \"undefined\", \"backlog\", 0], [\"Design sprint on date usage\", \"undefined\", \"undefined\", \"High\", \"2 (8 hours)\", \"undefined\", \"backlog\", 0], [\"Implement date usage specification\", \"undefined\", \"undefined\", \"Low\", \"2 (8 hours)\", \"undefined\", \"backlog\", 0], [\"Add more functions\", \"undefined\", \"undefined\", \"Low\", \"2 (8 hours)\", \"undefined\", \"backlog\", 0], [\"Allow mulitple sheets to be passed to mitosheet.sheet call\", \"undefined\", \"undefined\", \"High\", \"2 (8 hours)\", \"undefined\", \"backlog\", 0], [\"Ideation on matching across mulitple sheets\", \"undefined\", \"undefined\", \"High\", \"2 (8 hours)\", \"undefined\", \"backlog\", 0], [\"Implement cross-sheet matching in specification\", \"undefined\", \"undefined\", \"Low\", \"3 (16 hours)\", \"undefined\", \"backlog\", 0], [\"Implement find and replace\", \"undefined\", \"undefined\", \"Low\", \"3 (16 hours)\", \"undefined\", \"backlog\", 0], [\"Implement filter\", \"undefined\", \"undefined\", \"Low\", \"3 (16 hours)\", \"undefined\", \"backlog\", 0], [\"Ideation on handling programming models introduced by filter\", \"undefined\", \"undefined\", \"High\", \"3 (16 hours)\", \"undefined\", \"backlog\", 0], [\"Make Data Aggregation and Analyses google sheet\", \"undefined\", \"undefined\", \"Medium\", \"2 (8 hours)\", \"undefined\", \"backlog\", 0], [\"Build mixpanel to pipeline google sheet integration\", \"undefined\", \"undefined\", \"Low\", \"1 (4 hours)\", \"undefined\", \"backlog\", 0], [\"schedule onboarding calls\", \"undefined\", \"undefined\", \"High\", \"2 (8 hours)\", \"undefined\", \"backlog\", 0], [\"Set-up 5 welcome calls for the week\", \"undefined\", \"undefined\", \"High\", \"2 (8 hours)\", \"undefined\", \"backlog\", 0], [\"provide visual update to waiting list\", \"undefined\", \"undefined\", \"High\", \"2 (8 hours)\", \"undefined\", \"backlog\", 0], [\"Pre-write 7 tweets for the week\", \"undefined\", \"undefined\", \"High\", \"1 (4 hours)\", \"undefined\", \"backlog\", 0], [\"Post in 2 forums each day\", \"undefined\", \"undefined\", \"High\", \"2 (8 hours)\", \"undefined\", \"backlog\", 0], [\"Make linkedIN posts and DM people\", \"undefined\", \"undefined\", \"Low\", \"1 (4 hours)\", \"undefined\", \"backlog\", 0], [\"Make sure logs are getting our desired info\", \"undefined\", \"undefined\", \"High\", \"2 (8 hours)\", \"undefined\", \"backlog\", 0], [\"Create the notebooks and materials for onboarding plans\", \"Go 4 Launch\", \"undefined\", \"undefined\", \"undefined\", \"undefined\", \"Sprint\", 0], [\"Finalize Drip Sequence Plan\", \"Go 4 Launch\", \"undefined\", \"High\", \"undefined\", \"undefined\", \"Sprint\", 0], [\"Schedule onboarding calls\", \"Go 4 Launch\", \"undefined\", \"undefined\", \"undefined\", \"undefined\", \"Sprint\", 0], [\"Develop hypothesis that we have about user's behavior and see if we can answer them given existing data infrastructure\", \"Go 4 Launch\", \"undefined\", \"Medium\", \"2 (8 hours)\", \"undefined\", \"Sprint\", 0], [\"Create plan for group testing sessions\", \"Go 4 Launch\", \"Nate Rush\", \"High\", \".5 (2 hours)\", \"30 minutes\", \"complete\", 0], [\"Conduct group testing sessions\", \"Go 4 Launch\", \"undefined\", \"Low\", \"1 (4 hours)\", \"undefined\", \"Sprint\", 0], [\"Create plan for battle day\", \"Go 4 Launch\", \"Nate Rush\", \"High\", \".5 (2 hours)\", \"1.5 hour\", \"complete\", 0], [\"Conduct battle day\", \"Go 4 Launch\", \"undefined\", \"Low\", \"2 (8 hours)\", \"undefined\", \"Sprint\", 0], [\"Deploy servers \", \"Go 4 Launch\", \"undefined\", \"High\", \"1 (4 hours)\", \"undefined\", \"Sprint\", 0], [\"Server backups\", \"Go 4 Launch\", \"Nate Rush\", \"High\", \"2 (8 hours)\", \"30 minutes (so far)\", \"in progress\", 0], [\"Create user metrics and marketing metrics google sheet\", \"Go 4 Launch\", \"undefined\", \"High\", \"1 (4 hours)\", \"undefined\", \"Sprint\", 0], [\"Create user data policy \", \"Go 4 Launch\", \"undefined\", \"Low\", \"1 (4 hours)\", \"undefined\", \"Sprint\", 0], [\"Make a mito customer service email account\", \"Go 4 Launch\", \"undefined\", \"Medium\", \".5 (2 hours)\", \"undefined\", \"Sprint\", 0], [\"Welcome Calls\", \"Go 4 Launch\", \"undefined\", \"High\", \"undefined\", \"undefined\", \"Sprint\", 0], [\"Life cycle ideation\", \"Go 4 Launch\", \"Nate Rush\", \"High\", \"2 (8 hours)\", \"undefined\", \"in progress\", 0], [\"Implement new lifecycle\", \"Go 4 Launch\", \"undefined\", \"Low\", \"3 (16 hours)\", \"undefined\", \"Sprint\", 0], [\"Forum Posts\", \"Go 4 Launch\", \"undefined\", \"High\", \"1 (4 hours)\", \"undefined\", \"Sprint\", 0], [\"Linkedin Posts/Messaging\", \"Go 4 Launch\", \"undefined\", \"High\", \"undefined\", \"undefined\", \"Sprint\", 0], [\"Make mockup of current app\", \"Go 4 Launch\", \"Nate Rush\", \"High\", \"1 (4 hours)\", \".5 hours\", \"complete\", 0], [\"Make mito sheet match UI current mockup\", \"Go 4 Launch\", \"undefined\", \"Low\", \"1 (4 hours)\", \"undefined\", \"Sprint\", 0], [\"Weekly Waiting List update\", \"Go 4 Launch\", \"undefined\", \"High\", \"undefined\", \"undefined\", \"Sprint\", 0], [\"Standardize Function Names\", \"Go 4 Launch\", \"undefined\", \"Low\", \".5 (2 hours)\", \"undefined\", \"Sprint\", 0], [\"Finalize initial list of people to onboard\", \"Go 4 Launch\", \"undefined\", \"High\", \".5 (2 hours)\", \"undefined\", \"Sprint\", 0], [\"Define release process for app\", \"Go 4 Launch\", \"Nate Rush\", \"High\", \"1 (4 hours)\", \"1 hour\", \"complete\", 0], [\"Update user testing plan for welcome calls\", \"Go 4 Launch\", \"undefined\", \"High\", \"1 (4 hours)\", \"undefined\", \"Sprint\", 0], [\"Setup Marketing email infrastructure\", \"Go 4 Launch\", \"Nate Rush\", \"High\", \"2 (8 hours)\", \"undefined\", \"in progress\", 0], [\"Implement the software scheduler\", \"Go 4 Launch\", \"undefined\", \"Medium\", \"1 (4 hours)\", \"undefined\", \"Sprint\", 0], [\"Figure out user data policy\", \"undefined\", \"undefined\", \"undefined\", \"undefined\", \"undefined\", \"Sprint\", 0], [\"Add linting to GitHub\", \"Go 4 Launch, Sprint 3 Wild\", \"Aaron Diamond-Reivich\", \"undefined\", \".5 (2 hours)\", \"2.5 hours\", \"complete\", 0], [\"Update Error Screen to detect A1 formatting and provide correct Syntax\", \"Sprint 3 Wild\", \"Nate Rush\", \"High\", \"1 (4 hours)\", \"30 minutes\", \"complete\", 0], [\"Repeat analysis button\", \"Sprint 3 Wild\", \"Nate Rush\", \"High\", \"1 (4 hours)\", \"2 hours\", \"complete\", 0], [\"undefined\", \"undefined\", \"undefined\", \"undefined\", \"undefined\", \"undefined\", \"undefined\", 0], [\"Type handling in sheet functions ideation\", \"Go 4 Launch\", \"undefined\", \"High\", \"2 (8 hours)\", \"undefined\", \"Sprint\", 0], [\"Column header cap. bug\", \"Go 4 Launch\", \"Nate Rush\", \"Low\", \".5 (2 hours)\", \"20 minutes\", \"in progress\", 0], [\"Investor updates?\", \"Go 4 Launch\", \"undefined\", \"undefined\", \"undefined\", \"undefined\", \"backlog\", 0], [\"Fix bug in export with column indexes being included\", \"Go 4 Launch\", \"undefined\", \"undefined\", \"undefined\", \"undefined\", \"backlog\", 0]]}",
       "user_id": "nate",
       "value": "Hello World"
      }
     },
     "3e73682b33554e2f9e671c3fd8b75825": {
      "model_module": "@jupyter-widgets/base",
      "model_module_version": "1.2.0",
      "model_name": "LayoutModel",
      "state": {}
     },
     "443098a15d694eefaf1fa4c721139870": {
      "model_module": "mitosheet",
      "model_module_version": "^0.1.22",
      "model_name": "ExampleModel",
      "state": {
       "_model_module_version": "^0.1.22",
       "_view_module_version": "^0.1.22",
       "code_json": "{\"code\": \"0\"}",
       "column_spreadsheet_code_json": "{\"A\": \"\", \"B\": \"=AVG(A)\"}",
       "df_name": "",
       "layout": "IPY_MODEL_834f50bdc2fa43eab09ad68f799621a1",
       "sheet_json": "{\"columns\": [\"A\", \"B\"], \"index\": [0], \"data\": [[123, 123.0]]}",
       "user_id": "nate",
       "value": "Hello World"
      }
     },
     "46556e621d614bf8aa040989e8df854c": {
      "model_module": "@jupyter-widgets/base",
      "model_module_version": "1.2.0",
      "model_name": "LayoutModel",
      "state": {}
     },
     "4688174c2baf434286797d055612fb00": {
      "model_module": "@jupyter-widgets/base",
      "model_module_version": "1.2.0",
      "model_name": "LayoutModel",
      "state": {}
     },
     "499c5a1d54ba483da27c05f94430f80f": {
      "model_module": "@jupyter-widgets/base",
      "model_module_version": "1.2.0",
      "model_name": "LayoutModel",
      "state": {}
     },
     "4da70a3414a445e294493c898d559eb3": {
      "model_module": "@jupyter-widgets/base",
      "model_module_version": "1.2.0",
      "model_name": "LayoutModel",
      "state": {}
     },
     "51be03e868844d8181d06a359151e345": {
      "model_module": "mitosheet",
      "model_module_version": "^0.1.22",
      "model_name": "ExampleModel",
      "state": {
       "_model_module_version": "^0.1.22",
       "_view_module_version": "^0.1.22",
       "code_json": "{\"code\": \"0\"}",
       "column_spreadsheet_code_json": "{\"A\": \"\", \"B\": \"=AVG(A)\"}",
       "df_name": "",
       "layout": "IPY_MODEL_499c5a1d54ba483da27c05f94430f80f",
       "sheet_json": "{\"columns\": [\"A\", \"B\"], \"index\": [0], \"data\": [[123, 123.0]]}",
       "user_id": "nate",
       "value": "Hello World"
      }
     },
     "567d044643cb474196624abc74fd3c7c": {
      "model_module": "mitosheet",
      "model_module_version": "^0.1.22",
      "model_name": "ExampleModel",
      "state": {
       "_model_module_version": "^0.1.22",
       "_view_module_version": "^0.1.22",
       "code_json": "{\"imports\": \"from mitosheet import AVG,CLEAN,CONCATENATE,FIND,LEFT,LEN,LOWER,MID,MULTIPLY,PROPER,RIGHT,SUBSTITUTE,SUM,TRIM,UPPER\", \"code\": [\"df['B'] = AVG(df['A'])\"]}",
       "column_spreadsheet_code_json": "{\"A\": \"\", \"B\": \"=AVG(A)\"}",
       "df_name": "",
       "layout": "IPY_MODEL_6b9e81fb3c0a4bed9d6a8f43f639cbe6",
       "sheet_json": "{\"columns\": [\"A\", \"B\"], \"index\": [0], \"data\": [[123, 123.0]]}",
       "user_id": "nate",
       "value": "Hello World"
      }
     },
     "5971435850d1460eab1b005c089cee18": {
      "model_module": "mitosheet",
      "model_module_version": "^0.1.22",
      "model_name": "ExampleModel",
      "state": {
       "_model_module_version": "^0.1.22",
       "_view_module_version": "^0.1.22",
       "code_json": "{\"code\": \"0\"}",
       "column_spreadsheet_code_json": "{\"A\": \"\", \"B\": \"=AVG(A)\"}",
       "df_name": "",
       "layout": "IPY_MODEL_69afcc72f8214fe1add2d3bdfe7ddf03",
       "sheet_json": "{\"columns\": [\"A\", \"B\"], \"index\": [0], \"data\": [[123, 123.0]]}",
       "user_id": "nate",
       "value": "Hello World"
      }
     },
     "5c002de1497145a78108296aae8f785f": {
      "model_module": "@jupyter-widgets/base",
      "model_module_version": "1.2.0",
      "model_name": "LayoutModel",
      "state": {}
     },
     "5c5fe2e15f1e4372afbfa19c1e0339b6": {
      "model_module": "@jupyter-widgets/base",
      "model_module_version": "1.2.0",
      "model_name": "LayoutModel",
      "state": {}
     },
     "644c921b3a6b45b9a656c5794c30c888": {
      "model_module": "mitosheet",
      "model_module_version": "^0.1.22",
      "model_name": "ExampleModel",
      "state": {
       "_model_module_version": "^0.1.22",
       "_view_module_version": "^0.1.22",
       "code_json": "{\"code\": \"0\"}",
       "column_spreadsheet_code_json": "{\"A\": \"\", \"B\": \"=AVG(A)\"}",
       "df_name": "",
       "layout": "IPY_MODEL_7a5248fc669c4934aa51108fee35b68c",
       "sheet_json": "{\"columns\": [\"A\", \"B\"], \"index\": [0], \"data\": [[123, 123.0]]}",
       "user_id": "nate",
       "value": "Hello World"
      }
     },
     "664d44094f1f47229f9124f781935076": {
      "model_module": "@jupyter-widgets/base",
      "model_module_version": "1.2.0",
      "model_name": "LayoutModel",
      "state": {}
     },
     "69afcc72f8214fe1add2d3bdfe7ddf03": {
      "model_module": "@jupyter-widgets/base",
      "model_module_version": "1.2.0",
      "model_name": "LayoutModel",
      "state": {}
     },
     "6b9e81fb3c0a4bed9d6a8f43f639cbe6": {
      "model_module": "@jupyter-widgets/base",
      "model_module_version": "1.2.0",
      "model_name": "LayoutModel",
      "state": {}
     },
     "6e5f2650c42b4f22be13127c3ef962a3": {
      "model_module": "mitosheet",
      "model_module_version": "^0.1.22",
      "model_name": "ExampleModel",
      "state": {
       "_model_module_version": "^0.1.22",
       "_view_module_version": "^0.1.22",
       "code_json": "{\"imports\": \"from mitosheet import AVG,CLEAN,CONCATENATE,FIND,LEFT,LEN,LOWER,MID,MULTIPLY,PROPER,RIGHT,SUBSTITUTE,SUM,TRIM,UPPER\", \"code\": [\"df['B'] = AVG(df['A'])\"]}",
       "column_spreadsheet_code_json": "{\"A\": \"\", \"B\": \"=AVG(A)\"}",
       "df_name": "",
       "layout": "IPY_MODEL_06d1069b2eeb4ec18e8bcfcef524d35e",
       "sheet_json": "{\"columns\": [\"A\", \"B\"], \"index\": [0], \"data\": [[123, 123.0]]}",
       "user_id": "nate",
       "value": "Hello World"
      }
     },
     "6eea76ea097241b7bbf4a9d24d0abe1d": {
      "model_module": "mitosheet",
      "model_module_version": "^0.1.22",
      "model_name": "ExampleModel",
      "state": {
       "_model_module_version": "^0.1.22",
       "_view_module_version": "^0.1.22",
       "code_json": "{\"imports\": \"from mitosheet import AVG,CLEAN,CONCATENATE,FIND,LEFT,LEN,LOWER,MID,MULTIPLY,PROPER,RIGHT,SUBSTITUTE,SUM,TRIM,UPPER\", \"code\": [\"df['B'] = AVG(df['A'])\"]}",
       "column_spreadsheet_code_json": "{\"A\": \"\", \"B\": \"=AVG(A)\"}",
       "df_name": "",
       "layout": "IPY_MODEL_96e2e5ec4c8b464e98a569799bcea791",
       "sheet_json": "{\"columns\": [\"A\", \"B\"], \"index\": [0], \"data\": [[123, 123.0]]}",
       "user_id": "nate",
       "value": "Hello World"
      }
     },
     "6f5cce67167d4905a367f400b1cb9e04": {
      "model_module": "mitosheet",
      "model_module_version": "^0.1.22",
      "model_name": "ExampleModel",
      "state": {
       "_model_module_version": "^0.1.22",
       "_view_module_version": "^0.1.22",
       "code_json": "{\"code\": \"0\"}",
       "column_spreadsheet_code_json": "{\"A\": \"\", \"C\": \"=0\", \"B\": \"=AVG(A)\"}",
       "df_name": "",
       "layout": "IPY_MODEL_f37e560f15ef416c8e0ebd42264da6e6",
       "sheet_json": "{\"columns\": [\"A\", \"C\", \"B\"], \"index\": [0], \"data\": [[123, 0, 123.0]]}",
       "user_id": "nate",
       "value": "Hello World"
      }
     },
     "7a5248fc669c4934aa51108fee35b68c": {
      "model_module": "@jupyter-widgets/base",
      "model_module_version": "1.2.0",
      "model_name": "LayoutModel",
      "state": {}
     },
     "7a78bd5ca7aa43c1a1993d5e46a7ad36": {
      "model_module": "@jupyter-widgets/base",
      "model_module_version": "1.2.0",
      "model_name": "LayoutModel",
      "state": {}
     },
     "7b464a8c06f44281b8326343054cda2c": {
      "model_module": "mitosheet",
      "model_module_version": "^0.1.22",
      "model_name": "ExampleModel",
      "state": {
       "_model_module_version": "^0.1.22",
       "_view_module_version": "^0.1.22",
       "code_json": "{\"code\": \"0\"}",
       "column_spreadsheet_code_json": "{\"A\": \"\", \"C\": \"=0\", \"B\": \"=AVG(A)\"}",
       "df_name": "",
       "layout": "IPY_MODEL_c1f040f637d54d67898fb2e1cd4d7091",
       "sheet_json": "{\"columns\": [\"A\", \"C\", \"B\"], \"index\": [0], \"data\": [[123, 0, 123.0]]}",
       "user_id": "nate",
       "value": "Hello World"
      }
     },
     "7bfc601b4fb94cb1b79516305ae84ed2": {
      "model_module": "mitosheet",
      "model_module_version": "^0.1.22",
      "model_name": "ExampleModel",
      "state": {
       "_model_module_version": "^0.1.22",
       "_view_module_version": "^0.1.22",
       "code_json": "{\"code\": \"0\"}",
       "column_spreadsheet_code_json": "{\"A\": \"\", \"C\": \"=0\", \"B\": \"=AVG(A)\"}",
       "df_name": "",
       "layout": "IPY_MODEL_ac54921c87574b97b957f4f1988cabd9",
       "sheet_json": "{\"columns\": [\"A\", \"C\", \"B\"], \"index\": [0], \"data\": [[123, 0, 123.0]]}",
       "user_id": "nate",
       "value": "Hello World"
      }
     },
     "80f0b2d4e86c4ce5a08353b3d13b1e83": {
      "model_module": "mitosheet",
      "model_module_version": "^0.1.22",
      "model_name": "ExampleModel",
      "state": {
       "_model_module_version": "^0.1.22",
       "_view_module_version": "^0.1.22",
       "code_json": "{\"code\": \"0\"}",
       "column_spreadsheet_code_json": "{\"A\": \"\", \"B\": \"=AVG(A, 1)\"}",
       "df_name": "",
       "layout": "IPY_MODEL_5c5fe2e15f1e4372afbfa19c1e0339b6",
       "sheet_json": "{\"columns\": [\"A\", \"B\"], \"index\": [0], \"data\": [[123, 62.0]]}",
       "user_id": "nate",
       "value": "Hello World"
      }
     },
     "81c01b1455124034affa79e0d7595ab1": {
      "model_module": "@jupyter-widgets/base",
      "model_module_version": "1.2.0",
      "model_name": "LayoutModel",
      "state": {}
     },
     "834f50bdc2fa43eab09ad68f799621a1": {
      "model_module": "@jupyter-widgets/base",
      "model_module_version": "1.2.0",
      "model_name": "LayoutModel",
      "state": {}
     },
     "836717f7bb86422abafe5512c9b9e589": {
      "model_module": "mitosheet",
      "model_module_version": "^0.1.22",
      "model_name": "ExampleModel",
      "state": {
       "_model_module_version": "^0.1.22",
       "_view_module_version": "^0.1.22",
       "code_json": "{\"code\": \"0\"}",
       "column_spreadsheet_code_json": "{\"A\": \"\", \"C\": \"=0\", \"B\": \"=AVG(A)\"}",
       "df_name": "",
       "layout": "IPY_MODEL_ff10a7c4571043dcadfbc68b47ca31f2",
       "sheet_json": "{\"columns\": [\"A\", \"C\", \"B\"], \"index\": [0], \"data\": [[123, 0, 123.0]]}",
       "user_id": "nate",
       "value": "Hello World"
      }
     },
     "8549fc9132a249e4b4d2c006944dd323": {
      "model_module": "mitosheet",
      "model_module_version": "^0.1.22",
      "model_name": "ExampleModel",
      "state": {
       "_model_module_version": "^0.1.22",
       "_view_module_version": "^0.1.22",
       "code_json": "{\"imports\": \"from mitosheet import AVG,CLEAN,CONCATENATE,FIND,LEFT,LEN,LOWER,MID,MULTIPLY,PROPER,RIGHT,SUBSTITUTE,SUM,TRIM,UPPER\", \"code\": [\"df['F'] = 0\", \"df['H'] = MID(df['Points'], FIND(df['Points'], \\\"(\\\"), FIND(df['Points'], \\\")\\\"))\"]}",
       "column_spreadsheet_code_json": "{\"Story\": \"\", \"Points\": \"\", \"actual_time\": \"\", \"State\": \"\", \"H\": \"=MID(Points, FIND(Points, \\\"(\\\"), FIND(Points, \\\")\\\"))\", \"F\": \"=0\"}",
       "df_name": "df",
       "layout": "IPY_MODEL_9d5165ead318442f85be342694611b5c",
       "sheet_json": "{\"columns\": [\"Story\", \"Points\", \"actual_time\", \"State\", \"H\", \"F\"], \"index\": [0, 1, 2, 3, 4, 5, 6, 7, 8, 9, 10, 11, 12, 13, 14, 15, 16, 17, 18, 19, 20, 21, 22, 23, 24, 25, 26, 27, 28, 29, 30, 31, 32, 33, 34, 35, 36, 37, 38, 39, 40, 41, 42, 43, 44, 45, 46, 47, 48, 49, 50, 51, 52, 53, 54, 55, 56, 57, 58, 59, 60, 61, 62, 63, 64, 65, 66, 67, 68, 69, 70, 71, 72, 73, 74, 75, 76, 77, 78, 79, 80, 81, 82, 83, 84, 85, 86, 87, 88, 89, 90, 91, 92, 93, 94, 95, 96, 97, 98, 99, 100, 101, 102, 103, 104, 105, 106, 107, 108, 109, 110, 111, 112, 113, 114, 115, 116, 117, 118, 119, 120, 121, 122, 123, 124, 125, 126, 127, 128, 129, 130, 131, 132, 133, 134, 135, 136, 137, 138, 139, 140, 141, 142, 143, 144, 145, 146], \"data\": [[\"mitosheet.sheet call with no params\", \"1 (4 hours)\", \"undefined\", \"complete\", \"(4 hours)\", 0], [\"mitosheet.sheet with a single data frame\", \"3 (16 hours)\", \"12 hours\", \"complete\", \"(16 hours)\", 0], [\"import csv to empty dataframe\", \"1 (4 hours)\", \"undefined\", \"Sprint\", \"(4 hours)\", 0], [\"Creating new Column\", \"2 (8 hours)\", \"undefined\", \"complete\", \"(8 hours)\", 0], [\"Editing a column\", \"3 (16 hours)\", \"12 hours (to implement)\", \"complete\", \"(16 hours)\", 0], [\"Formula bar\", \"1 (4 hours)\", \"undefined\", \"complete\", \"(4 hours)\", 0], [\"Logging infrastructure\", \"2 (8 hours)\", \"4 hours\", \"complete\", \"(8 hours)\", 0], [\"Logging dashboard\", \"2 (8 hours)\", \"undefined\", \"complete\", \"(8 hours)\", 0], [\"Manual testing\", \"2 (8 hours)\", \".5 hrs to set up infrastructure\\n? to write tests\", \"complete\", \"(8 hours)\", 0], [\"Determine Automatic testing Infrastructure\", \"2 (8 hours)\", \"2 hours\", \"complete\", \"(8 hours)\", 0], [\"MyBinder deployment\", \"2 (8 hours)\", \"undefined\", \"complete\", \"(8 hours)\", 0], [\"Investigate Automatic Widget Testing\", \"2 (8 hours)\", \"10 hours\", \"complete\", \"(8 hours)\", 0], [\"Add Widget Interaction Tests\", \"3 (16 hours)\", \"undefined\", \"Sprint\", \"(16 hours)\", 0], [\"Fuzz Test the Backend\", \"3 (16 hours)\", \"undefined\", \"backlog\", \"(16 hours)\", 0], [\"Investigate Formula Parser Implementations\", \"3 (16 hours)\", \"8 Hours\", \"complete\", \"(16 hours)\", 0], [\"Implement the Formula Parser\", \"3 (16 hours)\", \"8 hours\", \"complete\", \"(16 hours)\", 0], [\"Implement formulas\", \"3 (16 hours)\", \"undefined\", \"complete\", \"(16 hours)\", 0], [\"Implement operators\", \"2 (8 hours)\", \"2 hours\", \"complete\", \"(8 hours)\", 0], [\"Implement Export to CSV\", \"1 (4 hours)\", \"undefined\", \"Sprint\", \"(4 hours)\", 0], [\"Implement Automatic Testing for Version Compatability\", \"undefined\", \"undefined\", \"undefined\", \"\", 0], [\"Reevaluate deployment mechanisms\", \"3 (16 hours)\", \"4 hours\", \"complete\", \"(16 hours)\", 0], [\"Implement deployment mechanism\", \"?\", \"undefined\", \"complete\", \"\", 0], [\"Implement Mixpanel Dashboards\", \"2 (8 hours)\", \"undefined\", \"complete\", \"(8 hours)\", 0], [\"undefined\", \"undefined\", \"undefined\", \"undefined\", \"\", 0], [\"Jake's Logging Additions\", \"1 (4 hours)\", \"undefined\", \"complete\", \"(4 hours)\", 0], [\"Update UI \", \"1 (4 hours)\", \"1 hour\", \"complete\", \"(4 hours)\", 0], [\"Make basic formula parsing more robust\", \"1 (4 hours)\", \".5 hours\", \"complete\", \"(4 hours)\", 0], [\"Create marketing goals \", \"1 (4 hours)\", \"1 hour (we did as a group)\", \"complete\", \"(4 hours)\", 0], [\"Users should have accounts on JupyterHub\", \"1 (4 hours)\", \"0-1? This was part of other stories.\", \"complete\", \"(4 hours)\", 0], [\"JupyterHub instance should be hosted at a subdomain of tryMito\", \"2 (8 hours)\", \"1 hr (not including logs)\", \"complete\", \"(8 hours)\", 0], [\"Create Marketing Plan\", \"2 (8 hours)\", \"10 hours\", \"complete\", \"(8 hours)\", 0], [\"Spreadsheet formulas should persist throughout the same analysis. \", \"3 (16 hours)\", \"6 hours\", \"complete\", \"(16 hours)\", 0], [\"Send visual update to the waiting list \", \"2 (8 hours)\", \"undefined\", \"Sprint\", \"(8 hours)\", 0], [\"Add error messages for all errors we currently support. \", \"1 (4 hours)\", \"3 hours\", \"complete\", \"(4 hours)\", 0], [\"Test run referal link \", \"1 (4 hours)\", \"3 hours\", \"complete\", \"(4 hours)\", 0], [\"Export CSV\", \".5 (2 hours)\", \"15 minutes\", \"complete\", \"(2 hours)\", 0], [\"Import CSV\", \"3 (16 hours)\", \"undefined\", \"Sprint\", \"(16 hours)\", 0], [\"Make flow report in Mixpanel\", \"undefined\", \"undefined\", \"complete\", \"\", 0], [\"Formula composition tests\", \"3 (16 hours)\", \"3 hours\", \"complete\", \"(16 hours)\", 0], [\"Update sheet data through grid-api in the proper way\", \"undefined\", \"undefined\", \"backlog\", \"\", 0], [\"Create a Github Action for linting mito\", \"undefined\", \"undefined\", \"Sprint\", \"\", 0], [\"Support named dataframes other than df\", \"1 (4 hours)\", \"10 minutes\", \"complete\", \"(4 hours)\", 0], [\"Support for non-alphabetic column names\", \"1 (4 hours)\", \"2.5 hours\", \"complete\", \"(4 hours)\", 0], [\"mitosheet.sheet call with no params\", \"2 (8 hours)\", \"undefined\", \"Sprint\", \"(8 hours)\", 0], [\"Error message popup looks nicer + tells you more. \", \"2 (8 hours)\", \"~2 hours\", \"complete\", \"(8 hours)\", 0], [\"Do a data analysis on the Mito Survey results\", \"2 (8 hours)\", \"undefined\", \"in progress\", \"(8 hours)\", 0], [\"Analysis redesign ideation\", \"2 (8 hours)\", \"undefined\", \"Sprint\", \"(8 hours)\", 0], [\"Written documentation for all the formulas.\", \"3 (16 hours)\", \"2 hours\", \"complete\", \"(16 hours)\", 0], [\"Update Mito Survey\", \"1 (4 hours)\", \"1.5 hours\", \"complete\", \"(4 hours)\", 0], [\"Turn analysis into function\", \"2 (8 hours)\", \"30 minutes\", \"complete\", \"(8 hours)\", 0], [\"Create launch strategy\", \"2 (8 hours)\", \"12\", \"complete\", \"(8 hours)\", 0], [\"Formula syntax placeholder Ideation\", \"2 (8 hours)\", \"undefined\", \"Sprint\", \"(8 hours)\", 0], [\"Create new user testing plan\", \"3 (16 hours)\", \"4\", \"complete\", \"(16 hours)\", 0], [\"Investigate backups\", \"2 (8 hours)\", \"undefined\", \"Sprint\", \"(8 hours)\", 0], [\"Formula syntax placeholder Implementation\", \"1 (4 hours)\", \"undefined\", \"Sprint\", \"(4 hours)\", 0], [\"Implement backups\", \"2 (8 hours)\", \"undefined\", \"Sprint\", \"(8 hours)\", 0], [\"Use logs to figure out what functions we should include\", \"1 (4 hours)\", \"undefined\", \"Sprint\", \"(4 hours)\", 0], [\"Cell selection via clicking technical exploration\", \"2 (8 hours)\", \"2.5 hours\", \"complete\", \"(8 hours)\", 0], [\"Cell selection via clicking implementation\", \"1 (4 hours)\", \"16 hours\", \"complete\", \"(4 hours)\", 0], [\"Write the first Mito technical blog post \", \"1 (4 hours)\", \"4.5 hours\", \"in progress\", \"(4 hours)\", 0], [\"Create admin-manual for TheLittlestJupyterHub\", \"3 (16 hours)\", \"8 hours\", \"complete\", \"(16 hours)\", 0], [\"Fix formula parser to handle edge cases \", \"1 (4 hours)\", \".5 hours\", \"complete\", \"(4 hours)\", 0], [\"Update Formula Bar CSS\", \".5 (2 hours)\", \"1 hour\", \"complete\", \"(2 hours)\", 0], [\"CSS + placement of toolbar\", \".5 (2 hours)\", \"4 hours (webpack issues + start & stop due to storage being full)\", \"complete\", \"(2 hours)\", 0], [\"Add Mito Logo to sheet\", \".5 (2 hours)\", \"undefined\", \"Sprint\", \"(2 hours)\", 0], [\"AWS Class\", \"2 (8 hours)\", \"undefined\", \"in progress\", \"(8 hours)\", 0], [\"Manual test suite of Mito in a variety of situations (in workbooks).\", \"2 (8 hours)\", \"1.5 hours\", \"in progress\", \"(8 hours)\", 0], [\"In-app help + documentation.\", \"2 (8 hours)\", \"4 hours\", \"complete\", \"(8 hours)\", 0], [\"Investigate and multiple-use bug\", \"3 (16 hours)\", \"2 hours\", \"complete\", \"(16 hours)\", 0], [\"Add ability to pass file name to sheet function\", \"2 (8 hours)\", \"undefined\", \"backlog\", \"(8 hours)\", 0], [\"Add logging on buttons\", \".5 (2 hours)\", \"undefined\", \"backlog\", \"(2 hours)\", 0], [\"Send server logs to segment\", \"2 (8 hours)\", \"undefined\", \"backlog\", \"(8 hours)\", 0], [\"Popup documentation when writing formulas\", \"2 (8 hours)\", \"undefined\", \"backlog\", \"(8 hours)\", 0], [\"Auto-suggest formulas/columns when typing\", \"2 (8 hours)\", \"undefined\", \"backlog\", \"(8 hours)\", 0], [\"Standarize error conditions on sheet functions\", \"3 (16 hours)\", \"undefined\", \"backlog\", \"(16 hours)\", 0], [\"Create checklist of what we need to do before live link \", \"undefined\", \"undefined\", \"backlog\", \"\", 0], [\"Ideation on column identifier\", \"1 (4 hours)\", \"undefined\", \"backlog\", \"(4 hours)\", 0], [\"Investigate CSS issue with webpack\", \"2 (8 hours)\", \"undefined\", \"backlog\", \"(8 hours)\", 0], [\"Fuzzy matching ideation\", \"2 (8 hours)\", \"undefined\", \"backlog\", \"(8 hours)\", 0], [\"Display current address next to formula bar\", \".5 (2 hours)\", \"undefined\", \"backlog\", \"(2 hours)\", 0], [\"Redesign toolbar buttons\", \"1 (4 hours)\", \"2 hours\", \"complete\", \"(4 hours)\", 0], [\"Add basic examples to documentation\", \"2 (8 hours)\", \"undefined\", \"Sprint\", \"(8 hours)\", 0], [\"Make formula bar longer\", \".5 (2 hours)\", \"undefined\", \"Sprint\", \"(2 hours)\", 0], [\"Error cleanup + UX improvements\", \"1 (4 hours)\", \".25 hours\", \"in progress\", \"(4 hours)\", 0], [\"Documentation UX cleanup\", \"1 (4 hours)\", \"undefined\", \"Sprint\", \"(4 hours)\", 0], [\"Standardize function names\", \".5 (2 hours)\", \"undefined\", \"Sprint\", \"(2 hours)\", 0], [\"Support colon syntax\", \"1 (4 hours)\", \"undefined\", \"Sprint\", \"(4 hours)\", 0], [\"Make cell editor display current formula when you start re-editing\", \"1 (4 hours)\", \"undefined\", \"backlog\", \"(4 hours)\", 0], [\"Ideation on detecting unmatched parens\", \"1 (4 hours)\", \"undefined\", \"backlog\", \"(4 hours)\", 0], [\"Implement unmatched parens \", \"2 (8 hours)\", \"undefined\", \"backlog\", \"(8 hours)\", 0], [\"Design sprint on the cell editor\", \"2 (8 hours)\", \"2 hours (first time)\", \"in progress\", \"(8 hours)\", 0], [\"Implement newly designed cell editor\", \"3 (16 hours)\", \"undefined\", \"Sprint\", \"(16 hours)\", 0], [\"Add round functions\", \"1 (4 hours)\", \"undefined\", \"backlog\", \"(4 hours)\", 0], [\"Design sprint on date usage\", \"2 (8 hours)\", \"undefined\", \"backlog\", \"(8 hours)\", 0], [\"Implement date usage specification\", \"2 (8 hours)\", \"undefined\", \"backlog\", \"(8 hours)\", 0], [\"Add more functions\", \"2 (8 hours)\", \"undefined\", \"backlog\", \"(8 hours)\", 0], [\"Allow mulitple sheets to be passed to mitosheet.sheet call\", \"2 (8 hours)\", \"undefined\", \"backlog\", \"(8 hours)\", 0], [\"Ideation on matching across mulitple sheets\", \"2 (8 hours)\", \"undefined\", \"backlog\", \"(8 hours)\", 0], [\"Implement cross-sheet matching in specification\", \"3 (16 hours)\", \"undefined\", \"backlog\", \"(16 hours)\", 0], [\"Implement find and replace\", \"3 (16 hours)\", \"undefined\", \"backlog\", \"(16 hours)\", 0], [\"Implement filter\", \"3 (16 hours)\", \"undefined\", \"backlog\", \"(16 hours)\", 0], [\"Ideation on handling programming models introduced by filter\", \"3 (16 hours)\", \"undefined\", \"backlog\", \"(16 hours)\", 0], [\"Make Data Aggregation and Analyses google sheet\", \"2 (8 hours)\", \"undefined\", \"backlog\", \"(8 hours)\", 0], [\"Build mixpanel to pipeline google sheet integration\", \"1 (4 hours)\", \"undefined\", \"backlog\", \"(4 hours)\", 0], [\"schedule onboarding calls\", \"2 (8 hours)\", \"undefined\", \"backlog\", \"(8 hours)\", 0], [\"Set-up 5 welcome calls for the week\", \"2 (8 hours)\", \"undefined\", \"backlog\", \"(8 hours)\", 0], [\"provide visual update to waiting list\", \"2 (8 hours)\", \"undefined\", \"backlog\", \"(8 hours)\", 0], [\"Pre-write 7 tweets for the week\", \"1 (4 hours)\", \"undefined\", \"backlog\", \"(4 hours)\", 0], [\"Post in 2 forums each day\", \"2 (8 hours)\", \"undefined\", \"backlog\", \"(8 hours)\", 0], [\"Make linkedIN posts and DM people\", \"1 (4 hours)\", \"undefined\", \"backlog\", \"(4 hours)\", 0], [\"Make sure logs are getting our desired info\", \"2 (8 hours)\", \"undefined\", \"backlog\", \"(8 hours)\", 0], [\"Create the notebooks and materials for onboarding plans\", \"undefined\", \"undefined\", \"Sprint\", \"\", 0], [\"Finalize Drip Sequence Plan\", \"undefined\", \"undefined\", \"Sprint\", \"\", 0], [\"Schedule onboarding calls\", \"undefined\", \"undefined\", \"Sprint\", \"\", 0], [\"Develop hypothesis that we have about user's behavior and see if we can answer them given existing data infrastructure\", \"2 (8 hours)\", \"undefined\", \"Sprint\", \"(8 hours)\", 0], [\"Create plan for group testing sessions\", \".5 (2 hours)\", \"30 minutes\", \"complete\", \"(2 hours)\", 0], [\"Conduct group testing sessions\", \"1 (4 hours)\", \"undefined\", \"Sprint\", \"(4 hours)\", 0], [\"Create plan for battle day\", \".5 (2 hours)\", \"1.5 hour\", \"complete\", \"(2 hours)\", 0], [\"Conduct battle day\", \"2 (8 hours)\", \"undefined\", \"Sprint\", \"(8 hours)\", 0], [\"Deploy servers \", \"1 (4 hours)\", \"undefined\", \"Sprint\", \"(4 hours)\", 0], [\"Server backups\", \"2 (8 hours)\", \"30 minutes (so far)\", \"in progress\", \"(8 hours)\", 0], [\"Create user metrics and marketing metrics google sheet\", \"1 (4 hours)\", \"undefined\", \"Sprint\", \"(4 hours)\", 0], [\"Create user data policy \", \"1 (4 hours)\", \"undefined\", \"Sprint\", \"(4 hours)\", 0], [\"Make a mito customer service email account\", \".5 (2 hours)\", \"undefined\", \"Sprint\", \"(2 hours)\", 0], [\"Welcome Calls\", \"undefined\", \"undefined\", \"Sprint\", \"\", 0], [\"Life cycle ideation\", \"2 (8 hours)\", \"undefined\", \"in progress\", \"(8 hours)\", 0], [\"Implement new lifecycle\", \"3 (16 hours)\", \"undefined\", \"Sprint\", \"(16 hours)\", 0], [\"Forum Posts\", \"1 (4 hours)\", \"undefined\", \"Sprint\", \"(4 hours)\", 0], [\"Linkedin Posts/Messaging\", \"undefined\", \"undefined\", \"Sprint\", \"\", 0], [\"Make mockup of current app\", \"1 (4 hours)\", \".5 hours\", \"complete\", \"(4 hours)\", 0], [\"Make mito sheet match UI current mockup\", \"1 (4 hours)\", \"undefined\", \"Sprint\", \"(4 hours)\", 0], [\"Weekly Waiting List update\", \"undefined\", \"undefined\", \"Sprint\", \"\", 0], [\"Standardize Function Names\", \".5 (2 hours)\", \"undefined\", \"Sprint\", \"(2 hours)\", 0], [\"Finalize initial list of people to onboard\", \".5 (2 hours)\", \"undefined\", \"Sprint\", \"(2 hours)\", 0], [\"Define release process for app\", \"1 (4 hours)\", \"1 hour\", \"complete\", \"(4 hours)\", 0], [\"Update user testing plan for welcome calls\", \"1 (4 hours)\", \"undefined\", \"Sprint\", \"(4 hours)\", 0], [\"Setup Marketing email infrastructure\", \"2 (8 hours)\", \"undefined\", \"in progress\", \"(8 hours)\", 0], [\"Implement the software scheduler\", \"1 (4 hours)\", \"undefined\", \"Sprint\", \"(4 hours)\", 0], [\"Figure out user data policy\", \"undefined\", \"undefined\", \"Sprint\", \"\", 0], [\"Add linting to GitHub\", \".5 (2 hours)\", \"2.5 hours\", \"complete\", \"(2 hours)\", 0], [\"Update Error Screen to detect A1 formatting and provide correct Syntax\", \"1 (4 hours)\", \"30 minutes\", \"complete\", \"(4 hours)\", 0], [\"Repeat analysis button\", \"1 (4 hours)\", \"2 hours\", \"complete\", \"(4 hours)\", 0], [\"undefined\", \"undefined\", \"undefined\", \"undefined\", \"\", 0], [\"Type handling in sheet functions ideation\", \"2 (8 hours)\", \"undefined\", \"Sprint\", \"(8 hours)\", 0], [\"Column header cap. bug\", \".5 (2 hours)\", \"20 minutes\", \"in progress\", \"(2 hours)\", 0], [\"Investor updates?\", \"undefined\", \"undefined\", \"backlog\", \"\", 0], [\"Fix bug in export with column indexes being included\", \"undefined\", \"undefined\", \"backlog\", \"\", 0]]}",
       "user_id": "nate",
       "value": "Hello World"
      }
     },
     "8641294e82e941f2a4310c6d5a3c8bd2": {
      "model_module": "mitosheet",
      "model_module_version": "^0.1.22",
      "model_name": "ExampleModel",
      "state": {
       "_model_module_version": "^0.1.22",
       "_view_module_version": "^0.1.22",
       "code_json": "{\"imports\": \"from mitosheet import AVG,CLEAN,CONCATENATE,FIND,LEFT,LEN,LOWER,MID,MULTIPLY,PROPER,RIGHT,SUBSTITUTE,SUM,TRIM,UPPER\", \"code\": [\"df['C'] = LEFT(df['A'])\", \"df['B'] = AVG(df['A'])\"]}",
       "column_spreadsheet_code_json": "{\"A\": \"\", \"C\": \"=LEFT(A)\", \"B\": \"=AVG(A)\"}",
       "df_name": "",
       "layout": "IPY_MODEL_ad6cf9e1e90149fd84e5990186e78c6c",
       "sheet_json": "{\"columns\": [\"A\", \"C\", \"B\"], \"index\": [0], \"data\": [[123, 1, 123.0]]}",
       "user_id": "nate",
       "value": "Hello World"
      }
     },
     "88a7508ce2c34f96b2c1182f8db16ac5": {
      "model_module": "@jupyter-widgets/base",
      "model_module_version": "1.2.0",
      "model_name": "LayoutModel",
      "state": {}
     },
     "965c8b54a72242dc9a2e05212c9ffa4a": {
      "model_module": "mitosheet",
      "model_module_version": "^0.1.22",
      "model_name": "ExampleModel",
      "state": {
       "_model_module_version": "^0.1.22",
       "_view_module_version": "^0.1.22",
       "code_json": "{\"code\": \"0\"}",
       "column_spreadsheet_code_json": "{\"A\": \"\", \"B\": \"=AVG(A)\"}",
       "df_name": "",
       "layout": "IPY_MODEL_0f3c504790bb4f2cb66f8586103c20ba",
       "sheet_json": "{\"columns\": [\"A\", \"B\"], \"index\": [0], \"data\": [[123, 123.0]]}",
       "user_id": "nate",
       "value": "Hello World"
      }
     },
     "96e2e5ec4c8b464e98a569799bcea791": {
      "model_module": "@jupyter-widgets/base",
      "model_module_version": "1.2.0",
      "model_name": "LayoutModel",
      "state": {}
     },
     "972da051deeb4c2b90b5b3d0430b43ad": {
      "model_module": "mitosheet",
      "model_module_version": "^0.1.22",
      "model_name": "ExampleModel",
      "state": {
       "_model_module_version": "^0.1.22",
       "_view_module_version": "^0.1.22",
       "code_json": "{\"code\": \"0\"}",
       "column_spreadsheet_code_json": "{\"A\": \"\", \"C\": \"=0\", \"B\": \"=AVG(A)\"}",
       "df_name": "",
       "layout": "IPY_MODEL_fb9faa0398d44e8f8be55d02fb4d2e28",
       "sheet_json": "{\"columns\": [\"A\", \"C\", \"B\"], \"index\": [0], \"data\": [[123, 0, 123.0]]}",
       "user_id": "nate",
       "value": "Hello World"
      }
     },
     "9aebc238ea8843d5ad06b6ad793ebc30": {
      "model_module": "@jupyter-widgets/base",
      "model_module_version": "1.2.0",
      "model_name": "LayoutModel",
      "state": {}
     },
     "9b53ed1332064b73b04ee24c3f204e0c": {
      "model_module": "@jupyter-widgets/base",
      "model_module_version": "1.2.0",
      "model_name": "LayoutModel",
      "state": {}
     },
     "9d5165ead318442f85be342694611b5c": {
      "model_module": "@jupyter-widgets/base",
      "model_module_version": "1.2.0",
      "model_name": "LayoutModel",
      "state": {}
     },
     "9f2a8a7d31ba4d06a0da6a3f6f991ec6": {
      "model_module": "@jupyter-widgets/base",
      "model_module_version": "1.2.0",
      "model_name": "LayoutModel",
      "state": {}
     },
     "a49b1cb9fc7445e0b3aff2bd3b368d2e": {
      "model_module": "mitosheet",
      "model_module_version": "^0.1.22",
      "model_name": "ExampleModel",
      "state": {
       "_model_module_version": "^0.1.22",
       "_view_module_version": "^0.1.22",
       "code_json": "{\"imports\": \"from mitosheet import AVG,CLEAN,CONCATENATE,FIND,LEFT,LEN,LOWER,MID,MULTIPLY,PROPER,RIGHT,SUBSTITUTE,SUM,TRIM,UPPER\", \"code\": [\"df['B'] = AVG(df['A'], 100)\"]}",
       "column_spreadsheet_code_json": "{\"A\": \"\", \"B\": \"=AVG(A, 100)\"}",
       "df_name": "",
       "layout": "IPY_MODEL_4da70a3414a445e294493c898d559eb3",
       "sheet_json": "{\"columns\": [\"A\", \"B\"], \"index\": [0], \"data\": [[123, 111.5]]}",
       "user_id": "nate",
       "value": "Hello World"
      }
     },
     "a5f027a48e424367899d8e453954a54a": {
      "model_module": "mitosheet",
      "model_module_version": "^0.1.22",
      "model_name": "ExampleModel",
      "state": {
       "_model_module_version": "^0.1.22",
       "_view_module_version": "^0.1.22",
       "code_json": "",
       "column_spreadsheet_code_json": "",
       "df_name": "",
       "layout": "IPY_MODEL_88a7508ce2c34f96b2c1182f8db16ac5",
       "sheet_json": "",
       "user_id": "nate",
       "value": "Hello World"
      }
     },
     "ac54921c87574b97b957f4f1988cabd9": {
      "model_module": "@jupyter-widgets/base",
      "model_module_version": "1.2.0",
      "model_name": "LayoutModel",
      "state": {}
     },
     "ace098f2c9724abe98b066cb92ca89df": {
      "model_module": "mitosheet",
      "model_module_version": "^0.1.22",
      "model_name": "ExampleModel",
      "state": {
       "_model_module_version": "^0.1.22",
       "_view_module_version": "^0.1.22",
       "code_json": "",
       "column_spreadsheet_code_json": "",
       "df_name": "",
       "layout": "IPY_MODEL_b61543cda73a4182a04d5df93ccf02e3",
       "sheet_json": "",
       "user_id": "nate",
       "value": "Hello World"
      }
     },
     "ad6cf9e1e90149fd84e5990186e78c6c": {
      "model_module": "@jupyter-widgets/base",
      "model_module_version": "1.2.0",
      "model_name": "LayoutModel",
      "state": {}
     },
     "ae76bd56e15a40b3b3d72ef29aae3b95": {
      "model_module": "@jupyter-widgets/base",
      "model_module_version": "1.2.0",
      "model_name": "LayoutModel",
      "state": {}
     },
     "b58782904b584d2aa056960bebd562e7": {
      "model_module": "@jupyter-widgets/base",
      "model_module_version": "1.2.0",
      "model_name": "LayoutModel",
      "state": {}
     },
     "b61543cda73a4182a04d5df93ccf02e3": {
      "model_module": "@jupyter-widgets/base",
      "model_module_version": "1.2.0",
      "model_name": "LayoutModel",
      "state": {}
     },
     "bb795d131a954013b54c0c3571a08c84": {
      "model_module": "mitosheet",
      "model_module_version": "^0.1.22",
      "model_name": "ExampleModel",
      "state": {
       "_model_module_version": "^0.1.22",
       "_view_module_version": "^0.1.22",
       "code_json": "{\"imports\": \"from mitosheet import AVG,CLEAN,CONCATENATE,FIND,LEFT,LEN,LOWER,MID,MULTIPLY,PROPER,RIGHT,SUBSTITUTE,SUM,TRIM,UPPER\", \"code\": [\"df['B'] = LEN(AVG(df['A']))\"]}",
       "column_spreadsheet_code_json": "{\"A\": \"\", \"B\": \"=LEN(AVG(A))\"}",
       "df_name": "",
       "layout": "IPY_MODEL_d3150c9343e048c9a3f389d0ec2cd438",
       "sheet_json": "{\"columns\": [\"A\", \"B\"], \"index\": [0], \"data\": [[123, 5]]}",
       "user_id": "nate",
       "value": "Hello World"
      }
     },
     "bfc5a428b4a047b781e747a6fa9a6623": {
      "model_module": "@jupyter-widgets/base",
      "model_module_version": "1.2.0",
      "model_name": "LayoutModel",
      "state": {}
     },
     "c1f040f637d54d67898fb2e1cd4d7091": {
      "model_module": "@jupyter-widgets/base",
      "model_module_version": "1.2.0",
      "model_name": "LayoutModel",
      "state": {}
     },
     "c885757462354f32b613ac3a1e5aab90": {
      "model_module": "@jupyter-widgets/base",
      "model_module_version": "1.2.0",
      "model_name": "LayoutModel",
      "state": {}
     },
     "cdf4d32b43d045258687bb91bd3cdc1e": {
      "model_module": "mitosheet",
      "model_module_version": "^0.1.22",
      "model_name": "ExampleModel",
      "state": {
       "_model_module_version": "^0.1.22",
       "_view_module_version": "^0.1.22",
       "code_json": "{\"code\": \"0\"}",
       "column_spreadsheet_code_json": "{\"A\": \"\", \"C\": \"=0\", \"B\": \"=AVG(A)\"}",
       "df_name": "",
       "layout": "IPY_MODEL_29a4938ae1af4a18960ed3d234189b6d",
       "sheet_json": "{\"columns\": [\"A\", \"C\", \"B\"], \"index\": [0], \"data\": [[123, 0, 123.0]]}",
       "user_id": "nate",
       "value": "Hello World"
      }
     },
     "cf79fbeef8e9461690190611126c1c98": {
      "model_module": "mitosheet",
      "model_module_version": "^0.1.22",
      "model_name": "ExampleModel",
      "state": {
       "_model_module_version": "^0.1.22",
       "_view_module_version": "^0.1.22",
       "code_json": "{\"code\": \"0\"}",
       "column_spreadsheet_code_json": "{\"A\": \"\", \"B\": \"=LEN(AVG(A))\"}",
       "df_name": "",
       "layout": "IPY_MODEL_7a78bd5ca7aa43c1a1993d5e46a7ad36",
       "sheet_json": "{\"columns\": [\"A\", \"B\"], \"index\": [0], \"data\": [[123, 5]]}",
       "user_id": "nate",
       "value": "Hello World"
      }
     },
     "d2e5544463624c89ab0a731cd79c8ded": {
      "model_module": "mitosheet",
      "model_module_version": "^0.1.22",
      "model_name": "ExampleModel",
      "state": {
       "_model_module_version": "^0.1.22",
       "_view_module_version": "^0.1.22",
       "code_json": "{\"imports\": \"from mitosheet import AVG,CLEAN,CONCATENATE,FIND,LEFT,LEN,LOWER,MID,MULTIPLY,PROPER,RIGHT,SUBSTITUTE,SUM,TRIM,UPPER\", \"code\": [\"df['H'] = 0\"]}",
       "column_spreadsheet_code_json": "{\"Story\": \"\", \"Sprint\": \"\", \"Assigned\": \"\", \"Priority\": \"\", \"Points\": \"\", \"actual_time\": \"\", \"State\": \"\", \"H\": \"=0\"}",
       "df_name": "df",
       "layout": "IPY_MODEL_9aebc238ea8843d5ad06b6ad793ebc30",
       "sheet_json": "{\"columns\": [\"Story\", \"Sprint\", \"Assigned\", \"Priority\", \"Points\", \"actual_time\", \"State\", \"H\"], \"index\": [0, 1, 2, 3, 4, 5, 6, 7, 8, 9, 10, 11, 12, 13, 14, 15, 16, 17, 18, 19, 20, 21, 22, 23, 24, 25, 26, 27, 28, 29, 30, 31, 32, 33, 34, 35, 36, 37, 38, 39, 40, 41, 42, 43, 44, 45, 46, 47, 48, 49, 50, 51, 52, 53, 54, 55, 56, 57, 58, 59, 60, 61, 62, 63, 64, 65, 66, 67, 68, 69, 70, 71, 72, 73, 74, 75, 76, 77, 78, 79, 80, 81, 82, 83, 84, 85, 86, 87, 88, 89, 90, 91, 92, 93, 94, 95, 96, 97, 98, 99, 100, 101, 102, 103, 104, 105, 106, 107, 108, 109, 110, 111, 112, 113, 114, 115, 116, 117, 118, 119, 120, 121, 122, 123, 124, 125, 126, 127, 128, 129, 130, 131, 132, 133, 134, 135, 136, 137, 138, 139, 140, 141, 142, 143, 144, 145, 146], \"data\": [[\"mitosheet.sheet call with no params\", \"MyBinder\", \"undefined\", \"Medium\", \"1 (4 hours)\", \"undefined\", \"complete\", 0], [\"mitosheet.sheet with a single data frame\", \"MyBinder\", \"Aaron Diamond-Reivich\", \"High\", \"3 (16 hours)\", \"12 hours\", \"complete\", 0], [\"import csv to empty dataframe\", \"undefined\", \"undefined\", \"Medium\", \"1 (4 hours)\", \"undefined\", \"Sprint\", 0], [\"Creating new Column\", \"MyBinder\", \"Nate Rush\", \"Medium\", \"2 (8 hours)\", \"undefined\", \"complete\", 0], [\"Editing a column\", \"MyBinder\", \"Nate Rush\", \"High\", \"3 (16 hours)\", \"12 hours (to implement)\", \"complete\", 0], [\"Formula bar\", \"MyBinder\", \"Aaron Diamond-Reivich\", \"Low\", \"1 (4 hours)\", \"undefined\", \"complete\", 0], [\"Logging infrastructure\", \"MyBinder\", \"Nate Rush\", \"High\", \"2 (8 hours)\", \"4 hours\", \"complete\", 0], [\"Logging dashboard\", \"MyBinder\", \"Jake DR\", \"Low\", \"2 (8 hours)\", \"undefined\", \"complete\", 0], [\"Manual testing\", \"MyBinder\", \"undefined\", \"High\", \"2 (8 hours)\", \".5 hrs to set up infrastructure\\n? to write tests\", \"complete\", 0], [\"Determine Automatic testing Infrastructure\", \"MyBinder\", \"Nate Rush\", \"Medium\", \"2 (8 hours)\", \"2 hours\", \"complete\", 0], [\"MyBinder deployment\", \"MyBinder\", \"Nate Rush\", \"Low\", \"2 (8 hours)\", \"undefined\", \"complete\", 0], [\"Investigate Automatic Widget Testing\", \"Sprint 2 Formulas\", \"Aaron Diamond-Reivich\", \"High\", \"2 (8 hours)\", \"10 hours\", \"complete\", 0], [\"Add Widget Interaction Tests\", \"Sprint 2 Formulas\", \"undefined\", \"Low\", \"3 (16 hours)\", \"undefined\", \"Sprint\", 0], [\"Fuzz Test the Backend\", \"undefined\", \"undefined\", \"Low\", \"3 (16 hours)\", \"undefined\", \"backlog\", 0], [\"Investigate Formula Parser Implementations\", \"Sprint 2 Formulas\", \"Nate Rush\", \"High\", \"3 (16 hours)\", \"8 Hours\", \"complete\", 0], [\"Implement the Formula Parser\", \"Sprint 2 Formulas\", \"Nate Rush\", \"High\", \"3 (16 hours)\", \"8 hours\", \"complete\", 0], [\"Implement formulas\", \"Sprint 2 Formulas\", \"Nate Rush, Aaron Diamond-Reivich\", \"Medium\", \"3 (16 hours)\", \"undefined\", \"complete\", 0], [\"Implement operators\", \"Sprint 2 Formulas\", \"Nate Rush\", \"Medium\", \"2 (8 hours)\", \"2 hours\", \"complete\", 0], [\"Implement Export to CSV\", \"undefined\", \"undefined\", \"Low\", \"1 (4 hours)\", \"undefined\", \"Sprint\", 0], [\"Implement Automatic Testing for Version Compatability\", \"undefined\", \"undefined\", \"undefined\", \"undefined\", \"undefined\", \"undefined\", 0], [\"Reevaluate deployment mechanisms\", \"Sprint 2 Formulas\", \"Nate Rush\", \"High\", \"3 (16 hours)\", \"4 hours\", \"complete\", 0], [\"Implement deployment mechanism\", \"Sprint 2 Formulas\", \"Aaron Diamond-Reivich, Nate Rush\", \"High\", \"?\", \"undefined\", \"complete\", 0], [\"Implement Mixpanel Dashboards\", \"Sprint 2 Formulas\", \"Jake DR\", \"Low\", \"2 (8 hours)\", \"undefined\", \"complete\", 0], [\"undefined\", \"undefined\", \"undefined\", \"undefined\", \"undefined\", \"undefined\", \"undefined\", 0], [\"Jake's Logging Additions\", \"Sprint 2 Formulas\", \"Jake DR, Nate Rush\", \"undefined\", \"1 (4 hours)\", \"undefined\", \"complete\", 0], [\"Update UI \", \"Sprint 2 Formulas\", \"Aaron Diamond-Reivich\", \"High\", \"1 (4 hours)\", \"1 hour\", \"complete\", 0], [\"Make basic formula parsing more robust\", \"Sprint 2 Formulas\", \"Nate Rush\", \"High\", \"1 (4 hours)\", \".5 hours\", \"complete\", 0], [\"Create marketing goals \", \"Sprint 3 Wild\", \"Jake DR\", \"High\", \"1 (4 hours)\", \"1 hour (we did as a group)\", \"complete\", 0], [\"Users should have accounts on JupyterHub\", \"Sprint 3 Wild\", \"Nate Rush, Aaron Diamond-Reivich\", \"Low\", \"1 (4 hours)\", \"0-1? This was part of other stories.\", \"complete\", 0], [\"JupyterHub instance should be hosted at a subdomain of tryMito\", \"Sprint 3 Wild\", \"Nate Rush, Aaron Diamond-Reivich\", \"Medium\", \"2 (8 hours)\", \"1 hr (not including logs)\", \"complete\", 0], [\"Create Marketing Plan\", \"Sprint 3 Wild\", \"Jake DR\", \"Medium\", \"2 (8 hours)\", \"10 hours\", \"complete\", 0], [\"Spreadsheet formulas should persist throughout the same analysis. \", \"Sprint 3 Wild\", \"Nate Rush\", \"Low\", \"3 (16 hours)\", \"6 hours\", \"complete\", 0], [\"Send visual update to the waiting list \", \"Sprint 3 Wild\", \"undefined\", \"Low\", \"2 (8 hours)\", \"undefined\", \"Sprint\", 0], [\"Add error messages for all errors we currently support. \", \"Sprint 3 Wild\", \"undefined\", \"Medium\", \"1 (4 hours)\", \"3 hours\", \"complete\", 0], [\"Test run referal link \", \"Sprint 3 Wild\", \"undefined\", \"Medium\", \"1 (4 hours)\", \"3 hours\", \"complete\", 0], [\"Export CSV\", \"Sprint 3 Wild\", \"Nate Rush\", \"Low\", \".5 (2 hours)\", \"15 minutes\", \"complete\", 0], [\"Import CSV\", \"undefined\", \"undefined\", \"Low\", \"3 (16 hours)\", \"undefined\", \"Sprint\", 0], [\"Make flow report in Mixpanel\", \"Sprint 2 Formulas\", \"Jake DR\", \"undefined\", \"undefined\", \"undefined\", \"complete\", 0], [\"Formula composition tests\", \"Sprint 3 Wild\", \"Nate Rush\", \"Low\", \"3 (16 hours)\", \"3 hours\", \"complete\", 0], [\"Update sheet data through grid-api in the proper way\", \"undefined\", \"undefined\", \"undefined\", \"undefined\", \"undefined\", \"backlog\", 0], [\"Create a Github Action for linting mito\", \"Sprint 2 Formulas\", \"undefined\", \"undefined\", \"undefined\", \"undefined\", \"Sprint\", 0], [\"Support named dataframes other than df\", \"Sprint 3 Wild\", \"Nate Rush\", \"Low\", \"1 (4 hours)\", \"10 minutes\", \"complete\", 0], [\"Support for non-alphabetic column names\", \"Sprint 3 Wild\", \"Nate Rush\", \"Low\", \"1 (4 hours)\", \"2.5 hours\", \"complete\", 0], [\"mitosheet.sheet call with no params\", \"undefined\", \"undefined\", \"Medium\", \"2 (8 hours)\", \"undefined\", \"Sprint\", 0], [\"Error message popup looks nicer + tells you more. \", \"Sprint 3 Wild\", \"Nate Rush\", \"High\", \"2 (8 hours)\", \"~2 hours\", \"complete\", 0], [\"Do a data analysis on the Mito Survey results\", \"Sprint 3 Wild\", \"undefined\", \"Low\", \"2 (8 hours)\", \"undefined\", \"in progress\", 0], [\"Analysis redesign ideation\", \"undefined\", \"undefined\", \"Low\", \"2 (8 hours)\", \"undefined\", \"Sprint\", 0], [\"Written documentation for all the formulas.\", \"Sprint 3 Wild\", \"Nate Rush\", \"Medium\", \"3 (16 hours)\", \"2 hours\", \"complete\", 0], [\"Update Mito Survey\", \"Sprint 3 Wild\", \"Jake DR\", \"Medium\", \"1 (4 hours)\", \"1.5 hours\", \"complete\", 0], [\"Turn analysis into function\", \"Sprint 3 Wild\", \"Nate Rush\", \"High\", \"2 (8 hours)\", \"30 minutes\", \"complete\", 0], [\"Create launch strategy\", \"Sprint 3 Wild\", \"Nate Rush, Aaron Diamond-Reivich, Jake DR\", \"High\", \"2 (8 hours)\", \"12\", \"complete\", 0], [\"Formula syntax placeholder Ideation\", \"undefined\", \"undefined\", \"High\", \"2 (8 hours)\", \"undefined\", \"Sprint\", 0], [\"Create new user testing plan\", \"Sprint 3 Wild\", \"Jake DR\", \"High\", \"3 (16 hours)\", \"4\", \"complete\", 0], [\"Investigate backups\", \"undefined\", \"undefined\", \"Low\", \"2 (8 hours)\", \"undefined\", \"Sprint\", 0], [\"Formula syntax placeholder Implementation\", \"undefined\", \"undefined\", \"Low\", \"1 (4 hours)\", \"undefined\", \"Sprint\", 0], [\"Implement backups\", \"undefined\", \"undefined\", \"Low\", \"2 (8 hours)\", \"undefined\", \"Sprint\", 0], [\"Use logs to figure out what functions we should include\", \"Sprint 3 Wild\", \"undefined\", \"Medium\", \"1 (4 hours)\", \"undefined\", \"Sprint\", 0], [\"Cell selection via clicking technical exploration\", \"Sprint 3 Wild\", \"Aaron Diamond-Reivich\", \"High\", \"2 (8 hours)\", \"2.5 hours\", \"complete\", 0], [\"Cell selection via clicking implementation\", \"Sprint 3 Wild\", \"Aaron Diamond-Reivich\", \"Low\", \"1 (4 hours)\", \"16 hours\", \"complete\", 0], [\"Write the first Mito technical blog post \", \"Sprint 3 Wild\", \"Nate Rush\", \"Low\", \"1 (4 hours)\", \"4.5 hours\", \"in progress\", 0], [\"Create admin-manual for TheLittlestJupyterHub\", \"Sprint 3 Wild\", \"Nate Rush\", \"High\", \"3 (16 hours)\", \"8 hours\", \"complete\", 0], [\"Fix formula parser to handle edge cases \", \"Sprint 3 Wild\", \"Nate Rush\", \"Low\", \"1 (4 hours)\", \".5 hours\", \"complete\", 0], [\"Update Formula Bar CSS\", \"Sprint 3 Wild\", \"Aaron Diamond-Reivich\", \"High\", \".5 (2 hours)\", \"1 hour\", \"complete\", 0], [\"CSS + placement of toolbar\", \"Sprint 3 Wild\", \"Aaron Diamond-Reivich\", \"High\", \".5 (2 hours)\", \"4 hours (webpack issues + start & stop due to storage being full)\", \"complete\", 0], [\"Add Mito Logo to sheet\", \"Sprint 3 Wild\", \"undefined\", \"Low\", \".5 (2 hours)\", \"undefined\", \"Sprint\", 0], [\"AWS Class\", \"Sprint 3 Wild\", \"undefined\", \"Medium\", \"2 (8 hours)\", \"undefined\", \"in progress\", 0], [\"Manual test suite of Mito in a variety of situations (in workbooks).\", \"Sprint 3 Wild\", \"Nate Rush\", \"Low\", \"2 (8 hours)\", \"1.5 hours\", \"in progress\", 0], [\"In-app help + documentation.\", \"Sprint 3 Wild\", \"Nate Rush\", \"Medium\", \"2 (8 hours)\", \"4 hours\", \"complete\", 0], [\"Investigate and multiple-use bug\", \"Sprint 3 Wild\", \"undefined\", \"High\", \"3 (16 hours)\", \"2 hours\", \"complete\", 0], [\"Add ability to pass file name to sheet function\", \"undefined\", \"undefined\", \"Low\", \"2 (8 hours)\", \"undefined\", \"backlog\", 0], [\"Add logging on buttons\", \"undefined\", \"undefined\", \"Low\", \".5 (2 hours)\", \"undefined\", \"backlog\", 0], [\"Send server logs to segment\", \"undefined\", \"undefined\", \"Low\", \"2 (8 hours)\", \"undefined\", \"backlog\", 0], [\"Popup documentation when writing formulas\", \"undefined\", \"undefined\", \"Low\", \"2 (8 hours)\", \"undefined\", \"backlog\", 0], [\"Auto-suggest formulas/columns when typing\", \"undefined\", \"undefined\", \"Low\", \"2 (8 hours)\", \"undefined\", \"backlog\", 0], [\"Standarize error conditions on sheet functions\", \"undefined\", \"undefined\", \"Low\", \"3 (16 hours)\", \"undefined\", \"backlog\", 0], [\"Create checklist of what we need to do before live link \", \"undefined\", \"undefined\", \"Low\", \"undefined\", \"undefined\", \"backlog\", 0], [\"Ideation on column identifier\", \"undefined\", \"undefined\", \"Low\", \"1 (4 hours)\", \"undefined\", \"backlog\", 0], [\"Investigate CSS issue with webpack\", \"undefined\", \"undefined\", \"High\", \"2 (8 hours)\", \"undefined\", \"backlog\", 0], [\"Fuzzy matching ideation\", \"undefined\", \"undefined\", \"Low\", \"2 (8 hours)\", \"undefined\", \"backlog\", 0], [\"Display current address next to formula bar\", \"undefined\", \"undefined\", \"Low\", \".5 (2 hours)\", \"undefined\", \"backlog\", 0], [\"Redesign toolbar buttons\", \"Go 4 Launch\", \"Aaron Diamond-Reivich\", \"Low\", \"1 (4 hours)\", \"2 hours\", \"complete\", 0], [\"Add basic examples to documentation\", \"Go 4 Launch\", \"undefined\", \"Low\", \"2 (8 hours)\", \"undefined\", \"Sprint\", 0], [\"Make formula bar longer\", \"Go 4 Launch\", \"undefined\", \"Low\", \".5 (2 hours)\", \"undefined\", \"Sprint\", 0], [\"Error cleanup + UX improvements\", \"Go 4 Launch\", \"Aaron Diamond-Reivich\", \"Low\", \"1 (4 hours)\", \".25 hours\", \"in progress\", 0], [\"Documentation UX cleanup\", \"Go 4 Launch\", \"undefined\", \"Low\", \"1 (4 hours)\", \"undefined\", \"Sprint\", 0], [\"Standardize function names\", \"Go 4 Launch\", \"undefined\", \"Low\", \".5 (2 hours)\", \"undefined\", \"Sprint\", 0], [\"Support colon syntax\", \"Go 4 Launch\", \"undefined\", \"Low\", \"1 (4 hours)\", \"undefined\", \"Sprint\", 0], [\"Make cell editor display current formula when you start re-editing\", \"undefined\", \"undefined\", \"Low\", \"1 (4 hours)\", \"undefined\", \"backlog\", 0], [\"Ideation on detecting unmatched parens\", \"undefined\", \"undefined\", \"High\", \"1 (4 hours)\", \"undefined\", \"backlog\", 0], [\"Implement unmatched parens \", \"undefined\", \"undefined\", \"Low\", \"2 (8 hours)\", \"undefined\", \"backlog\", 0], [\"Design sprint on the cell editor\", \"Go 4 Launch\", \"Nate Rush\", \"High\", \"2 (8 hours)\", \"2 hours (first time)\", \"in progress\", 0], [\"Implement newly designed cell editor\", \"Go 4 Launch\", \"undefined\", \"Low\", \"3 (16 hours)\", \"undefined\", \"Sprint\", 0], [\"Add round functions\", \"undefined\", \"undefined\", \"Low\", \"1 (4 hours)\", \"undefined\", \"backlog\", 0], [\"Design sprint on date usage\", \"undefined\", \"undefined\", \"High\", \"2 (8 hours)\", \"undefined\", \"backlog\", 0], [\"Implement date usage specification\", \"undefined\", \"undefined\", \"Low\", \"2 (8 hours)\", \"undefined\", \"backlog\", 0], [\"Add more functions\", \"undefined\", \"undefined\", \"Low\", \"2 (8 hours)\", \"undefined\", \"backlog\", 0], [\"Allow mulitple sheets to be passed to mitosheet.sheet call\", \"undefined\", \"undefined\", \"High\", \"2 (8 hours)\", \"undefined\", \"backlog\", 0], [\"Ideation on matching across mulitple sheets\", \"undefined\", \"undefined\", \"High\", \"2 (8 hours)\", \"undefined\", \"backlog\", 0], [\"Implement cross-sheet matching in specification\", \"undefined\", \"undefined\", \"Low\", \"3 (16 hours)\", \"undefined\", \"backlog\", 0], [\"Implement find and replace\", \"undefined\", \"undefined\", \"Low\", \"3 (16 hours)\", \"undefined\", \"backlog\", 0], [\"Implement filter\", \"undefined\", \"undefined\", \"Low\", \"3 (16 hours)\", \"undefined\", \"backlog\", 0], [\"Ideation on handling programming models introduced by filter\", \"undefined\", \"undefined\", \"High\", \"3 (16 hours)\", \"undefined\", \"backlog\", 0], [\"Make Data Aggregation and Analyses google sheet\", \"undefined\", \"undefined\", \"Medium\", \"2 (8 hours)\", \"undefined\", \"backlog\", 0], [\"Build mixpanel to pipeline google sheet integration\", \"undefined\", \"undefined\", \"Low\", \"1 (4 hours)\", \"undefined\", \"backlog\", 0], [\"schedule onboarding calls\", \"undefined\", \"undefined\", \"High\", \"2 (8 hours)\", \"undefined\", \"backlog\", 0], [\"Set-up 5 welcome calls for the week\", \"undefined\", \"undefined\", \"High\", \"2 (8 hours)\", \"undefined\", \"backlog\", 0], [\"provide visual update to waiting list\", \"undefined\", \"undefined\", \"High\", \"2 (8 hours)\", \"undefined\", \"backlog\", 0], [\"Pre-write 7 tweets for the week\", \"undefined\", \"undefined\", \"High\", \"1 (4 hours)\", \"undefined\", \"backlog\", 0], [\"Post in 2 forums each day\", \"undefined\", \"undefined\", \"High\", \"2 (8 hours)\", \"undefined\", \"backlog\", 0], [\"Make linkedIN posts and DM people\", \"undefined\", \"undefined\", \"Low\", \"1 (4 hours)\", \"undefined\", \"backlog\", 0], [\"Make sure logs are getting our desired info\", \"undefined\", \"undefined\", \"High\", \"2 (8 hours)\", \"undefined\", \"backlog\", 0], [\"Create the notebooks and materials for onboarding plans\", \"Go 4 Launch\", \"undefined\", \"undefined\", \"undefined\", \"undefined\", \"Sprint\", 0], [\"Finalize Drip Sequence Plan\", \"Go 4 Launch\", \"undefined\", \"High\", \"undefined\", \"undefined\", \"Sprint\", 0], [\"Schedule onboarding calls\", \"Go 4 Launch\", \"undefined\", \"undefined\", \"undefined\", \"undefined\", \"Sprint\", 0], [\"Develop hypothesis that we have about user's behavior and see if we can answer them given existing data infrastructure\", \"Go 4 Launch\", \"undefined\", \"Medium\", \"2 (8 hours)\", \"undefined\", \"Sprint\", 0], [\"Create plan for group testing sessions\", \"Go 4 Launch\", \"Nate Rush\", \"High\", \".5 (2 hours)\", \"30 minutes\", \"complete\", 0], [\"Conduct group testing sessions\", \"Go 4 Launch\", \"undefined\", \"Low\", \"1 (4 hours)\", \"undefined\", \"Sprint\", 0], [\"Create plan for battle day\", \"Go 4 Launch\", \"Nate Rush\", \"High\", \".5 (2 hours)\", \"1.5 hour\", \"complete\", 0], [\"Conduct battle day\", \"Go 4 Launch\", \"undefined\", \"Low\", \"2 (8 hours)\", \"undefined\", \"Sprint\", 0], [\"Deploy servers \", \"Go 4 Launch\", \"undefined\", \"High\", \"1 (4 hours)\", \"undefined\", \"Sprint\", 0], [\"Server backups\", \"Go 4 Launch\", \"Nate Rush\", \"High\", \"2 (8 hours)\", \"30 minutes (so far)\", \"in progress\", 0], [\"Create user metrics and marketing metrics google sheet\", \"Go 4 Launch\", \"undefined\", \"High\", \"1 (4 hours)\", \"undefined\", \"Sprint\", 0], [\"Create user data policy \", \"Go 4 Launch\", \"undefined\", \"Low\", \"1 (4 hours)\", \"undefined\", \"Sprint\", 0], [\"Make a mito customer service email account\", \"Go 4 Launch\", \"undefined\", \"Medium\", \".5 (2 hours)\", \"undefined\", \"Sprint\", 0], [\"Welcome Calls\", \"Go 4 Launch\", \"undefined\", \"High\", \"undefined\", \"undefined\", \"Sprint\", 0], [\"Life cycle ideation\", \"Go 4 Launch\", \"Nate Rush\", \"High\", \"2 (8 hours)\", \"undefined\", \"in progress\", 0], [\"Implement new lifecycle\", \"Go 4 Launch\", \"undefined\", \"Low\", \"3 (16 hours)\", \"undefined\", \"Sprint\", 0], [\"Forum Posts\", \"Go 4 Launch\", \"undefined\", \"High\", \"1 (4 hours)\", \"undefined\", \"Sprint\", 0], [\"Linkedin Posts/Messaging\", \"Go 4 Launch\", \"undefined\", \"High\", \"undefined\", \"undefined\", \"Sprint\", 0], [\"Make mockup of current app\", \"Go 4 Launch\", \"Nate Rush\", \"High\", \"1 (4 hours)\", \".5 hours\", \"complete\", 0], [\"Make mito sheet match UI current mockup\", \"Go 4 Launch\", \"undefined\", \"Low\", \"1 (4 hours)\", \"undefined\", \"Sprint\", 0], [\"Weekly Waiting List update\", \"Go 4 Launch\", \"undefined\", \"High\", \"undefined\", \"undefined\", \"Sprint\", 0], [\"Standardize Function Names\", \"Go 4 Launch\", \"undefined\", \"Low\", \".5 (2 hours)\", \"undefined\", \"Sprint\", 0], [\"Finalize initial list of people to onboard\", \"Go 4 Launch\", \"undefined\", \"High\", \".5 (2 hours)\", \"undefined\", \"Sprint\", 0], [\"Define release process for app\", \"Go 4 Launch\", \"Nate Rush\", \"High\", \"1 (4 hours)\", \"1 hour\", \"complete\", 0], [\"Update user testing plan for welcome calls\", \"Go 4 Launch\", \"undefined\", \"High\", \"1 (4 hours)\", \"undefined\", \"Sprint\", 0], [\"Setup Marketing email infrastructure\", \"Go 4 Launch\", \"Nate Rush\", \"High\", \"2 (8 hours)\", \"undefined\", \"in progress\", 0], [\"Implement the software scheduler\", \"Go 4 Launch\", \"undefined\", \"Medium\", \"1 (4 hours)\", \"undefined\", \"Sprint\", 0], [\"Figure out user data policy\", \"undefined\", \"undefined\", \"undefined\", \"undefined\", \"undefined\", \"Sprint\", 0], [\"Add linting to GitHub\", \"Go 4 Launch, Sprint 3 Wild\", \"Aaron Diamond-Reivich\", \"undefined\", \".5 (2 hours)\", \"2.5 hours\", \"complete\", 0], [\"Update Error Screen to detect A1 formatting and provide correct Syntax\", \"Sprint 3 Wild\", \"Nate Rush\", \"High\", \"1 (4 hours)\", \"30 minutes\", \"complete\", 0], [\"Repeat analysis button\", \"Sprint 3 Wild\", \"Nate Rush\", \"High\", \"1 (4 hours)\", \"2 hours\", \"complete\", 0], [\"undefined\", \"undefined\", \"undefined\", \"undefined\", \"undefined\", \"undefined\", \"undefined\", 0], [\"Type handling in sheet functions ideation\", \"Go 4 Launch\", \"undefined\", \"High\", \"2 (8 hours)\", \"undefined\", \"Sprint\", 0], [\"Column header cap. bug\", \"Go 4 Launch\", \"Nate Rush\", \"Low\", \".5 (2 hours)\", \"20 minutes\", \"in progress\", 0], [\"Investor updates?\", \"Go 4 Launch\", \"undefined\", \"undefined\", \"undefined\", \"undefined\", \"backlog\", 0], [\"Fix bug in export with column indexes being included\", \"Go 4 Launch\", \"undefined\", \"undefined\", \"undefined\", \"undefined\", \"backlog\", 0]]}",
       "user_id": "nate",
       "value": "Hello World"
      }
     },
     "d3150c9343e048c9a3f389d0ec2cd438": {
      "model_module": "@jupyter-widgets/base",
      "model_module_version": "1.2.0",
      "model_name": "LayoutModel",
      "state": {}
     },
     "d4ba6b2c834b4996b753a77ce1ba996c": {
      "model_module": "@jupyter-widgets/base",
      "model_module_version": "1.2.0",
      "model_name": "LayoutModel",
      "state": {}
     },
     "d7d776fb830344fc8727de74cd0396a1": {
      "model_module": "@jupyter-widgets/base",
      "model_module_version": "1.2.0",
      "model_name": "LayoutModel",
      "state": {}
     },
     "d80bd313cc3b420a87c0df165626bd4b": {
      "model_module": "mitosheet",
      "model_module_version": "^0.1.22",
      "model_name": "ExampleModel",
      "state": {
       "_model_module_version": "^0.1.22",
       "_view_module_version": "^0.1.22",
       "code_json": "{\"imports\": \"from mitosheet import AVG,CLEAN,CONCATENATE,FIND,LEFT,LEN,LOWER,MID,MULTIPLY,PROPER,RIGHT,SUBSTITUTE,SUM,TRIM,UPPER\", \"code\": [\"df['B'] = AVG(df['A'], 1)\"]}",
       "column_spreadsheet_code_json": "{\"A\": \"\", \"B\": \"=AVG(A, 1)\"}",
       "df_name": "",
       "layout": "IPY_MODEL_b58782904b584d2aa056960bebd562e7",
       "sheet_json": "{\"columns\": [\"A\", \"B\"], \"index\": [0], \"data\": [[123, 62.0]]}",
       "user_id": "nate",
       "value": "Hello World"
      }
     },
     "dc5b944c205744d49d36922a70944d8f": {
      "model_module": "@jupyter-widgets/base",
      "model_module_version": "1.2.0",
      "model_name": "LayoutModel",
      "state": {}
     },
     "f07798ead4d84340bec2cdfcff9be394": {
      "model_module": "mitosheet",
      "model_module_version": "^0.1.22",
      "model_name": "ExampleModel",
      "state": {
       "_model_module_version": "^0.1.22",
       "_view_module_version": "^0.1.22",
       "code_json": "{\"code\": \"0\"}",
       "column_spreadsheet_code_json": "{\"A\": \"\", \"C\": \"=0\", \"B\": \"=AVG(A)\"}",
       "df_name": "",
       "layout": "IPY_MODEL_9b53ed1332064b73b04ee24c3f204e0c",
       "sheet_json": "{\"columns\": [\"A\", \"C\", \"B\"], \"index\": [0], \"data\": [[123, 0, 123.0]]}",
       "user_id": "nate",
       "value": "Hello World"
      }
     },
     "f0ce9383ddd445b588285d4fa5c4213c": {
      "model_module": "@jupyter-widgets/base",
      "model_module_version": "1.2.0",
      "model_name": "LayoutModel",
      "state": {}
     },
     "f37e560f15ef416c8e0ebd42264da6e6": {
      "model_module": "@jupyter-widgets/base",
      "model_module_version": "1.2.0",
      "model_name": "LayoutModel",
      "state": {}
     },
     "f623de1673784bfd99357f18b338eced": {
      "model_module": "@jupyter-widgets/base",
      "model_module_version": "1.2.0",
      "model_name": "LayoutModel",
      "state": {}
     },
     "f8a1deb744994fdfaeccf0ed18bb7eca": {
      "model_module": "@jupyter-widgets/base",
      "model_module_version": "1.2.0",
      "model_name": "LayoutModel",
      "state": {}
     },
     "fb9faa0398d44e8f8be55d02fb4d2e28": {
      "model_module": "@jupyter-widgets/base",
      "model_module_version": "1.2.0",
      "model_name": "LayoutModel",
      "state": {}
     },
     "fd73274004b4418b8869d25f3f114050": {
      "model_module": "mitosheet",
      "model_module_version": "^0.1.22",
      "model_name": "ExampleModel",
      "state": {
       "_model_module_version": "^0.1.22",
       "_view_module_version": "^0.1.22",
       "code_json": "{\"code\": \"0\"}",
       "column_spreadsheet_code_json": "{\"A\": \"\", \"C\": \"=0\", \"B\": \"=AVG(A)\"}",
       "df_name": "",
       "layout": "IPY_MODEL_0dc67298f2e8486083d6fca6398119b4",
       "sheet_json": "{\"columns\": [\"A\", \"C\", \"B\"], \"index\": [0], \"data\": [[123, 0, 123.0]]}",
       "user_id": "nate",
       "value": "Hello World"
      }
     },
     "ff10a7c4571043dcadfbc68b47ca31f2": {
      "model_module": "@jupyter-widgets/base",
      "model_module_version": "1.2.0",
      "model_name": "LayoutModel",
      "state": {}
     }
    },
    "version_major": 2,
    "version_minor": 0
   }
  }
 },
 "nbformat": 4,
 "nbformat_minor": 4
}
