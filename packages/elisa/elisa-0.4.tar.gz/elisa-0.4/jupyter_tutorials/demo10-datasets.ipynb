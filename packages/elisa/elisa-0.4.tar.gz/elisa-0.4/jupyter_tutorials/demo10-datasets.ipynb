{
 "cells": [
  {
   "cell_type": "markdown",
   "metadata": {},
   "source": [
    "# Demo No. 10 - Data sets"
   ]
  },
  {
   "cell_type": "markdown",
   "metadata": {},
   "source": [
    "In this demo, we will introduce a new class of objects dedicated to handling observations such as radial velocities and light curves. Main task of the data handling classes is to unify various input data formats and to transform them into the form consistent with our analytics tools described in the later demos."
   ]
  },
  {
   "cell_type": "code",
   "execution_count": 1,
   "metadata": {},
   "outputs": [],
   "source": [
    "import astropy.units as u\n",
    "\n",
    "from elisa.analytics import LCData, RVData"
   ]
  },
  {
   "cell_type": "markdown",
   "metadata": {},
   "source": [
    "Initially, we should define an observational data with which we will work. The easiest way how to do so is to load them directly from file:"
   ]
  },
  {
   "cell_type": "code",
   "execution_count": 2,
   "metadata": {},
   "outputs": [],
   "source": [
    "rv_filename = 'demo_data/rv_data/rv1.dat'\n",
    "lc_filename = 'demo_data/lc_data/Vmag.dat'\n",
    "\n",
    "# radial velocities, column indices are expected in order (time, rv, rv_err)\n",
    "rv_data = RVData.load_from_file(rv_filename, x_unit=u.d, y_unit=u.km/u.s, data_columns=(0, 1, 2))\n",
    "\n",
    "# light curve\n",
    "lcV_data = LCData.load_from_file(lc_filename, x_unit=u.d, y_unit=u.mag, data_columns=(0, 1, 2), reference_magnitude=-0.98)"
   ]
  },
  {
   "cell_type": "markdown",
   "metadata": {},
   "source": [
    "Datasets can be initialized also from arrays using following syntax. After the initialization of `lcV_data` dataset, magnitudes were converted into fluxes. Therefore this time, `reference magnitude` was not needed:"
   ]
  },
  {
   "cell_type": "code",
   "execution_count": 3,
   "metadata": {},
   "outputs": [],
   "source": [
    "lcV_data2 = LCData(x_data=lcV_data.x_data, \n",
    "                   y_data=lcV_data.y_data, \n",
    "                   y_err=lcV_data.y_err, \n",
    "                   x_unit=lcV_data.x_unit, \n",
    "                   y_unit=lcV_data.y_unit,\n",
    "                  )"
   ]
  },
  {
   "cell_type": "markdown",
   "metadata": {},
   "source": [
    "These data sets are now converted into base Elisa base units:"
   ]
  },
  {
   "cell_type": "code",
   "execution_count": 4,
   "metadata": {},
   "outputs": [
    {
     "data": {
      "text/plain": [
       "(array([55368.6964, 55369.6875, 55369.7405, 55369.7709, 55369.819 ,\n",
       "        55401.8413, 55401.9126, 55405.7796, 55431.7139, 55432.75  ,\n",
       "        55432.782 , 55432.848 , 55432.9085, 55716.9126, 55753.8661,\n",
       "        55815.8161, 56234.6485, 56235.6521, 56488.6784]),\n",
       " Unit(\"d\"),\n",
       " array([  26450., -138280., -137220., -120840., -107080., -144060.,\n",
       "        -110210.,   25740.,  -65020.,   71840.,   67420.,   58270.,\n",
       "          35850.,   50850.,   70880.,   27820.,  -62810.,   68450.,\n",
       "        -134760.]),\n",
       " Unit(\"m / s\"))"
      ]
     },
     "execution_count": 4,
     "metadata": {},
     "output_type": "execute_result"
    }
   ],
   "source": [
    "rv_data.x_data, rv_data.x_unit, rv_data.y_data, rv_data.y_unit"
   ]
  },
  {
   "cell_type": "code",
   "execution_count": 5,
   "metadata": {},
   "outputs": [
    {
     "data": {
      "text/plain": [
       "(array([2457956.4478211, 2457956.4489206, 2457956.4501243, 2457956.451328 ,\n",
       "        2457956.4525202, 2457956.4537239, 2457956.4549276, 2457956.4561545,\n",
       "        2457956.4574045, 2457956.4585966, 2457956.4598582, 2457956.4610619,\n",
       "        2457956.4622772, 2457956.4634694, 2457956.4646847, 2457956.4658884,\n",
       "        2457956.4670805, 2457956.4682842, 2457956.4694879, 2457956.4707032,\n",
       "        2457956.4719417, 2457956.4731338, 2457956.4743607, 2457956.475576 ,\n",
       "        2457956.4768144, 2457956.4780297, 2457956.4792566, 2457956.480495 ,\n",
       "        2457956.4817219, 2457956.4829372, 2457956.4841524, 2457956.4854025,\n",
       "        2457956.4866525, 2457956.4878678, 2457956.489083 , 2457956.4902983,\n",
       "        2457956.4915484, 2457956.4927868, 2457956.4940137, 2457956.4952405,\n",
       "        2457956.496479 , 2457956.4977058, 2457956.4989327, 2457956.500148 ,\n",
       "        2457956.5013748, 2457956.5026364, 2457956.5038749, 2457956.5050902,\n",
       "        2457956.5062939, 2457956.507486 , 2457956.5087476, 2457956.5099976,\n",
       "        2457956.511236 , 2457956.5124629, 2457956.5136782, 2457956.5148935,\n",
       "        2457956.5161088, 2457956.5173472, 2457956.5185625, 2457956.5197894,\n",
       "        2457956.5210162, 2457956.5222431, 2457956.52347  , 2457956.5246853,\n",
       "        2457956.5259121, 2457956.5271274, 2457956.5283658, 2457956.5296043,\n",
       "        2457956.5308427, 2457956.532058 , 2457956.5332849, 2457956.5345233,\n",
       "        2457956.5357502, 2457956.5370002, 2457956.5382039, 2457956.5394539,\n",
       "        2457956.5406808, 2457956.5419192, 2457956.5431577, 2457956.5443961,\n",
       "        2457956.5455998, 2457956.5468035, 2457956.5480304, 2457956.5492573,\n",
       "        2457956.5505073, 2457956.5517457]),\n",
       " Unit(\"d\"),\n",
       " array([0.99727745, 1.00214831, 1.00308099, 0.99884937, 1.00143785,\n",
       "        0.99852743, 0.99328986, 0.98963717, 0.97948999, 0.98181124,\n",
       "        0.98483619, 0.98013072, 0.97768736, 0.97936369, 0.97454074,\n",
       "        0.97901197, 0.97289058, 0.96280869, 0.95546768, 0.9613112 ,\n",
       "        0.96071816, 0.96711028, 0.95486066, 0.95898541, 0.95804079,\n",
       "        0.96130234, 0.95580214, 0.9578908 , 0.95377954, 0.96566836,\n",
       "        0.95898541, 0.96508152, 0.95558209, 0.96063853, 0.96465496,\n",
       "        0.96861681, 0.9666205 , 0.96829569, 0.97843505, 0.9718338 ,\n",
       "        0.96923257, 0.97110905, 0.98138632, 0.975924  , 0.97906607,\n",
       "        0.98291508, 0.98386611, 0.98438276, 0.98280645, 0.97991408,\n",
       "        0.98337689, 0.9890631 , 0.98594344, 0.98545319, 0.99488298,\n",
       "        0.98315049, 0.98828909, 0.98054606, 0.99761736, 0.9736346 ,\n",
       "        0.9839386 , 1.00425499, 0.98728832, 0.9765714 , 0.98566197,\n",
       "        0.98927264, 0.99197334, 1.00238833, 0.99781953, 1.00074632,\n",
       "        1.00910417, 1.01197084, 1.0180099 , 1.01383668, 1.02578419,\n",
       "        1.01921076, 1.02152265, 1.01989626, 1.04032252, 1.0283951 ,\n",
       "        1.03101266, 1.02829092, 1.04124277, 1.03812106, 1.05270819,\n",
       "        1.05559178]),\n",
       " Unit(dimensionless))"
      ]
     },
     "execution_count": 5,
     "metadata": {},
     "output_type": "execute_result"
    }
   ],
   "source": [
    "lcV_data.x_data, lcV_data.x_unit, lcV_data.y_data, lcV_data.y_unit"
   ]
  },
  {
   "cell_type": "markdown",
   "metadata": {},
   "source": [
    "Data stored in `Dataset` are now ready to be used in analytics methods described later."
   ]
  },
  {
   "cell_type": "code",
   "execution_count": null,
   "metadata": {},
   "outputs": [],
   "source": []
  }
 ],
 "metadata": {
  "kernelspec": {
   "display_name": "Python 3",
   "language": "python",
   "name": "python3"
  },
  "language_info": {
   "codemirror_mode": {
    "name": "ipython",
    "version": 3
   },
   "file_extension": ".py",
   "mimetype": "text/x-python",
   "name": "python",
   "nbconvert_exporter": "python",
   "pygments_lexer": "ipython3",
   "version": "3.6.11"
  },
  "pycharm": {
   "stem_cell": {
    "cell_type": "raw",
    "metadata": {
     "collapsed": false
    },
    "source": []
   }
  }
 },
 "nbformat": 4,
 "nbformat_minor": 2
}
