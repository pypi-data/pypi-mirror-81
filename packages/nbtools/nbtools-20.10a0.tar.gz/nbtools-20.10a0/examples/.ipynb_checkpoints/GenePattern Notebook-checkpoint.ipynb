{
 "cells": [
  {
   "cell_type": "code",
   "execution_count": 2,
   "metadata": {},
   "outputs": [
    {
     "data": {
      "application/vnd.jupyter.widget-view+json": {
       "model_id": "31eec4279b2947419fc6f286ceddd841",
       "version_major": 2,
       "version_minor": 0
      },
      "text/plain": [
       "GPAuthWidget(buttons={'Register an Account': \"\\n    const target = event.target;\\n    const widget = target.cl…"
      ]
     },
     "metadata": {},
     "output_type": "display_data"
    },
    {
     "data": {
      "application/vnd.jupyter.widget-view+json": {
       "model_id": "b895b83929224f26878260e3c65870ce",
       "version_major": 2,
       "version_minor": 0
      },
      "text/plain": [
       "Output()"
      ]
     },
     "metadata": {},
     "output_type": "display_data"
    }
   ],
   "source": [
    "import nbtools\n",
    "\n",
    "login = nbtools.tool(id='authentication', origin='+')\n",
    "login"
   ]
  },
  {
   "cell_type": "code",
   "execution_count": 3,
   "metadata": {},
   "outputs": [
    {
     "data": {
      "application/vnd.jupyter.widget-view+json": {
       "model_id": "b27ffe5e16dd4dcf8089e2e5c6929e6e",
       "version_major": 2,
       "version_minor": 0
      },
      "text/plain": [
       "UIOutput(appendix=VBox(), error='Cannot find tool: GenePattern Cloud | urn:lsid:broad.mit.edu:cancer.software.…"
      ]
     },
     "metadata": {},
     "output_type": "display_data"
    },
    {
     "data": {
      "application/vnd.jupyter.widget-view+json": {
       "model_id": "bfd31b5ed08c4832b669334336581d35",
       "version_major": 2,
       "version_minor": 0
      },
      "text/plain": [
       "Output(outputs=({'output_type': 'display_data', 'data': {}, 'metadata': {}},))"
      ]
     },
     "metadata": {},
     "output_type": "display_data"
    }
   ],
   "source": [
    "nbtools.tool(id='urn:lsid:broad.mit.edu:cancer.software.genepattern.module.analysis:00002:2', origin='GenePattern Cloud')"
   ]
  },
  {
   "cell_type": "code",
   "execution_count": 4,
   "metadata": {},
   "outputs": [
    {
     "data": {
      "application/vnd.jupyter.widget-view+json": {
       "model_id": "f5831c9c420e4679abd6d04092b30b0d",
       "version_major": 2,
       "version_minor": 0
      },
      "text/plain": [
       "UIOutput(appendix=VBox(), error='Cannot find tool: GenePattern Cloud | urn:lsid:broad.mit.edu:cancer.software.…"
      ]
     },
     "metadata": {},
     "output_type": "display_data"
    },
    {
     "data": {
      "application/vnd.jupyter.widget-view+json": {
       "model_id": "975e38fe2bc24cbe8cfa62835a072975",
       "version_major": 2,
       "version_minor": 0
      },
      "text/plain": [
       "Output(outputs=({'output_type': 'display_data', 'data': {}, 'metadata': {}},))"
      ]
     },
     "metadata": {},
     "output_type": "display_data"
    }
   ],
   "source": [
    "nbtools.tool(id='urn:lsid:broad.mit.edu:cancer.software.genepattern.module.visualizer:00010:13.9', origin='GenePattern Cloud')"
   ]
  },
  {
   "cell_type": "code",
   "execution_count": 5,
   "metadata": {},
   "outputs": [
    {
     "data": {
      "application/vnd.jupyter.widget-view+json": {
       "model_id": "045a9fec05c141688d6d0e8752ec9fd4",
       "version_major": 2,
       "version_minor": 0
      },
      "text/plain": [
       "GPJobWidget(appendix=VBox(), color='rgba(10, 45, 105, 0.80)', error='You must be authenticated before the job …"
      ]
     },
     "metadata": {},
     "output_type": "display_data"
    }
   ],
   "source": [
    "import gp\n",
    "\n",
    "job = gp.GPJob(genepattern.session.get(0), 277196)\n",
    "w = genepattern.GPJobWidget(job)\n",
    "w"
   ]
  },
  {
   "cell_type": "code",
   "execution_count": null,
   "metadata": {},
   "outputs": [],
   "source": []
  }
 ],
 "metadata": {
  "kernelspec": {
   "display_name": "Python 3",
   "language": "python",
   "name": "python3"
  },
  "language_info": {
   "codemirror_mode": {
    "name": "ipython",
    "version": 3
   },
   "file_extension": ".py",
   "mimetype": "text/x-python",
   "name": "python",
   "nbconvert_exporter": "python",
   "pygments_lexer": "ipython3",
   "version": "3.7.6"
  },
  "widgets": {
   "application/vnd.jupyter.widget-state+json": {
    "state": {
     "009906464f5c4abfb632feb22e3be808": {
      "model_module": "@jupyter-widgets/base",
      "model_module_version": "1.2.0",
      "model_name": "LayoutModel",
      "state": {
       "grid_area": "input",
       "width": "auto"
      }
     },
     "011614acc62740a0819ce1e5f5baa816": {
      "model_module": "@jupyter-widgets/controls",
      "model_module_version": "1.5.0",
      "model_name": "LabelModel",
      "state": {
       "description": "Username",
       "layout": "IPY_MODEL_b109bacc04324f2089ad2d5a9fa49dee",
       "style": "IPY_MODEL_f4d981a4c9fb4d74bfe43881a91e2e7e",
       "value": "Username*"
      }
     },
     "031f14326be54126ae105cb8e155b42f": {
      "model_module": "@jupyter-widgets/controls",
      "model_module_version": "1.5.0",
      "model_name": "GridBoxModel",
      "state": {
       "_dom_classes": [
        "nbtools-input",
        "nbtools-textinput",
        "required"
       ],
       "children": [
        "IPY_MODEL_011614acc62740a0819ce1e5f5baa816",
        "IPY_MODEL_bc2ad8bcc5864a33a2cb0e8aae91a6ab",
        "IPY_MODEL_9bd751eca1f94f11bd999cb0729a0019"
       ],
       "layout": "IPY_MODEL_1cd2dc12eb004a22871f0eab790e89bb"
      }
     },
     "045a9fec05c141688d6d0e8752ec9fd4": {
      "model_module": "@genepattern/nbtools",
      "model_module_version": "^0.2.0",
      "model_name": "UIOutputModel",
      "state": {
       "_dom_classes": [],
       "_model_module_version": "^0.2.0",
       "_view_count": null,
       "_view_module_version": "^0.2.0",
       "appendix": "IPY_MODEL_876eb12b0d7044e98e76e15fcb7fe3be",
       "color": "rgba(10, 45, 105, 0.80)",
       "error": "You must be authenticated before the job can be displayed. After you authenticate it may take a few seconds for the information to appear.",
       "extra_menu_items": {
        "Detach Job": {
         "action": "cell",
         "code": "genepattern.display(gp.GPJob(genepattern.session.get(0), 277196))"
        },
        "Share Job": {
         "action": "method",
         "code": "toggle_job_sharing"
        }
       },
       "layout": "IPY_MODEL_cf4bd75400664a0c9a8abc0d41120908",
       "name": "Not Authenticated"
      }
     },
     "04d43ea91f82430babac7f5fd93cdcc2": {
      "model_module": "@jupyter-widgets/base",
      "model_module_version": "1.2.0",
      "model_name": "LayoutModel",
      "state": {}
     },
     "04ef7c94ab734e4f8564aa7a4f4c4c5e": {
      "model_module": "@jupyter-widgets/base",
      "model_module_version": "1.2.0",
      "model_name": "LayoutModel",
      "state": {
       "display": "none",
       "grid_template_areas": "\n                    \"label input\"\n                    \". description\"\n                ",
       "grid_template_columns": "25% 75%",
       "grid_template_rows": "auto auto",
       "width": "100%"
      }
     },
     "07f666f0b615455ba7eaf730dbd00dba": {
      "model_module": "@jupyter-widgets/base",
      "model_module_version": "1.2.0",
      "model_name": "LayoutModel",
      "state": {
       "grid_template_areas": "\n                    \"label input\"\n                    \". description\"\n                ",
       "grid_template_columns": "25% 75%",
       "grid_template_rows": "auto auto",
       "width": "100%"
      }
     },
     "0d68e3439d4247739ffe78c85aa801bc": {
      "model_module": "@jupyter-widgets/controls",
      "model_module_version": "1.5.0",
      "model_name": "VBoxModel",
      "state": {
       "layout": "IPY_MODEL_d0c13a4ed9e6436585920409547f8c08"
      }
     },
     "0ea8495596b2458d9ee21e12949b4e7d": {
      "model_module": "@jupyter-widgets/controls",
      "model_module_version": "1.5.0",
      "model_name": "ButtonModel",
      "state": {
       "_dom_classes": [
        "hidden"
       ],
       "description": "Run",
       "layout": "IPY_MODEL_432617e55f8e4bb89391f99a2c5d1054",
       "style": "IPY_MODEL_c872b8ed95e74573be26486e1ab259e2"
      }
     },
     "11219462220e40d994c2040e38183ff1": {
      "model_module": "@jupyter-widgets/controls",
      "model_module_version": "1.5.0",
      "model_name": "GridBoxModel",
      "state": {
       "_dom_classes": [
        "nbtools-input",
        "nbtools-comboinput",
        "required"
       ],
       "children": [
        "IPY_MODEL_490070ddd2484393a3ab940e090c6233",
        "IPY_MODEL_7b3f1110b6684fe881a0ca93e23828da",
        "IPY_MODEL_1e50927958eb4a738443b00d163d603c"
       ],
       "layout": "IPY_MODEL_07f666f0b615455ba7eaf730dbd00dba"
      }
     },
     "159c68df29c647738e1fdf72bc47d1c0": {
      "model_module": "@jupyter-widgets/base",
      "model_module_version": "1.2.0",
      "model_name": "LayoutModel",
      "state": {}
     },
     "1cd2dc12eb004a22871f0eab790e89bb": {
      "model_module": "@jupyter-widgets/base",
      "model_module_version": "1.2.0",
      "model_name": "LayoutModel",
      "state": {
       "grid_template_areas": "\n                    \"label input\"\n                    \". description\"\n                ",
       "grid_template_columns": "25% 75%",
       "grid_template_rows": "auto auto",
       "width": "100%"
      }
     },
     "1cf3c1bdc3ab4f23b75c2e097fdf8037": {
      "model_module": "@jupyter-widgets/controls",
      "model_module_version": "1.5.0",
      "model_name": "TextModel",
      "state": {
       "_dom_classes": [
        "nbtools-menu-attached"
       ],
       "layout": "IPY_MODEL_304c129865974c05affa352ab9ffd5f8",
       "style": "IPY_MODEL_ca5f83f3d3ec48bcb242cd6b76ec82dd"
      }
     },
     "1e50927958eb4a738443b00d163d603c": {
      "model_module": "@jupyter-widgets/controls",
      "model_module_version": "1.5.0",
      "model_name": "LabelModel",
      "state": {
       "layout": "IPY_MODEL_70eec38d3f7f4934a54aa0d2b0dba0c4",
       "style": "IPY_MODEL_5a03facdcb5447bd963dca9f9679436e"
      }
     },
     "22f39d6192c94bc19a93d43f7e1d87e7": {
      "model_module": "@jupyter-widgets/controls",
      "model_module_version": "1.5.0",
      "model_name": "LabelModel",
      "state": {
       "layout": "IPY_MODEL_b3b47681b2054d4aaeb98dd222cee89c",
       "style": "IPY_MODEL_b648902b85db4e418a364c16b884d82c"
      }
     },
     "237e06cedf4646389e79de5443442787": {
      "model_module": "@jupyter-widgets/controls",
      "model_module_version": "1.5.0",
      "model_name": "ButtonModel",
      "state": {
       "_dom_classes": [
        "hidden"
       ],
       "description": "Run",
       "layout": "IPY_MODEL_6231550f3cdb4fdaa0ec320b049ce0a5",
       "style": "IPY_MODEL_a8116692468f4d1e8f29f9e6a8db6e04"
      }
     },
     "256321225bc546c193bdcb02abf2f3b3": {
      "model_module": "@jupyter-widgets/base",
      "model_module_version": "1.2.0",
      "model_name": "LayoutModel",
      "state": {}
     },
     "2b4915ed9def44cd8bd652f752576e7d": {
      "model_module": "@jupyter-widgets/base",
      "model_module_version": "1.2.0",
      "model_name": "LayoutModel",
      "state": {}
     },
     "2cb635ff957b48deba8b2f6091f823d2": {
      "model_module": "@jupyter-widgets/controls",
      "model_module_version": "1.5.0",
      "model_name": "LabelModel",
      "state": {
       "layout": "IPY_MODEL_f7d7320c041c49dd8aa8902d344fe05b",
       "style": "IPY_MODEL_6857b37751c24c8e9f7e270390337937"
      }
     },
     "2cfcb7c4d28443c1b72b79d0acac9368": {
      "model_module": "@jupyter-widgets/controls",
      "model_module_version": "1.5.0",
      "model_name": "DescriptionStyleModel",
      "state": {
       "description_width": ""
      }
     },
     "2d9903444ff64a74b3da48850574778d": {
      "model_module": "@jupyter-widgets/controls",
      "model_module_version": "1.5.0",
      "model_name": "VBoxModel",
      "state": {
       "_dom_classes": [
        "widget-interact"
       ],
       "children": [
        "IPY_MODEL_237e06cedf4646389e79de5443442787",
        "IPY_MODEL_ad6ee91cf3c54b398a1206fcbabef9c5"
       ],
       "layout": "IPY_MODEL_4c9593e8b08c42c995fc620ceb7fe465"
      }
     },
     "304c129865974c05affa352ab9ffd5f8": {
      "model_module": "@jupyter-widgets/base",
      "model_module_version": "1.2.0",
      "model_name": "LayoutModel",
      "state": {
       "grid_area": "input",
       "width": "auto"
      }
     },
     "31eec4279b2947419fc6f286ceddd841": {
      "model_module": "@genepattern/nbtools",
      "model_module_version": "^0.2.0",
      "model_name": "UIBuilderModel",
      "state": {
       "_dom_classes": [],
       "_model_module_version": "^0.2.0",
       "_parameters": [
        {
         "choices": {
          "Broad Internal": "https://gpbroad.broadinstitute.org/gp",
          "GenePattern Cloud": "https://cloud.genepattern.org/gp",
          "Indiana University": "https://gp.indiana.edu/gp"
         },
         "combo": true,
         "default": "https://cloud.genepattern.org/gp",
         "description": "",
         "events": null,
         "hide": false,
         "id": null,
         "kinds": null,
         "label": "GenePattern Server",
         "name": "server",
         "optional": false,
         "sendto": false,
         "type": "choice",
         "value": ""
        },
        {
         "choices": {},
         "default": "",
         "description": "",
         "events": null,
         "hide": false,
         "id": null,
         "kinds": null,
         "label": "Username",
         "name": "username",
         "optional": false,
         "sendto": false,
         "type": "text",
         "value": ""
        },
        {
         "choices": {},
         "default": "",
         "description": "",
         "events": null,
         "hide": false,
         "id": null,
         "kinds": null,
         "label": "Password",
         "name": "password",
         "optional": false,
         "sendto": false,
         "type": "password",
         "value": ""
        },
        {
         "choices": {},
         "default": "",
         "description": "",
         "events": null,
         "hide": true,
         "id": null,
         "kinds": null,
         "label": "output variable",
         "name": "output_var",
         "optional": true,
         "type": "text",
         "value": ""
        }
       ],
       "_view_count": null,
       "_view_module_version": "^0.2.0",
       "buttons": {
        "Register an Account": "\n    const target = event.target;\n    const widget = target.closest('.nbtools') || target;\n    const server_input = widget.querySelector('input[type=text]');\n    if (server_input) window.open(server_input.value + '/pages/registerUser.jsf');\n    else console.warn('Cannot obtain GenePattern Server URL');"
       },
       "collapse": false,
       "color": "rgba(10, 45, 105, 0.80)",
       "description": "Login to the GenePattern server",
       "display_header": false,
       "form": "IPY_MODEL_8c6fd07a4b4345e8bb8c62d117534c81",
       "layout": "IPY_MODEL_e6ffbb39652c4a8a86fe5be84d83a7cc",
       "name": "Login",
       "origin": "genepattern.authwidget",
       "output": "IPY_MODEL_b895b83929224f26878260e3c65870ce",
       "output_var": "",
       "run_label": "Log into GenePattern"
      }
     },
     "432617e55f8e4bb89391f99a2c5d1054": {
      "model_module": "@jupyter-widgets/base",
      "model_module_version": "1.2.0",
      "model_name": "LayoutModel",
      "state": {}
     },
     "46312509cc864c9bacf819ac6e9ab3d3": {
      "model_module": "@jupyter-widgets/controls",
      "model_module_version": "1.5.0",
      "model_name": "LabelModel",
      "state": {
       "description": "Password",
       "layout": "IPY_MODEL_c2d887db58c34d6b853354007cf0266c",
       "style": "IPY_MODEL_781938140d3846cc8ec578227a37bbd9",
       "value": "Password*"
      }
     },
     "463eb69145f5491aa732ad88e266ed68": {
      "model_module": "@jupyter-widgets/controls",
      "model_module_version": "1.5.0",
      "model_name": "VBoxModel",
      "state": {
       "layout": "IPY_MODEL_159c68df29c647738e1fdf72bc47d1c0"
      }
     },
     "490070ddd2484393a3ab940e090c6233": {
      "model_module": "@jupyter-widgets/controls",
      "model_module_version": "1.5.0",
      "model_name": "LabelModel",
      "state": {
       "description": "GenePattern Server",
       "layout": "IPY_MODEL_4aec396ba9b54aec8a02ed8b59375a37",
       "style": "IPY_MODEL_bea5699bdef748178a0532c9b6e132a7",
       "value": "GenePattern Server*"
      }
     },
     "492cf7d5ee7b45d6bf6bf2ddc85d6d93": {
      "model_module": "@jupyter-widgets/controls",
      "model_module_version": "1.5.0",
      "model_name": "TextModel",
      "state": {
       "_dom_classes": [
        "nbtools-menu-attached"
       ],
       "layout": "IPY_MODEL_6cd50c5d6d6d40f7a9c2076f31a27fdc",
       "style": "IPY_MODEL_9e2b2436cd7043648c2f7f53ff51d337"
      }
     },
     "4aec396ba9b54aec8a02ed8b59375a37": {
      "model_module": "@jupyter-widgets/base",
      "model_module_version": "1.2.0",
      "model_name": "LayoutModel",
      "state": {
       "grid_area": "label",
       "width": "auto"
      }
     },
     "4b43843aa82445e49d86b7cdc030e64d": {
      "model_module": "@jupyter-widgets/controls",
      "model_module_version": "1.5.0",
      "model_name": "GridBoxModel",
      "state": {
       "_dom_classes": [
        "nbtools-input",
        "nbtools-textinput"
       ],
       "children": [
        "IPY_MODEL_985d5566732446c191b31d93c0e924c1",
        "IPY_MODEL_492cf7d5ee7b45d6bf6bf2ddc85d6d93",
        "IPY_MODEL_c28f43b8717c48078e5a607f3718e605"
       ],
       "layout": "IPY_MODEL_f7698848c65d4be29af901169ff069f3"
      }
     },
     "4c9593e8b08c42c995fc620ceb7fe465": {
      "model_module": "@jupyter-widgets/base",
      "model_module_version": "1.2.0",
      "model_name": "LayoutModel",
      "state": {}
     },
     "5019f61fa6d84e80aca949ac7ed9ff08": {
      "model_module": "@jupyter-widgets/base",
      "model_module_version": "1.2.0",
      "model_name": "LayoutModel",
      "state": {
       "grid_area": "label",
       "width": "auto"
      }
     },
     "561a958473484b0b945c9f811dcf1a90": {
      "model_module": "@jupyter-widgets/controls",
      "model_module_version": "1.5.0",
      "model_name": "GridBoxModel",
      "state": {
       "_dom_classes": [
        "nbtools-input",
        "nbtools-passwordinput",
        "required"
       ],
       "children": [
        "IPY_MODEL_46312509cc864c9bacf819ac6e9ab3d3",
        "IPY_MODEL_79f3ac07d10b4a9b94f487a5d10b6f5b",
        "IPY_MODEL_22f39d6192c94bc19a93d43f7e1d87e7"
       ],
       "layout": "IPY_MODEL_9a945a9d328f4052891742b41fa5ba36"
      }
     },
     "56c14c156e1e42d2bf2e1d3eaeabb50c": {
      "model_module": "@jupyter-widgets/output",
      "model_module_version": "1.0.0",
      "model_name": "OutputModel",
      "state": {
       "layout": "IPY_MODEL_2b4915ed9def44cd8bd652f752576e7d"
      }
     },
     "5a03facdcb5447bd963dca9f9679436e": {
      "model_module": "@jupyter-widgets/controls",
      "model_module_version": "1.5.0",
      "model_name": "DescriptionStyleModel",
      "state": {
       "description_width": ""
      }
     },
     "5aac1b64a14141bc8d44818c7d4ea14e": {
      "model_module": "@jupyter-widgets/base",
      "model_module_version": "1.2.0",
      "model_name": "LayoutModel",
      "state": {
       "grid_area": "description",
       "width": "auto"
      }
     },
     "61ee4a35c29a4cde82aa9174d384f2ef": {
      "model_module": "@jupyter-widgets/controls",
      "model_module_version": "1.5.0",
      "model_name": "DescriptionStyleModel",
      "state": {
       "description_width": ""
      }
     },
     "6231550f3cdb4fdaa0ec320b049ce0a5": {
      "model_module": "@jupyter-widgets/base",
      "model_module_version": "1.2.0",
      "model_name": "LayoutModel",
      "state": {}
     },
     "6857b37751c24c8e9f7e270390337937": {
      "model_module": "@jupyter-widgets/controls",
      "model_module_version": "1.5.0",
      "model_name": "DescriptionStyleModel",
      "state": {
       "description_width": ""
      }
     },
     "6cd50c5d6d6d40f7a9c2076f31a27fdc": {
      "model_module": "@jupyter-widgets/base",
      "model_module_version": "1.2.0",
      "model_name": "LayoutModel",
      "state": {
       "grid_area": "input",
       "width": "auto"
      }
     },
     "70eec38d3f7f4934a54aa0d2b0dba0c4": {
      "model_module": "@jupyter-widgets/base",
      "model_module_version": "1.2.0",
      "model_name": "LayoutModel",
      "state": {
       "grid_area": "description",
       "width": "auto"
      }
     },
     "75e3fb2c75af45c285153c6ca86bee37": {
      "model_module": "@jupyter-widgets/base",
      "model_module_version": "1.2.0",
      "model_name": "LayoutModel",
      "state": {}
     },
     "781938140d3846cc8ec578227a37bbd9": {
      "model_module": "@jupyter-widgets/controls",
      "model_module_version": "1.5.0",
      "model_name": "DescriptionStyleModel",
      "state": {
       "description_width": ""
      }
     },
     "79f3ac07d10b4a9b94f487a5d10b6f5b": {
      "model_module": "@jupyter-widgets/controls",
      "model_module_version": "1.5.0",
      "model_name": "PasswordModel",
      "state": {
       "layout": "IPY_MODEL_009906464f5c4abfb632feb22e3be808",
       "style": "IPY_MODEL_9eb2a29ec9674acd9928577dcd3a238e"
      }
     },
     "7b3f1110b6684fe881a0ca93e23828da": {
      "model_module": "@jupyter-widgets/controls",
      "model_module_version": "1.5.0",
      "model_name": "ComboboxModel",
      "state": {
       "_dom_classes": [
        "nbtools-menu-attached",
        "nbtools-nosendto"
       ],
       "choices": {
        "Broad Internal": "https://gpbroad.broadinstitute.org/gp",
        "GenePattern Cloud": "https://cloud.genepattern.org/gp",
        "Indiana University": "https://gp.indiana.edu/gp"
       },
       "ensure_option": false,
       "kinds": [],
       "layout": "IPY_MODEL_ee2b34745e344a0a816bf82422eb02a3",
       "style": "IPY_MODEL_e3a5d83af49a47f78de749a978975830",
       "value": "https://cloud.genepattern.org/gp"
      }
     },
     "835fa7679aaf4f0d942837fdf8851e1d": {
      "model_module": "@jupyter-widgets/base",
      "model_module_version": "1.2.0",
      "model_name": "LayoutModel",
      "state": {}
     },
     "876eb12b0d7044e98e76e15fcb7fe3be": {
      "model_module": "@jupyter-widgets/controls",
      "model_module_version": "1.5.0",
      "model_name": "VBoxModel",
      "state": {
       "layout": "IPY_MODEL_04d43ea91f82430babac7f5fd93cdcc2"
      }
     },
     "89a5b0796f274b4897d487baf0259dd1": {
      "model_module": "@jupyter-widgets/base",
      "model_module_version": "1.2.0",
      "model_name": "LayoutModel",
      "state": {
       "grid_area": "description",
       "width": "auto"
      }
     },
     "8c5d00e5afd04909a392f2729b373aca": {
      "model_module": "@jupyter-widgets/controls",
      "model_module_version": "1.5.0",
      "model_name": "DescriptionStyleModel",
      "state": {
       "description_width": ""
      }
     },
     "8c6fd07a4b4345e8bb8c62d117534c81": {
      "model_module": "@jupyter-widgets/controls",
      "model_module_version": "1.5.0",
      "model_name": "VBoxModel",
      "state": {
       "_dom_classes": [
        "widget-interact"
       ],
       "children": [
        "IPY_MODEL_11219462220e40d994c2040e38183ff1",
        "IPY_MODEL_031f14326be54126ae105cb8e155b42f",
        "IPY_MODEL_561a958473484b0b945c9f811dcf1a90",
        "IPY_MODEL_0ea8495596b2458d9ee21e12949b4e7d",
        "IPY_MODEL_abbf087151db42fa9ac7d54f71e7aaa5"
       ],
       "layout": "IPY_MODEL_835fa7679aaf4f0d942837fdf8851e1d"
      }
     },
     "8c91d793d0cf4cc6a831ad81cf3e8d06": {
      "model_module": "@jupyter-widgets/controls",
      "model_module_version": "1.5.0",
      "model_name": "DescriptionStyleModel",
      "state": {
       "description_width": ""
      }
     },
     "8d8740c91e0b4541a764c1fb10c70d79": {
      "model_module": "@jupyter-widgets/controls",
      "model_module_version": "1.5.0",
      "model_name": "LabelModel",
      "state": {
       "description": "output variable",
       "layout": "IPY_MODEL_5019f61fa6d84e80aca949ac7ed9ff08",
       "style": "IPY_MODEL_8c5d00e5afd04909a392f2729b373aca",
       "value": "output variable"
      }
     },
     "8e51f04e304f443a9bdbc8167b130210": {
      "model_module": "@jupyter-widgets/base",
      "model_module_version": "1.2.0",
      "model_name": "LayoutModel",
      "state": {
       "grid_area": "label",
       "width": "auto"
      }
     },
     "975e38fe2bc24cbe8cfa62835a072975": {
      "model_module": "@jupyter-widgets/output",
      "model_module_version": "1.0.0",
      "model_name": "OutputModel",
      "state": {
       "layout": "IPY_MODEL_e2161ff2859e409ea57210763dff361e",
       "outputs": [
        {
         "data": {},
         "metadata": {},
         "output_type": "display_data"
        }
       ]
      }
     },
     "985d5566732446c191b31d93c0e924c1": {
      "model_module": "@jupyter-widgets/controls",
      "model_module_version": "1.5.0",
      "model_name": "LabelModel",
      "state": {
       "description": "output variable",
       "layout": "IPY_MODEL_8e51f04e304f443a9bdbc8167b130210",
       "style": "IPY_MODEL_8c91d793d0cf4cc6a831ad81cf3e8d06",
       "value": "output variable"
      }
     },
     "9a945a9d328f4052891742b41fa5ba36": {
      "model_module": "@jupyter-widgets/base",
      "model_module_version": "1.2.0",
      "model_name": "LayoutModel",
      "state": {
       "grid_template_areas": "\n                    \"label input\"\n                    \". description\"\n                ",
       "grid_template_columns": "25% 75%",
       "grid_template_rows": "auto auto",
       "width": "100%"
      }
     },
     "9bd751eca1f94f11bd999cb0729a0019": {
      "model_module": "@jupyter-widgets/controls",
      "model_module_version": "1.5.0",
      "model_name": "LabelModel",
      "state": {
       "layout": "IPY_MODEL_5aac1b64a14141bc8d44818c7d4ea14e",
       "style": "IPY_MODEL_2cfcb7c4d28443c1b72b79d0acac9368"
      }
     },
     "9e2b2436cd7043648c2f7f53ff51d337": {
      "model_module": "@jupyter-widgets/controls",
      "model_module_version": "1.5.0",
      "model_name": "DescriptionStyleModel",
      "state": {
       "description_width": ""
      }
     },
     "9eb2a29ec9674acd9928577dcd3a238e": {
      "model_module": "@jupyter-widgets/controls",
      "model_module_version": "1.5.0",
      "model_name": "DescriptionStyleModel",
      "state": {
       "description_width": ""
      }
     },
     "9f4bea161e1847c68a937d687b48749e": {
      "model_module": "@jupyter-widgets/controls",
      "model_module_version": "1.5.0",
      "model_name": "DescriptionStyleModel",
      "state": {
       "description_width": ""
      }
     },
     "a8116692468f4d1e8f29f9e6a8db6e04": {
      "model_module": "@jupyter-widgets/controls",
      "model_module_version": "1.5.0",
      "model_name": "ButtonStyleModel",
      "state": {}
     },
     "abbf087151db42fa9ac7d54f71e7aaa5": {
      "model_module": "@jupyter-widgets/controls",
      "model_module_version": "1.5.0",
      "model_name": "GridBoxModel",
      "state": {
       "_dom_classes": [
        "nbtools-input",
        "nbtools-textinput"
       ],
       "children": [
        "IPY_MODEL_8d8740c91e0b4541a764c1fb10c70d79",
        "IPY_MODEL_1cf3c1bdc3ab4f23b75c2e097fdf8037",
        "IPY_MODEL_2cb635ff957b48deba8b2f6091f823d2"
       ],
       "layout": "IPY_MODEL_04ef7c94ab734e4f8564aa7a4f4c4c5e"
      }
     },
     "ad6ee91cf3c54b398a1206fcbabef9c5": {
      "model_module": "@jupyter-widgets/output",
      "model_module_version": "1.0.0",
      "model_name": "OutputModel",
      "state": {
       "layout": "IPY_MODEL_ec57ae5d40e24dd1a75300ac5c7f2c1b"
      }
     },
     "b109bacc04324f2089ad2d5a9fa49dee": {
      "model_module": "@jupyter-widgets/base",
      "model_module_version": "1.2.0",
      "model_name": "LayoutModel",
      "state": {
       "grid_area": "label",
       "width": "auto"
      }
     },
     "b27ffe5e16dd4dcf8089e2e5c6929e6e": {
      "model_module": "@genepattern/nbtools",
      "model_module_version": "^0.2.0",
      "model_name": "UIOutputModel",
      "state": {
       "_dom_classes": [],
       "_model_module_version": "^0.2.0",
       "_view_count": null,
       "_view_module_version": "^0.2.0",
       "appendix": "IPY_MODEL_0d68e3439d4247739ffe78c85aa801bc",
       "error": "Cannot find tool: GenePattern Cloud | urn:lsid:broad.mit.edu:cancer.software.genepattern.module.analysis:00002:2",
       "layout": "IPY_MODEL_db0d0ef2007949d59c407c4517249932",
       "name": "Cannot find tool"
      }
     },
     "b3b47681b2054d4aaeb98dd222cee89c": {
      "model_module": "@jupyter-widgets/base",
      "model_module_version": "1.2.0",
      "model_name": "LayoutModel",
      "state": {
       "grid_area": "description",
       "width": "auto"
      }
     },
     "b648902b85db4e418a364c16b884d82c": {
      "model_module": "@jupyter-widgets/controls",
      "model_module_version": "1.5.0",
      "model_name": "DescriptionStyleModel",
      "state": {
       "description_width": ""
      }
     },
     "b6a36505d91542bf8e5d70a169167729": {
      "model_module": "@jupyter-widgets/base",
      "model_module_version": "1.2.0",
      "model_name": "LayoutModel",
      "state": {
       "grid_area": "input",
       "width": "auto"
      }
     },
     "b895b83929224f26878260e3c65870ce": {
      "model_module": "@jupyter-widgets/output",
      "model_module_version": "1.0.0",
      "model_name": "OutputModel",
      "state": {
       "layout": "IPY_MODEL_75e3fb2c75af45c285153c6ca86bee37"
      }
     },
     "bc2ad8bcc5864a33a2cb0e8aae91a6ab": {
      "model_module": "@jupyter-widgets/controls",
      "model_module_version": "1.5.0",
      "model_name": "TextModel",
      "state": {
       "_dom_classes": [
        "nbtools-menu-attached"
       ],
       "layout": "IPY_MODEL_b6a36505d91542bf8e5d70a169167729",
       "style": "IPY_MODEL_9f4bea161e1847c68a937d687b48749e"
      }
     },
     "bea5699bdef748178a0532c9b6e132a7": {
      "model_module": "@jupyter-widgets/controls",
      "model_module_version": "1.5.0",
      "model_name": "DescriptionStyleModel",
      "state": {
       "description_width": ""
      }
     },
     "bfd31b5ed08c4832b669334336581d35": {
      "model_module": "@jupyter-widgets/output",
      "model_module_version": "1.0.0",
      "model_name": "OutputModel",
      "state": {
       "layout": "IPY_MODEL_256321225bc546c193bdcb02abf2f3b3",
       "outputs": [
        {
         "data": {},
         "metadata": {},
         "output_type": "display_data"
        }
       ]
      }
     },
     "c2439c20236b43d8b6679faaec3be740": {
      "model_module": "@jupyter-widgets/base",
      "model_module_version": "1.2.0",
      "model_name": "LayoutModel",
      "state": {}
     },
     "c28f43b8717c48078e5a607f3718e605": {
      "model_module": "@jupyter-widgets/controls",
      "model_module_version": "1.5.0",
      "model_name": "LabelModel",
      "state": {
       "layout": "IPY_MODEL_89a5b0796f274b4897d487baf0259dd1",
       "style": "IPY_MODEL_61ee4a35c29a4cde82aa9174d384f2ef"
      }
     },
     "c2d887db58c34d6b853354007cf0266c": {
      "model_module": "@jupyter-widgets/base",
      "model_module_version": "1.2.0",
      "model_name": "LayoutModel",
      "state": {
       "grid_area": "label",
       "width": "auto"
      }
     },
     "c872b8ed95e74573be26486e1ab259e2": {
      "model_module": "@jupyter-widgets/controls",
      "model_module_version": "1.5.0",
      "model_name": "ButtonStyleModel",
      "state": {}
     },
     "ca5f83f3d3ec48bcb242cd6b76ec82dd": {
      "model_module": "@jupyter-widgets/controls",
      "model_module_version": "1.5.0",
      "model_name": "DescriptionStyleModel",
      "state": {
       "description_width": ""
      }
     },
     "cf4bd75400664a0c9a8abc0d41120908": {
      "model_module": "@jupyter-widgets/base",
      "model_module_version": "1.2.0",
      "model_name": "LayoutModel",
      "state": {}
     },
     "d0c13a4ed9e6436585920409547f8c08": {
      "model_module": "@jupyter-widgets/base",
      "model_module_version": "1.2.0",
      "model_name": "LayoutModel",
      "state": {}
     },
     "db0d0ef2007949d59c407c4517249932": {
      "model_module": "@jupyter-widgets/base",
      "model_module_version": "1.2.0",
      "model_name": "LayoutModel",
      "state": {}
     },
     "e2161ff2859e409ea57210763dff361e": {
      "model_module": "@jupyter-widgets/base",
      "model_module_version": "1.2.0",
      "model_name": "LayoutModel",
      "state": {}
     },
     "e3a5d83af49a47f78de749a978975830": {
      "model_module": "@jupyter-widgets/controls",
      "model_module_version": "1.5.0",
      "model_name": "DescriptionStyleModel",
      "state": {
       "description_width": ""
      }
     },
     "e6ffbb39652c4a8a86fe5be84d83a7cc": {
      "model_module": "@jupyter-widgets/base",
      "model_module_version": "1.2.0",
      "model_name": "LayoutModel",
      "state": {}
     },
     "ec57ae5d40e24dd1a75300ac5c7f2c1b": {
      "model_module": "@jupyter-widgets/base",
      "model_module_version": "1.2.0",
      "model_name": "LayoutModel",
      "state": {}
     },
     "ee2b34745e344a0a816bf82422eb02a3": {
      "model_module": "@jupyter-widgets/base",
      "model_module_version": "1.2.0",
      "model_name": "LayoutModel",
      "state": {
       "grid_area": "input",
       "width": "auto"
      }
     },
     "f4d981a4c9fb4d74bfe43881a91e2e7e": {
      "model_module": "@jupyter-widgets/controls",
      "model_module_version": "1.5.0",
      "model_name": "DescriptionStyleModel",
      "state": {
       "description_width": ""
      }
     },
     "f5831c9c420e4679abd6d04092b30b0d": {
      "model_module": "@genepattern/nbtools",
      "model_module_version": "^0.2.0",
      "model_name": "UIOutputModel",
      "state": {
       "_dom_classes": [],
       "_model_module_version": "^0.2.0",
       "_view_count": null,
       "_view_module_version": "^0.2.0",
       "appendix": "IPY_MODEL_463eb69145f5491aa732ad88e266ed68",
       "error": "Cannot find tool: GenePattern Cloud | urn:lsid:broad.mit.edu:cancer.software.genepattern.module.visualizer:00010:13.9",
       "layout": "IPY_MODEL_c2439c20236b43d8b6679faaec3be740",
       "name": "Cannot find tool"
      }
     },
     "f7698848c65d4be29af901169ff069f3": {
      "model_module": "@jupyter-widgets/base",
      "model_module_version": "1.2.0",
      "model_name": "LayoutModel",
      "state": {
       "display": "none",
       "grid_template_areas": "\n                    \"label input\"\n                    \". description\"\n                ",
       "grid_template_columns": "25% 75%",
       "grid_template_rows": "auto auto",
       "width": "100%"
      }
     },
     "f7d7320c041c49dd8aa8902d344fe05b": {
      "model_module": "@jupyter-widgets/base",
      "model_module_version": "1.2.0",
      "model_name": "LayoutModel",
      "state": {
       "grid_area": "description",
       "width": "auto"
      }
     }
    },
    "version_major": 2,
    "version_minor": 0
   }
  }
 },
 "nbformat": 4,
 "nbformat_minor": 4
}
