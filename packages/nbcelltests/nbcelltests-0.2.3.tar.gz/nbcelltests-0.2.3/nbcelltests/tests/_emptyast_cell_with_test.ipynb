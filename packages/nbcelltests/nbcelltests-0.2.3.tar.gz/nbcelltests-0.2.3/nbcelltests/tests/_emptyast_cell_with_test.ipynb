{
 "cells": [
  {
   "cell_type": "code",
   "execution_count": 1,   
   "source": [],
   "outputs": [],   
   "metadata": {
    "celltests": [
     "# empty test"
    ]
   }
  },
  {
   "cell_type": "code",
   "execution_count": 2,   
   "source": [
    "# nothing to see here"
   ],
   "outputs": [],   
   "metadata": {
    "celltests": [
     "pass # not empty test"
    ]
   }
  }
 ],
 "metadata": {
  "kernelspec": {
   "display_name": "Python 3.7.6 64-bit ('celltestsui': conda)",
   "language": "python",
   "name": "python37664bitcelltestsuiconda549e14be7f784a2fbde278c18c8be829"
  },
  "language_info": {
   "codemirror_mode": {
    "name": "ipython",
    "version": 3
   },
   "file_extension": ".py",
   "mimetype": "text/x-python",
   "name": "python",
   "nbconvert_exporter": "python",
   "pygments_lexer": "ipython3",
   "version": "3.7.6"
  }
 },
 "nbformat": 4,
 "nbformat_minor": 4
}
