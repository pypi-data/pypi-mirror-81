{
 "cells": [
  {
   "cell_type": "code",
   "execution_count": 1,
   "metadata": {},
   "outputs": [],
   "source": [
    "\n",
    "%matplotlib ipympl\n",
    "import matplotlib.pyplot as plt\n",
    "import numpy as np\n",
    "import ipywidgets as widgets\n",
    "%load_ext autoreload\n",
    "%autoreload 2\n",
    "from mpl_interactions import *\n",
    "from collections.abc import Callable\n",
    "from numbers import Number"
   ]
  },
  {
   "cell_type": "code",
   "execution_count": 2,
   "metadata": {},
   "outputs": [],
   "source": [
    "from numpy.distutils.misc_util import is_sequence\n",
    "def is_jagged(seq):\n",
    "    \"\"\"\n",
    "    checks for jaggedness up to two dimensions\n",
    "    don't need more because more doesn't make any sense for this library\n",
    "    need this bc numpy is unhappy about being passed jagged arrays now :(\n",
    "    \"\"\"\n",
    "    lens = []\n",
    "    if is_sequence(seq) :\n",
    "        for y in seq:\n",
    "            if isinstance(y, Number) or isinstance(y, Callable):\n",
    "                lens.append(0)\n",
    "                continue\n",
    "            try:\n",
    "                lens.append(len(y))\n",
    "            except TypeError:\n",
    "                return True\n",
    "        if not all(lens[0] == l for l in lens):\n",
    "            return True\n",
    "    return False"
   ]
  },
  {
   "cell_type": "code",
   "execution_count": 3,
   "metadata": {},
   "outputs": [],
   "source": [
    "y_ = [0,4,1]\n",
    "def f(x):\n",
    "    return 5*x\n",
    "seq = [y_, f]\n",
    "seq_f = [f, f]\n",
    "seq_numpy = np.random.randn(5,5)"
   ]
  },
  {
   "cell_type": "code",
   "execution_count": 4,
   "metadata": {},
   "outputs": [],
   "source": [
    "assert is_jagged(seq)\n",
    "assert not is_jagged(seq_f)\n",
    "assert not is_jagged(seq_numpy)\n",
    "assert not is_jagged(y_)"
   ]
  },
  {
   "cell_type": "code",
   "execution_count": 5,
   "metadata": {},
   "outputs": [
    {
     "data": {
      "text/plain": [
       "False"
      ]
     },
     "execution_count": 5,
     "metadata": {},
     "output_type": "execute_result"
    }
   ],
   "source": [
    "is_jagged(y_)"
   ]
  },
  {
   "cell_type": "code",
   "execution_count": 6,
   "metadata": {},
   "outputs": [
    {
     "data": {
      "text/plain": [
       "(2,)"
      ]
     },
     "execution_count": 6,
     "metadata": {},
     "output_type": "execute_result"
    }
   ],
   "source": [
    "np.array(seq, dtype=np.object).shape"
   ]
  },
  {
   "cell_type": "code",
   "execution_count": 7,
   "metadata": {},
   "outputs": [
    {
     "ename": "SyntaxError",
     "evalue": "invalid syntax (<ipython-input-7-03ec5fbdc06a>, line 1)",
     "output_type": "error",
     "traceback": [
      "\u001b[0;36m  File \u001b[0;32m\"<ipython-input-7-03ec5fbdc06a>\"\u001b[0;36m, line \u001b[0;32m1\u001b[0m\n\u001b[0;31m    np.array([y_, y_], dtype=np.object).\u001b[0m\n\u001b[0m                                        ^\u001b[0m\n\u001b[0;31mSyntaxError\u001b[0m\u001b[0;31m:\u001b[0m invalid syntax\n"
     ]
    }
   ],
   "source": [
    "np.array([y_, y_], dtype=np.object)."
   ]
  },
  {
   "cell_type": "code",
   "execution_count": 8,
   "metadata": {},
   "outputs": [
    {
     "data": {
      "text/plain": [
       "(5, 5)"
      ]
     },
     "execution_count": 8,
     "metadata": {},
     "output_type": "execute_result"
    }
   ],
   "source": [
    "np.asarray(seq_numpy, dtype=np.object).shape"
   ]
  },
  {
   "cell_type": "code",
   "execution_count": 9,
   "metadata": {},
   "outputs": [],
   "source": [
    "x = np.random.randn(2, 10)\n",
    "x = np.atleast_1d(np.asarray(x, dtype=np.object))\n",
    "\n",
    "y = [f,f]\n",
    "y = np.atleast_1d(np.asarray(y, dtype=np.object))"
   ]
  },
  {
   "cell_type": "code",
   "execution_count": 10,
   "metadata": {},
   "outputs": [
    {
     "data": {
      "text/plain": [
       "(2,)"
      ]
     },
     "execution_count": 10,
     "metadata": {},
     "output_type": "execute_result"
    }
   ],
   "source": [
    "y.shape"
   ]
  },
  {
   "cell_type": "code",
   "execution_count": 11,
   "metadata": {},
   "outputs": [
    {
     "ename": "NameError",
     "evalue": "name 'arr' is not defined",
     "output_type": "error",
     "traceback": [
      "\u001b[0;31m---------------------------------------------------------------------------\u001b[0m",
      "\u001b[0;31mNameError\u001b[0m                                 Traceback (most recent call last)",
      "\u001b[0;32m<ipython-input-11-1f57f9d1bfba>\u001b[0m in \u001b[0;36m<module>\u001b[0;34m()\u001b[0m\n\u001b[0;32m----> 1\u001b[0;31m \u001b[0marr\u001b[0m\u001b[0;34m.\u001b[0m\u001b[0mshape\u001b[0m\u001b[0;34m[\u001b[0m\u001b[0;36m0\u001b[0m\u001b[0;34m]\u001b[0m\u001b[0;34m\u001b[0m\u001b[0;34m\u001b[0m\u001b[0m\n\u001b[0m",
      "\u001b[0;31mNameError\u001b[0m: name 'arr' is not defined"
     ]
    }
   ],
   "source": [
    "arr.shape[0]"
   ]
  },
  {
   "cell_type": "code",
   "execution_count": 12,
   "metadata": {},
   "outputs": [
    {
     "data": {
      "text/plain": [
       "(2,)"
      ]
     },
     "execution_count": 12,
     "metadata": {},
     "output_type": "execute_result"
    }
   ],
   "source": [
    "y.shape"
   ]
  },
  {
   "cell_type": "code",
   "execution_count": 13,
   "metadata": {},
   "outputs": [
    {
     "data": {
      "text/plain": [
       "(1,)"
      ]
     },
     "execution_count": 13,
     "metadata": {},
     "output_type": "execute_result"
    }
   ],
   "source": [
    "np.atleast_1d(np.asarray(f, dtype=np.object)).shape"
   ]
  },
  {
   "cell_type": "code",
   "execution_count": 14,
   "metadata": {},
   "outputs": [
    {
     "name": "stdout",
     "output_type": "stream",
     "text": [
      "[0 1 2 3 4 5] "
     ]
    }
   ],
   "source": [
    "a = np.arange(6).reshape(2,3)\n",
    "for x in np.nditer(a, flags=['external_loop']):\n",
    "    print(x, end=' ')\n"
   ]
  },
  {
   "cell_type": "code",
   "execution_count": 15,
   "metadata": {},
   "outputs": [
    {
     "name": "stdout",
     "output_type": "stream",
     "text": [
      "[0 1 2 3 4 5] "
     ]
    }
   ],
   "source": [
    "\n",
    "for x in np.nditer(a, flags=['external_loop'], order='C',):\n",
    "    print(x, end=' ')"
   ]
  },
  {
   "cell_type": "code",
   "execution_count": 16,
   "metadata": {},
   "outputs": [],
   "source": [
    "def f_x(mean):\n",
    "    return np.arange(5)\n",
    "def f1(x, mean):\n",
    "    return x\n",
    "def f2(x, mean):\n",
    "    return x**2"
   ]
  },
  {
   "cell_type": "code",
   "execution_count": 17,
   "metadata": {},
   "outputs": [
    {
     "ename": "IndentationError",
     "evalue": "expected an indented block (<ipython-input-17-d796c8a2690b>, line 79)",
     "output_type": "error",
     "traceback": [
      "\u001b[0;36m  File \u001b[0;32m\"<ipython-input-17-d796c8a2690b>\"\u001b[0;36m, line \u001b[0;32m79\u001b[0m\n\u001b[0;31m    elif xs.ndim == 1:\u001b[0m\n\u001b[0m                      ^\u001b[0m\n\u001b[0;31mIndentationError\u001b[0m\u001b[0;31m:\u001b[0m expected an indented block\n"
     ]
    }
   ],
   "source": [
    "# x = np.atleast_1d([[0,2,3], [0,2,3]])\n",
    "# function arguments\n",
    "x = np.arange(5)\n",
    "x = [f_x, f_x, f_x]\n",
    "y = [f1, f2]\n",
    "y = [np.arange(5)+2, f2]\n",
    "\n",
    "if is_jagged(x):\n",
    "    xs = np.atleast_2d(np.asarray(x, dtype=np.object))\n",
    "else:\n",
    "    xs = np.asarray(x)\n",
    "\n",
    "if is_jagged(x):\n",
    "    ys = np.atleast_1d(np.asarray(y, dtype=np.object))\n",
    "else:\n",
    "    ys = np.asarray(y)\n",
    "\n",
    "def _broadcast_to(arr, length, names):\n",
    "    \"\"\"\n",
    "    happily this doesn't increase memory footprint e.g:\n",
    "    import sys\n",
    "    xs = np.arange(5)\n",
    "    print(sys.getsizeof(xs.nbytes))\n",
    "    print(sys.getsizeof(np.broadcast_to(xs, (19000, xs.shape[0]))))\n",
    "\n",
    "    gives 28 and 112. Note 112/28 != 19000\n",
    "    \"\"\"\n",
    "    if arr.ndim == 2:\n",
    "        if arr.shape[0] == 1:\n",
    "            return np.broadcast_to(arr, (length, arr.shape[1]))\n",
    "        elif arr.shape[0] == length:\n",
    "            return arr\n",
    "        else:\n",
    "            raise ValueError(f\"can't broadcast {names[0]} ({arr.shape[0]}) against {names[1]} ({ys.shape[0]})\")\n",
    "    elif arr.ndim > 2:\n",
    "        raise ValueError(f\"{names[0]} can't have dimension > 2, it has {arr.ndim} dimensions\")\n",
    "    else:\n",
    "        return np.broadcast_to(arr, (length, arr.shape[0]))\n",
    "\n",
    "def gogogo_broadcast(xs, ys):\n",
    "    if xs.shape[0] < ys.shape[0]:\n",
    "        xs = _broadcast_to(xs, ys.shape[0], 'xy')\n",
    "    else:\n",
    "        ys = _broadcast_to(ys, xs.shape[0], 'yx')\n",
    "    return xs, ys\n",
    "# I think there should be at least 16 cases here\n",
    "# possible more to account for `if xs.shape[0] < ys.shape[0]`\n",
    "# if np.issubdtype(xs, np.number):\n",
    "#     if np.issubdtype(ys, np.number):\n",
    "#         if xs.ndim == 1:\n",
    "#             if ys.ndim == 1:\n",
    "#                 # both 1d number arrays\n",
    "#                 # e.g. [0,1,3], [10,12,20]\n",
    "#                 pass\n",
    "#             elif ys.ndim == 2:\n",
    "#                 xs = _broadcast_to(xs, ys.shape[0], 'xy')\n",
    "#         elif xs.ndim == 2:\n",
    "#             if ys.ndim == 1:\n",
    "#                 _broadcast_to(ys, xs.shape[0], 'yx')\n",
    "#             elif ys.ndim == 2:\n",
    "#                 gogogo_broadcast(xs, ys)\n",
    "#     else:\n",
    "#         # y is jagged or contains only functions\n",
    "#         gogogo_broadcast(xs, ys)\n",
    "# else:\n",
    "#     # x is jagged or contains only functions\n",
    "#     if np.issubdtype(ys, np.number):\n",
    "#         if ys.ndim == 1:\n",
    "#             xs.ndim == 2\n",
    "#         elif ys.ndim == 2:\n",
    "#             gogogo_broadcast(xs, ys)\n",
    "if xs.ndim == 2:\n",
    "    if ys.ndim == 2:\n",
    "        xs, ys = gogogo_broadcast(xs, ys)\n",
    "    elif np.issubdtype(ys, np.number):\n",
    "        ys = _broadcast_to(ys[None, :], xs.shape[0])\n",
    "    else:\n",
    "        \n",
    "elif xs.ndim == 1:\n",
    "    if ys.ndim == 2:\n",
    "        if np.issubdtype(xs, np.number):\n",
    "            # x = [0,1,2]\n",
    "            # y = 2d numbers\n",
    "            xs = _broadcast_to(ys[None, :], xs.shape[0])\n",
    "        elif np.issubdtype(ys, np.number):\n",
    "            xs, ys = gogogo_broadcast(xs, ys)\n",
    "    elif ys.ndim == 1:\n",
    "        if np.issubdtype(ys, np.number):\n",
    "            if np.issub\n",
    "            xs, ys = gogogo_broadcast(xs, ys)\n",
    "        else:\n",
    "            xs = _broadcast_to(ys[None, :], xs.shape[0])\n",
    "            \n",
    "        \n",
    "        \n",
    "        \n",
    "    \n",
    "        \n",
    "            \n",
    "\n",
    "ogogo_broadcast(xs, ys)\n",
    "            \n",
    "elif np.issubdtype(xs, np.number) and not \n",
    "        \n",
    "    \n",
    "# if xs.ndim == 2 and ys.ndim == 2:\n",
    "#     # probably both sets of arrays\n",
    "#     assert xs.shape == ys.shape\n",
    "# elif xs.ndim == 1and xs.shape[0] < ys.shape[0]: \n",
    "    \n",
    "    \n",
    "# if len(xs) < len(ys):\n",
    "#     xs = _broadcast_to(xs, ys.shape[0], ['x','y'])\n",
    "# else:\n",
    "#     ys = _broadcast_to(ys, xs.shape[0], ['x', 'y'])\n",
    "    \n",
    "params = {'mean': 4}\n",
    "plt.figure()\n",
    "x_cache = {}\n",
    "print(xs,ys)\n",
    "for x_, y_ in zip(xs, ys):\n",
    "    if isinstance(x_, Callable):\n",
    "        if x_ not in x_cache:\n",
    "            x = x_(**params)\n",
    "            x_cache[x_] = x\n",
    "        else:\n",
    "            x = x_cache(x_)\n",
    "    else:\n",
    "        x = x_\n",
    "    if isinstance(y_, Callable):\n",
    "        y = y_(x, **params)\n",
    "    else:\n",
    "        y = y_\n",
    "        \n",
    "    plt.plot(x, y)"
   ]
  },
  {
   "cell_type": "code",
   "execution_count": 18,
   "metadata": {},
   "outputs": [
    {
     "data": {
      "text/plain": [
       "(1, 5)"
      ]
     },
     "execution_count": 18,
     "metadata": {},
     "output_type": "execute_result"
    }
   ],
   "source": [
    "np.asarray(np.arange(5), dtype=np.object)[None, :].shape"
   ]
  },
  {
   "cell_type": "code",
   "execution_count": 19,
   "metadata": {},
   "outputs": [
    {
     "ename": "NameError",
     "evalue": "name '_broadcast_to' is not defined",
     "output_type": "error",
     "traceback": [
      "\u001b[0;31m---------------------------------------------------------------------------\u001b[0m",
      "\u001b[0;31mNameError\u001b[0m                                 Traceback (most recent call last)",
      "\u001b[0;32m<ipython-input-19-56d9897ef119>\u001b[0m in \u001b[0;36m<module>\u001b[0;34m()\u001b[0m\n\u001b[0;32m----> 1\u001b[0;31m \u001b[0mxs\u001b[0m \u001b[0;34m=\u001b[0m \u001b[0m_broadcast_to\u001b[0m\u001b[0;34m(\u001b[0m\u001b[0mxs\u001b[0m\u001b[0;34m,\u001b[0m \u001b[0;36m10\u001b[0m\u001b[0;34m,\u001b[0m \u001b[0;34m'ugh'\u001b[0m\u001b[0;34m)\u001b[0m\u001b[0;34m\u001b[0m\u001b[0;34m\u001b[0m\u001b[0m\n\u001b[0m\u001b[1;32m      2\u001b[0m \u001b[0mxs\u001b[0m\u001b[0;34m\u001b[0m\u001b[0;34m\u001b[0m\u001b[0m\n",
      "\u001b[0;31mNameError\u001b[0m: name '_broadcast_to' is not defined"
     ]
    }
   ],
   "source": [
    "xs = _broadcast_to(xs, 10, 'ugh')\n",
    "xs"
   ]
  },
  {
   "cell_type": "code",
   "execution_count": 20,
   "metadata": {},
   "outputs": [
    {
     "ename": "NameError",
     "evalue": "name 'xs' is not defined",
     "output_type": "error",
     "traceback": [
      "\u001b[0;31m---------------------------------------------------------------------------\u001b[0m",
      "\u001b[0;31mNameError\u001b[0m                                 Traceback (most recent call last)",
      "\u001b[0;32m<ipython-input-20-7fe85003b753>\u001b[0m in \u001b[0;36m<module>\u001b[0;34m()\u001b[0m\n\u001b[0;32m----> 1\u001b[0;31m \u001b[0mnp\u001b[0m\u001b[0;34m.\u001b[0m\u001b[0mbroadcast_to\u001b[0m\u001b[0;34m(\u001b[0m\u001b[0mxs\u001b[0m\u001b[0;34m,\u001b[0m \u001b[0;34m(\u001b[0m\u001b[0my\u001b[0m\u001b[0;34m.\u001b[0m\u001b[0mshape\u001b[0m\u001b[0;34m[\u001b[0m\u001b[0;36m0\u001b[0m\u001b[0;34m]\u001b[0m\u001b[0;34m,\u001b[0m \u001b[0mx\u001b[0m\u001b[0;34m.\u001b[0m\u001b[0mshape\u001b[0m\u001b[0;34m[\u001b[0m\u001b[0;36m1\u001b[0m\u001b[0;34m]\u001b[0m\u001b[0;34m)\u001b[0m\u001b[0;34m)\u001b[0m\u001b[0;34m\u001b[0m\u001b[0;34m\u001b[0m\u001b[0m\n\u001b[0m",
      "\u001b[0;31mNameError\u001b[0m: name 'xs' is not defined"
     ]
    }
   ],
   "source": [
    "np.broadcast_to(xs, (y.shape[0], x.shape[1]))"
   ]
  },
  {
   "cell_type": "code",
   "execution_count": 21,
   "metadata": {},
   "outputs": [
    {
     "ename": "NameError",
     "evalue": "name 'xs' is not defined",
     "output_type": "error",
     "traceback": [
      "\u001b[0;31m---------------------------------------------------------------------------\u001b[0m",
      "\u001b[0;31mNameError\u001b[0m                                 Traceback (most recent call last)",
      "\u001b[0;32m<ipython-input-21-89e423804369>\u001b[0m in \u001b[0;36m<module>\u001b[0;34m()\u001b[0m\n\u001b[0;32m----> 1\u001b[0;31m \u001b[0mxs\u001b[0m\u001b[0;34m[\u001b[0m\u001b[0;36m0\u001b[0m\u001b[0;34m]\u001b[0m\u001b[0;34m[\u001b[0m\u001b[0;36m0\u001b[0m\u001b[0;34m]\u001b[0m \u001b[0;32mis\u001b[0m \u001b[0mxs\u001b[0m\u001b[0;34m[\u001b[0m\u001b[0;36m1\u001b[0m\u001b[0;34m]\u001b[0m\u001b[0;34m[\u001b[0m\u001b[0;36m0\u001b[0m\u001b[0;34m]\u001b[0m\u001b[0;34m\u001b[0m\u001b[0;34m\u001b[0m\u001b[0m\n\u001b[0m",
      "\u001b[0;31mNameError\u001b[0m: name 'xs' is not defined"
     ]
    }
   ],
   "source": [
    "xs[0][0] is xs[1][0]"
   ]
  },
  {
   "cell_type": "code",
   "execution_count": 22,
   "metadata": {},
   "outputs": [
    {
     "data": {
      "text/plain": [
       "False"
      ]
     },
     "execution_count": 22,
     "metadata": {},
     "output_type": "execute_result"
    }
   ],
   "source": [
    "np.can_cast(np.atleast_1d(np.asarray(np.arange(5), dtype=np.object)), np.number)"
   ]
  },
  {
   "cell_type": "code",
   "execution_count": 23,
   "metadata": {},
   "outputs": [],
   "source": [
    "a = list(range(10000)) \n",
    "b = a * 10000 "
   ]
  },
  {
   "cell_type": "code",
   "execution_count": 24,
   "metadata": {},
   "outputs": [
    {
     "data": {
      "text/plain": [
       "(2,)"
      ]
     },
     "execution_count": 24,
     "metadata": {},
     "output_type": "execute_result"
    }
   ],
   "source": [
    "\n",
    "np.array([[0,1,2], f], dtype=np.object).shape"
   ]
  },
  {
   "cell_type": "code",
   "execution_count": 25,
   "metadata": {},
   "outputs": [],
   "source": [
    "\n",
    "x = np.arange(5)\n",
    "x = [f_x, f_x, f_x]\n",
    "y = [f1, f2]\n",
    "y = [np.arange(5)+2, f2]\n",
    "\n",
    "x_jagged = False\n",
    "y_jagged = False\n",
    "if is_jagged(x):\n",
    "    xs = np.atleast_2d(np.asarray(x, dtype=np.object))\n",
    "    x_jagged = True\n",
    "else:\n",
    "    xs = np.asarray(x)\n",
    "if is_jagged(y):\n",
    "    ys = np.atleast_1d(np.asarray(y, dtype=np.object))\n",
    "    y_jagged = True\n",
    "else:\n",
    "    ys = np.asarray(y)"
   ]
  },
  {
   "cell_type": "code",
   "execution_count": 26,
   "metadata": {},
   "outputs": [],
   "source": [
    "if x_jagged:\n",
    "    if y_jagged:\n",
    "        xs, ys = gogogo_broadcast(xs, ys)\n",
    "    elif ys.ndim == 1:\n",
    "        if np.issubdtype(ys, np.number):\n",
    "            _broadcast_to(ys[None, :], xs.shape[0])"
   ]
  },
  {
   "cell_type": "code",
   "execution_count": 27,
   "metadata": {},
   "outputs": [],
   "source": [
    "\n",
    "xs = np.atleast_2d(np.asarray(x, dtype=np.object))"
   ]
  },
  {
   "cell_type": "code",
   "execution_count": 28,
   "metadata": {},
   "outputs": [
    {
     "data": {
      "text/plain": [
       "(1, 3)"
      ]
     },
     "execution_count": 28,
     "metadata": {},
     "output_type": "execute_result"
    }
   ],
   "source": [
    "xs.shape"
   ]
  },
  {
   "cell_type": "code",
   "execution_count": 29,
   "metadata": {},
   "outputs": [],
   "source": [
    "from numpy.distutils.misc_util import is_sequence\n",
    "def is_jagged(seq):\n",
    "    \"\"\"\n",
    "    checks for jaggedness up to two dimensions\n",
    "    don't need more because more doesn't make any sense for this library\n",
    "    need this bc numpy is unhappy about being passed jagged arrays now :(\n",
    "    \"\"\"\n",
    "    lens = []\n",
    "    if is_sequence(seq) :\n",
    "        for y in seq:\n",
    "            if isinstance(y, Number) or isinstance(y, Callable):\n",
    "                lens.append(0)\n",
    "                continue\n",
    "            try:\n",
    "                lens.append(len(y))\n",
    "            except TypeError:\n",
    "                return True\n",
    "        if not all(lens[0] == l for l in lens):\n",
    "            return True\n",
    "    return False\n",
    "def _broadcast_to(arr, length, names):\n",
    "    \"\"\"\n",
    "    happily this doesn't increase memory footprint e.g:\n",
    "    import sys\n",
    "    xs = np.arange(5)\n",
    "    print(sys.getsizeof(xs.nbytes))\n",
    "    print(sys.getsizeof(np.broadcast_to(xs, (19000, xs.shape[0]))))\n",
    "\n",
    "    gives 28 and 112. Note 112/28 != 19000\n",
    "    \"\"\"\n",
    "    if arr.ndim == 2:\n",
    "        if arr.shape[0] == 1:\n",
    "            return np.broadcast_to(arr, (length, arr.shape[1]))\n",
    "        elif arr.shape[0] == length:\n",
    "            return arr\n",
    "        else:\n",
    "            raise ValueError(f\"can't broadcast {names[0]} ({arr.shape[0]}) against {names[1]} ({ys.shape[0]})\")\n",
    "    elif arr.ndim > 2:\n",
    "        raise ValueError(f\"{names[0]} can't have dimension > 2, it has {arr.ndim} dimensions\")\n",
    "    else:\n",
    "        return np.broadcast_to(arr, (length, arr.shape[0]))\n",
    "\n",
    "def broadcast(x,y):\n",
    "    if is_jagged(x):\n",
    "        xs = np.atleast_2d(np.asarray(x, dtype=np.object))\n",
    "    else:\n",
    "        xs = np.asarray(x)\n",
    "        if np.issubdtype(xs.dtype, np.number) and xs.ndim == 1:\n",
    "            xs = xs[None, :]\n",
    "    if is_jagged(y):\n",
    "        ys = np.atleast_1d(np.asarray(y, dtype=np.object))\n",
    "    else:\n",
    "        ys = np.asarray(y)\n",
    "        if np.issubdtype(ys.dtype, np.number) and ys.ndim == 1:\n",
    "            ys = ys[None, :]\n",
    "\n",
    "    if xs.shape[0] < ys.shape[0]:\n",
    "        xs = _broadcast_to(xs, ys.shape[0], 'xy')\n",
    "    else:\n",
    "        ys = _broadcast_to(ys, xs.shape[0], 'yx')\n",
    "    return xs, ys"
   ]
  },
  {
   "cell_type": "code",
   "execution_count": 30,
   "metadata": {},
   "outputs": [],
   "source": [
    "x = np.arange(5)\n",
    "x = [f_x, f_x, f_x]\n",
    "y = [f1, f2]\n",
    "y = [np.arange(5)+2, f2]"
   ]
  },
  {
   "cell_type": "code",
   "execution_count": 31,
   "metadata": {},
   "outputs": [
    {
     "data": {
      "text/plain": [
       "(array([[0, 1, 2, 3, 4],\n",
       "        [0, 1, 2, 3, 4]]),\n",
       " array([<function f1 at 0x7f85c725fef0>, <function f2 at 0x7f85c71ee050>],\n",
       "       dtype=object))"
      ]
     },
     "execution_count": 31,
     "metadata": {},
     "output_type": "execute_result"
    }
   ],
   "source": [
    "\n",
    "x = np.arange(5)\n",
    "y = [f1, f2]\n",
    "broadcast(x,y)"
   ]
  },
  {
   "cell_type": "code",
   "execution_count": 32,
   "metadata": {},
   "outputs": [
    {
     "data": {
      "text/plain": [
       "(array([[ 7.89114322e-01, -7.66493608e-02,  1.74384286e+00,\n",
       "          5.74478152e-01, -1.42809087e+00,  1.23548092e+00,\n",
       "         -9.43164280e-01, -2.15406708e-01, -6.66031457e-01,\n",
       "          2.35951360e-01,  1.73055551e+00,  1.30661469e+00,\n",
       "          3.46184440e-01,  4.82578079e-01,  1.77183623e+00,\n",
       "         -7.48131089e-01,  7.79294522e-03,  5.01484404e-01,\n",
       "          6.71683007e-01,  8.02319596e-01,  5.17908465e-01,\n",
       "          7.66040053e-01,  5.67680736e-01,  3.23622943e-01,\n",
       "         -1.87208571e+00,  1.36518308e+00,  8.01320250e-02,\n",
       "          4.82270844e-01,  3.92543451e-01, -8.31433617e-01,\n",
       "         -4.08514158e-01,  9.03779625e-01, -2.92085420e-01,\n",
       "         -1.66535652e-01,  1.33264332e+00,  7.52272112e-01,\n",
       "         -6.26880187e-01,  2.42308711e+00,  7.70630499e-01,\n",
       "          4.48752192e-01,  7.42881757e-01,  3.24415955e-01,\n",
       "         -5.24958724e-01,  5.94915235e-01, -4.25081544e-01,\n",
       "         -1.07907403e+00, -8.21507995e-01, -8.06474250e-01,\n",
       "         -1.27774846e+00, -2.92997490e+00],\n",
       "        [ 1.20483955e+00, -8.50851456e-01, -5.18706532e-01,\n",
       "         -8.15463708e-01,  4.54767665e-01, -6.00031748e-01,\n",
       "         -1.18353679e+00,  7.52681338e-01,  3.10575363e-01,\n",
       "          2.17850897e-01,  1.84239958e-01,  7.34322700e-01,\n",
       "          6.10377524e-01, -1.13165986e+00,  1.28760282e-01,\n",
       "         -4.16585418e-01,  1.64825549e+00,  2.91053212e-01,\n",
       "          3.09023058e-01, -1.53559414e-01,  8.79962032e-01,\n",
       "         -1.57496674e+00,  4.84364106e-01, -1.18798174e+00,\n",
       "          2.65163122e-03, -3.68581567e-01, -9.23621699e-01,\n",
       "          7.97779120e-01,  8.65681898e-01,  8.36106056e-01,\n",
       "         -7.36392292e-02,  9.39680880e-01, -1.56605404e+00,\n",
       "         -7.92870275e-01, -5.11485171e-01,  1.38572378e+00,\n",
       "         -3.84743246e-01, -4.17254971e-01, -7.82550267e-01,\n",
       "          9.45685837e-01,  1.28039298e+00, -2.78037209e-02,\n",
       "          6.12852766e-02,  3.53004434e-01, -1.08261567e+00,\n",
       "         -1.50484562e-01,  7.50116738e-01,  2.68405477e+00,\n",
       "         -2.98207120e-02,  6.65109731e-02]]),\n",
       " array([[<function f1 at 0x7f85c725fef0>, <function f2 at 0x7f85c71ee050>],\n",
       "        [<function f1 at 0x7f85c725fef0>, <function f2 at 0x7f85c71ee050>]],\n",
       "       dtype=object))"
      ]
     },
     "execution_count": 32,
     "metadata": {},
     "output_type": "execute_result"
    }
   ],
   "source": [
    "x = np.random.randn(2, 50)\n",
    "y = [f1, f2]\n",
    "broadcast(x,y)"
   ]
  },
  {
   "cell_type": "code",
   "execution_count": 33,
   "metadata": {},
   "outputs": [
    {
     "data": {
      "text/plain": [
       "(array([<function f1 at 0x7f85c725fef0>, <function f2 at 0x7f85c71ee050>],\n",
       "       dtype=object), array([[0, 1, 2, 3, 4],\n",
       "        [0, 1, 2, 3, 4]]))"
      ]
     },
     "execution_count": 33,
     "metadata": {},
     "output_type": "execute_result"
    }
   ],
   "source": [
    "\n",
    "y = np.arange(5)\n",
    "x = [f1, f2]\n",
    "broadcast(x,y)"
   ]
  },
  {
   "cell_type": "code",
   "execution_count": 34,
   "metadata": {},
   "outputs": [
    {
     "data": {
      "text/plain": [
       "(array([<function f1 at 0x7f85c725fef0>, <function f2 at 0x7f85c71ee050>],\n",
       "       dtype=object),\n",
       " array([[-0.09566458,  0.58225193, -0.01180967,  0.31007904, -0.73679591,\n",
       "         -0.19086327, -1.67949551, -0.13165969,  0.61778787, -1.98160979,\n",
       "         -0.44705969,  0.29527496,  0.7168627 ,  2.02428213, -2.6756116 ,\n",
       "         -0.54862316,  0.41036424,  0.12786072, -0.21264868,  0.07183489,\n",
       "          0.96875882,  0.89217306, -0.07646607, -0.91083284, -0.03878119,\n",
       "         -0.60151832,  0.25027564, -0.63464987,  0.8060324 ,  0.00782491,\n",
       "          1.27786439,  1.0516772 , -0.31342852,  0.99849262, -0.5727504 ,\n",
       "          0.67244815, -0.08258827, -0.12221587, -0.61455435,  0.93288161,\n",
       "         -0.07864067,  1.20281584, -0.68355095,  1.21334232, -1.11479857,\n",
       "         -1.28669387, -0.48784668, -1.72662757,  1.13649341, -0.27477409],\n",
       "        [ 0.71529935, -1.30710761,  2.0935803 ,  1.16037302,  1.12386883,\n",
       "          0.19893657, -0.30055401, -0.93625258,  0.76077466,  0.05219403,\n",
       "         -0.36282707,  0.07819188,  1.79094128, -2.11446689, -0.41342459,\n",
       "          0.58285954,  0.69440153, -0.82458666,  0.32688762,  0.85818466,\n",
       "         -0.32513106,  0.5604827 , -1.40409353,  1.50609342,  1.66211654,\n",
       "          0.55563643, -0.51793059,  0.07643169,  0.46567075,  0.96522146,\n",
       "          1.16709785, -0.5049977 ,  0.14201213, -1.25888671,  0.84484306,\n",
       "          1.04498515,  0.91254196, -1.56259887, -2.37479686, -0.93572867,\n",
       "          0.27639255, -0.20435397, -0.38201429, -0.3919121 ,  0.2783372 ,\n",
       "         -1.58558051,  1.87355655,  0.53611936, -1.07962652, -0.46253932]]))"
      ]
     },
     "execution_count": 34,
     "metadata": {},
     "output_type": "execute_result"
    }
   ],
   "source": [
    "\n",
    "y = np.random.randn(2, 50)\n",
    "x = [f1, f2]\n",
    "broadcast(x,y)"
   ]
  },
  {
   "cell_type": "code",
   "execution_count": 35,
   "metadata": {},
   "outputs": [
    {
     "data": {
      "text/plain": [
       "(array([[ 1.15613866, -0.99409066, -0.38683125, -0.57898188,  0.09988987,\n",
       "          2.19366606, -0.99437843,  1.21464424,  0.83988627, -0.14988018,\n",
       "          0.63854384,  0.21004543, -0.11531048, -1.29643611, -0.2565546 ,\n",
       "         -0.72271217,  1.41221301,  0.19005452, -1.88585567, -1.25424088,\n",
       "          0.95708146, -0.16978033, -0.11011081, -1.78532913, -0.34327588,\n",
       "         -0.76894973,  1.34657378, -0.48736614,  0.00221044,  0.49865228,\n",
       "          0.22379233, -1.54616179,  0.31288173, -0.78230435, -2.01995896,\n",
       "         -0.26453897, -0.21490794, -1.21644694,  1.63688157,  0.76565378,\n",
       "         -0.56479774,  1.27228426,  1.56823168, -0.65372087, -2.10675509,\n",
       "         -1.57230309,  1.17583364, -1.79987593, -1.07488686, -0.66546762],\n",
       "        [ 1.15613866, -0.99409066, -0.38683125, -0.57898188,  0.09988987,\n",
       "          2.19366606, -0.99437843,  1.21464424,  0.83988627, -0.14988018,\n",
       "          0.63854384,  0.21004543, -0.11531048, -1.29643611, -0.2565546 ,\n",
       "         -0.72271217,  1.41221301,  0.19005452, -1.88585567, -1.25424088,\n",
       "          0.95708146, -0.16978033, -0.11011081, -1.78532913, -0.34327588,\n",
       "         -0.76894973,  1.34657378, -0.48736614,  0.00221044,  0.49865228,\n",
       "          0.22379233, -1.54616179,  0.31288173, -0.78230435, -2.01995896,\n",
       "         -0.26453897, -0.21490794, -1.21644694,  1.63688157,  0.76565378,\n",
       "         -0.56479774,  1.27228426,  1.56823168, -0.65372087, -2.10675509,\n",
       "         -1.57230309,  1.17583364, -1.79987593, -1.07488686, -0.66546762],\n",
       "        [ 1.15613866, -0.99409066, -0.38683125, -0.57898188,  0.09988987,\n",
       "          2.19366606, -0.99437843,  1.21464424,  0.83988627, -0.14988018,\n",
       "          0.63854384,  0.21004543, -0.11531048, -1.29643611, -0.2565546 ,\n",
       "         -0.72271217,  1.41221301,  0.19005452, -1.88585567, -1.25424088,\n",
       "          0.95708146, -0.16978033, -0.11011081, -1.78532913, -0.34327588,\n",
       "         -0.76894973,  1.34657378, -0.48736614,  0.00221044,  0.49865228,\n",
       "          0.22379233, -1.54616179,  0.31288173, -0.78230435, -2.01995896,\n",
       "         -0.26453897, -0.21490794, -1.21644694,  1.63688157,  0.76565378,\n",
       "         -0.56479774,  1.27228426,  1.56823168, -0.65372087, -2.10675509,\n",
       "         -1.57230309,  1.17583364, -1.79987593, -1.07488686, -0.66546762],\n",
       "        [ 1.15613866, -0.99409066, -0.38683125, -0.57898188,  0.09988987,\n",
       "          2.19366606, -0.99437843,  1.21464424,  0.83988627, -0.14988018,\n",
       "          0.63854384,  0.21004543, -0.11531048, -1.29643611, -0.2565546 ,\n",
       "         -0.72271217,  1.41221301,  0.19005452, -1.88585567, -1.25424088,\n",
       "          0.95708146, -0.16978033, -0.11011081, -1.78532913, -0.34327588,\n",
       "         -0.76894973,  1.34657378, -0.48736614,  0.00221044,  0.49865228,\n",
       "          0.22379233, -1.54616179,  0.31288173, -0.78230435, -2.01995896,\n",
       "         -0.26453897, -0.21490794, -1.21644694,  1.63688157,  0.76565378,\n",
       "         -0.56479774,  1.27228426,  1.56823168, -0.65372087, -2.10675509,\n",
       "         -1.57230309,  1.17583364, -1.79987593, -1.07488686, -0.66546762],\n",
       "        [ 1.15613866, -0.99409066, -0.38683125, -0.57898188,  0.09988987,\n",
       "          2.19366606, -0.99437843,  1.21464424,  0.83988627, -0.14988018,\n",
       "          0.63854384,  0.21004543, -0.11531048, -1.29643611, -0.2565546 ,\n",
       "         -0.72271217,  1.41221301,  0.19005452, -1.88585567, -1.25424088,\n",
       "          0.95708146, -0.16978033, -0.11011081, -1.78532913, -0.34327588,\n",
       "         -0.76894973,  1.34657378, -0.48736614,  0.00221044,  0.49865228,\n",
       "          0.22379233, -1.54616179,  0.31288173, -0.78230435, -2.01995896,\n",
       "         -0.26453897, -0.21490794, -1.21644694,  1.63688157,  0.76565378,\n",
       "         -0.56479774,  1.27228426,  1.56823168, -0.65372087, -2.10675509,\n",
       "         -1.57230309,  1.17583364, -1.79987593, -1.07488686, -0.66546762]]),\n",
       " array([[ 0.13986378,  0.53992367,  0.12123599,  0.41850791, -1.01451521,\n",
       "         -0.66343179, -1.3096334 , -1.0732149 ,  0.39467263, -0.29090751,\n",
       "         -0.51135571, -0.40114125, -0.6860811 ,  0.93366654, -0.26853535,\n",
       "          0.53118899, -0.88012852, -0.21356533,  0.50759773,  0.45968471,\n",
       "         -0.82703601,  0.08136245, -1.91880366,  0.60293925,  0.51526761,\n",
       "         -1.48802556, -0.44523312, -0.75539715,  0.42038264, -1.10735257,\n",
       "          0.13726496,  1.13909622, -0.39095866, -0.82635683, -0.06060103,\n",
       "          0.92850201, -0.59741827, -0.54975357, -0.99479847, -1.11571174,\n",
       "         -0.08784397,  0.96333185, -0.02465632, -0.13532523,  1.56780803,\n",
       "         -0.1871553 , -1.44582557, -0.3890458 , -1.46518867, -0.04911588],\n",
       "        [ 0.04140973, -0.78394634,  0.2714596 ,  0.08743889, -0.67081088,\n",
       "          0.57638482,  1.77154343, -1.94845078,  1.21662216, -0.14279104,\n",
       "         -0.92672003,  0.88871708,  0.15095328, -1.45579021,  0.1617328 ,\n",
       "          0.82216552, -0.62173958,  0.4840147 , -1.13239729, -0.56175518,\n",
       "         -1.68990316, -1.31942917,  0.25072203, -0.58469572,  0.23793211,\n",
       "          0.92708033, -2.52149978,  0.32204135, -0.50409994,  0.33649853,\n",
       "         -0.78042572,  0.06012151, -0.24782162, -0.79251723, -0.12482357,\n",
       "          0.86738371,  0.70241513, -1.12023624,  0.99544657,  0.67430896,\n",
       "          1.51618975, -0.2218389 ,  0.0966836 ,  0.33255696, -0.13480056,\n",
       "         -0.16820754,  1.06377414,  0.88991969, -0.8193615 , -0.65137345],\n",
       "        [ 0.46178401, -0.86751994, -0.17109108, -0.77747427,  0.35705375,\n",
       "         -0.57732509,  0.02601146,  0.08997986, -0.1489686 , -1.93150184,\n",
       "         -0.78665348, -1.6419235 , -1.78797525,  0.3323775 ,  1.40392996,\n",
       "         -0.29178142,  0.7892606 ,  1.68176883, -0.57123256, -1.15711916,\n",
       "          0.80809624, -0.40536717,  0.5144837 , -1.75039545,  0.15288238,\n",
       "         -0.33042806,  0.84986121,  0.51943968, -1.90878898,  0.14016111,\n",
       "         -0.0649942 , -0.91561935,  0.16502458,  1.14280159, -0.39657914,\n",
       "          0.14160331, -0.31149358,  2.61003731,  1.39461915, -0.55993049,\n",
       "         -0.83222059, -0.67943381, -0.19218876, -1.16616323, -0.4024933 ,\n",
       "          1.11610634, -0.36635749,  0.15254626, -1.00186771,  0.09002737],\n",
       "        [-1.73067215,  0.53030226, -0.83846441, -1.483964  , -0.29567043,\n",
       "          1.20248015, -0.49578626, -1.41159098, -0.44446026,  1.07853069,\n",
       "          0.38846209, -1.02437585, -2.39996992,  0.08993356,  0.09646367,\n",
       "         -0.90067714,  0.23875831, -1.30308879,  0.50425825, -0.67916587,\n",
       "         -0.92439218, -0.41195214, -0.52688681,  1.26868696,  1.04380077,\n",
       "          0.65622463, -0.55743628, -0.60500505, -0.27027776,  1.18538562,\n",
       "         -0.19867145, -1.37996337, -0.31846844, -0.62853915,  0.32011566,\n",
       "          0.65320265, -0.8875866 ,  0.6577647 ,  0.36594145, -0.17794673,\n",
       "         -0.30304268,  1.51435158,  0.96483149,  0.31092634, -0.60700204,\n",
       "          0.01635205,  2.41917925, -0.09735645, -0.49761487,  0.55548345],\n",
       "        [ 0.34827323, -1.39565371, -0.12638843, -0.40795743,  0.70226943,\n",
       "          1.25012241, -0.71301967, -1.60843952, -0.01504105,  0.83559667,\n",
       "          0.10297861, -0.29702354,  1.71668922, -1.0912039 , -0.41445804,\n",
       "         -0.26648569, -2.28799976, -1.73664984, -0.47512462,  0.96821945,\n",
       "         -0.37137668,  1.14129864,  2.16009902,  0.73865851, -0.60724404,\n",
       "         -0.118476  , -0.64589735, -0.67220641, -0.26237171,  0.54694527,\n",
       "          0.8813245 ,  3.07050355, -1.09173077, -0.09271094,  0.11349487,\n",
       "          0.43628797, -0.14149897, -0.05960027,  1.11662666,  0.49908262,\n",
       "         -1.01372826, -0.43238041, -0.11182502,  1.55894793,  0.28973937,\n",
       "         -0.5561562 ,  0.13929345,  1.09808274, -0.3365043 , -0.07106686]]))"
      ]
     },
     "execution_count": 35,
     "metadata": {},
     "output_type": "execute_result"
    }
   ],
   "source": [
    "\n",
    "x = np.random.randn(50)\n",
    "y = np.random.randn(5, 50)\n",
    "broadcast(x,y)"
   ]
  },
  {
   "cell_type": "code",
   "execution_count": 36,
   "metadata": {},
   "outputs": [],
   "source": [
    "\n",
    "def prep_broadcast(arr):\n",
    "    if is_jagged(arr):\n",
    "        arr = np.atleast_2d(np.asarray(arr, dtype=np.object))\n",
    "    else:\n",
    "        arr = np.asarray(arr)\n",
    "        if np.issubdtype(arr.dtype, np.number) and arr.ndim == 1:\n",
    "            arr = arr[None, :]\n",
    "    return arr"
   ]
  },
  {
   "cell_type": "code",
   "execution_count": 37,
   "metadata": {},
   "outputs": [],
   "source": [
    "x = [f1, f2]\n",
    "y = np.random.randn(2, 50)\n",
    "c = np.random.randn(1, 50)\n",
    "s = np.random.randn(50)\n",
    "x = prep_broadcast(x)\n",
    "y = prep_broadcast(y)\n",
    "c = prep_broadcast(c)\n",
    "s = prep_broadcast(s)"
   ]
  },
  {
   "cell_type": "code",
   "execution_count": 38,
   "metadata": {},
   "outputs": [
    {
     "data": {
      "text/plain": [
       "(2, 50)"
      ]
     },
     "execution_count": 38,
     "metadata": {},
     "output_type": "execute_result"
    }
   ],
   "source": [
    "y.shape"
   ]
  },
  {
   "cell_type": "code",
   "execution_count": null,
   "metadata": {},
   "outputs": [],
   "source": []
  },
  {
   "cell_type": "code",
   "execution_count": 39,
   "metadata": {},
   "outputs": [],
   "source": [
    "def prep_broadcast(arr):\n",
    "    if is_jagged(arr):\n",
    "        arr = np.atleast_2d(np.asarray(arr, dtype=np.object))\n",
    "    else:\n",
    "        arr = np.asarray(arr)\n",
    "        if np.issubdtype(arr.dtype, np.number) and arr.ndim == 1:\n",
    "            arr = arr[None, :]\n",
    "    return arr\n",
    "def prep_broadcast(arr):\n",
    "    if arr is None:\n",
    "        return np.array(None)[None,:]\n",
    "    if is_jagged(arr):\n",
    "        arr = np.atleast_2d(np.asarray(arr, dtype=np.object))\n",
    "    else:\n",
    "        arr = np.asarray(arr)\n",
    "        if np.issubdtype(arr.dtype, np.number) and arr.ndim == 1:\n",
    "            arr = arr[None, :]\n",
    "    return arr\n",
    "def broadcast_to(arr, to_shape, names):\n",
    "    \"\"\"\n",
    "    happily this doesn't increase memory footprint e.g:\n",
    "    import sys\n",
    "    xs = np.arange(5)\n",
    "    print(sys.getsizeof(xs.nbytes))\n",
    "    print(sys.getsizeof(np.broadcast_to(xs, (19000, xs.shape[0]))))\n",
    "\n",
    "    gives 28 and 112. Note 112/28 != 19000\n",
    "    \"\"\"\n",
    "    if arr.ndim == 2:\n",
    "        if arr.shape[0] == 1:\n",
    "            return np.broadcast_to(arr, (to_shape[0], arr.shape[1]))\n",
    "        elif arr.shape[0] == to_shape[0]:\n",
    "            return arr\n",
    "        else:\n",
    "            raise ValueError(f\"can't broadcast {names[0]} {arr.shape} onto {names[1]} {to_shape}\")\n",
    "    elif arr.ndim > 2:\n",
    "        raise ValueError(f\"{names[0]} can't have dimension > 2, it has {arr.ndim} dimensions\")\n",
    "    else:\n",
    "        return np.broadcast_to(arr, (to_shape[0], arr.shape[0]))\n",
    "def broadcast_arrays(*args):\n",
    "    \"\"\"\n",
    "    This is a modifed version the numpy `broadcast_arrays` function\n",
    "    that uses a verion of _broadcast_to that only considers the first axis\n",
    "    \"\"\"\n",
    "    \n",
    "    shapes = [array.shape[0] for (array , name) in args]\n",
    "    idx = np.argmax(shapes)\n",
    "    if all([shapes[0] == s for s in shapes]):\n",
    "        # case where nothing needs to be broadcasted.\n",
    "        return args\n",
    "    return [broadcast_to(array, args[idx][0].shape, [name, args[idx][1]]) for (array, name) in args]\n",
    "    "
   ]
  },
  {
   "cell_type": "code",
   "execution_count": 42,
   "metadata": {},
   "outputs": [
    {
     "ename": "IndexError",
     "evalue": "tuple index out of range",
     "output_type": "error",
     "traceback": [
      "\u001b[0;31m---------------------------------------------------------------------------\u001b[0m",
      "\u001b[0;31mIndexError\u001b[0m                                Traceback (most recent call last)",
      "\u001b[0;32m<ipython-input-42-4a6e929ee302>\u001b[0m in \u001b[0;36m<module>\u001b[0;34m()\u001b[0m\n\u001b[1;32m      9\u001b[0m \u001b[0ms\u001b[0m \u001b[0;34m=\u001b[0m \u001b[0mprep_broadcast\u001b[0m\u001b[0;34m(\u001b[0m\u001b[0ms\u001b[0m\u001b[0;34m)\u001b[0m\u001b[0;34m\u001b[0m\u001b[0;34m\u001b[0m\u001b[0m\n\u001b[1;32m     10\u001b[0m \u001b[0ms\u001b[0m \u001b[0;34m=\u001b[0m \u001b[0mprep_broadcast\u001b[0m\u001b[0;34m(\u001b[0m\u001b[0;32mNone\u001b[0m\u001b[0;34m)\u001b[0m\u001b[0;34m\u001b[0m\u001b[0;34m\u001b[0m\u001b[0m\n\u001b[0;32m---> 11\u001b[0;31m \u001b[0mxs\u001b[0m\u001b[0;34m,\u001b[0m \u001b[0mys\u001b[0m \u001b[0;34m,\u001b[0m \u001b[0mcs\u001b[0m\u001b[0;34m,\u001b[0m \u001b[0mss\u001b[0m\u001b[0;34m=\u001b[0m \u001b[0mbroadcast_arrays\u001b[0m\u001b[0;34m(\u001b[0m\u001b[0;34m(\u001b[0m\u001b[0mx\u001b[0m\u001b[0;34m,\u001b[0m \u001b[0;34m'x'\u001b[0m\u001b[0;34m)\u001b[0m\u001b[0;34m,\u001b[0m \u001b[0;34m(\u001b[0m\u001b[0my\u001b[0m\u001b[0;34m,\u001b[0m \u001b[0;34m'y'\u001b[0m\u001b[0;34m)\u001b[0m\u001b[0;34m,\u001b[0m \u001b[0;34m(\u001b[0m\u001b[0mc\u001b[0m\u001b[0;34m,\u001b[0m\u001b[0;34m'c'\u001b[0m\u001b[0;34m)\u001b[0m\u001b[0;34m,\u001b[0m \u001b[0;34m(\u001b[0m\u001b[0ms\u001b[0m\u001b[0;34m,\u001b[0m\u001b[0;34m's'\u001b[0m\u001b[0;34m)\u001b[0m\u001b[0;34m)\u001b[0m\u001b[0;34m\u001b[0m\u001b[0;34m\u001b[0m\u001b[0m\n\u001b[0m",
      "\u001b[0;32m<ipython-input-39-7f37e3c554b0>\u001b[0m in \u001b[0;36mbroadcast_arrays\u001b[0;34m(*args)\u001b[0m\n\u001b[1;32m     42\u001b[0m     \"\"\"\n\u001b[1;32m     43\u001b[0m \u001b[0;34m\u001b[0m\u001b[0m\n\u001b[0;32m---> 44\u001b[0;31m     \u001b[0mshapes\u001b[0m \u001b[0;34m=\u001b[0m \u001b[0;34m[\u001b[0m\u001b[0marray\u001b[0m\u001b[0;34m.\u001b[0m\u001b[0mshape\u001b[0m\u001b[0;34m[\u001b[0m\u001b[0;36m0\u001b[0m\u001b[0;34m]\u001b[0m \u001b[0;32mfor\u001b[0m \u001b[0;34m(\u001b[0m\u001b[0marray\u001b[0m \u001b[0;34m,\u001b[0m \u001b[0mname\u001b[0m\u001b[0;34m)\u001b[0m \u001b[0;32min\u001b[0m \u001b[0margs\u001b[0m\u001b[0;34m]\u001b[0m\u001b[0;34m\u001b[0m\u001b[0;34m\u001b[0m\u001b[0m\n\u001b[0m\u001b[1;32m     45\u001b[0m     \u001b[0midx\u001b[0m \u001b[0;34m=\u001b[0m \u001b[0mnp\u001b[0m\u001b[0;34m.\u001b[0m\u001b[0margmax\u001b[0m\u001b[0;34m(\u001b[0m\u001b[0mshapes\u001b[0m\u001b[0;34m)\u001b[0m\u001b[0;34m\u001b[0m\u001b[0;34m\u001b[0m\u001b[0m\n\u001b[1;32m     46\u001b[0m     \u001b[0;32mif\u001b[0m \u001b[0mall\u001b[0m\u001b[0;34m(\u001b[0m\u001b[0;34m[\u001b[0m\u001b[0mshapes\u001b[0m\u001b[0;34m[\u001b[0m\u001b[0;36m0\u001b[0m\u001b[0;34m]\u001b[0m \u001b[0;34m==\u001b[0m \u001b[0ms\u001b[0m \u001b[0;32mfor\u001b[0m \u001b[0ms\u001b[0m \u001b[0;32min\u001b[0m \u001b[0mshapes\u001b[0m\u001b[0;34m]\u001b[0m\u001b[0;34m)\u001b[0m\u001b[0;34m:\u001b[0m\u001b[0;34m\u001b[0m\u001b[0;34m\u001b[0m\u001b[0m\n",
      "\u001b[0;32m<ipython-input-39-7f37e3c554b0>\u001b[0m in \u001b[0;36m<listcomp>\u001b[0;34m(.0)\u001b[0m\n\u001b[1;32m     42\u001b[0m     \"\"\"\n\u001b[1;32m     43\u001b[0m \u001b[0;34m\u001b[0m\u001b[0m\n\u001b[0;32m---> 44\u001b[0;31m     \u001b[0mshapes\u001b[0m \u001b[0;34m=\u001b[0m \u001b[0;34m[\u001b[0m\u001b[0marray\u001b[0m\u001b[0;34m.\u001b[0m\u001b[0mshape\u001b[0m\u001b[0;34m[\u001b[0m\u001b[0;36m0\u001b[0m\u001b[0;34m]\u001b[0m \u001b[0;32mfor\u001b[0m \u001b[0;34m(\u001b[0m\u001b[0marray\u001b[0m \u001b[0;34m,\u001b[0m \u001b[0mname\u001b[0m\u001b[0;34m)\u001b[0m \u001b[0;32min\u001b[0m \u001b[0margs\u001b[0m\u001b[0;34m]\u001b[0m\u001b[0;34m\u001b[0m\u001b[0;34m\u001b[0m\u001b[0m\n\u001b[0m\u001b[1;32m     45\u001b[0m     \u001b[0midx\u001b[0m \u001b[0;34m=\u001b[0m \u001b[0mnp\u001b[0m\u001b[0;34m.\u001b[0m\u001b[0margmax\u001b[0m\u001b[0;34m(\u001b[0m\u001b[0mshapes\u001b[0m\u001b[0;34m)\u001b[0m\u001b[0;34m\u001b[0m\u001b[0;34m\u001b[0m\u001b[0m\n\u001b[1;32m     46\u001b[0m     \u001b[0;32mif\u001b[0m \u001b[0mall\u001b[0m\u001b[0;34m(\u001b[0m\u001b[0;34m[\u001b[0m\u001b[0mshapes\u001b[0m\u001b[0;34m[\u001b[0m\u001b[0;36m0\u001b[0m\u001b[0;34m]\u001b[0m \u001b[0;34m==\u001b[0m \u001b[0ms\u001b[0m \u001b[0;32mfor\u001b[0m \u001b[0ms\u001b[0m \u001b[0;32min\u001b[0m \u001b[0mshapes\u001b[0m\u001b[0;34m]\u001b[0m\u001b[0;34m)\u001b[0m\u001b[0;34m:\u001b[0m\u001b[0;34m\u001b[0m\u001b[0;34m\u001b[0m\u001b[0m\n",
      "\u001b[0;31mIndexError\u001b[0m: tuple index out of range"
     ]
    }
   ],
   "source": [
    "x = [f1, f2]\n",
    "x = (f1, f2)\n",
    "y = np.random.randn(2, 50)\n",
    "c = np.random.randn(1, 50)\n",
    "s = np.random.randn(50)\n",
    "x = prep_broadcast(x)\n",
    "y = prep_broadcast(y)\n",
    "c = prep_broadcast(c)\n",
    "s = prep_broadcast(s)\n",
    "s = prep_broadcast(None)\n",
    "xs, ys , cs, ss= broadcast_arrays((x, 'x'), (y, 'y'), (c,'c'), (s,'s'))"
   ]
  },
  {
   "cell_type": "code",
   "execution_count": 41,
   "metadata": {},
   "outputs": [
    {
     "data": {
      "text/plain": [
       "(2, 2)"
      ]
     },
     "execution_count": 41,
     "metadata": {},
     "output_type": "execute_result"
    }
   ],
   "source": [
    "xs.shape"
   ]
  },
  {
   "cell_type": "code",
   "execution_count": 133,
   "metadata": {},
   "outputs": [
    {
     "data": {
      "text/plain": [
       "(2, 50)"
      ]
     },
     "execution_count": 133,
     "metadata": {},
     "output_type": "execute_result"
    }
   ],
   "source": [
    "ys.shape"
   ]
  },
  {
   "cell_type": "code",
   "execution_count": 134,
   "metadata": {},
   "outputs": [
    {
     "data": {
      "text/plain": [
       "(2, 50)"
      ]
     },
     "execution_count": 134,
     "metadata": {},
     "output_type": "execute_result"
    }
   ],
   "source": [
    "cs.shape"
   ]
  },
  {
   "cell_type": "code",
   "execution_count": 135,
   "metadata": {},
   "outputs": [
    {
     "data": {
      "text/plain": [
       "(2, 50)"
      ]
     },
     "execution_count": 135,
     "metadata": {},
     "output_type": "execute_result"
    }
   ],
   "source": [
    "ss.shape"
   ]
  },
  {
   "cell_type": "code",
   "execution_count": 44,
   "metadata": {},
   "outputs": [
    {
     "data": {
      "text/plain": [
       "array([None], dtype=object)"
      ]
     },
     "execution_count": 44,
     "metadata": {},
     "output_type": "execute_result"
    }
   ],
   "source": [
    "np.atleast_1d(np.array(None))"
   ]
  },
  {
   "cell_type": "code",
   "execution_count": 45,
   "metadata": {},
   "outputs": [
    {
     "data": {
      "text/plain": [
       "False"
      ]
     },
     "execution_count": 45,
     "metadata": {},
     "output_type": "execute_result"
    }
   ],
   "source": [
    "is_jagged(None)"
   ]
  },
  {
   "cell_type": "code",
   "execution_count": 46,
   "metadata": {},
   "outputs": [
    {
     "data": {
      "text/plain": [
       "array(None, dtype=object)"
      ]
     },
     "execution_count": 46,
     "metadata": {},
     "output_type": "execute_result"
    }
   ],
   "source": [
    "\n",
    "s = prep_broadcast(None)\n",
    "s"
   ]
  },
  {
   "cell_type": "code",
   "execution_count": null,
   "metadata": {},
   "outputs": [],
   "source": []
  }
 ],
 "metadata": {
  "kernelspec": {
   "display_name": "Python 3",
   "language": "python",
   "name": "python3"
  },
  "language_info": {
   "codemirror_mode": {
    "name": "ipython",
    "version": 3
   },
   "file_extension": ".py",
   "mimetype": "text/x-python",
   "name": "python",
   "nbconvert_exporter": "python",
   "pygments_lexer": "ipython3",
   "version": "3.7.8"
  }
 },
 "nbformat": 4,
 "nbformat_minor": 4
}
