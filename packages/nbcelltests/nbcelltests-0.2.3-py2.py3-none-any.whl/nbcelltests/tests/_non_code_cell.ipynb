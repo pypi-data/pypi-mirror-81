{
 "cells": [
  {
   "cell_type": "markdown",
   "source": [
    "some markdown"
   ],   
   "metadata": {
    "celltests": [
     "# Use %cell to execute the cell\n",
     "pass\n",
     "\n"
    ]
   }
  } 
 ],
 "metadata": {
  "kernelspec": {
   "display_name": "Python 3.7.6 64-bit ('celltestsui': conda)",
   "language": "python",
   "name": "python37664bitcelltestsuiconda549e14be7f784a2fbde278c18c8be829"
  },
  "language_info": {
   "codemirror_mode": {
    "name": "ipython",
    "version": 3
   },
   "file_extension": ".py",
   "mimetype": "text/x-python",
   "name": "python",
   "nbconvert_exporter": "python",
   "pygments_lexer": "ipython3",
   "version": "3.7.6"
  }
 },
 "nbformat": 4,
 "nbformat_minor": 4
}
