{
 "cells": [
  {
   "cell_type": "markdown",
   "metadata": {},
   "source": [
    "# Input attribution and Variant effect prediction"
   ]
  },
  {
   "cell_type": "markdown",
   "metadata": {},
   "source": [
    "In this tutorial we illustrate input feature importance attribution and variant effect prediction."
   ]
  },
  {
   "cell_type": "code",
   "execution_count": 1,
   "metadata": {},
   "outputs": [
    {
     "name": "stderr",
     "output_type": "stream",
     "text": [
      "Using TensorFlow backend.\n",
      "/home/wkopp/anaconda3/envs/jdev1/lib/python3.7/site-packages/tensorflow/python/framework/dtypes.py:516: FutureWarning: Passing (type, 1) or '1type' as a synonym of type is deprecated; in a future version of numpy, it will be understood as (type, (1,)) / '(1,)type'.\n",
      "  _np_qint8 = np.dtype([(\"qint8\", np.int8, 1)])\n",
      "/home/wkopp/anaconda3/envs/jdev1/lib/python3.7/site-packages/tensorflow/python/framework/dtypes.py:517: FutureWarning: Passing (type, 1) or '1type' as a synonym of type is deprecated; in a future version of numpy, it will be understood as (type, (1,)) / '(1,)type'.\n",
      "  _np_quint8 = np.dtype([(\"quint8\", np.uint8, 1)])\n",
      "/home/wkopp/anaconda3/envs/jdev1/lib/python3.7/site-packages/tensorflow/python/framework/dtypes.py:518: FutureWarning: Passing (type, 1) or '1type' as a synonym of type is deprecated; in a future version of numpy, it will be understood as (type, (1,)) / '(1,)type'.\n",
      "  _np_qint16 = np.dtype([(\"qint16\", np.int16, 1)])\n",
      "/home/wkopp/anaconda3/envs/jdev1/lib/python3.7/site-packages/tensorflow/python/framework/dtypes.py:519: FutureWarning: Passing (type, 1) or '1type' as a synonym of type is deprecated; in a future version of numpy, it will be understood as (type, (1,)) / '(1,)type'.\n",
      "  _np_quint16 = np.dtype([(\"quint16\", np.uint16, 1)])\n",
      "/home/wkopp/anaconda3/envs/jdev1/lib/python3.7/site-packages/tensorflow/python/framework/dtypes.py:520: FutureWarning: Passing (type, 1) or '1type' as a synonym of type is deprecated; in a future version of numpy, it will be understood as (type, (1,)) / '(1,)type'.\n",
      "  _np_qint32 = np.dtype([(\"qint32\", np.int32, 1)])\n",
      "/home/wkopp/anaconda3/envs/jdev1/lib/python3.7/site-packages/tensorflow/python/framework/dtypes.py:525: FutureWarning: Passing (type, 1) or '1type' as a synonym of type is deprecated; in a future version of numpy, it will be understood as (type, (1,)) / '(1,)type'.\n",
      "  np_resource = np.dtype([(\"resource\", np.ubyte, 1)])\n",
      "/home/wkopp/anaconda3/envs/jdev1/lib/python3.7/site-packages/tensorboard/compat/tensorflow_stub/dtypes.py:541: FutureWarning: Passing (type, 1) or '1type' as a synonym of type is deprecated; in a future version of numpy, it will be understood as (type, (1,)) / '(1,)type'.\n",
      "  _np_qint8 = np.dtype([(\"qint8\", np.int8, 1)])\n",
      "/home/wkopp/anaconda3/envs/jdev1/lib/python3.7/site-packages/tensorboard/compat/tensorflow_stub/dtypes.py:542: FutureWarning: Passing (type, 1) or '1type' as a synonym of type is deprecated; in a future version of numpy, it will be understood as (type, (1,)) / '(1,)type'.\n",
      "  _np_quint8 = np.dtype([(\"quint8\", np.uint8, 1)])\n",
      "/home/wkopp/anaconda3/envs/jdev1/lib/python3.7/site-packages/tensorboard/compat/tensorflow_stub/dtypes.py:543: FutureWarning: Passing (type, 1) or '1type' as a synonym of type is deprecated; in a future version of numpy, it will be understood as (type, (1,)) / '(1,)type'.\n",
      "  _np_qint16 = np.dtype([(\"qint16\", np.int16, 1)])\n",
      "/home/wkopp/anaconda3/envs/jdev1/lib/python3.7/site-packages/tensorboard/compat/tensorflow_stub/dtypes.py:544: FutureWarning: Passing (type, 1) or '1type' as a synonym of type is deprecated; in a future version of numpy, it will be understood as (type, (1,)) / '(1,)type'.\n",
      "  _np_quint16 = np.dtype([(\"quint16\", np.uint16, 1)])\n",
      "/home/wkopp/anaconda3/envs/jdev1/lib/python3.7/site-packages/tensorboard/compat/tensorflow_stub/dtypes.py:545: FutureWarning: Passing (type, 1) or '1type' as a synonym of type is deprecated; in a future version of numpy, it will be understood as (type, (1,)) / '(1,)type'.\n",
      "  _np_qint32 = np.dtype([(\"qint32\", np.int32, 1)])\n",
      "/home/wkopp/anaconda3/envs/jdev1/lib/python3.7/site-packages/tensorboard/compat/tensorflow_stub/dtypes.py:550: FutureWarning: Passing (type, 1) or '1type' as a synonym of type is deprecated; in a future version of numpy, it will be understood as (type, (1,)) / '(1,)type'.\n",
      "  np_resource = np.dtype([(\"resource\", np.ubyte, 1)])\n"
     ]
    }
   ],
   "source": [
    "import os\n",
    "\n",
    "import numpy as np\n",
    "import h5py\n",
    "from keras import backend as K\n",
    "from keras.layers import Conv2D\n",
    "from keras.layers import GlobalAveragePooling2D\n",
    "from pkg_resources import resource_filename\n",
    "\n",
    "from janggu import Janggu\n",
    "from janggu import Scorer\n",
    "from janggu import inputlayer\n",
    "from janggu import outputdense\n",
    "from janggu.data import Bioseq\n",
    "from janggu.data import Cover\n",
    "from janggu.data import GenomicIndexer\n",
    "from janggu.data import ReduceDim\n",
    "from janggu.data import plotGenomeTrack\n",
    "from janggu.data import LineTrack\n",
    "from janggu.data import SeqTrack\n",
    "from janggu.layers import DnaConv2D\n",
    "from janggu import input_attribution\n",
    "\n",
    "np.random.seed(1234)"
   ]
  },
  {
   "cell_type": "markdown",
   "metadata": {},
   "source": [
    "First, we need to specify the output directory in which the results are stored and load the datasets. We also specify the number of epochs to train the model and the sequence feature order."
   ]
  },
  {
   "cell_type": "code",
   "execution_count": 2,
   "metadata": {},
   "outputs": [],
   "source": [
    "order = 3\n",
    "epochs = 10"
   ]
  },
  {
   "cell_type": "code",
   "execution_count": 3,
   "metadata": {},
   "outputs": [],
   "source": [
    "os.environ['JANGGU_OUTPUT'] = '/home/wkopp/janggu_examples'\n",
    "\n",
    "# load the dataset\n",
    "# The pseudo genome represents just a concatenation of all sequences\n",
    "# in sample.fa and sample2.fa. Therefore, the results should be almost\n",
    "# identically to the models obtained from classify_fasta.py.\n",
    "REFGENOME = resource_filename('janggu', 'resources/pseudo_genome.fa')\n",
    "VCFFILE = resource_filename('janggu', 'resources/pseudo_snps.vcf')\n",
    "# ROI contains regions spanning positive and negative examples\n",
    "ROI_TRAIN_FILE = resource_filename('janggu', 'resources/roi_train.bed')\n",
    "ROI_TEST_FILE = resource_filename('janggu', 'resources/roi_test.bed')\n",
    "\n",
    "# PEAK_FILE only contains positive examples\n",
    "PEAK_FILE = resource_filename('janggu', 'resources/scores.bed')"
   ]
  },
  {
   "cell_type": "code",
   "execution_count": 4,
   "metadata": {},
   "outputs": [],
   "source": [
    "# Training input and labels are purely defined genomic coordinates\n",
    "DNA = Bioseq.create_from_refgenome('dna', refgenome=REFGENOME,\n",
    "                                   roi=ROI_TRAIN_FILE,\n",
    "                                   binsize=200,\n",
    "                                   store_whole_genome=True,\n",
    "                                   order=order)\n",
    "\n",
    "LABELS = Cover.create_from_bed('peaks', roi=ROI_TRAIN_FILE,\n",
    "                               bedfiles=PEAK_FILE,\n",
    "                               binsize=200,\n",
    "                               resolution=200)\n",
    "\n",
    "\n",
    "DNA_TEST = Bioseq.create_from_refgenome('dna', refgenome=REFGENOME,\n",
    "                                        roi=ROI_TEST_FILE,\n",
    "                                        binsize=200,\n",
    "                                        store_whole_genome=True,\n",
    "                                        order=order)\n",
    "\n",
    "LABELS_TEST = Cover.create_from_bed('peaks',\n",
    "                                    roi=ROI_TEST_FILE,\n",
    "                                    bedfiles=PEAK_FILE,\n",
    "                                    binsize=200,\n",
    "                                    resolution=200)"
   ]
  },
  {
   "cell_type": "markdown",
   "metadata": {},
   "source": [
    "Define and fit a new model"
   ]
  },
  {
   "cell_type": "code",
   "execution_count": 5,
   "metadata": {},
   "outputs": [
    {
     "name": "stdout",
     "output_type": "stream",
     "text": [
      "WARNING:tensorflow:From /home/wkopp/anaconda3/envs/jdev1/lib/python3.7/site-packages/keras/backend/tensorflow_backend.py:507: The name tf.placeholder is deprecated. Please use tf.compat.v1.placeholder instead.\n",
      "\n",
      "WARNING:tensorflow:From /home/wkopp/anaconda3/envs/jdev1/lib/python3.7/site-packages/keras/backend/tensorflow_backend.py:68: The name tf.get_default_graph is deprecated. Please use tf.compat.v1.get_default_graph instead.\n",
      "\n",
      "WARNING:tensorflow:From /home/wkopp/anaconda3/envs/jdev1/lib/python3.7/site-packages/keras/backend/tensorflow_backend.py:3831: The name tf.random_uniform is deprecated. Please use tf.random.uniform instead.\n",
      "\n",
      "Generated model-id: 'cc6a31d5a7bba29bd2804d19316fc353'\n",
      "WARNING:tensorflow:From /home/wkopp/anaconda3/envs/jdev1/lib/python3.7/site-packages/tensorflow/python/ops/math_grad.py:1250: add_dispatch_support.<locals>.wrapper (from tensorflow.python.ops.array_ops) is deprecated and will be removed in a future version.\n",
      "Instructions for updating:\n",
      "Use tf.where in 2.0, which has the same broadcast rule as np.where\n",
      "WARNING:tensorflow:From /home/wkopp/anaconda3/envs/jdev1/lib/python3.7/site-packages/keras/optimizers.py:757: The name tf.train.Optimizer is deprecated. Please use tf.compat.v1.train.Optimizer instead.\n",
      "\n",
      "WARNING:tensorflow:From /home/wkopp/anaconda3/envs/jdev1/lib/python3.7/site-packages/keras/backend/tensorflow_backend.py:3069: The name tf.log is deprecated. Please use tf.math.log instead.\n",
      "\n",
      "WARNING:tensorflow:From /home/wkopp/anaconda3/envs/jdev1/lib/python3.7/site-packages/keras/backend/tensorflow_backend.py:976: The name tf.assign_add is deprecated. Please use tf.compat.v1.assign_add instead.\n",
      "\n",
      "Epoch 1/10\n",
      "244/244 [==============================] - 10s 40ms/step - loss: 0.6275 - acc: 0.6514\n",
      "Epoch 2/10\n",
      "244/244 [==============================] - 12s 49ms/step - loss: 0.5190 - acc: 0.7681\n",
      "Epoch 3/10\n",
      "244/244 [==============================] - 12s 47ms/step - loss: 0.4614 - acc: 0.7993\n",
      "Epoch 4/10\n",
      "244/244 [==============================] - 12s 47ms/step - loss: 0.4227 - acc: 0.8211\n",
      "Epoch 5/10\n",
      "244/244 [==============================] - 12s 48ms/step - loss: 0.3935 - acc: 0.8323\n",
      "Epoch 6/10\n",
      "244/244 [==============================] - 12s 48ms/step - loss: 0.3683 - acc: 0.8450\n",
      "Epoch 7/10\n",
      "244/244 [==============================] - 12s 49ms/step - loss: 0.3466 - acc: 0.8579\n",
      "Epoch 8/10\n",
      "244/244 [==============================] - 13s 51ms/step - loss: 0.3249 - acc: 0.8703\n",
      "Epoch 9/10\n",
      "244/244 [==============================] - 12s 49ms/step - loss: 0.3035 - acc: 0.8785\n",
      "Epoch 10/10\n",
      "244/244 [==============================] - 9s 38ms/step - loss: 0.2837 - acc: 0.8891\n",
      "########################################\n",
      "loss: 0.28377587993901493, acc: 0.88905989483899\n",
      "########################################\n"
     ]
    }
   ],
   "source": [
    "@inputlayer\n",
    "@outputdense('sigmoid')\n",
    "def double_stranded_model_dnaconv(inputs, inp, oup, params):\n",
    "    \"\"\" keras model for scanning both DNA strands.\n",
    "\n",
    "    A more elegant way of scanning both strands for motif occurrences\n",
    "    is achieved by the DnaConv2D layer wrapper, which internally\n",
    "    performs the convolution operation with the normal kernel weights\n",
    "    and the reverse complemented weights.\n",
    "    \"\"\"\n",
    "    with inputs.use('dna') as layer:\n",
    "        # the name in inputs.use() should be the same as the dataset name.\n",
    "        layer = DnaConv2D(Conv2D(params[0], (params[1], 1),\n",
    "                                 activation=params[2]))(layer)\n",
    "    output = GlobalAveragePooling2D(name='motif')(layer)\n",
    "    return inputs, output\n",
    "\n",
    "\n",
    "# create a new model object\n",
    "model = Janggu.create(template=double_stranded_model_dnaconv,\n",
    "                      modelparams=(30, 21, 'relu'),\n",
    "                      inputs=DNA,\n",
    "                      outputs=ReduceDim(LABELS))\n",
    "\n",
    "model.compile(optimizer='adadelta', loss='binary_crossentropy',\n",
    "              metrics=['acc'])\n",
    "\n",
    "hist = model.fit(DNA, ReduceDim(LABELS), epochs=epochs)\n",
    "\n",
    "print('#' * 40)\n",
    "print('loss: {}, acc: {}'.format(hist.history['loss'][-1],\n",
    "                                 hist.history['acc'][-1]))\n",
    "print('#' * 40)"
   ]
  },
  {
   "cell_type": "markdown",
   "metadata": {},
   "source": [
    "The toy example illustrates a binary classification example composed of Oct4 and Mafk binding sites. \n",
    "The true Oct4 binding sites have been labeled with ones while the Mafk binding sites are labeled zeros."
   ]
  },
  {
   "cell_type": "markdown",
   "metadata": {},
   "source": [
    "For a sanity check we inspect the predicted values for a few data points."
   ]
  },
  {
   "cell_type": "code",
   "execution_count": 6,
   "metadata": {},
   "outputs": [
    {
     "name": "stdout",
     "output_type": "stream",
     "text": [
      "Oct4 predictions scores should be greater than Mafk scores:\n",
      "Prediction score examples for Oct4\n",
      "0.: [[[[0.9668926]]]]\n",
      "1.: [[[[0.6329236]]]]\n",
      "2.: [[[[0.65740335]]]]\n",
      "3.: [[[[0.54009187]]]]\n",
      "Prediction score examples for Mafk\n",
      "1.: [[[[0.75147647]]]]\n",
      "2.: [[[[0.13478133]]]]\n",
      "3.: [[[[0.02158391]]]]\n",
      "4.: [[[[0.02840427]]]]\n"
     ]
    }
   ],
   "source": [
    "pred = model.predict(DNA_TEST)\n",
    "cov_pred = Cover.create_from_array('BindingProba', pred, LABELS_TEST.gindexer)\n",
    "\n",
    "print('Oct4 predictions scores should be greater than Mafk scores:')\n",
    "print('Prediction score examples for Oct4')\n",
    "for i in range(4):\n",
    "    print('{}.: {}'.format(i, cov_pred[i]))\n",
    "print('Prediction score examples for Mafk')\n",
    "for i in range(1, 5):\n",
    "    print('{}.: {}'.format(i, cov_pred[-i]))"
   ]
  },
  {
   "cell_type": "markdown",
   "metadata": {},
   "source": [
    "In order to perform input feature attribution, we utilize the 'input_attribution' method for a genomic region of interest.\n",
    "\n",
    "Underneath, the result is illustrated visually. It highlights an Oct4 binding sites occuring at the left peak."
   ]
  },
  {
   "cell_type": "code",
   "execution_count": 7,
   "metadata": {},
   "outputs": [
    {
     "data": {
      "image/png": "[encoded data removed]",
      "text/plain": [
       "<Figure size 720x360 with 3 Axes>"
      ]
     },
     "execution_count": 7,
     "metadata": {},
     "output_type": "execute_result"
    },
    {
     "data": {
      "image/png": "[encoded data removed]",
      "text/plain": [
       "<Figure size 720x360 with 3 Axes>"
      ]
     },
     "metadata": {
      "needs_background": "light"
     },
     "output_type": "display_data"
    }
   ],
   "source": [
    "# Extract the 4th interval to perform input feature importance attribution\n",
    "# which represents an Oct4 bound region\n",
    "gi = DNA.gindexer[3]\n",
    "chrom = gi.chrom\n",
    "start = gi.start\n",
    "end = gi.end\n",
    "attr_oct = input_attribution(model, DNA, chrom=chrom, start=start, end=end)\n",
    "\n",
    "# visualize the important sequence features\n",
    "plotGenomeTrack(SeqTrack(attr_oct[0]), chrom, start, end)"
   ]
  },
  {
   "cell_type": "markdown",
   "metadata": {},
   "source": [
    "By comparison, the input attribution for a Mafk binding sites highlights a Mafk motif in the center."
   ]
  },
  {
   "cell_type": "code",
   "execution_count": 8,
   "metadata": {},
   "outputs": [
    {
     "data": {
      "image/png": "[encoded data removed]",
      "text/plain": [
       "<Figure size 720x360 with 3 Axes>"
      ]
     },
     "execution_count": 8,
     "metadata": {},
     "output_type": "execute_result"
    },
    {
     "data": {
      "image/png": "[encoded data removed]",
      "text/plain": [
       "<Figure size 720x360 with 3 Axes>"
      ]
     },
     "metadata": {
      "needs_background": "light"
     },
     "output_type": "display_data"
    }
   ],
   "source": [
    "# For the comparison, extract an interval\n",
    "# representing a Mafk bound region and visualize the\n",
    "# important features.\n",
    "gi = DNA.gindexer[7796]\n",
    "chrom = gi.chrom\n",
    "start = gi.start\n",
    "end = gi.end\n",
    "attr_mafk = input_attribution(model, DNA, chrom=chrom, start=start, end=end)\n",
    "\n",
    "plotGenomeTrack(SeqTrack(attr_mafk[0]), chrom, start, end)"
   ]
  },
  {
   "cell_type": "markdown",
   "metadata": {},
   "source": [
    "In order to perform variant effect prediction, we need the DNA sequence loaded for the whole genome into a Bioseq object and a VCF file containing single nucleotide variant.\n",
    "\n",
    "The result of this analysis is stored in two files: scores.hdf5 and snps.bed.gz."
   ]
  },
  {
   "cell_type": "code",
   "execution_count": 9,
   "metadata": {},
   "outputs": [
    {
     "name": "stdout",
     "output_type": "stream",
     "text": [
      "inverval from vcf: 556 756\n",
      "inverval from vcf: 558 758\n",
      "inverval from vcf: 560 760\n",
      "inverval from vcf: 561 761\n",
      "inverval from vcf: 562 762\n",
      "inverval from vcf: 620 820\n",
      "inverval from vcf: 556 756\n",
      "inverval from vcf: 556 756\n",
      "inverval from vcf: 558 758\n",
      "inverval from vcf: 558 758\n",
      "inverval from vcf: 560 760\n",
      "inverval from vcf: 560 760\n",
      "inverval from vcf: 561 761\n",
      "inverval from vcf: 561 761\n",
      "inverval from vcf: 562 762\n",
      "inverval from vcf: 562 762\n",
      "inverval from vcf: 620 820\n",
      "inverval from vcf: 620 820\n"
     ]
    }
   ],
   "source": [
    "# output directory for the variant effect prediction\n",
    "vcfoutput = os.path.join(os.environ['JANGGU_OUTPUT'], 'vcfoutput')\n",
    "os.makedirs(vcfoutput, exist_ok=True)\n",
    "\n",
    "# perform variant effect prediction using Bioseq object and\n",
    "# a VCF file\n",
    "scoresfile, variantsfile = model.predict_variant_effect(DNA,\n",
    "                                                        VCFFILE,\n",
    "                                                        conditions=['feature'],\n",
    "                                                        output_folder=vcfoutput)\n",
    "\n",
    "scoresfile = os.path.join(vcfoutput, 'scores.hdf5')\n",
    "variantsfile = os.path.join(vcfoutput, 'snps.bed.gz')"
   ]
  },
  {
   "cell_type": "markdown",
   "metadata": {},
   "source": [
    "scores.hdf5 contains a variety of scores for each variant. The most important ones are refscore and altscore which are used to derive the score difference and the logoddsscore."
   ]
  },
  {
   "cell_type": "code",
   "execution_count": 10,
   "metadata": {},
   "outputs": [
    {
     "name": "stdout",
     "output_type": "stream",
     "text": [
      "altscore\n",
      "diffscore\n",
      "labels\n",
      "logoddsscore\n",
      "refscore\n"
     ]
    }
   ],
   "source": [
    "# parse the variant effect predictions (difference between\n",
    "# reference and alternative variant) into a Cover object\n",
    "# for the purpose of visualization\n",
    "f = h5py.File(scoresfile, 'r')\n",
    "\n",
    "for name in f:\n",
    "    print(name)\n",
    "    "
   ]
  },
  {
   "cell_type": "markdown",
   "metadata": {},
   "source": [
    "Finally, we can convert the variant predictions (the score differences in this case) along with the genomic context with other genomic tracks."
   ]
  },
  {
   "cell_type": "code",
   "execution_count": 11,
   "metadata": {},
   "outputs": [],
   "source": [
    "gindexer = GenomicIndexer.create_from_file(variantsfile, None, None)\n",
    "\n",
    "snpcov = Cover.create_from_array('snps', f['diffscore'],\n",
    "                                 gindexer,\n",
    "                                 store_whole_genome=True,\n",
    "                                 padding_value=np.nan)"
   ]
  },
  {
   "cell_type": "code",
   "execution_count": 12,
   "metadata": {},
   "outputs": [
    {
     "data": {
      "image/png": "[encoded data removed]",
      "text/plain": [
       "<Figure size 720x360 with 5 Axes>"
      ]
     },
     "execution_count": 12,
     "metadata": {},
     "output_type": "execute_result"
    },
    {
     "data": {
      "image/png": "[encoded data removed]",
      "text/plain": [
       "<Figure size 720x360 with 5 Axes>"
      ]
     },
     "metadata": {
      "needs_background": "light"
     },
     "output_type": "display_data"
    }
   ],
   "source": [
    "gi = DNA.gindexer[3]\n",
    "chrom = gi.chrom\n",
    "start = gi.start\n",
    "end = gi.end\n",
    "\n",
    "plotGenomeTrack([LineTrack(snpcov,\n",
    "                           linestyle=\"None\"), SeqTrack(attr_oct[0])],\n",
    "                chrom, start, end)"
   ]
  },
  {
   "cell_type": "markdown",
   "metadata": {},
   "source": [
    "The score difference shows a dip around the site that is indicated as most important from the input attribution as well."
   ]
  },
  {
   "cell_type": "markdown",
   "metadata": {},
   "source": [
    "It is also possible to export the variant effect predictions as bigwig for further explorations in e.g. IGV.\n",
    "To this end, use the `export_to_bigwig` method"
   ]
  },
  {
   "cell_type": "code",
   "execution_count": 13,
   "metadata": {},
   "outputs": [],
   "source": [
    "os.makedirs('./snps', exist_ok=True)\n",
    "snpcov.export_to_bigwig('./snps')"
   ]
  }
 ],
 "metadata": {
  "kernelspec": {
   "display_name": "Python 3",
   "language": "python",
   "name": "python3"
  },
  "language_info": {
   "codemirror_mode": {
    "name": "ipython",
    "version": 3
   },
   "file_extension": ".py",
   "mimetype": "text/x-python",
   "name": "python",
   "nbconvert_exporter": "python",
   "pygments_lexer": "ipython3",
   "version": "3.7.6"
  }
 },
 "nbformat": 4,
 "nbformat_minor": 2
}
