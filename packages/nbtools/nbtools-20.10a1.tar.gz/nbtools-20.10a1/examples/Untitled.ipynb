{
 "cells": [
  {
   "cell_type": "code",
   "execution_count": 4,
   "metadata": {},
   "outputs": [
    {
     "data": {
      "application/vnd.jupyter.widget-view+json": {
       "model_id": "",
       "version_major": 2,
       "version_minor": 0
      },
      "text/plain": [
       "GPAuthWidget(buttons={'Register an Account': \"\\n    const target = event.target;\\n    const widget = target.cl…"
      ]
     },
     "metadata": {},
     "output_type": "display_data"
    },
    {
     "data": {
      "application/vnd.jupyter.widget-view+json": {
       "model_id": "7123df879a0e46ffa85c42079202b463",
       "version_major": 2,
       "version_minor": 0
      },
      "text/plain": [
       "Output()"
      ]
     },
     "metadata": {},
     "output_type": "display_data"
    }
   ],
   "source": [
    "import nbtools\n",
    "\n",
    "nbtools.tool(id='authentication', origin='+')"
   ]
  },
  {
   "cell_type": "code",
   "execution_count": null,
   "metadata": {},
   "outputs": [],
   "source": []
  }
 ],
 "metadata": {
  "kernelspec": {
   "display_name": "Python 3",
   "language": "python",
   "name": "python3"
  },
  "language_info": {
   "codemirror_mode": {
    "name": "ipython",
    "version": 3
   },
   "file_extension": ".py",
   "mimetype": "text/x-python",
   "name": "python",
   "nbconvert_exporter": "python",
   "pygments_lexer": "ipython3",
   "version": "3.7.6"
  },
  "widgets": {
   "application/vnd.jupyter.widget-state+json": {
    "state": {
     "01915b78d81540ad932c1da536dfd1b6": {
      "model_module": "@jupyter-widgets/base",
      "model_module_version": "1.2.0",
      "model_name": "LayoutModel",
      "state": {
       "grid_area": "input",
       "width": "auto"
      }
     },
     "030efdf0790b49d499161d44cd9dab8c": {
      "model_module": "@jupyter-widgets/base",
      "model_module_version": "1.2.0",
      "model_name": "LayoutModel",
      "state": {}
     },
     "037847118c2e4fa99588e2f85f3074d8": {
      "model_module": "@jupyter-widgets/base",
      "model_module_version": "1.2.0",
      "model_name": "LayoutModel",
      "state": {
       "grid_area": "description",
       "width": "auto"
      }
     },
     "04401cb33aff4c5f99c1272ae17976cb": {
      "model_module": "@jupyter-widgets/base",
      "model_module_version": "1.2.0",
      "model_name": "LayoutModel",
      "state": {
       "grid_area": "input",
       "width": "auto"
      }
     },
     "07018842cd614b81835171a412f97d75": {
      "model_module": "@jupyter-widgets/base",
      "model_module_version": "1.2.0",
      "model_name": "LayoutModel",
      "state": {}
     },
     "084e58c83b92498697ee370bf460fa75": {
      "model_module": "@jupyter-widgets/base",
      "model_module_version": "1.2.0",
      "model_name": "LayoutModel",
      "state": {}
     },
     "08c69f8e3db441a9b656ca63b6ab17cd": {
      "model_module": "@jupyter-widgets/controls",
      "model_module_version": "1.5.0",
      "model_name": "DescriptionStyleModel",
      "state": {
       "description_width": ""
      }
     },
     "0a27dd11fa5a46a3a29698ef80b40749": {
      "model_module": "@jupyter-widgets/controls",
      "model_module_version": "1.5.0",
      "model_name": "GridBoxModel",
      "state": {
       "_dom_classes": [
        "nbtools-input",
        "nbtools-textinput"
       ],
       "children": [
        "IPY_MODEL_1d0a1894c2844c5f964664d8d9e88324",
        "IPY_MODEL_f2e97af05db74504b3d8c11034837cbd",
        "IPY_MODEL_760473ac4ee849b8a445029ee496243d"
       ],
       "layout": "IPY_MODEL_2cf823d200b14a10aa9c3cdd56d65d7a"
      }
     },
     "0dab3491e0334841894e985c48b8aaa2": {
      "model_module": "@jupyter-widgets/base",
      "model_module_version": "1.2.0",
      "model_name": "LayoutModel",
      "state": {
       "display": "none",
       "grid_template_areas": "\n                    \"label input\"\n                    \". description\"\n                ",
       "grid_template_columns": "25% 75%",
       "grid_template_rows": "auto auto",
       "width": "100%"
      }
     },
     "0ef47e6d12d34a0681f4c494979b0234": {
      "model_module": "@jupyter-widgets/controls",
      "model_module_version": "1.5.0",
      "model_name": "PasswordModel",
      "state": {
       "layout": "IPY_MODEL_f78d12404f4f4e45b401b2ba0265c4ab",
       "style": "IPY_MODEL_c7a16196cf3b411f839e21f198048167"
      }
     },
     "10577faafa54446db1682d8efebc1f4a": {
      "model_module": "@jupyter-widgets/base",
      "model_module_version": "1.2.0",
      "model_name": "LayoutModel",
      "state": {
       "grid_area": "input",
       "width": "auto"
      }
     },
     "12da8c17c2da48b3a621385a9972ea3a": {
      "model_module": "@jupyter-widgets/base",
      "model_module_version": "1.2.0",
      "model_name": "LayoutModel",
      "state": {
       "grid_area": "label",
       "width": "auto"
      }
     },
     "14758f3eb4764c7381714c54e5c0f1c4": {
      "model_module": "@jupyter-widgets/base",
      "model_module_version": "1.2.0",
      "model_name": "LayoutModel",
      "state": {
       "display": "none",
       "grid_template_areas": "\n                    \"label input\"\n                    \". description\"\n                ",
       "grid_template_columns": "25% 75%",
       "grid_template_rows": "auto auto",
       "width": "100%"
      }
     },
     "1512661848014496820a48997a7ba42a": {
      "model_module": "@jupyter-widgets/base",
      "model_module_version": "1.2.0",
      "model_name": "LayoutModel",
      "state": {}
     },
     "1593d28e453947939dcac96797c37c0d": {
      "model_module": "@jupyter-widgets/controls",
      "model_module_version": "1.5.0",
      "model_name": "VBoxModel",
      "state": {
       "_dom_classes": [
        "widget-interact"
       ],
       "children": [
        "IPY_MODEL_b0fed32dfbda4da5aa9b13c31394c8e4",
        "IPY_MODEL_aaf0197ae68147b7a9b423245edabb25",
        "IPY_MODEL_6909ed617cf24d35bacffe661eb799ef",
        "IPY_MODEL_f372f4c1825b4469ad034b1a1aaef491",
        "IPY_MODEL_289ebb3eaca54d3ca7633b31478c01c3"
       ],
       "layout": "IPY_MODEL_3d2a1253eaeb4ffcad2c312a005c0d4e"
      }
     },
     "162fb88cac2b4c1a893a688a347221bd": {
      "model_module": "@jupyter-widgets/base",
      "model_module_version": "1.2.0",
      "model_name": "LayoutModel",
      "state": {
       "grid_area": "label",
       "width": "auto"
      }
     },
     "18241c4e287b4e49913a2a065892c8bf": {
      "model_module": "@jupyter-widgets/controls",
      "model_module_version": "1.5.0",
      "model_name": "LabelModel",
      "state": {
       "description": "GenePattern Server",
       "layout": "IPY_MODEL_7fc98865f79742ec97a2bc299a59a8a2",
       "style": "IPY_MODEL_7c9fd23cc82b4f1097503cfc632474d7",
       "value": "GenePattern Server*"
      }
     },
     "19e1b7eb16834abfab45995794c5bf85": {
      "model_module": "@jupyter-widgets/base",
      "model_module_version": "1.2.0",
      "model_name": "LayoutModel",
      "state": {
       "grid_area": "description",
       "width": "auto"
      }
     },
     "1bc6a0f7fd8e40378235618b5d808d80": {
      "model_module": "@jupyter-widgets/controls",
      "model_module_version": "1.5.0",
      "model_name": "LabelModel",
      "state": {
       "layout": "IPY_MODEL_29d9e197e6d8404180387ed121396561",
       "style": "IPY_MODEL_59fa891ed8ae4506886b92b18a422822"
      }
     },
     "1beb6d8bc83b4446a6c6f167a16f09b4": {
      "model_module": "@jupyter-widgets/controls",
      "model_module_version": "1.5.0",
      "model_name": "VBoxModel",
      "state": {
       "_dom_classes": [
        "widget-interact"
       ],
       "children": [
        "IPY_MODEL_47106b9499224da18fb7fc0acae2d4b5",
        "IPY_MODEL_606eac2f7e014c7495a03be684e4c787"
       ],
       "layout": "IPY_MODEL_263500286c8e40b19b45a101cc4bd33c"
      }
     },
     "1d0a1894c2844c5f964664d8d9e88324": {
      "model_module": "@jupyter-widgets/controls",
      "model_module_version": "1.5.0",
      "model_name": "LabelModel",
      "state": {
       "description": "output variable",
       "layout": "IPY_MODEL_960df7648d7049e7933d7bc091642591",
       "style": "IPY_MODEL_692bee1f2a274294a6d5c827ef65cf95",
       "value": "output variable"
      }
     },
     "1d44b415d36241a1be2c09507a6d8c70": {
      "model_module": "@jupyter-widgets/controls",
      "model_module_version": "1.5.0",
      "model_name": "DescriptionStyleModel",
      "state": {
       "description_width": ""
      }
     },
     "1decab2611ab4b75b834ecb7b33c3416": {
      "model_module": "@jupyter-widgets/base",
      "model_module_version": "1.2.0",
      "model_name": "LayoutModel",
      "state": {}
     },
     "1e48e7da591148e4a64b3a66de4b6cfc": {
      "model_module": "@jupyter-widgets/base",
      "model_module_version": "1.2.0",
      "model_name": "LayoutModel",
      "state": {
       "grid_area": "label",
       "width": "auto"
      }
     },
     "214f07e7e80e4d61bd09647e788eb759": {
      "model_module": "@jupyter-widgets/controls",
      "model_module_version": "1.5.0",
      "model_name": "ButtonStyleModel",
      "state": {}
     },
     "225f127ffbcf460ab07f7e3c0f97e427": {
      "model_module": "@jupyter-widgets/controls",
      "model_module_version": "1.5.0",
      "model_name": "TextModel",
      "state": {
       "_dom_classes": [
        "nbtools-menu-attached"
       ],
       "layout": "IPY_MODEL_a8347f90d3804994b2b905633d57a0ce",
       "style": "IPY_MODEL_2926100b07914cc0b21d0af7db8dfc6f"
      }
     },
     "2422f07c1955485da169f1371ef5be37": {
      "model_module": "@jupyter-widgets/base",
      "model_module_version": "1.2.0",
      "model_name": "LayoutModel",
      "state": {
       "grid_area": "description",
       "width": "auto"
      }
     },
     "24e0f2464f7e45f7bdea5f3333746bed": {
      "model_module": "@jupyter-widgets/controls",
      "model_module_version": "1.5.0",
      "model_name": "ButtonStyleModel",
      "state": {}
     },
     "253e19de857f418badbd97cc6e1afb73": {
      "model_module": "@jupyter-widgets/controls",
      "model_module_version": "1.5.0",
      "model_name": "LabelModel",
      "state": {
       "layout": "IPY_MODEL_2e0c2158f6204e1d8e6affe966d3bef8",
       "style": "IPY_MODEL_ae380d31fd1744a39421c0734a974e9f"
      }
     },
     "263500286c8e40b19b45a101cc4bd33c": {
      "model_module": "@jupyter-widgets/base",
      "model_module_version": "1.2.0",
      "model_name": "LayoutModel",
      "state": {}
     },
     "26c3155441b548afb47b5379dbded2d6": {
      "model_module": "@jupyter-widgets/base",
      "model_module_version": "1.2.0",
      "model_name": "LayoutModel",
      "state": {}
     },
     "2751de3f01794918b445c2bd9377aedf": {
      "model_module": "@jupyter-widgets/base",
      "model_module_version": "1.2.0",
      "model_name": "LayoutModel",
      "state": {
       "grid_area": "input",
       "width": "auto"
      }
     },
     "289ebb3eaca54d3ca7633b31478c01c3": {
      "model_module": "@jupyter-widgets/controls",
      "model_module_version": "1.5.0",
      "model_name": "GridBoxModel",
      "state": {
       "_dom_classes": [
        "nbtools-input",
        "nbtools-textinput"
       ],
       "children": [
        "IPY_MODEL_cc25c90421914ec388f9713db4630d23",
        "IPY_MODEL_6b02a25fdf454b739e6ec176e25a2bb9",
        "IPY_MODEL_6c9e5c833e7241ccadf8f975a551bfa6"
       ],
       "layout": "IPY_MODEL_0dab3491e0334841894e985c48b8aaa2"
      }
     },
     "291b7791c8134a01b5e938250eaf130e": {
      "model_module": "@jupyter-widgets/controls",
      "model_module_version": "1.5.0",
      "model_name": "DescriptionStyleModel",
      "state": {
       "description_width": ""
      }
     },
     "2926100b07914cc0b21d0af7db8dfc6f": {
      "model_module": "@jupyter-widgets/controls",
      "model_module_version": "1.5.0",
      "model_name": "DescriptionStyleModel",
      "state": {
       "description_width": ""
      }
     },
     "299cd9d835fb4d0b947acff300f4cc7a": {
      "model_module": "@jupyter-widgets/controls",
      "model_module_version": "1.5.0",
      "model_name": "ComboboxModel",
      "state": {
       "_dom_classes": [
        "nbtools-menu-attached",
        "nbtools-nosendto"
       ],
       "choices": {
        "Broad Internal": "https://gpbroad.broadinstitute.org/gp",
        "GenePattern Cloud": "https://cloud.genepattern.org/gp",
        "Indiana University": "https://gp.indiana.edu/gp"
       },
       "ensure_option": false,
       "kinds": [],
       "layout": "IPY_MODEL_01915b78d81540ad932c1da536dfd1b6",
       "style": "IPY_MODEL_543b776d344f4e5d8495f736d3a1cf21",
       "value": "https://cloud.genepattern.org/gp"
      }
     },
     "29d9e197e6d8404180387ed121396561": {
      "model_module": "@jupyter-widgets/base",
      "model_module_version": "1.2.0",
      "model_name": "LayoutModel",
      "state": {
       "grid_area": "description",
       "width": "auto"
      }
     },
     "2a9bca7840cc40e182dd816eff74c512": {
      "model_module": "@jupyter-widgets/base",
      "model_module_version": "1.2.0",
      "model_name": "LayoutModel",
      "state": {
       "grid_area": "label",
       "width": "auto"
      }
     },
     "2c17eccb8a4e4ef5a9c1884746d4a9e0": {
      "model_module": "@jupyter-widgets/base",
      "model_module_version": "1.2.0",
      "model_name": "LayoutModel",
      "state": {}
     },
     "2c331213f466479fa7dd8cd01308c45c": {
      "model_module": "@jupyter-widgets/base",
      "model_module_version": "1.2.0",
      "model_name": "LayoutModel",
      "state": {
       "grid_area": "input",
       "width": "auto"
      }
     },
     "2cf823d200b14a10aa9c3cdd56d65d7a": {
      "model_module": "@jupyter-widgets/base",
      "model_module_version": "1.2.0",
      "model_name": "LayoutModel",
      "state": {
       "display": "none",
       "grid_template_areas": "\n                    \"label input\"\n                    \". description\"\n                ",
       "grid_template_columns": "25% 75%",
       "grid_template_rows": "auto auto",
       "width": "100%"
      }
     },
     "2d4e921cccc8433ea2ad08b0be39e3df": {
      "model_module": "@jupyter-widgets/controls",
      "model_module_version": "1.5.0",
      "model_name": "DescriptionStyleModel",
      "state": {
       "description_width": ""
      }
     },
     "2dafd93f23bb4bf68ee447c86d4b4818": {
      "model_module": "@jupyter-widgets/controls",
      "model_module_version": "1.5.0",
      "model_name": "LabelModel",
      "state": {
       "layout": "IPY_MODEL_f88753d39b3044b6956807a832bb3116",
       "style": "IPY_MODEL_ef0e4c1663eb4646a8e78e594041e1b1"
      }
     },
     "2e0c2158f6204e1d8e6affe966d3bef8": {
      "model_module": "@jupyter-widgets/base",
      "model_module_version": "1.2.0",
      "model_name": "LayoutModel",
      "state": {
       "grid_area": "description",
       "width": "auto"
      }
     },
     "2e849d95cbbe4b198b3b56212e506964": {
      "model_module": "@jupyter-widgets/controls",
      "model_module_version": "1.5.0",
      "model_name": "TextModel",
      "state": {
       "_dom_classes": [
        "nbtools-menu-attached"
       ],
       "layout": "IPY_MODEL_5774bb4463d94106aa9fa3782f10ec3e",
       "style": "IPY_MODEL_8db7d812034f462ea0bdab77191f9092"
      }
     },
     "30f0db61cacc40aba260d4d14f75e2be": {
      "model_module": "@jupyter-widgets/base",
      "model_module_version": "1.2.0",
      "model_name": "LayoutModel",
      "state": {}
     },
     "3126e68f8bd44ea28551eb327c8640f4": {
      "model_module": "@jupyter-widgets/base",
      "model_module_version": "1.2.0",
      "model_name": "LayoutModel",
      "state": {
       "grid_area": "label",
       "width": "auto"
      }
     },
     "31530e903f6a40cb8a007177e5c5e573": {
      "model_module": "@jupyter-widgets/controls",
      "model_module_version": "1.5.0",
      "model_name": "ComboboxModel",
      "state": {
       "_dom_classes": [
        "nbtools-menu-attached",
        "nbtools-nosendto"
       ],
       "choices": {
        "Broad Internal": "https://gpbroad.broadinstitute.org/gp",
        "GenePattern Cloud": "https://cloud.genepattern.org/gp",
        "Indiana University": "https://gp.indiana.edu/gp"
       },
       "ensure_option": false,
       "kinds": [],
       "layout": "IPY_MODEL_b8e91615d4b94fee80a52a97370da211",
       "style": "IPY_MODEL_c33669b831094fd2bf9c14c228bacf23",
       "value": "https://cloud.genepattern.org/gp"
      }
     },
     "31ae1690b382486692308be7a0676b75": {
      "model_module": "@jupyter-widgets/output",
      "model_module_version": "1.0.0",
      "model_name": "OutputModel",
      "state": {
       "layout": "IPY_MODEL_b60eee93441f4c38b11bf2194379e89b"
      }
     },
     "341c9ff5e8664d5fa8915eec7d96b6e6": {
      "model_module": "@jupyter-widgets/controls",
      "model_module_version": "1.5.0",
      "model_name": "GridBoxModel",
      "state": {
       "_dom_classes": [
        "nbtools-input",
        "nbtools-textinput",
        "required"
       ],
       "children": [
        "IPY_MODEL_6d8740ef2107412ba00d556bd7963fc1",
        "IPY_MODEL_9898bc9169394bfe9b9648a07d8293ce",
        "IPY_MODEL_c5725d087a494e8f8b3c178e09122102"
       ],
       "layout": "IPY_MODEL_70f7399a6f464d3d8324a26c6e1777f3"
      }
     },
     "34fabb93071749bfb368cc32ae18ecaf": {
      "model_module": "@jupyter-widgets/controls",
      "model_module_version": "1.5.0",
      "model_name": "TextModel",
      "state": {
       "_dom_classes": [
        "nbtools-menu-attached"
       ],
       "layout": "IPY_MODEL_2751de3f01794918b445c2bd9377aedf",
       "style": "IPY_MODEL_a244e41714f549d79d4ae29804573644",
       "value": "tabor"
      }
     },
     "35f8287acd794fbabfc5c62018d31187": {
      "model_module": "@jupyter-widgets/controls",
      "model_module_version": "1.5.0",
      "model_name": "ButtonModel",
      "state": {
       "_dom_classes": [
        "hidden"
       ],
       "description": "Run",
       "layout": "IPY_MODEL_1decab2611ab4b75b834ecb7b33c3416",
       "style": "IPY_MODEL_ed4f9f1e666d4e05955c61f97d2844e6"
      }
     },
     "368a1c21073c4844a2d4af1a40e0ed42": {
      "model_module": "@jupyter-widgets/controls",
      "model_module_version": "1.5.0",
      "model_name": "LabelModel",
      "state": {
       "description": "output variable",
       "layout": "IPY_MODEL_12da8c17c2da48b3a621385a9972ea3a",
       "style": "IPY_MODEL_e9743b45605e49fa819cb5927e392a2a",
       "value": "output variable"
      }
     },
     "36f970a22f9145c9b3d05722633fe7a0": {
      "model_module": "@jupyter-widgets/base",
      "model_module_version": "1.2.0",
      "model_name": "LayoutModel",
      "state": {}
     },
     "3862887571444945a2b56ae25fb4e21e": {
      "model_module": "@jupyter-widgets/controls",
      "model_module_version": "1.5.0",
      "model_name": "DescriptionStyleModel",
      "state": {
       "description_width": ""
      }
     },
     "3c7783a488c847358b3592836f7f0788": {
      "model_module": "@jupyter-widgets/base",
      "model_module_version": "1.2.0",
      "model_name": "LayoutModel",
      "state": {
       "display": "none",
       "grid_template_areas": "\n                    \"label input\"\n                    \". description\"\n                ",
       "grid_template_columns": "25% 75%",
       "grid_template_rows": "auto auto",
       "width": "100%"
      }
     },
     "3d2a1253eaeb4ffcad2c312a005c0d4e": {
      "model_module": "@jupyter-widgets/base",
      "model_module_version": "1.2.0",
      "model_name": "LayoutModel",
      "state": {}
     },
     "4011620a824c4894872276fb915d3f5e": {
      "model_module": "@jupyter-widgets/controls",
      "model_module_version": "1.5.0",
      "model_name": "GridBoxModel",
      "state": {
       "_dom_classes": [
        "nbtools-input",
        "nbtools-textinput"
       ],
       "children": [
        "IPY_MODEL_ee759e3664a049c7ac6656e7e57b4ce8",
        "IPY_MODEL_95f017b2ec08440aa9b53cd3e2402bed",
        "IPY_MODEL_b9214c98afdd405286d4483ba4862e70"
       ],
       "layout": "IPY_MODEL_93feb55615b449d18f279ed2b8f79061"
      }
     },
     "4369a1d0084b4ae2b1315a9b80116f15": {
      "model_module": "@jupyter-widgets/controls",
      "model_module_version": "1.5.0",
      "model_name": "DescriptionStyleModel",
      "state": {
       "description_width": ""
      }
     },
     "45ba77e18b0a43db8325c5d8354483ed": {
      "model_module": "@jupyter-widgets/controls",
      "model_module_version": "1.5.0",
      "model_name": "DescriptionStyleModel",
      "state": {
       "description_width": ""
      }
     },
     "47106b9499224da18fb7fc0acae2d4b5": {
      "model_module": "@jupyter-widgets/controls",
      "model_module_version": "1.5.0",
      "model_name": "ButtonModel",
      "state": {
       "_dom_classes": [
        "hidden"
       ],
       "description": "Run",
       "layout": "IPY_MODEL_084e58c83b92498697ee370bf460fa75",
       "style": "IPY_MODEL_57ae887d2db04273b05426f140120489"
      }
     },
     "47581dd72ed9446ca8cb31fb1eefb3c7": {
      "model_module": "@jupyter-widgets/base",
      "model_module_version": "1.2.0",
      "model_name": "LayoutModel",
      "state": {}
     },
     "47e6be60bd14416bae6440dfebe4ae67": {
      "model_module": "@jupyter-widgets/controls",
      "model_module_version": "1.5.0",
      "model_name": "LabelModel",
      "state": {
       "description": "output variable",
       "layout": "IPY_MODEL_67a6e7a78cdf4b94aa3bf7739ae8848e",
       "style": "IPY_MODEL_08c69f8e3db441a9b656ca63b6ab17cd",
       "value": "output variable"
      }
     },
     "4933750ec5bc4c1a9106642d39d7e64e": {
      "model_module": "@jupyter-widgets/controls",
      "model_module_version": "1.5.0",
      "model_name": "GridBoxModel",
      "state": {
       "_dom_classes": [
        "nbtools-input",
        "nbtools-passwordinput",
        "required"
       ],
       "children": [
        "IPY_MODEL_ccb29c69a1da483388c02dd6003b0aa7",
        "IPY_MODEL_0ef47e6d12d34a0681f4c494979b0234",
        "IPY_MODEL_f98217c7e5a64aa7bb4c5875317ae565"
       ],
       "layout": "IPY_MODEL_8f1c558c123e412c9322533c62cd6aa3"
      }
     },
     "493c0ff306344c8b9c8059deeead3c3d": {
      "model_module": "@jupyter-widgets/controls",
      "model_module_version": "1.5.0",
      "model_name": "DescriptionStyleModel",
      "state": {
       "description_width": ""
      }
     },
     "49500da3e873482099a9045b34142d30": {
      "model_module": "@jupyter-widgets/controls",
      "model_module_version": "1.5.0",
      "model_name": "DescriptionStyleModel",
      "state": {
       "description_width": ""
      }
     },
     "49b1a77f3ab54d1187edb8bbf8b5576f": {
      "model_module": "@jupyter-widgets/base",
      "model_module_version": "1.2.0",
      "model_name": "LayoutModel",
      "state": {
       "grid_area": "description",
       "width": "auto"
      }
     },
     "49dd705e726641ff934a47fa99d0504a": {
      "model_module": "@jupyter-widgets/output",
      "model_module_version": "1.0.0",
      "model_name": "OutputModel",
      "state": {
       "layout": "IPY_MODEL_8c23b4ec5eed405ab5ecb48a89350945"
      }
     },
     "4a6c6636771a43ad94337d2f1c49f75d": {
      "model_module": "@jupyter-widgets/base",
      "model_module_version": "1.2.0",
      "model_name": "LayoutModel",
      "state": {
       "grid_area": "description",
       "width": "auto"
      }
     },
     "4adaa581eb3c4ba7bdbf8d29878d396b": {
      "model_module": "@jupyter-widgets/controls",
      "model_module_version": "1.5.0",
      "model_name": "DescriptionStyleModel",
      "state": {
       "description_width": ""
      }
     },
     "4d0a893fee0c4cf5b03d30f8b8e5e424": {
      "model_module": "@jupyter-widgets/controls",
      "model_module_version": "1.5.0",
      "model_name": "DescriptionStyleModel",
      "state": {
       "description_width": ""
      }
     },
     "4d898aec0b754515b8a53a0cee2ebc70": {
      "model_module": "@jupyter-widgets/controls",
      "model_module_version": "1.5.0",
      "model_name": "DescriptionStyleModel",
      "state": {
       "description_width": ""
      }
     },
     "4de18d27a60d4bbe8bb9a710ac35dc47": {
      "model_module": "@jupyter-widgets/controls",
      "model_module_version": "1.5.0",
      "model_name": "LabelModel",
      "state": {
       "description": "Password",
       "layout": "IPY_MODEL_53c802c76f974146a06e9effd2277f4c",
       "style": "IPY_MODEL_7183f1bb637546fe8f0dc9bc804e76e9",
       "value": "Password*"
      }
     },
     "4fe0b8bdf80047109663ec7c4d8507fe": {
      "model_module": "@jupyter-widgets/output",
      "model_module_version": "1.0.0",
      "model_name": "OutputModel",
      "state": {
       "layout": "IPY_MODEL_943fe53ca38a45c390ac20f526079ca9"
      }
     },
     "51183bd248354e629746a97c2d863c62": {
      "model_module": "@jupyter-widgets/controls",
      "model_module_version": "1.5.0",
      "model_name": "GridBoxModel",
      "state": {
       "_dom_classes": [
        "nbtools-input",
        "nbtools-comboinput",
        "required"
       ],
       "children": [
        "IPY_MODEL_18241c4e287b4e49913a2a065892c8bf",
        "IPY_MODEL_7fcda328b8c54937b8e8874e7d5a36d5",
        "IPY_MODEL_c1e26823dbd646809ec0310ddb1c8b67"
       ],
       "layout": "IPY_MODEL_7c08822fdb45430ab6d93bc86a6604de"
      }
     },
     "519036392e4e49f3b48a8e1b519c6069": {
      "model_module": "@jupyter-widgets/controls",
      "model_module_version": "1.5.0",
      "model_name": "VBoxModel",
      "state": {
       "_dom_classes": [
        "widget-interact"
       ],
       "children": [
        "IPY_MODEL_51183bd248354e629746a97c2d863c62",
        "IPY_MODEL_a7bc9c064eb7419a981a607f076bbfca",
        "IPY_MODEL_8946a07ba0d8461081676670204aadb6",
        "IPY_MODEL_a4d65cde41eb424b8a31a74fffb2ba63",
        "IPY_MODEL_4011620a824c4894872276fb915d3f5e"
       ],
       "layout": "IPY_MODEL_efbc7c70b7424d9b8c898992856f19ba"
      }
     },
     "52f331701f94447cbb7e64b9e923bd3b": {
      "model_module": "@jupyter-widgets/base",
      "model_module_version": "1.2.0",
      "model_name": "LayoutModel",
      "state": {
       "grid_area": "label",
       "width": "auto"
      }
     },
     "53a6001eea7e4df694946d6206e4a098": {
      "model_module": "@jupyter-widgets/controls",
      "model_module_version": "1.5.0",
      "model_name": "GridBoxModel",
      "state": {
       "_dom_classes": [
        "nbtools-input",
        "nbtools-textinput"
       ],
       "children": [
        "IPY_MODEL_86884a28bc0746739b7c026a181002bb",
        "IPY_MODEL_225f127ffbcf460ab07f7e3c0f97e427",
        "IPY_MODEL_84725f8507d6491db348f1c468959741"
       ],
       "layout": "IPY_MODEL_14758f3eb4764c7381714c54e5c0f1c4"
      }
     },
     "53c802c76f974146a06e9effd2277f4c": {
      "model_module": "@jupyter-widgets/base",
      "model_module_version": "1.2.0",
      "model_name": "LayoutModel",
      "state": {
       "grid_area": "label",
       "width": "auto"
      }
     },
     "543b776d344f4e5d8495f736d3a1cf21": {
      "model_module": "@jupyter-widgets/controls",
      "model_module_version": "1.5.0",
      "model_name": "DescriptionStyleModel",
      "state": {
       "description_width": ""
      }
     },
     "54ada7713057407d903335874d7edab4": {
      "model_module": "@jupyter-widgets/controls",
      "model_module_version": "1.5.0",
      "model_name": "GridBoxModel",
      "state": {
       "_dom_classes": [
        "nbtools-input",
        "nbtools-comboinput",
        "required"
       ],
       "children": [
        "IPY_MODEL_a253763f62d24473be52bca7d45284eb",
        "IPY_MODEL_31530e903f6a40cb8a007177e5c5e573",
        "IPY_MODEL_ba55975d41574cd192a31508b0ea74de"
       ],
       "layout": "IPY_MODEL_c58ab6afcd54441e95cf7bed51539d70"
      }
     },
     "54cd87ea2cde43f8a0328e14caa3aab3": {
      "model_module": "@jupyter-widgets/controls",
      "model_module_version": "1.5.0",
      "model_name": "DescriptionStyleModel",
      "state": {
       "description_width": ""
      }
     },
     "55dfc335ba77454c94f0f126bd34db29": {
      "model_module": "@jupyter-widgets/controls",
      "model_module_version": "1.5.0",
      "model_name": "TextModel",
      "state": {
       "_dom_classes": [
        "nbtools-menu-attached"
       ],
       "layout": "IPY_MODEL_04401cb33aff4c5f99c1272ae17976cb",
       "style": "IPY_MODEL_2d4e921cccc8433ea2ad08b0be39e3df"
      }
     },
     "56779446aefb43ca9ee1d82569da6aae": {
      "model_module": "@jupyter-widgets/controls",
      "model_module_version": "1.5.0",
      "model_name": "DescriptionStyleModel",
      "state": {
       "description_width": ""
      }
     },
     "56ace4376d3641a6b1d2c6595d0abe5a": {
      "model_module": "@jupyter-widgets/controls",
      "model_module_version": "1.5.0",
      "model_name": "DescriptionStyleModel",
      "state": {
       "description_width": ""
      }
     },
     "5774bb4463d94106aa9fa3782f10ec3e": {
      "model_module": "@jupyter-widgets/base",
      "model_module_version": "1.2.0",
      "model_name": "LayoutModel",
      "state": {
       "grid_area": "input",
       "width": "auto"
      }
     },
     "57ae887d2db04273b05426f140120489": {
      "model_module": "@jupyter-widgets/controls",
      "model_module_version": "1.5.0",
      "model_name": "ButtonStyleModel",
      "state": {}
     },
     "59fa891ed8ae4506886b92b18a422822": {
      "model_module": "@jupyter-widgets/controls",
      "model_module_version": "1.5.0",
      "model_name": "DescriptionStyleModel",
      "state": {
       "description_width": ""
      }
     },
     "5d3b88428ea1444eafd2f3f5489970b7": {
      "model_module": "@jupyter-widgets/controls",
      "model_module_version": "1.5.0",
      "model_name": "DescriptionStyleModel",
      "state": {
       "description_width": ""
      }
     },
     "5d8949a89c57421da83b25262a0519a2": {
      "model_module": "@jupyter-widgets/controls",
      "model_module_version": "1.5.0",
      "model_name": "VBoxModel",
      "state": {
       "_dom_classes": [
        "widget-interact"
       ],
       "children": [
        "IPY_MODEL_54ada7713057407d903335874d7edab4",
        "IPY_MODEL_341c9ff5e8664d5fa8915eec7d96b6e6",
        "IPY_MODEL_4933750ec5bc4c1a9106642d39d7e64e",
        "IPY_MODEL_35f8287acd794fbabfc5c62018d31187",
        "IPY_MODEL_6f6dac6cf00f4601afd646a516b42a82"
       ],
       "layout": "IPY_MODEL_1512661848014496820a48997a7ba42a"
      }
     },
     "5da0e3337b744bbead6d3aabf00f0d7d": {
      "model_module": "@jupyter-widgets/controls",
      "model_module_version": "1.5.0",
      "model_name": "DescriptionStyleModel",
      "state": {
       "description_width": ""
      }
     },
     "5e5d068d56d4457cbbb5afd59a05f13c": {
      "model_module": "@jupyter-widgets/controls",
      "model_module_version": "1.5.0",
      "model_name": "VBoxModel",
      "state": {
       "_dom_classes": [
        "widget-interact"
       ],
       "children": [
        "IPY_MODEL_f2d1dc99a73142fca92c0b220cde122b",
        "IPY_MODEL_77a81f9658af4e928dfecabf28913f9e"
       ],
       "layout": "IPY_MODEL_a674c16a986748e6bb455a33230ae223"
      }
     },
     "606eac2f7e014c7495a03be684e4c787": {
      "model_module": "@jupyter-widgets/controls",
      "model_module_version": "1.5.0",
      "model_name": "GridBoxModel",
      "state": {
       "_dom_classes": [
        "nbtools-input",
        "nbtools-textinput"
       ],
       "children": [
        "IPY_MODEL_b73417a148ad4158801b3bc9d229963c",
        "IPY_MODEL_bbc78dd6d64a464581c1fdbaa300dfcc",
        "IPY_MODEL_1bc6a0f7fd8e40378235618b5d808d80"
       ],
       "layout": "IPY_MODEL_61d88c5996de42a5b3e93d98747e5032"
      }
     },
     "61c8043a744d4f2c9d3a2422e147a7c8": {
      "model_module": "@jupyter-widgets/base",
      "model_module_version": "1.2.0",
      "model_name": "LayoutModel",
      "state": {
       "grid_area": "input",
       "width": "auto"
      }
     },
     "61d4fac2f51b4e02b7d0c1fc50056d87": {
      "model_module": "@jupyter-widgets/controls",
      "model_module_version": "1.5.0",
      "model_name": "DescriptionStyleModel",
      "state": {
       "description_width": ""
      }
     },
     "61d88c5996de42a5b3e93d98747e5032": {
      "model_module": "@jupyter-widgets/base",
      "model_module_version": "1.2.0",
      "model_name": "LayoutModel",
      "state": {
       "display": "none",
       "grid_template_areas": "\n                    \"label input\"\n                    \". description\"\n                ",
       "grid_template_columns": "25% 75%",
       "grid_template_rows": "auto auto",
       "width": "100%"
      }
     },
     "62b3ca3a78864fc9a02a03baf5eadf25": {
      "model_module": "@jupyter-widgets/base",
      "model_module_version": "1.2.0",
      "model_name": "LayoutModel",
      "state": {
       "grid_area": "description",
       "width": "auto"
      }
     },
     "675263ea2d4645f0a18fd21f2277160a": {
      "model_module": "@jupyter-widgets/base",
      "model_module_version": "1.2.0",
      "model_name": "LayoutModel",
      "state": {
       "grid_area": "label",
       "width": "auto"
      }
     },
     "6764acf1bc8242b88dd9a1a8057cbfa7": {
      "model_module": "@jupyter-widgets/base",
      "model_module_version": "1.2.0",
      "model_name": "LayoutModel",
      "state": {}
     },
     "67a6e7a78cdf4b94aa3bf7739ae8848e": {
      "model_module": "@jupyter-widgets/base",
      "model_module_version": "1.2.0",
      "model_name": "LayoutModel",
      "state": {
       "grid_area": "label",
       "width": "auto"
      }
     },
     "68b0d8ebd1dc4d9495d9420db5db13a1": {
      "model_module": "@jupyter-widgets/controls",
      "model_module_version": "1.5.0",
      "model_name": "LabelModel",
      "state": {
       "description": "Password",
       "layout": "IPY_MODEL_7c8a26a25e9543fb9cc7e4da13fbf618",
       "style": "IPY_MODEL_3862887571444945a2b56ae25fb4e21e",
       "value": "Password*"
      }
     },
     "68ec00b7ed2440658b3832572363caaf": {
      "model_module": "@jupyter-widgets/base",
      "model_module_version": "1.2.0",
      "model_name": "LayoutModel",
      "state": {}
     },
     "6909ed617cf24d35bacffe661eb799ef": {
      "model_module": "@jupyter-widgets/controls",
      "model_module_version": "1.5.0",
      "model_name": "GridBoxModel",
      "state": {
       "_dom_classes": [
        "nbtools-input",
        "nbtools-passwordinput",
        "required"
       ],
       "children": [
        "IPY_MODEL_4de18d27a60d4bbe8bb9a710ac35dc47",
        "IPY_MODEL_823ed9cda6fa4134ab3440bac7b05637",
        "IPY_MODEL_2dafd93f23bb4bf68ee447c86d4b4818"
       ],
       "layout": "IPY_MODEL_69533cfc5eb64d5189e146843370cb76"
      }
     },
     "69162e313b4d49699a20f3d2d1d450d9": {
      "model_module": "@jupyter-widgets/base",
      "model_module_version": "1.2.0",
      "model_name": "LayoutModel",
      "state": {}
     },
     "692bee1f2a274294a6d5c827ef65cf95": {
      "model_module": "@jupyter-widgets/controls",
      "model_module_version": "1.5.0",
      "model_name": "DescriptionStyleModel",
      "state": {
       "description_width": ""
      }
     },
     "69533cfc5eb64d5189e146843370cb76": {
      "model_module": "@jupyter-widgets/base",
      "model_module_version": "1.2.0",
      "model_name": "LayoutModel",
      "state": {
       "grid_template_areas": "\n                    \"label input\"\n                    \". description\"\n                ",
       "grid_template_columns": "25% 75%",
       "grid_template_rows": "auto auto",
       "width": "100%"
      }
     },
     "695c22fe44424db6be137d350a3f3e46": {
      "model_module": "@jupyter-widgets/base",
      "model_module_version": "1.2.0",
      "model_name": "LayoutModel",
      "state": {
       "grid_area": "label",
       "width": "auto"
      }
     },
     "6b02a25fdf454b739e6ec176e25a2bb9": {
      "model_module": "@jupyter-widgets/controls",
      "model_module_version": "1.5.0",
      "model_name": "TextModel",
      "state": {
       "_dom_classes": [
        "nbtools-menu-attached"
       ],
       "layout": "IPY_MODEL_c1e9472488944b77a13c863daa5a841e",
       "style": "IPY_MODEL_5d3b88428ea1444eafd2f3f5489970b7"
      }
     },
     "6ba07385f1044a3bbbd222e6eaf8719c": {
      "model_module": "@jupyter-widgets/base",
      "model_module_version": "1.2.0",
      "model_name": "LayoutModel",
      "state": {
       "grid_area": "input",
       "width": "auto"
      }
     },
     "6c905e2809484c548bdd89ddd74caab0": {
      "model_module": "@jupyter-widgets/controls",
      "model_module_version": "1.5.0",
      "model_name": "ButtonModel",
      "state": {
       "_dom_classes": [
        "hidden"
       ],
       "description": "Run",
       "layout": "IPY_MODEL_c63dff570d0f41b98f1299af136cf89b",
       "style": "IPY_MODEL_c8a3e3907e7740fa8adbb4a0e56769bf"
      }
     },
     "6c9e5c833e7241ccadf8f975a551bfa6": {
      "model_module": "@jupyter-widgets/controls",
      "model_module_version": "1.5.0",
      "model_name": "LabelModel",
      "state": {
       "layout": "IPY_MODEL_19e1b7eb16834abfab45995794c5bf85",
       "style": "IPY_MODEL_291b7791c8134a01b5e938250eaf130e"
      }
     },
     "6d8740ef2107412ba00d556bd7963fc1": {
      "model_module": "@jupyter-widgets/controls",
      "model_module_version": "1.5.0",
      "model_name": "LabelModel",
      "state": {
       "description": "Username",
       "layout": "IPY_MODEL_675263ea2d4645f0a18fd21f2277160a",
       "style": "IPY_MODEL_9e4ddb2faac04683b88c23cd381a57b6",
       "value": "Username*"
      }
     },
     "6e9853c69acd425cbc15f18aaf75c16f": {
      "model_module": "@jupyter-widgets/output",
      "model_module_version": "1.0.0",
      "model_name": "OutputModel",
      "state": {
       "layout": "IPY_MODEL_030efdf0790b49d499161d44cd9dab8c"
      }
     },
     "6f6dac6cf00f4601afd646a516b42a82": {
      "model_module": "@jupyter-widgets/controls",
      "model_module_version": "1.5.0",
      "model_name": "GridBoxModel",
      "state": {
       "_dom_classes": [
        "nbtools-input",
        "nbtools-textinput"
       ],
       "children": [
        "IPY_MODEL_c994359eb8c048d5b49802cdd62a1364",
        "IPY_MODEL_2e849d95cbbe4b198b3b56212e506964",
        "IPY_MODEL_ce54f34b35534d1886db3dbd4c446db1"
       ],
       "layout": "IPY_MODEL_3c7783a488c847358b3592836f7f0788"
      }
     },
     "70f7399a6f464d3d8324a26c6e1777f3": {
      "model_module": "@jupyter-widgets/base",
      "model_module_version": "1.2.0",
      "model_name": "LayoutModel",
      "state": {
       "grid_template_areas": "\n                    \"label input\"\n                    \". description\"\n                ",
       "grid_template_columns": "25% 75%",
       "grid_template_rows": "auto auto",
       "width": "100%"
      }
     },
     "7123df879a0e46ffa85c42079202b463": {
      "model_module": "@jupyter-widgets/output",
      "model_module_version": "1.0.0",
      "model_name": "OutputModel",
      "state": {
       "layout": "IPY_MODEL_ed2e6269206f492b9ae14af95d700efa",
       "outputs": [
        {
         "data": {
          "application/vnd.jupyter.widget-view+json": {
           "model_id": "d13bb53c2c32491e8d34f20ead5f89bd",
           "version_major": 2,
           "version_minor": 0
          },
          "text/plain": "GPAuthWidget(collapse=True, collapsed=True, color='rgba(10, 45, 105, 0.80)', display_footer=False, display_hea…"
         },
         "metadata": {},
         "output_type": "display_data"
        },
        {
         "data": {
          "application/vnd.jupyter.widget-view+json": {
           "model_id": "f5430479c4b9450db7e774884c47d75d",
           "version_major": 2,
           "version_minor": 0
          },
          "text/plain": "Output()"
         },
         "metadata": {},
         "output_type": "display_data"
        }
       ]
      }
     },
     "7183f1bb637546fe8f0dc9bc804e76e9": {
      "model_module": "@jupyter-widgets/controls",
      "model_module_version": "1.5.0",
      "model_name": "DescriptionStyleModel",
      "state": {
       "description_width": ""
      }
     },
     "721d619706344b6ab72beeaf88e22d4e": {
      "model_module": "@jupyter-widgets/controls",
      "model_module_version": "1.5.0",
      "model_name": "LabelModel",
      "state": {
       "layout": "IPY_MODEL_a28c5a7e90ca4c37a2034cb94af8caeb",
       "style": "IPY_MODEL_fdc69c3e90b047a38916b240df8724a0"
      }
     },
     "7450e263a707404db2309020c87ee7df": {
      "model_module": "@jupyter-widgets/base",
      "model_module_version": "1.2.0",
      "model_name": "LayoutModel",
      "state": {
       "grid_template_areas": "\n                    \"label input\"\n                    \". description\"\n                ",
       "grid_template_columns": "25% 75%",
       "grid_template_rows": "auto auto",
       "width": "100%"
      }
     },
     "760473ac4ee849b8a445029ee496243d": {
      "model_module": "@jupyter-widgets/controls",
      "model_module_version": "1.5.0",
      "model_name": "LabelModel",
      "state": {
       "layout": "IPY_MODEL_2422f07c1955485da169f1371ef5be37",
       "style": "IPY_MODEL_dc45fbece3214376a007a357d2801588"
      }
     },
     "77a81f9658af4e928dfecabf28913f9e": {
      "model_module": "@jupyter-widgets/output",
      "model_module_version": "1.0.0",
      "model_name": "OutputModel",
      "state": {
       "layout": "IPY_MODEL_69162e313b4d49699a20f3d2d1d450d9"
      }
     },
     "78cc24a77f6447468238c5c329a54824": {
      "model_module": "@jupyter-widgets/controls",
      "model_module_version": "1.5.0",
      "model_name": "ButtonModel",
      "state": {
       "_dom_classes": [
        "hidden"
       ],
       "description": "Run",
       "layout": "IPY_MODEL_07018842cd614b81835171a412f97d75",
       "style": "IPY_MODEL_b75ddb5613734e08b589bc9d33094879"
      }
     },
     "79599be6a4e74227bf856107a4bfe469": {
      "model_module": "@jupyter-widgets/base",
      "model_module_version": "1.2.0",
      "model_name": "LayoutModel",
      "state": {}
     },
     "7c08822fdb45430ab6d93bc86a6604de": {
      "model_module": "@jupyter-widgets/base",
      "model_module_version": "1.2.0",
      "model_name": "LayoutModel",
      "state": {
       "grid_template_areas": "\n                    \"label input\"\n                    \". description\"\n                ",
       "grid_template_columns": "25% 75%",
       "grid_template_rows": "auto auto",
       "width": "100%"
      }
     },
     "7c18b5435d0a4954a7ebfe76f865a723": {
      "model_module": "@jupyter-widgets/base",
      "model_module_version": "1.2.0",
      "model_name": "LayoutModel",
      "state": {}
     },
     "7c8a26a25e9543fb9cc7e4da13fbf618": {
      "model_module": "@jupyter-widgets/base",
      "model_module_version": "1.2.0",
      "model_name": "LayoutModel",
      "state": {
       "grid_area": "label",
       "width": "auto"
      }
     },
     "7c9fd23cc82b4f1097503cfc632474d7": {
      "model_module": "@jupyter-widgets/controls",
      "model_module_version": "1.5.0",
      "model_name": "DescriptionStyleModel",
      "state": {
       "description_width": ""
      }
     },
     "7cff70a87a2e43658bbbb8f319c8c3ba": {
      "model_module": "@jupyter-widgets/controls",
      "model_module_version": "1.5.0",
      "model_name": "DescriptionStyleModel",
      "state": {
       "description_width": ""
      }
     },
     "7fc98865f79742ec97a2bc299a59a8a2": {
      "model_module": "@jupyter-widgets/base",
      "model_module_version": "1.2.0",
      "model_name": "LayoutModel",
      "state": {
       "grid_area": "label",
       "width": "auto"
      }
     },
     "7fcda328b8c54937b8e8874e7d5a36d5": {
      "model_module": "@jupyter-widgets/controls",
      "model_module_version": "1.5.0",
      "model_name": "ComboboxModel",
      "state": {
       "_dom_classes": [
        "nbtools-menu-attached",
        "nbtools-nosendto"
       ],
       "choices": {
        "Broad Internal": "https://gpbroad.broadinstitute.org/gp",
        "GenePattern Cloud": "https://cloud.genepattern.org/gp",
        "Indiana University": "https://gp.indiana.edu/gp"
       },
       "ensure_option": false,
       "kinds": [],
       "layout": "IPY_MODEL_865d036309c7400eb51073b872081102",
       "style": "IPY_MODEL_a9e11af187fd453f90d19a1189eebe66",
       "value": "https://cloud.genepattern.org/gp"
      }
     },
     "80717d771dac4fb4a3021f7d5f0805b1": {
      "model_module": "@jupyter-widgets/base",
      "model_module_version": "1.2.0",
      "model_name": "LayoutModel",
      "state": {}
     },
     "817c80a01dcc46489fba6a853e005124": {
      "model_module": "@jupyter-widgets/controls",
      "model_module_version": "1.5.0",
      "model_name": "DescriptionStyleModel",
      "state": {
       "description_width": ""
      }
     },
     "823ed9cda6fa4134ab3440bac7b05637": {
      "model_module": "@jupyter-widgets/controls",
      "model_module_version": "1.5.0",
      "model_name": "PasswordModel",
      "state": {
       "layout": "IPY_MODEL_d9b27b3a3cc24690b6e5308aadf9cece",
       "style": "IPY_MODEL_f3c1537b0e7c4db39e16527131d39614"
      }
     },
     "827307e0ccae455f9d2bc1fd2af38c50": {
      "model_module": "@jupyter-widgets/controls",
      "model_module_version": "1.5.0",
      "model_name": "DescriptionStyleModel",
      "state": {
       "description_width": ""
      }
     },
     "828f5773812d479bac301683937ed61a": {
      "model_module": "@jupyter-widgets/controls",
      "model_module_version": "1.5.0",
      "model_name": "DescriptionStyleModel",
      "state": {
       "description_width": ""
      }
     },
     "82e9846b900041b1b30dd1df474294fd": {
      "model_module": "@jupyter-widgets/base",
      "model_module_version": "1.2.0",
      "model_name": "LayoutModel",
      "state": {
       "grid_area": "label",
       "width": "auto"
      }
     },
     "8378051738af4b2ab7970d446c1cf887": {
      "model_module": "@jupyter-widgets/controls",
      "model_module_version": "1.5.0",
      "model_name": "LabelModel",
      "state": {
       "layout": "IPY_MODEL_e876f866befb413c89e751c7b0a81359",
       "style": "IPY_MODEL_49500da3e873482099a9045b34142d30"
      }
     },
     "84725f8507d6491db348f1c468959741": {
      "model_module": "@jupyter-widgets/controls",
      "model_module_version": "1.5.0",
      "model_name": "LabelModel",
      "state": {
       "layout": "IPY_MODEL_851194bb624f4c61922346d9da8e5926",
       "style": "IPY_MODEL_5da0e3337b744bbead6d3aabf00f0d7d"
      }
     },
     "851194bb624f4c61922346d9da8e5926": {
      "model_module": "@jupyter-widgets/base",
      "model_module_version": "1.2.0",
      "model_name": "LayoutModel",
      "state": {
       "grid_area": "description",
       "width": "auto"
      }
     },
     "865d036309c7400eb51073b872081102": {
      "model_module": "@jupyter-widgets/base",
      "model_module_version": "1.2.0",
      "model_name": "LayoutModel",
      "state": {
       "grid_area": "input",
       "width": "auto"
      }
     },
     "86884a28bc0746739b7c026a181002bb": {
      "model_module": "@jupyter-widgets/controls",
      "model_module_version": "1.5.0",
      "model_name": "LabelModel",
      "state": {
       "description": "output variable",
       "layout": "IPY_MODEL_52f331701f94447cbb7e64b9e923bd3b",
       "style": "IPY_MODEL_b0f9dba1839c481582081b2ab9f7323d",
       "value": "output variable"
      }
     },
     "86bd20fc47da469fa1fc188ce5eb34b3": {
      "model_module": "@jupyter-widgets/controls",
      "model_module_version": "1.5.0",
      "model_name": "LabelModel",
      "state": {
       "layout": "IPY_MODEL_037847118c2e4fa99588e2f85f3074d8",
       "style": "IPY_MODEL_4369a1d0084b4ae2b1315a9b80116f15"
      }
     },
     "88dfd9bf0e154c5fb47f65d4dcc40916": {
      "model_module": "@jupyter-widgets/base",
      "model_module_version": "1.2.0",
      "model_name": "LayoutModel",
      "state": {
       "grid_area": "input",
       "width": "auto"
      }
     },
     "88e2e1f04b29493097d46bc17c999253": {
      "model_module": "@jupyter-widgets/base",
      "model_module_version": "1.2.0",
      "model_name": "LayoutModel",
      "state": {
       "grid_area": "description",
       "width": "auto"
      }
     },
     "8946a07ba0d8461081676670204aadb6": {
      "model_module": "@jupyter-widgets/controls",
      "model_module_version": "1.5.0",
      "model_name": "GridBoxModel",
      "state": {
       "_dom_classes": [
        "nbtools-input",
        "nbtools-passwordinput",
        "required"
       ],
       "children": [
        "IPY_MODEL_68b0d8ebd1dc4d9495d9420db5db13a1",
        "IPY_MODEL_9bd3715734784f739ce1243adffd82ee",
        "IPY_MODEL_721d619706344b6ab72beeaf88e22d4e"
       ],
       "layout": "IPY_MODEL_a4355fb2e8c34ac7a91419de4d6fc80f"
      }
     },
     "8ae0b70e043e49e9b7e6d7c8fe6b1c80": {
      "model_module": "@jupyter-widgets/base",
      "model_module_version": "1.2.0",
      "model_name": "LayoutModel",
      "state": {
       "display": "none",
       "grid_template_areas": "\n                    \"label input\"\n                    \". description\"\n                ",
       "grid_template_columns": "25% 75%",
       "grid_template_rows": "auto auto",
       "width": "100%"
      }
     },
     "8ae3faf00cfa4488b6b1cf37a78bf623": {
      "model_module": "@jupyter-widgets/controls",
      "model_module_version": "1.5.0",
      "model_name": "TextModel",
      "state": {
       "_dom_classes": [
        "nbtools-menu-attached"
       ],
       "layout": "IPY_MODEL_2c331213f466479fa7dd8cd01308c45c",
       "style": "IPY_MODEL_ac46074ff37d4f85a412eac26390714c"
      }
     },
     "8b7dd3b83be64f868f46d1923117e776": {
      "model_module": "@jupyter-widgets/output",
      "model_module_version": "1.0.0",
      "model_name": "OutputModel",
      "state": {
       "layout": "IPY_MODEL_dc7942ec82a34be581764565b991d4a3"
      }
     },
     "8c23b4ec5eed405ab5ecb48a89350945": {
      "model_module": "@jupyter-widgets/base",
      "model_module_version": "1.2.0",
      "model_name": "LayoutModel",
      "state": {}
     },
     "8db7d812034f462ea0bdab77191f9092": {
      "model_module": "@jupyter-widgets/controls",
      "model_module_version": "1.5.0",
      "model_name": "DescriptionStyleModel",
      "state": {
       "description_width": ""
      }
     },
     "8f1c558c123e412c9322533c62cd6aa3": {
      "model_module": "@jupyter-widgets/base",
      "model_module_version": "1.2.0",
      "model_name": "LayoutModel",
      "state": {
       "grid_template_areas": "\n                    \"label input\"\n                    \". description\"\n                ",
       "grid_template_columns": "25% 75%",
       "grid_template_rows": "auto auto",
       "width": "100%"
      }
     },
     "901e5f4ebbfd4c22bad4fea4d14bc6ba": {
      "model_module": "@jupyter-widgets/base",
      "model_module_version": "1.2.0",
      "model_name": "LayoutModel",
      "state": {}
     },
     "90454d0a7e3545628b591741d9b19a2a": {
      "model_module": "@jupyter-widgets/base",
      "model_module_version": "1.2.0",
      "model_name": "LayoutModel",
      "state": {
       "grid_area": "description",
       "width": "auto"
      }
     },
     "93feb55615b449d18f279ed2b8f79061": {
      "model_module": "@jupyter-widgets/base",
      "model_module_version": "1.2.0",
      "model_name": "LayoutModel",
      "state": {
       "display": "none",
       "grid_template_areas": "\n                    \"label input\"\n                    \". description\"\n                ",
       "grid_template_columns": "25% 75%",
       "grid_template_rows": "auto auto",
       "width": "100%"
      }
     },
     "943fe53ca38a45c390ac20f526079ca9": {
      "model_module": "@jupyter-widgets/base",
      "model_module_version": "1.2.0",
      "model_name": "LayoutModel",
      "state": {}
     },
     "95f017b2ec08440aa9b53cd3e2402bed": {
      "model_module": "@jupyter-widgets/controls",
      "model_module_version": "1.5.0",
      "model_name": "TextModel",
      "state": {
       "_dom_classes": [
        "nbtools-menu-attached"
       ],
       "layout": "IPY_MODEL_e6976a2fa0694a6e9dc5495877b0e9cc",
       "style": "IPY_MODEL_4d898aec0b754515b8a53a0cee2ebc70"
      }
     },
     "960df7648d7049e7933d7bc091642591": {
      "model_module": "@jupyter-widgets/base",
      "model_module_version": "1.2.0",
      "model_name": "LayoutModel",
      "state": {
       "grid_area": "label",
       "width": "auto"
      }
     },
     "966797af284d4641aca6fc3813aa3875": {
      "model_module": "@jupyter-widgets/output",
      "model_module_version": "1.0.0",
      "model_name": "OutputModel",
      "state": {
       "layout": "IPY_MODEL_901e5f4ebbfd4c22bad4fea4d14bc6ba"
      }
     },
     "9714693c1f54434a8474ad4d68294461": {
      "model_module": "@jupyter-widgets/base",
      "model_module_version": "1.2.0",
      "model_name": "LayoutModel",
      "state": {}
     },
     "97700397dddd429988691f9e4eae7aa6": {
      "model_module": "@jupyter-widgets/controls",
      "model_module_version": "1.5.0",
      "model_name": "VBoxModel",
      "state": {
       "_dom_classes": [
        "widget-interact"
       ],
       "children": [
        "IPY_MODEL_f494d7ba3a2f40279630339e48c9d13f",
        "IPY_MODEL_a740b4d4ccc8425893716d2f7d380065"
       ],
       "layout": "IPY_MODEL_36f970a22f9145c9b3d05722633fe7a0"
      }
     },
     "9898bc9169394bfe9b9648a07d8293ce": {
      "model_module": "@jupyter-widgets/controls",
      "model_module_version": "1.5.0",
      "model_name": "TextModel",
      "state": {
       "_dom_classes": [
        "nbtools-menu-attached"
       ],
       "layout": "IPY_MODEL_10577faafa54446db1682d8efebc1f4a",
       "style": "IPY_MODEL_d391b01fedf04944b3867093194e940b"
      }
     },
     "9bd3715734784f739ce1243adffd82ee": {
      "model_module": "@jupyter-widgets/controls",
      "model_module_version": "1.5.0",
      "model_name": "PasswordModel",
      "state": {
       "layout": "IPY_MODEL_6ba07385f1044a3bbbd222e6eaf8719c",
       "style": "IPY_MODEL_ae168ba3fb034ea4b7a33a0eef964b10"
      }
     },
     "9c1a099210064a37902a759451776d27": {
      "model_module": "@jupyter-widgets/base",
      "model_module_version": "1.2.0",
      "model_name": "LayoutModel",
      "state": {
       "grid_template_areas": "\n                    \"label input\"\n                    \". description\"\n                ",
       "grid_template_columns": "25% 75%",
       "grid_template_rows": "auto auto",
       "width": "100%"
      }
     },
     "9e4ddb2faac04683b88c23cd381a57b6": {
      "model_module": "@jupyter-widgets/controls",
      "model_module_version": "1.5.0",
      "model_name": "DescriptionStyleModel",
      "state": {
       "description_width": ""
      }
     },
     "a0521ec167c243bda159082a085bbd7a": {
      "model_module": "@jupyter-widgets/controls",
      "model_module_version": "1.5.0",
      "model_name": "TextModel",
      "state": {
       "_dom_classes": [
        "nbtools-menu-attached"
       ],
       "layout": "IPY_MODEL_cbd36bda769e4dff9cf884c5f9a2375a",
       "style": "IPY_MODEL_54cd87ea2cde43f8a0328e14caa3aab3"
      }
     },
     "a0a4ef3e1061495cb8db93c13721a425": {
      "model_module": "@jupyter-widgets/controls",
      "model_module_version": "1.5.0",
      "model_name": "VBoxModel",
      "state": {
       "_dom_classes": [
        "widget-interact"
       ],
       "children": [
        "IPY_MODEL_6c905e2809484c548bdd89ddd74caab0",
        "IPY_MODEL_8b7dd3b83be64f868f46d1923117e776"
       ],
       "layout": "IPY_MODEL_30f0db61cacc40aba260d4d14f75e2be"
      }
     },
     "a244e41714f549d79d4ae29804573644": {
      "model_module": "@jupyter-widgets/controls",
      "model_module_version": "1.5.0",
      "model_name": "DescriptionStyleModel",
      "state": {
       "description_width": ""
      }
     },
     "a253763f62d24473be52bca7d45284eb": {
      "model_module": "@jupyter-widgets/controls",
      "model_module_version": "1.5.0",
      "model_name": "LabelModel",
      "state": {
       "description": "GenePattern Server",
       "layout": "IPY_MODEL_2a9bca7840cc40e182dd816eff74c512",
       "style": "IPY_MODEL_a30ebe0541224af88a4923e7dd77d6d8",
       "value": "GenePattern Server*"
      }
     },
     "a28c5a7e90ca4c37a2034cb94af8caeb": {
      "model_module": "@jupyter-widgets/base",
      "model_module_version": "1.2.0",
      "model_name": "LayoutModel",
      "state": {
       "grid_area": "description",
       "width": "auto"
      }
     },
     "a30ebe0541224af88a4923e7dd77d6d8": {
      "model_module": "@jupyter-widgets/controls",
      "model_module_version": "1.5.0",
      "model_name": "DescriptionStyleModel",
      "state": {
       "description_width": ""
      }
     },
     "a4201694afed4eb4a8e422c249b75783": {
      "model_module": "@jupyter-widgets/base",
      "model_module_version": "1.2.0",
      "model_name": "LayoutModel",
      "state": {
       "grid_area": "label",
       "width": "auto"
      }
     },
     "a4355fb2e8c34ac7a91419de4d6fc80f": {
      "model_module": "@jupyter-widgets/base",
      "model_module_version": "1.2.0",
      "model_name": "LayoutModel",
      "state": {
       "grid_template_areas": "\n                    \"label input\"\n                    \". description\"\n                ",
       "grid_template_columns": "25% 75%",
       "grid_template_rows": "auto auto",
       "width": "100%"
      }
     },
     "a4d65cde41eb424b8a31a74fffb2ba63": {
      "model_module": "@jupyter-widgets/controls",
      "model_module_version": "1.5.0",
      "model_name": "ButtonModel",
      "state": {
       "_dom_classes": [
        "hidden"
       ],
       "description": "Run",
       "layout": "IPY_MODEL_7c18b5435d0a4954a7ebfe76f865a723",
       "style": "IPY_MODEL_24e0f2464f7e45f7bdea5f3333746bed"
      }
     },
     "a674c16a986748e6bb455a33230ae223": {
      "model_module": "@jupyter-widgets/base",
      "model_module_version": "1.2.0",
      "model_name": "LayoutModel",
      "state": {}
     },
     "a740b4d4ccc8425893716d2f7d380065": {
      "model_module": "@jupyter-widgets/output",
      "model_module_version": "1.0.0",
      "model_name": "OutputModel",
      "state": {
       "layout": "IPY_MODEL_68ec00b7ed2440658b3832572363caaf"
      }
     },
     "a7bc9c064eb7419a981a607f076bbfca": {
      "model_module": "@jupyter-widgets/controls",
      "model_module_version": "1.5.0",
      "model_name": "GridBoxModel",
      "state": {
       "_dom_classes": [
        "nbtools-input",
        "nbtools-textinput",
        "required"
       ],
       "children": [
        "IPY_MODEL_aa7f9337da594be98b1eeac8a2b341a5",
        "IPY_MODEL_34fabb93071749bfb368cc32ae18ecaf",
        "IPY_MODEL_b8c13be35af743cebe782254e3866501"
       ],
       "layout": "IPY_MODEL_7450e263a707404db2309020c87ee7df"
      }
     },
     "a8347f90d3804994b2b905633d57a0ce": {
      "model_module": "@jupyter-widgets/base",
      "model_module_version": "1.2.0",
      "model_name": "LayoutModel",
      "state": {
       "grid_area": "input",
       "width": "auto"
      }
     },
     "a8c5849d39dd4c36a4cb6c31f0ca8b10": {
      "model_module": "@jupyter-widgets/controls",
      "model_module_version": "1.5.0",
      "model_name": "GridBoxModel",
      "state": {
       "_dom_classes": [
        "nbtools-input",
        "nbtools-textinput"
       ],
       "children": [
        "IPY_MODEL_47e6be60bd14416bae6440dfebe4ae67",
        "IPY_MODEL_a0521ec167c243bda159082a085bbd7a",
        "IPY_MODEL_cf39acca966446d094cf4229e408d72a"
       ],
       "layout": "IPY_MODEL_c6a115e025034cf288a732146c26745a"
      }
     },
     "a99f37515ccd4fada696a6f17807c741": {
      "model_module": "@jupyter-widgets/controls",
      "model_module_version": "1.5.0",
      "model_name": "ButtonStyleModel",
      "state": {}
     },
     "a9e11af187fd453f90d19a1189eebe66": {
      "model_module": "@jupyter-widgets/controls",
      "model_module_version": "1.5.0",
      "model_name": "DescriptionStyleModel",
      "state": {
       "description_width": ""
      }
     },
     "aa7f9337da594be98b1eeac8a2b341a5": {
      "model_module": "@jupyter-widgets/controls",
      "model_module_version": "1.5.0",
      "model_name": "LabelModel",
      "state": {
       "description": "Username",
       "layout": "IPY_MODEL_efc12784c85847ad822075eb27f63138",
       "style": "IPY_MODEL_4d0a893fee0c4cf5b03d30f8b8e5e424",
       "value": "Username*"
      }
     },
     "aaf0197ae68147b7a9b423245edabb25": {
      "model_module": "@jupyter-widgets/controls",
      "model_module_version": "1.5.0",
      "model_name": "GridBoxModel",
      "state": {
       "_dom_classes": [
        "nbtools-input",
        "nbtools-textinput",
        "required"
       ],
       "children": [
        "IPY_MODEL_abd446cbfe6a4af7bdcad433f7234d88",
        "IPY_MODEL_55dfc335ba77454c94f0f126bd34db29",
        "IPY_MODEL_86bd20fc47da469fa1fc188ce5eb34b3"
       ],
       "layout": "IPY_MODEL_9c1a099210064a37902a759451776d27"
      }
     },
     "abd446cbfe6a4af7bdcad433f7234d88": {
      "model_module": "@jupyter-widgets/controls",
      "model_module_version": "1.5.0",
      "model_name": "LabelModel",
      "state": {
       "description": "Username",
       "layout": "IPY_MODEL_82e9846b900041b1b30dd1df474294fd",
       "style": "IPY_MODEL_b5d303bb4e9e4126a5cd63204a86ce72",
       "value": "Username*"
      }
     },
     "ac46074ff37d4f85a412eac26390714c": {
      "model_module": "@jupyter-widgets/controls",
      "model_module_version": "1.5.0",
      "model_name": "DescriptionStyleModel",
      "state": {
       "description_width": ""
      }
     },
     "ae168ba3fb034ea4b7a33a0eef964b10": {
      "model_module": "@jupyter-widgets/controls",
      "model_module_version": "1.5.0",
      "model_name": "DescriptionStyleModel",
      "state": {
       "description_width": ""
      }
     },
     "ae380d31fd1744a39421c0734a974e9f": {
      "model_module": "@jupyter-widgets/controls",
      "model_module_version": "1.5.0",
      "model_name": "DescriptionStyleModel",
      "state": {
       "description_width": ""
      }
     },
     "b0f9dba1839c481582081b2ab9f7323d": {
      "model_module": "@jupyter-widgets/controls",
      "model_module_version": "1.5.0",
      "model_name": "DescriptionStyleModel",
      "state": {
       "description_width": ""
      }
     },
     "b0fed32dfbda4da5aa9b13c31394c8e4": {
      "model_module": "@jupyter-widgets/controls",
      "model_module_version": "1.5.0",
      "model_name": "GridBoxModel",
      "state": {
       "_dom_classes": [
        "nbtools-input",
        "nbtools-comboinput",
        "required"
       ],
       "children": [
        "IPY_MODEL_e452a16b3a8b4f04b762f522ea4f51ac",
        "IPY_MODEL_299cd9d835fb4d0b947acff300f4cc7a",
        "IPY_MODEL_253e19de857f418badbd97cc6e1afb73"
       ],
       "layout": "IPY_MODEL_ba02febe11fa4cdf8e97cba057ceff7c"
      }
     },
     "b2c6a8f8aeab4b8f9bdda9a437579ae7": {
      "model_module": "@genepattern/nbtools",
      "model_module_version": "^0.2.0",
      "model_name": "UIBuilderModel",
      "state": {
       "_dom_classes": [],
       "_model_module_version": "^0.2.0",
       "_parameters": [
        {
         "choices": {
          "Broad Internal": "https://gpbroad.broadinstitute.org/gp",
          "GenePattern Cloud": "https://cloud.genepattern.org/gp",
          "Indiana University": "https://gp.indiana.edu/gp"
         },
         "combo": true,
         "default": "https://cloud.genepattern.org/gp",
         "description": "",
         "events": null,
         "hide": false,
         "id": null,
         "kinds": null,
         "label": "GenePattern Server",
         "name": "server",
         "optional": false,
         "sendto": false,
         "type": "choice",
         "value": ""
        },
        {
         "choices": {},
         "default": "",
         "description": "",
         "events": null,
         "hide": false,
         "id": null,
         "kinds": null,
         "label": "Username",
         "name": "username",
         "optional": false,
         "sendto": false,
         "type": "text",
         "value": ""
        },
        {
         "choices": {},
         "default": "",
         "description": "",
         "events": null,
         "hide": false,
         "id": null,
         "kinds": null,
         "label": "Password",
         "name": "password",
         "optional": false,
         "sendto": false,
         "type": "password",
         "value": ""
        },
        {
         "choices": {},
         "default": "",
         "description": "",
         "events": null,
         "hide": true,
         "id": null,
         "kinds": null,
         "label": "output variable",
         "name": "output_var",
         "optional": true,
         "type": "text",
         "value": ""
        }
       ],
       "_view_count": null,
       "_view_module_version": "^0.2.0",
       "buttons": {
        "Register an Account": "\n    const target = event.target;\n    const widget = target.closest('.nbtools') || target;\n    const server_input = widget.querySelector('input[type=text]');\n    if (server_input) window.open(server_input.value + '/pages/registerUser.jsf');\n    else console.warn('Cannot obtain GenePattern Server URL');"
       },
       "collapse": false,
       "color": "rgba(10, 45, 105, 0.80)",
       "description": "Login to the GenePattern server",
       "display_header": false,
       "form": "IPY_MODEL_5d8949a89c57421da83b25262a0519a2",
       "layout": "IPY_MODEL_80717d771dac4fb4a3021f7d5f0805b1",
       "name": "Login",
       "origin": "genepattern.authwidget",
       "output": "IPY_MODEL_be1f204428564115b7d9747c1e69a2ae",
       "output_var": "",
       "run_label": "Log into GenePattern"
      }
     },
     "b5d303bb4e9e4126a5cd63204a86ce72": {
      "model_module": "@jupyter-widgets/controls",
      "model_module_version": "1.5.0",
      "model_name": "DescriptionStyleModel",
      "state": {
       "description_width": ""
      }
     },
     "b60eee93441f4c38b11bf2194379e89b": {
      "model_module": "@jupyter-widgets/base",
      "model_module_version": "1.2.0",
      "model_name": "LayoutModel",
      "state": {}
     },
     "b73417a148ad4158801b3bc9d229963c": {
      "model_module": "@jupyter-widgets/controls",
      "model_module_version": "1.5.0",
      "model_name": "LabelModel",
      "state": {
       "description": "output variable",
       "layout": "IPY_MODEL_695c22fe44424db6be137d350a3f3e46",
       "style": "IPY_MODEL_817c80a01dcc46489fba6a853e005124",
       "value": "output variable"
      }
     },
     "b75ddb5613734e08b589bc9d33094879": {
      "model_module": "@jupyter-widgets/controls",
      "model_module_version": "1.5.0",
      "model_name": "ButtonStyleModel",
      "state": {}
     },
     "b7ffc079e1e64eb9946ed3ac4fdf8b29": {
      "model_module": "@jupyter-widgets/base",
      "model_module_version": "1.2.0",
      "model_name": "LayoutModel",
      "state": {}
     },
     "b846317f44524fbaa38f04c7b3b16ce4": {
      "model_module": "@jupyter-widgets/controls",
      "model_module_version": "1.5.0",
      "model_name": "DescriptionStyleModel",
      "state": {
       "description_width": ""
      }
     },
     "b8adeef2961449aea7a6ed69066d0f28": {
      "model_module": "@jupyter-widgets/base",
      "model_module_version": "1.2.0",
      "model_name": "LayoutModel",
      "state": {
       "grid_area": "label",
       "width": "auto"
      }
     },
     "b8c13be35af743cebe782254e3866501": {
      "model_module": "@jupyter-widgets/controls",
      "model_module_version": "1.5.0",
      "model_name": "LabelModel",
      "state": {
       "layout": "IPY_MODEL_49b1a77f3ab54d1187edb8bbf8b5576f",
       "style": "IPY_MODEL_61d4fac2f51b4e02b7d0c1fc50056d87"
      }
     },
     "b8e91615d4b94fee80a52a97370da211": {
      "model_module": "@jupyter-widgets/base",
      "model_module_version": "1.2.0",
      "model_name": "LayoutModel",
      "state": {
       "grid_area": "input",
       "width": "auto"
      }
     },
     "b9214c98afdd405286d4483ba4862e70": {
      "model_module": "@jupyter-widgets/controls",
      "model_module_version": "1.5.0",
      "model_name": "LabelModel",
      "state": {
       "layout": "IPY_MODEL_d1b76ce55c5a4218a6e44077f5d07887",
       "style": "IPY_MODEL_827307e0ccae455f9d2bc1fd2af38c50"
      }
     },
     "b9f70b55e9bb4784931e4440a77d4d68": {
      "model_module": "@jupyter-widgets/controls",
      "model_module_version": "1.5.0",
      "model_name": "DescriptionStyleModel",
      "state": {
       "description_width": ""
      }
     },
     "ba02febe11fa4cdf8e97cba057ceff7c": {
      "model_module": "@jupyter-widgets/base",
      "model_module_version": "1.2.0",
      "model_name": "LayoutModel",
      "state": {
       "grid_template_areas": "\n                    \"label input\"\n                    \". description\"\n                ",
       "grid_template_columns": "25% 75%",
       "grid_template_rows": "auto auto",
       "width": "100%"
      }
     },
     "ba55975d41574cd192a31508b0ea74de": {
      "model_module": "@jupyter-widgets/controls",
      "model_module_version": "1.5.0",
      "model_name": "LabelModel",
      "state": {
       "layout": "IPY_MODEL_62b3ca3a78864fc9a02a03baf5eadf25",
       "style": "IPY_MODEL_4adaa581eb3c4ba7bdbf8d29878d396b"
      }
     },
     "bbc78dd6d64a464581c1fdbaa300dfcc": {
      "model_module": "@jupyter-widgets/controls",
      "model_module_version": "1.5.0",
      "model_name": "TextModel",
      "state": {
       "_dom_classes": [
        "nbtools-menu-attached"
       ],
       "layout": "IPY_MODEL_61c8043a744d4f2c9d3a2422e147a7c8",
       "style": "IPY_MODEL_56779446aefb43ca9ee1d82569da6aae"
      }
     },
     "bc2ab3c8cf694d299dd6508189c18d42": {
      "model_module": "@jupyter-widgets/base",
      "model_module_version": "1.2.0",
      "model_name": "LayoutModel",
      "state": {
       "grid_area": "description",
       "width": "auto"
      }
     },
     "be1f204428564115b7d9747c1e69a2ae": {
      "model_module": "@jupyter-widgets/output",
      "model_module_version": "1.0.0",
      "model_name": "OutputModel",
      "state": {
       "layout": "IPY_MODEL_26c3155441b548afb47b5379dbded2d6"
      }
     },
     "c1e26823dbd646809ec0310ddb1c8b67": {
      "model_module": "@jupyter-widgets/controls",
      "model_module_version": "1.5.0",
      "model_name": "LabelModel",
      "state": {
       "layout": "IPY_MODEL_4a6c6636771a43ad94337d2f1c49f75d",
       "style": "IPY_MODEL_828f5773812d479bac301683937ed61a"
      }
     },
     "c1e9472488944b77a13c863daa5a841e": {
      "model_module": "@jupyter-widgets/base",
      "model_module_version": "1.2.0",
      "model_name": "LayoutModel",
      "state": {
       "grid_area": "input",
       "width": "auto"
      }
     },
     "c2b6861741b34279a3916c64f1cbd442": {
      "model_module": "@jupyter-widgets/controls",
      "model_module_version": "1.5.0",
      "model_name": "DescriptionStyleModel",
      "state": {
       "description_width": ""
      }
     },
     "c33669b831094fd2bf9c14c228bacf23": {
      "model_module": "@jupyter-widgets/controls",
      "model_module_version": "1.5.0",
      "model_name": "DescriptionStyleModel",
      "state": {
       "description_width": ""
      }
     },
     "c5725d087a494e8f8b3c178e09122102": {
      "model_module": "@jupyter-widgets/controls",
      "model_module_version": "1.5.0",
      "model_name": "LabelModel",
      "state": {
       "layout": "IPY_MODEL_db07570705dc47e49c26660f9138deda",
       "style": "IPY_MODEL_1d44b415d36241a1be2c09507a6d8c70"
      }
     },
     "c58ab6afcd54441e95cf7bed51539d70": {
      "model_module": "@jupyter-widgets/base",
      "model_module_version": "1.2.0",
      "model_name": "LayoutModel",
      "state": {
       "grid_template_areas": "\n                    \"label input\"\n                    \". description\"\n                ",
       "grid_template_columns": "25% 75%",
       "grid_template_rows": "auto auto",
       "width": "100%"
      }
     },
     "c63dff570d0f41b98f1299af136cf89b": {
      "model_module": "@jupyter-widgets/base",
      "model_module_version": "1.2.0",
      "model_name": "LayoutModel",
      "state": {}
     },
     "c6a115e025034cf288a732146c26745a": {
      "model_module": "@jupyter-widgets/base",
      "model_module_version": "1.2.0",
      "model_name": "LayoutModel",
      "state": {
       "display": "none",
       "grid_template_areas": "\n                    \"label input\"\n                    \". description\"\n                ",
       "grid_template_columns": "25% 75%",
       "grid_template_rows": "auto auto",
       "width": "100%"
      }
     },
     "c72b30190adf40b1aa3efad009bc390a": {
      "model_module": "@jupyter-widgets/output",
      "model_module_version": "1.0.0",
      "model_name": "OutputModel",
      "state": {
       "layout": "IPY_MODEL_b7ffc079e1e64eb9946ed3ac4fdf8b29"
      }
     },
     "c77fe67a597747b3a7b7b4a609dd70c2": {
      "model_module": "@jupyter-widgets/controls",
      "model_module_version": "1.5.0",
      "model_name": "GridBoxModel",
      "state": {
       "_dom_classes": [
        "nbtools-input",
        "nbtools-textinput"
       ],
       "children": [
        "IPY_MODEL_368a1c21073c4844a2d4af1a40e0ed42",
        "IPY_MODEL_8ae3faf00cfa4488b6b1cf37a78bf623",
        "IPY_MODEL_8378051738af4b2ab7970d446c1cf887"
       ],
       "layout": "IPY_MODEL_8ae0b70e043e49e9b7e6d7c8fe6b1c80"
      }
     },
     "c7985e6e0a1b443590400ebcbdb2cb40": {
      "model_module": "@jupyter-widgets/controls",
      "model_module_version": "1.5.0",
      "model_name": "VBoxModel",
      "state": {
       "_dom_classes": [
        "widget-interact"
       ],
       "children": [
        "IPY_MODEL_78cc24a77f6447468238c5c329a54824",
        "IPY_MODEL_49dd705e726641ff934a47fa99d0504a"
       ],
       "layout": "IPY_MODEL_79599be6a4e74227bf856107a4bfe469"
      }
     },
     "c7a16196cf3b411f839e21f198048167": {
      "model_module": "@jupyter-widgets/controls",
      "model_module_version": "1.5.0",
      "model_name": "DescriptionStyleModel",
      "state": {
       "description_width": ""
      }
     },
     "c8a3e3907e7740fa8adbb4a0e56769bf": {
      "model_module": "@jupyter-widgets/controls",
      "model_module_version": "1.5.0",
      "model_name": "ButtonStyleModel",
      "state": {}
     },
     "c994359eb8c048d5b49802cdd62a1364": {
      "model_module": "@jupyter-widgets/controls",
      "model_module_version": "1.5.0",
      "model_name": "LabelModel",
      "state": {
       "description": "output variable",
       "layout": "IPY_MODEL_a4201694afed4eb4a8e422c249b75783",
       "style": "IPY_MODEL_7cff70a87a2e43658bbbb8f319c8c3ba",
       "value": "output variable"
      }
     },
     "cbd36bda769e4dff9cf884c5f9a2375a": {
      "model_module": "@jupyter-widgets/base",
      "model_module_version": "1.2.0",
      "model_name": "LayoutModel",
      "state": {
       "grid_area": "input",
       "width": "auto"
      }
     },
     "cc25c90421914ec388f9713db4630d23": {
      "model_module": "@jupyter-widgets/controls",
      "model_module_version": "1.5.0",
      "model_name": "LabelModel",
      "state": {
       "description": "output variable",
       "layout": "IPY_MODEL_b8adeef2961449aea7a6ed69066d0f28",
       "style": "IPY_MODEL_c2b6861741b34279a3916c64f1cbd442",
       "value": "output variable"
      }
     },
     "ccb29c69a1da483388c02dd6003b0aa7": {
      "model_module": "@jupyter-widgets/controls",
      "model_module_version": "1.5.0",
      "model_name": "LabelModel",
      "state": {
       "description": "Password",
       "layout": "IPY_MODEL_162fb88cac2b4c1a893a688a347221bd",
       "style": "IPY_MODEL_b846317f44524fbaa38f04c7b3b16ce4",
       "value": "Password*"
      }
     },
     "ce54f34b35534d1886db3dbd4c446db1": {
      "model_module": "@jupyter-widgets/controls",
      "model_module_version": "1.5.0",
      "model_name": "LabelModel",
      "state": {
       "layout": "IPY_MODEL_88e2e1f04b29493097d46bc17c999253",
       "style": "IPY_MODEL_b9f70b55e9bb4784931e4440a77d4d68"
      }
     },
     "cf39acca966446d094cf4229e408d72a": {
      "model_module": "@jupyter-widgets/controls",
      "model_module_version": "1.5.0",
      "model_name": "LabelModel",
      "state": {
       "layout": "IPY_MODEL_90454d0a7e3545628b591741d9b19a2a",
       "style": "IPY_MODEL_e7ee376790594c54b2ae1b5c3c4b5b63"
      }
     },
     "d13bb53c2c32491e8d34f20ead5f89bd": {
      "model_module": "@genepattern/nbtools",
      "model_module_version": "^0.2.0",
      "model_name": "UIBuilderModel",
      "state": {
       "_dom_classes": [],
       "_model_module_version": "^0.2.0",
       "_parameters": [
        {
         "choices": {},
         "default": "",
         "description": "",
         "events": null,
         "hide": true,
         "id": null,
         "kinds": null,
         "label": "output variable",
         "name": "output_var",
         "optional": true,
         "type": "text",
         "value": ""
        }
       ],
       "_view_count": null,
       "_view_module_version": "^0.2.0",
       "collapsed": true,
       "color": "rgba(10, 45, 105, 0.80)",
       "display_footer": false,
       "display_header": false,
       "form": "IPY_MODEL_1beb6d8bc83b4446a6c6f167a16f09b4",
       "info": "<div class=\"systemMessageOk\"><br />The main GenePattern server (<a href=\"https://cloud.genepattern.org\">cloud.genepattern.org</a>) has a 1 hour maintenance window on the first Monday of each month from 2pm - 3pm PDT (UTC-7)<br><br />The next update will be <b>Tuesday, September 8, 2020</b> to allow for the Labor Day Holiday.<br /> <br /></div><br /><div class=\"systemMessageOk\"><br />    Follow the GenePattern team on <a href=\"https://twitter.com/GenePattern\", target=\"_blank\">Twitter</a>, <a href=\"https://www.instagram.com/genepatternnotebook/\",target=\"_blank\">Instagram</a> or <a href=\"https://www.facebook.com/GenePattern\", target=\"_blank\">Facebook</a> to keep up with the latest news and events or <a href=\"https://groups.google.com/forum/?utm_medium=email&utm_source=footer#!forum/genepattern-help\", target=\"_blank\">join the conversation in our forum</a>!<br /><br /><a href=\"https://genepattern.org/genepattern-in-the-amazon-cloud\", target=\"_blank\">Terms of Service</a> - Updated August 2020<br /><br /></div>",
       "layout": "IPY_MODEL_e202e62375594f3baeb3759994b02035",
       "name": "https://cloud.genepattern.org/gp",
       "origin": "genepattern.authwidget",
       "output": "IPY_MODEL_f5430479c4b9450db7e774884c47d75d",
       "output_var": ""
      }
     },
     "d1b76ce55c5a4218a6e44077f5d07887": {
      "model_module": "@jupyter-widgets/base",
      "model_module_version": "1.2.0",
      "model_name": "LayoutModel",
      "state": {
       "grid_area": "description",
       "width": "auto"
      }
     },
     "d2796fc51f9e4cd49ae2381670d9506a": {
      "model_module": "@jupyter-widgets/base",
      "model_module_version": "1.2.0",
      "model_name": "LayoutModel",
      "state": {}
     },
     "d391b01fedf04944b3867093194e940b": {
      "model_module": "@jupyter-widgets/controls",
      "model_module_version": "1.5.0",
      "model_name": "DescriptionStyleModel",
      "state": {
       "description_width": ""
      }
     },
     "d9b27b3a3cc24690b6e5308aadf9cece": {
      "model_module": "@jupyter-widgets/base",
      "model_module_version": "1.2.0",
      "model_name": "LayoutModel",
      "state": {
       "grid_area": "input",
       "width": "auto"
      }
     },
     "db07570705dc47e49c26660f9138deda": {
      "model_module": "@jupyter-widgets/base",
      "model_module_version": "1.2.0",
      "model_name": "LayoutModel",
      "state": {
       "grid_area": "description",
       "width": "auto"
      }
     },
     "dc45fbece3214376a007a357d2801588": {
      "model_module": "@jupyter-widgets/controls",
      "model_module_version": "1.5.0",
      "model_name": "DescriptionStyleModel",
      "state": {
       "description_width": ""
      }
     },
     "dc7942ec82a34be581764565b991d4a3": {
      "model_module": "@jupyter-widgets/base",
      "model_module_version": "1.2.0",
      "model_name": "LayoutModel",
      "state": {}
     },
     "dd1f4c702e004f1dbab86a613e0803e9": {
      "model_module": "@genepattern/nbtools",
      "model_module_version": "^0.2.0",
      "model_name": "UIBuilderModel",
      "state": {
       "_dom_classes": [],
       "_model_module_version": "^0.2.0",
       "_parameters": [
        {
         "choices": {
          "Broad Internal": "https://gpbroad.broadinstitute.org/gp",
          "GenePattern Cloud": "https://cloud.genepattern.org/gp",
          "Indiana University": "https://gp.indiana.edu/gp"
         },
         "combo": true,
         "default": "https://cloud.genepattern.org/gp",
         "description": "",
         "events": null,
         "hide": false,
         "id": null,
         "kinds": null,
         "label": "GenePattern Server",
         "name": "server",
         "optional": false,
         "sendto": false,
         "type": "choice",
         "value": ""
        },
        {
         "choices": {},
         "default": "",
         "description": "",
         "events": null,
         "hide": false,
         "id": null,
         "kinds": null,
         "label": "Username",
         "name": "username",
         "optional": false,
         "sendto": false,
         "type": "text",
         "value": ""
        },
        {
         "choices": {},
         "default": "",
         "description": "",
         "events": null,
         "hide": false,
         "id": null,
         "kinds": null,
         "label": "Password",
         "name": "password",
         "optional": false,
         "sendto": false,
         "type": "password",
         "value": ""
        },
        {
         "choices": {},
         "default": "",
         "description": "",
         "events": null,
         "hide": true,
         "id": null,
         "kinds": null,
         "label": "output variable",
         "name": "output_var",
         "optional": true,
         "type": "text",
         "value": ""
        }
       ],
       "_view_count": null,
       "_view_module_version": "^0.2.0",
       "buttons": {
        "Register an Account": "\n    const target = event.target;\n    const widget = target.closest('.nbtools') || target;\n    const server_input = widget.querySelector('input[type=text]');\n    if (server_input) window.open(server_input.value + '/pages/registerUser.jsf');\n    else console.warn('Cannot obtain GenePattern Server URL');"
       },
       "collapse": false,
       "color": "rgba(10, 45, 105, 0.80)",
       "description": "Login to the GenePattern server",
       "display_header": false,
       "form": "IPY_MODEL_1593d28e453947939dcac96797c37c0d",
       "layout": "IPY_MODEL_e9c9667f4e094d4990bb3397303306e0",
       "name": "Login",
       "origin": "genepattern.authwidget",
       "output": "IPY_MODEL_c72b30190adf40b1aa3efad009bc390a",
       "output_var": "",
       "run_label": "Log into GenePattern"
      }
     },
     "e202e62375594f3baeb3759994b02035": {
      "model_module": "@jupyter-widgets/base",
      "model_module_version": "1.2.0",
      "model_name": "LayoutModel",
      "state": {}
     },
     "e452a16b3a8b4f04b762f522ea4f51ac": {
      "model_module": "@jupyter-widgets/controls",
      "model_module_version": "1.5.0",
      "model_name": "LabelModel",
      "state": {
       "description": "GenePattern Server",
       "layout": "IPY_MODEL_3126e68f8bd44ea28551eb327c8640f4",
       "style": "IPY_MODEL_493c0ff306344c8b9c8059deeead3c3d",
       "value": "GenePattern Server*"
      }
     },
     "e6976a2fa0694a6e9dc5495877b0e9cc": {
      "model_module": "@jupyter-widgets/base",
      "model_module_version": "1.2.0",
      "model_name": "LayoutModel",
      "state": {
       "grid_area": "input",
       "width": "auto"
      }
     },
     "e7ee376790594c54b2ae1b5c3c4b5b63": {
      "model_module": "@jupyter-widgets/controls",
      "model_module_version": "1.5.0",
      "model_name": "DescriptionStyleModel",
      "state": {
       "description_width": ""
      }
     },
     "e876f866befb413c89e751c7b0a81359": {
      "model_module": "@jupyter-widgets/base",
      "model_module_version": "1.2.0",
      "model_name": "LayoutModel",
      "state": {
       "grid_area": "description",
       "width": "auto"
      }
     },
     "e9743b45605e49fa819cb5927e392a2a": {
      "model_module": "@jupyter-widgets/controls",
      "model_module_version": "1.5.0",
      "model_name": "DescriptionStyleModel",
      "state": {
       "description_width": ""
      }
     },
     "e9c9667f4e094d4990bb3397303306e0": {
      "model_module": "@jupyter-widgets/base",
      "model_module_version": "1.2.0",
      "model_name": "LayoutModel",
      "state": {}
     },
     "eab85591622f4553b73e9d6c42d4a0ab": {
      "model_module": "@jupyter-widgets/controls",
      "model_module_version": "1.5.0",
      "model_name": "ButtonStyleModel",
      "state": {}
     },
     "ec544a91ef714ce9bdb227e4617561ad": {
      "model_module": "@jupyter-widgets/controls",
      "model_module_version": "1.5.0",
      "model_name": "DescriptionStyleModel",
      "state": {
       "description_width": ""
      }
     },
     "ed2e6269206f492b9ae14af95d700efa": {
      "model_module": "@jupyter-widgets/base",
      "model_module_version": "1.2.0",
      "model_name": "LayoutModel",
      "state": {}
     },
     "ed4f9f1e666d4e05955c61f97d2844e6": {
      "model_module": "@jupyter-widgets/controls",
      "model_module_version": "1.5.0",
      "model_name": "ButtonStyleModel",
      "state": {}
     },
     "ee759e3664a049c7ac6656e7e57b4ce8": {
      "model_module": "@jupyter-widgets/controls",
      "model_module_version": "1.5.0",
      "model_name": "LabelModel",
      "state": {
       "description": "output variable",
       "layout": "IPY_MODEL_1e48e7da591148e4a64b3a66de4b6cfc",
       "style": "IPY_MODEL_56ace4376d3641a6b1d2c6595d0abe5a",
       "value": "output variable"
      }
     },
     "ef0e4c1663eb4646a8e78e594041e1b1": {
      "model_module": "@jupyter-widgets/controls",
      "model_module_version": "1.5.0",
      "model_name": "DescriptionStyleModel",
      "state": {
       "description_width": ""
      }
     },
     "efbc7c70b7424d9b8c898992856f19ba": {
      "model_module": "@jupyter-widgets/base",
      "model_module_version": "1.2.0",
      "model_name": "LayoutModel",
      "state": {}
     },
     "efc12784c85847ad822075eb27f63138": {
      "model_module": "@jupyter-widgets/base",
      "model_module_version": "1.2.0",
      "model_name": "LayoutModel",
      "state": {
       "grid_area": "label",
       "width": "auto"
      }
     },
     "f2d1dc99a73142fca92c0b220cde122b": {
      "model_module": "@jupyter-widgets/controls",
      "model_module_version": "1.5.0",
      "model_name": "ButtonModel",
      "state": {
       "_dom_classes": [
        "hidden"
       ],
       "description": "Run",
       "layout": "IPY_MODEL_6764acf1bc8242b88dd9a1a8057cbfa7",
       "style": "IPY_MODEL_eab85591622f4553b73e9d6c42d4a0ab"
      }
     },
     "f2e97af05db74504b3d8c11034837cbd": {
      "model_module": "@jupyter-widgets/controls",
      "model_module_version": "1.5.0",
      "model_name": "TextModel",
      "state": {
       "_dom_classes": [
        "nbtools-menu-attached"
       ],
       "layout": "IPY_MODEL_88dfd9bf0e154c5fb47f65d4dcc40916",
       "style": "IPY_MODEL_ec544a91ef714ce9bdb227e4617561ad"
      }
     },
     "f372f4c1825b4469ad034b1a1aaef491": {
      "model_module": "@jupyter-widgets/controls",
      "model_module_version": "1.5.0",
      "model_name": "ButtonModel",
      "state": {
       "_dom_classes": [
        "hidden"
       ],
       "description": "Run",
       "layout": "IPY_MODEL_d2796fc51f9e4cd49ae2381670d9506a",
       "style": "IPY_MODEL_214f07e7e80e4d61bd09647e788eb759"
      }
     },
     "f3c1537b0e7c4db39e16527131d39614": {
      "model_module": "@jupyter-widgets/controls",
      "model_module_version": "1.5.0",
      "model_name": "DescriptionStyleModel",
      "state": {
       "description_width": ""
      }
     },
     "f494d7ba3a2f40279630339e48c9d13f": {
      "model_module": "@jupyter-widgets/controls",
      "model_module_version": "1.5.0",
      "model_name": "ButtonModel",
      "state": {
       "_dom_classes": [
        "hidden"
       ],
       "description": "Run",
       "layout": "IPY_MODEL_9714693c1f54434a8474ad4d68294461",
       "style": "IPY_MODEL_a99f37515ccd4fada696a6f17807c741"
      }
     },
     "f5430479c4b9450db7e774884c47d75d": {
      "model_module": "@jupyter-widgets/output",
      "model_module_version": "1.0.0",
      "model_name": "OutputModel",
      "state": {
       "layout": "IPY_MODEL_2c17eccb8a4e4ef5a9c1884746d4a9e0"
      }
     },
     "f78d12404f4f4e45b401b2ba0265c4ab": {
      "model_module": "@jupyter-widgets/base",
      "model_module_version": "1.2.0",
      "model_name": "LayoutModel",
      "state": {
       "grid_area": "input",
       "width": "auto"
      }
     },
     "f88753d39b3044b6956807a832bb3116": {
      "model_module": "@jupyter-widgets/base",
      "model_module_version": "1.2.0",
      "model_name": "LayoutModel",
      "state": {
       "grid_area": "description",
       "width": "auto"
      }
     },
     "f98217c7e5a64aa7bb4c5875317ae565": {
      "model_module": "@jupyter-widgets/controls",
      "model_module_version": "1.5.0",
      "model_name": "LabelModel",
      "state": {
       "layout": "IPY_MODEL_bc2ab3c8cf694d299dd6508189c18d42",
       "style": "IPY_MODEL_45ba77e18b0a43db8325c5d8354483ed"
      }
     },
     "fdc69c3e90b047a38916b240df8724a0": {
      "model_module": "@jupyter-widgets/controls",
      "model_module_version": "1.5.0",
      "model_name": "DescriptionStyleModel",
      "state": {
       "description_width": ""
      }
     }
    },
    "version_major": 2,
    "version_minor": 0
   }
  }
 },
 "nbformat": 4,
 "nbformat_minor": 4
}
