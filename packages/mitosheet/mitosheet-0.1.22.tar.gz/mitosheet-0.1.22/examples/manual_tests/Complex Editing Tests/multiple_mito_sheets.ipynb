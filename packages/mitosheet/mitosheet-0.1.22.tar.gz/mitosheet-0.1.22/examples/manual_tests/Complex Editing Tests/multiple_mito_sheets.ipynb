{
 "cells": [
  {
   "cell_type": "code",
   "execution_count": null,
   "metadata": {},
   "outputs": [],
   "source": [
    "\"\"\"\n",
    "This file tests some complex analysis with Mito, where mulitple mito instances\n",
    "exist in the same workbook. \n",
    "\n",
    "Instructions:\n",
    "1. Select File > Run All Cells.\n",
    "2. For each Mito workbook:\n",
    "    1. Add a new column. \n",
    "    2. Edit each new column to be = Nums + 1\n",
    "    3. Check they update correctly, and code gets generated in the correct cell.\n",
    "\"\"\"\n",
    "import mitosheet\n",
    "import pandas as pd\n",
    "df = pd.DataFrame(data={'Nums': [1, 2, 3]})\n",
    "mitosheet.sheet(df)"
   ]
  },
  {
   "cell_type": "code",
   "execution_count": null,
   "metadata": {},
   "outputs": [],
   "source": [
    "df1 = pd.DataFrame(data={'Nums': [1, 2, 3]})\n",
    "mitosheet.sheet(df1)"
   ]
  },
  {
   "cell_type": "code",
   "execution_count": null,
   "metadata": {},
   "outputs": [],
   "source": [
    "df2 = pd.DataFrame(data={'Nums': [1, 2, 3]})\n",
    "mitosheet.sheet(df2)"
   ]
  }
 ],
 "metadata": {
  "kernelspec": {
   "display_name": "Python 3",
   "language": "python",
   "name": "python3"
  },
  "language_info": {
   "codemirror_mode": {
    "name": "ipython",
    "version": 3
   },
   "file_extension": ".py",
   "mimetype": "text/x-python",
   "name": "python",
   "nbconvert_exporter": "python",
   "pygments_lexer": "ipython3",
   "version": "3.8.2"
  },
  "widgets": {
   "application/vnd.jupyter.widget-state+json": {
    "state": {
     "301e9cbe626b4588a2db2fbc82e7202a": {
      "model_module": "mitosheet",
      "model_module_version": "^0.1.21",
      "model_name": "ExampleModel",
      "state": {
       "_model_module_version": "^0.1.21",
       "_view_module_version": "^0.1.21",
       "code_json": "{\"imports\": \"from mitosheet import AVG,CLEAN,CONCATENATE,FIND,LEFT,LEN,LOWER,MID,MULTIPLY,PROPER,RIGHT,SUBSTITUTE,SUM,TRIM,UPPER\", \"code\": [\"df['B'] =  df['Nums'] + 1\"]}",
       "column_spreadsheet_code_json": "{\"Nums\": \"\", \"B\": \"= Nums + 1\"}",
       "df_name": "",
       "layout": "IPY_MODEL_544895bf570b4f4c9b6958846d23bc70",
       "sheet_json": "{\"columns\": [\"Nums\", \"B\"], \"index\": [0, 1, 2], \"data\": [[1, 2], [2, 3], [3, 4]]}",
       "user_id": "nate",
       "value": "Hello World"
      }
     },
     "4164ee909c39437fab1a964a6975850d": {
      "model_module": "mitosheet",
      "model_module_version": "^0.1.21",
      "model_name": "ExampleModel",
      "state": {
       "_model_module_version": "^0.1.21",
       "_view_module_version": "^0.1.21",
       "code_json": "{\"imports\": \"from mitosheet import AVG,CLEAN,CONCATENATE,FIND,LEFT,LEN,LOWER,MID,MULTIPLY,PROPER,RIGHT,SUBSTITUTE,SUM,TRIM,UPPER\", \"code\": [\"df['B'] = df['Nums'] + 1\"]}",
       "column_spreadsheet_code_json": "{\"Nums\": \"\", \"B\": \"=Nums + 1\"}",
       "df_name": "",
       "layout": "IPY_MODEL_f74bc16918ff4d6d940edde504aaf2f1",
       "sheet_json": "{\"columns\": [\"Nums\", \"B\"], \"index\": [0, 1, 2], \"data\": [[1, 2], [2, 3], [3, 4]]}",
       "user_id": "nate",
       "value": "Hello World"
      }
     },
     "41801f2f7715457a9d5738163421c65b": {
      "model_module": "@jupyter-widgets/base",
      "model_module_version": "1.2.0",
      "model_name": "LayoutModel",
      "state": {}
     },
     "544895bf570b4f4c9b6958846d23bc70": {
      "model_module": "@jupyter-widgets/base",
      "model_module_version": "1.2.0",
      "model_name": "LayoutModel",
      "state": {}
     },
     "72a944104d6b4b069ec47ab968e1fecc": {
      "model_module": "mitosheet",
      "model_module_version": "^0.1.21",
      "model_name": "ExampleModel",
      "state": {
       "_model_module_version": "^0.1.21",
       "_view_module_version": "^0.1.21",
       "code_json": "{\"code\": \"0\"}",
       "column_spreadsheet_code_json": "{\"Nums\": \"\"}",
       "df_name": "",
       "layout": "IPY_MODEL_cf79d83eafb646c48283f1a52e2e3d81",
       "sheet_json": "{\"columns\": [\"Nums\"], \"index\": [0, 1, 2], \"data\": [[1], [2], [3]]}",
       "user_id": "nate",
       "value": "Hello World"
      }
     },
     "7b8bc9ba3c4d4b76ba492a6d028726cd": {
      "model_module": "mitosheet",
      "model_module_version": "^0.1.21",
      "model_name": "ExampleModel",
      "state": {
       "_model_module_version": "^0.1.21",
       "_view_module_version": "^0.1.21",
       "code_json": "{\"code\": \"0\"}",
       "column_spreadsheet_code_json": "{\"Nums\": \"\"}",
       "df_name": "",
       "layout": "IPY_MODEL_85b35b736933486bb57ba6590e99d97e",
       "sheet_json": "{\"columns\": [\"Nums\"], \"index\": [0, 1, 2], \"data\": [[1], [2], [3]]}",
       "user_id": "nate",
       "value": "Hello World"
      }
     },
     "8475a8fe223e4b3aaefab9dad5b99bd9": {
      "model_module": "@jupyter-widgets/base",
      "model_module_version": "1.2.0",
      "model_name": "LayoutModel",
      "state": {}
     },
     "85b35b736933486bb57ba6590e99d97e": {
      "model_module": "@jupyter-widgets/base",
      "model_module_version": "1.2.0",
      "model_name": "LayoutModel",
      "state": {}
     },
     "b3a5b84c5cf84cfe99e62629f0588846": {
      "model_module": "mitosheet",
      "model_module_version": "^0.1.21",
      "model_name": "ExampleModel",
      "state": {
       "_model_module_version": "^0.1.21",
       "_view_module_version": "^0.1.21",
       "code_json": "{\"code\": \"0\"}",
       "column_spreadsheet_code_json": "{\"Nums\": \"\"}",
       "df_name": "",
       "layout": "IPY_MODEL_41801f2f7715457a9d5738163421c65b",
       "sheet_json": "{\"columns\": [\"Nums\"], \"index\": [0, 1, 2], \"data\": [[1], [2], [3]]}",
       "user_id": "nate",
       "value": "Hello World"
      }
     },
     "bee63fac8dec4b14b49621a4f1f13de2": {
      "model_module": "mitosheet",
      "model_module_version": "^0.1.21",
      "model_name": "ExampleModel",
      "state": {
       "_model_module_version": "^0.1.21",
       "_view_module_version": "^0.1.21",
       "code_json": "{\"imports\": \"from mitosheet import AVG,CLEAN,CONCATENATE,FIND,LEFT,LEN,LOWER,MID,MULTIPLY,PROPER,RIGHT,SUBSTITUTE,SUM,TRIM,UPPER\", \"code\": [\"df['B'] = df['Nums'] + 1\"]}",
       "column_spreadsheet_code_json": "{\"Nums\": \"\", \"B\": \"=Nums + 1\"}",
       "df_name": "",
       "layout": "IPY_MODEL_8475a8fe223e4b3aaefab9dad5b99bd9",
       "sheet_json": "{\"columns\": [\"Nums\", \"B\"], \"index\": [0, 1, 2], \"data\": [[1, 2], [2, 3], [3, 4]]}",
       "user_id": "nate",
       "value": "Hello World"
      }
     },
     "cf79d83eafb646c48283f1a52e2e3d81": {
      "model_module": "@jupyter-widgets/base",
      "model_module_version": "1.2.0",
      "model_name": "LayoutModel",
      "state": {}
     },
     "f74bc16918ff4d6d940edde504aaf2f1": {
      "model_module": "@jupyter-widgets/base",
      "model_module_version": "1.2.0",
      "model_name": "LayoutModel",
      "state": {}
     }
    },
    "version_major": 2,
    "version_minor": 0
   }
  }
 },
 "nbformat": 4,
 "nbformat_minor": 4
}
