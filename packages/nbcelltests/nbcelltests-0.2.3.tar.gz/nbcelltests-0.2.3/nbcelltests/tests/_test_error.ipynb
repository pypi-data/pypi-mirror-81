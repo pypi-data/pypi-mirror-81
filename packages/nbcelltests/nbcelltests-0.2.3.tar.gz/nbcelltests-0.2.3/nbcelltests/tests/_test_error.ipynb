{
 "cells": [
  {
   "cell_type": "code",
   "execution_count": 1,
   "metadata": {
    "celltests": [
     "try:\n",
     "    %cell\n",
     "except:\n",
     "    pass"
    ]
   },
   "outputs": [],
   "source": [
    "raise ValueError(\"My bad code that I will pretend to test\")"
   ]
  },
  {
   "cell_type": "code",
   "execution_count": 2,
   "metadata": {
    "celltests": [
     "try:\n",
     "    %cell\n",
     "except:\n",
     "    pass\n",
     "raise ValueError(\"My test is bad too\")"
    ]
   },
   "outputs": [],
   "source": [
    "raise ValueError(\"More bad code that I will pretend to test\")"
   ]
  }  
 ],
 "metadata": {
  "kernelspec": {
   "display_name": "Python 3",
   "language": "python",
   "name": "python3"
  },
  "language_info": {
   "codemirror_mode": {
    "name": "ipython",
    "version": 3
   },
   "file_extension": ".py",
   "mimetype": "text/x-python",
   "name": "python",
   "nbconvert_exporter": "python",
   "pygments_lexer": "ipython3",
   "version": "3.7.6"
  }
 },
 "nbformat": 4,
 "nbformat_minor": 4
}
