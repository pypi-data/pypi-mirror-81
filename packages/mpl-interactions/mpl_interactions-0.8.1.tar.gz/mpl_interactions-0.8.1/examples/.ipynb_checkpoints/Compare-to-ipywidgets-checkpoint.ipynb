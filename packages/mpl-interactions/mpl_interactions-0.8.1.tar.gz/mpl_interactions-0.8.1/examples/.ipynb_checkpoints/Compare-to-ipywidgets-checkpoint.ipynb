{
 "cells": [
  {
   "cell_type": "markdown",
   "metadata": {},
   "source": [
    "# Comparison to ipywidgets\n",
    "\n",
    "ipywidgets already provides both an interact and an interactive_output function, so why use mpl_interactions instead? There are three reasons: performance, portability, and convenience."
   ]
  },
  {
   "cell_type": "markdown",
   "metadata": {},
   "source": [
    "## Performance\n",
    "\n",
    "\n",
    ".. nbinfo::\n",
    "    **Note:** This explanation is built on the description in [matplotlib/ipympl#36](https://github.com/matplotlib/ipympl/issues/36#issuecomment-361234270)"
   ]
  },
  {
   "cell_type": "code",
   "execution_count": null,
   "metadata": {},
   "outputs": [],
   "source": []
  }
 ],
 "metadata": {
  "kernelspec": {
   "display_name": "Python 3",
   "language": "python",
   "name": "python3"
  },
  "language_info": {
   "codemirror_mode": {
    "name": "ipython",
    "version": 3
   },
   "file_extension": ".py",
   "mimetype": "text/x-python",
   "name": "python",
   "nbconvert_exporter": "python",
   "pygments_lexer": "ipython3",
   "version": "3.7.8"
  }
 },
 "nbformat": 4,
 "nbformat_minor": 4
}
