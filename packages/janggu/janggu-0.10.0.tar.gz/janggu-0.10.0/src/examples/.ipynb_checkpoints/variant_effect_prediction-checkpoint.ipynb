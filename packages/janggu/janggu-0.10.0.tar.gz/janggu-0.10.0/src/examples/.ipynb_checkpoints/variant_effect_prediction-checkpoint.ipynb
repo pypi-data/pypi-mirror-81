{
 "cells": [
  {
   "cell_type": "markdown",
   "metadata": {},
   "source": [
    "# Input attribution and Variant effect prediction"
   ]
  },
  {
   "cell_type": "markdown",
   "metadata": {},
   "source": [
    "In this tutorial we illustrate input feature importance attribution and variant effect prediction."
   ]
  },
  {
   "cell_type": "code",
   "execution_count": 1,
   "metadata": {},
   "outputs": [
    {
     "name": "stderr",
     "output_type": "stream",
     "text": [
      "/home/wkopp/anaconda3/envs/jdev/lib/python3.6/site-packages/h5py/__init__.py:36: FutureWarning: Conversion of the second argument of issubdtype from `float` to `np.floating` is deprecated. In future, it will be treated as `np.float64 == np.dtype(float).type`.\n",
      "  from ._conv import register_converters as _register_converters\n",
      "Using TensorFlow backend.\n"
     ]
    }
   ],
   "source": [
    "import os\n",
    "\n",
    "import numpy as np\n",
    "import h5py\n",
    "from keras import backend as K\n",
    "from keras.layers import Conv2D\n",
    "from keras.layers import GlobalAveragePooling2D\n",
    "from pkg_resources import resource_filename\n",
    "\n",
    "from janggu import Janggu\n",
    "from janggu import Scorer\n",
    "from janggu import inputlayer\n",
    "from janggu import outputdense\n",
    "from janggu.data import Bioseq\n",
    "from janggu.data import Cover\n",
    "from janggu.data import GenomicIndexer\n",
    "from janggu.data import ReduceDim\n",
    "from janggu.data import plotGenomeTrack\n",
    "from janggu.data import LineTrack\n",
    "from janggu.data import SeqTrack\n",
    "from janggu.layers import DnaConv2D\n",
    "from janggu import input_attribution\n",
    "\n",
    "np.random.seed(1234)"
   ]
  },
  {
   "cell_type": "markdown",
   "metadata": {},
   "source": [
    "First, we need to specify the output directory in which the results are stored and load the datasets. We also specify the number of epochs to train the model and the sequence feature order."
   ]
  },
  {
   "cell_type": "code",
   "execution_count": 2,
   "metadata": {},
   "outputs": [],
   "source": [
    "order = 3\n",
    "epochs = 100"
   ]
  },
  {
   "cell_type": "code",
   "execution_count": 3,
   "metadata": {},
   "outputs": [],
   "source": [
    "os.environ['JANGGU_OUTPUT'] = '/home/wkopp/janggu_examples'\n",
    "\n",
    "# load the dataset\n",
    "# The pseudo genome represents just a concatenation of all sequences\n",
    "# in sample.fa and sample2.fa. Therefore, the results should be almost\n",
    "# identically to the models obtained from classify_fasta.py.\n",
    "REFGENOME = resource_filename('janggu', 'resources/pseudo_genome.fa')\n",
    "VCFFILE = resource_filename('janggu', 'resources/pseudo_snps.vcf')\n",
    "# ROI contains regions spanning positive and negative examples\n",
    "ROI_TRAIN_FILE = resource_filename('janggu', 'resources/roi_train.bed')\n",
    "ROI_TEST_FILE = resource_filename('janggu', 'resources/roi_test.bed')\n",
    "\n",
    "# PEAK_FILE only contains positive examples\n",
    "PEAK_FILE = resource_filename('janggu', 'resources/scores.bed')"
   ]
  },
  {
   "cell_type": "code",
   "execution_count": 4,
   "metadata": {},
   "outputs": [],
   "source": [
    "# Training input and labels are purely defined genomic coordinates\n",
    "DNA = Bioseq.create_from_refgenome('dna', refgenome=REFGENOME,\n",
    "                                   roi=ROI_TRAIN_FILE,\n",
    "                                   binsize=200,\n",
    "                                   store_whole_genome=True,\n",
    "                                   order=order)\n",
    "\n",
    "LABELS = Cover.create_from_bed('peaks', roi=ROI_TRAIN_FILE,\n",
    "                               bedfiles=PEAK_FILE,\n",
    "                               binsize=200,\n",
    "                               resolution=200)\n",
    "\n",
    "\n",
    "DNA_TEST = Bioseq.create_from_refgenome('dna', refgenome=REFGENOME,\n",
    "                                        roi=ROI_TEST_FILE,\n",
    "                                        binsize=200,\n",
    "                                        store_whole_genome=True,\n",
    "                                        order=order)\n",
    "\n",
    "LABELS_TEST = Cover.create_from_bed('peaks',\n",
    "                                    roi=ROI_TEST_FILE,\n",
    "                                    bedfiles=PEAK_FILE,\n",
    "                                    binsize=200,\n",
    "                                    resolution=200)"
   ]
  },
  {
   "cell_type": "markdown",
   "metadata": {},
   "source": [
    "Define and fit a new model"
   ]
  },
  {
   "cell_type": "code",
   "execution_count": 5,
   "metadata": {},
   "outputs": [
    {
     "name": "stdout",
     "output_type": "stream",
     "text": [
      "Generated model-id: '6acf30da11d48d4d96ed0669bf3a52f4'\n",
      "Epoch 1/100\n",
      "244/244 [==============================] - 4s 14ms/step - loss: 0.6253 - acc: 0.6480\n",
      "Epoch 2/100\n",
      "244/244 [==============================] - 2s 10ms/step - loss: 0.5209 - acc: 0.7661\n",
      "Epoch 3/100\n",
      "244/244 [==============================] - 2s 10ms/step - loss: 0.4645 - acc: 0.7958\n",
      "Epoch 4/100\n",
      "244/244 [==============================] - 2s 10ms/step - loss: 0.4248 - acc: 0.8201\n",
      "Epoch 5/100\n",
      "244/244 [==============================] - 2s 10ms/step - loss: 0.3963 - acc: 0.8330\n",
      "Epoch 6/100\n",
      "244/244 [==============================] - 2s 10ms/step - loss: 0.3720 - acc: 0.8441\n",
      "Epoch 7/100\n",
      "244/244 [==============================] - 2s 10ms/step - loss: 0.3488 - acc: 0.8535\n",
      "Epoch 8/100\n",
      "244/244 [==============================] - 2s 9ms/step - loss: 0.3287 - acc: 0.8642\n",
      "Epoch 9/100\n",
      "244/244 [==============================] - 2s 10ms/step - loss: 0.3064 - acc: 0.8775\n",
      "Epoch 10/100\n",
      "244/244 [==============================] - 2s 10ms/step - loss: 0.2868 - acc: 0.8881\n",
      "Epoch 11/100\n",
      "244/244 [==============================] - 2s 10ms/step - loss: 0.2666 - acc: 0.8989\n",
      "Epoch 12/100\n",
      "244/244 [==============================] - 2s 10ms/step - loss: 0.2482 - acc: 0.9084\n",
      "Epoch 13/100\n",
      "244/244 [==============================] - 2s 10ms/step - loss: 0.2305 - acc: 0.9148\n",
      "Epoch 14/100\n",
      "244/244 [==============================] - 2s 10ms/step - loss: 0.2159 - acc: 0.9233\n",
      "Epoch 15/100\n",
      "244/244 [==============================] - 2s 10ms/step - loss: 0.2011 - acc: 0.9297\n",
      "Epoch 16/100\n",
      "244/244 [==============================] - 2s 10ms/step - loss: 0.1889 - acc: 0.9346\n",
      "Epoch 17/100\n",
      "244/244 [==============================] - 2s 10ms/step - loss: 0.1777 - acc: 0.9396\n",
      "Epoch 18/100\n",
      "244/244 [==============================] - 2s 10ms/step - loss: 0.1668 - acc: 0.9434\n",
      "Epoch 19/100\n",
      "244/244 [==============================] - 2s 10ms/step - loss: 0.1571 - acc: 0.9465\n",
      "Epoch 20/100\n",
      "244/244 [==============================] - 2s 10ms/step - loss: 0.1495 - acc: 0.9500\n",
      "Epoch 21/100\n",
      "244/244 [==============================] - 2s 10ms/step - loss: 0.1412 - acc: 0.9549\n",
      "Epoch 22/100\n",
      "244/244 [==============================] - 2s 10ms/step - loss: 0.1343 - acc: 0.9576\n",
      "Epoch 23/100\n",
      "244/244 [==============================] - 2s 10ms/step - loss: 0.1277 - acc: 0.9589\n",
      "Epoch 24/100\n",
      "244/244 [==============================] - 2s 10ms/step - loss: 0.1208 - acc: 0.9616\n",
      "Epoch 25/100\n",
      "244/244 [==============================] - 2s 10ms/step - loss: 0.1161 - acc: 0.9632\n",
      "Epoch 26/100\n",
      "244/244 [==============================] - 2s 10ms/step - loss: 0.1106 - acc: 0.9668\n",
      "Epoch 27/100\n",
      "244/244 [==============================] - 2s 10ms/step - loss: 0.1066 - acc: 0.9661\n",
      "Epoch 28/100\n",
      "244/244 [==============================] - 2s 10ms/step - loss: 0.1021 - acc: 0.9689\n",
      "Epoch 29/100\n",
      "244/244 [==============================] - 2s 10ms/step - loss: 0.0989 - acc: 0.9694\n",
      "Epoch 30/100\n",
      "244/244 [==============================] - 2s 10ms/step - loss: 0.0948 - acc: 0.9721\n",
      "Epoch 31/100\n",
      "244/244 [==============================] - 2s 10ms/step - loss: 0.0911 - acc: 0.9709\n",
      "Epoch 32/100\n",
      "244/244 [==============================] - 2s 10ms/step - loss: 0.0873 - acc: 0.9752\n",
      "Epoch 33/100\n",
      "244/244 [==============================] - 2s 10ms/step - loss: 0.0841 - acc: 0.9750\n",
      "Epoch 34/100\n",
      "244/244 [==============================] - 2s 10ms/step - loss: 0.0811 - acc: 0.9766\n",
      "Epoch 35/100\n",
      "244/244 [==============================] - 2s 10ms/step - loss: 0.0783 - acc: 0.9781\n",
      "Epoch 36/100\n",
      "244/244 [==============================] - 2s 10ms/step - loss: 0.0759 - acc: 0.9789\n",
      "Epoch 37/100\n",
      "244/244 [==============================] - 2s 10ms/step - loss: 0.0732 - acc: 0.9804\n",
      "Epoch 38/100\n",
      "244/244 [==============================] - 2s 10ms/step - loss: 0.0704 - acc: 0.9809\n",
      "Epoch 39/100\n",
      "244/244 [==============================] - 2s 10ms/step - loss: 0.0682 - acc: 0.9834\n",
      "Epoch 40/100\n",
      "244/244 [==============================] - 2s 10ms/step - loss: 0.0655 - acc: 0.9839\n",
      "Epoch 41/100\n",
      "244/244 [==============================] - 2s 10ms/step - loss: 0.0637 - acc: 0.9842\n",
      "Epoch 42/100\n",
      "244/244 [==============================] - 2s 10ms/step - loss: 0.0622 - acc: 0.9841\n",
      "Epoch 43/100\n",
      "244/244 [==============================] - 2s 10ms/step - loss: 0.0600 - acc: 0.9851\n",
      "Epoch 44/100\n",
      "244/244 [==============================] - 2s 10ms/step - loss: 0.0579 - acc: 0.9869\n",
      "Epoch 45/100\n",
      "244/244 [==============================] - 2s 10ms/step - loss: 0.0567 - acc: 0.9858\n",
      "Epoch 46/100\n",
      "244/244 [==============================] - 2s 10ms/step - loss: 0.0547 - acc: 0.9862\n",
      "Epoch 47/100\n",
      "244/244 [==============================] - 2s 10ms/step - loss: 0.0535 - acc: 0.9866\n",
      "Epoch 48/100\n",
      "244/244 [==============================] - 2s 10ms/step - loss: 0.0520 - acc: 0.9874\n",
      "Epoch 49/100\n",
      "244/244 [==============================] - 2s 10ms/step - loss: 0.0502 - acc: 0.9889\n",
      "Epoch 50/100\n",
      "244/244 [==============================] - 2s 10ms/step - loss: 0.0490 - acc: 0.9883\n",
      "Epoch 51/100\n",
      "244/244 [==============================] - 2s 10ms/step - loss: 0.0472 - acc: 0.9889\n",
      "Epoch 52/100\n",
      "244/244 [==============================] - 2s 10ms/step - loss: 0.0462 - acc: 0.9892\n",
      "Epoch 53/100\n",
      "244/244 [==============================] - 2s 10ms/step - loss: 0.0449 - acc: 0.9895\n",
      "Epoch 54/100\n",
      "244/244 [==============================] - 2s 10ms/step - loss: 0.0436 - acc: 0.9914\n",
      "Epoch 55/100\n",
      "244/244 [==============================] - 2s 10ms/step - loss: 0.0423 - acc: 0.9900\n",
      "Epoch 56/100\n",
      "244/244 [==============================] - 2s 10ms/step - loss: 0.0407 - acc: 0.9908\n",
      "Epoch 57/100\n",
      "244/244 [==============================] - 2s 10ms/step - loss: 0.0400 - acc: 0.9913\n",
      "Epoch 58/100\n",
      "244/244 [==============================] - 2s 10ms/step - loss: 0.0388 - acc: 0.9912\n",
      "Epoch 59/100\n",
      "244/244 [==============================] - 2s 10ms/step - loss: 0.0372 - acc: 0.9922\n",
      "Epoch 60/100\n",
      "244/244 [==============================] - 2s 10ms/step - loss: 0.0368 - acc: 0.9926\n",
      "Epoch 61/100\n",
      "244/244 [==============================] - 2s 10ms/step - loss: 0.0355 - acc: 0.9930\n",
      "Epoch 62/100\n",
      "244/244 [==============================] - 2s 10ms/step - loss: 0.0347 - acc: 0.9937\n",
      "Epoch 63/100\n",
      "244/244 [==============================] - 2s 10ms/step - loss: 0.0341 - acc: 0.9932\n",
      "Epoch 64/100\n",
      "244/244 [==============================] - 2s 10ms/step - loss: 0.0329 - acc: 0.9940\n",
      "Epoch 65/100\n",
      "244/244 [==============================] - 2s 10ms/step - loss: 0.0319 - acc: 0.9939\n",
      "Epoch 66/100\n",
      "244/244 [==============================] - 2s 10ms/step - loss: 0.0311 - acc: 0.9950\n",
      "Epoch 67/100\n",
      "244/244 [==============================] - 2s 10ms/step - loss: 0.0310 - acc: 0.9946\n",
      "Epoch 68/100\n",
      "244/244 [==============================] - 2s 10ms/step - loss: 0.0293 - acc: 0.9951\n",
      "Epoch 69/100\n",
      "244/244 [==============================] - 2s 10ms/step - loss: 0.0289 - acc: 0.9946\n",
      "Epoch 70/100\n",
      "244/244 [==============================] - 2s 10ms/step - loss: 0.0281 - acc: 0.9954\n",
      "Epoch 71/100\n",
      "244/244 [==============================] - 2s 10ms/step - loss: 0.0272 - acc: 0.9956\n",
      "Epoch 72/100\n",
      "244/244 [==============================] - 2s 10ms/step - loss: 0.0267 - acc: 0.9959\n",
      "Epoch 73/100\n",
      "244/244 [==============================] - 2s 10ms/step - loss: 0.0259 - acc: 0.9963\n",
      "Epoch 74/100\n",
      "244/244 [==============================] - 2s 10ms/step - loss: 0.0250 - acc: 0.9965\n",
      "Epoch 75/100\n",
      "244/244 [==============================] - 2s 10ms/step - loss: 0.0244 - acc: 0.9965\n",
      "Epoch 76/100\n",
      "244/244 [==============================] - 2s 10ms/step - loss: 0.0245 - acc: 0.9967\n",
      "Epoch 77/100\n",
      "244/244 [==============================] - 2s 10ms/step - loss: 0.0235 - acc: 0.9967\n",
      "Epoch 78/100\n",
      "244/244 [==============================] - 2s 10ms/step - loss: 0.0226 - acc: 0.9974\n",
      "Epoch 79/100\n",
      "244/244 [==============================] - 2s 10ms/step - loss: 0.0221 - acc: 0.9976\n",
      "Epoch 80/100\n",
      "244/244 [==============================] - 2s 10ms/step - loss: 0.0214 - acc: 0.9980\n",
      "Epoch 81/100\n",
      "244/244 [==============================] - 2s 10ms/step - loss: 0.0212 - acc: 0.9978\n",
      "Epoch 82/100\n",
      "244/244 [==============================] - 2s 10ms/step - loss: 0.0203 - acc: 0.9974\n",
      "Epoch 83/100\n",
      "244/244 [==============================] - 2s 10ms/step - loss: 0.0201 - acc: 0.9976\n",
      "Epoch 84/100\n",
      "244/244 [==============================] - 2s 10ms/step - loss: 0.0194 - acc: 0.9981\n",
      "Epoch 85/100\n",
      "244/244 [==============================] - 2s 10ms/step - loss: 0.0190 - acc: 0.9982\n",
      "Epoch 86/100\n",
      "244/244 [==============================] - 2s 10ms/step - loss: 0.0184 - acc: 0.9986\n",
      "Epoch 87/100\n",
      "244/244 [==============================] - 2s 10ms/step - loss: 0.0180 - acc: 0.9987\n",
      "Epoch 88/100\n",
      "244/244 [==============================] - 2s 10ms/step - loss: 0.0177 - acc: 0.9983\n",
      "Epoch 89/100\n",
      "244/244 [==============================] - 2s 10ms/step - loss: 0.0171 - acc: 0.9990\n",
      "Epoch 90/100\n",
      "244/244 [==============================] - 2s 10ms/step - loss: 0.0165 - acc: 0.9990\n",
      "Epoch 91/100\n",
      "244/244 [==============================] - 2s 10ms/step - loss: 0.0161 - acc: 0.9991\n",
      "Epoch 92/100\n",
      "244/244 [==============================] - 2s 10ms/step - loss: 0.0161 - acc: 0.9987\n",
      "Epoch 93/100\n",
      "244/244 [==============================] - 2s 10ms/step - loss: 0.0156 - acc: 0.9991\n",
      "Epoch 94/100\n",
      "244/244 [==============================] - 2s 10ms/step - loss: 0.0151 - acc: 0.9995\n",
      "Epoch 95/100\n",
      "244/244 [==============================] - 2s 10ms/step - loss: 0.0145 - acc: 0.9991\n",
      "Epoch 96/100\n",
      "244/244 [==============================] - 2s 10ms/step - loss: 0.0140 - acc: 0.9991\n",
      "Epoch 97/100\n",
      "244/244 [==============================] - 2s 10ms/step - loss: 0.0140 - acc: 0.9996\n",
      "Epoch 98/100\n",
      "244/244 [==============================] - 2s 10ms/step - loss: 0.0136 - acc: 0.9995\n",
      "Epoch 99/100\n",
      "244/244 [==============================] - 2s 10ms/step - loss: 0.0132 - acc: 0.9992\n",
      "Epoch 100/100\n",
      "244/244 [==============================] - 2s 10ms/step - loss: 0.0129 - acc: 0.9995\n",
      "########################################\n",
      "loss: 0.012950192026199592, acc: 0.9994869821726305\n",
      "########################################\n"
     ]
    }
   ],
   "source": [
    "@inputlayer\n",
    "@outputdense('sigmoid')\n",
    "def double_stranded_model_dnaconv(inputs, inp, oup, params):\n",
    "    \"\"\" keras model for scanning both DNA strands.\n",
    "\n",
    "    A more elegant way of scanning both strands for motif occurrences\n",
    "    is achieved by the DnaConv2D layer wrapper, which internally\n",
    "    performs the convolution operation with the normal kernel weights\n",
    "    and the reverse complemented weights.\n",
    "    \"\"\"\n",
    "    with inputs.use('dna') as layer:\n",
    "        # the name in inputs.use() should be the same as the dataset name.\n",
    "        layer = DnaConv2D(Conv2D(params[0], (params[1], 1),\n",
    "                                 activation=params[2]))(layer)\n",
    "    output = GlobalAveragePooling2D(name='motif')(layer)\n",
    "    return inputs, output\n",
    "\n",
    "\n",
    "# create a new model object\n",
    "model = Janggu.create(template=double_stranded_model_dnaconv,\n",
    "                      modelparams=(30, 21, 'relu'),\n",
    "                      inputs=DNA,\n",
    "                      outputs=ReduceDim(LABELS))\n",
    "\n",
    "model.compile(optimizer='adadelta', loss='binary_crossentropy',\n",
    "              metrics=['acc'])\n",
    "\n",
    "hist = model.fit(DNA, ReduceDim(LABELS), epochs=epochs)\n",
    "\n",
    "print('#' * 40)\n",
    "print('loss: {}, acc: {}'.format(hist.history['loss'][-1],\n",
    "                                 hist.history['acc'][-1]))\n",
    "print('#' * 40)"
   ]
  },
  {
   "cell_type": "markdown",
   "metadata": {},
   "source": [
    "The toy example illustrates a binary classification example composed of Oct4 and Mafk binding sites. \n",
    "The true Oct4 binding sites have been labeled with ones while the Mafk binding sites are labeled zeros."
   ]
  },
  {
   "cell_type": "markdown",
   "metadata": {},
   "source": [
    "For a sanity check we inspect the predicted values for a few data points."
   ]
  },
  {
   "cell_type": "code",
   "execution_count": 6,
   "metadata": {},
   "outputs": [
    {
     "name": "stdout",
     "output_type": "stream",
     "text": [
      "Oct4 predictions scores should be greater than Mafk scores:\n",
      "Prediction score examples for Oct4\n",
      "0.: [[[[0.99882954]]]]\n",
      "1.: [[[[0.9025411]]]]\n",
      "2.: [[[[0.99821955]]]]\n",
      "3.: [[[[0.98289168]]]]\n",
      "Prediction score examples for Mafk\n",
      "1.: [[[[0.59950411]]]]\n",
      "2.: [[[[0.00201734]]]]\n",
      "3.: [[[[0.00082711]]]]\n",
      "4.: [[[[2.10625944e-06]]]]\n"
     ]
    }
   ],
   "source": [
    "pred = model.predict(DNA_TEST)\n",
    "cov_pred = Cover.create_from_array('BindingProba', pred, LABELS_TEST.gindexer)\n",
    "\n",
    "print('Oct4 predictions scores should be greater than Mafk scores:')\n",
    "print('Prediction score examples for Oct4')\n",
    "for i in range(4):\n",
    "    print('{}.: {}'.format(i, cov_pred[i]))\n",
    "print('Prediction score examples for Mafk')\n",
    "for i in range(1, 5):\n",
    "    print('{}.: {}'.format(i, cov_pred[-i]))"
   ]
  },
  {
   "cell_type": "markdown",
   "metadata": {},
   "source": [
    "In order to perform input feature attribution, we utilize the 'input_attribution' method for a genomic region of interest.\n",
    "\n",
    "Underneath, the result is illustrated visually. It highlights an Oct4 binding sites occuring at the left peak."
   ]
  },
  {
   "cell_type": "code",
   "execution_count": 7,
   "metadata": {},
   "outputs": [
    {
     "data": {
      "image/png": "[encoded data removed]",
      "text/plain": [
       "<Figure size 720x360 with 3 Axes>"
      ]
     },
     "execution_count": 7,
     "metadata": {},
     "output_type": "execute_result"
    },
    {
     "data": {
      "image/png": "[encoded data removed]",
      "text/plain": [
       "<Figure size 720x360 with 3 Axes>"
      ]
     },
     "metadata": {},
     "output_type": "display_data"
    }
   ],
   "source": [
    "# Extract the 4th interval to perform input feature importance attribution\n",
    "# which represents an Oct4 bound region\n",
    "gi = DNA.gindexer[3]\n",
    "chrom = gi.chrom\n",
    "start = gi.start\n",
    "end = gi.end\n",
    "attr_oct = input_attribution(model, DNA, chrom=chrom, start=start, end=end)\n",
    "\n",
    "# visualize the important sequence features\n",
    "plotGenomeTrack(SeqTrack(attr_oct[0]), chrom, start, end)"
   ]
  },
  {
   "cell_type": "markdown",
   "metadata": {},
   "source": [
    "By comparison, the input attribution for a Mafk binding sites highlights a Mafk motif in the center."
   ]
  },
  {
   "cell_type": "code",
   "execution_count": 8,
   "metadata": {},
   "outputs": [
    {
     "data": {
      "image/png": "[encoded data removed]",
      "text/plain": [
       "<Figure size 720x360 with 3 Axes>"
      ]
     },
     "execution_count": 8,
     "metadata": {},
     "output_type": "execute_result"
    },
    {
     "data": {
      "image/png": "[encoded data removed]",
      "text/plain": [
       "<Figure size 720x360 with 3 Axes>"
      ]
     },
     "metadata": {},
     "output_type": "display_data"
    }
   ],
   "source": [
    "# For the comparison, extract an interval\n",
    "# representing a Mafk bound region and visualize the\n",
    "# important features.\n",
    "gi = DNA.gindexer[7796]\n",
    "chrom = gi.chrom\n",
    "start = gi.start\n",
    "end = gi.end\n",
    "attr_mafk = input_attribution(model, DNA, chrom=chrom, start=start, end=end)\n",
    "\n",
    "plotGenomeTrack(SeqTrack(attr_mafk[0]), chrom, start, end)"
   ]
  },
  {
   "cell_type": "markdown",
   "metadata": {},
   "source": [
    "In order to perform variant effect prediction, we need the DNA sequence loaded for the whole genome into a Bioseq object and a VCF file containing single nucleotide variant.\n",
    "\n",
    "The result of this analysis is stored in two files: scores.hdf5 and snps.bed.gz."
   ]
  },
  {
   "cell_type": "code",
   "execution_count": 9,
   "metadata": {},
   "outputs": [],
   "source": [
    "# output directory for the variant effect prediction\n",
    "vcfoutput = os.path.join(os.environ['JANGGU_OUTPUT'], 'vcfoutput')\n",
    "os.makedirs(vcfoutput, exist_ok=True)\n",
    "\n",
    "# perform variant effect prediction using Bioseq object and\n",
    "# a VCF file\n",
    "scoresfile, variantsfile = model.predict_variant_effect(DNA,\n",
    "                                                        VCFFILE,\n",
    "                                                        conditions=['feature'],\n",
    "                                                        output_folder=vcfoutput)\n",
    "\n",
    "scoresfile = os.path.join(vcfoutput, 'scores.hdf5')\n",
    "variantsfile = os.path.join(vcfoutput, 'snps.bed.gz')"
   ]
  },
  {
   "cell_type": "markdown",
   "metadata": {},
   "source": [
    "scores.hdf5 contains a variety of scores for each variant. The most important ones are refscore and altscore which are used to derive the score difference and the logoddsscore."
   ]
  },
  {
   "cell_type": "code",
   "execution_count": 10,
   "metadata": {},
   "outputs": [
    {
     "name": "stdout",
     "output_type": "stream",
     "text": [
      "altscore\n",
      "diffscore\n",
      "labels\n",
      "logoddsscore\n",
      "refscore\n"
     ]
    }
   ],
   "source": [
    "# parse the variant effect predictions (difference between\n",
    "# reference and alternative variant) into a Cover object\n",
    "# for the purpose of visualization\n",
    "f = h5py.File(scoresfile, 'r')\n",
    "\n",
    "for name in f:\n",
    "    print(name)\n",
    "    "
   ]
  },
  {
   "cell_type": "markdown",
   "metadata": {},
   "source": [
    "Finally, we can convert the variant predictions (the score differences in this case) along with the genomic context with other genomic tracks."
   ]
  },
  {
   "cell_type": "code",
   "execution_count": 11,
   "metadata": {},
   "outputs": [],
   "source": [
    "gindexer = GenomicIndexer.create_from_file(variantsfile, None, None)\n",
    "\n",
    "snpcov = Cover.create_from_array('snps', f['diffscore'],\n",
    "                                 gindexer,\n",
    "                                 store_whole_genome=True,\n",
    "                                 padding_value=np.nan)"
   ]
  },
  {
   "cell_type": "code",
   "execution_count": 12,
   "metadata": {},
   "outputs": [
    {
     "data": {
      "image/png": "[encoded data removed]",
      "text/plain": [
       "<Figure size 720x360 with 5 Axes>"
      ]
     },
     "execution_count": 12,
     "metadata": {},
     "output_type": "execute_result"
    },
    {
     "data": {
      "image/png": "[encoded data removed]",
      "text/plain": [
       "<Figure size 720x360 with 5 Axes>"
      ]
     },
     "metadata": {},
     "output_type": "display_data"
    }
   ],
   "source": [
    "gi = DNA.gindexer[3]\n",
    "chrom = gi.chrom\n",
    "start = gi.start\n",
    "end = gi.end\n",
    "\n",
    "plotGenomeTrack([LineTrack(snpcov,\n",
    "                           linestyle=\"None\"), SeqTrack(attr_oct[0])],\n",
    "                chrom, start, end)"
   ]
  },
  {
   "cell_type": "markdown",
   "metadata": {},
   "source": [
    "The score difference shows a dip around the site that is indicated as most important from the input attribution as well."
   ]
  },
  {
   "cell_type": "markdown",
   "metadata": {},
   "source": [
    "It is also possible to export the variant effect predictions as bigwig for further explorations in e.g. IGV.\n",
    "To this end, use the `export_to_bigwig` method"
   ]
  },
  {
   "cell_type": "code",
   "execution_count": 13,
   "metadata": {},
   "outputs": [],
   "source": [
    "os.makedirs('./snps', exist_ok=True)\n",
    "snpcov.export_to_bigwig('./snps')"
   ]
  }
 ],
 "metadata": {
  "kernelspec": {
   "display_name": "Python 3",
   "language": "python",
   "name": "python3"
  },
  "language_info": {
   "codemirror_mode": {
    "name": "ipython",
    "version": 3
   },
   "file_extension": ".py",
   "mimetype": "text/x-python",
   "name": "python",
   "nbconvert_exporter": "python",
   "pygments_lexer": "ipython3",
   "version": "3.7.6"
  }
 },
 "nbformat": 4,
 "nbformat_minor": 2
}
