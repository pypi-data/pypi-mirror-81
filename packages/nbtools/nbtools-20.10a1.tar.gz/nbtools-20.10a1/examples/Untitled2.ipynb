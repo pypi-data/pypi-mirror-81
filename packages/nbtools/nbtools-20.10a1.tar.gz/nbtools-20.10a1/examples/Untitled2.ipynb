{
 "cells": [
  {
   "cell_type": "markdown",
   "metadata": {},
   "source": [
    "## Hello"
   ]
  },
  {
   "cell_type": "code",
   "execution_count": 3,
   "metadata": {},
   "outputs": [
    {
     "data": {
      "application/vnd.jupyter.widget-view+json": {
       "model_id": "98b2df4f4a3442fca926ec71a75830fe",
       "version_major": 2,
       "version_minor": 0
      },
      "text/plain": [
       "GPAuthWidget(buttons={'Register an Account': \"\\n    const target = event.target;\\n    const widget = target.cl…"
      ]
     },
     "metadata": {},
     "output_type": "display_data"
    },
    {
     "data": {
      "application/vnd.jupyter.widget-view+json": {
       "model_id": "992102817b6b4a96a829bcffc1de35b1",
       "version_major": 2,
       "version_minor": 0
      },
      "text/plain": [
       "Output()"
      ]
     },
     "metadata": {},
     "output_type": "display_data"
    }
   ],
   "source": [
    "import nbtools\n",
    "\n",
    "nbtools.tool(id='authentication', origin='+')"
   ]
  },
  {
   "cell_type": "code",
   "execution_count": null,
   "metadata": {},
   "outputs": [],
   "source": []
  }
 ],
 "metadata": {
  "kernelspec": {
   "display_name": "Python 3",
   "language": "python",
   "name": "python3"
  },
  "language_info": {
   "codemirror_mode": {
    "name": "ipython",
    "version": 3
   },
   "file_extension": ".py",
   "mimetype": "text/x-python",
   "name": "python",
   "nbconvert_exporter": "python",
   "pygments_lexer": "ipython3",
   "version": "3.7.6"
  },
  "widgets": {
   "application/vnd.jupyter.widget-state+json": {
    "state": {
     "0209f05edbe645b48460d853ee707e3b": {
      "model_module": "@jupyter-widgets/controls",
      "model_module_version": "1.5.0",
      "model_name": "DescriptionStyleModel",
      "state": {
       "description_width": ""
      }
     },
     "02f3e71e8bc24b93aef2cdc6ed3745a8": {
      "model_module": "@jupyter-widgets/controls",
      "model_module_version": "1.5.0",
      "model_name": "LabelModel",
      "state": {
       "description": "output variable",
       "layout": "IPY_MODEL_eb6925615ff3487aacb327aa488ef40e",
       "style": "IPY_MODEL_cde4f3905d744180aedeb23e8d67cf00",
       "value": "output variable"
      }
     },
     "0ade1616a3a4469fbb891357064e9ec1": {
      "model_module": "@jupyter-widgets/controls",
      "model_module_version": "1.5.0",
      "model_name": "DescriptionStyleModel",
      "state": {
       "description_width": ""
      }
     },
     "0afb6f4a57144d518da6a40e99efa6c6": {
      "model_module": "@jupyter-widgets/controls",
      "model_module_version": "1.5.0",
      "model_name": "TextModel",
      "state": {
       "_dom_classes": [
        "nbtools-menu-attached"
       ],
       "layout": "IPY_MODEL_75a3ffc894e341d0bcac20b19b95862f",
       "style": "IPY_MODEL_76381d26192b46f0b076cb70d484c7d4"
      }
     },
     "0b9faf89e0d84cb1b1487a8624fc6c13": {
      "model_module": "@jupyter-widgets/controls",
      "model_module_version": "1.5.0",
      "model_name": "DescriptionStyleModel",
      "state": {
       "description_width": ""
      }
     },
     "1152e559453d43eebe671cdfbc4a07e2": {
      "model_module": "@jupyter-widgets/controls",
      "model_module_version": "1.5.0",
      "model_name": "DescriptionStyleModel",
      "state": {
       "description_width": ""
      }
     },
     "118c73faa4de4c33b264b2d52cd379ef": {
      "model_module": "@jupyter-widgets/controls",
      "model_module_version": "1.5.0",
      "model_name": "DescriptionStyleModel",
      "state": {
       "description_width": ""
      }
     },
     "1523a8f661bb4beca68eec981d5acf5a": {
      "model_module": "@jupyter-widgets/controls",
      "model_module_version": "1.5.0",
      "model_name": "DescriptionStyleModel",
      "state": {
       "description_width": ""
      }
     },
     "159d30ffb73947d095a486c425dd71fd": {
      "model_module": "@jupyter-widgets/base",
      "model_module_version": "1.2.0",
      "model_name": "LayoutModel",
      "state": {
       "grid_area": "label",
       "width": "auto"
      }
     },
     "185880b6588b4f029be0397402d27d96": {
      "model_module": "@jupyter-widgets/controls",
      "model_module_version": "1.5.0",
      "model_name": "LabelModel",
      "state": {
       "layout": "IPY_MODEL_208010ee9394423da13458e46ea8b599",
       "style": "IPY_MODEL_0209f05edbe645b48460d853ee707e3b"
      }
     },
     "18e3033234a1437fb0af051dc2f94f4a": {
      "model_module": "@jupyter-widgets/controls",
      "model_module_version": "1.5.0",
      "model_name": "ButtonModel",
      "state": {
       "_dom_classes": [
        "hidden"
       ],
       "description": "Run",
       "layout": "IPY_MODEL_a6ce4d3379e44e608c34f725ff3d03ae",
       "style": "IPY_MODEL_a3203c983be8493d9ad7fef79a0994f8"
      }
     },
     "199c7a54b22d4249ad88e3da0029053a": {
      "model_module": "@jupyter-widgets/base",
      "model_module_version": "1.2.0",
      "model_name": "LayoutModel",
      "state": {
       "grid_template_areas": "\n                    \"label input\"\n                    \". description\"\n                ",
       "grid_template_columns": "25% 75%",
       "grid_template_rows": "auto auto",
       "width": "100%"
      }
     },
     "1e98172eaccf4978b61479644542bc8c": {
      "model_module": "@jupyter-widgets/controls",
      "model_module_version": "1.5.0",
      "model_name": "DescriptionStyleModel",
      "state": {
       "description_width": ""
      }
     },
     "208010ee9394423da13458e46ea8b599": {
      "model_module": "@jupyter-widgets/base",
      "model_module_version": "1.2.0",
      "model_name": "LayoutModel",
      "state": {
       "grid_area": "description",
       "width": "auto"
      }
     },
     "231ed6e8ca574d9a8a390cd7d9bd7ed3": {
      "model_module": "@jupyter-widgets/base",
      "model_module_version": "1.2.0",
      "model_name": "LayoutModel",
      "state": {
       "grid_area": "input",
       "width": "auto"
      }
     },
     "23b1cb3e30a74732b8520ae900802644": {
      "model_module": "@jupyter-widgets/base",
      "model_module_version": "1.2.0",
      "model_name": "LayoutModel",
      "state": {
       "grid_area": "description",
       "width": "auto"
      }
     },
     "23e592be64ef4dce97fd82b323026e9d": {
      "model_module": "@jupyter-widgets/controls",
      "model_module_version": "1.5.0",
      "model_name": "DescriptionStyleModel",
      "state": {
       "description_width": ""
      }
     },
     "2472bb8907564a91801fd74c73e37b51": {
      "model_module": "@jupyter-widgets/controls",
      "model_module_version": "1.5.0",
      "model_name": "TextModel",
      "state": {
       "_dom_classes": [
        "nbtools-menu-attached"
       ],
       "layout": "IPY_MODEL_a3fa2456637d4761bca06a2d171016e3",
       "style": "IPY_MODEL_49f1bf28d36a4b168c2a153447f609d0"
      }
     },
     "24c2c98941fb439ea3e458a92ce4b621": {
      "model_module": "@jupyter-widgets/controls",
      "model_module_version": "1.5.0",
      "model_name": "DescriptionStyleModel",
      "state": {
       "description_width": ""
      }
     },
     "24d1b8f599bf4d48a53e0562801fd0cb": {
      "model_module": "@jupyter-widgets/controls",
      "model_module_version": "1.5.0",
      "model_name": "LabelModel",
      "state": {
       "description": "output variable",
       "layout": "IPY_MODEL_68194039759b4c7d89878dd455b3c0e5",
       "style": "IPY_MODEL_43324530f8c44f0f9039047bde974ca2",
       "value": "output variable"
      }
     },
     "27187fd7cbe14113951188f4fc4c3c61": {
      "model_module": "@jupyter-widgets/base",
      "model_module_version": "1.2.0",
      "model_name": "LayoutModel",
      "state": {
       "grid_area": "input",
       "width": "auto"
      }
     },
     "2754ff2a514141358b9d5287f9753a13": {
      "model_module": "@jupyter-widgets/controls",
      "model_module_version": "1.5.0",
      "model_name": "GridBoxModel",
      "state": {
       "_dom_classes": [
        "nbtools-input",
        "nbtools-textinput",
        "required"
       ],
       "children": [
        "IPY_MODEL_e9c2040d50d5493193a198c5ad8b19c3",
        "IPY_MODEL_b257b4f75b6a46f1892a981de075b875",
        "IPY_MODEL_37e619bc751f4f99a4c372b57062ba9e"
       ],
       "layout": "IPY_MODEL_566b4a990e1747d1a761f0f74383c448"
      }
     },
     "29031c7840a642ddaa318032c0954d75": {
      "model_module": "@jupyter-widgets/controls",
      "model_module_version": "1.5.0",
      "model_name": "DescriptionStyleModel",
      "state": {
       "description_width": ""
      }
     },
     "29e8eeb81e6d47e2bf0e8a00b84ffecc": {
      "model_module": "@jupyter-widgets/base",
      "model_module_version": "1.2.0",
      "model_name": "LayoutModel",
      "state": {
       "grid_area": "label",
       "width": "auto"
      }
     },
     "2d753e65eca94cc59306d88b34e84a07": {
      "model_module": "@jupyter-widgets/base",
      "model_module_version": "1.2.0",
      "model_name": "LayoutModel",
      "state": {
       "grid_template_areas": "\n                    \"label input\"\n                    \". description\"\n                ",
       "grid_template_columns": "25% 75%",
       "grid_template_rows": "auto auto",
       "width": "100%"
      }
     },
     "2de53051c0034098b1e81159360841fd": {
      "model_module": "@jupyter-widgets/base",
      "model_module_version": "1.2.0",
      "model_name": "LayoutModel",
      "state": {
       "grid_area": "input",
       "width": "auto"
      }
     },
     "2e56c088d1c546c282835a32cfe9aa3a": {
      "model_module": "@jupyter-widgets/base",
      "model_module_version": "1.2.0",
      "model_name": "LayoutModel",
      "state": {}
     },
     "2f1321d6e6744bedbf89848c7b70ccc4": {
      "model_module": "@jupyter-widgets/controls",
      "model_module_version": "1.5.0",
      "model_name": "LabelModel",
      "state": {
       "layout": "IPY_MODEL_23b1cb3e30a74732b8520ae900802644",
       "style": "IPY_MODEL_999d29f1e82b462780e55d17d8373907"
      }
     },
     "31ae0cd1cdf54f9283f5ae9b44f2ea6d": {
      "model_module": "@jupyter-widgets/base",
      "model_module_version": "1.2.0",
      "model_name": "LayoutModel",
      "state": {}
     },
     "348bee7edbb44d13b9da209815fc5e19": {
      "model_module": "@jupyter-widgets/controls",
      "model_module_version": "1.5.0",
      "model_name": "ButtonStyleModel",
      "state": {}
     },
     "37e619bc751f4f99a4c372b57062ba9e": {
      "model_module": "@jupyter-widgets/controls",
      "model_module_version": "1.5.0",
      "model_name": "LabelModel",
      "state": {
       "layout": "IPY_MODEL_505a4fb128c746fe9dd92cb094abe062",
       "style": "IPY_MODEL_24c2c98941fb439ea3e458a92ce4b621"
      }
     },
     "3a53c61f973f4f028a2e29acab546326": {
      "model_module": "@jupyter-widgets/controls",
      "model_module_version": "1.5.0",
      "model_name": "LabelModel",
      "state": {
       "description": "output variable",
       "layout": "IPY_MODEL_5be5fdc25aa44cf99535159d0c127e30",
       "style": "IPY_MODEL_561fa133096b46e9901421a4f75ef1c5",
       "value": "output variable"
      }
     },
     "3a5897e6db6a43a3823d12a159460baa": {
      "model_module": "@jupyter-widgets/controls",
      "model_module_version": "1.5.0",
      "model_name": "LabelModel",
      "state": {
       "layout": "IPY_MODEL_51a832e03a854f3a968ad9389c892348",
       "style": "IPY_MODEL_1523a8f661bb4beca68eec981d5acf5a"
      }
     },
     "3b0e4753dac7431192fb2b1154e50330": {
      "model_module": "@jupyter-widgets/controls",
      "model_module_version": "1.5.0",
      "model_name": "GridBoxModel",
      "state": {
       "_dom_classes": [
        "nbtools-input",
        "nbtools-comboinput",
        "required"
       ],
       "children": [
        "IPY_MODEL_d33df9676b75452abf19dadb9078ba53",
        "IPY_MODEL_a4534257c61b443ba13af6b7e1462749",
        "IPY_MODEL_d09d53362bd34ad98b9320065481c819"
       ],
       "layout": "IPY_MODEL_2d753e65eca94cc59306d88b34e84a07"
      }
     },
     "3b1369f68e8f45be9ef29d511db61bd8": {
      "model_module": "@jupyter-widgets/controls",
      "model_module_version": "1.5.0",
      "model_name": "VBoxModel",
      "state": {
       "_dom_classes": [
        "widget-interact"
       ],
       "children": [
        "IPY_MODEL_18e3033234a1437fb0af051dc2f94f4a",
        "IPY_MODEL_ad977f7a03a143dba356945d20fabfde"
       ],
       "layout": "IPY_MODEL_31ae0cd1cdf54f9283f5ae9b44f2ea6d"
      }
     },
     "3b27bea987ca457e853229f022259e5d": {
      "model_module": "@jupyter-widgets/controls",
      "model_module_version": "1.5.0",
      "model_name": "LabelModel",
      "state": {
       "layout": "IPY_MODEL_be4850e02039479a8f426e5ff84180de",
       "style": "IPY_MODEL_5c6e5410699a4571b4c6c8a41f3da511"
      }
     },
     "3d49aa70025d49daa668e64de7d4ca0a": {
      "model_module": "@jupyter-widgets/controls",
      "model_module_version": "1.5.0",
      "model_name": "VBoxModel",
      "state": {
       "_dom_classes": [
        "widget-interact"
       ],
       "children": [
        "IPY_MODEL_bcd8784d5b804ac0b09b09a6d48fe431",
        "IPY_MODEL_d6e72ca34029426bbdc9fa0b40c41f7e",
        "IPY_MODEL_9ee1599f8e8745c38859aa4640e576f7",
        "IPY_MODEL_96237398eb9d4210a88a794a07003d2c",
        "IPY_MODEL_7acbc5b93827489b97c2b1c09a298925"
       ],
       "layout": "IPY_MODEL_98a0a435d6314c6c995690e133b31679"
      }
     },
     "3e82f6a357f34877b24341aaaf51e1fd": {
      "model_module": "@jupyter-widgets/base",
      "model_module_version": "1.2.0",
      "model_name": "LayoutModel",
      "state": {
       "display": "none",
       "grid_template_areas": "\n                    \"label input\"\n                    \". description\"\n                ",
       "grid_template_columns": "25% 75%",
       "grid_template_rows": "auto auto",
       "width": "100%"
      }
     },
     "41d2089eeb744fa6b98fbbaffc802ba2": {
      "model_module": "@jupyter-widgets/output",
      "model_module_version": "1.0.0",
      "model_name": "OutputModel",
      "state": {
       "layout": "IPY_MODEL_c9c98b8c1ad1401c93893a4fcdb67cbc"
      }
     },
     "43324530f8c44f0f9039047bde974ca2": {
      "model_module": "@jupyter-widgets/controls",
      "model_module_version": "1.5.0",
      "model_name": "DescriptionStyleModel",
      "state": {
       "description_width": ""
      }
     },
     "49f1bf28d36a4b168c2a153447f609d0": {
      "model_module": "@jupyter-widgets/controls",
      "model_module_version": "1.5.0",
      "model_name": "DescriptionStyleModel",
      "state": {
       "description_width": ""
      }
     },
     "4b8ac4054dc04225bc9d13ee55cb9a9d": {
      "model_module": "@jupyter-widgets/controls",
      "model_module_version": "1.5.0",
      "model_name": "ButtonStyleModel",
      "state": {}
     },
     "4fdeba527c4441388ad390ec7454fe01": {
      "model_module": "@jupyter-widgets/base",
      "model_module_version": "1.2.0",
      "model_name": "LayoutModel",
      "state": {
       "grid_area": "input",
       "width": "auto"
      }
     },
     "5048672f60624a18b68ba44f56de0ea8": {
      "model_module": "@jupyter-widgets/base",
      "model_module_version": "1.2.0",
      "model_name": "LayoutModel",
      "state": {
       "grid_template_areas": "\n                    \"label input\"\n                    \". description\"\n                ",
       "grid_template_columns": "25% 75%",
       "grid_template_rows": "auto auto",
       "width": "100%"
      }
     },
     "505a4fb128c746fe9dd92cb094abe062": {
      "model_module": "@jupyter-widgets/base",
      "model_module_version": "1.2.0",
      "model_name": "LayoutModel",
      "state": {
       "grid_area": "description",
       "width": "auto"
      }
     },
     "51a832e03a854f3a968ad9389c892348": {
      "model_module": "@jupyter-widgets/base",
      "model_module_version": "1.2.0",
      "model_name": "LayoutModel",
      "state": {
       "grid_area": "description",
       "width": "auto"
      }
     },
     "547468810988412191f71f3cd1c1ae58": {
      "model_module": "@jupyter-widgets/base",
      "model_module_version": "1.2.0",
      "model_name": "LayoutModel",
      "state": {
       "grid_template_areas": "\n                    \"label input\"\n                    \". description\"\n                ",
       "grid_template_columns": "25% 75%",
       "grid_template_rows": "auto auto",
       "width": "100%"
      }
     },
     "5532579cf4d94881820e715cf6e1f447": {
      "model_module": "@jupyter-widgets/controls",
      "model_module_version": "1.5.0",
      "model_name": "TextModel",
      "state": {
       "_dom_classes": [
        "nbtools-menu-attached"
       ],
       "layout": "IPY_MODEL_4fdeba527c4441388ad390ec7454fe01",
       "style": "IPY_MODEL_60f8d221533041318cd0a947f8c0ac75"
      }
     },
     "561fa133096b46e9901421a4f75ef1c5": {
      "model_module": "@jupyter-widgets/controls",
      "model_module_version": "1.5.0",
      "model_name": "DescriptionStyleModel",
      "state": {
       "description_width": ""
      }
     },
     "566b4a990e1747d1a761f0f74383c448": {
      "model_module": "@jupyter-widgets/base",
      "model_module_version": "1.2.0",
      "model_name": "LayoutModel",
      "state": {
       "grid_template_areas": "\n                    \"label input\"\n                    \". description\"\n                ",
       "grid_template_columns": "25% 75%",
       "grid_template_rows": "auto auto",
       "width": "100%"
      }
     },
     "5b9cf9f9c0244327aba0e55349a02043": {
      "model_module": "@jupyter-widgets/controls",
      "model_module_version": "1.5.0",
      "model_name": "DescriptionStyleModel",
      "state": {
       "description_width": ""
      }
     },
     "5be5fdc25aa44cf99535159d0c127e30": {
      "model_module": "@jupyter-widgets/base",
      "model_module_version": "1.2.0",
      "model_name": "LayoutModel",
      "state": {
       "grid_area": "label",
       "width": "auto"
      }
     },
     "5c6e5410699a4571b4c6c8a41f3da511": {
      "model_module": "@jupyter-widgets/controls",
      "model_module_version": "1.5.0",
      "model_name": "DescriptionStyleModel",
      "state": {
       "description_width": ""
      }
     },
     "5d12dd51218d46af9b74b5ed90588da6": {
      "model_module": "@jupyter-widgets/base",
      "model_module_version": "1.2.0",
      "model_name": "LayoutModel",
      "state": {}
     },
     "5d4646ba06bc485286c861031e7a7409": {
      "model_module": "@jupyter-widgets/base",
      "model_module_version": "1.2.0",
      "model_name": "LayoutModel",
      "state": {
       "grid_area": "label",
       "width": "auto"
      }
     },
     "5fff5b073cc64b85aa84c0e6a917d035": {
      "model_module": "@jupyter-widgets/base",
      "model_module_version": "1.2.0",
      "model_name": "LayoutModel",
      "state": {
       "display": "none",
       "grid_template_areas": "\n                    \"label input\"\n                    \". description\"\n                ",
       "grid_template_columns": "25% 75%",
       "grid_template_rows": "auto auto",
       "width": "100%"
      }
     },
     "60793701acc245beb78177b12dd62fb0": {
      "model_module": "@jupyter-widgets/controls",
      "model_module_version": "1.5.0",
      "model_name": "ButtonModel",
      "state": {
       "_dom_classes": [
        "hidden"
       ],
       "description": "Run",
       "layout": "IPY_MODEL_955608e9fc5b496585d31baa674d1a9c",
       "style": "IPY_MODEL_becbff440f1b4a94a52114b5093acc48"
      }
     },
     "60f8d221533041318cd0a947f8c0ac75": {
      "model_module": "@jupyter-widgets/controls",
      "model_module_version": "1.5.0",
      "model_name": "DescriptionStyleModel",
      "state": {
       "description_width": ""
      }
     },
     "617b7bba74b24a1dbbaf4bdeec9bd21e": {
      "model_module": "@jupyter-widgets/controls",
      "model_module_version": "1.5.0",
      "model_name": "LabelModel",
      "state": {
       "description": "Password",
       "layout": "IPY_MODEL_8dee6a9d9a584bb6ac1515307d61087e",
       "style": "IPY_MODEL_0ade1616a3a4469fbb891357064e9ec1",
       "value": "Password*"
      }
     },
     "64e197d3689346809e7fa069a0f4afb6": {
      "model_module": "@jupyter-widgets/base",
      "model_module_version": "1.2.0",
      "model_name": "LayoutModel",
      "state": {}
     },
     "68194039759b4c7d89878dd455b3c0e5": {
      "model_module": "@jupyter-widgets/base",
      "model_module_version": "1.2.0",
      "model_name": "LayoutModel",
      "state": {
       "grid_area": "label",
       "width": "auto"
      }
     },
     "6eeb9dd987744b7989065e47dbc23224": {
      "model_module": "@jupyter-widgets/controls",
      "model_module_version": "1.5.0",
      "model_name": "LabelModel",
      "state": {
       "layout": "IPY_MODEL_b3447e4c673c451baa915d4ea3a90d9e",
       "style": "IPY_MODEL_0b9faf89e0d84cb1b1487a8624fc6c13"
      }
     },
     "7519cd656bf94f61aa3258ee41bc5ed2": {
      "model_module": "@jupyter-widgets/base",
      "model_module_version": "1.2.0",
      "model_name": "LayoutModel",
      "state": {
       "grid_area": "label",
       "width": "auto"
      }
     },
     "75a3ffc894e341d0bcac20b19b95862f": {
      "model_module": "@jupyter-widgets/base",
      "model_module_version": "1.2.0",
      "model_name": "LayoutModel",
      "state": {
       "grid_area": "input",
       "width": "auto"
      }
     },
     "761f3635570345d0afe98c4c648eac51": {
      "model_module": "@jupyter-widgets/controls",
      "model_module_version": "1.5.0",
      "model_name": "PasswordModel",
      "state": {
       "layout": "IPY_MODEL_922f34a740724228b6b26df14b0acba9",
       "style": "IPY_MODEL_860cf810259647178049bab5f6edf6b2"
      }
     },
     "76381d26192b46f0b076cb70d484c7d4": {
      "model_module": "@jupyter-widgets/controls",
      "model_module_version": "1.5.0",
      "model_name": "DescriptionStyleModel",
      "state": {
       "description_width": ""
      }
     },
     "763db5dfaae0495ab1dcf76d12501da0": {
      "model_module": "@jupyter-widgets/output",
      "model_module_version": "1.0.0",
      "model_name": "OutputModel",
      "state": {
       "layout": "IPY_MODEL_d7c5c863e45346d0a569cc56ad4b78cf"
      }
     },
     "7acbc5b93827489b97c2b1c09a298925": {
      "model_module": "@jupyter-widgets/controls",
      "model_module_version": "1.5.0",
      "model_name": "GridBoxModel",
      "state": {
       "_dom_classes": [
        "nbtools-input",
        "nbtools-textinput"
       ],
       "children": [
        "IPY_MODEL_3a53c61f973f4f028a2e29acab546326",
        "IPY_MODEL_5532579cf4d94881820e715cf6e1f447",
        "IPY_MODEL_185880b6588b4f029be0397402d27d96"
       ],
       "layout": "IPY_MODEL_5fff5b073cc64b85aa84c0e6a917d035"
      }
     },
     "7de22ae278db4a7799f2bcb7da891912": {
      "model_module": "@jupyter-widgets/base",
      "model_module_version": "1.2.0",
      "model_name": "LayoutModel",
      "state": {
       "display": "none",
       "grid_template_areas": "\n                    \"label input\"\n                    \". description\"\n                ",
       "grid_template_columns": "25% 75%",
       "grid_template_rows": "auto auto",
       "width": "100%"
      }
     },
     "8352eb0a50d24c16b7712d73d5e27b5f": {
      "model_module": "@jupyter-widgets/controls",
      "model_module_version": "1.5.0",
      "model_name": "GridBoxModel",
      "state": {
       "_dom_classes": [
        "nbtools-input",
        "nbtools-textinput"
       ],
       "children": [
        "IPY_MODEL_02f3e71e8bc24b93aef2cdc6ed3745a8",
        "IPY_MODEL_a4a4f14686214a978fe74d1db8c11342",
        "IPY_MODEL_6eeb9dd987744b7989065e47dbc23224"
       ],
       "layout": "IPY_MODEL_9ea90990e61f4356a30a0fd3286e065d"
      }
     },
     "852c3599c4234dbfb4f49ad0106808d0": {
      "model_module": "@jupyter-widgets/base",
      "model_module_version": "1.2.0",
      "model_name": "LayoutModel",
      "state": {
       "grid_area": "description",
       "width": "auto"
      }
     },
     "860cf810259647178049bab5f6edf6b2": {
      "model_module": "@jupyter-widgets/controls",
      "model_module_version": "1.5.0",
      "model_name": "DescriptionStyleModel",
      "state": {
       "description_width": ""
      }
     },
     "86d1dafc07064b2d83506af17a59ce68": {
      "model_module": "@jupyter-widgets/controls",
      "model_module_version": "1.5.0",
      "model_name": "LabelModel",
      "state": {
       "description": "GenePattern Server",
       "layout": "IPY_MODEL_7519cd656bf94f61aa3258ee41bc5ed2",
       "style": "IPY_MODEL_f57461e12ede47e8a24b2ab961c7908b",
       "value": "GenePattern Server*"
      }
     },
     "890a8ab2e21d4ae690e64021f988d769": {
      "model_module": "@jupyter-widgets/controls",
      "model_module_version": "1.5.0",
      "model_name": "DescriptionStyleModel",
      "state": {
       "description_width": ""
      }
     },
     "8a3e3e82dc024ed0a4db91bb98eb029b": {
      "model_module": "@jupyter-widgets/controls",
      "model_module_version": "1.5.0",
      "model_name": "DescriptionStyleModel",
      "state": {
       "description_width": ""
      }
     },
     "8d242cc0ae0742299213a9ff56493ce2": {
      "model_module": "@jupyter-widgets/base",
      "model_module_version": "1.2.0",
      "model_name": "LayoutModel",
      "state": {
       "grid_area": "description",
       "width": "auto"
      }
     },
     "8dee6a9d9a584bb6ac1515307d61087e": {
      "model_module": "@jupyter-widgets/base",
      "model_module_version": "1.2.0",
      "model_name": "LayoutModel",
      "state": {
       "grid_area": "label",
       "width": "auto"
      }
     },
     "8e129fdc9e6b4777972cf5c67c9a756f": {
      "model_module": "@jupyter-widgets/base",
      "model_module_version": "1.2.0",
      "model_name": "LayoutModel",
      "state": {}
     },
     "922f34a740724228b6b26df14b0acba9": {
      "model_module": "@jupyter-widgets/base",
      "model_module_version": "1.2.0",
      "model_name": "LayoutModel",
      "state": {
       "grid_area": "input",
       "width": "auto"
      }
     },
     "929b30dbad1344b6b025fc60ce499546": {
      "model_module": "@jupyter-widgets/base",
      "model_module_version": "1.2.0",
      "model_name": "LayoutModel",
      "state": {
       "grid_area": "label",
       "width": "auto"
      }
     },
     "955608e9fc5b496585d31baa674d1a9c": {
      "model_module": "@jupyter-widgets/base",
      "model_module_version": "1.2.0",
      "model_name": "LayoutModel",
      "state": {}
     },
     "96237398eb9d4210a88a794a07003d2c": {
      "model_module": "@jupyter-widgets/controls",
      "model_module_version": "1.5.0",
      "model_name": "ButtonModel",
      "state": {
       "_dom_classes": [
        "hidden"
       ],
       "description": "Run",
       "layout": "IPY_MODEL_b0d455731af0435f8edd77a406a134d2",
       "style": "IPY_MODEL_4b8ac4054dc04225bc9d13ee55cb9a9d"
      }
     },
     "98a0a435d6314c6c995690e133b31679": {
      "model_module": "@jupyter-widgets/base",
      "model_module_version": "1.2.0",
      "model_name": "LayoutModel",
      "state": {}
     },
     "992102817b6b4a96a829bcffc1de35b1": {
      "model_module": "@jupyter-widgets/output",
      "model_module_version": "1.0.0",
      "model_name": "OutputModel",
      "state": {
       "layout": "IPY_MODEL_64e197d3689346809e7fa069a0f4afb6"
      }
     },
     "999d29f1e82b462780e55d17d8373907": {
      "model_module": "@jupyter-widgets/controls",
      "model_module_version": "1.5.0",
      "model_name": "DescriptionStyleModel",
      "state": {
       "description_width": ""
      }
     },
     "9bb298578ccf4a45b732a7e08842ef1c": {
      "model_module": "@jupyter-widgets/base",
      "model_module_version": "1.2.0",
      "model_name": "LayoutModel",
      "state": {
       "grid_area": "input",
       "width": "auto"
      }
     },
     "9da39fcdc204401b8c9bb4929c5cda6c": {
      "model_module": "@jupyter-widgets/controls",
      "model_module_version": "1.5.0",
      "model_name": "GridBoxModel",
      "state": {
       "_dom_classes": [
        "nbtools-input",
        "nbtools-textinput"
       ],
       "children": [
        "IPY_MODEL_b3cc9ab777e849b7956042faa6811aed",
        "IPY_MODEL_b54cf1f4aa114adcae2417f4ed1701ee",
        "IPY_MODEL_3b27bea987ca457e853229f022259e5d"
       ],
       "layout": "IPY_MODEL_3e82f6a357f34877b24341aaaf51e1fd"
      }
     },
     "9e6fef36bd3a4ac08b20cc89158930ca": {
      "model_module": "@jupyter-widgets/controls",
      "model_module_version": "1.5.0",
      "model_name": "VBoxModel",
      "state": {
       "_dom_classes": [
        "widget-interact"
       ],
       "children": [
        "IPY_MODEL_60793701acc245beb78177b12dd62fb0",
        "IPY_MODEL_763db5dfaae0495ab1dcf76d12501da0"
       ],
       "layout": "IPY_MODEL_e22c24ffac764e7797d6d7cbd9ad0835"
      }
     },
     "9ea90990e61f4356a30a0fd3286e065d": {
      "model_module": "@jupyter-widgets/base",
      "model_module_version": "1.2.0",
      "model_name": "LayoutModel",
      "state": {
       "display": "none",
       "grid_template_areas": "\n                    \"label input\"\n                    \". description\"\n                ",
       "grid_template_columns": "25% 75%",
       "grid_template_rows": "auto auto",
       "width": "100%"
      }
     },
     "9eb1895330634adb893990b69e3c7dee": {
      "model_module": "@jupyter-widgets/controls",
      "model_module_version": "1.5.0",
      "model_name": "PasswordModel",
      "state": {
       "layout": "IPY_MODEL_231ed6e8ca574d9a8a390cd7d9bd7ed3",
       "style": "IPY_MODEL_118c73faa4de4c33b264b2d52cd379ef"
      }
     },
     "9ee1599f8e8745c38859aa4640e576f7": {
      "model_module": "@jupyter-widgets/controls",
      "model_module_version": "1.5.0",
      "model_name": "GridBoxModel",
      "state": {
       "_dom_classes": [
        "nbtools-input",
        "nbtools-passwordinput",
        "required"
       ],
       "children": [
        "IPY_MODEL_617b7bba74b24a1dbbaf4bdeec9bd21e",
        "IPY_MODEL_9eb1895330634adb893990b69e3c7dee",
        "IPY_MODEL_2f1321d6e6744bedbf89848c7b70ccc4"
       ],
       "layout": "IPY_MODEL_f016d01d1fa04f4e926d1dcbf4404abb"
      }
     },
     "a10bea270d0b4e79af18d168da8c7600": {
      "model_module": "@jupyter-widgets/controls",
      "model_module_version": "1.5.0",
      "model_name": "GridBoxModel",
      "state": {
       "_dom_classes": [
        "nbtools-input",
        "nbtools-textinput"
       ],
       "children": [
        "IPY_MODEL_24d1b8f599bf4d48a53e0562801fd0cb",
        "IPY_MODEL_2472bb8907564a91801fd74c73e37b51",
        "IPY_MODEL_ce37825d2f0b4803bbf299f5684acd7a"
       ],
       "layout": "IPY_MODEL_7de22ae278db4a7799f2bcb7da891912"
      }
     },
     "a3203c983be8493d9ad7fef79a0994f8": {
      "model_module": "@jupyter-widgets/controls",
      "model_module_version": "1.5.0",
      "model_name": "ButtonStyleModel",
      "state": {}
     },
     "a3fa2456637d4761bca06a2d171016e3": {
      "model_module": "@jupyter-widgets/base",
      "model_module_version": "1.2.0",
      "model_name": "LayoutModel",
      "state": {
       "grid_area": "input",
       "width": "auto"
      }
     },
     "a4534257c61b443ba13af6b7e1462749": {
      "model_module": "@jupyter-widgets/controls",
      "model_module_version": "1.5.0",
      "model_name": "ComboboxModel",
      "state": {
       "_dom_classes": [
        "nbtools-menu-attached",
        "nbtools-nosendto"
       ],
       "choices": {
        "Broad Internal": "https://gpbroad.broadinstitute.org/gp",
        "GenePattern Cloud": "https://cloud.genepattern.org/gp",
        "Indiana University": "https://gp.indiana.edu/gp"
       },
       "ensure_option": false,
       "kinds": [],
       "layout": "IPY_MODEL_9bb298578ccf4a45b732a7e08842ef1c",
       "style": "IPY_MODEL_5b9cf9f9c0244327aba0e55349a02043",
       "value": "https://cloud.genepattern.org/gp"
      }
     },
     "a4a4f14686214a978fe74d1db8c11342": {
      "model_module": "@jupyter-widgets/controls",
      "model_module_version": "1.5.0",
      "model_name": "TextModel",
      "state": {
       "_dom_classes": [
        "nbtools-menu-attached"
       ],
       "layout": "IPY_MODEL_ba18af0082c54369b58c27b4b6d7757e",
       "style": "IPY_MODEL_23e592be64ef4dce97fd82b323026e9d"
      }
     },
     "a6ce4d3379e44e608c34f725ff3d03ae": {
      "model_module": "@jupyter-widgets/base",
      "model_module_version": "1.2.0",
      "model_name": "LayoutModel",
      "state": {}
     },
     "ad15d214854646a588414ff570b8ce8d": {
      "model_module": "@jupyter-widgets/controls",
      "model_module_version": "1.5.0",
      "model_name": "DescriptionStyleModel",
      "state": {
       "description_width": ""
      }
     },
     "ad977f7a03a143dba356945d20fabfde": {
      "model_module": "@jupyter-widgets/output",
      "model_module_version": "1.0.0",
      "model_name": "OutputModel",
      "state": {
       "layout": "IPY_MODEL_8e129fdc9e6b4777972cf5c67c9a756f"
      }
     },
     "aff5454927494911a1941d1d2907d174": {
      "model_module": "@jupyter-widgets/controls",
      "model_module_version": "1.5.0",
      "model_name": "GridBoxModel",
      "state": {
       "_dom_classes": [
        "nbtools-input",
        "nbtools-passwordinput",
        "required"
       ],
       "children": [
        "IPY_MODEL_ea5d993b6ef249748eb91ea3f852aa7f",
        "IPY_MODEL_761f3635570345d0afe98c4c648eac51",
        "IPY_MODEL_b697902214074a2bba7cdad6f4378cc9"
       ],
       "layout": "IPY_MODEL_199c7a54b22d4249ad88e3da0029053a"
      }
     },
     "b0a9ca1d3416403383c043c6221052de": {
      "model_module": "@jupyter-widgets/controls",
      "model_module_version": "1.5.0",
      "model_name": "ButtonModel",
      "state": {
       "_dom_classes": [
        "hidden"
       ],
       "description": "Run",
       "layout": "IPY_MODEL_f511c0a3677b44cc95101a469768baf1",
       "style": "IPY_MODEL_348bee7edbb44d13b9da209815fc5e19"
      }
     },
     "b0d455731af0435f8edd77a406a134d2": {
      "model_module": "@jupyter-widgets/base",
      "model_module_version": "1.2.0",
      "model_name": "LayoutModel",
      "state": {}
     },
     "b257b4f75b6a46f1892a981de075b875": {
      "model_module": "@jupyter-widgets/controls",
      "model_module_version": "1.5.0",
      "model_name": "TextModel",
      "state": {
       "_dom_classes": [
        "nbtools-menu-attached"
       ],
       "layout": "IPY_MODEL_e782f19427ad4cb5865a7e641fd387e8",
       "style": "IPY_MODEL_b9fee3209ab349c8b89ee9c3547896b9"
      }
     },
     "b3447e4c673c451baa915d4ea3a90d9e": {
      "model_module": "@jupyter-widgets/base",
      "model_module_version": "1.2.0",
      "model_name": "LayoutModel",
      "state": {
       "grid_area": "description",
       "width": "auto"
      }
     },
     "b3cc9ab777e849b7956042faa6811aed": {
      "model_module": "@jupyter-widgets/controls",
      "model_module_version": "1.5.0",
      "model_name": "LabelModel",
      "state": {
       "description": "output variable",
       "layout": "IPY_MODEL_5d4646ba06bc485286c861031e7a7409",
       "style": "IPY_MODEL_8a3e3e82dc024ed0a4db91bb98eb029b",
       "value": "output variable"
      }
     },
     "b54cf1f4aa114adcae2417f4ed1701ee": {
      "model_module": "@jupyter-widgets/controls",
      "model_module_version": "1.5.0",
      "model_name": "TextModel",
      "state": {
       "_dom_classes": [
        "nbtools-menu-attached"
       ],
       "layout": "IPY_MODEL_27187fd7cbe14113951188f4fc4c3c61",
       "style": "IPY_MODEL_bd087b85bf3743a2b7e63a145f24f517"
      }
     },
     "b697902214074a2bba7cdad6f4378cc9": {
      "model_module": "@jupyter-widgets/controls",
      "model_module_version": "1.5.0",
      "model_name": "LabelModel",
      "state": {
       "layout": "IPY_MODEL_852c3599c4234dbfb4f49ad0106808d0",
       "style": "IPY_MODEL_f8323b4526e843468fee9e7111a7c2af"
      }
     },
     "b9fee3209ab349c8b89ee9c3547896b9": {
      "model_module": "@jupyter-widgets/controls",
      "model_module_version": "1.5.0",
      "model_name": "DescriptionStyleModel",
      "state": {
       "description_width": ""
      }
     },
     "ba18af0082c54369b58c27b4b6d7757e": {
      "model_module": "@jupyter-widgets/base",
      "model_module_version": "1.2.0",
      "model_name": "LayoutModel",
      "state": {
       "grid_area": "input",
       "width": "auto"
      }
     },
     "bcd8784d5b804ac0b09b09a6d48fe431": {
      "model_module": "@jupyter-widgets/controls",
      "model_module_version": "1.5.0",
      "model_name": "GridBoxModel",
      "state": {
       "_dom_classes": [
        "nbtools-input",
        "nbtools-comboinput",
        "required"
       ],
       "children": [
        "IPY_MODEL_86d1dafc07064b2d83506af17a59ce68",
        "IPY_MODEL_c18f90c12031453fa37eced69f227f6b",
        "IPY_MODEL_3a5897e6db6a43a3823d12a159460baa"
       ],
       "layout": "IPY_MODEL_547468810988412191f71f3cd1c1ae58"
      }
     },
     "bd087b85bf3743a2b7e63a145f24f517": {
      "model_module": "@jupyter-widgets/controls",
      "model_module_version": "1.5.0",
      "model_name": "DescriptionStyleModel",
      "state": {
       "description_width": ""
      }
     },
     "be4850e02039479a8f426e5ff84180de": {
      "model_module": "@jupyter-widgets/base",
      "model_module_version": "1.2.0",
      "model_name": "LayoutModel",
      "state": {
       "grid_area": "description",
       "width": "auto"
      }
     },
     "becbff440f1b4a94a52114b5093acc48": {
      "model_module": "@jupyter-widgets/controls",
      "model_module_version": "1.5.0",
      "model_name": "ButtonStyleModel",
      "state": {}
     },
     "c18f90c12031453fa37eced69f227f6b": {
      "model_module": "@jupyter-widgets/controls",
      "model_module_version": "1.5.0",
      "model_name": "ComboboxModel",
      "state": {
       "_dom_classes": [
        "nbtools-menu-attached",
        "nbtools-nosendto"
       ],
       "choices": {
        "Broad Internal": "https://gpbroad.broadinstitute.org/gp",
        "GenePattern Cloud": "https://cloud.genepattern.org/gp",
        "Indiana University": "https://gp.indiana.edu/gp"
       },
       "ensure_option": false,
       "kinds": [],
       "layout": "IPY_MODEL_2de53051c0034098b1e81159360841fd",
       "style": "IPY_MODEL_fcaf3b31f53d4cccb67e37851bc8fde9",
       "value": "https://cloud.genepattern.org/gp"
      }
     },
     "c9c98b8c1ad1401c93893a4fcdb67cbc": {
      "model_module": "@jupyter-widgets/base",
      "model_module_version": "1.2.0",
      "model_name": "LayoutModel",
      "state": {}
     },
     "cde4f3905d744180aedeb23e8d67cf00": {
      "model_module": "@jupyter-widgets/controls",
      "model_module_version": "1.5.0",
      "model_name": "DescriptionStyleModel",
      "state": {
       "description_width": ""
      }
     },
     "ce37825d2f0b4803bbf299f5684acd7a": {
      "model_module": "@jupyter-widgets/controls",
      "model_module_version": "1.5.0",
      "model_name": "LabelModel",
      "state": {
       "layout": "IPY_MODEL_fbaed82be5e542d79742b53d57bf76c9",
       "style": "IPY_MODEL_29031c7840a642ddaa318032c0954d75"
      }
     },
     "cf0bbd791bd740a29f612e2c4af3369b": {
      "model_module": "@jupyter-widgets/controls",
      "model_module_version": "1.5.0",
      "model_name": "DescriptionStyleModel",
      "state": {
       "description_width": ""
      }
     },
     "d09d53362bd34ad98b9320065481c819": {
      "model_module": "@jupyter-widgets/controls",
      "model_module_version": "1.5.0",
      "model_name": "LabelModel",
      "state": {
       "layout": "IPY_MODEL_8d242cc0ae0742299213a9ff56493ce2",
       "style": "IPY_MODEL_d86e670cbd1c4e7087e7a56479863d56"
      }
     },
     "d14a51ba47704f15a616f67367952fd9": {
      "model_module": "@jupyter-widgets/base",
      "model_module_version": "1.2.0",
      "model_name": "LayoutModel",
      "state": {
       "grid_area": "label",
       "width": "auto"
      }
     },
     "d33df9676b75452abf19dadb9078ba53": {
      "model_module": "@jupyter-widgets/controls",
      "model_module_version": "1.5.0",
      "model_name": "LabelModel",
      "state": {
       "description": "GenePattern Server",
       "layout": "IPY_MODEL_d14a51ba47704f15a616f67367952fd9",
       "style": "IPY_MODEL_890a8ab2e21d4ae690e64021f988d769",
       "value": "GenePattern Server*"
      }
     },
     "d6e72ca34029426bbdc9fa0b40c41f7e": {
      "model_module": "@jupyter-widgets/controls",
      "model_module_version": "1.5.0",
      "model_name": "GridBoxModel",
      "state": {
       "_dom_classes": [
        "nbtools-input",
        "nbtools-textinput",
        "required"
       ],
       "children": [
        "IPY_MODEL_d745f5b25303406db6ed8d4b6fb97125",
        "IPY_MODEL_0afb6f4a57144d518da6a40e99efa6c6",
        "IPY_MODEL_e752cd2586d84b49b040e8b76ae5682c"
       ],
       "layout": "IPY_MODEL_5048672f60624a18b68ba44f56de0ea8"
      }
     },
     "d745f5b25303406db6ed8d4b6fb97125": {
      "model_module": "@jupyter-widgets/controls",
      "model_module_version": "1.5.0",
      "model_name": "LabelModel",
      "state": {
       "description": "Username",
       "layout": "IPY_MODEL_929b30dbad1344b6b025fc60ce499546",
       "style": "IPY_MODEL_1152e559453d43eebe671cdfbc4a07e2",
       "value": "Username*"
      }
     },
     "d7c5c863e45346d0a569cc56ad4b78cf": {
      "model_module": "@jupyter-widgets/base",
      "model_module_version": "1.2.0",
      "model_name": "LayoutModel",
      "state": {}
     },
     "d86e670cbd1c4e7087e7a56479863d56": {
      "model_module": "@jupyter-widgets/controls",
      "model_module_version": "1.5.0",
      "model_name": "DescriptionStyleModel",
      "state": {
       "description_width": ""
      }
     },
     "dade0dc657db42eda515186f2acbc32d": {
      "model_module": "@jupyter-widgets/base",
      "model_module_version": "1.2.0",
      "model_name": "LayoutModel",
      "state": {
       "grid_area": "description",
       "width": "auto"
      }
     },
     "e22c24ffac764e7797d6d7cbd9ad0835": {
      "model_module": "@jupyter-widgets/base",
      "model_module_version": "1.2.0",
      "model_name": "LayoutModel",
      "state": {}
     },
     "e52cf3c05b9745e8aa984b72da7cb16b": {
      "model_module": "@jupyter-widgets/base",
      "model_module_version": "1.2.0",
      "model_name": "LayoutModel",
      "state": {}
     },
     "e57c760c3c1e42c4b82d97d96dc4b0d7": {
      "model_module": "@jupyter-widgets/controls",
      "model_module_version": "1.5.0",
      "model_name": "VBoxModel",
      "state": {
       "_dom_classes": [
        "widget-interact"
       ],
       "children": [
        "IPY_MODEL_3b0e4753dac7431192fb2b1154e50330",
        "IPY_MODEL_2754ff2a514141358b9d5287f9753a13",
        "IPY_MODEL_aff5454927494911a1941d1d2907d174",
        "IPY_MODEL_b0a9ca1d3416403383c043c6221052de",
        "IPY_MODEL_8352eb0a50d24c16b7712d73d5e27b5f"
       ],
       "layout": "IPY_MODEL_f293e0242ded4a9097b4b1f7ca4b77d2"
      }
     },
     "e752cd2586d84b49b040e8b76ae5682c": {
      "model_module": "@jupyter-widgets/controls",
      "model_module_version": "1.5.0",
      "model_name": "LabelModel",
      "state": {
       "layout": "IPY_MODEL_dade0dc657db42eda515186f2acbc32d",
       "style": "IPY_MODEL_1e98172eaccf4978b61479644542bc8c"
      }
     },
     "e782f19427ad4cb5865a7e641fd387e8": {
      "model_module": "@jupyter-widgets/base",
      "model_module_version": "1.2.0",
      "model_name": "LayoutModel",
      "state": {
       "grid_area": "input",
       "width": "auto"
      }
     },
     "e9c2040d50d5493193a198c5ad8b19c3": {
      "model_module": "@jupyter-widgets/controls",
      "model_module_version": "1.5.0",
      "model_name": "LabelModel",
      "state": {
       "description": "Username",
       "layout": "IPY_MODEL_159d30ffb73947d095a486c425dd71fd",
       "style": "IPY_MODEL_cf0bbd791bd740a29f612e2c4af3369b",
       "value": "Username*"
      }
     },
     "ea5d993b6ef249748eb91ea3f852aa7f": {
      "model_module": "@jupyter-widgets/controls",
      "model_module_version": "1.5.0",
      "model_name": "LabelModel",
      "state": {
       "description": "Password",
       "layout": "IPY_MODEL_29e8eeb81e6d47e2bf0e8a00b84ffecc",
       "style": "IPY_MODEL_ad15d214854646a588414ff570b8ce8d",
       "value": "Password*"
      }
     },
     "eb6925615ff3487aacb327aa488ef40e": {
      "model_module": "@jupyter-widgets/base",
      "model_module_version": "1.2.0",
      "model_name": "LayoutModel",
      "state": {
       "grid_area": "label",
       "width": "auto"
      }
     },
     "efc404b499b141f6a79ed1ea922ce4d9": {
      "model_module": "@jupyter-widgets/base",
      "model_module_version": "1.2.0",
      "model_name": "LayoutModel",
      "state": {}
     },
     "f016d01d1fa04f4e926d1dcbf4404abb": {
      "model_module": "@jupyter-widgets/base",
      "model_module_version": "1.2.0",
      "model_name": "LayoutModel",
      "state": {
       "grid_template_areas": "\n                    \"label input\"\n                    \". description\"\n                ",
       "grid_template_columns": "25% 75%",
       "grid_template_rows": "auto auto",
       "width": "100%"
      }
     },
     "f072b15be24b42ba8db27603acedfe01": {
      "model_module": "@jupyter-widgets/output",
      "model_module_version": "1.0.0",
      "model_name": "OutputModel",
      "state": {
       "layout": "IPY_MODEL_e52cf3c05b9745e8aa984b72da7cb16b"
      }
     },
     "f293e0242ded4a9097b4b1f7ca4b77d2": {
      "model_module": "@jupyter-widgets/base",
      "model_module_version": "1.2.0",
      "model_name": "LayoutModel",
      "state": {}
     },
     "f2d28d8f96574766b4a69c06c99ebf65": {
      "model_module": "@jupyter-widgets/output",
      "model_module_version": "1.0.0",
      "model_name": "OutputModel",
      "state": {
       "layout": "IPY_MODEL_5d12dd51218d46af9b74b5ed90588da6"
      }
     },
     "f511c0a3677b44cc95101a469768baf1": {
      "model_module": "@jupyter-widgets/base",
      "model_module_version": "1.2.0",
      "model_name": "LayoutModel",
      "state": {}
     },
     "f57461e12ede47e8a24b2ab961c7908b": {
      "model_module": "@jupyter-widgets/controls",
      "model_module_version": "1.5.0",
      "model_name": "DescriptionStyleModel",
      "state": {
       "description_width": ""
      }
     },
     "f8323b4526e843468fee9e7111a7c2af": {
      "model_module": "@jupyter-widgets/controls",
      "model_module_version": "1.5.0",
      "model_name": "DescriptionStyleModel",
      "state": {
       "description_width": ""
      }
     },
     "fbaed82be5e542d79742b53d57bf76c9": {
      "model_module": "@jupyter-widgets/base",
      "model_module_version": "1.2.0",
      "model_name": "LayoutModel",
      "state": {
       "grid_area": "description",
       "width": "auto"
      }
     },
     "fcaf3b31f53d4cccb67e37851bc8fde9": {
      "model_module": "@jupyter-widgets/controls",
      "model_module_version": "1.5.0",
      "model_name": "DescriptionStyleModel",
      "state": {
       "description_width": ""
      }
     }
    },
    "version_major": 2,
    "version_minor": 0
   }
  }
 },
 "nbformat": 4,
 "nbformat_minor": 4
}
