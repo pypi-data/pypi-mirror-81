{
 "cells": [
  {
   "cell_type": "code",
   "execution_count": 1,
   "metadata": {
    "ExecuteTime": {
     "end_time": "2020-10-07T23:13:53.237620Z",
     "start_time": "2020-10-07T23:13:49.162537Z"
    }
   },
   "outputs": [],
   "source": [
    "from classo.solve_R2 import pathlasso_R2, Classo_R2, problem_R2\n",
    "from classo.solve_R1 import pathlasso_R1, Classo_R1, problem_R1\n",
    "from classo import random_data\n",
    "import numpy as np\n",
    "\n",
    "m,d,d_nonzero,k,sigma =5,10,2,0,0.5\n",
    "matrices,sol = random_data(m,d,d_nonzero,k,sigma,zerosum=True,seed=5)"
   ]
  },
  {
   "cell_type": "code",
   "execution_count": 2,
   "metadata": {
    "ExecuteTime": {
     "end_time": "2020-10-07T23:13:53.265294Z",
     "start_time": "2020-10-07T23:13:53.240989Z"
    },
    "run_control": {
     "marked": true
    }
   },
   "outputs": [],
   "source": [
    "rho = 1.5 \n",
    "lambdas = np.linspace(1.,1e-1,80)\n",
    "pb = problem_R2(matrices,'DR',rho)\n",
    "\n",
    "r = pb.lambdamax/(2*rho)\n",
    "pb.compute_param()"
   ]
  },
  {
   "cell_type": "code",
   "execution_count": 15,
   "metadata": {
    "ExecuteTime": {
     "end_time": "2020-10-07T23:17:20.276211Z",
     "start_time": "2020-10-07T23:17:20.264453Z"
    }
   },
   "outputs": [
    {
     "name": "stdout",
     "output_type": "stream",
     "text": [
      "(5, 15)\n",
      "[]\n",
      "[]\n"
     ]
    }
   ],
   "source": [
    "pb.init_R1()\n",
    "pb.add_r(r=r)\n",
    "pb1 = pb.prob_R1"
   ]
  },
  {
   "cell_type": "code",
   "execution_count": 4,
   "metadata": {
    "ExecuteTime": {
     "end_time": "2020-10-07T23:11:49.080777Z",
     "start_time": "2020-10-07T23:11:49.067314Z"
    }
   },
   "outputs": [
    {
     "name": "stdout",
     "output_type": "stream",
     "text": [
      "[[ 0.44122749 -0.33087015  2.43077119 -0.25209213  0.10960984  1.58248112\n",
      "  -0.9092324  -0.59163666  0.18760323 -0.32986996  0.          0.\n",
      "   0.          0.          0.        ]\n",
      " [-1.19276461 -0.20487651 -0.35882895  0.6034716  -1.66478853 -0.70017904\n",
      "   1.15139101  1.85733101 -1.51117956  0.64484751  0.          0.\n",
      "   0.          0.          0.        ]\n",
      " [-0.98060789 -0.85685315 -0.87187918 -0.42250793  0.99643983  0.71242127\n",
      "   0.05914424 -0.36331088  0.00328884 -0.10593044  0.          0.\n",
      "   0.          0.          0.        ]\n",
      " [ 0.79305332 -0.63157163 -0.00619491 -0.10106761 -0.05230815  0.24921766\n",
      "   0.19766009  1.33484857 -0.08687561  1.56153229  0.          0.\n",
      "   0.          0.          0.        ]\n",
      " [-0.30585302 -0.47773142  0.10073819  0.35543847  0.26961241  1.29196338\n",
      "   1.13934298  0.4944404  -0.33633626 -0.10061435  0.          0.\n",
      "   0.          0.          0.        ]]\n"
     ]
    }
   ],
   "source": [
    "AtA = pb1.AtA\n",
    "print(pb1.matrix[0])"
   ]
  },
  {
   "cell_type": "code",
   "execution_count": 5,
   "metadata": {
    "ExecuteTime": {
     "end_time": "2020-10-07T23:11:49.140071Z",
     "start_time": "2020-10-07T23:11:49.090957Z"
    }
   },
   "outputs": [
    {
     "name": "stdout",
     "output_type": "stream",
     "text": [
      "[[ 0.44122749 -0.33087015  2.43077119 -0.25209213  0.10960984  1.58248112\n",
      "  -0.9092324  -0.59163666  0.18760323 -0.32986996  0.          0.\n",
      "   0.          0.          0.        ]\n",
      " [-1.19276461 -0.20487651 -0.35882895  0.6034716  -1.66478853 -0.70017904\n",
      "   1.15139101  1.85733101 -1.51117956  0.64484751  0.          0.\n",
      "   0.          0.          0.        ]\n",
      " [-0.98060789 -0.85685315 -0.87187918 -0.42250793  0.99643983  0.71242127\n",
      "   0.05914424 -0.36331088  0.00328884 -0.10593044  0.          0.\n",
      "   0.          0.          0.        ]\n",
      " [ 0.79305332 -0.63157163 -0.00619491 -0.10106761 -0.05230815  0.24921766\n",
      "   0.19766009  1.33484857 -0.08687561  1.56153229  0.          0.\n",
      "   0.          0.          0.        ]\n",
      " [-0.30585302 -0.47773142  0.10073819  0.35543847  0.26961241  1.29196338\n",
      "   1.13934298  0.4944404  -0.33633626 -0.10061435  0.          0.\n",
      "   0.          0.          0.        ]]\n"
     ]
    }
   ],
   "source": [
    "beta1 = Classo_R1(pb1, 0.1)[:d]\n",
    "print(pb1.matrix[0])"
   ]
  }
 ],
 "metadata": {
  "kernelspec": {
   "display_name": "Python 3",
   "language": "python",
   "name": "python3"
  },
  "language_info": {
   "codemirror_mode": {
    "name": "ipython",
    "version": 3
   },
   "file_extension": ".py",
   "mimetype": "text/x-python",
   "name": "python",
   "nbconvert_exporter": "python",
   "pygments_lexer": "ipython3",
   "version": "3.6.8"
  },
  "toc": {
   "base_numbering": 1,
   "nav_menu": {},
   "number_sections": true,
   "sideBar": true,
   "skip_h1_title": false,
   "title_cell": "Table of Contents",
   "title_sidebar": "Contents",
   "toc_cell": false,
   "toc_position": {},
   "toc_section_display": true,
   "toc_window_display": false
  }
 },
 "nbformat": 4,
 "nbformat_minor": 4
}
