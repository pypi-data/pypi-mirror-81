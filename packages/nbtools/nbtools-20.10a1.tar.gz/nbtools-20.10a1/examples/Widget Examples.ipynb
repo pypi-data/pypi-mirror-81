{
 "cells": [
  {
   "cell_type": "code",
   "execution_count": 2,
   "metadata": {},
   "outputs": [
    {
     "data": {
      "application/vnd.jupyter.widget-view+json": {
       "model_id": "",
       "version_major": 2,
       "version_minor": 0
      },
      "text/plain": [
       "GPAuthWidget(buttons={'Register an Account': \"\\n    const target = event.target;\\n    const widget = target.cl…"
      ]
     },
     "metadata": {},
     "output_type": "display_data"
    },
    {
     "data": {
      "application/vnd.jupyter.widget-view+json": {
       "model_id": "b0344468da294bdd8ca635882d8f8d77",
       "version_major": 2,
       "version_minor": 0
      },
      "text/plain": [
       "Output()"
      ]
     },
     "metadata": {},
     "output_type": "display_data"
    }
   ],
   "source": [
    "import nbtools\n",
    "\n",
    "nbtools.tool(id='authentication', origin='+')"
   ]
  },
  {
   "cell_type": "code",
   "execution_count": 3,
   "metadata": {},
   "outputs": [
    {
     "data": {
      "application/vnd.jupyter.widget-view+json": {
       "model_id": "d2d0dca205914200a9452fb626b8e494",
       "version_major": 2,
       "version_minor": 0
      },
      "text/plain": [
       "UIOutput(appendix=VBox(), files=['foo.gct', 'act.odf'])"
      ]
     },
     "metadata": {},
     "output_type": "display_data"
    }
   ],
   "source": [
    "import nbtools\n",
    "\n",
    "nbtools.UIOutput(files=['foo.gct', 'act.odf'])"
   ]
  },
  {
   "cell_type": "markdown",
   "metadata": {},
   "source": [
    "<span class=\"nbtools-text-option\">TEST MARKDOWN SENDTO</span>"
   ]
  },
  {
   "cell_type": "code",
   "execution_count": 4,
   "metadata": {},
   "outputs": [
    {
     "data": {
      "application/vnd.jupyter.widget-view+json": {
       "model_id": "12c8bcd430d6441b8542d04bc65b9aea",
       "version_major": 2,
       "version_minor": 0
      },
      "text/plain": [
       "UIBuilder(collapse=True, form=InteractiveForm(children=(FileFormInput(value='', children=(Label(value='i*', de…"
      ]
     },
     "metadata": {},
     "output_type": "display_data"
    },
    {
     "data": {
      "application/vnd.jupyter.widget-view+json": {
       "model_id": "7c823283b60b4cb8af8558b5ad844151",
       "version_major": 2,
       "version_minor": 0
      },
      "text/plain": [
       "Output()"
      ]
     },
     "metadata": {},
     "output_type": "display_data"
    }
   ],
   "source": [
    "# @nbtools.build_ui(parameters={\n",
    "#     'i': {\n",
    "#         'type': 'file',\n",
    "#         'kinds': ['gct']\n",
    "#     }\n",
    "# })\n",
    "def test_menus(i, j):\n",
    "    print(i)\n",
    "    \n",
    "uibuilder = nbtools.UIBuilder(test_menus, parameters={\n",
    "    'i': {\n",
    "        'type': 'file',\n",
    "        'kinds': ['gct']\n",
    "    }\n",
    "})\n",
    "\n",
    "uibuilder"
   ]
  },
  {
   "cell_type": "raw",
   "metadata": {},
   "source": [
    "### Why is `min_std` and `confounding_variable_cls_file` required?"
   ]
  },
  {
   "cell_type": "code",
   "execution_count": 5,
   "metadata": {},
   "outputs": [
    {
     "data": {
      "application/vnd.jupyter.widget-view+json": {
       "model_id": "",
       "version_major": 2,
       "version_minor": 0
      },
      "text/plain": [
       "UIOutput(appendix=VBox(), error='Cannot find tool: GenePattern Cloud | urn:lsid:broad.mit.edu:cancer.software.…"
      ]
     },
     "metadata": {},
     "output_type": "display_data"
    },
    {
     "data": {
      "application/vnd.jupyter.widget-view+json": {
       "model_id": "2ad48022f9bf4b73b3082361ecbd19b7",
       "version_major": 2,
       "version_minor": 0
      },
      "text/plain": [
       "Output(outputs=({'output_type': 'display_data', 'data': {}, 'metadata': {}},))"
      ]
     },
     "metadata": {},
     "output_type": "display_data"
    }
   ],
   "source": [
    "nbtools.tool(id='urn:lsid:broad.mit.edu:cancer.software.genepattern.module.analysis:00002:2', origin='GenePattern Cloud')"
   ]
  },
  {
   "cell_type": "code",
   "execution_count": 6,
   "metadata": {},
   "outputs": [
    {
     "data": {
      "application/vnd.jupyter.widget-view+json": {
       "model_id": "",
       "version_major": 2,
       "version_minor": 0
      },
      "text/plain": [
       "UIOutput(appendix=VBox(), error='Cannot find tool: GenePattern Cloud | urn:lsid:broad.mit.edu:cancer.software.…"
      ]
     },
     "metadata": {},
     "output_type": "display_data"
    },
    {
     "data": {
      "application/vnd.jupyter.widget-view+json": {
       "model_id": "450c2311a7bb4de39197fd84031ee04f",
       "version_major": 2,
       "version_minor": 0
      },
      "text/plain": [
       "Output(outputs=({'output_type': 'display_data', 'data': {}, 'metadata': {}},))"
      ]
     },
     "metadata": {},
     "output_type": "display_data"
    }
   ],
   "source": [
    "nbtools.tool(id='urn:lsid:broad.mit.edu:cancer.software.genepattern.module.analysis:00044:10.1', origin='GenePattern Cloud')"
   ]
  },
  {
   "cell_type": "code",
   "execution_count": 7,
   "metadata": {},
   "outputs": [
    {
     "data": {
      "application/vnd.jupyter.widget-view+json": {
       "model_id": "",
       "version_major": 2,
       "version_minor": 0
      },
      "text/plain": [
       "UIOutput(appendix=VBox(), error='Cannot find tool: GenePattern Cloud | urn:lsid:broad.mit.edu:cancer.software.…"
      ]
     },
     "metadata": {},
     "output_type": "display_data"
    },
    {
     "data": {
      "application/vnd.jupyter.widget-view+json": {
       "model_id": "a50160cda455495dbae02b5f2c908038",
       "version_major": 2,
       "version_minor": 0
      },
      "text/plain": [
       "Output(outputs=({'output_type': 'display_data', 'data': {}, 'metadata': {}},))"
      ]
     },
     "metadata": {},
     "output_type": "display_data"
    }
   ],
   "source": [
    "nbtools.tool(id='urn:lsid:broad.mit.edu:cancer.software.genepattern.module.visualizer:00045:9', origin='GenePattern Cloud')"
   ]
  },
  {
   "cell_type": "code",
   "execution_count": 8,
   "metadata": {},
   "outputs": [
    {
     "data": {
      "text/plain": [
       "['sss', 'ttt', 'hhh']"
      ]
     },
     "execution_count": 8,
     "metadata": {},
     "output_type": "execute_result"
    }
   ],
   "source": [
    "ks = 'sss;ttt;hhh'\n",
    "ks.split(';')"
   ]
  },
  {
   "cell_type": "code",
   "execution_count": null,
   "metadata": {},
   "outputs": [],
   "source": []
  }
 ],
 "metadata": {
  "kernelspec": {
   "display_name": "Python 3",
   "language": "python",
   "name": "python3"
  },
  "language_info": {
   "codemirror_mode": {
    "name": "ipython",
    "version": 3
   },
   "file_extension": ".py",
   "mimetype": "text/x-python",
   "name": "python",
   "nbconvert_exporter": "python",
   "pygments_lexer": "ipython3",
   "version": "3.7.6"
  },
  "widgets": {
   "application/vnd.jupyter.widget-state+json": {
    "state": {
     "001d84c0288448509a89d5ab98432ad4": {
      "model_module": "@jupyter-widgets/controls",
      "model_module_version": "1.5.0",
      "model_name": "LabelModel",
      "state": {
       "description": "output variable",
       "layout": "IPY_MODEL_7b2e5ab42d24447cbc7985181885c817",
       "style": "IPY_MODEL_627db90e43b44d45bfdc2d562573d50e",
       "value": "output variable"
      }
     },
     "009b856ee64c419f914e139dce0a6426": {
      "model_module": "@jupyter-widgets/base",
      "model_module_version": "1.2.0",
      "model_name": "LayoutModel",
      "state": {
       "grid_area": "label",
       "width": "auto"
      }
     },
     "01487bf31b474227b5fe14da82654b4d": {
      "model_module": "@jupyter-widgets/controls",
      "model_module_version": "1.5.0",
      "model_name": "DescriptionStyleModel",
      "state": {
       "description_width": ""
      }
     },
     "02016687eac549008ad44c6111dc413d": {
      "model_module": "@jupyter-widgets/controls",
      "model_module_version": "1.5.0",
      "model_name": "LabelModel",
      "state": {
       "layout": "IPY_MODEL_917bf92e1ddf40f9969106b5f0abb72c",
       "style": "IPY_MODEL_540d4339e22a4c28a0b497845e838cf9"
      }
     },
     "025b163413444dda94ec3b9c54220ab5": {
      "model_module": "@jupyter-widgets/base",
      "model_module_version": "1.2.0",
      "model_name": "LayoutModel",
      "state": {}
     },
     "033aedece52c4879a0b4f3607e5c91c5": {
      "model_module": "@jupyter-widgets/controls",
      "model_module_version": "1.5.0",
      "model_name": "DescriptionStyleModel",
      "state": {
       "description_width": ""
      }
     },
     "037f15c981db4475940913a9fdf67d32": {
      "model_module": "@jupyter-widgets/controls",
      "model_module_version": "1.5.0",
      "model_name": "DescriptionStyleModel",
      "state": {
       "description_width": ""
      }
     },
     "04485fb2bd3743e09855aacc5a3d8e62": {
      "model_module": "@jupyter-widgets/base",
      "model_module_version": "1.2.0",
      "model_name": "LayoutModel",
      "state": {
       "grid_area": "input",
       "width": "auto"
      }
     },
     "05c741f6dd034220bef8e63cbafb1c67": {
      "model_module": "@jupyter-widgets/base",
      "model_module_version": "1.2.0",
      "model_name": "LayoutModel",
      "state": {
       "grid_area": "description",
       "width": "auto"
      }
     },
     "061357ddbd034fd2a45bf74a3bf82405": {
      "model_module": "@jupyter-widgets/controls",
      "model_module_version": "1.5.0",
      "model_name": "ButtonModel",
      "state": {
       "_dom_classes": [
        "hidden"
       ],
       "description": "Run",
       "layout": "IPY_MODEL_f750f53c2d89432ba283544c8a7bc0de",
       "style": "IPY_MODEL_cd9e6b7b4786441b8d1b88d29ee27c56"
      }
     },
     "07440c03b77a4687a338b2c9af62286d": {
      "model_module": "@jupyter-widgets/output",
      "model_module_version": "1.0.0",
      "model_name": "OutputModel",
      "state": {
       "layout": "IPY_MODEL_ee5d3ba1a2674063bb59628608840828"
      }
     },
     "07567b754ad04c54b9aa5a028827fe6e": {
      "model_module": "@jupyter-widgets/controls",
      "model_module_version": "1.5.0",
      "model_name": "DescriptionStyleModel",
      "state": {
       "description_width": ""
      }
     },
     "080baced689f47129f652b9cff9989e6": {
      "model_module": "@jupyter-widgets/base",
      "model_module_version": "1.2.0",
      "model_name": "LayoutModel",
      "state": {
       "grid_area": "description",
       "width": "auto"
      }
     },
     "083cbb883d0345538cd6a5b0f2622e9a": {
      "model_module": "@jupyter-widgets/controls",
      "model_module_version": "1.5.0",
      "model_name": "VBoxModel",
      "state": {
       "_dom_classes": [
        "widget-interact"
       ],
       "children": [
        "IPY_MODEL_af7702e9d1f34c4c8b4c7e2450d15687",
        "IPY_MODEL_07440c03b77a4687a338b2c9af62286d"
       ],
       "layout": "IPY_MODEL_abf553d349684378be77aa69344ac6e4"
      }
     },
     "0887bb763d2244799460b764e0d31ed0": {
      "model_module": "@jupyter-widgets/base",
      "model_module_version": "1.2.0",
      "model_name": "LayoutModel",
      "state": {
       "grid_area": "description",
       "width": "auto"
      }
     },
     "09116ee15b95460b9ab1549e58667499": {
      "model_module": "@jupyter-widgets/controls",
      "model_module_version": "1.5.0",
      "model_name": "HBoxModel",
      "state": {
       "children": [
        "IPY_MODEL_5efbfd7ee40c44998a44a8abd6907b33",
        "IPY_MODEL_3366d15d3ca04812b04673ca5b26e2cc"
       ],
       "layout": "IPY_MODEL_45ed424b8c79455e80ae816185d8f552"
      }
     },
     "092072caf3974da9a7b904d4faa77c28": {
      "model_module": "@jupyter-widgets/controls",
      "model_module_version": "1.5.0",
      "model_name": "ButtonStyleModel",
      "state": {}
     },
     "09bc0f1cbc9a41bba1b1e190bf5ed41a": {
      "model_module": "@jupyter-widgets/base",
      "model_module_version": "1.2.0",
      "model_name": "LayoutModel",
      "state": {
       "grid_area": "input",
       "width": "auto"
      }
     },
     "0a5ae1c88b7143a0a59cd3b101a542c6": {
      "model_module": "@jupyter-widgets/base",
      "model_module_version": "1.2.0",
      "model_name": "LayoutModel",
      "state": {}
     },
     "0a63a1cfc541440082970128018a4fdc": {
      "model_module": "@jupyter-widgets/controls",
      "model_module_version": "1.5.0",
      "model_name": "VBoxModel",
      "state": {
       "_dom_classes": [
        "widget-interact"
       ],
       "children": [
        "IPY_MODEL_341fdf9bc27842aaa2b33758d0605312",
        "IPY_MODEL_0a872e6b467e404b9766a59022782efa"
       ],
       "layout": "IPY_MODEL_f85367d27b924f7d8b065458683e5aec"
      }
     },
     "0a769eabbf6842e5aa37e4ae281f636a": {
      "model_module": "@jupyter-widgets/base",
      "model_module_version": "1.2.0",
      "model_name": "LayoutModel",
      "state": {}
     },
     "0a872e6b467e404b9766a59022782efa": {
      "model_module": "@jupyter-widgets/output",
      "model_module_version": "1.0.0",
      "model_name": "OutputModel",
      "state": {
       "layout": "IPY_MODEL_2334b420ec4e42459bba862c876e2fda"
      }
     },
     "0c39796ced044bdcaa480977685a9476": {
      "model_module": "@jupyter-widgets/base",
      "model_module_version": "1.2.0",
      "model_name": "LayoutModel",
      "state": {}
     },
     "0c65b9aab75f4f569bf99cddcb815117": {
      "model_module": "@jupyter-widgets/base",
      "model_module_version": "1.2.0",
      "model_name": "LayoutModel",
      "state": {
       "grid_area": "label",
       "width": "auto"
      }
     },
     "0cc0ca5c6dd1495db01956332fcf804b": {
      "model_module": "@jupyter-widgets/controls",
      "model_module_version": "1.5.0",
      "model_name": "DropdownModel",
      "state": {
       "_options_labels": [
        "Class 0",
        "Class 1",
        "2 Sided"
       ],
       "index": 2,
       "layout": "IPY_MODEL_39ca6ac03a5e4840837cd01e9c2e55a7",
       "style": "IPY_MODEL_17291d7fa0894fb3aad046c8545ebc6c"
      }
     },
     "0ccf20f02f2e45368234dd80147d51bb": {
      "model_module": "@jupyter-widgets/controls",
      "model_module_version": "1.5.0",
      "model_name": "DescriptionStyleModel",
      "state": {
       "description_width": ""
      }
     },
     "0e25c41ab8084204b14329a32ab90581": {
      "model_module": "@jupyter-widgets/base",
      "model_module_version": "1.2.0",
      "model_name": "LayoutModel",
      "state": {
       "grid_area": "label",
       "width": "auto"
      }
     },
     "0f6c4a17c20b440497a6118355cdf801": {
      "model_module": "@jupyter-widgets/controls",
      "model_module_version": "1.5.0",
      "model_name": "LabelModel",
      "state": {
       "description": "confounding_variable_cls_file",
       "layout": "IPY_MODEL_5064c8ef53b945acb66895e104b8731a",
       "style": "IPY_MODEL_542c03b2890748d78fb83bc00ddba68a",
       "value": "confounding_variable_cls_file"
      }
     },
     "0f8bdedff6f04f7db2e8523ed1e9210c": {
      "model_module": "@jupyter-widgets/controls",
      "model_module_version": "1.5.0",
      "model_name": "GridBoxModel",
      "state": {
       "_dom_classes": [
        "nbtools-input",
        "nbtools-textinput"
       ],
       "children": [
        "IPY_MODEL_3ebfde1fa7f24fc6bd2074ff737019a2",
        "IPY_MODEL_3201a3f8bc3948a39a84b927c15fa6bd",
        "IPY_MODEL_65b5dcb7386446569621a7e38aafe7de"
       ],
       "layout": "IPY_MODEL_e17834d0118a47b79bffc0d43882d540"
      }
     },
     "0ff88c72aa7644e5996caad28efb5e2c": {
      "model_module": "@jupyter-widgets/controls",
      "model_module_version": "1.5.0",
      "model_name": "FileUploadModel",
      "state": {
       "accept": ".gct",
       "description_tooltip": null,
       "layout": "IPY_MODEL_f784f720181046d0b765fdac21d694e8",
       "style": "IPY_MODEL_9fd6a60b1fd74f0c8663868dcc3c34b3"
      }
     },
     "10049c6260c04b818032d57e0ee460d7": {
      "model_module": "@jupyter-widgets/controls",
      "model_module_version": "1.5.0",
      "model_name": "DescriptionStyleModel",
      "state": {
       "description_width": ""
      }
     },
     "10ad3b37075545c4ae3378b401b36c09": {
      "model_module": "@jupyter-widgets/base",
      "model_module_version": "1.2.0",
      "model_name": "LayoutModel",
      "state": {
       "grid_template_areas": "\n                    \"label input\"\n                    \". description\"\n                ",
       "grid_template_columns": "25% 75%",
       "grid_template_rows": "auto auto",
       "width": "100%"
      }
     },
     "10b70f9ba9244d7590b6589053033e55": {
      "model_module": "@jupyter-widgets/base",
      "model_module_version": "1.2.0",
      "model_name": "LayoutModel",
      "state": {}
     },
     "10d8c03f68214723a3b698cae5991f88": {
      "model_module": "@jupyter-widgets/controls",
      "model_module_version": "1.5.0",
      "model_name": "DescriptionStyleModel",
      "state": {
       "description_width": ""
      }
     },
     "112f484197e749669fdc0b5b6e71cdc3": {
      "model_module": "@jupyter-widgets/controls",
      "model_module_version": "1.5.0",
      "model_name": "DescriptionStyleModel",
      "state": {
       "description_width": ""
      }
     },
     "12bafc05e4164a70aff241fabec0c329": {
      "model_module": "@jupyter-widgets/base",
      "model_module_version": "1.2.0",
      "model_name": "LayoutModel",
      "state": {}
     },
     "12c4cf77a9864f419d9a9f7757fca71c": {
      "model_module": "@jupyter-widgets/controls",
      "model_module_version": "1.5.0",
      "model_name": "TextModel",
      "state": {
       "_dom_classes": [
        "nbtools-menu-attached"
       ],
       "layout": "IPY_MODEL_04485fb2bd3743e09855aacc5a3d8e62",
       "style": "IPY_MODEL_a285b3c4077743598f289966a7405342"
      }
     },
     "12c8bcd430d6441b8542d04bc65b9aea": {
      "model_module": "@genepattern/nbtools",
      "model_module_version": "^0.2.0",
      "model_name": "UIBuilderModel",
      "state": {
       "_dom_classes": [],
       "_model_module_version": "^0.2.0",
       "_parameters": [
        {
         "choices": {},
         "default": "",
         "description": "",
         "events": null,
         "hide": false,
         "id": null,
         "kinds": [
          "gct"
         ],
         "label": "i",
         "name": "i",
         "optional": false,
         "type": "file",
         "value": ""
        },
        {
         "choices": {},
         "default": "",
         "description": "",
         "events": null,
         "hide": false,
         "id": null,
         "kinds": null,
         "label": "j",
         "name": "j",
         "optional": false,
         "type": "text",
         "value": ""
        },
        {
         "choices": {},
         "default": "",
         "description": "",
         "events": null,
         "hide": true,
         "id": null,
         "kinds": null,
         "label": "output variable",
         "name": "output_var",
         "optional": true,
         "type": "text",
         "value": ""
        }
       ],
       "_view_count": null,
       "_view_module_version": "^0.2.0",
       "form": "IPY_MODEL_83b18b40d07a488f822da53865a91899",
       "layout": "IPY_MODEL_d1c711fac583491190ef8f15b9c55e94",
       "name": "test_menus",
       "origin": "Notebook",
       "output": "IPY_MODEL_7c823283b60b4cb8af8558b5ad844151",
       "output_var": ""
      }
     },
     "12dee47298bd47b4a75cacccfe945b8c": {
      "model_module": "@jupyter-widgets/controls",
      "model_module_version": "1.5.0",
      "model_name": "DescriptionStyleModel",
      "state": {
       "description_width": ""
      }
     },
     "133c407ecba54b8b9543aea9749ff379": {
      "model_module": "@jupyter-widgets/controls",
      "model_module_version": "1.5.0",
      "model_name": "LabelModel",
      "state": {
       "description": "The seed of the random number generator used to produce permutations",
       "layout": "IPY_MODEL_94fe3ec31f38406587d86d3c20255cca",
       "style": "IPY_MODEL_246a4abefc5c4edc9c6d1644edd52989",
       "value": "The seed of the random number generator used to produce permutations"
      }
     },
     "1475caf1342e41559eec5631b043fd33": {
      "model_module": "@jupyter-widgets/controls",
      "model_module_version": "1.5.0",
      "model_name": "DescriptionStyleModel",
      "state": {
       "description_width": ""
      }
     },
     "14c96600a2af4a7b80135b7a923a91aa": {
      "model_module": "@jupyter-widgets/controls",
      "model_module_version": "1.5.0",
      "model_name": "DescriptionStyleModel",
      "state": {
       "description_width": ""
      }
     },
     "159dcdfc6e3046b99d636201717fb116": {
      "model_module": "@jupyter-widgets/controls",
      "model_module_version": "1.5.0",
      "model_name": "LabelModel",
      "state": {
       "description": "output variable",
       "layout": "IPY_MODEL_bf543f55a2164cbf9192ca502933f87f",
       "style": "IPY_MODEL_8668300385a6437b903d6739726f0972",
       "value": "output variable"
      }
     },
     "15dc0d58c0f74c7ba96b54db998592b8": {
      "model_module": "@jupyter-widgets/base",
      "model_module_version": "1.2.0",
      "model_name": "LayoutModel",
      "state": {}
     },
     "162daa22c93b497baf782651a9b39151": {
      "model_module": "@jupyter-widgets/controls",
      "model_module_version": "1.5.0",
      "model_name": "LabelModel",
      "state": {
       "description": "output variable",
       "layout": "IPY_MODEL_fb7a3d4db3a14f599b144cf699942b57",
       "style": "IPY_MODEL_2b9ba91da876492bba55ca5b97f159b7",
       "value": "output variable"
      }
     },
     "17291d7fa0894fb3aad046c8545ebc6c": {
      "model_module": "@jupyter-widgets/controls",
      "model_module_version": "1.5.0",
      "model_name": "DescriptionStyleModel",
      "state": {
       "description_width": ""
      }
     },
     "18d7d8d574514c45a0514acf4cdb6ca0": {
      "model_module": "@jupyter-widgets/base",
      "model_module_version": "1.2.0",
      "model_name": "LayoutModel",
      "state": {
       "grid_area": "input",
       "width": "auto"
      }
     },
     "18e4d1471e4b41da93c017e57c3ce2f1": {
      "model_module": "@jupyter-widgets/base",
      "model_module_version": "1.2.0",
      "model_name": "LayoutModel",
      "state": {}
     },
     "1955955353304110bd771037a644c84c": {
      "model_module": "@jupyter-widgets/controls",
      "model_module_version": "1.5.0",
      "model_name": "DescriptionStyleModel",
      "state": {
       "description_width": ""
      }
     },
     "19921053a694485aadd360eb4ced9712": {
      "model_module": "@jupyter-widgets/base",
      "model_module_version": "1.2.0",
      "model_name": "LayoutModel",
      "state": {
       "grid_template_areas": "\n                    \"label input\"\n                    \". description\"\n                ",
       "grid_template_columns": "25% 75%",
       "grid_template_rows": "auto auto",
       "width": "100%"
      }
     },
     "1a19a66e23e04df9afe8ce4ec237129c": {
      "model_module": "@jupyter-widgets/base",
      "model_module_version": "1.2.0",
      "model_name": "LayoutModel",
      "state": {
       "display": "none",
       "grid_template_areas": "\n                    \"label input\"\n                    \". description\"\n                ",
       "grid_template_columns": "25% 75%",
       "grid_template_rows": "auto auto",
       "width": "100%"
      }
     },
     "1a7b478004024afba08e5f05992d3bb6": {
      "model_module": "@jupyter-widgets/controls",
      "model_module_version": "1.5.0",
      "model_name": "DescriptionStyleModel",
      "state": {
       "description_width": ""
      }
     },
     "1b0fbfef407747d2bb616d6d574d4243": {
      "model_module": "@jupyter-widgets/base",
      "model_module_version": "1.2.0",
      "model_name": "LayoutModel",
      "state": {
       "grid_area": "input",
       "width": "auto"
      }
     },
     "1b885b67f23e4a68b8ac82bb04ceb8b1": {
      "model_module": "@jupyter-widgets/controls",
      "model_module_version": "1.5.0",
      "model_name": "LabelModel",
      "state": {
       "description": "output variable",
       "layout": "IPY_MODEL_cc4967740d4f495284f7d6a90f0998ae",
       "style": "IPY_MODEL_9b9b5de2e3ea44d09fcc0bde3b87c112",
       "value": "output variable"
      }
     },
     "1baf07197f564389a613276749854d32": {
      "model_module": "@jupyter-widgets/base",
      "model_module_version": "1.2.0",
      "model_name": "LayoutModel",
      "state": {
       "grid_template_areas": "\n                    \"label input\"\n                    \". description\"\n                ",
       "grid_template_columns": "25% 75%",
       "grid_template_rows": "auto auto",
       "width": "100%"
      }
     },
     "1c20460b241742b5b29038a30d53b62d": {
      "model_module": "@jupyter-widgets/base",
      "model_module_version": "1.2.0",
      "model_name": "LayoutModel",
      "state": {
       "grid_area": "label",
       "width": "auto"
      }
     },
     "1c7f731ff9084de98fd45543808cace5": {
      "model_module": "@jupyter-widgets/controls",
      "model_module_version": "1.5.0",
      "model_name": "LabelModel",
      "state": {
       "layout": "IPY_MODEL_c99845878f084491a24747638320070c",
       "style": "IPY_MODEL_674b6480103046bd8d4c958f4e200f38"
      }
     },
     "1d41d07fbb074dd9be548d4de58f197b": {
      "model_module": "@jupyter-widgets/controls",
      "model_module_version": "1.5.0",
      "model_name": "GridBoxModel",
      "state": {
       "_dom_classes": [
        "nbtools-input",
        "nbtools-textinput"
       ],
       "children": [
        "IPY_MODEL_63c90ac2c0204979833e70cd99290010",
        "IPY_MODEL_21c6ce6ce9ab4baab78079e7c6c3db27",
        "IPY_MODEL_bf33501e6a584cc69f1f206916c137c5"
       ],
       "layout": "IPY_MODEL_228d82e28ce94ed7b96814344f54751a"
      }
     },
     "1d7ecf9a885d4a219d73363abff7c924": {
      "model_module": "@jupyter-widgets/controls",
      "model_module_version": "1.5.0",
      "model_name": "LabelModel",
      "state": {
       "description": "phenotype_test",
       "layout": "IPY_MODEL_95ae75def22f4027b100b086637a483c",
       "style": "IPY_MODEL_a1faf3df2b6044bb91238a129d9fc001",
       "value": "phenotype_test"
      }
     },
     "1de00e8c2af149999a64888c72cfc498": {
      "model_module": "@jupyter-widgets/controls",
      "model_module_version": "1.5.0",
      "model_name": "LabelModel",
      "state": {
       "description": "output variable",
       "layout": "IPY_MODEL_cb3bed9c91f54aa28649afabd0360c75",
       "style": "IPY_MODEL_c0b31501ab9949e6b4a3337412bddba6",
       "value": "output variable"
      }
     },
     "1e3c877fc7cf48ccaf96787b7a0fcc08": {
      "model_module": "@jupyter-widgets/base",
      "model_module_version": "1.2.0",
      "model_name": "LayoutModel",
      "state": {
       "grid_area": "description",
       "width": "auto"
      }
     },
     "1e58d1e9abdb42b38a98abd56c7da654": {
      "model_module": "@jupyter-widgets/base",
      "model_module_version": "1.2.0",
      "model_name": "LayoutModel",
      "state": {
       "grid_area": "input",
       "width": "auto"
      }
     },
     "1e9752784d794dba8e1b7e24148a0b75": {
      "model_module": "@jupyter-widgets/controls",
      "model_module_version": "1.5.0",
      "model_name": "DescriptionStyleModel",
      "state": {
       "description_width": ""
      }
     },
     "1ec38c010c38431daa46a992d942750a": {
      "model_module": "@jupyter-widgets/controls",
      "model_module_version": "1.5.0",
      "model_name": "DescriptionStyleModel",
      "state": {
       "description_width": ""
      }
     },
     "1ee9ffd0e237434ca89a95907b2121b6": {
      "model_module": "@jupyter-widgets/controls",
      "model_module_version": "1.5.0",
      "model_name": "DescriptionStyleModel",
      "state": {
       "description_width": ""
      }
     },
     "1fc24607b8394fdd82f9d561db64ccbe": {
      "model_module": "@jupyter-widgets/base",
      "model_module_version": "1.2.0",
      "model_name": "LayoutModel",
      "state": {}
     },
     "20d4876039004045a246553f892ccb51": {
      "model_module": "@jupyter-widgets/base",
      "model_module_version": "1.2.0",
      "model_name": "LayoutModel",
      "state": {}
     },
     "211d4c8e0a8e4b37939f99ec15fc2349": {
      "model_module": "@jupyter-widgets/controls",
      "model_module_version": "1.5.0",
      "model_name": "ButtonModel",
      "state": {
       "_dom_classes": [
        "hidden"
       ],
       "description": "Run",
       "layout": "IPY_MODEL_486210a363f949d694d3d1f3f9638d5e",
       "style": "IPY_MODEL_5c2b3fc13ac14ed5a8db147c4c29c22d"
      }
     },
     "21535258d7d14be09168ba41ea556fc0": {
      "model_module": "@jupyter-widgets/controls",
      "model_module_version": "1.5.0",
      "model_name": "LabelModel",
      "state": {
       "description": "Whether the input data has been log transformed",
       "layout": "IPY_MODEL_83af47051db84d159460fcc1aa3b296c",
       "style": "IPY_MODEL_a561c338d31f4d9abebbcb63386f31e9",
       "value": "Whether the input data has been log transformed"
      }
     },
     "21c6ce6ce9ab4baab78079e7c6c3db27": {
      "model_module": "@jupyter-widgets/controls",
      "model_module_version": "1.5.0",
      "model_name": "TextModel",
      "state": {
       "_dom_classes": [
        "nbtools-menu-attached"
       ],
       "layout": "IPY_MODEL_9d45deb1fdb0438b8385f81d4ca2fdb3",
       "style": "IPY_MODEL_c5e4ab617c184defb1bb843dae58eacf"
      }
     },
     "22012539bf084de79574b46b269626fc": {
      "model_module": "@jupyter-widgets/controls",
      "model_module_version": "1.5.0",
      "model_name": "ButtonModel",
      "state": {
       "_dom_classes": [
        "hidden"
       ],
       "description": "Run",
       "layout": "IPY_MODEL_2a7d51ee96ea4a1e8d479c3528111f8b",
       "style": "IPY_MODEL_345f487f337546b3860ecd53b07a055b"
      }
     },
     "226f028a3ae644ecbd6650c266ca92ab": {
      "model_module": "@jupyter-widgets/controls",
      "model_module_version": "1.5.0",
      "model_name": "DropdownModel",
      "state": {
       "_options_labels": [
        "SNR",
        "T-Test",
        "SNR (median)",
        "T-Test (median)",
        "T-Test (min std)",
        "SNR (min std)",
        "SNR (median, min std)",
        "T-Test (median, min std)",
        "Paired T-Test"
       ],
       "index": 1,
       "layout": "IPY_MODEL_95eddcc183e840f68601e11bf0f7d1b6",
       "style": "IPY_MODEL_7339c3021da64f809eb25e3ae0177f6f"
      }
     },
     "228d82e28ce94ed7b96814344f54751a": {
      "model_module": "@jupyter-widgets/base",
      "model_module_version": "1.2.0",
      "model_name": "LayoutModel",
      "state": {
       "display": "none",
       "grid_template_areas": "\n                    \"label input\"\n                    \". description\"\n                ",
       "grid_template_columns": "25% 75%",
       "grid_template_rows": "auto auto",
       "width": "100%"
      }
     },
     "22d2caed95a84e9aa69902b44fceef95": {
      "model_module": "@jupyter-widgets/controls",
      "model_module_version": "1.5.0",
      "model_name": "DescriptionStyleModel",
      "state": {
       "description_width": ""
      }
     },
     "2334b420ec4e42459bba862c876e2fda": {
      "model_module": "@jupyter-widgets/base",
      "model_module_version": "1.2.0",
      "model_name": "LayoutModel",
      "state": {}
     },
     "23e50d09552c423d8b6f8f9bdd672d4c": {
      "model_module": "@jupyter-widgets/controls",
      "model_module_version": "1.5.0",
      "model_name": "ButtonStyleModel",
      "state": {}
     },
     "246a4abefc5c4edc9c6d1644edd52989": {
      "model_module": "@jupyter-widgets/controls",
      "model_module_version": "1.5.0",
      "model_name": "DescriptionStyleModel",
      "state": {
       "description_width": ""
      }
     },
     "248d200d57024c56a8877b2ca91e5299": {
      "model_module": "@jupyter-widgets/controls",
      "model_module_version": "1.5.0",
      "model_name": "ButtonStyleModel",
      "state": {}
     },
     "24ce37f7987a40cfb4dae836578d5a2d": {
      "model_module": "@jupyter-widgets/controls",
      "model_module_version": "1.5.0",
      "model_name": "GridBoxModel",
      "state": {
       "_dom_classes": [
        "nbtools-input",
        "nbtools-comboinput",
        "required"
       ],
       "children": [
        "IPY_MODEL_2918eb2a62894bb289f03bd6fa8e654d",
        "IPY_MODEL_532bdad9566b43bfa0bb744f42fc8d83",
        "IPY_MODEL_bad1d777cbfb4cd6823ccc05e3a2a6d3"
       ],
       "layout": "IPY_MODEL_f6d88a76f31e47f09adeca2c2d17620a"
      }
     },
     "251737bfd3bb461ab59c114b27344c98": {
      "model_module": "@jupyter-widgets/controls",
      "model_module_version": "1.5.0",
      "model_name": "TextModel",
      "state": {
       "_dom_classes": [
        "nbtools-menu-attached"
       ],
       "layout": "IPY_MODEL_b9daebe83f7b47aabf4722714371d767",
       "style": "IPY_MODEL_c12e7b08dd8f4ba9872cdbc481306d24"
      }
     },
     "2566d76cba9e4c0b8f113afeb37cac16": {
      "model_module": "@jupyter-widgets/base",
      "model_module_version": "1.2.0",
      "model_name": "LayoutModel",
      "state": {
       "grid_area": "description",
       "width": "auto"
      }
     },
     "2591fe272fd642c6b93ef49da8b5eb76": {
      "model_module": "@jupyter-widgets/base",
      "model_module_version": "1.2.0",
      "model_name": "LayoutModel",
      "state": {
       "grid_area": "label",
       "width": "auto"
      }
     },
     "25925af6646b4c13909ec16afeeb33df": {
      "model_module": "@jupyter-widgets/base",
      "model_module_version": "1.2.0",
      "model_name": "LayoutModel",
      "state": {}
     },
     "285e6c019c544ecc9065118016baf3f6": {
      "model_module": "@jupyter-widgets/controls",
      "model_module_version": "1.5.0",
      "model_name": "DescriptionStyleModel",
      "state": {
       "description_width": ""
      }
     },
     "28ae7bda47a3484ab02e3b509ea82b5e": {
      "model_module": "@jupyter-widgets/controls",
      "model_module_version": "1.5.0",
      "model_name": "VBoxModel",
      "state": {
       "_dom_classes": [
        "widget-interact"
       ],
       "children": [
        "IPY_MODEL_d3df612406c74f158680e87d8125b2a0",
        "IPY_MODEL_8aaa39e6f86a44dab45808b08a1dc8de"
       ],
       "layout": "IPY_MODEL_77eb5610edd647628233e5ecfe453999"
      }
     },
     "2918eb2a62894bb289f03bd6fa8e654d": {
      "model_module": "@jupyter-widgets/controls",
      "model_module_version": "1.5.0",
      "model_name": "LabelModel",
      "state": {
       "description": "GenePattern Server",
       "layout": "IPY_MODEL_ec262d6c8ccc454b97d42740b1ce550b",
       "style": "IPY_MODEL_1ec38c010c38431daa46a992d942750a",
       "value": "GenePattern Server*"
      }
     },
     "2930efffb1fd4ad1926de22cace32689": {
      "model_module": "@jupyter-widgets/controls",
      "model_module_version": "1.5.0",
      "model_name": "LabelModel",
      "state": {
       "description": "output_filename",
       "layout": "IPY_MODEL_e6d1561b52a345e694502876e02d4081",
       "style": "IPY_MODEL_c4e5b9df2fc04271895460136ed28d49",
       "value": "output_filename*"
      }
     },
     "299a4674a0954e698a3f1026bc3ef6dd": {
      "model_module": "@jupyter-widgets/controls",
      "model_module_version": "1.5.0",
      "model_name": "DescriptionStyleModel",
      "state": {
       "description_width": ""
      }
     },
     "2a193ff58df743569d55ba98ddb507f4": {
      "model_module": "@jupyter-widgets/base",
      "model_module_version": "1.2.0",
      "model_name": "LayoutModel",
      "state": {
       "grid_template_areas": "\n                    \"label input\"\n                    \". description\"\n                ",
       "grid_template_columns": "25% 75%",
       "grid_template_rows": "auto auto",
       "width": "100%"
      }
     },
     "2a6454f437d742e88b79b63439ef527e": {
      "model_module": "@jupyter-widgets/output",
      "model_module_version": "1.0.0",
      "model_name": "OutputModel",
      "state": {
       "layout": "IPY_MODEL_ff51bbcf449f43ea952ffdb954219ab6"
      }
     },
     "2a74e937aef9464abf6c15c5c26bc0db": {
      "model_module": "@jupyter-widgets/base",
      "model_module_version": "1.2.0",
      "model_name": "LayoutModel",
      "state": {
       "grid_area": "label",
       "width": "auto"
      }
     },
     "2a7a732d593d47f093e85051cdfaa9da": {
      "model_module": "@jupyter-widgets/base",
      "model_module_version": "1.2.0",
      "model_name": "LayoutModel",
      "state": {
       "grid_area": "input",
       "width": "auto"
      }
     },
     "2a7d51ee96ea4a1e8d479c3528111f8b": {
      "model_module": "@jupyter-widgets/base",
      "model_module_version": "1.2.0",
      "model_name": "LayoutModel",
      "state": {}
     },
     "2abe768f05a04d53872f6422f6800e8d": {
      "model_module": "@jupyter-widgets/base",
      "model_module_version": "1.2.0",
      "model_name": "LayoutModel",
      "state": {
       "grid_area": "label",
       "width": "auto"
      }
     },
     "2ad48022f9bf4b73b3082361ecbd19b7": {
      "model_module": "@jupyter-widgets/output",
      "model_module_version": "1.0.0",
      "model_name": "OutputModel",
      "state": {
       "layout": "IPY_MODEL_fd0277cb7eec496f997dafe52c562b9f",
       "outputs": [
        {
         "data": {},
         "metadata": {},
         "output_type": "display_data"
        },
        {
         "data": {
          "application/vnd.jupyter.widget-view+json": {
           "model_id": "2e7565440a5d4213b0dd78d14e40d98c",
           "version_major": 2,
           "version_minor": 0
          },
          "text/plain": "GPTaskWidget(collapse=True, color='rgba(10, 45, 105, 0.80)', description=\"Converts line endings to the host op…"
         },
         "metadata": {},
         "output_type": "display_data"
        },
        {
         "data": {
          "application/vnd.jupyter.widget-view+json": {
           "model_id": "43965b635ef64db2b8c550ad6e1055a2",
           "version_major": 2,
           "version_minor": 0
          },
          "text/plain": "Output()"
         },
         "metadata": {},
         "output_type": "display_data"
        }
       ]
      }
     },
     "2b29f435875b47c885b261d439d87f4b": {
      "model_module": "@jupyter-widgets/base",
      "model_module_version": "1.2.0",
      "model_name": "LayoutModel",
      "state": {
       "grid_area": "input",
       "width": "auto"
      }
     },
     "2b95fd891cf942c7ac326c899a61aa75": {
      "model_module": "@jupyter-widgets/controls",
      "model_module_version": "1.5.0",
      "model_name": "VBoxModel",
      "state": {
       "_dom_classes": [
        "widget-interact"
       ],
       "children": [
        "IPY_MODEL_845cba71627c49288e037fb7096d1c93",
        "IPY_MODEL_a7da89d1a0714913b7f7bc11a7c97ece",
        "IPY_MODEL_baf77bfdd4de4af4ade060c84af5f10b",
        "IPY_MODEL_a5477506a78f4421ac662c0a32189d3f"
       ],
       "layout": "IPY_MODEL_a7a8527d756d4a84992fe06d549a9800"
      }
     },
     "2b9ba91da876492bba55ca5b97f159b7": {
      "model_module": "@jupyter-widgets/controls",
      "model_module_version": "1.5.0",
      "model_name": "DescriptionStyleModel",
      "state": {
       "description_width": ""
      }
     },
     "2c69a4d8fed34424a882c9b5f0418c45": {
      "model_module": "@jupyter-widgets/base",
      "model_module_version": "1.2.0",
      "model_name": "LayoutModel",
      "state": {
       "grid_template_areas": "\n                    \"label input\"\n                    \". description\"\n                ",
       "grid_template_columns": "25% 75%",
       "grid_template_rows": "auto auto",
       "width": "100%"
      }
     },
     "2c70927558fb41ccac86351cf947de5e": {
      "model_module": "@jupyter-widgets/controls",
      "model_module_version": "1.5.0",
      "model_name": "LabelModel",
      "state": {
       "description": "Whether to smooth p-values",
       "layout": "IPY_MODEL_e6e7988161e54663b79354daf47af98d",
       "style": "IPY_MODEL_14c96600a2af4a7b80135b7a923a91aa",
       "value": "Whether to smooth p-values"
      }
     },
     "2d22192d49e04c9b8cfa78bf73d743be": {
      "model_module": "@jupyter-widgets/base",
      "model_module_version": "1.2.0",
      "model_name": "LayoutModel",
      "state": {
       "grid_area": "input",
       "width": "auto"
      }
     },
     "2e7565440a5d4213b0dd78d14e40d98c": {
      "model_module": "@genepattern/nbtools",
      "model_module_version": "^0.2.0",
      "model_name": "UIBuilderModel",
      "state": {
       "_dom_classes": [],
       "_model_module_version": "^0.2.0",
       "_parameters": [
        {
         "choices": {},
         "default": "",
         "description": "The input file (any non-binary file format)",
         "events": null,
         "hide": false,
         "id": null,
         "kinds": [],
         "label": "input_filename",
         "name": "input_filename",
         "optional": false,
         "type": "file",
         "value": ""
        },
        {
         "choices": {},
         "default": "<input.filename_basename>.cvt.<input.filename_extension>",
         "description": "The output file",
         "events": null,
         "hide": false,
         "id": null,
         "kinds": [],
         "label": "output_file",
         "name": "output_file",
         "optional": false,
         "type": "text",
         "value": ""
        },
        {
         "choices": {},
         "default": "",
         "description": "",
         "events": null,
         "hide": true,
         "id": null,
         "kinds": null,
         "label": "output variable",
         "name": "output_var",
         "optional": true,
         "type": "text",
         "value": ""
        }
       ],
       "_view_count": null,
       "_view_module_version": "^0.2.0",
       "color": "rgba(10, 45, 105, 0.80)",
       "description": "Converts line endings to the host operating system's format.",
       "form": "IPY_MODEL_2b95fd891cf942c7ac326c899a61aa75",
       "layout": "IPY_MODEL_4130de91d2c449039e6d83935f295172",
       "name": "ConvertLineEndings",
       "origin": "genepattern.taskwidget",
       "output": "IPY_MODEL_43965b635ef64db2b8c550ad6e1055a2",
       "output_var": ""
      }
     },
     "2e99426cce03449383fe8d58cf4b4c34": {
      "model_module": "@jupyter-widgets/controls",
      "model_module_version": "1.5.0",
      "model_name": "VBoxModel",
      "state": {
       "children": [
        "IPY_MODEL_fab2d1bdc016462c969a643fb20f5045"
       ],
       "layout": "IPY_MODEL_76207a736f7b461cb0bae5c447ac0fe6"
      }
     },
     "2f1c390ab55d437983bd1b0a9767c01a": {
      "model_module": "@jupyter-widgets/base",
      "model_module_version": "1.2.0",
      "model_name": "LayoutModel",
      "state": {
       "grid_area": "label",
       "width": "auto"
      }
     },
     "2f3c91960b6d4f879e548289c6b326e4": {
      "model_module": "@jupyter-widgets/controls",
      "model_module_version": "1.5.0",
      "model_name": "DescriptionStyleModel",
      "state": {
       "description_width": ""
      }
     },
     "2fa9ce9c85964fc39c69f4be3c1221c1": {
      "model_module": "@jupyter-widgets/controls",
      "model_module_version": "1.5.0",
      "model_name": "DropdownModel",
      "state": {
       "_options_labels": [
        "yes",
        "no"
       ],
       "index": 1,
       "layout": "IPY_MODEL_a36773288d254ca6a1cb487d5b76654a",
       "style": "IPY_MODEL_f669ff6d5a3741018139a7e01027f683"
      }
     },
     "2fbcab23d0e14f63a4739d4bef98a80b": {
      "model_module": "@jupyter-widgets/base",
      "model_module_version": "1.2.0",
      "model_name": "LayoutModel",
      "state": {
       "grid_template_areas": "\n                    \"label input\"\n                    \". description\"\n                ",
       "grid_template_columns": "25% 75%",
       "grid_template_rows": "auto auto",
       "width": "100%"
      }
     },
     "301c583f087e4956bff141404f02525b": {
      "model_module": "@jupyter-widgets/controls",
      "model_module_version": "1.5.0",
      "model_name": "DescriptionStyleModel",
      "state": {
       "description_width": ""
      }
     },
     "303abf41708c436ea6f2be43deee0e3e": {
      "model_module": "@jupyter-widgets/base",
      "model_module_version": "1.2.0",
      "model_name": "LayoutModel",
      "state": {
       "grid_template_areas": "\n                    \"label input\"\n                    \". description\"\n                ",
       "grid_template_columns": "25% 75%",
       "grid_template_rows": "auto auto",
       "width": "100%"
      }
     },
     "307cc0c027d1469fb15c663f2e9b9b61": {
      "model_module": "@jupyter-widgets/controls",
      "model_module_version": "1.5.0",
      "model_name": "LabelModel",
      "state": {
       "description": "The name of the output file",
       "layout": "IPY_MODEL_e1d58dea5e7542cf954c9f1277eaf80c",
       "style": "IPY_MODEL_80ebe92321524dfd8044cc5c5eac8caa",
       "value": "The name of the output file"
      }
     },
     "30b5499444244931b9e7898c52767174": {
      "model_module": "@jupyter-widgets/base",
      "model_module_version": "1.2.0",
      "model_name": "LayoutModel",
      "state": {
       "grid_area": "label",
       "width": "auto"
      }
     },
     "30e5d6a894c94a96b059f4ba9474fc29": {
      "model_module": "@jupyter-widgets/base",
      "model_module_version": "1.2.0",
      "model_name": "LayoutModel",
      "state": {
       "grid_area": "description",
       "width": "auto"
      }
     },
     "31b8b06881e1452598958026d5df35bd": {
      "model_module": "@jupyter-widgets/base",
      "model_module_version": "1.2.0",
      "model_name": "LayoutModel",
      "state": {
       "grid_area": "description",
       "width": "auto"
      }
     },
     "3201a3f8bc3948a39a84b927c15fa6bd": {
      "model_module": "@jupyter-widgets/controls",
      "model_module_version": "1.5.0",
      "model_name": "TextModel",
      "state": {
       "_dom_classes": [
        "nbtools-menu-attached"
       ],
       "layout": "IPY_MODEL_8179c1837a484868b919b3548f959679",
       "style": "IPY_MODEL_1e9752784d794dba8e1b7e24148a0b75"
      }
     },
     "3366d15d3ca04812b04673ca5b26e2cc": {
      "model_module": "@jupyter-widgets/controls",
      "model_module_version": "1.5.0",
      "model_name": "VBoxModel",
      "state": {
       "children": [
        "IPY_MODEL_b5748e06c9bb4c3b898a6549d03a70c6"
       ],
       "layout": "IPY_MODEL_7a9795581857447e95e045887744c5c7"
      }
     },
     "33788f562c3a4a7295be13d63fb4209e": {
      "model_module": "@jupyter-widgets/controls",
      "model_module_version": "1.5.0",
      "model_name": "LabelModel",
      "state": {
       "description": "number_of_permutations",
       "layout": "IPY_MODEL_2f1c390ab55d437983bd1b0a9767c01a",
       "style": "IPY_MODEL_e377479b5205487eb870f290aabb2a1e",
       "value": "number_of_permutations*"
      }
     },
     "3381de25d7784c40846ce83f2e5f9f35": {
      "model_module": "@jupyter-widgets/controls",
      "model_module_version": "1.5.0",
      "model_name": "VBoxModel",
      "state": {
       "_dom_classes": [
        "widget-interact"
       ],
       "children": [
        "IPY_MODEL_22012539bf084de79574b46b269626fc",
        "IPY_MODEL_7d7682efcc5745afa959ee01ab160d50"
       ],
       "layout": "IPY_MODEL_4a2cdd0c58004b2eb5ed483004db27c3"
      }
     },
     "33b92ee40d114881b807c899789f0374": {
      "model_module": "@jupyter-widgets/base",
      "model_module_version": "1.2.0",
      "model_name": "LayoutModel",
      "state": {}
     },
     "341fdf9bc27842aaa2b33758d0605312": {
      "model_module": "@jupyter-widgets/controls",
      "model_module_version": "1.5.0",
      "model_name": "ButtonModel",
      "state": {
       "_dom_classes": [
        "hidden"
       ],
       "description": "Run",
       "layout": "IPY_MODEL_f46ca25a14b44fd3b278b7438fb49d61",
       "style": "IPY_MODEL_cd1aea9a37c847b3b9669ddf1aeac8b6"
      }
     },
     "345f487f337546b3860ecd53b07a055b": {
      "model_module": "@jupyter-widgets/controls",
      "model_module_version": "1.5.0",
      "model_name": "ButtonStyleModel",
      "state": {}
     },
     "34c717df576441afbb52eb0331cbd87b": {
      "model_module": "@jupyter-widgets/controls",
      "model_module_version": "1.5.0",
      "model_name": "LabelModel",
      "state": {
       "layout": "IPY_MODEL_a624509f38b449d48166aeba3c1d8eb3",
       "style": "IPY_MODEL_b2688bbb6c3944a0b739acb3d75d3536"
      }
     },
     "352bf6789b044a91a28bd2f623a03048": {
      "model_module": "@jupyter-widgets/controls",
      "model_module_version": "1.5.0",
      "model_name": "DescriptionStyleModel",
      "state": {
       "description_width": ""
      }
     },
     "3636ba3e3bab4bf3b9185ff5fd797f10": {
      "model_module": "@jupyter-widgets/base",
      "model_module_version": "1.2.0",
      "model_name": "LayoutModel",
      "state": {
       "grid_area": "label",
       "width": "auto"
      }
     },
     "3664a629ab0047b4b1340873992bc940": {
      "model_module": "@jupyter-widgets/controls",
      "model_module_version": "1.5.0",
      "model_name": "DescriptionStyleModel",
      "state": {
       "description_width": ""
      }
     },
     "37001f3a97914dbbbf5950217e71475b": {
      "model_module": "@jupyter-widgets/base",
      "model_module_version": "1.2.0",
      "model_name": "LayoutModel",
      "state": {}
     },
     "37255d2dc89e4ba081008a34efd7e122": {
      "model_module": "@jupyter-widgets/controls",
      "model_module_version": "1.5.0",
      "model_name": "DescriptionStyleModel",
      "state": {
       "description_width": ""
      }
     },
     "3728cfba81164e3886d13b9c44734e64": {
      "model_module": "@jupyter-widgets/base",
      "model_module_version": "1.2.0",
      "model_name": "LayoutModel",
      "state": {
       "display": "none",
       "grid_template_areas": "\n                    \"label input\"\n                    \". description\"\n                ",
       "grid_template_columns": "25% 75%",
       "grid_template_rows": "auto auto",
       "width": "100%"
      }
     },
     "376d6114cca7416db47852859771f895": {
      "model_module": "@jupyter-widgets/base",
      "model_module_version": "1.2.0",
      "model_name": "LayoutModel",
      "state": {
       "grid_template_areas": "\n                    \"label input\"\n                    \". description\"\n                ",
       "grid_template_columns": "25% 75%",
       "grid_template_rows": "auto auto",
       "width": "100%"
      }
     },
     "3780067afcb846d7962e45de1c9faa6a": {
      "model_module": "@jupyter-widgets/controls",
      "model_module_version": "1.5.0",
      "model_name": "DescriptionStyleModel",
      "state": {
       "description_width": ""
      }
     },
     "37cc60eb6b7d41a2bebb1b467522623a": {
      "model_module": "@jupyter-widgets/controls",
      "model_module_version": "1.5.0",
      "model_name": "LabelModel",
      "state": {
       "description": "output variable",
       "layout": "IPY_MODEL_8009c7e47962407bb72897236c7a3a10",
       "style": "IPY_MODEL_e9258ae0d2db47629c83a1f898ab532c",
       "value": "output variable"
      }
     },
     "39ca6ac03a5e4840837cd01e9c2e55a7": {
      "model_module": "@jupyter-widgets/base",
      "model_module_version": "1.2.0",
      "model_name": "LayoutModel",
      "state": {
       "grid_area": "input",
       "width": "auto"
      }
     },
     "3a2d9faaba404c068776d918e3923fff": {
      "model_module": "@jupyter-widgets/base",
      "model_module_version": "1.2.0",
      "model_name": "LayoutModel",
      "state": {
       "grid_area": "description",
       "width": "auto"
      }
     },
     "3ac7433da9704b4a87bca3153e48588e": {
      "model_module": "@jupyter-widgets/base",
      "model_module_version": "1.2.0",
      "model_name": "LayoutModel",
      "state": {
       "grid_area": "input",
       "width": "auto"
      }
     },
     "3beabaefb2b34aabbf368596fc03c4f6": {
      "model_module": "@jupyter-widgets/controls",
      "model_module_version": "1.5.0",
      "model_name": "LabelModel",
      "state": {
       "description": "Password",
       "layout": "IPY_MODEL_30b5499444244931b9e7898c52767174",
       "style": "IPY_MODEL_5d0dca76c05c4faba4fb8c6627446775",
       "value": "Password*"
      }
     },
     "3bec0634530b44d8a7fd8e0a1a58a9e5": {
      "model_module": "@jupyter-widgets/base",
      "model_module_version": "1.2.0",
      "model_name": "LayoutModel",
      "state": {
       "grid_area": "label",
       "width": "auto"
      }
     },
     "3bf3271ac9844879a3eb2b800851241f": {
      "model_module": "@jupyter-widgets/controls",
      "model_module_version": "1.5.0",
      "model_name": "DescriptionStyleModel",
      "state": {
       "description_width": ""
      }
     },
     "3c37766e72fc43fe84916ba138778c80": {
      "model_module": "@jupyter-widgets/output",
      "model_module_version": "1.0.0",
      "model_name": "OutputModel",
      "state": {
       "layout": "IPY_MODEL_9f57bdebcfed43409d26e4b4b5d3dfe8"
      }
     },
     "3d39dd1dac204681ae6278217756dc26": {
      "model_module": "@jupyter-widgets/base",
      "model_module_version": "1.2.0",
      "model_name": "LayoutModel",
      "state": {}
     },
     "3db4f3a4d9914cb9be6026c0e04da332": {
      "model_module": "@jupyter-widgets/base",
      "model_module_version": "1.2.0",
      "model_name": "LayoutModel",
      "state": {}
     },
     "3ebfde1fa7f24fc6bd2074ff737019a2": {
      "model_module": "@jupyter-widgets/controls",
      "model_module_version": "1.5.0",
      "model_name": "LabelModel",
      "state": {
       "description": "output variable",
       "layout": "IPY_MODEL_3636ba3e3bab4bf3b9185ff5fd797f10",
       "style": "IPY_MODEL_aec99e34d7da422bb143d4b55d055dd5",
       "value": "output variable"
      }
     },
     "3ec6a12235744df1b4f2319fa5349536": {
      "model_module": "@jupyter-widgets/output",
      "model_module_version": "1.0.0",
      "model_name": "OutputModel",
      "state": {
       "layout": "IPY_MODEL_12bafc05e4164a70aff241fabec0c329"
      }
     },
     "3ee9165ade7845fc802eb0768bbdb0d7": {
      "model_module": "@jupyter-widgets/base",
      "model_module_version": "1.2.0",
      "model_name": "LayoutModel",
      "state": {
       "grid_area": "label",
       "width": "auto"
      }
     },
     "40bd8fe9919141608c3a1ca795b8039e": {
      "model_module": "@jupyter-widgets/base",
      "model_module_version": "1.2.0",
      "model_name": "LayoutModel",
      "state": {}
     },
     "4130de91d2c449039e6d83935f295172": {
      "model_module": "@jupyter-widgets/base",
      "model_module_version": "1.2.0",
      "model_name": "LayoutModel",
      "state": {}
     },
     "413573e978aa4835a2c42bd38bde40f2": {
      "model_module": "@jupyter-widgets/controls",
      "model_module_version": "1.5.0",
      "model_name": "ButtonModel",
      "state": {
       "_dom_classes": [
        "hidden"
       ],
       "description": "Run",
       "layout": "IPY_MODEL_f66b9b37bb054666a0484dffad9af6ba",
       "style": "IPY_MODEL_23e50d09552c423d8b6f8f9bdd672d4c"
      }
     },
     "41eb699c796c44098f840b690c04147e": {
      "model_module": "@jupyter-widgets/controls",
      "model_module_version": "1.5.0",
      "model_name": "DescriptionStyleModel",
      "state": {
       "description_width": ""
      }
     },
     "41f17e452e8246e29e2722e90438bd5d": {
      "model_module": "@jupyter-widgets/base",
      "model_module_version": "1.2.0",
      "model_name": "LayoutModel",
      "state": {
       "grid_area": "description",
       "width": "auto"
      }
     },
     "42b86281eca3400da38a0d24eaa3e562": {
      "model_module": "@jupyter-widgets/controls",
      "model_module_version": "1.5.0",
      "model_name": "DescriptionStyleModel",
      "state": {
       "description_width": ""
      }
     },
     "42d027eb848d494788b91a6918e72060": {
      "model_module": "@jupyter-widgets/base",
      "model_module_version": "1.2.0",
      "model_name": "LayoutModel",
      "state": {
       "grid_area": "description",
       "width": "auto"
      }
     },
     "43965b635ef64db2b8c550ad6e1055a2": {
      "model_module": "@jupyter-widgets/output",
      "model_module_version": "1.0.0",
      "model_name": "OutputModel",
      "state": {
       "layout": "IPY_MODEL_965c3119728a4ec3b7d7d8bf070880e1"
      }
     },
     "450325383e5b4bcebad651f334b6c3e1": {
      "model_module": "@jupyter-widgets/controls",
      "model_module_version": "1.5.0",
      "model_name": "LabelModel",
      "state": {
       "description": "cls_file",
       "layout": "IPY_MODEL_563417eae7ca4d57b13de2db1e564f41",
       "style": "IPY_MODEL_37255d2dc89e4ba081008a34efd7e122",
       "value": "cls_file*"
      }
     },
     "450c2311a7bb4de39197fd84031ee04f": {
      "model_module": "@jupyter-widgets/output",
      "model_module_version": "1.0.0",
      "model_name": "OutputModel",
      "state": {
       "layout": "IPY_MODEL_e030fde021fc454c8af14164cadf8215",
       "outputs": [
        {
         "data": {},
         "metadata": {},
         "output_type": "display_data"
        },
        {
         "data": {
          "application/vnd.jupyter.widget-view+json": {
           "model_id": "c84f0b2f41b44b1c828004d758558fb1",
           "version_major": 2,
           "version_minor": 0
          },
          "text/plain": "GPTaskWidget(collapse=True, color='rgba(10, 45, 105, 0.80)', description='Identify differentially expressed ge…"
         },
         "metadata": {},
         "output_type": "display_data"
        },
        {
         "data": {
          "application/vnd.jupyter.widget-view+json": {
           "model_id": "af952ee8231c441fb76fd3b78ee5b86f",
           "version_major": 2,
           "version_minor": 0
          },
          "text/plain": "Output()"
         },
         "metadata": {},
         "output_type": "display_data"
        }
       ]
      }
     },
     "45ed424b8c79455e80ae816185d8f552": {
      "model_module": "@jupyter-widgets/base",
      "model_module_version": "1.2.0",
      "model_name": "LayoutModel",
      "state": {
       "grid_area": "input",
       "width": "auto"
      }
     },
     "4649c572bab444f88673fe161715af6a": {
      "model_module": "@jupyter-widgets/controls",
      "model_module_version": "1.5.0",
      "model_name": "DescriptionStyleModel",
      "state": {
       "description_width": ""
      }
     },
     "467984c0694944a488bb7c7550403be3": {
      "model_module": "@jupyter-widgets/base",
      "model_module_version": "1.2.0",
      "model_name": "LayoutModel",
      "state": {
       "grid_area": "input",
       "width": "auto"
      }
     },
     "46896688c7f24ca1b9391d072b9b31ea": {
      "model_module": "@jupyter-widgets/controls",
      "model_module_version": "1.5.0",
      "model_name": "DescriptionStyleModel",
      "state": {
       "description_width": ""
      }
     },
     "47fed7d437574db4921ebfe0c4bce36a": {
      "model_module": "@jupyter-widgets/base",
      "model_module_version": "1.2.0",
      "model_name": "LayoutModel",
      "state": {
       "grid_area": "label",
       "width": "auto"
      }
     },
     "486210a363f949d694d3d1f3f9638d5e": {
      "model_module": "@jupyter-widgets/base",
      "model_module_version": "1.2.0",
      "model_name": "LayoutModel",
      "state": {}
     },
     "49602675f0be4b63b62230db34dd05df": {
      "model_module": "@jupyter-widgets/controls",
      "model_module_version": "1.5.0",
      "model_name": "DescriptionStyleModel",
      "state": {
       "description_width": ""
      }
     },
     "4a16b8363deb407bb24a05efa698315c": {
      "model_module": "@jupyter-widgets/base",
      "model_module_version": "1.2.0",
      "model_name": "LayoutModel",
      "state": {}
     },
     "4a2cdd0c58004b2eb5ed483004db27c3": {
      "model_module": "@jupyter-widgets/base",
      "model_module_version": "1.2.0",
      "model_name": "LayoutModel",
      "state": {}
     },
     "4b0681b1c16e4a91b1c1dcebd1a022b8": {
      "model_module": "@jupyter-widgets/controls",
      "model_module_version": "1.5.0",
      "model_name": "LabelModel",
      "state": {
       "description": "output variable",
       "layout": "IPY_MODEL_5b37936418a5463e99707722167474c4",
       "style": "IPY_MODEL_3664a629ab0047b4b1340873992bc940",
       "value": "output variable"
      }
     },
     "4b5b7c7f2b15485caaade5db6768b61b": {
      "model_module": "@jupyter-widgets/controls",
      "model_module_version": "1.5.0",
      "model_name": "DescriptionStyleModel",
      "state": {
       "description_width": ""
      }
     },
     "4c34c40c97d04b3cbd1685c0daeb4b06": {
      "model_module": "@jupyter-widgets/controls",
      "model_module_version": "1.5.0",
      "model_name": "LabelModel",
      "state": {
       "description": "The class file containing the confounding variable.",
       "layout": "IPY_MODEL_3a2d9faaba404c068776d918e3923fff",
       "style": "IPY_MODEL_2f3c91960b6d4f879e548289c6b326e4",
       "value": "The class file containing the confounding variable."
      }
     },
     "4ca62d09302e49d5ae5315e67eb122f0": {
      "model_module": "@jupyter-widgets/controls",
      "model_module_version": "1.5.0",
      "model_name": "GridBoxModel",
      "state": {
       "_dom_classes": [
        "nbtools-input",
        "nbtools-textinput"
       ],
       "children": [
        "IPY_MODEL_9dff7f81286b49f6b6addb260c3d47da",
        "IPY_MODEL_9951ddebb8c64bf58d066b937d3178f4",
        "IPY_MODEL_dd33a3afe5bf43b39333b2aa9673d552"
       ],
       "layout": "IPY_MODEL_57b3302024704d70900e0d5f28c7b75a"
      }
     },
     "4cec8f25e3b643b88c81120766d60ff7": {
      "model_module": "@jupyter-widgets/controls",
      "model_module_version": "1.5.0",
      "model_name": "GridBoxModel",
      "state": {
       "_dom_classes": [
        "nbtools-input",
        "nbtools-selectinput",
        "required"
       ],
       "children": [
        "IPY_MODEL_7290475712fa4b97bbc9b8c8b4ace315",
        "IPY_MODEL_0cc0ca5c6dd1495db01956332fcf804b",
        "IPY_MODEL_bb21d35aa8a24a59a4233314c330e11c"
       ],
       "layout": "IPY_MODEL_10ad3b37075545c4ae3378b401b36c09"
      }
     },
     "4d0deebbf5e24aea9ee4cfe8382a53ac": {
      "model_module": "@jupyter-widgets/controls",
      "model_module_version": "1.5.0",
      "model_name": "LabelModel",
      "state": {
       "description": "The output file",
       "layout": "IPY_MODEL_41f17e452e8246e29e2722e90438bd5d",
       "style": "IPY_MODEL_9e3f81e63ca241668215059d37373bf3",
       "value": "The output file"
      }
     },
     "4d1955420b824a11aa913d6d6fcb70e2": {
      "model_module": "@jupyter-widgets/controls",
      "model_module_version": "1.5.0",
      "model_name": "ButtonStyleModel",
      "state": {}
     },
     "4d448db8a1bd47a7aa77e1f620a5670a": {
      "model_module": "@jupyter-widgets/controls",
      "model_module_version": "1.5.0",
      "model_name": "VBoxModel",
      "state": {
       "_dom_classes": [
        "widget-interact"
       ],
       "children": [
        "IPY_MODEL_24ce37f7987a40cfb4dae836578d5a2d",
        "IPY_MODEL_6827eb5a35964e5e893d3fc33aa14441",
        "IPY_MODEL_7355b7505a3b4162a799627b108b924b",
        "IPY_MODEL_66e8ca53104b43c69bbf0b940fe342b4",
        "IPY_MODEL_c9e30fb1cdaa417586c87671227bd02e"
       ],
       "layout": "IPY_MODEL_cb36f80f256e4e5099dccd64c0b3f976"
      }
     },
     "4d80aecccba8421d9eeef3abe1069323": {
      "model_module": "@jupyter-widgets/controls",
      "model_module_version": "1.5.0",
      "model_name": "ButtonModel",
      "state": {
       "_dom_classes": [
        "hidden"
       ],
       "description": "Run",
       "layout": "IPY_MODEL_e88769ea2ba04d58a9efb230620f45e7",
       "style": "IPY_MODEL_248d200d57024c56a8877b2ca91e5299"
      }
     },
     "4ef7ee127e1e478195f1f8aa2482b0a4": {
      "model_module": "@jupyter-widgets/controls",
      "model_module_version": "1.5.0",
      "model_name": "GridBoxModel",
      "state": {
       "_dom_classes": [
        "nbtools-input",
        "nbtools-fileinput",
        "required"
       ],
       "children": [
        "IPY_MODEL_b201a5b7183d4ad39597203fd487446b",
        "IPY_MODEL_630e6bd1064e411c80f98f7413ff4bf1",
        "IPY_MODEL_ff203dfcd78f42a49a1d8c586edcf98b"
       ],
       "layout": "IPY_MODEL_2fbcab23d0e14f63a4739d4bef98a80b"
      }
     },
     "4f6c5dcd588a46469f9ba9c1852a736e": {
      "model_module": "@jupyter-widgets/controls",
      "model_module_version": "1.5.0",
      "model_name": "LabelModel",
      "state": {
       "layout": "IPY_MODEL_fcfcc3c3a92847b095dcc7324dc12853",
       "style": "IPY_MODEL_d222c6191cc54dd7b2ead4f5728dbf28"
      }
     },
     "4fb9d812dcf746d384d576ef699ad217": {
      "model_module": "@jupyter-widgets/controls",
      "model_module_version": "1.5.0",
      "model_name": "FileUploadModel",
      "state": {
       "accept": ".cls",
       "description_tooltip": null,
       "layout": "IPY_MODEL_e6297bbc920a47039b07182ca59894c8",
       "style": "IPY_MODEL_6f544b2dbd93476d8fdd11aa29c6b11b"
      }
     },
     "4fd582bbce4842be8597e84d4408c889": {
      "model_module": "@jupyter-widgets/controls",
      "model_module_version": "1.5.0",
      "model_name": "GridBoxModel",
      "state": {
       "_dom_classes": [
        "nbtools-input",
        "nbtools-fileinput",
        "required"
       ],
       "children": [
        "IPY_MODEL_ba572c08aab743c294d86c8716ac7366",
        "IPY_MODEL_8eb72ed509914c18a36b5a3a8fdaac9c",
        "IPY_MODEL_85445016c38d40e1b896e3ee5f52e695"
       ],
       "layout": "IPY_MODEL_eb5d80e44478463b91d11ef17df46d17"
      }
     },
     "4fe321bb09da41f58b993e4d2946ef0b": {
      "model_module": "@jupyter-widgets/controls",
      "model_module_version": "1.5.0",
      "model_name": "DescriptionStyleModel",
      "state": {
       "description_width": ""
      }
     },
     "5064c8ef53b945acb66895e104b8731a": {
      "model_module": "@jupyter-widgets/base",
      "model_module_version": "1.2.0",
      "model_name": "LayoutModel",
      "state": {
       "grid_area": "label",
       "width": "auto"
      }
     },
     "50915c5e00eb4fcfa4e3e5de958e1609": {
      "model_module": "@jupyter-widgets/base",
      "model_module_version": "1.2.0",
      "model_name": "LayoutModel",
      "state": {
       "grid_area": "description",
       "width": "auto"
      }
     },
     "50fc47e4e1564ab7bbaa5f0eb3dbcd58": {
      "model_module": "@jupyter-widgets/controls",
      "model_module_version": "1.5.0",
      "model_name": "DescriptionStyleModel",
      "state": {
       "description_width": ""
      }
     },
     "51067e2d5d7e4a1bbbb68d28a53c36af": {
      "model_module": "@jupyter-widgets/base",
      "model_module_version": "1.2.0",
      "model_name": "LayoutModel",
      "state": {}
     },
     "519daa0c2b914a3d907063d5dd1ec48a": {
      "model_module": "@jupyter-widgets/controls",
      "model_module_version": "1.5.0",
      "model_name": "LabelModel",
      "state": {
       "description": "complete",
       "layout": "IPY_MODEL_3ee9165ade7845fc802eb0768bbdb0d7",
       "style": "IPY_MODEL_b9bcc67d1066424ca17798332b7b2fd7",
       "value": "complete*"
      }
     },
     "51e2fa1016cc4738b639d94ecca0bc1b": {
      "model_module": "@jupyter-widgets/base",
      "model_module_version": "1.2.0",
      "model_name": "LayoutModel",
      "state": {
       "grid_template_areas": "\n                    \"label input\"\n                    \". description\"\n                ",
       "grid_template_columns": "25% 75%",
       "grid_template_rows": "auto auto",
       "width": "100%"
      }
     },
     "52e336c918634762a9d16864184bcda1": {
      "model_module": "@jupyter-widgets/controls",
      "model_module_version": "1.5.0",
      "model_name": "ButtonModel",
      "state": {
       "_dom_classes": [
        "hidden"
       ],
       "description": "Run",
       "layout": "IPY_MODEL_025b163413444dda94ec3b9c54220ab5",
       "style": "IPY_MODEL_092072caf3974da9a7b904d4faa77c28"
      }
     },
     "53039c41ddc34af7bb5f741797321ab9": {
      "model_module": "@jupyter-widgets/base",
      "model_module_version": "1.2.0",
      "model_name": "LayoutModel",
      "state": {}
     },
     "531685810e8d4ac3a19fa836bd6ee2dd": {
      "model_module": "@jupyter-widgets/base",
      "model_module_version": "1.2.0",
      "model_name": "LayoutModel",
      "state": {
       "grid_area": "description",
       "width": "auto"
      }
     },
     "532bdad9566b43bfa0bb744f42fc8d83": {
      "model_module": "@jupyter-widgets/controls",
      "model_module_version": "1.5.0",
      "model_name": "ComboboxModel",
      "state": {
       "_dom_classes": [
        "nbtools-menu-attached",
        "nbtools-nosendto"
       ],
       "choices": {
        "Broad Internal": "https://gpbroad.broadinstitute.org/gp",
        "GenePattern Cloud": "https://cloud.genepattern.org/gp",
        "Indiana University": "https://gp.indiana.edu/gp"
       },
       "ensure_option": false,
       "kinds": [],
       "layout": "IPY_MODEL_62de6407c16e46df9cfccd54fe457287",
       "style": "IPY_MODEL_dd62d195aaae4933a4e40add9030e5b0",
       "value": "https://cloud.genepattern.org/gp"
      }
     },
     "53c96e41886b4c2a901673a49872e513": {
      "model_module": "@jupyter-widgets/controls",
      "model_module_version": "1.5.0",
      "model_name": "TextModel",
      "state": {
       "_dom_classes": [
        "nbtools-menu-attached"
       ],
       "layout": "IPY_MODEL_93d604a5a6d946d7b9a46757f559d60b",
       "style": "IPY_MODEL_79b40ceb831c4234b13b353e0b2f4712",
       "value": "10000"
      }
     },
     "540d4339e22a4c28a0b497845e838cf9": {
      "model_module": "@jupyter-widgets/controls",
      "model_module_version": "1.5.0",
      "model_name": "DescriptionStyleModel",
      "state": {
       "description_width": ""
      }
     },
     "542c03b2890748d78fb83bc00ddba68a": {
      "model_module": "@jupyter-widgets/controls",
      "model_module_version": "1.5.0",
      "model_name": "DescriptionStyleModel",
      "state": {
       "description_width": ""
      }
     },
     "54332e48dc59490cbac59b9a491c564d": {
      "model_module": "@jupyter-widgets/controls",
      "model_module_version": "1.5.0",
      "model_name": "DescriptionStyleModel",
      "state": {
       "description_width": ""
      }
     },
     "55a90629c3994220bab036416d3dc384": {
      "model_module": "@jupyter-widgets/base",
      "model_module_version": "1.2.0",
      "model_name": "LayoutModel",
      "state": {}
     },
     "55acc39e66af4344846119b676f2b855": {
      "model_module": "@jupyter-widgets/controls",
      "model_module_version": "1.5.0",
      "model_name": "DescriptionStyleModel",
      "state": {
       "description_width": ""
      }
     },
     "563417eae7ca4d57b13de2db1e564f41": {
      "model_module": "@jupyter-widgets/base",
      "model_module_version": "1.2.0",
      "model_name": "LayoutModel",
      "state": {
       "grid_area": "label",
       "width": "auto"
      }
     },
     "56747bba0513468d8a1ce59a165b72f3": {
      "model_module": "@jupyter-widgets/controls",
      "model_module_version": "1.5.0",
      "model_name": "VBoxModel",
      "state": {
       "layout": "IPY_MODEL_3db4f3a4d9914cb9be6026c0e04da332"
      }
     },
     "56cf3547f0d942b7890b195e2b657d6a": {
      "model_module": "@jupyter-widgets/controls",
      "model_module_version": "1.5.0",
      "model_name": "VBoxModel",
      "state": {
       "children": [
        "IPY_MODEL_56d56a1aa157480c999185169f51287e"
       ],
       "layout": "IPY_MODEL_51067e2d5d7e4a1bbbb68d28a53c36af"
      }
     },
     "56d56a1aa157480c999185169f51287e": {
      "model_module": "@jupyter-widgets/controls",
      "model_module_version": "1.5.0",
      "model_name": "ComboboxModel",
      "state": {
       "_dom_classes": [
        "nbtools-menu-attached"
       ],
       "choices": {},
       "ensure_option": false,
       "kinds": [
        "gct",
        "res"
       ],
       "layout": "IPY_MODEL_f6c3bc7f9a5643ef99f95a40fa101902",
       "style": "IPY_MODEL_50fc47e4e1564ab7bbaa5f0eb3dbcd58"
      }
     },
     "56ea97bb0e8f4f96a3459639c4bef986": {
      "model_module": "@jupyter-widgets/base",
      "model_module_version": "1.2.0",
      "model_name": "LayoutModel",
      "state": {
       "grid_area": "label",
       "width": "auto"
      }
     },
     "572a0e8219e04aa58aea9e39256c29e2": {
      "model_module": "@jupyter-widgets/base",
      "model_module_version": "1.2.0",
      "model_name": "LayoutModel",
      "state": {
       "grid_area": "label",
       "width": "auto"
      }
     },
     "57b3302024704d70900e0d5f28c7b75a": {
      "model_module": "@jupyter-widgets/base",
      "model_module_version": "1.2.0",
      "model_name": "LayoutModel",
      "state": {
       "display": "none",
       "grid_template_areas": "\n                    \"label input\"\n                    \". description\"\n                ",
       "grid_template_columns": "25% 75%",
       "grid_template_rows": "auto auto",
       "width": "100%"
      }
     },
     "57ed12029efb417eae8a21eb5690147d": {
      "model_module": "@jupyter-widgets/controls",
      "model_module_version": "1.5.0",
      "model_name": "LabelModel",
      "state": {
       "layout": "IPY_MODEL_531685810e8d4ac3a19fa836bd6ee2dd",
       "style": "IPY_MODEL_1a7b478004024afba08e5f05992d3bb6"
      }
     },
     "5aca12081ed74e56b22157d4e0b77c3b": {
      "model_module": "@jupyter-widgets/output",
      "model_module_version": "1.0.0",
      "model_name": "OutputModel",
      "state": {
       "layout": "IPY_MODEL_15dc0d58c0f74c7ba96b54db998592b8"
      }
     },
     "5b37936418a5463e99707722167474c4": {
      "model_module": "@jupyter-widgets/base",
      "model_module_version": "1.2.0",
      "model_name": "LayoutModel",
      "state": {
       "grid_area": "label",
       "width": "auto"
      }
     },
     "5c2b3fc13ac14ed5a8db147c4c29c22d": {
      "model_module": "@jupyter-widgets/controls",
      "model_module_version": "1.5.0",
      "model_name": "ButtonStyleModel",
      "state": {}
     },
     "5d0dca76c05c4faba4fb8c6627446775": {
      "model_module": "@jupyter-widgets/controls",
      "model_module_version": "1.5.0",
      "model_name": "DescriptionStyleModel",
      "state": {
       "description_width": ""
      }
     },
     "5de945f7b9894359936e8bfdba2923ea": {
      "model_module": "@jupyter-widgets/controls",
      "model_module_version": "1.5.0",
      "model_name": "DescriptionStyleModel",
      "state": {
       "description_width": ""
      }
     },
     "5ef2d9c725c944eeacd2709c2ce20805": {
      "model_module": "@jupyter-widgets/controls",
      "model_module_version": "1.5.0",
      "model_name": "TextModel",
      "state": {
       "_dom_classes": [
        "nbtools-menu-attached"
       ],
       "layout": "IPY_MODEL_7fd1d6a0843d4c67b7ffa7f677a69c6f",
       "style": "IPY_MODEL_c96200181f614e45a70a3704088eb0a2"
      }
     },
     "5efbfd7ee40c44998a44a8abd6907b33": {
      "model_module": "@jupyter-widgets/controls",
      "model_module_version": "1.5.0",
      "model_name": "FileUploadModel",
      "state": {
       "accept": ".Comparative Marker Selection",
       "description_tooltip": null,
       "layout": "IPY_MODEL_0a769eabbf6842e5aa37e4ae281f636a",
       "style": "IPY_MODEL_986c924066734ec8b7cbfe72e596eabb"
      }
     },
     "5fd187f81cfc46f5a97b431689819330": {
      "model_module": "@jupyter-widgets/base",
      "model_module_version": "1.2.0",
      "model_name": "LayoutModel",
      "state": {
       "grid_area": "description",
       "width": "auto"
      }
     },
     "618c41d43d824225abf2dbaa049a6757": {
      "model_module": "@jupyter-widgets/base",
      "model_module_version": "1.2.0",
      "model_name": "LayoutModel",
      "state": {
       "grid_area": "input",
       "width": "auto"
      }
     },
     "618ff1db57ab452489d2a23b56c841b2": {
      "model_module": "@jupyter-widgets/base",
      "model_module_version": "1.2.0",
      "model_name": "LayoutModel",
      "state": {
       "grid_area": "input",
       "width": "auto"
      }
     },
     "627db90e43b44d45bfdc2d562573d50e": {
      "model_module": "@jupyter-widgets/controls",
      "model_module_version": "1.5.0",
      "model_name": "DescriptionStyleModel",
      "state": {
       "description_width": ""
      }
     },
     "62de6407c16e46df9cfccd54fe457287": {
      "model_module": "@jupyter-widgets/base",
      "model_module_version": "1.2.0",
      "model_name": "LayoutModel",
      "state": {
       "grid_area": "input",
       "width": "auto"
      }
     },
     "630e6bd1064e411c80f98f7413ff4bf1": {
      "model_module": "@jupyter-widgets/controls",
      "model_module_version": "1.5.0",
      "model_name": "HBoxModel",
      "state": {
       "children": [
        "IPY_MODEL_cecc5c87be2a402b8a56e23c83bc50a8",
        "IPY_MODEL_56cf3547f0d942b7890b195e2b657d6a"
       ],
       "layout": "IPY_MODEL_808ee56698e04a6fa6b81ae01e21bae5"
      }
     },
     "636e0620659f42b9ad0688ce4da25a34": {
      "model_module": "@jupyter-widgets/controls",
      "model_module_version": "1.5.0",
      "model_name": "HBoxModel",
      "state": {
       "children": [
        "IPY_MODEL_8b5ede9b30ea4f5698b36ff831f521e7",
        "IPY_MODEL_2e99426cce03449383fe8d58cf4b4c34"
       ],
       "layout": "IPY_MODEL_09bc0f1cbc9a41bba1b1e190bf5ed41a"
      }
     },
     "63c90ac2c0204979833e70cd99290010": {
      "model_module": "@jupyter-widgets/controls",
      "model_module_version": "1.5.0",
      "model_name": "LabelModel",
      "state": {
       "description": "output variable",
       "layout": "IPY_MODEL_a31e9047a625415c85bfeda8ce0c1e6d",
       "style": "IPY_MODEL_299a4674a0954e698a3f1026bc3ef6dd",
       "value": "output variable"
      }
     },
     "65b5dcb7386446569621a7e38aafe7de": {
      "model_module": "@jupyter-widgets/controls",
      "model_module_version": "1.5.0",
      "model_name": "LabelModel",
      "state": {
       "layout": "IPY_MODEL_0887bb763d2244799460b764e0d31ed0",
       "style": "IPY_MODEL_7e8fbfa229dd4910a4ed8a6dc7a231f0"
      }
     },
     "65e0136afecf4e8895b9352285a9e288": {
      "model_module": "@jupyter-widgets/base",
      "model_module_version": "1.2.0",
      "model_name": "LayoutModel",
      "state": {
       "grid_area": "input",
       "width": "auto"
      }
     },
     "66ad0c0eb4474f23b26e204880ddfcc4": {
      "model_module": "@jupyter-widgets/controls",
      "model_module_version": "1.5.0",
      "model_name": "LabelModel",
      "state": {
       "description": "The class file - .cls",
       "layout": "IPY_MODEL_7c9dd4ef4d86479cb635249c01329758",
       "style": "IPY_MODEL_07567b754ad04c54b9aa5a028827fe6e",
       "value": "The class file - .cls"
      }
     },
     "66e8ca53104b43c69bbf0b940fe342b4": {
      "model_module": "@jupyter-widgets/controls",
      "model_module_version": "1.5.0",
      "model_name": "ButtonModel",
      "state": {
       "_dom_classes": [
        "hidden"
       ],
       "description": "Run",
       "layout": "IPY_MODEL_978ede93b2294cfcaa74433275042d18",
       "style": "IPY_MODEL_ee6e86a5a36345e1bd12db192352d4dd"
      }
     },
     "673be5079b2f4215ad7b9516f3505cf8": {
      "model_module": "@jupyter-widgets/controls",
      "model_module_version": "1.5.0",
      "model_name": "IntTextModel",
      "state": {
       "layout": "IPY_MODEL_b8e2e92837c447b4a42e5d577a11f9b0",
       "step": 1,
       "style": "IPY_MODEL_46896688c7f24ca1b9391d072b9b31ea",
       "value": 779948241
      }
     },
     "674b6480103046bd8d4c958f4e200f38": {
      "model_module": "@jupyter-widgets/controls",
      "model_module_version": "1.5.0",
      "model_name": "DescriptionStyleModel",
      "state": {
       "description_width": ""
      }
     },
     "679fa0700c7c4539b5260bf86de771c5": {
      "model_module": "@jupyter-widgets/controls",
      "model_module_version": "1.5.0",
      "model_name": "LabelModel",
      "state": {
       "layout": "IPY_MODEL_31b8b06881e1452598958026d5df35bd",
       "style": "IPY_MODEL_037f15c981db4475940913a9fdf67d32"
      }
     },
     "67d875f95c5844799cd9b4601948afdc": {
      "model_module": "@genepattern/nbtools",
      "model_module_version": "^0.2.0",
      "model_name": "UIBuilderModel",
      "state": {
       "_dom_classes": [],
       "_model_module_version": "^0.2.0",
       "_parameters": [
        {
         "choices": {},
         "default": "",
         "description": "The output from ComparativeMarkerSelection",
         "events": null,
         "hide": false,
         "id": null,
         "kinds": [
          "Comparative Marker Selection"
         ],
         "label": "comparative_marker_selection_filename",
         "name": "comparative_marker_selection_filename",
         "optional": false,
         "type": "file",
         "value": ""
        },
        {
         "choices": {},
         "default": "",
         "description": "The dataset file used as input to ComparativeMarkerSelection",
         "events": null,
         "hide": false,
         "id": null,
         "kinds": [
          "res",
          "gct"
         ],
         "label": "dataset_filename",
         "name": "dataset_filename",
         "optional": false,
         "type": "file",
         "value": ""
        },
        {
         "choices": {},
         "default": "",
         "description": "",
         "events": null,
         "hide": true,
         "id": null,
         "kinds": null,
         "label": "output variable",
         "name": "output_var",
         "optional": true,
         "type": "text",
         "value": ""
        }
       ],
       "_view_count": null,
       "_view_module_version": "^0.2.0",
       "color": "rgba(10, 45, 105, 0.80)",
       "description": "Views the results from ComparativeMarkerSelection",
       "form": "IPY_MODEL_906d9f0aa2f24e03a41524aa365e5a29",
       "layout": "IPY_MODEL_4a16b8363deb407bb24a05efa698315c",
       "name": "ComparativeMarkerSelectionViewer",
       "origin": "genepattern.taskwidget",
       "output": "IPY_MODEL_a97ca9890a2c4ce6b558f5b911067e13",
       "output_var": ""
      }
     },
     "6827eb5a35964e5e893d3fc33aa14441": {
      "model_module": "@jupyter-widgets/controls",
      "model_module_version": "1.5.0",
      "model_name": "GridBoxModel",
      "state": {
       "_dom_classes": [
        "nbtools-input",
        "nbtools-textinput",
        "required"
       ],
       "children": [
        "IPY_MODEL_fe0cedf9ac62474884bb7923be31ad5c",
        "IPY_MODEL_e3e903c0428847a6b00a3cbc7e47af2e",
        "IPY_MODEL_34c717df576441afbb52eb0331cbd87b"
       ],
       "layout": "IPY_MODEL_c5691697b498401599b00631d543c0f6"
      }
     },
     "6912166819d84aa2b50553f943d2719e": {
      "model_module": "@jupyter-widgets/controls",
      "model_module_version": "1.5.0",
      "model_name": "GridBoxModel",
      "state": {
       "_dom_classes": [
        "nbtools-input",
        "nbtools-textinput"
       ],
       "children": [
        "IPY_MODEL_1b885b67f23e4a68b8ac82bb04ceb8b1",
        "IPY_MODEL_b2d42f7b319948b395559c8cb86f78c2",
        "IPY_MODEL_1c7f731ff9084de98fd45543808cace5"
       ],
       "layout": "IPY_MODEL_6b039fe6f38840f7a3ce1621432e32b0"
      }
     },
     "691aad6ba1dd4e48bbf3d40d356370e0": {
      "model_module": "@jupyter-widgets/controls",
      "model_module_version": "1.5.0",
      "model_name": "DescriptionStyleModel",
      "state": {
       "description_width": ""
      }
     },
     "6a7d81a39abe4832b7c3e04f7524f5cf": {
      "model_module": "@jupyter-widgets/controls",
      "model_module_version": "1.5.0",
      "model_name": "VBoxModel",
      "state": {
       "children": [
        "IPY_MODEL_f4da35fe6dfe4bfeab8b0975d6f18eaa"
       ],
       "layout": "IPY_MODEL_37001f3a97914dbbbf5950217e71475b"
      }
     },
     "6b039fe6f38840f7a3ce1621432e32b0": {
      "model_module": "@jupyter-widgets/base",
      "model_module_version": "1.2.0",
      "model_name": "LayoutModel",
      "state": {
       "display": "none",
       "grid_template_areas": "\n                    \"label input\"\n                    \". description\"\n                ",
       "grid_template_columns": "25% 75%",
       "grid_template_rows": "auto auto",
       "width": "100%"
      }
     },
     "6cdabc2f3ba24ceea8f1cb54d4ef0915": {
      "model_module": "@jupyter-widgets/controls",
      "model_module_version": "1.5.0",
      "model_name": "DescriptionStyleModel",
      "state": {
       "description_width": ""
      }
     },
     "6d1f779076474ea696bcb91f8ed402e7": {
      "model_module": "@jupyter-widgets/base",
      "model_module_version": "1.2.0",
      "model_name": "LayoutModel",
      "state": {}
     },
     "6e9586dc2e7b402ea318fc8ac30abf2d": {
      "model_module": "@jupyter-widgets/controls",
      "model_module_version": "1.5.0",
      "model_name": "VBoxModel",
      "state": {
       "_dom_classes": [
        "widget-interact"
       ],
       "children": [
        "IPY_MODEL_a417a6fb434442b7abaf348a6709a1fd",
        "IPY_MODEL_2a6454f437d742e88b79b63439ef527e"
       ],
       "layout": "IPY_MODEL_8fc0ef6f374e431a9e5c30fef405e0dc"
      }
     },
     "6f544b2dbd93476d8fdd11aa29c6b11b": {
      "model_module": "@jupyter-widgets/controls",
      "model_module_version": "1.5.0",
      "model_name": "ButtonStyleModel",
      "state": {}
     },
     "7084b54ffbab4b129547d5d64a48081e": {
      "model_module": "@jupyter-widgets/controls",
      "model_module_version": "1.5.0",
      "model_name": "DescriptionStyleModel",
      "state": {
       "description_width": ""
      }
     },
     "71f2bb274cfe467eaad43de247b85850": {
      "model_module": "@jupyter-widgets/controls",
      "model_module_version": "1.5.0",
      "model_name": "GridBoxModel",
      "state": {
       "_dom_classes": [
        "nbtools-input",
        "nbtools-numberinput",
        "required"
       ],
       "children": [
        "IPY_MODEL_fded7c38d7c74d5cbbfe77d5e7910feb",
        "IPY_MODEL_673be5079b2f4215ad7b9516f3505cf8",
        "IPY_MODEL_133c407ecba54b8b9543aea9749ff379"
       ],
       "layout": "IPY_MODEL_51e2fa1016cc4738b639d94ecca0bc1b"
      }
     },
     "71f4c15d7bdb4359801ceba8bed9bf4a": {
      "model_module": "@jupyter-widgets/controls",
      "model_module_version": "1.5.0",
      "model_name": "TextModel",
      "state": {
       "_dom_classes": [
        "nbtools-menu-attached"
       ],
       "layout": "IPY_MODEL_dabf239d66274a8eb65ac489d2d65b98",
       "style": "IPY_MODEL_41eb699c796c44098f840b690c04147e",
       "value": "<input.filename_basename>.cvt.<input.filename_extension>"
      }
     },
     "7290475712fa4b97bbc9b8c8b4ace315": {
      "model_module": "@jupyter-widgets/controls",
      "model_module_version": "1.5.0",
      "model_name": "LabelModel",
      "state": {
       "description": "test_direction",
       "layout": "IPY_MODEL_47fed7d437574db4921ebfe0c4bce36a",
       "style": "IPY_MODEL_f8454585b8df4122ad7e0b7a68192de8",
       "value": "test_direction*"
      }
     },
     "7339c3021da64f809eb25e3ae0177f6f": {
      "model_module": "@jupyter-widgets/controls",
      "model_module_version": "1.5.0",
      "model_name": "DescriptionStyleModel",
      "state": {
       "description_width": ""
      }
     },
     "7355b7505a3b4162a799627b108b924b": {
      "model_module": "@jupyter-widgets/controls",
      "model_module_version": "1.5.0",
      "model_name": "GridBoxModel",
      "state": {
       "_dom_classes": [
        "nbtools-input",
        "nbtools-passwordinput",
        "required"
       ],
       "children": [
        "IPY_MODEL_3beabaefb2b34aabbf368596fc03c4f6",
        "IPY_MODEL_a4da6166c0e0406086deca0761c8d234",
        "IPY_MODEL_02016687eac549008ad44c6111dc413d"
       ],
       "layout": "IPY_MODEL_c9f73a44fcef4fe690c8ad00815ebc89"
      }
     },
     "736bc1520e53459883198b5c4cd63789": {
      "model_module": "@jupyter-widgets/controls",
      "model_module_version": "1.5.0",
      "model_name": "GridBoxModel",
      "state": {
       "_dom_classes": [
        "nbtools-input",
        "nbtools-fileinput",
        "required"
       ],
       "children": [
        "IPY_MODEL_8aa0d4c827ab4db3bc5ba6860cde0f4e",
        "IPY_MODEL_09116ee15b95460b9ab1549e58667499",
        "IPY_MODEL_ec32d9049bf64392b94bd71f542a4da8"
       ],
       "layout": "IPY_MODEL_d0edd640f3874f958a1c3670907fd61f"
      }
     },
     "7436ee6f73f8441eb19843211dace65e": {
      "model_module": "@jupyter-widgets/output",
      "model_module_version": "1.0.0",
      "model_name": "OutputModel",
      "state": {
       "layout": "IPY_MODEL_d0e1ef695f0c475b9fdc399633264a84"
      }
     },
     "7468ee3c23b047fdbf9511779b23d0ec": {
      "model_module": "@jupyter-widgets/controls",
      "model_module_version": "1.5.0",
      "model_name": "TextModel",
      "state": {
       "_dom_classes": [
        "nbtools-menu-attached"
       ],
       "layout": "IPY_MODEL_3ac7433da9704b4a87bca3153e48588e",
       "style": "IPY_MODEL_c374998490694748b69a39b007422db1"
      }
     },
     "748f9bf3ef9f4d54b3580795159024da": {
      "model_module": "@jupyter-widgets/controls",
      "model_module_version": "1.5.0",
      "model_name": "LabelModel",
      "state": {
       "description": "Tests to perform when cls file has more than two classes (Note: not fully corrected for multiple hypothesis testing)",
       "layout": "IPY_MODEL_2566d76cba9e4c0b8f113afeb37cac16",
       "style": "IPY_MODEL_4b5b7c7f2b15485caaade5db6768b61b",
       "value": "Tests to perform when cls file has more than two classes (Note: not fully corrected for multiple hypothesis testing)"
      }
     },
     "756927b6ee734cecaf6654a875dcd2f0": {
      "model_module": "@jupyter-widgets/controls",
      "model_module_version": "1.5.0",
      "model_name": "GridBoxModel",
      "state": {
       "_dom_classes": [
        "nbtools-input",
        "nbtools-textinput",
        "required"
       ],
       "children": [
        "IPY_MODEL_9974b1b0be79465eadf843be08f0fb91",
        "IPY_MODEL_12c4cf77a9864f419d9a9f7757fca71c",
        "IPY_MODEL_8558d8b7b07d496abd966b6508842a42"
       ],
       "layout": "IPY_MODEL_8c6c79b58d814fbea2f7182771c151e3"
      }
     },
     "759eacf428584cd79e35adebe3a31aa6": {
      "model_module": "@jupyter-widgets/output",
      "model_module_version": "1.0.0",
      "model_name": "OutputModel",
      "state": {
       "layout": "IPY_MODEL_9917a43eaf40407a9003905a63e3a7fb"
      }
     },
     "76207a736f7b461cb0bae5c447ac0fe6": {
      "model_module": "@jupyter-widgets/base",
      "model_module_version": "1.2.0",
      "model_name": "LayoutModel",
      "state": {}
     },
     "77a95db81fbd4e4b89064aa10da23fb2": {
      "model_module": "@jupyter-widgets/controls",
      "model_module_version": "1.5.0",
      "model_name": "DescriptionStyleModel",
      "state": {
       "description_width": ""
      }
     },
     "77eb5610edd647628233e5ecfe453999": {
      "model_module": "@jupyter-widgets/base",
      "model_module_version": "1.2.0",
      "model_name": "LayoutModel",
      "state": {}
     },
     "785a22d1d68b4d48a7728105a53a3403": {
      "model_module": "@jupyter-widgets/controls",
      "model_module_version": "1.5.0",
      "model_name": "GridBoxModel",
      "state": {
       "_dom_classes": [
        "nbtools-input",
        "nbtools-fileinput",
        "required"
       ],
       "children": [
        "IPY_MODEL_450325383e5b4bcebad651f334b6c3e1",
        "IPY_MODEL_b555bf660a0848a6adb53d5f96532b42",
        "IPY_MODEL_66ad0c0eb4474f23b26e204880ddfcc4"
       ],
       "layout": "IPY_MODEL_303abf41708c436ea6f2be43deee0e3e"
      }
     },
     "788d24b5434d4afe80d4e4fd731a55ba": {
      "model_module": "@jupyter-widgets/controls",
      "model_module_version": "1.5.0",
      "model_name": "LabelModel",
      "state": {
       "description": "output_file",
       "layout": "IPY_MODEL_2a74e937aef9464abf6c15c5c26bc0db",
       "style": "IPY_MODEL_49602675f0be4b63b62230db34dd05df",
       "value": "output_file*"
      }
     },
     "78cbc01637c54aabb498d60990245e15": {
      "model_module": "@jupyter-widgets/controls",
      "model_module_version": "1.5.0",
      "model_name": "DescriptionStyleModel",
      "state": {
       "description_width": ""
      }
     },
     "7905837adcb443939c2f0b202139c214": {
      "model_module": "@genepattern/nbtools",
      "model_module_version": "^0.2.0",
      "model_name": "UIBuilderModel",
      "state": {
       "_dom_classes": [],
       "_model_module_version": "^0.2.0",
       "_parameters": [
        {
         "choices": {},
         "default": "",
         "description": "",
         "events": null,
         "hide": true,
         "id": null,
         "kinds": null,
         "label": "output variable",
         "name": "output_var",
         "optional": true,
         "type": "text",
         "value": ""
        }
       ],
       "_view_count": null,
       "_view_module_version": "^0.2.0",
       "collapsed": true,
       "color": "rgba(10, 45, 105, 0.80)",
       "display_footer": false,
       "display_header": false,
       "form": "IPY_MODEL_3381de25d7784c40846ce83f2e5f9f35",
       "info": "<div class=\"systemMessageOk\"><br />The main GenePattern server (<a href=\"https://cloud.genepattern.org\">cloud.genepattern.org</a>) has a 1 hour maintenance window on the first Monday of each month from 2pm - 3pm PDT (UTC-7)<br><br />The next update will be Monday, September 7, 2020<br /> <br /></div><br /><div class=\"systemMessageOk\"><br />    Follow the GenePattern team on <a href=\"https://twitter.com/GenePattern\", target=\"_blank\">Twitter</a>, <a href=\"https://www.instagram.com/genepattern/\",target=\"_blank\">Instagram</a> or <a href=\"https://www.facebook.com/GenePattern\", target=\"_blank\">Facebook</a> to keep up with the latest news and events or <a href=\"https://groups.google.com/forum/?utm_medium=email&utm_source=footer#!forum/genepattern-help\", target=\"_blank\">join the conversation in our forum</a>!<br /><br /></div>",
       "layout": "IPY_MODEL_f44da7196c3d4603b38d673dd7d8ce29",
       "name": "https://cloud.genepattern.org/gp",
       "origin": "genepattern.authwidget",
       "output": "IPY_MODEL_3ec6a12235744df1b4f2319fa5349536",
       "output_var": ""
      }
     },
     "799d9fc788c44bd6a713ae9494956ed3": {
      "model_module": "@jupyter-widgets/output",
      "model_module_version": "1.0.0",
      "model_name": "OutputModel",
      "state": {
       "layout": "IPY_MODEL_d0a2b807a9214a7180f9146b98dae00a"
      }
     },
     "79b40ceb831c4234b13b353e0b2f4712": {
      "model_module": "@jupyter-widgets/controls",
      "model_module_version": "1.5.0",
      "model_name": "DescriptionStyleModel",
      "state": {
       "description_width": ""
      }
     },
     "7a18e134e5ed4a699be7d91b793ceb8a": {
      "model_module": "@jupyter-widgets/controls",
      "model_module_version": "1.5.0",
      "model_name": "DescriptionStyleModel",
      "state": {
       "description_width": ""
      }
     },
     "7a9795581857447e95e045887744c5c7": {
      "model_module": "@jupyter-widgets/base",
      "model_module_version": "1.2.0",
      "model_name": "LayoutModel",
      "state": {}
     },
     "7ac1b387901e4ef183000894f6f6c54a": {
      "model_module": "@jupyter-widgets/controls",
      "model_module_version": "1.5.0",
      "model_name": "GridBoxModel",
      "state": {
       "_dom_classes": [
        "nbtools-input",
        "nbtools-fileinput"
       ],
       "children": [
        "IPY_MODEL_0f6c4a17c20b440497a6118355cdf801",
        "IPY_MODEL_aec68ea7b6594aa8b7badc071bae7714",
        "IPY_MODEL_4c34c40c97d04b3cbd1685c0daeb4b06"
       ],
       "layout": "IPY_MODEL_84478a3256d14b1ea7fbb75892fdd06b"
      }
     },
     "7aff9598c227410c933ea2ba75b645df": {
      "model_module": "@jupyter-widgets/controls",
      "model_module_version": "1.5.0",
      "model_name": "DescriptionStyleModel",
      "state": {
       "description_width": ""
      }
     },
     "7b2e5ab42d24447cbc7985181885c817": {
      "model_module": "@jupyter-widgets/base",
      "model_module_version": "1.2.0",
      "model_name": "LayoutModel",
      "state": {
       "grid_area": "label",
       "width": "auto"
      }
     },
     "7bdd7317d64e4abeaf7316294cf69d61": {
      "model_module": "@jupyter-widgets/controls",
      "model_module_version": "1.5.0",
      "model_name": "LabelModel",
      "state": {
       "description": "The number of permutations to perform (use 0 to calculate asymptotic p-values using the standard independent two-sample t-test)",
       "layout": "IPY_MODEL_8bb46bf489504cc5a937f3cff0b7d5fc",
       "style": "IPY_MODEL_1475caf1342e41559eec5631b043fd33",
       "value": "The number of permutations to perform (use 0 to calculate asymptotic p-values using the standard independent two-sample t-test)"
      }
     },
     "7c823283b60b4cb8af8558b5ad844151": {
      "model_module": "@jupyter-widgets/output",
      "model_module_version": "1.0.0",
      "model_name": "OutputModel",
      "state": {
       "layout": "IPY_MODEL_0c39796ced044bdcaa480977685a9476"
      }
     },
     "7c9dd4ef4d86479cb635249c01329758": {
      "model_module": "@jupyter-widgets/base",
      "model_module_version": "1.2.0",
      "model_name": "LayoutModel",
      "state": {
       "grid_area": "description",
       "width": "auto"
      }
     },
     "7d037f4dce914d6196001d9f0b4e6e3c": {
      "model_module": "@jupyter-widgets/base",
      "model_module_version": "1.2.0",
      "model_name": "LayoutModel",
      "state": {}
     },
     "7d44901b9e634dccad6908d5300d9c9e": {
      "model_module": "@jupyter-widgets/base",
      "model_module_version": "1.2.0",
      "model_name": "LayoutModel",
      "state": {}
     },
     "7d7682efcc5745afa959ee01ab160d50": {
      "model_module": "@jupyter-widgets/controls",
      "model_module_version": "1.5.0",
      "model_name": "GridBoxModel",
      "state": {
       "_dom_classes": [
        "nbtools-input",
        "nbtools-textinput"
       ],
       "children": [
        "IPY_MODEL_4b0681b1c16e4a91b1c1dcebd1a022b8",
        "IPY_MODEL_c60b7ad7005e4559b4ff1cf909615d9c",
        "IPY_MODEL_8bacdb7a00e542a1a857d413ee15ed99"
       ],
       "layout": "IPY_MODEL_3728cfba81164e3886d13b9c44734e64"
      }
     },
     "7df82827740f4cc19c3a37dde8a9fb0d": {
      "model_module": "@jupyter-widgets/output",
      "model_module_version": "1.0.0",
      "model_name": "OutputModel",
      "state": {
       "layout": "IPY_MODEL_18e4d1471e4b41da93c017e57c3ce2f1"
      }
     },
     "7e2065fd9fc04abbbefe8d738416126f": {
      "model_module": "@jupyter-widgets/base",
      "model_module_version": "1.2.0",
      "model_name": "LayoutModel",
      "state": {
       "grid_area": "input",
       "width": "auto"
      }
     },
     "7e8fbfa229dd4910a4ed8a6dc7a231f0": {
      "model_module": "@jupyter-widgets/controls",
      "model_module_version": "1.5.0",
      "model_name": "DescriptionStyleModel",
      "state": {
       "description_width": ""
      }
     },
     "7f467fa5eaaf4361a309d613847b3311": {
      "model_module": "@jupyter-widgets/controls",
      "model_module_version": "1.5.0",
      "model_name": "LabelModel",
      "state": {
       "description": "min_std",
       "layout": "IPY_MODEL_ccec1a90760a44dda43b2d23e4a4733a",
       "style": "IPY_MODEL_f0a9527c62ba4219a96a7b19d88efe5c",
       "value": "min_std"
      }
     },
     "7f6e0db031c84b0d955819d66cd7bae3": {
      "model_module": "@jupyter-widgets/base",
      "model_module_version": "1.2.0",
      "model_name": "LayoutModel",
      "state": {
       "grid_template_areas": "\n                    \"label input\"\n                    \". description\"\n                ",
       "grid_template_columns": "25% 75%",
       "grid_template_rows": "auto auto",
       "width": "100%"
      }
     },
     "7fd1d6a0843d4c67b7ffa7f677a69c6f": {
      "model_module": "@jupyter-widgets/base",
      "model_module_version": "1.2.0",
      "model_name": "LayoutModel",
      "state": {
       "grid_area": "input",
       "width": "auto"
      }
     },
     "8009c7e47962407bb72897236c7a3a10": {
      "model_module": "@jupyter-widgets/base",
      "model_module_version": "1.2.0",
      "model_name": "LayoutModel",
      "state": {
       "grid_area": "label",
       "width": "auto"
      }
     },
     "808ee56698e04a6fa6b81ae01e21bae5": {
      "model_module": "@jupyter-widgets/base",
      "model_module_version": "1.2.0",
      "model_name": "LayoutModel",
      "state": {
       "grid_area": "input",
       "width": "auto"
      }
     },
     "80a8df0bd0db418cb15136eae6d849f5": {
      "model_module": "@jupyter-widgets/controls",
      "model_module_version": "1.5.0",
      "model_name": "LabelModel",
      "state": {
       "description": "Whether to perform all possible permutations",
       "layout": "IPY_MODEL_d3a86f5d89e54dd1a82d7e0c5aee344d",
       "style": "IPY_MODEL_77a95db81fbd4e4b89064aa10da23fb2",
       "value": "Whether to perform all possible permutations"
      }
     },
     "80ebe92321524dfd8044cc5c5eac8caa": {
      "model_module": "@jupyter-widgets/controls",
      "model_module_version": "1.5.0",
      "model_name": "DescriptionStyleModel",
      "state": {
       "description_width": ""
      }
     },
     "8179c1837a484868b919b3548f959679": {
      "model_module": "@jupyter-widgets/base",
      "model_module_version": "1.2.0",
      "model_name": "LayoutModel",
      "state": {
       "grid_area": "input",
       "width": "auto"
      }
     },
     "83842ad709cf4342aca44c7e7ae1a4d6": {
      "model_module": "@jupyter-widgets/base",
      "model_module_version": "1.2.0",
      "model_name": "LayoutModel",
      "state": {
       "grid_area": "description",
       "width": "auto"
      }
     },
     "83af47051db84d159460fcc1aa3b296c": {
      "model_module": "@jupyter-widgets/base",
      "model_module_version": "1.2.0",
      "model_name": "LayoutModel",
      "state": {
       "grid_area": "description",
       "width": "auto"
      }
     },
     "83afb906b67c4ce0bc474b3cb69746f9": {
      "model_module": "@jupyter-widgets/controls",
      "model_module_version": "1.5.0",
      "model_name": "DescriptionStyleModel",
      "state": {
       "description_width": ""
      }
     },
     "83b18b40d07a488f822da53865a91899": {
      "model_module": "@jupyter-widgets/controls",
      "model_module_version": "1.5.0",
      "model_name": "VBoxModel",
      "state": {
       "_dom_classes": [
        "widget-interact"
       ],
       "children": [
        "IPY_MODEL_912a320323ca41f7aad463fac559e5bb",
        "IPY_MODEL_756927b6ee734cecaf6654a875dcd2f0",
        "IPY_MODEL_211d4c8e0a8e4b37939f99ec15fc2349",
        "IPY_MODEL_4ca62d09302e49d5ae5315e67eb122f0"
       ],
       "layout": "IPY_MODEL_b214767a7d1e4b3594b5d2046e2bac19"
      }
     },
     "84374b9c12c64d57833ef5d15e6c675b": {
      "model_module": "@jupyter-widgets/base",
      "model_module_version": "1.2.0",
      "model_name": "LayoutModel",
      "state": {
       "grid_area": "label",
       "width": "auto"
      }
     },
     "84478a3256d14b1ea7fbb75892fdd06b": {
      "model_module": "@jupyter-widgets/base",
      "model_module_version": "1.2.0",
      "model_name": "LayoutModel",
      "state": {
       "grid_template_areas": "\n                    \"label input\"\n                    \". description\"\n                ",
       "grid_template_columns": "25% 75%",
       "grid_template_rows": "auto auto",
       "width": "100%"
      }
     },
     "845cba71627c49288e037fb7096d1c93": {
      "model_module": "@jupyter-widgets/controls",
      "model_module_version": "1.5.0",
      "model_name": "GridBoxModel",
      "state": {
       "_dom_classes": [
        "nbtools-input",
        "nbtools-fileinput",
        "required"
       ],
       "children": [
        "IPY_MODEL_b544e2884e1b4fc48f7f0dd62124ef41",
        "IPY_MODEL_636e0620659f42b9ad0688ce4da25a34",
        "IPY_MODEL_8bc7399076a34df2a850cabd05605208"
       ],
       "layout": "IPY_MODEL_19921053a694485aadd360eb4ced9712"
      }
     },
     "8466d739e5d84b69aaf90abd852b0774": {
      "model_module": "@jupyter-widgets/base",
      "model_module_version": "1.2.0",
      "model_name": "LayoutModel",
      "state": {
       "display": "none",
       "grid_template_areas": "\n                    \"label input\"\n                    \". description\"\n                ",
       "grid_template_columns": "25% 75%",
       "grid_template_rows": "auto auto",
       "width": "100%"
      }
     },
     "84f339f5832d406ebd4f87e54d476dc0": {
      "model_module": "@jupyter-widgets/base",
      "model_module_version": "1.2.0",
      "model_name": "LayoutModel",
      "state": {}
     },
     "8526a90ffadb4536b358112791ef64c1": {
      "model_module": "@jupyter-widgets/controls",
      "model_module_version": "1.5.0",
      "model_name": "DescriptionStyleModel",
      "state": {
       "description_width": ""
      }
     },
     "853b02373ff14a0b8e8c2b9ec12445ed": {
      "model_module": "@jupyter-widgets/controls",
      "model_module_version": "1.5.0",
      "model_name": "LabelModel",
      "state": {
       "description": "test_statistic",
       "layout": "IPY_MODEL_009b856ee64c419f914e139dce0a6426",
       "style": "IPY_MODEL_d320511fac784edcb0a00f0999e3bc51",
       "value": "test_statistic*"
      }
     },
     "85445016c38d40e1b896e3ee5f52e695": {
      "model_module": "@jupyter-widgets/controls",
      "model_module_version": "1.5.0",
      "model_name": "LabelModel",
      "state": {
       "description": "The dataset file used as input to ComparativeMarkerSelection",
       "layout": "IPY_MODEL_df9bd6421e37439a8ef385c404f348a3",
       "style": "IPY_MODEL_8dbc33d88cf643eebdbe4184ca55b669",
       "value": "The dataset file used as input to ComparativeMarkerSelection"
      }
     },
     "8558d8b7b07d496abd966b6508842a42": {
      "model_module": "@jupyter-widgets/controls",
      "model_module_version": "1.5.0",
      "model_name": "LabelModel",
      "state": {
       "layout": "IPY_MODEL_ed50074120d34d3093ed1d873880f624",
       "style": "IPY_MODEL_83afb906b67c4ce0bc474b3cb69746f9"
      }
     },
     "8668300385a6437b903d6739726f0972": {
      "model_module": "@jupyter-widgets/controls",
      "model_module_version": "1.5.0",
      "model_name": "DescriptionStyleModel",
      "state": {
       "description_width": ""
      }
     },
     "86f32fc4aceb43309872dc1d980db9ae": {
      "model_module": "@jupyter-widgets/controls",
      "model_module_version": "1.5.0",
      "model_name": "DescriptionStyleModel",
      "state": {
       "description_width": ""
      }
     },
     "87dfa67403964eeebc4c00dc4bd15bdf": {
      "model_module": "@jupyter-widgets/controls",
      "model_module_version": "1.5.0",
      "model_name": "LabelModel",
      "state": {
       "description": "Whether to perform balanced permutations",
       "layout": "IPY_MODEL_e73579bf53fa46b8b923e51efac4a4ba",
       "style": "IPY_MODEL_7084b54ffbab4b129547d5d64a48081e",
       "value": "Whether to perform balanced permutations"
      }
     },
     "8810afeb51d445b99f7fd99a630abe92": {
      "model_module": "@jupyter-widgets/controls",
      "model_module_version": "1.5.0",
      "model_name": "DropdownModel",
      "state": {
       "_options_labels": [
        "one versus all",
        "all pairs"
       ],
       "index": 0,
       "layout": "IPY_MODEL_1b0fbfef407747d2bb616d6d574d4243",
       "style": "IPY_MODEL_c596d6e5d01e49429acfbea6ae668fe9"
      }
     },
     "8a80995598d0415597c65f8f30a5295f": {
      "model_module": "@jupyter-widgets/base",
      "model_module_version": "1.2.0",
      "model_name": "LayoutModel",
      "state": {
       "grid_area": "input",
       "width": "auto"
      }
     },
     "8aa0d4c827ab4db3bc5ba6860cde0f4e": {
      "model_module": "@jupyter-widgets/controls",
      "model_module_version": "1.5.0",
      "model_name": "LabelModel",
      "state": {
       "description": "comparative_marker_selection_filename",
       "layout": "IPY_MODEL_eadf1a1c619b4d859a6182b847dbadee",
       "style": "IPY_MODEL_d520fbc51ded491d9e186f7e978f4b13",
       "value": "comparative_marker_selection_filename*"
      }
     },
     "8aa39e4990c44428a61ec8c7305aec8b": {
      "model_module": "@jupyter-widgets/controls",
      "model_module_version": "1.5.0",
      "model_name": "GridBoxModel",
      "state": {
       "_dom_classes": [
        "nbtools-input",
        "nbtools-selectinput",
        "required"
       ],
       "children": [
        "IPY_MODEL_519daa0c2b914a3d907063d5dd1ec48a",
        "IPY_MODEL_2fa9ce9c85964fc39c69f4be3c1221c1",
        "IPY_MODEL_80a8df0bd0db418cb15136eae6d849f5"
       ],
       "layout": "IPY_MODEL_2c69a4d8fed34424a882c9b5f0418c45"
      }
     },
     "8aaa39e6f86a44dab45808b08a1dc8de": {
      "model_module": "@jupyter-widgets/output",
      "model_module_version": "1.0.0",
      "model_name": "OutputModel",
      "state": {
       "layout": "IPY_MODEL_3d39dd1dac204681ae6278217756dc26"
      }
     },
     "8b5ede9b30ea4f5698b36ff831f521e7": {
      "model_module": "@jupyter-widgets/controls",
      "model_module_version": "1.5.0",
      "model_name": "FileUploadModel",
      "state": {
       "description_tooltip": null,
       "layout": "IPY_MODEL_53039c41ddc34af7bb5f741797321ab9",
       "style": "IPY_MODEL_d723640a1ea14ca9b88e39f57298fd39"
      }
     },
     "8bacdb7a00e542a1a857d413ee15ed99": {
      "model_module": "@jupyter-widgets/controls",
      "model_module_version": "1.5.0",
      "model_name": "LabelModel",
      "state": {
       "layout": "IPY_MODEL_30e5d6a894c94a96b059f4ba9474fc29",
       "style": "IPY_MODEL_7aff9598c227410c933ea2ba75b645df"
      }
     },
     "8bb46bf489504cc5a937f3cff0b7d5fc": {
      "model_module": "@jupyter-widgets/base",
      "model_module_version": "1.2.0",
      "model_name": "LayoutModel",
      "state": {
       "grid_area": "description",
       "width": "auto"
      }
     },
     "8bbd763278e3445b83619387135dd09e": {
      "model_module": "@jupyter-widgets/controls",
      "model_module_version": "1.5.0",
      "model_name": "LabelModel",
      "state": {
       "description": "output variable",
       "layout": "IPY_MODEL_572a0e8219e04aa58aea9e39256c29e2",
       "style": "IPY_MODEL_fbf44619017f424a8870662f18300cb4",
       "value": "output variable"
      }
     },
     "8bc7399076a34df2a850cabd05605208": {
      "model_module": "@jupyter-widgets/controls",
      "model_module_version": "1.5.0",
      "model_name": "LabelModel",
      "state": {
       "description": "The input file (any non-binary file format)",
       "layout": "IPY_MODEL_c0387b3d9630463085e82fbb5f00ef6d",
       "style": "IPY_MODEL_a76de9dd9f1448fda6c33d68dfe4b77e",
       "value": "The input file (any non-binary file format)"
      }
     },
     "8c6c79b58d814fbea2f7182771c151e3": {
      "model_module": "@jupyter-widgets/base",
      "model_module_version": "1.2.0",
      "model_name": "LayoutModel",
      "state": {
       "grid_template_areas": "\n                    \"label input\"\n                    \". description\"\n                ",
       "grid_template_columns": "25% 75%",
       "grid_template_rows": "auto auto",
       "width": "100%"
      }
     },
     "8c6f67d58f254a7187c419a87a9ad71e": {
      "model_module": "@jupyter-widgets/controls",
      "model_module_version": "1.5.0",
      "model_name": "LabelModel",
      "state": {
       "description": "i",
       "layout": "IPY_MODEL_0c65b9aab75f4f569bf99cddcb815117",
       "style": "IPY_MODEL_be07d1c3b6e2410e841b28eafb69bb0b",
       "value": "i*"
      }
     },
     "8c8beb7a61ff47da98d8cb311fab6a53": {
      "model_module": "@jupyter-widgets/base",
      "model_module_version": "1.2.0",
      "model_name": "LayoutModel",
      "state": {
       "grid_area": "label",
       "width": "auto"
      }
     },
     "8dbc33d88cf643eebdbe4184ca55b669": {
      "model_module": "@jupyter-widgets/controls",
      "model_module_version": "1.5.0",
      "model_name": "DescriptionStyleModel",
      "state": {
       "description_width": ""
      }
     },
     "8eb72ed509914c18a36b5a3a8fdaac9c": {
      "model_module": "@jupyter-widgets/controls",
      "model_module_version": "1.5.0",
      "model_name": "HBoxModel",
      "state": {
       "children": [
        "IPY_MODEL_dceee43c89cd4bf0ad2600dc52a5306b",
        "IPY_MODEL_ccffff43c9db4bd2821951da10b1a344"
       ],
       "layout": "IPY_MODEL_cfe03a7563474c91b8e8acff1b4c2f41"
      }
     },
     "8f1b7f84742b451292cc7641cb993d7b": {
      "model_module": "@jupyter-widgets/base",
      "model_module_version": "1.2.0",
      "model_name": "LayoutModel",
      "state": {
       "grid_area": "input",
       "width": "auto"
      }
     },
     "8fc0ef6f374e431a9e5c30fef405e0dc": {
      "model_module": "@jupyter-widgets/base",
      "model_module_version": "1.2.0",
      "model_name": "LayoutModel",
      "state": {}
     },
     "9030a67532304330995d9849961d5c1e": {
      "model_module": "@jupyter-widgets/base",
      "model_module_version": "1.2.0",
      "model_name": "LayoutModel",
      "state": {}
     },
     "906d9f0aa2f24e03a41524aa365e5a29": {
      "model_module": "@jupyter-widgets/controls",
      "model_module_version": "1.5.0",
      "model_name": "VBoxModel",
      "state": {
       "_dom_classes": [
        "widget-interact"
       ],
       "children": [
        "IPY_MODEL_736bc1520e53459883198b5c4cd63789",
        "IPY_MODEL_4fd582bbce4842be8597e84d4408c889",
        "IPY_MODEL_4d80aecccba8421d9eeef3abe1069323",
        "IPY_MODEL_cd9cf3467e83442f8d2dd937882fc72c"
       ],
       "layout": "IPY_MODEL_33b92ee40d114881b807c899789f0374"
      }
     },
     "911be1d06f814e2da857489ff1e704c7": {
      "model_module": "@jupyter-widgets/base",
      "model_module_version": "1.2.0",
      "model_name": "LayoutModel",
      "state": {
       "grid_area": "input",
       "width": "auto"
      }
     },
     "912a320323ca41f7aad463fac559e5bb": {
      "model_module": "@jupyter-widgets/controls",
      "model_module_version": "1.5.0",
      "model_name": "GridBoxModel",
      "state": {
       "_dom_classes": [
        "nbtools-input",
        "nbtools-fileinput",
        "required"
       ],
       "children": [
        "IPY_MODEL_8c6f67d58f254a7187c419a87a9ad71e",
        "IPY_MODEL_9cb738a19c3c45f2b92880356744ca39",
        "IPY_MODEL_57ed12029efb417eae8a21eb5690147d"
       ],
       "layout": "IPY_MODEL_1baf07197f564389a613276749854d32"
      }
     },
     "917bf92e1ddf40f9969106b5f0abb72c": {
      "model_module": "@jupyter-widgets/base",
      "model_module_version": "1.2.0",
      "model_name": "LayoutModel",
      "state": {
       "grid_area": "description",
       "width": "auto"
      }
     },
     "921c93904f8347ccabf539669e04a73c": {
      "model_module": "@jupyter-widgets/output",
      "model_module_version": "1.0.0",
      "model_name": "OutputModel",
      "state": {
       "layout": "IPY_MODEL_cf695cefd7be4ec5ac5d0e1bf1c6b121"
      }
     },
     "9249fd64b9214b4c90ba67a89fd3ec4f": {
      "model_module": "@jupyter-widgets/base",
      "model_module_version": "1.2.0",
      "model_name": "LayoutModel",
      "state": {}
     },
     "92cc2f3b7d854d2d9690912ae342a192": {
      "model_module": "@jupyter-widgets/base",
      "model_module_version": "1.2.0",
      "model_name": "LayoutModel",
      "state": {}
     },
     "92f669e6901e431d8d30cc1083cb28d1": {
      "model_module": "@jupyter-widgets/controls",
      "model_module_version": "1.5.0",
      "model_name": "LabelModel",
      "state": {
       "layout": "IPY_MODEL_5fd187f81cfc46f5a97b431689819330",
       "style": "IPY_MODEL_da105c82664e4d609ca70915ba08045b"
      }
     },
     "93b1f17ea0f74921a8cc49ce113f0635": {
      "model_module": "@jupyter-widgets/controls",
      "model_module_version": "1.5.0",
      "model_name": "GridBoxModel",
      "state": {
       "_dom_classes": [
        "nbtools-input",
        "nbtools-textinput"
       ],
       "children": [
        "IPY_MODEL_1de00e8c2af149999a64888c72cfc498",
        "IPY_MODEL_7468ee3c23b047fdbf9511779b23d0ec",
        "IPY_MODEL_4f6c5dcd588a46469f9ba9c1852a736e"
       ],
       "layout": "IPY_MODEL_ef1ff0e09c204103b5ae2b9577d2ab95"
      }
     },
     "93d604a5a6d946d7b9a46757f559d60b": {
      "model_module": "@jupyter-widgets/base",
      "model_module_version": "1.2.0",
      "model_name": "LayoutModel",
      "state": {
       "grid_area": "input",
       "width": "auto"
      }
     },
     "94e00fe0e1ce48ffb14bf0792e0fd486": {
      "model_module": "@jupyter-widgets/base",
      "model_module_version": "1.2.0",
      "model_name": "LayoutModel",
      "state": {}
     },
     "94f8866d751d4ed891daa4e3c5ba86cb": {
      "model_module": "@jupyter-widgets/controls",
      "model_module_version": "1.5.0",
      "model_name": "DescriptionStyleModel",
      "state": {
       "description_width": ""
      }
     },
     "94fe3ec31f38406587d86d3c20255cca": {
      "model_module": "@jupyter-widgets/base",
      "model_module_version": "1.2.0",
      "model_name": "LayoutModel",
      "state": {
       "grid_area": "description",
       "width": "auto"
      }
     },
     "95ae75def22f4027b100b086637a483c": {
      "model_module": "@jupyter-widgets/base",
      "model_module_version": "1.2.0",
      "model_name": "LayoutModel",
      "state": {
       "grid_area": "label",
       "width": "auto"
      }
     },
     "95eddcc183e840f68601e11bf0f7d1b6": {
      "model_module": "@jupyter-widgets/base",
      "model_module_version": "1.2.0",
      "model_name": "LayoutModel",
      "state": {
       "grid_area": "input",
       "width": "auto"
      }
     },
     "965c3119728a4ec3b7d7d8bf070880e1": {
      "model_module": "@jupyter-widgets/base",
      "model_module_version": "1.2.0",
      "model_name": "LayoutModel",
      "state": {}
     },
     "973ee1ee2ef24d2b9c8804454f3dee4f": {
      "model_module": "@jupyter-widgets/base",
      "model_module_version": "1.2.0",
      "model_name": "LayoutModel",
      "state": {}
     },
     "978ede93b2294cfcaa74433275042d18": {
      "model_module": "@jupyter-widgets/base",
      "model_module_version": "1.2.0",
      "model_name": "LayoutModel",
      "state": {}
     },
     "986c924066734ec8b7cbfe72e596eabb": {
      "model_module": "@jupyter-widgets/controls",
      "model_module_version": "1.5.0",
      "model_name": "ButtonStyleModel",
      "state": {}
     },
     "9917a43eaf40407a9003905a63e3a7fb": {
      "model_module": "@jupyter-widgets/base",
      "model_module_version": "1.2.0",
      "model_name": "LayoutModel",
      "state": {}
     },
     "9933a0072b214221b4422c54d9c0a340": {
      "model_module": "@jupyter-widgets/controls",
      "model_module_version": "1.5.0",
      "model_name": "LabelModel",
      "state": {
       "layout": "IPY_MODEL_a6b99cc4de3349cf976776a1dc4cce57",
       "style": "IPY_MODEL_cd435e98066b44ad9262b9c1e2578edc"
      }
     },
     "9951ddebb8c64bf58d066b937d3178f4": {
      "model_module": "@jupyter-widgets/controls",
      "model_module_version": "1.5.0",
      "model_name": "TextModel",
      "state": {
       "_dom_classes": [
        "nbtools-menu-attached"
       ],
       "layout": "IPY_MODEL_467984c0694944a488bb7c7550403be3",
       "style": "IPY_MODEL_42b86281eca3400da38a0d24eaa3e562"
      }
     },
     "9974b1b0be79465eadf843be08f0fb91": {
      "model_module": "@jupyter-widgets/controls",
      "model_module_version": "1.5.0",
      "model_name": "LabelModel",
      "state": {
       "description": "j",
       "layout": "IPY_MODEL_fcbc471f42374e2fab995e66fbc6af58",
       "style": "IPY_MODEL_da2b02b41adb49e68ff0ab3b957685c3",
       "value": "j*"
      }
     },
     "998dc4809f924852930d39f68dbbc54f": {
      "model_module": "@jupyter-widgets/controls",
      "model_module_version": "1.5.0",
      "model_name": "GridBoxModel",
      "state": {
       "_dom_classes": [
        "nbtools-input",
        "nbtools-textinput"
       ],
       "children": [
        "IPY_MODEL_001d84c0288448509a89d5ab98432ad4",
        "IPY_MODEL_d20bd6192b42436fadc0cb21fdd9af7e",
        "IPY_MODEL_92f669e6901e431d8d30cc1083cb28d1"
       ],
       "layout": "IPY_MODEL_8466d739e5d84b69aaf90abd852b0774"
      }
     },
     "9b9710898aa749fa9cf63556243b754f": {
      "model_module": "@jupyter-widgets/base",
      "model_module_version": "1.2.0",
      "model_name": "LayoutModel",
      "state": {
       "grid_area": "input",
       "width": "auto"
      }
     },
     "9b9b5de2e3ea44d09fcc0bde3b87c112": {
      "model_module": "@jupyter-widgets/controls",
      "model_module_version": "1.5.0",
      "model_name": "DescriptionStyleModel",
      "state": {
       "description_width": ""
      }
     },
     "9bd8ab4b2d1d4c92b028a3bc9714885a": {
      "model_module": "@jupyter-widgets/controls",
      "model_module_version": "1.5.0",
      "model_name": "VBoxModel",
      "state": {
       "children": [
        "IPY_MODEL_cfd030cd34fd4850b748c01805d3b148"
       ],
       "layout": "IPY_MODEL_adf86a2f8ea646cbb1b0f4150f889da4"
      }
     },
     "9bff267d21bb4b9e9d89d4dc0d4efab0": {
      "model_module": "@jupyter-widgets/base",
      "model_module_version": "1.2.0",
      "model_name": "LayoutModel",
      "state": {
       "grid_area": "input",
       "width": "auto"
      }
     },
     "9c1b8cd730364583ade9a2ec0c36434b": {
      "model_module": "@jupyter-widgets/controls",
      "model_module_version": "1.5.0",
      "model_name": "GridBoxModel",
      "state": {
       "_dom_classes": [
        "nbtools-input",
        "nbtools-selectinput",
        "required"
       ],
       "children": [
        "IPY_MODEL_d350d19d41874942b2d8a3d705f0306c",
        "IPY_MODEL_fe8df09abe9d4fb48ba59daff1da70f9",
        "IPY_MODEL_2c70927558fb41ccac86351cf947de5e"
       ],
       "layout": "IPY_MODEL_a7ee32b1b837424c82fb32309b95335b"
      }
     },
     "9c3c9c6875d04758867143432074801b": {
      "model_module": "@jupyter-widgets/base",
      "model_module_version": "1.2.0",
      "model_name": "LayoutModel",
      "state": {}
     },
     "9cb738a19c3c45f2b92880356744ca39": {
      "model_module": "@jupyter-widgets/controls",
      "model_module_version": "1.5.0",
      "model_name": "HBoxModel",
      "state": {
       "children": [
        "IPY_MODEL_0ff88c72aa7644e5996caad28efb5e2c",
        "IPY_MODEL_6a7d81a39abe4832b7c3e04f7524f5cf"
       ],
       "layout": "IPY_MODEL_2b29f435875b47c885b261d439d87f4b"
      }
     },
     "9ccd24e9972d441c9323112805b330ec": {
      "model_module": "@jupyter-widgets/controls",
      "model_module_version": "1.5.0",
      "model_name": "LabelModel",
      "state": {
       "description": "The minimum standard deviation if test statistic includes min std option",
       "layout": "IPY_MODEL_ff5210a98a80402eabf7661f7667431e",
       "style": "IPY_MODEL_dda50a5167084040a9f3cf56df955cf0",
       "value": "The minimum standard deviation if test statistic includes min std option"
      }
     },
     "9d2bdb3df5b0466ab9c600157dca6a3f": {
      "model_module": "@jupyter-widgets/base",
      "model_module_version": "1.2.0",
      "model_name": "LayoutModel",
      "state": {}
     },
     "9d45deb1fdb0438b8385f81d4ca2fdb3": {
      "model_module": "@jupyter-widgets/base",
      "model_module_version": "1.2.0",
      "model_name": "LayoutModel",
      "state": {
       "grid_area": "input",
       "width": "auto"
      }
     },
     "9dff7f81286b49f6b6addb260c3d47da": {
      "model_module": "@jupyter-widgets/controls",
      "model_module_version": "1.5.0",
      "model_name": "LabelModel",
      "state": {
       "description": "output variable",
       "layout": "IPY_MODEL_0e25c41ab8084204b14329a32ab90581",
       "style": "IPY_MODEL_6cdabc2f3ba24ceea8f1cb54d4ef0915",
       "value": "output variable"
      }
     },
     "9e2144444a0747f183be290e2722c4d4": {
      "model_module": "@jupyter-widgets/controls",
      "model_module_version": "1.5.0",
      "model_name": "ButtonStyleModel",
      "state": {}
     },
     "9e3f81e63ca241668215059d37373bf3": {
      "model_module": "@jupyter-widgets/controls",
      "model_module_version": "1.5.0",
      "model_name": "DescriptionStyleModel",
      "state": {
       "description_width": ""
      }
     },
     "9f57bdebcfed43409d26e4b4b5d3dfe8": {
      "model_module": "@jupyter-widgets/base",
      "model_module_version": "1.2.0",
      "model_name": "LayoutModel",
      "state": {}
     },
     "9fd6a60b1fd74f0c8663868dcc3c34b3": {
      "model_module": "@jupyter-widgets/controls",
      "model_module_version": "1.5.0",
      "model_name": "ButtonStyleModel",
      "state": {}
     },
     "a1b780f2d87246b7a67f6ece160431d6": {
      "model_module": "@jupyter-widgets/controls",
      "model_module_version": "1.5.0",
      "model_name": "LabelModel",
      "state": {
       "layout": "IPY_MODEL_05c741f6dd034220bef8e63cbafb1c67",
       "style": "IPY_MODEL_4fe321bb09da41f58b993e4d2946ef0b"
      }
     },
     "a1faf3df2b6044bb91238a129d9fc001": {
      "model_module": "@jupyter-widgets/controls",
      "model_module_version": "1.5.0",
      "model_name": "DescriptionStyleModel",
      "state": {
       "description_width": ""
      }
     },
     "a285b3c4077743598f289966a7405342": {
      "model_module": "@jupyter-widgets/controls",
      "model_module_version": "1.5.0",
      "model_name": "DescriptionStyleModel",
      "state": {
       "description_width": ""
      }
     },
     "a31e9047a625415c85bfeda8ce0c1e6d": {
      "model_module": "@jupyter-widgets/base",
      "model_module_version": "1.2.0",
      "model_name": "LayoutModel",
      "state": {
       "grid_area": "label",
       "width": "auto"
      }
     },
     "a36773288d254ca6a1cb487d5b76654a": {
      "model_module": "@jupyter-widgets/base",
      "model_module_version": "1.2.0",
      "model_name": "LayoutModel",
      "state": {
       "grid_area": "input",
       "width": "auto"
      }
     },
     "a3f7f6c0ff1f4fa1bb160a817ee34ed0": {
      "model_module": "@jupyter-widgets/controls",
      "model_module_version": "1.5.0",
      "model_name": "DescriptionStyleModel",
      "state": {
       "description_width": ""
      }
     },
     "a417a6fb434442b7abaf348a6709a1fd": {
      "model_module": "@jupyter-widgets/controls",
      "model_module_version": "1.5.0",
      "model_name": "ButtonModel",
      "state": {
       "_dom_classes": [
        "hidden"
       ],
       "description": "Run",
       "layout": "IPY_MODEL_20d4876039004045a246553f892ccb51",
       "style": "IPY_MODEL_e150b24dade24a649a3de85cdc1990f8"
      }
     },
     "a4da6166c0e0406086deca0761c8d234": {
      "model_module": "@jupyter-widgets/controls",
      "model_module_version": "1.5.0",
      "model_name": "PasswordModel",
      "state": {
       "layout": "IPY_MODEL_911be1d06f814e2da857489ff1e704c7",
       "style": "IPY_MODEL_f1064ad0492249eda0bb17579756edc7"
      }
     },
     "a4e4cbffef594016813a6c7d63e7e707": {
      "model_module": "@jupyter-widgets/base",
      "model_module_version": "1.2.0",
      "model_name": "LayoutModel",
      "state": {}
     },
     "a50160cda455495dbae02b5f2c908038": {
      "model_module": "@jupyter-widgets/output",
      "model_module_version": "1.0.0",
      "model_name": "OutputModel",
      "state": {
       "layout": "IPY_MODEL_9249fd64b9214b4c90ba67a89fd3ec4f",
       "outputs": [
        {
         "data": {},
         "metadata": {},
         "output_type": "display_data"
        },
        {
         "data": {
          "application/vnd.jupyter.widget-view+json": {
           "model_id": "67d875f95c5844799cd9b4601948afdc",
           "version_major": 2,
           "version_minor": 0
          },
          "text/plain": "GPTaskWidget(collapse=True, color='rgba(10, 45, 105, 0.80)', description='Views the results from ComparativeMa…"
         },
         "metadata": {},
         "output_type": "display_data"
        },
        {
         "data": {
          "application/vnd.jupyter.widget-view+json": {
           "model_id": "a97ca9890a2c4ce6b558f5b911067e13",
           "version_major": 2,
           "version_minor": 0
          },
          "text/plain": "Output()"
         },
         "metadata": {},
         "output_type": "display_data"
        }
       ]
      }
     },
     "a5477506a78f4421ac662c0a32189d3f": {
      "model_module": "@jupyter-widgets/controls",
      "model_module_version": "1.5.0",
      "model_name": "GridBoxModel",
      "state": {
       "_dom_classes": [
        "nbtools-input",
        "nbtools-textinput"
       ],
       "children": [
        "IPY_MODEL_162daa22c93b497baf782651a9b39151",
        "IPY_MODEL_e68d1a4396a04255b0bfb6db7d6891c1",
        "IPY_MODEL_9933a0072b214221b4422c54d9c0a340"
       ],
       "layout": "IPY_MODEL_ebbc9e73b517460e9e1ef3182fdf14be"
      }
     },
     "a561c338d31f4d9abebbcb63386f31e9": {
      "model_module": "@jupyter-widgets/controls",
      "model_module_version": "1.5.0",
      "model_name": "DescriptionStyleModel",
      "state": {
       "description_width": ""
      }
     },
     "a624509f38b449d48166aeba3c1d8eb3": {
      "model_module": "@jupyter-widgets/base",
      "model_module_version": "1.2.0",
      "model_name": "LayoutModel",
      "state": {
       "grid_area": "description",
       "width": "auto"
      }
     },
     "a6b99cc4de3349cf976776a1dc4cce57": {
      "model_module": "@jupyter-widgets/base",
      "model_module_version": "1.2.0",
      "model_name": "LayoutModel",
      "state": {
       "grid_area": "description",
       "width": "auto"
      }
     },
     "a76de9dd9f1448fda6c33d68dfe4b77e": {
      "model_module": "@jupyter-widgets/controls",
      "model_module_version": "1.5.0",
      "model_name": "DescriptionStyleModel",
      "state": {
       "description_width": ""
      }
     },
     "a7a8527d756d4a84992fe06d549a9800": {
      "model_module": "@jupyter-widgets/base",
      "model_module_version": "1.2.0",
      "model_name": "LayoutModel",
      "state": {}
     },
     "a7da89d1a0714913b7f7bc11a7c97ece": {
      "model_module": "@jupyter-widgets/controls",
      "model_module_version": "1.5.0",
      "model_name": "GridBoxModel",
      "state": {
       "_dom_classes": [
        "nbtools-input",
        "nbtools-textinput",
        "required"
       ],
       "children": [
        "IPY_MODEL_788d24b5434d4afe80d4e4fd731a55ba",
        "IPY_MODEL_71f4c15d7bdb4359801ceba8bed9bf4a",
        "IPY_MODEL_4d0deebbf5e24aea9ee4cfe8382a53ac"
       ],
       "layout": "IPY_MODEL_b296164f18ee4bea9bb375763eff130d"
      }
     },
     "a7ee280015224b4aa3180584176cde88": {
      "model_module": "@jupyter-widgets/controls",
      "model_module_version": "1.5.0",
      "model_name": "GridBoxModel",
      "state": {
       "_dom_classes": [
        "nbtools-input",
        "nbtools-selectinput",
        "required"
       ],
       "children": [
        "IPY_MODEL_f1e4a4b493074d27a1d59fbde70db069",
        "IPY_MODEL_cf5d42d6059f4c1cb801534755e22050",
        "IPY_MODEL_21535258d7d14be09168ba41ea556fc0"
       ],
       "layout": "IPY_MODEL_376d6114cca7416db47852859771f895"
      }
     },
     "a7ee32b1b837424c82fb32309b95335b": {
      "model_module": "@jupyter-widgets/base",
      "model_module_version": "1.2.0",
      "model_name": "LayoutModel",
      "state": {
       "grid_template_areas": "\n                    \"label input\"\n                    \". description\"\n                ",
       "grid_template_columns": "25% 75%",
       "grid_template_rows": "auto auto",
       "width": "100%"
      }
     },
     "a800741836a24b5bb2a6fcfc439b5d73": {
      "model_module": "@jupyter-widgets/controls",
      "model_module_version": "1.5.0",
      "model_name": "GridBoxModel",
      "state": {
       "_dom_classes": [
        "nbtools-input",
        "nbtools-selectinput"
       ],
       "children": [
        "IPY_MODEL_1d7ecf9a885d4a219d73363abff7c924",
        "IPY_MODEL_8810afeb51d445b99f7fd99a630abe92",
        "IPY_MODEL_748f9bf3ef9f4d54b3580795159024da"
       ],
       "layout": "IPY_MODEL_b6e8fb5747cd4f45970dd64a23cb3714"
      }
     },
     "a97ca9890a2c4ce6b558f5b911067e13": {
      "model_module": "@jupyter-widgets/output",
      "model_module_version": "1.0.0",
      "model_name": "OutputModel",
      "state": {
       "layout": "IPY_MODEL_0a5ae1c88b7143a0a59cd3b101a542c6"
      }
     },
     "aa81973683ad4f0090efaeccd6f1b8ab": {
      "model_module": "@jupyter-widgets/base",
      "model_module_version": "1.2.0",
      "model_name": "LayoutModel",
      "state": {}
     },
     "aadc4c83b30749ff9784b410e19bc4d6": {
      "model_module": "@jupyter-widgets/controls",
      "model_module_version": "1.5.0",
      "model_name": "DescriptionStyleModel",
      "state": {
       "description_width": ""
      }
     },
     "abf553d349684378be77aa69344ac6e4": {
      "model_module": "@jupyter-widgets/base",
      "model_module_version": "1.2.0",
      "model_name": "LayoutModel",
      "state": {}
     },
     "ac9cf2cb7c524692a214f74a4530d935": {
      "model_module": "@jupyter-widgets/base",
      "model_module_version": "1.2.0",
      "model_name": "LayoutModel",
      "state": {
       "grid_area": "label",
       "width": "auto"
      }
     },
     "ad8459225fa04f8a8ea5e9a073ed703f": {
      "model_module": "@jupyter-widgets/controls",
      "model_module_version": "1.5.0",
      "model_name": "DescriptionStyleModel",
      "state": {
       "description_width": ""
      }
     },
     "adf86a2f8ea646cbb1b0f4150f889da4": {
      "model_module": "@jupyter-widgets/base",
      "model_module_version": "1.2.0",
      "model_name": "LayoutModel",
      "state": {}
     },
     "aec68ea7b6594aa8b7badc071bae7714": {
      "model_module": "@jupyter-widgets/controls",
      "model_module_version": "1.5.0",
      "model_name": "HBoxModel",
      "state": {
       "children": [
        "IPY_MODEL_4fb9d812dcf746d384d576ef699ad217",
        "IPY_MODEL_db9ea2656e6943d48a99712f8e526a4b"
       ],
       "layout": "IPY_MODEL_8f1b7f84742b451292cc7641cb993d7b"
      }
     },
     "aec99e34d7da422bb143d4b55d055dd5": {
      "model_module": "@jupyter-widgets/controls",
      "model_module_version": "1.5.0",
      "model_name": "DescriptionStyleModel",
      "state": {
       "description_width": ""
      }
     },
     "af7702e9d1f34c4c8b4c7e2450d15687": {
      "model_module": "@jupyter-widgets/controls",
      "model_module_version": "1.5.0",
      "model_name": "ButtonModel",
      "state": {
       "_dom_classes": [
        "hidden"
       ],
       "description": "Run",
       "layout": "IPY_MODEL_973ee1ee2ef24d2b9c8804454f3dee4f",
       "style": "IPY_MODEL_ed9c772fec874f499ec8c03c9d8b2876"
      }
     },
     "af952ee8231c441fb76fd3b78ee5b86f": {
      "model_module": "@jupyter-widgets/output",
      "model_module_version": "1.0.0",
      "model_name": "OutputModel",
      "state": {
       "layout": "IPY_MODEL_ced6b950dac548a08a37af90f12ef84c"
      }
     },
     "b0344468da294bdd8ca635882d8f8d77": {
      "model_module": "@jupyter-widgets/output",
      "model_module_version": "1.0.0",
      "model_name": "OutputModel",
      "state": {
       "layout": "IPY_MODEL_10b70f9ba9244d7590b6589053033e55",
       "outputs": [
        {
         "data": {
          "application/vnd.jupyter.widget-view+json": {
           "model_id": "7905837adcb443939c2f0b202139c214",
           "version_major": 2,
           "version_minor": 0
          },
          "text/plain": "GPAuthWidget(collapse=True, collapsed=True, color='rgba(10, 45, 105, 0.80)', display_footer=False, display_hea…"
         },
         "metadata": {},
         "output_type": "display_data"
        },
        {
         "data": {
          "application/vnd.jupyter.widget-view+json": {
           "model_id": "3ec6a12235744df1b4f2319fa5349536",
           "version_major": 2,
           "version_minor": 0
          },
          "text/plain": "Output()"
         },
         "metadata": {},
         "output_type": "display_data"
        }
       ]
      }
     },
     "b1f35cc4958d44938c42bfdef2b07527": {
      "model_module": "@jupyter-widgets/controls",
      "model_module_version": "1.5.0",
      "model_name": "LabelModel",
      "state": {
       "layout": "IPY_MODEL_080baced689f47129f652b9cff9989e6",
       "style": "IPY_MODEL_7a18e134e5ed4a699be7d91b793ceb8a"
      }
     },
     "b201a5b7183d4ad39597203fd487446b": {
      "model_module": "@jupyter-widgets/controls",
      "model_module_version": "1.5.0",
      "model_name": "LabelModel",
      "state": {
       "description": "input_file",
       "layout": "IPY_MODEL_84374b9c12c64d57833ef5d15e6c675b",
       "style": "IPY_MODEL_5de945f7b9894359936e8bfdba2923ea",
       "value": "input_file*"
      }
     },
     "b214767a7d1e4b3594b5d2046e2bac19": {
      "model_module": "@jupyter-widgets/base",
      "model_module_version": "1.2.0",
      "model_name": "LayoutModel",
      "state": {}
     },
     "b2688bbb6c3944a0b739acb3d75d3536": {
      "model_module": "@jupyter-widgets/controls",
      "model_module_version": "1.5.0",
      "model_name": "DescriptionStyleModel",
      "state": {
       "description_width": ""
      }
     },
     "b294a256323d44c9af4d75f4717b0803": {
      "model_module": "@jupyter-widgets/base",
      "model_module_version": "1.2.0",
      "model_name": "LayoutModel",
      "state": {
       "grid_area": "input",
       "width": "auto"
      }
     },
     "b296164f18ee4bea9bb375763eff130d": {
      "model_module": "@jupyter-widgets/base",
      "model_module_version": "1.2.0",
      "model_name": "LayoutModel",
      "state": {
       "grid_template_areas": "\n                    \"label input\"\n                    \". description\"\n                ",
       "grid_template_columns": "25% 75%",
       "grid_template_rows": "auto auto",
       "width": "100%"
      }
     },
     "b2d42f7b319948b395559c8cb86f78c2": {
      "model_module": "@jupyter-widgets/controls",
      "model_module_version": "1.5.0",
      "model_name": "TextModel",
      "state": {
       "_dom_classes": [
        "nbtools-menu-attached"
       ],
       "layout": "IPY_MODEL_1e58d1e9abdb42b38a98abd56c7da654",
       "style": "IPY_MODEL_78cbc01637c54aabb498d60990245e15"
      }
     },
     "b2dc39ed0b134bf193f38c45df6ce044": {
      "model_module": "@jupyter-widgets/controls",
      "model_module_version": "1.5.0",
      "model_name": "LabelModel",
      "state": {
       "description": "output variable",
       "layout": "IPY_MODEL_ac9cf2cb7c524692a214f74a4530d935",
       "style": "IPY_MODEL_8526a90ffadb4536b358112791ef64c1",
       "value": "output variable"
      }
     },
     "b544e2884e1b4fc48f7f0dd62124ef41": {
      "model_module": "@jupyter-widgets/controls",
      "model_module_version": "1.5.0",
      "model_name": "LabelModel",
      "state": {
       "description": "input_filename",
       "layout": "IPY_MODEL_1c20460b241742b5b29038a30d53b62d",
       "style": "IPY_MODEL_1ee9ffd0e237434ca89a95907b2121b6",
       "value": "input_filename*"
      }
     },
     "b555bf660a0848a6adb53d5f96532b42": {
      "model_module": "@jupyter-widgets/controls",
      "model_module_version": "1.5.0",
      "model_name": "HBoxModel",
      "state": {
       "children": [
        "IPY_MODEL_c54224658b0f4c18bba3e4837265b2d9",
        "IPY_MODEL_9bd8ab4b2d1d4c92b028a3bc9714885a"
       ],
       "layout": "IPY_MODEL_9b9710898aa749fa9cf63556243b754f"
      }
     },
     "b5748e06c9bb4c3b898a6549d03a70c6": {
      "model_module": "@jupyter-widgets/controls",
      "model_module_version": "1.5.0",
      "model_name": "ComboboxModel",
      "state": {
       "_dom_classes": [
        "nbtools-menu-attached"
       ],
       "choices": {},
       "ensure_option": false,
       "kinds": [
        "Comparative Marker Selection"
       ],
       "layout": "IPY_MODEL_9d2bdb3df5b0466ab9c600157dca6a3f",
       "style": "IPY_MODEL_01487bf31b474227b5fe14da82654b4d"
      }
     },
     "b59349b630624a91b10ce2fb53dbde03": {
      "model_module": "@jupyter-widgets/base",
      "model_module_version": "1.2.0",
      "model_name": "LayoutModel",
      "state": {}
     },
     "b5a4a09ceeee45b8903f98763dc6a4c2": {
      "model_module": "@jupyter-widgets/controls",
      "model_module_version": "1.5.0",
      "model_name": "GridBoxModel",
      "state": {
       "_dom_classes": [
        "nbtools-input",
        "nbtools-textinput"
       ],
       "children": [
        "IPY_MODEL_159dcdfc6e3046b99d636201717fb116",
        "IPY_MODEL_e7bf12d927bc475991fa58e93685f345",
        "IPY_MODEL_f2c01119609c4e029e9b0ca56a8e8864"
       ],
       "layout": "IPY_MODEL_1a19a66e23e04df9afe8ce4ec237129c"
      }
     },
     "b6ce0959d4de48aca1fa65ffcc404ce2": {
      "model_module": "@jupyter-widgets/controls",
      "model_module_version": "1.5.0",
      "model_name": "TextModel",
      "state": {
       "_dom_classes": [
        "nbtools-menu-attached"
       ],
       "layout": "IPY_MODEL_8a80995598d0415597c65f8f30a5295f",
       "style": "IPY_MODEL_94f8866d751d4ed891daa4e3c5ba86cb"
      }
     },
     "b6e8fb5747cd4f45970dd64a23cb3714": {
      "model_module": "@jupyter-widgets/base",
      "model_module_version": "1.2.0",
      "model_name": "LayoutModel",
      "state": {
       "grid_template_areas": "\n                    \"label input\"\n                    \". description\"\n                ",
       "grid_template_columns": "25% 75%",
       "grid_template_rows": "auto auto",
       "width": "100%"
      }
     },
     "b74b7c15c13e4bfda633c48d1c1746e9": {
      "model_module": "@jupyter-widgets/base",
      "model_module_version": "1.2.0",
      "model_name": "LayoutModel",
      "state": {
       "grid_area": "label",
       "width": "auto"
      }
     },
     "b8a24dd79a2445d2b9f9f32bfc976bdb": {
      "model_module": "@jupyter-widgets/controls",
      "model_module_version": "1.5.0",
      "model_name": "VBoxModel",
      "state": {
       "layout": "IPY_MODEL_b59349b630624a91b10ce2fb53dbde03"
      }
     },
     "b8e2e92837c447b4a42e5d577a11f9b0": {
      "model_module": "@jupyter-widgets/base",
      "model_module_version": "1.2.0",
      "model_name": "LayoutModel",
      "state": {
       "grid_area": "input",
       "width": "auto"
      }
     },
     "b9bcc67d1066424ca17798332b7b2fd7": {
      "model_module": "@jupyter-widgets/controls",
      "model_module_version": "1.5.0",
      "model_name": "DescriptionStyleModel",
      "state": {
       "description_width": ""
      }
     },
     "b9daebe83f7b47aabf4722714371d767": {
      "model_module": "@jupyter-widgets/base",
      "model_module_version": "1.2.0",
      "model_name": "LayoutModel",
      "state": {
       "grid_area": "input",
       "width": "auto"
      }
     },
     "ba25d04ca9cc480e946c46485fdac291": {
      "model_module": "@jupyter-widgets/controls",
      "model_module_version": "1.5.0",
      "model_name": "LabelModel",
      "state": {
       "description": "The statistic to use",
       "layout": "IPY_MODEL_e0e6cd1c4db04dfcb7e2462ffc31c5e9",
       "style": "IPY_MODEL_22d2caed95a84e9aa69902b44fceef95",
       "value": "The statistic to use"
      }
     },
     "ba572c08aab743c294d86c8716ac7366": {
      "model_module": "@jupyter-widgets/controls",
      "model_module_version": "1.5.0",
      "model_name": "LabelModel",
      "state": {
       "description": "dataset_filename",
       "layout": "IPY_MODEL_3bec0634530b44d8a7fd8e0a1a58a9e5",
       "style": "IPY_MODEL_e19216861f684ff1876676230aca5a4f",
       "value": "dataset_filename*"
      }
     },
     "bad1d777cbfb4cd6823ccc05e3a2a6d3": {
      "model_module": "@jupyter-widgets/controls",
      "model_module_version": "1.5.0",
      "model_name": "LabelModel",
      "state": {
       "layout": "IPY_MODEL_1e3c877fc7cf48ccaf96787b7a0fcc08",
       "style": "IPY_MODEL_dcb6506ae9594a2ab0ecaf26a5d80b33"
      }
     },
     "baf77bfdd4de4af4ade060c84af5f10b": {
      "model_module": "@jupyter-widgets/controls",
      "model_module_version": "1.5.0",
      "model_name": "ButtonModel",
      "state": {
       "_dom_classes": [
        "hidden"
       ],
       "description": "Run",
       "layout": "IPY_MODEL_6d1f779076474ea696bcb91f8ed402e7",
       "style": "IPY_MODEL_d92b3fdbd8c84beb80083642833f1f0b"
      }
     },
     "bb21d35aa8a24a59a4233314c330e11c": {
      "model_module": "@jupyter-widgets/controls",
      "model_module_version": "1.5.0",
      "model_name": "LabelModel",
      "state": {
       "description": "The test to perform",
       "layout": "IPY_MODEL_83842ad709cf4342aca44c7e7ae1a4d6",
       "style": "IPY_MODEL_691aad6ba1dd4e48bbf3d40d356370e0",
       "value": "The test to perform"
      }
     },
     "bb88489d21e44c8e86df4609500e81fe": {
      "model_module": "@jupyter-widgets/base",
      "model_module_version": "1.2.0",
      "model_name": "LayoutModel",
      "state": {}
     },
     "bc6b5e204dd841648e84e6e5ee0c584e": {
      "model_module": "@jupyter-widgets/controls",
      "model_module_version": "1.5.0",
      "model_name": "DescriptionStyleModel",
      "state": {
       "description_width": ""
      }
     },
     "bcf1a30e043c40fd9f8949f2f9fa3d38": {
      "model_module": "@jupyter-widgets/base",
      "model_module_version": "1.2.0",
      "model_name": "LayoutModel",
      "state": {
       "display": "none",
       "grid_template_areas": "\n                    \"label input\"\n                    \". description\"\n                ",
       "grid_template_columns": "25% 75%",
       "grid_template_rows": "auto auto",
       "width": "100%"
      }
     },
     "bcfb886b8f844f64a8727ef6084cfcab": {
      "model_module": "@jupyter-widgets/controls",
      "model_module_version": "1.5.0",
      "model_name": "GridBoxModel",
      "state": {
       "_dom_classes": [
        "nbtools-input",
        "nbtools-textinput"
       ],
       "children": [
        "IPY_MODEL_7f467fa5eaaf4361a309d613847b3311",
        "IPY_MODEL_efe5625807f246a898813ed3182cdd3b",
        "IPY_MODEL_9ccd24e9972d441c9323112805b330ec"
       ],
       "layout": "IPY_MODEL_f17844bd85c246d3950748d74b5e8582"
      }
     },
     "bdf4d7c9e2d54916bd2f3f14fed227d7": {
      "model_module": "@jupyter-widgets/base",
      "model_module_version": "1.2.0",
      "model_name": "LayoutModel",
      "state": {
       "grid_template_areas": "\n                    \"label input\"\n                    \". description\"\n                ",
       "grid_template_columns": "25% 75%",
       "grid_template_rows": "auto auto",
       "width": "100%"
      }
     },
     "be07d1c3b6e2410e841b28eafb69bb0b": {
      "model_module": "@jupyter-widgets/controls",
      "model_module_version": "1.5.0",
      "model_name": "DescriptionStyleModel",
      "state": {
       "description_width": ""
      }
     },
     "be931b211a66473da7cd61c0c3a51776": {
      "model_module": "@jupyter-widgets/controls",
      "model_module_version": "1.5.0",
      "model_name": "VBoxModel",
      "state": {
       "_dom_classes": [
        "widget-interact"
       ],
       "children": [
        "IPY_MODEL_4ef7ee127e1e478195f1f8aa2482b0a4",
        "IPY_MODEL_785a22d1d68b4d48a7728105a53a3403",
        "IPY_MODEL_7ac1b387901e4ef183000894f6f6c54a",
        "IPY_MODEL_4cec8f25e3b643b88c81120766d60ff7",
        "IPY_MODEL_f0a78571b4dd451b9beb41b01880f927",
        "IPY_MODEL_bcfb886b8f844f64a8727ef6084cfcab",
        "IPY_MODEL_e3c4f7e9c3064b6da4700256851e268f",
        "IPY_MODEL_a7ee280015224b4aa3180584176cde88",
        "IPY_MODEL_8aa39e4990c44428a61ec8c7305aec8b",
        "IPY_MODEL_d86b7ae545664be18fca05fadb0246d5",
        "IPY_MODEL_71f2bb274cfe467eaad43de247b85850",
        "IPY_MODEL_9c1b8cd730364583ade9a2ec0c36434b",
        "IPY_MODEL_a800741836a24b5bb2a6fcfc439b5d73",
        "IPY_MODEL_da951b627e084bcb9b75f842b28c2084",
        "IPY_MODEL_413573e978aa4835a2c42bd38bde40f2",
        "IPY_MODEL_b5a4a09ceeee45b8903f98763dc6a4c2"
       ],
       "layout": "IPY_MODEL_84f339f5832d406ebd4f87e54d476dc0"
      }
     },
     "bf33501e6a584cc69f1f206916c137c5": {
      "model_module": "@jupyter-widgets/controls",
      "model_module_version": "1.5.0",
      "model_name": "LabelModel",
      "state": {
       "layout": "IPY_MODEL_d8954a811b694457ac39beca257f884d",
       "style": "IPY_MODEL_3bf3271ac9844879a3eb2b800851241f"
      }
     },
     "bf543f55a2164cbf9192ca502933f87f": {
      "model_module": "@jupyter-widgets/base",
      "model_module_version": "1.2.0",
      "model_name": "LayoutModel",
      "state": {
       "grid_area": "label",
       "width": "auto"
      }
     },
     "bf7f06b2b0f646f68cd4986c1f31c9f4": {
      "model_module": "@jupyter-widgets/output",
      "model_module_version": "1.0.0",
      "model_name": "OutputModel",
      "state": {
       "layout": "IPY_MODEL_9030a67532304330995d9849961d5c1e"
      }
     },
     "c0387b3d9630463085e82fbb5f00ef6d": {
      "model_module": "@jupyter-widgets/base",
      "model_module_version": "1.2.0",
      "model_name": "LayoutModel",
      "state": {
       "grid_area": "description",
       "width": "auto"
      }
     },
     "c07597e836704a6d965bc3e0026960c1": {
      "model_module": "@jupyter-widgets/controls",
      "model_module_version": "1.5.0",
      "model_name": "VBoxModel",
      "state": {
       "_dom_classes": [
        "widget-interact"
       ],
       "children": [
        "IPY_MODEL_061357ddbd034fd2a45bf74a3bf82405",
        "IPY_MODEL_5aca12081ed74e56b22157d4e0b77c3b"
       ],
       "layout": "IPY_MODEL_d7ec8844734a432c9d6a14a54bb4a11e"
      }
     },
     "c0b31501ab9949e6b4a3337412bddba6": {
      "model_module": "@jupyter-widgets/controls",
      "model_module_version": "1.5.0",
      "model_name": "DescriptionStyleModel",
      "state": {
       "description_width": ""
      }
     },
     "c12e7b08dd8f4ba9872cdbc481306d24": {
      "model_module": "@jupyter-widgets/controls",
      "model_module_version": "1.5.0",
      "model_name": "DescriptionStyleModel",
      "state": {
       "description_width": ""
      }
     },
     "c17a6bc9e7ab48f789cb5a1da93a1fd5": {
      "model_module": "@jupyter-widgets/base",
      "model_module_version": "1.2.0",
      "model_name": "LayoutModel",
      "state": {}
     },
     "c1ee48772069417ab38368c24e2ce0c5": {
      "model_module": "@jupyter-widgets/base",
      "model_module_version": "1.2.0",
      "model_name": "LayoutModel",
      "state": {
       "grid_area": "description",
       "width": "auto"
      }
     },
     "c374998490694748b69a39b007422db1": {
      "model_module": "@jupyter-widgets/controls",
      "model_module_version": "1.5.0",
      "model_name": "DescriptionStyleModel",
      "state": {
       "description_width": ""
      }
     },
     "c487de30693b4ca5853876ff7f1fe9cc": {
      "model_module": "@jupyter-widgets/controls",
      "model_module_version": "1.5.0",
      "model_name": "VBoxModel",
      "state": {
       "layout": "IPY_MODEL_aa81973683ad4f0090efaeccd6f1b8ab"
      }
     },
     "c4c090594e8f49298c3d97f707c31033": {
      "model_module": "@jupyter-widgets/controls",
      "model_module_version": "1.5.0",
      "model_name": "DescriptionStyleModel",
      "state": {
       "description_width": ""
      }
     },
     "c4e5b9df2fc04271895460136ed28d49": {
      "model_module": "@jupyter-widgets/controls",
      "model_module_version": "1.5.0",
      "model_name": "DescriptionStyleModel",
      "state": {
       "description_width": ""
      }
     },
     "c54224658b0f4c18bba3e4837265b2d9": {
      "model_module": "@jupyter-widgets/controls",
      "model_module_version": "1.5.0",
      "model_name": "FileUploadModel",
      "state": {
       "accept": ".cls",
       "description_tooltip": null,
       "layout": "IPY_MODEL_92cc2f3b7d854d2d9690912ae342a192",
       "style": "IPY_MODEL_4d1955420b824a11aa913d6d6fcb70e2"
      }
     },
     "c5691697b498401599b00631d543c0f6": {
      "model_module": "@jupyter-widgets/base",
      "model_module_version": "1.2.0",
      "model_name": "LayoutModel",
      "state": {
       "grid_template_areas": "\n                    \"label input\"\n                    \". description\"\n                ",
       "grid_template_columns": "25% 75%",
       "grid_template_rows": "auto auto",
       "width": "100%"
      }
     },
     "c596d6e5d01e49429acfbea6ae668fe9": {
      "model_module": "@jupyter-widgets/controls",
      "model_module_version": "1.5.0",
      "model_name": "DescriptionStyleModel",
      "state": {
       "description_width": ""
      }
     },
     "c5e4ab617c184defb1bb843dae58eacf": {
      "model_module": "@jupyter-widgets/controls",
      "model_module_version": "1.5.0",
      "model_name": "DescriptionStyleModel",
      "state": {
       "description_width": ""
      }
     },
     "c60b7ad7005e4559b4ff1cf909615d9c": {
      "model_module": "@jupyter-widgets/controls",
      "model_module_version": "1.5.0",
      "model_name": "TextModel",
      "state": {
       "_dom_classes": [
        "nbtools-menu-attached"
       ],
       "layout": "IPY_MODEL_b294a256323d44c9af4d75f4717b0803",
       "style": "IPY_MODEL_10d8c03f68214723a3b698cae5991f88"
      }
     },
     "c6db493356734279a6703c9e53fa8899": {
      "model_module": "@jupyter-widgets/base",
      "model_module_version": "1.2.0",
      "model_name": "LayoutModel",
      "state": {
       "display": "none",
       "grid_template_areas": "\n                    \"label input\"\n                    \". description\"\n                ",
       "grid_template_columns": "25% 75%",
       "grid_template_rows": "auto auto",
       "width": "100%"
      }
     },
     "c84f0b2f41b44b1c828004d758558fb1": {
      "model_module": "@genepattern/nbtools",
      "model_module_version": "^0.2.0",
      "model_name": "UIBuilderModel",
      "state": {
       "_dom_classes": [],
       "_model_module_version": "^0.2.0",
       "_parameters": [
        {
         "choices": {},
         "default": "",
         "description": "The input file - .res, .gct. Note that if your data is log transformed, you will need to set the \"log transformed data\" parameter below to \"yes\".",
         "events": null,
         "hide": false,
         "id": null,
         "kinds": [
          "gct",
          "res"
         ],
         "label": "input_file",
         "name": "input_file",
         "optional": false,
         "type": "file",
         "value": ""
        },
        {
         "choices": {},
         "default": "",
         "description": "The class file - .cls",
         "events": null,
         "hide": false,
         "id": null,
         "kinds": [
          "cls"
         ],
         "label": "cls_file",
         "name": "cls_file",
         "optional": false,
         "type": "file",
         "value": ""
        },
        {
         "choices": {},
         "default": "",
         "description": "The class file containing the confounding variable.",
         "events": null,
         "hide": false,
         "id": null,
         "kinds": [
          "cls"
         ],
         "label": "confounding_variable_cls_file",
         "name": "confounding_variable_cls_file",
         "optional": true,
         "type": "file",
         "value": ""
        },
        {
         "choices": {
          "2 Sided": "2",
          "Class 0": "0",
          "Class 1": "1"
         },
         "default": "2",
         "description": "The test to perform",
         "events": null,
         "hide": false,
         "id": null,
         "kinds": [],
         "label": "test_direction",
         "name": "test_direction",
         "optional": false,
         "type": "choice",
         "value": ""
        },
        {
         "choices": {
          "Paired T-Test": "8",
          "SNR": "1",
          "SNR (median)": "3",
          "SNR (median, min std)": "6",
          "SNR (min std)": "5",
          "T-Test": "0",
          "T-Test (median)": "2",
          "T-Test (median, min std)": "7",
          "T-Test (min std)": "4"
         },
         "default": "0",
         "description": "The statistic to use",
         "events": null,
         "hide": false,
         "id": null,
         "kinds": [],
         "label": "test_statistic",
         "name": "test_statistic",
         "optional": false,
         "type": "choice",
         "value": ""
        },
        {
         "choices": {},
         "default": "",
         "description": "The minimum standard deviation if test statistic includes min std option",
         "events": null,
         "hide": false,
         "id": null,
         "kinds": [],
         "label": "min_std",
         "name": "min_std",
         "optional": true,
         "type": "text",
         "value": ""
        },
        {
         "choices": {},
         "default": "10000",
         "description": "The number of permutations to perform (use 0 to calculate asymptotic p-values using the standard independent two-sample t-test)",
         "events": null,
         "hide": false,
         "id": null,
         "kinds": [],
         "label": "number_of_permutations",
         "name": "number_of_permutations",
         "optional": false,
         "type": "text",
         "value": ""
        },
        {
         "choices": {
          "no": "false",
          "yes": "true"
         },
         "default": "false",
         "description": "Whether the input data has been log transformed",
         "events": null,
         "hide": false,
         "id": null,
         "kinds": [],
         "label": "log_transformed_data",
         "name": "log_transformed_data",
         "optional": false,
         "type": "choice",
         "value": ""
        },
        {
         "choices": {
          "no": "false",
          "yes": "true"
         },
         "default": "false",
         "description": "Whether to perform all possible permutations",
         "events": null,
         "hide": false,
         "id": null,
         "kinds": [],
         "label": "complete",
         "name": "complete",
         "optional": false,
         "type": "choice",
         "value": ""
        },
        {
         "choices": {
          "no": "false",
          "yes": "true"
         },
         "default": "false",
         "description": "Whether to perform balanced permutations",
         "events": null,
         "hide": false,
         "id": null,
         "kinds": [],
         "label": "balanced",
         "name": "balanced",
         "optional": false,
         "type": "choice",
         "value": ""
        },
        {
         "choices": {},
         "default": "779948241",
         "description": "The seed of the random number generator used to produce permutations",
         "events": null,
         "hide": false,
         "id": null,
         "kinds": [],
         "label": "random_seed",
         "name": "random_seed",
         "optional": false,
         "type": "number",
         "value": ""
        },
        {
         "choices": {
          "no": "false",
          "yes": "true"
         },
         "default": "true",
         "description": "Whether to smooth p-values",
         "events": null,
         "hide": false,
         "id": null,
         "kinds": [],
         "label": "smooth_p_values",
         "name": "smooth_p_values",
         "optional": false,
         "type": "choice",
         "value": ""
        },
        {
         "choices": {
          "all pairs": "all pairs",
          "one versus all": "one versus all"
         },
         "default": "one versus all",
         "description": "Tests to perform when cls file has more than two classes (Note: not fully corrected for multiple hypothesis testing)",
         "events": null,
         "hide": false,
         "id": null,
         "kinds": [],
         "label": "phenotype_test",
         "name": "phenotype_test",
         "optional": true,
         "type": "choice",
         "value": ""
        },
        {
         "choices": {},
         "default": "<input.file_basename>.comp.marker.odf",
         "description": "The name of the output file",
         "events": null,
         "hide": false,
         "id": null,
         "kinds": [],
         "label": "output_filename",
         "name": "output_filename",
         "optional": false,
         "type": "text",
         "value": ""
        },
        {
         "choices": {},
         "default": "",
         "description": "",
         "events": null,
         "hide": true,
         "id": null,
         "kinds": null,
         "label": "output variable",
         "name": "output_var",
         "optional": true,
         "type": "text",
         "value": ""
        }
       ],
       "_view_count": null,
       "_view_module_version": "^0.2.0",
       "color": "rgba(10, 45, 105, 0.80)",
       "description": "Identify differentially expressed genes that can discriminate between distinct classes of samples.",
       "form": "IPY_MODEL_be931b211a66473da7cd61c0c3a51776",
       "layout": "IPY_MODEL_40bd8fe9919141608c3a1ca795b8039e",
       "name": "ComparativeMarkerSelection",
       "origin": "genepattern.taskwidget",
       "output": "IPY_MODEL_af952ee8231c441fb76fd3b78ee5b86f",
       "output_var": ""
      }
     },
     "c96200181f614e45a70a3704088eb0a2": {
      "model_module": "@jupyter-widgets/controls",
      "model_module_version": "1.5.0",
      "model_name": "DescriptionStyleModel",
      "state": {
       "description_width": ""
      }
     },
     "c99845878f084491a24747638320070c": {
      "model_module": "@jupyter-widgets/base",
      "model_module_version": "1.2.0",
      "model_name": "LayoutModel",
      "state": {
       "grid_area": "description",
       "width": "auto"
      }
     },
     "c9e30fb1cdaa417586c87671227bd02e": {
      "model_module": "@jupyter-widgets/controls",
      "model_module_version": "1.5.0",
      "model_name": "GridBoxModel",
      "state": {
       "_dom_classes": [
        "nbtools-input",
        "nbtools-textinput"
       ],
       "children": [
        "IPY_MODEL_b2dc39ed0b134bf193f38c45df6ce044",
        "IPY_MODEL_5ef2d9c725c944eeacd2709c2ce20805",
        "IPY_MODEL_a1b780f2d87246b7a67f6ece160431d6"
       ],
       "layout": "IPY_MODEL_c6db493356734279a6703c9e53fa8899"
      }
     },
     "c9f73a44fcef4fe690c8ad00815ebc89": {
      "model_module": "@jupyter-widgets/base",
      "model_module_version": "1.2.0",
      "model_name": "LayoutModel",
      "state": {
       "grid_template_areas": "\n                    \"label input\"\n                    \". description\"\n                ",
       "grid_template_columns": "25% 75%",
       "grid_template_rows": "auto auto",
       "width": "100%"
      }
     },
     "cb36f80f256e4e5099dccd64c0b3f976": {
      "model_module": "@jupyter-widgets/base",
      "model_module_version": "1.2.0",
      "model_name": "LayoutModel",
      "state": {}
     },
     "cb3bed9c91f54aa28649afabd0360c75": {
      "model_module": "@jupyter-widgets/base",
      "model_module_version": "1.2.0",
      "model_name": "LayoutModel",
      "state": {
       "grid_area": "label",
       "width": "auto"
      }
     },
     "cc4967740d4f495284f7d6a90f0998ae": {
      "model_module": "@jupyter-widgets/base",
      "model_module_version": "1.2.0",
      "model_name": "LayoutModel",
      "state": {
       "grid_area": "label",
       "width": "auto"
      }
     },
     "cc6ade33cf724d7298a0f894737df379": {
      "model_module": "@jupyter-widgets/base",
      "model_module_version": "1.2.0",
      "model_name": "LayoutModel",
      "state": {}
     },
     "ccec1a90760a44dda43b2d23e4a4733a": {
      "model_module": "@jupyter-widgets/base",
      "model_module_version": "1.2.0",
      "model_name": "LayoutModel",
      "state": {
       "grid_area": "label",
       "width": "auto"
      }
     },
     "ccffff43c9db4bd2821951da10b1a344": {
      "model_module": "@jupyter-widgets/controls",
      "model_module_version": "1.5.0",
      "model_name": "VBoxModel",
      "state": {
       "children": [
        "IPY_MODEL_e1ec4896992a4c58ae2458a25f50edba"
       ],
       "layout": "IPY_MODEL_9c3c9c6875d04758867143432074801b"
      }
     },
     "cd1aea9a37c847b3b9669ddf1aeac8b6": {
      "model_module": "@jupyter-widgets/controls",
      "model_module_version": "1.5.0",
      "model_name": "ButtonStyleModel",
      "state": {}
     },
     "cd435e98066b44ad9262b9c1e2578edc": {
      "model_module": "@jupyter-widgets/controls",
      "model_module_version": "1.5.0",
      "model_name": "DescriptionStyleModel",
      "state": {
       "description_width": ""
      }
     },
     "cd9cf3467e83442f8d2dd937882fc72c": {
      "model_module": "@jupyter-widgets/controls",
      "model_module_version": "1.5.0",
      "model_name": "GridBoxModel",
      "state": {
       "_dom_classes": [
        "nbtools-input",
        "nbtools-textinput"
       ],
       "children": [
        "IPY_MODEL_8bbd763278e3445b83619387135dd09e",
        "IPY_MODEL_b6ce0959d4de48aca1fa65ffcc404ce2",
        "IPY_MODEL_679fa0700c7c4539b5260bf86de771c5"
       ],
       "layout": "IPY_MODEL_faf9d99f8e0d45929141be5bb1b8fd27"
      }
     },
     "cd9e6b7b4786441b8d1b88d29ee27c56": {
      "model_module": "@jupyter-widgets/controls",
      "model_module_version": "1.5.0",
      "model_name": "ButtonStyleModel",
      "state": {}
     },
     "cecc5c87be2a402b8a56e23c83bc50a8": {
      "model_module": "@jupyter-widgets/controls",
      "model_module_version": "1.5.0",
      "model_name": "FileUploadModel",
      "state": {
       "accept": ".gct, .res",
       "description_tooltip": null,
       "layout": "IPY_MODEL_c17a6bc9e7ab48f789cb5a1da93a1fd5",
       "style": "IPY_MODEL_9e2144444a0747f183be290e2722c4d4"
      }
     },
     "ced6b950dac548a08a37af90f12ef84c": {
      "model_module": "@jupyter-widgets/base",
      "model_module_version": "1.2.0",
      "model_name": "LayoutModel",
      "state": {}
     },
     "cf263d7e694c44e8bf741015f6b8d887": {
      "model_module": "@jupyter-widgets/base",
      "model_module_version": "1.2.0",
      "model_name": "LayoutModel",
      "state": {}
     },
     "cf5d42d6059f4c1cb801534755e22050": {
      "model_module": "@jupyter-widgets/controls",
      "model_module_version": "1.5.0",
      "model_name": "DropdownModel",
      "state": {
       "_options_labels": [
        "yes",
        "no"
       ],
       "index": 1,
       "layout": "IPY_MODEL_7e2065fd9fc04abbbefe8d738416126f",
       "style": "IPY_MODEL_f8c823310dca4e8f92c90ca1b0105779"
      }
     },
     "cf695cefd7be4ec5ac5d0e1bf1c6b121": {
      "model_module": "@jupyter-widgets/base",
      "model_module_version": "1.2.0",
      "model_name": "LayoutModel",
      "state": {}
     },
     "cfd030cd34fd4850b748c01805d3b148": {
      "model_module": "@jupyter-widgets/controls",
      "model_module_version": "1.5.0",
      "model_name": "ComboboxModel",
      "state": {
       "_dom_classes": [
        "nbtools-menu-attached"
       ],
       "choices": {},
       "ensure_option": false,
       "kinds": [
        "cls"
       ],
       "layout": "IPY_MODEL_7d44901b9e634dccad6908d5300d9c9e",
       "style": "IPY_MODEL_12dee47298bd47b4a75cacccfe945b8c"
      }
     },
     "cfe03a7563474c91b8e8acff1b4c2f41": {
      "model_module": "@jupyter-widgets/base",
      "model_module_version": "1.2.0",
      "model_name": "LayoutModel",
      "state": {
       "grid_area": "input",
       "width": "auto"
      }
     },
     "d0a2b807a9214a7180f9146b98dae00a": {
      "model_module": "@jupyter-widgets/base",
      "model_module_version": "1.2.0",
      "model_name": "LayoutModel",
      "state": {}
     },
     "d0e1ef695f0c475b9fdc399633264a84": {
      "model_module": "@jupyter-widgets/base",
      "model_module_version": "1.2.0",
      "model_name": "LayoutModel",
      "state": {}
     },
     "d0edd640f3874f958a1c3670907fd61f": {
      "model_module": "@jupyter-widgets/base",
      "model_module_version": "1.2.0",
      "model_name": "LayoutModel",
      "state": {
       "grid_template_areas": "\n                    \"label input\"\n                    \". description\"\n                ",
       "grid_template_columns": "25% 75%",
       "grid_template_rows": "auto auto",
       "width": "100%"
      }
     },
     "d1002adff948434185b8bbcbe53adeec": {
      "model_module": "@jupyter-widgets/controls",
      "model_module_version": "1.5.0",
      "model_name": "VBoxModel",
      "state": {
       "layout": "IPY_MODEL_a4e4cbffef594016813a6c7d63e7e707"
      }
     },
     "d1c711fac583491190ef8f15b9c55e94": {
      "model_module": "@jupyter-widgets/base",
      "model_module_version": "1.2.0",
      "model_name": "LayoutModel",
      "state": {}
     },
     "d20bd6192b42436fadc0cb21fdd9af7e": {
      "model_module": "@jupyter-widgets/controls",
      "model_module_version": "1.5.0",
      "model_name": "TextModel",
      "state": {
       "_dom_classes": [
        "nbtools-menu-attached"
       ],
       "layout": "IPY_MODEL_2a7a732d593d47f093e85051cdfaa9da",
       "style": "IPY_MODEL_352bf6789b044a91a28bd2f623a03048"
      }
     },
     "d21914f372dc4dbd92d686ae7cb0f64d": {
      "model_module": "@jupyter-widgets/controls",
      "model_module_version": "1.5.0",
      "model_name": "VBoxModel",
      "state": {
       "_dom_classes": [
        "widget-interact"
       ],
       "children": [
        "IPY_MODEL_52e336c918634762a9d16864184bcda1",
        "IPY_MODEL_7436ee6f73f8441eb19843211dace65e"
       ],
       "layout": "IPY_MODEL_25925af6646b4c13909ec16afeeb33df"
      }
     },
     "d222c6191cc54dd7b2ead4f5728dbf28": {
      "model_module": "@jupyter-widgets/controls",
      "model_module_version": "1.5.0",
      "model_name": "DescriptionStyleModel",
      "state": {
       "description_width": ""
      }
     },
     "d262a23e82c74bcc9e3b4e7408aba2f6": {
      "model_module": "@jupyter-widgets/base",
      "model_module_version": "1.2.0",
      "model_name": "LayoutModel",
      "state": {}
     },
     "d2d0dca205914200a9452fb626b8e494": {
      "model_module": "@genepattern/nbtools",
      "model_module_version": "^0.2.0",
      "model_name": "UIOutputModel",
      "state": {
       "_dom_classes": [],
       "_model_module_version": "^0.2.0",
       "_view_count": null,
       "_view_module_version": "^0.2.0",
       "appendix": "IPY_MODEL_d1002adff948434185b8bbcbe53adeec",
       "files": [
        "foo.gct",
        "act.odf"
       ],
       "layout": "IPY_MODEL_94e00fe0e1ce48ffb14bf0792e0fd486"
      }
     },
     "d320511fac784edcb0a00f0999e3bc51": {
      "model_module": "@jupyter-widgets/controls",
      "model_module_version": "1.5.0",
      "model_name": "DescriptionStyleModel",
      "state": {
       "description_width": ""
      }
     },
     "d350d19d41874942b2d8a3d705f0306c": {
      "model_module": "@jupyter-widgets/controls",
      "model_module_version": "1.5.0",
      "model_name": "LabelModel",
      "state": {
       "description": "smooth_p_values",
       "layout": "IPY_MODEL_8c8beb7a61ff47da98d8cb311fab6a53",
       "style": "IPY_MODEL_c4c090594e8f49298c3d97f707c31033",
       "value": "smooth_p_values*"
      }
     },
     "d3a86f5d89e54dd1a82d7e0c5aee344d": {
      "model_module": "@jupyter-widgets/base",
      "model_module_version": "1.2.0",
      "model_name": "LayoutModel",
      "state": {
       "grid_area": "description",
       "width": "auto"
      }
     },
     "d3df612406c74f158680e87d8125b2a0": {
      "model_module": "@jupyter-widgets/controls",
      "model_module_version": "1.5.0",
      "model_name": "ButtonModel",
      "state": {
       "_dom_classes": [
        "hidden"
       ],
       "description": "Run",
       "layout": "IPY_MODEL_55a90629c3994220bab036416d3dc384",
       "style": "IPY_MODEL_f4eb1123206f4b9dad3b7c846d850695"
      }
     },
     "d520fbc51ded491d9e186f7e978f4b13": {
      "model_module": "@jupyter-widgets/controls",
      "model_module_version": "1.5.0",
      "model_name": "DescriptionStyleModel",
      "state": {
       "description_width": ""
      }
     },
     "d723640a1ea14ca9b88e39f57298fd39": {
      "model_module": "@jupyter-widgets/controls",
      "model_module_version": "1.5.0",
      "model_name": "ButtonStyleModel",
      "state": {}
     },
     "d729231eb2af49c2923f265752f92819": {
      "model_module": "@jupyter-widgets/controls",
      "model_module_version": "1.5.0",
      "model_name": "DropdownModel",
      "state": {
       "_options_labels": [
        "yes",
        "no"
       ],
       "index": 1,
       "layout": "IPY_MODEL_9bff267d21bb4b9e9d89d4dc0d4efab0",
       "style": "IPY_MODEL_10049c6260c04b818032d57e0ee460d7"
      }
     },
     "d792f0aa3fce4a45ba9e45b8327df5d4": {
      "model_module": "@jupyter-widgets/base",
      "model_module_version": "1.2.0",
      "model_name": "LayoutModel",
      "state": {}
     },
     "d7ec8844734a432c9d6a14a54bb4a11e": {
      "model_module": "@jupyter-widgets/base",
      "model_module_version": "1.2.0",
      "model_name": "LayoutModel",
      "state": {}
     },
     "d86b7ae545664be18fca05fadb0246d5": {
      "model_module": "@jupyter-widgets/controls",
      "model_module_version": "1.5.0",
      "model_name": "GridBoxModel",
      "state": {
       "_dom_classes": [
        "nbtools-input",
        "nbtools-selectinput",
        "required"
       ],
       "children": [
        "IPY_MODEL_db0320f9caff46a1a8f56ed9999ab8e6",
        "IPY_MODEL_d729231eb2af49c2923f265752f92819",
        "IPY_MODEL_87dfa67403964eeebc4c00dc4bd15bdf"
       ],
       "layout": "IPY_MODEL_bdf4d7c9e2d54916bd2f3f14fed227d7"
      }
     },
     "d8910c84fce34470ac44e151446267a6": {
      "model_module": "@jupyter-widgets/controls",
      "model_module_version": "1.5.0",
      "model_name": "TextModel",
      "state": {
       "_dom_classes": [
        "nbtools-menu-attached"
       ],
       "layout": "IPY_MODEL_18d7d8d574514c45a0514acf4cdb6ca0",
       "style": "IPY_MODEL_033aedece52c4879a0b4f3607e5c91c5",
       "value": "<input.file_basename>.comp.marker.odf"
      }
     },
     "d8954a811b694457ac39beca257f884d": {
      "model_module": "@jupyter-widgets/base",
      "model_module_version": "1.2.0",
      "model_name": "LayoutModel",
      "state": {
       "grid_area": "description",
       "width": "auto"
      }
     },
     "d92b3fdbd8c84beb80083642833f1f0b": {
      "model_module": "@jupyter-widgets/controls",
      "model_module_version": "1.5.0",
      "model_name": "ButtonStyleModel",
      "state": {}
     },
     "da105c82664e4d609ca70915ba08045b": {
      "model_module": "@jupyter-widgets/controls",
      "model_module_version": "1.5.0",
      "model_name": "DescriptionStyleModel",
      "state": {
       "description_width": ""
      }
     },
     "da2b02b41adb49e68ff0ab3b957685c3": {
      "model_module": "@jupyter-widgets/controls",
      "model_module_version": "1.5.0",
      "model_name": "DescriptionStyleModel",
      "state": {
       "description_width": ""
      }
     },
     "da951b627e084bcb9b75f842b28c2084": {
      "model_module": "@jupyter-widgets/controls",
      "model_module_version": "1.5.0",
      "model_name": "GridBoxModel",
      "state": {
       "_dom_classes": [
        "nbtools-input",
        "nbtools-textinput",
        "required"
       ],
       "children": [
        "IPY_MODEL_2930efffb1fd4ad1926de22cace32689",
        "IPY_MODEL_d8910c84fce34470ac44e151446267a6",
        "IPY_MODEL_307cc0c027d1469fb15c663f2e9b9b61"
       ],
       "layout": "IPY_MODEL_eb3837fe4d2342cf8414d61e6740127b"
      }
     },
     "dabf239d66274a8eb65ac489d2d65b98": {
      "model_module": "@jupyter-widgets/base",
      "model_module_version": "1.2.0",
      "model_name": "LayoutModel",
      "state": {
       "grid_area": "input",
       "width": "auto"
      }
     },
     "db0320f9caff46a1a8f56ed9999ab8e6": {
      "model_module": "@jupyter-widgets/controls",
      "model_module_version": "1.5.0",
      "model_name": "LabelModel",
      "state": {
       "description": "balanced",
       "layout": "IPY_MODEL_b74b7c15c13e4bfda633c48d1c1746e9",
       "style": "IPY_MODEL_ad8459225fa04f8a8ea5e9a073ed703f",
       "value": "balanced*"
      }
     },
     "db9ea2656e6943d48a99712f8e526a4b": {
      "model_module": "@jupyter-widgets/controls",
      "model_module_version": "1.5.0",
      "model_name": "VBoxModel",
      "state": {
       "children": [
        "IPY_MODEL_e72856f845f84480b8e8ae1603beb28f"
       ],
       "layout": "IPY_MODEL_d262a23e82c74bcc9e3b4e7408aba2f6"
      }
     },
     "dcb6506ae9594a2ab0ecaf26a5d80b33": {
      "model_module": "@jupyter-widgets/controls",
      "model_module_version": "1.5.0",
      "model_name": "DescriptionStyleModel",
      "state": {
       "description_width": ""
      }
     },
     "dceee43c89cd4bf0ad2600dc52a5306b": {
      "model_module": "@jupyter-widgets/controls",
      "model_module_version": "1.5.0",
      "model_name": "FileUploadModel",
      "state": {
       "accept": ".res, .gct",
       "description_tooltip": null,
       "layout": "IPY_MODEL_f72ac85ddb564fcab82d8e60ac81f0c9",
       "style": "IPY_MODEL_f6267596584643559528e86cad76770f"
      }
     },
     "dd33a3afe5bf43b39333b2aa9673d552": {
      "model_module": "@jupyter-widgets/controls",
      "model_module_version": "1.5.0",
      "model_name": "LabelModel",
      "state": {
       "layout": "IPY_MODEL_50915c5e00eb4fcfa4e3e5de958e1609",
       "style": "IPY_MODEL_301c583f087e4956bff141404f02525b"
      }
     },
     "dd62d195aaae4933a4e40add9030e5b0": {
      "model_module": "@jupyter-widgets/controls",
      "model_module_version": "1.5.0",
      "model_name": "DescriptionStyleModel",
      "state": {
       "description_width": ""
      }
     },
     "dda50a5167084040a9f3cf56df955cf0": {
      "model_module": "@jupyter-widgets/controls",
      "model_module_version": "1.5.0",
      "model_name": "DescriptionStyleModel",
      "state": {
       "description_width": ""
      }
     },
     "df9bd6421e37439a8ef385c404f348a3": {
      "model_module": "@jupyter-widgets/base",
      "model_module_version": "1.2.0",
      "model_name": "LayoutModel",
      "state": {
       "grid_area": "description",
       "width": "auto"
      }
     },
     "e030fde021fc454c8af14164cadf8215": {
      "model_module": "@jupyter-widgets/base",
      "model_module_version": "1.2.0",
      "model_name": "LayoutModel",
      "state": {}
     },
     "e0e6cd1c4db04dfcb7e2462ffc31c5e9": {
      "model_module": "@jupyter-widgets/base",
      "model_module_version": "1.2.0",
      "model_name": "LayoutModel",
      "state": {
       "grid_area": "description",
       "width": "auto"
      }
     },
     "e150b24dade24a649a3de85cdc1990f8": {
      "model_module": "@jupyter-widgets/controls",
      "model_module_version": "1.5.0",
      "model_name": "ButtonStyleModel",
      "state": {}
     },
     "e17834d0118a47b79bffc0d43882d540": {
      "model_module": "@jupyter-widgets/base",
      "model_module_version": "1.2.0",
      "model_name": "LayoutModel",
      "state": {
       "display": "none",
       "grid_template_areas": "\n                    \"label input\"\n                    \". description\"\n                ",
       "grid_template_columns": "25% 75%",
       "grid_template_rows": "auto auto",
       "width": "100%"
      }
     },
     "e19216861f684ff1876676230aca5a4f": {
      "model_module": "@jupyter-widgets/controls",
      "model_module_version": "1.5.0",
      "model_name": "DescriptionStyleModel",
      "state": {
       "description_width": ""
      }
     },
     "e1d58dea5e7542cf954c9f1277eaf80c": {
      "model_module": "@jupyter-widgets/base",
      "model_module_version": "1.2.0",
      "model_name": "LayoutModel",
      "state": {
       "grid_area": "description",
       "width": "auto"
      }
     },
     "e1ec4896992a4c58ae2458a25f50edba": {
      "model_module": "@jupyter-widgets/controls",
      "model_module_version": "1.5.0",
      "model_name": "ComboboxModel",
      "state": {
       "_dom_classes": [
        "nbtools-menu-attached"
       ],
       "choices": {},
       "ensure_option": false,
       "kinds": [
        "res",
        "gct"
       ],
       "layout": "IPY_MODEL_d792f0aa3fce4a45ba9e45b8327df5d4",
       "style": "IPY_MODEL_86f32fc4aceb43309872dc1d980db9ae"
      }
     },
     "e2458fc57020428492ced4536c0c44f4": {
      "model_module": "@jupyter-widgets/controls",
      "model_module_version": "1.5.0",
      "model_name": "DescriptionStyleModel",
      "state": {
       "description_width": ""
      }
     },
     "e377479b5205487eb870f290aabb2a1e": {
      "model_module": "@jupyter-widgets/controls",
      "model_module_version": "1.5.0",
      "model_name": "DescriptionStyleModel",
      "state": {
       "description_width": ""
      }
     },
     "e3c4f7e9c3064b6da4700256851e268f": {
      "model_module": "@jupyter-widgets/controls",
      "model_module_version": "1.5.0",
      "model_name": "GridBoxModel",
      "state": {
       "_dom_classes": [
        "nbtools-input",
        "nbtools-textinput",
        "required"
       ],
       "children": [
        "IPY_MODEL_33788f562c3a4a7295be13d63fb4209e",
        "IPY_MODEL_53c96e41886b4c2a901673a49872e513",
        "IPY_MODEL_7bdd7317d64e4abeaf7316294cf69d61"
       ],
       "layout": "IPY_MODEL_7f6e0db031c84b0d955819d66cd7bae3"
      }
     },
     "e3e903c0428847a6b00a3cbc7e47af2e": {
      "model_module": "@jupyter-widgets/controls",
      "model_module_version": "1.5.0",
      "model_name": "TextModel",
      "state": {
       "_dom_classes": [
        "nbtools-menu-attached"
       ],
       "layout": "IPY_MODEL_65e0136afecf4e8895b9352285a9e288",
       "style": "IPY_MODEL_4649c572bab444f88673fe161715af6a",
       "value": "tabor"
      }
     },
     "e5afb09a996046a5b5d0717e8b7ec319": {
      "model_module": "@jupyter-widgets/base",
      "model_module_version": "1.2.0",
      "model_name": "LayoutModel",
      "state": {
       "grid_area": "input",
       "width": "auto"
      }
     },
     "e6297bbc920a47039b07182ca59894c8": {
      "model_module": "@jupyter-widgets/base",
      "model_module_version": "1.2.0",
      "model_name": "LayoutModel",
      "state": {}
     },
     "e68d1a4396a04255b0bfb6db7d6891c1": {
      "model_module": "@jupyter-widgets/controls",
      "model_module_version": "1.5.0",
      "model_name": "TextModel",
      "state": {
       "_dom_classes": [
        "nbtools-menu-attached"
       ],
       "layout": "IPY_MODEL_618c41d43d824225abf2dbaa049a6757",
       "style": "IPY_MODEL_55acc39e66af4344846119b676f2b855"
      }
     },
     "e6d1561b52a345e694502876e02d4081": {
      "model_module": "@jupyter-widgets/base",
      "model_module_version": "1.2.0",
      "model_name": "LayoutModel",
      "state": {
       "grid_area": "label",
       "width": "auto"
      }
     },
     "e6e7988161e54663b79354daf47af98d": {
      "model_module": "@jupyter-widgets/base",
      "model_module_version": "1.2.0",
      "model_name": "LayoutModel",
      "state": {
       "grid_area": "description",
       "width": "auto"
      }
     },
     "e72856f845f84480b8e8ae1603beb28f": {
      "model_module": "@jupyter-widgets/controls",
      "model_module_version": "1.5.0",
      "model_name": "ComboboxModel",
      "state": {
       "_dom_classes": [
        "nbtools-menu-attached"
       ],
       "choices": {},
       "ensure_option": false,
       "kinds": [
        "cls"
       ],
       "layout": "IPY_MODEL_1fc24607b8394fdd82f9d561db64ccbe",
       "style": "IPY_MODEL_0ccf20f02f2e45368234dd80147d51bb"
      }
     },
     "e73579bf53fa46b8b923e51efac4a4ba": {
      "model_module": "@jupyter-widgets/base",
      "model_module_version": "1.2.0",
      "model_name": "LayoutModel",
      "state": {
       "grid_area": "description",
       "width": "auto"
      }
     },
     "e7bf12d927bc475991fa58e93685f345": {
      "model_module": "@jupyter-widgets/controls",
      "model_module_version": "1.5.0",
      "model_name": "TextModel",
      "state": {
       "_dom_classes": [
        "nbtools-menu-attached"
       ],
       "layout": "IPY_MODEL_2d22192d49e04c9b8cfa78bf73d743be",
       "style": "IPY_MODEL_e2458fc57020428492ced4536c0c44f4"
      }
     },
     "e88769ea2ba04d58a9efb230620f45e7": {
      "model_module": "@jupyter-widgets/base",
      "model_module_version": "1.2.0",
      "model_name": "LayoutModel",
      "state": {}
     },
     "e9258ae0d2db47629c83a1f898ab532c": {
      "model_module": "@jupyter-widgets/controls",
      "model_module_version": "1.5.0",
      "model_name": "DescriptionStyleModel",
      "state": {
       "description_width": ""
      }
     },
     "e99f2e6b37a843e2b52e939ee127e149": {
      "model_module": "@jupyter-widgets/controls",
      "model_module_version": "1.5.0",
      "model_name": "DescriptionStyleModel",
      "state": {
       "description_width": ""
      }
     },
     "eadf1a1c619b4d859a6182b847dbadee": {
      "model_module": "@jupyter-widgets/base",
      "model_module_version": "1.2.0",
      "model_name": "LayoutModel",
      "state": {
       "grid_area": "label",
       "width": "auto"
      }
     },
     "eb3837fe4d2342cf8414d61e6740127b": {
      "model_module": "@jupyter-widgets/base",
      "model_module_version": "1.2.0",
      "model_name": "LayoutModel",
      "state": {
       "grid_template_areas": "\n                    \"label input\"\n                    \". description\"\n                ",
       "grid_template_columns": "25% 75%",
       "grid_template_rows": "auto auto",
       "width": "100%"
      }
     },
     "eb5339c9534d4db68a306c2f95958b2c": {
      "model_module": "@jupyter-widgets/base",
      "model_module_version": "1.2.0",
      "model_name": "LayoutModel",
      "state": {}
     },
     "eb5d80e44478463b91d11ef17df46d17": {
      "model_module": "@jupyter-widgets/base",
      "model_module_version": "1.2.0",
      "model_name": "LayoutModel",
      "state": {
       "grid_template_areas": "\n                    \"label input\"\n                    \". description\"\n                ",
       "grid_template_columns": "25% 75%",
       "grid_template_rows": "auto auto",
       "width": "100%"
      }
     },
     "eb73ef73174b4c58a3152f2714de0a1b": {
      "model_module": "@jupyter-widgets/controls",
      "model_module_version": "1.5.0",
      "model_name": "DescriptionStyleModel",
      "state": {
       "description_width": ""
      }
     },
     "ebbc9e73b517460e9e1ef3182fdf14be": {
      "model_module": "@jupyter-widgets/base",
      "model_module_version": "1.2.0",
      "model_name": "LayoutModel",
      "state": {
       "display": "none",
       "grid_template_areas": "\n                    \"label input\"\n                    \". description\"\n                ",
       "grid_template_columns": "25% 75%",
       "grid_template_rows": "auto auto",
       "width": "100%"
      }
     },
     "ec262d6c8ccc454b97d42740b1ce550b": {
      "model_module": "@jupyter-widgets/base",
      "model_module_version": "1.2.0",
      "model_name": "LayoutModel",
      "state": {
       "grid_area": "label",
       "width": "auto"
      }
     },
     "ec32d9049bf64392b94bd71f542a4da8": {
      "model_module": "@jupyter-widgets/controls",
      "model_module_version": "1.5.0",
      "model_name": "LabelModel",
      "state": {
       "description": "The output from ComparativeMarkerSelection",
       "layout": "IPY_MODEL_42d027eb848d494788b91a6918e72060",
       "style": "IPY_MODEL_a3f7f6c0ff1f4fa1bb160a817ee34ed0",
       "value": "The output from ComparativeMarkerSelection"
      }
     },
     "ed50074120d34d3093ed1d873880f624": {
      "model_module": "@jupyter-widgets/base",
      "model_module_version": "1.2.0",
      "model_name": "LayoutModel",
      "state": {
       "grid_area": "description",
       "width": "auto"
      }
     },
     "ed9c772fec874f499ec8c03c9d8b2876": {
      "model_module": "@jupyter-widgets/controls",
      "model_module_version": "1.5.0",
      "model_name": "ButtonStyleModel",
      "state": {}
     },
     "ee5d3ba1a2674063bb59628608840828": {
      "model_module": "@jupyter-widgets/base",
      "model_module_version": "1.2.0",
      "model_name": "LayoutModel",
      "state": {}
     },
     "ee6e86a5a36345e1bd12db192352d4dd": {
      "model_module": "@jupyter-widgets/controls",
      "model_module_version": "1.5.0",
      "model_name": "ButtonStyleModel",
      "state": {}
     },
     "ef1ff0e09c204103b5ae2b9577d2ab95": {
      "model_module": "@jupyter-widgets/base",
      "model_module_version": "1.2.0",
      "model_name": "LayoutModel",
      "state": {
       "display": "none",
       "grid_template_areas": "\n                    \"label input\"\n                    \". description\"\n                ",
       "grid_template_columns": "25% 75%",
       "grid_template_rows": "auto auto",
       "width": "100%"
      }
     },
     "efe5625807f246a898813ed3182cdd3b": {
      "model_module": "@jupyter-widgets/controls",
      "model_module_version": "1.5.0",
      "model_name": "TextModel",
      "state": {
       "_dom_classes": [
        "nbtools-menu-attached"
       ],
       "layout": "IPY_MODEL_e5afb09a996046a5b5d0717e8b7ec319",
       "style": "IPY_MODEL_285e6c019c544ecc9065118016baf3f6"
      }
     },
     "eff0d8195e3c4ca293a9ddc7ead948aa": {
      "model_module": "@jupyter-widgets/controls",
      "model_module_version": "1.5.0",
      "model_name": "GridBoxModel",
      "state": {
       "_dom_classes": [
        "nbtools-input",
        "nbtools-textinput"
       ],
       "children": [
        "IPY_MODEL_37cc60eb6b7d41a2bebb1b467522623a",
        "IPY_MODEL_251737bfd3bb461ab59c114b27344c98",
        "IPY_MODEL_b1f35cc4958d44938c42bfdef2b07527"
       ],
       "layout": "IPY_MODEL_bcf1a30e043c40fd9f8949f2f9fa3d38"
      }
     },
     "f0a78571b4dd451b9beb41b01880f927": {
      "model_module": "@jupyter-widgets/controls",
      "model_module_version": "1.5.0",
      "model_name": "GridBoxModel",
      "state": {
       "_dom_classes": [
        "nbtools-input",
        "nbtools-selectinput",
        "required"
       ],
       "children": [
        "IPY_MODEL_853b02373ff14a0b8e8c2b9ec12445ed",
        "IPY_MODEL_226f028a3ae644ecbd6650c266ca92ab",
        "IPY_MODEL_ba25d04ca9cc480e946c46485fdac291"
       ],
       "layout": "IPY_MODEL_2a193ff58df743569d55ba98ddb507f4"
      }
     },
     "f0a9527c62ba4219a96a7b19d88efe5c": {
      "model_module": "@jupyter-widgets/controls",
      "model_module_version": "1.5.0",
      "model_name": "DescriptionStyleModel",
      "state": {
       "description_width": ""
      }
     },
     "f1064ad0492249eda0bb17579756edc7": {
      "model_module": "@jupyter-widgets/controls",
      "model_module_version": "1.5.0",
      "model_name": "DescriptionStyleModel",
      "state": {
       "description_width": ""
      }
     },
     "f17844bd85c246d3950748d74b5e8582": {
      "model_module": "@jupyter-widgets/base",
      "model_module_version": "1.2.0",
      "model_name": "LayoutModel",
      "state": {
       "grid_template_areas": "\n                    \"label input\"\n                    \". description\"\n                ",
       "grid_template_columns": "25% 75%",
       "grid_template_rows": "auto auto",
       "width": "100%"
      }
     },
     "f1e4a4b493074d27a1d59fbde70db069": {
      "model_module": "@jupyter-widgets/controls",
      "model_module_version": "1.5.0",
      "model_name": "LabelModel",
      "state": {
       "description": "log_transformed_data",
       "layout": "IPY_MODEL_2abe768f05a04d53872f6422f6800e8d",
       "style": "IPY_MODEL_bc6b5e204dd841648e84e6e5ee0c584e",
       "value": "log_transformed_data*"
      }
     },
     "f2c01119609c4e029e9b0ca56a8e8864": {
      "model_module": "@jupyter-widgets/controls",
      "model_module_version": "1.5.0",
      "model_name": "LabelModel",
      "state": {
       "layout": "IPY_MODEL_f4fd96af9b3e4b82920b5bfe50403152",
       "style": "IPY_MODEL_3780067afcb846d7962e45de1c9faa6a"
      }
     },
     "f44da7196c3d4603b38d673dd7d8ce29": {
      "model_module": "@jupyter-widgets/base",
      "model_module_version": "1.2.0",
      "model_name": "LayoutModel",
      "state": {}
     },
     "f46ca25a14b44fd3b278b7438fb49d61": {
      "model_module": "@jupyter-widgets/base",
      "model_module_version": "1.2.0",
      "model_name": "LayoutModel",
      "state": {}
     },
     "f4da35fe6dfe4bfeab8b0975d6f18eaa": {
      "model_module": "@jupyter-widgets/controls",
      "model_module_version": "1.5.0",
      "model_name": "ComboboxModel",
      "state": {
       "_dom_classes": [
        "nbtools-menu-attached"
       ],
       "choices": {},
       "ensure_option": false,
       "kinds": [
        "gct"
       ],
       "layout": "IPY_MODEL_bb88489d21e44c8e86df4609500e81fe",
       "style": "IPY_MODEL_eb73ef73174b4c58a3152f2714de0a1b"
      }
     },
     "f4eb1123206f4b9dad3b7c846d850695": {
      "model_module": "@jupyter-widgets/controls",
      "model_module_version": "1.5.0",
      "model_name": "ButtonStyleModel",
      "state": {}
     },
     "f4fd96af9b3e4b82920b5bfe50403152": {
      "model_module": "@jupyter-widgets/base",
      "model_module_version": "1.2.0",
      "model_name": "LayoutModel",
      "state": {
       "grid_area": "description",
       "width": "auto"
      }
     },
     "f6267596584643559528e86cad76770f": {
      "model_module": "@jupyter-widgets/controls",
      "model_module_version": "1.5.0",
      "model_name": "ButtonStyleModel",
      "state": {}
     },
     "f669ff6d5a3741018139a7e01027f683": {
      "model_module": "@jupyter-widgets/controls",
      "model_module_version": "1.5.0",
      "model_name": "DescriptionStyleModel",
      "state": {
       "description_width": ""
      }
     },
     "f66b9b37bb054666a0484dffad9af6ba": {
      "model_module": "@jupyter-widgets/base",
      "model_module_version": "1.2.0",
      "model_name": "LayoutModel",
      "state": {}
     },
     "f6c3bc7f9a5643ef99f95a40fa101902": {
      "model_module": "@jupyter-widgets/base",
      "model_module_version": "1.2.0",
      "model_name": "LayoutModel",
      "state": {}
     },
     "f6d88a76f31e47f09adeca2c2d17620a": {
      "model_module": "@jupyter-widgets/base",
      "model_module_version": "1.2.0",
      "model_name": "LayoutModel",
      "state": {
       "grid_template_areas": "\n                    \"label input\"\n                    \". description\"\n                ",
       "grid_template_columns": "25% 75%",
       "grid_template_rows": "auto auto",
       "width": "100%"
      }
     },
     "f72ac85ddb564fcab82d8e60ac81f0c9": {
      "model_module": "@jupyter-widgets/base",
      "model_module_version": "1.2.0",
      "model_name": "LayoutModel",
      "state": {}
     },
     "f750f53c2d89432ba283544c8a7bc0de": {
      "model_module": "@jupyter-widgets/base",
      "model_module_version": "1.2.0",
      "model_name": "LayoutModel",
      "state": {}
     },
     "f784f720181046d0b765fdac21d694e8": {
      "model_module": "@jupyter-widgets/base",
      "model_module_version": "1.2.0",
      "model_name": "LayoutModel",
      "state": {}
     },
     "f8454585b8df4122ad7e0b7a68192de8": {
      "model_module": "@jupyter-widgets/controls",
      "model_module_version": "1.5.0",
      "model_name": "DescriptionStyleModel",
      "state": {
       "description_width": ""
      }
     },
     "f85367d27b924f7d8b065458683e5aec": {
      "model_module": "@jupyter-widgets/base",
      "model_module_version": "1.2.0",
      "model_name": "LayoutModel",
      "state": {}
     },
     "f8c823310dca4e8f92c90ca1b0105779": {
      "model_module": "@jupyter-widgets/controls",
      "model_module_version": "1.5.0",
      "model_name": "DescriptionStyleModel",
      "state": {
       "description_width": ""
      }
     },
     "fab2d1bdc016462c969a643fb20f5045": {
      "model_module": "@jupyter-widgets/controls",
      "model_module_version": "1.5.0",
      "model_name": "ComboboxModel",
      "state": {
       "_dom_classes": [
        "nbtools-menu-attached"
       ],
       "choices": {},
       "ensure_option": false,
       "kinds": [],
       "layout": "IPY_MODEL_cf263d7e694c44e8bf741015f6b8d887",
       "style": "IPY_MODEL_1955955353304110bd771037a644c84c"
      }
     },
     "faf9d99f8e0d45929141be5bb1b8fd27": {
      "model_module": "@jupyter-widgets/base",
      "model_module_version": "1.2.0",
      "model_name": "LayoutModel",
      "state": {
       "display": "none",
       "grid_template_areas": "\n                    \"label input\"\n                    \". description\"\n                ",
       "grid_template_columns": "25% 75%",
       "grid_template_rows": "auto auto",
       "width": "100%"
      }
     },
     "fb75c282b7464594beca227f87cc644c": {
      "model_module": "@jupyter-widgets/base",
      "model_module_version": "1.2.0",
      "model_name": "LayoutModel",
      "state": {}
     },
     "fb7a3d4db3a14f599b144cf699942b57": {
      "model_module": "@jupyter-widgets/base",
      "model_module_version": "1.2.0",
      "model_name": "LayoutModel",
      "state": {
       "grid_area": "label",
       "width": "auto"
      }
     },
     "fbf44619017f424a8870662f18300cb4": {
      "model_module": "@jupyter-widgets/controls",
      "model_module_version": "1.5.0",
      "model_name": "DescriptionStyleModel",
      "state": {
       "description_width": ""
      }
     },
     "fcbc471f42374e2fab995e66fbc6af58": {
      "model_module": "@jupyter-widgets/base",
      "model_module_version": "1.2.0",
      "model_name": "LayoutModel",
      "state": {
       "grid_area": "label",
       "width": "auto"
      }
     },
     "fcfcc3c3a92847b095dcc7324dc12853": {
      "model_module": "@jupyter-widgets/base",
      "model_module_version": "1.2.0",
      "model_name": "LayoutModel",
      "state": {
       "grid_area": "description",
       "width": "auto"
      }
     },
     "fd0277cb7eec496f997dafe52c562b9f": {
      "model_module": "@jupyter-widgets/base",
      "model_module_version": "1.2.0",
      "model_name": "LayoutModel",
      "state": {}
     },
     "fded7c38d7c74d5cbbfe77d5e7910feb": {
      "model_module": "@jupyter-widgets/controls",
      "model_module_version": "1.5.0",
      "model_name": "LabelModel",
      "state": {
       "description": "random_seed",
       "layout": "IPY_MODEL_56ea97bb0e8f4f96a3459639c4bef986",
       "style": "IPY_MODEL_aadc4c83b30749ff9784b410e19bc4d6",
       "value": "random_seed*"
      }
     },
     "fe0cedf9ac62474884bb7923be31ad5c": {
      "model_module": "@jupyter-widgets/controls",
      "model_module_version": "1.5.0",
      "model_name": "LabelModel",
      "state": {
       "description": "Username",
       "layout": "IPY_MODEL_2591fe272fd642c6b93ef49da8b5eb76",
       "style": "IPY_MODEL_54332e48dc59490cbac59b9a491c564d",
       "value": "Username*"
      }
     },
     "fe8df09abe9d4fb48ba59daff1da70f9": {
      "model_module": "@jupyter-widgets/controls",
      "model_module_version": "1.5.0",
      "model_name": "DropdownModel",
      "state": {
       "_options_labels": [
        "yes",
        "no"
       ],
       "index": 0,
       "layout": "IPY_MODEL_618ff1db57ab452489d2a23b56c841b2",
       "style": "IPY_MODEL_e99f2e6b37a843e2b52e939ee127e149"
      }
     },
     "ff203dfcd78f42a49a1d8c586edcf98b": {
      "model_module": "@jupyter-widgets/controls",
      "model_module_version": "1.5.0",
      "model_name": "LabelModel",
      "state": {
       "description": "The input file - .res, .gct. Note that if your data is log transformed, you will need to set the \"log transformed data\" parameter below to \"yes\".",
       "layout": "IPY_MODEL_c1ee48772069417ab38368c24e2ce0c5",
       "style": "IPY_MODEL_112f484197e749669fdc0b5b6e71cdc3",
       "value": "The input file - .res, .gct. Note that if your data is log transformed, you will need to set the \"log transformed data\" parameter below to \"yes\"."
      }
     },
     "ff51bbcf449f43ea952ffdb954219ab6": {
      "model_module": "@jupyter-widgets/base",
      "model_module_version": "1.2.0",
      "model_name": "LayoutModel",
      "state": {}
     },
     "ff5210a98a80402eabf7661f7667431e": {
      "model_module": "@jupyter-widgets/base",
      "model_module_version": "1.2.0",
      "model_name": "LayoutModel",
      "state": {
       "grid_area": "description",
       "width": "auto"
      }
     }
    },
    "version_major": 2,
    "version_minor": 0
   }
  }
 },
 "nbformat": 4,
 "nbformat_minor": 4
}
