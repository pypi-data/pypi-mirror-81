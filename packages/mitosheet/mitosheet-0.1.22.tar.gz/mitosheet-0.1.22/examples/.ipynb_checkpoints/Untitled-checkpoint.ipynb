{
 "cells": [
  {
   "cell_type": "code",
   "execution_count": null,
   "metadata": {},
   "outputs": [],
   "source": [
    "import mitosheet\n",
    "import pandas as pd\n",
    "\n",
    "df = pd.DataFrame(data={'a': [123]})\n",
    "mitosheet.sheet(df)"
   ]
  }
 ],
 "metadata": {
  "kernelspec": {
   "display_name": "Python 3",
   "language": "python",
   "name": "python3"
  },
  "language_info": {
   "codemirror_mode": {
    "name": "ipython",
    "version": 3
   },
   "file_extension": ".py",
   "mimetype": "text/x-python",
   "name": "python",
   "nbconvert_exporter": "python",
   "pygments_lexer": "ipython3",
   "version": "3.8.5"
  },
  "widgets": {
   "application/vnd.jupyter.widget-state+json": {
    "state": {
     "2c0ab45e2bee48879a4590b13689be24": {
      "model_module": "mitosheet",
      "model_module_version": "^0.1.21",
      "model_name": "ExampleModel",
      "state": {
       "_model_module_version": "^0.1.21",
       "_view_module_version": "^0.1.21",
       "code_json": "{\"imports\": \"from mitosheet import AVG,CLEAN,CONCATENATE,FIND,LEFT,LEN,LOWER,MID,MULTIPLY,PROPER,RIGHT,SUBSTITUTE,SUM,TRIM,UPPER\", \"code\": [\"df['B'] = 0\"]}",
       "column_spreadsheet_code_json": "{\"a\": \"\", \"B\": \"=0\"}",
       "df_name": "df",
       "layout": "IPY_MODEL_57e391e27dc64502a8124ebb853aa036",
       "sheet_json": "{\"columns\": [\"a\", \"B\"], \"index\": [0], \"data\": [[123, 0]]}",
       "user_id": "nate",
       "value": "Hello World"
      }
     },
     "31ec363dca19496d93f549beecc703e4": {
      "model_module": "mitosheet",
      "model_module_version": "^0.1.21",
      "model_name": "ExampleModel",
      "state": {
       "_model_module_version": "^0.1.21",
       "_view_module_version": "^0.1.21",
       "code_json": "{\"imports\": \"from mitosheet import AVG,CLEAN,CONCATENATE,FIND,LEFT,LEN,LOWER,MID,MULTIPLY,PROPER,RIGHT,SUBSTITUTE,SUM,TRIM,UPPER\", \"code\": [\"df['B'] = 0\"]}",
       "column_spreadsheet_code_json": "{\"a\": \"\", \"B\": \"=0\"}",
       "df_name": "df",
       "layout": "IPY_MODEL_f76774ab409e4effbe5318a96ef68ac2",
       "sheet_json": "{\"columns\": [\"a\", \"B\"], \"index\": [0], \"data\": [[123, 0]]}",
       "user_id": "nate",
       "value": "Hello World"
      }
     },
     "3908857e82d4455b8927f8874fe1c9b4": {
      "model_module": "@jupyter-widgets/base",
      "model_module_version": "1.2.0",
      "model_name": "LayoutModel",
      "state": {}
     },
     "57e391e27dc64502a8124ebb853aa036": {
      "model_module": "@jupyter-widgets/base",
      "model_module_version": "1.2.0",
      "model_name": "LayoutModel",
      "state": {}
     },
     "d7b78dd976a34cb9b60311ca133cb8ea": {
      "model_module": "mitosheet",
      "model_module_version": "^0.1.21",
      "model_name": "ExampleModel",
      "state": {
       "_model_module_version": "^0.1.21",
       "_view_module_version": "^0.1.21",
       "code_json": "{\"code\": \"0\"}",
       "column_spreadsheet_code_json": "{\"a\": \"\"}",
       "df_name": "df",
       "layout": "IPY_MODEL_3908857e82d4455b8927f8874fe1c9b4",
       "sheet_json": "{\"columns\": [\"a\"], \"index\": [0], \"data\": [[123]]}",
       "user_id": "nate",
       "value": "Hello World"
      }
     },
     "f76774ab409e4effbe5318a96ef68ac2": {
      "model_module": "@jupyter-widgets/base",
      "model_module_version": "1.2.0",
      "model_name": "LayoutModel",
      "state": {}
     }
    },
    "version_major": 2,
    "version_minor": 0
   }
  }
 },
 "nbformat": 4,
 "nbformat_minor": 4
}
