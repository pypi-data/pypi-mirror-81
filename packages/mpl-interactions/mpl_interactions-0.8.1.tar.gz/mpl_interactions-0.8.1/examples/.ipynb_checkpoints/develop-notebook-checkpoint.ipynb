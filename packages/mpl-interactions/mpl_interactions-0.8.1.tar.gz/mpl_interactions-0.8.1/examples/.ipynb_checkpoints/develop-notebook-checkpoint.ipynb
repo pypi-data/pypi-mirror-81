{
 "cells": [
  {
   "cell_type": "code",
   "execution_count": 122,
   "metadata": {},
   "outputs": [],
   "source": [
    "%matplotlib ipympl\n",
    "import matplotlib.pyplot as plt\n",
    "import numpy as np\n",
    "from matplotlib.widgets import Slider, Button, RadioButtons"
   ]
  },
  {
   "cell_type": "code",
   "execution_count": 124,
   "metadata": {},
   "outputs": [
    {
     "data": {
      "application/vnd.jupyter.widget-view+json": {
       "model_id": "26014d644d404a0cadc638bec8c87159",
       "version_major": 2,
       "version_minor": 0
      },
      "text/plain": [
       "Canvas(toolbar=Toolbar(toolitems=[('Home', 'Reset original view', 'home', 'home'), ('Back', 'Back to previous …"
      ]
     },
     "metadata": {},
     "output_type": "display_data"
    }
   ],
   "source": [
    "\n",
    "fig, ax = plt.subplots()\n",
    "plt.subplots_adjust(left=0, bottom=0.25)\n",
    "t = np.arange(0.0, 1.0, 0.001)\n",
    "a0 = 5\n",
    "f0 = 3\n",
    "s = a0*np.sin(2*np.pi*f0*t)\n",
    "l, = plt.plot(t, s, lw=2, color='red')\n",
    "# plt.axis([0, 1, -10, 10])\n",
    "\n",
    "axcolor = 'lightgoldenrodyellow'\n",
    "slider_height = 0.03\n",
    "n_sliders = 2\n",
    "widget_y = .05\n",
    "rax = plt.axes([0.1, widget_y, 0.15, 0.15], facecolor=axcolor, label = 'radio')\n",
    "widget_y += .15 + .02\n",
    "axfreq = fig.add_axes([0.1, widget_y, 0.65, slider_height], facecolor=axcolor)\n",
    "widget_y += .05\n",
    "axamp = plt.axes([0.1, widget_y, 0.65, 0.03], facecolor=axcolor)\n",
    "widget_y += .05\n",
    "radio = RadioButtons(rax, ('red', 'blue', 'green'), active=0)\n",
    "\n",
    "size = fig.get_size_inches()\n",
    "fig.set_size_inches(size[0]*2, size[1], forward=True)\n",
    "\n",
    "sfreq = Slider(axfreq, 'Freq', 0.1, 10.0, valinit=f0)\n",
    "samp = Slider(axamp, 'Amp', 0.1, 10.0, valinit=a0, slidermax=sfreq)\n",
    "\n",
    "\n",
    "def update(val, beep):\n",
    "    amp = samp.val\n",
    "    freq = sfreq.val\n",
    "    l.set_ydata(amp*np.sin(2*np.pi*freq*t))\n",
    "    fig.canvas.draw_idle()\n",
    "sfreq.on_changed(partial(update, beep='beep'))\n",
    "samp.on_changed(update)\n",
    "\n",
    "# resetax = plt.axes([0.8, 0.025, 0.1, 0.04])\n",
    "# button = Button(resetax, 'Reset', color=axcolor, hovercolor='0.975')\n",
    "\n",
    "\n",
    "# def reset(event):\n",
    "#     sfreq.reset()\n",
    "#     samp.reset()\n",
    "# button.on_clicked(reset)\n",
    "\n",
    "\n",
    "\n",
    "def colorfunc(label):\n",
    "    l.set_color(label)\n",
    "    fig.canvas.draw_idle()\n",
    "radio.on_clicked(colorfunc)\n",
    "\n",
    "plt.subplots_adjust(bottom=widget_y+.2)\n",
    "ax.set_xlabel('asdfsdf')\n",
    "plt.show()\n"
   ]
  },
  {
   "cell_type": "code",
   "execution_count": 38,
   "metadata": {},
   "outputs": [
    {
     "data": {
      "text/plain": [
       "0.18"
      ]
     },
     "execution_count": 38,
     "metadata": {},
     "output_type": "execute_result"
    }
   ],
   "source": [
    "6*.03"
   ]
  },
  {
   "cell_type": "code",
   "execution_count": 41,
   "metadata": {},
   "outputs": [],
   "source": [
    "plt.close('all')"
   ]
  },
  {
   "cell_type": "code",
   "execution_count": 63,
   "metadata": {},
   "outputs": [
    {
     "data": {
      "application/vnd.jupyter.widget-view+json": {
       "model_id": "db866b752fb94da4b3123cca101b458a",
       "version_major": 2,
       "version_minor": 0
      },
      "text/plain": [
       "Canvas(toolbar=Toolbar(toolitems=[('Home', 'Reset original view', 'home', 'home'), ('Back', 'Back to previous …"
      ]
     },
     "metadata": {},
     "output_type": "display_data"
    }
   ],
   "source": [
    "fig, ax = plt.subplots()\n",
    "l, = plt.plot(t, s, lw=2, color='red')\n",
    "size = fig.get_size_inches()\n",
    "height = size[1]\n",
    "n_sliders = 20\n",
    "n_radio = 0\n",
    "slider_in = .15\n",
    "radio_in = .5/3\n",
    "\n",
    "# expand figure if widgets are going to be larger than 1/4 of the size\n",
    "widget_inches = n_sliders*slider_in + n_radio*radio_in\n",
    "size = fig.get_size_inches()\n",
    "if widget_inches / size[1] > .25:\n",
    "    fig_h = widget_inches * 4\n",
    "    fig.set_size_inches(size[0], fig_h)\n",
    "else:\n",
    "    fig_h = size[1]\n",
    "slider_height = .15/fig_h\n",
    "\n",
    "widget_y = .05\n",
    "slider_ax = []\n",
    "sliders = []\n",
    "labels = ['amp - top','freq - bot' ]\n",
    "for i in range(n_sliders):\n",
    "    slider_ax.append(plt.axes([.2, widget_y, .65, slider_height]))\n",
    "    sliders.append(Slider(slider_ax[-1], i, 0.1, 10.0, valinit=f0))\n",
    "#     sliders.append(Slider(slider_ax[-1], labels[i], 0.1, 10.0, valinit=f0))\n",
    "    widget_y += slider_height + .02\n",
    "plt.subplots_adjust(bottom = widget_y+.1)"
   ]
  },
  {
   "cell_type": "code",
   "execution_count": 137,
   "metadata": {},
   "outputs": [
    {
     "data": {
      "application/vnd.jupyter.widget-view+json": {
       "model_id": "be42d41274d043bc929a2c3340d6f6a4",
       "version_major": 2,
       "version_minor": 0
      },
      "text/plain": [
       "Canvas(toolbar=Toolbar(toolitems=[('Home', 'Reset original view', 'home', 'home'), ('Back', 'Back to previous …"
      ]
     },
     "metadata": {},
     "output_type": "display_data"
    },
    {
     "data": {
      "application/vnd.jupyter.widget-view+json": {
       "model_id": "43cf9dbc708543e2b2b5d53d4e6ffd3f",
       "version_major": 2,
       "version_minor": 0
      },
      "text/plain": [
       "Output()"
      ]
     },
     "metadata": {},
     "output_type": "display_data"
    }
   ],
   "source": [
    "out = widgets.Output()\n",
    "def f(blarg, other_arg):\n",
    "    with out:\n",
    "        print(blarg)\n",
    "        print(other_arg)\n",
    "# fig, ax = plt.subplots()\n",
    "fig = plt.figure()\n",
    "# fig.canvas.mpl_connect('motion_notify_event', partial(f, other_arg='beep'))\n",
    "ax = plt.axes([.5,.5,.35,.35])\n",
    "slider = Slider(ax, 'slider', 0, 10)\n",
    "slider.on_changed(partial(f, other_arg='something'))\n",
    "display(out)"
   ]
  },
  {
   "cell_type": "code",
   "execution_count": 51,
   "metadata": {},
   "outputs": [
    {
     "data": {
      "text/plain": [
       "0.17333333333333334"
      ]
     },
     "execution_count": 51,
     "metadata": {},
     "output_type": "execute_result"
    }
   ],
   "source": [
    "widget_y"
   ]
  },
  {
   "cell_type": "code",
   "execution_count": 50,
   "metadata": {},
   "outputs": [
    {
     "data": {
      "application/vnd.jupyter.widget-view+json": {
       "model_id": "ef7cd8dff7c443d68b4e7759a6750ff9",
       "version_major": 2,
       "version_minor": 0
      },
      "text/plain": [
       "Canvas(toolbar=Toolbar(toolitems=[('Home', 'Reset original view', 'home', 'home'), ('Back', 'Back to previous …"
      ]
     },
     "metadata": {},
     "output_type": "display_data"
    },
    {
     "data": {
      "text/plain": [
       "<matplotlib.widgets.SubplotTool at 0x7f3e1960fbe0>"
      ]
     },
     "execution_count": 50,
     "metadata": {},
     "output_type": "execute_result"
    }
   ],
   "source": [
    "\n",
    "\n",
    "plt.subplot_tool()"
   ]
  },
  {
   "cell_type": "code",
   "execution_count": 78,
   "metadata": {},
   "outputs": [
    {
     "name": "stderr",
     "output_type": "stream",
     "text": [
      "<ipython-input-78-6cb3edf88a5a>:1: RuntimeWarning: More than 20 figures have been opened. Figures created through the pyplot interface (`matplotlib.pyplot.figure`) are retained until explicitly closed and may consume too much memory. (To control this warning, see the rcParam `figure.max_open_warning`).\n",
      "  fig, ax = plt.subplots()\n"
     ]
    },
    {
     "data": {
      "application/vnd.jupyter.widget-view+json": {
       "model_id": "f054528ddec54d91bd6247e673ef634c",
       "version_major": 2,
       "version_minor": 0
      },
      "text/plain": [
       "Canvas(toolbar=Toolbar(toolitems=[('Home', 'Reset original view', 'home', 'home'), ('Back', 'Back to previous …"
      ]
     },
     "metadata": {},
     "output_type": "display_data"
    }
   ],
   "source": [
    "\n",
    "fig, ax = plt.subplots()\n",
    "l, = plt.plot(t, s, lw=2, color='red')\n",
    "size = fig.get_size_inches()\n",
    "height = size[1]\n",
    "n_sliders = 10\n",
    "n_radio = 1\n",
    "slider_in = .15\n",
    "radio_in = .5/3\n",
    "\n",
    "# expand figure if widgets are going to be larger than 1/4 of the size\n",
    "widget_inches = n_sliders*slider_in + n_radio*radio_in\n",
    "size = fig.get_size_inches()\n",
    "fig.set_size_inches(size[0]*1.5, size[1]*1.5)\n",
    "# else:\n",
    "#     fig_h = size[1]\n",
    "slider_height = .15/fig_h\n",
    "\n",
    "widget_y = .05\n",
    "slider_ax = []\n",
    "sliders = []\n",
    "labels = ['amp - top','freq - bot' ]\n",
    "for i in range(n_sliders):\n",
    "    # should use rcparams for value slike the .9\n",
    "    slider_ax.append(plt.axes([.55, .9-widget_y, .4, slider_height]))\n",
    "    sliders.append(Slider(slider_ax[-1], i, 0.1, 10.0, valinit=f0))\n",
    "#     sliders.append(Slider(slider_ax[-1], labels[i], 0.1, 10.0, valinit=f0))\n",
    "    widget_y += slider_height + .02\n",
    "plt.subplots_adjust(right = 1-.5)"
   ]
  },
  {
   "cell_type": "markdown",
   "metadata": {},
   "source": [
    "# Good stuff is here down\n",
    "\n",
    "Basically only sensible thing to do is to just create a new axis in order to render the sliders and radio buttons onto it. This is basically equivalent to what I do with ipywidgets sldiers."
   ]
  },
  {
   "cell_type": "code",
   "execution_count": 1,
   "metadata": {},
   "outputs": [],
   "source": [
    "\n",
    "%matplotlib ipympl\n",
    "import matplotlib.pyplot as plt\n",
    "import numpy as np\n",
    "from matplotlib.widgets import Slider, Button, RadioButtons\n",
    "from functools import partial\n",
    "import ipywidgets as widgets\n",
    "\n",
    "t = np.arange(0.0, 1.0, 0.001)\n",
    "a0 = 5\n",
    "f0 = 3\n",
    "s = a0*np.sin(2*np.pi*f0*t)"
   ]
  },
  {
   "cell_type": "code",
   "execution_count": 2,
   "metadata": {},
   "outputs": [
    {
     "data": {
      "application/vnd.jupyter.widget-view+json": {
       "model_id": "9d3b9ada5cad43d599964e34d7df99c2",
       "version_major": 2,
       "version_minor": 0
      },
      "text/plain": [
       "Canvas(toolbar=Toolbar(toolitems=[('Home', 'Reset original view', 'home', 'home'), ('Back', 'Back to previous …"
      ]
     },
     "metadata": {},
     "output_type": "display_data"
    }
   ],
   "source": [
    "\n",
    "fig = plt.figure()\n",
    "# l, = plt.plot(t, s, lw=2, color='red')\n",
    "size = fig.get_size_inches()\n",
    "height = size[1]\n",
    "n_sliders = 10\n",
    "slider_in = .15\n",
    "radio_in = .5/3\n",
    "widget_gap_in = .1\n",
    "\n",
    "options = [('red','blue','this one is very long'), ('beep', 'boop')]\n",
    "radio_options_amts = [3, 2]\n",
    "n_radio_options = sum(radio_options_amts)\n",
    "n_radio  = len(radio_options_amts)\n",
    "\n",
    "# expand figure if widgets are going to be larger than 1/4 of the size\n",
    "widget_inches = n_sliders*slider_in + n_radio_options*radio_in + widget_gap_in * (n_sliders + n_radio + 1) + .5 # half an inche for margin\n",
    "size = fig.get_size_inches()\n",
    "fig_h = widget_inches\n",
    "fig.set_size_inches(size[0], widget_inches)\n",
    "slider_height = slider_in/fig_h\n",
    "radio_height = radio_in / fig_h\n",
    "# radio\n",
    "gap_height = widget_gap_in/fig_h\n",
    "\n",
    "\n",
    "widget_y = .05\n",
    "slider_ax = []\n",
    "sliders = []\n",
    "labels = ['amp - top','freq - bot' ]\n",
    "for i in range(n_sliders):\n",
    "    slider_ax.append(plt.axes([.2, .9- widget_y, .65, slider_height]))\n",
    "    sliders.append(Slider(slider_ax[-1], i, 0.1, 10.0, valinit=f0))\n",
    "#     sliders.append(Slider(slider_ax[-1], labels[i], 0.1, 10.0, valinit=f0))\n",
    "    widget_y += slider_height + gap_height\n",
    "radio_ax = []\n",
    "radio_buttons = []\n",
    "# this is a pile of hacky handtuned nonsense\n",
    "# I probably didn't even hand tune it very well\n",
    "# tuning this is awful\n",
    "for i in range(n_radio):\n",
    "    n = len(options[i])\n",
    "    # aspect ratio gets totally borked if you make it too long\n",
    "    longest_len = max(list(map(len,options[i])))\n",
    "    # should probably use something based on fontsize rather that .015\n",
    "    width = max(.15, .015*longest_len)\n",
    "    radio_ax.append(plt.axes([.2 ,.9 - widget_y-radio_height*n, width, radio_height*n]))\n",
    "    widget_y += radio_height * n + gap_height\n",
    "    radio_buttons.append(RadioButtons(radio_ax[-1], options[i], active=0))"
   ]
  },
  {
   "cell_type": "markdown",
   "metadata": {},
   "source": [
    "## Use changeify to make it interoperable with current updates using ipywidgets"
   ]
  },
  {
   "cell_type": "code",
   "execution_count": 106,
   "metadata": {},
   "outputs": [
    {
     "data": {
      "application/vnd.jupyter.widget-view+json": {
       "model_id": "85cd7892e9cf4c48858edfa13b73399c",
       "version_major": 2,
       "version_minor": 0
      },
      "text/plain": [
       "Output()"
      ]
     },
     "metadata": {},
     "output_type": "display_data"
    },
    {
     "data": {
      "text/plain": [
       "0"
      ]
     },
     "execution_count": 106,
     "metadata": {},
     "output_type": "execute_result"
    }
   ],
   "source": [
    "out = widgets.Output()\n",
    "display(out)\n",
    "@out.capture()\n",
    "def _changeify(key, val, update):\n",
    "    \"\"\"\n",
    "    make matplotlib update functions return a dict with key 'new'.\n",
    "    Do this for compatibility with ipywidgets\n",
    "    \"\"\"\n",
    "    print('asdfsdf')\n",
    "    \n",
    "    update({'new': val}, key, None)\n",
    "\n",
    "\n",
    "sliders[-1].on_changed(partial(_changeify,update=update))\n",
    "# say_whee = my_decorator(say_whee)"
   ]
  },
  {
   "cell_type": "markdown",
   "metadata": {},
   "source": [
    "1. Figure out total height that we want\n",
    "    - iterate over kwargs\n",
    "    - if it is a matplotlib widget don't worry about placing it\n",
    "2. create figure\n",
    "3. "
   ]
  },
  {
   "cell_type": "code",
   "execution_count": 107,
   "metadata": {},
   "outputs": [
    {
     "data": {
      "text/plain": [
       "0"
      ]
     },
     "execution_count": 107,
     "metadata": {},
     "output_type": "execute_result"
    }
   ],
   "source": [
    "def extract_num_options(val):\n",
    "    \"\"\"\n",
    "    convert a categorical to a number of options\n",
    "    \"\"\"\n",
    "    if len(val) == 1:\n",
    "        for v in val:\n",
    "            if isinstance(v, tuple):\n",
    "                # this looks nightmarish...\n",
    "                # but i think it should always work\n",
    "                # should also check if the tuple has length one here.\n",
    "                # that will only be an issue if a trailing comma was used to make the tuple ('beep',)\n",
    "                # but not ('beep') - the latter is not actually a tuple\n",
    "                return len(v)\n",
    "            else:\n",
    "                return 0\n",
    "    else:\n",
    "        return len(val)\n",
    "extract_num_options({('boop')})"
   ]
  },
  {
   "cell_type": "code",
   "execution_count": 96,
   "metadata": {},
   "outputs": [],
   "source": [
    "plt.ioff()\n",
    "fig, ax = plt.subplots()\n",
    "plt.ion()\n",
    "isinstance(mwidgets.Slider(ax, 'asd',0,1), mwidgets.AxesWidget )\n",
    "from collections.abc import Iterable"
   ]
  },
  {
   "cell_type": "code",
   "execution_count": 108,
   "metadata": {},
   "outputs": [],
   "source": [
    "\n",
    "\n",
    "out = widgets.Output()"
   ]
  },
  {
   "cell_type": "code",
   "execution_count": 144,
   "metadata": {},
   "outputs": [
    {
     "name": "stderr",
     "output_type": "stream",
     "text": [
      "<ipython-input-144-5f7c8aa974d5>:47: RuntimeWarning: More than 20 figures have been opened. Figures created through the pyplot interface (`matplotlib.pyplot.figure`) are retained until explicitly closed and may consume too much memory. (To control this warning, see the rcParam `figure.max_open_warning`).\n",
      "  fig = plt.figure()\n"
     ]
    },
    {
     "data": {
      "application/vnd.jupyter.widget-view+json": {
       "model_id": "c9ed94a7fa3d448f98f89b53d9e610f1",
       "version_major": 2,
       "version_minor": 0
      },
      "text/plain": [
       "Canvas(toolbar=Toolbar(toolitems=[('Home', 'Reset original view', 'home', 'home'), ('Back', 'Back to previous …"
      ]
     },
     "metadata": {},
     "output_type": "display_data"
    },
    {
     "data": {
      "application/vnd.jupyter.widget-view+json": {
       "model_id": "63a6e7611a3541029435570910033ffc",
       "version_major": 2,
       "version_minor": 0
      },
      "text/plain": [
       "Output()"
      ]
     },
     "metadata": {},
     "output_type": "display_data"
    }
   ],
   "source": [
    "params = {}\n",
    "\n",
    "out = widgets.Output()\n",
    "def f(blarg, ugh):\n",
    "    with out:\n",
    "        print(blarg)\n",
    "        print(ugh)\n",
    "def _changeify(val, key, update):\n",
    "    \"\"\"\n",
    "    make matplotlib update functions return a dict with key 'new'.\n",
    "    Do this for compatibility with ipywidgets\n",
    "    \"\"\"\n",
    "    with out:\n",
    "        print('asdfsdf')\n",
    "        update({'new': val}, key, None)\n",
    "\n",
    "def update(change, key, label):\n",
    "    with out:\n",
    "        if label:\n",
    "            raise ValueError('nope')\n",
    "        else:\n",
    "#             print(change['new'])\n",
    "#             print(key)\n",
    "            params[key] = change['new']\n",
    "slider_format_string = '{:.2f}'\n",
    "kwargs = {'cat1': {('red','blue','this one is very long')}, 'cat2':{('beep', 'boop')}, 'fixed1':{'bop'}, \n",
    "          'slider1':(0,10,100), 'slider2':(0,15,1), 'slider3':(0,1,2), 'slider4':np.linspace(0,10), 'scalar':9}\n",
    "n_opts = 0\n",
    "n_radio = 0\n",
    "n_sliders = 0\n",
    "for key, val in kwargs.items():\n",
    "    if isinstance(val, set):\n",
    "        new_opts = extract_num_options(val)\n",
    "        if new_opts>0:\n",
    "            n_radio += 1\n",
    "            n_opts += new_opts\n",
    "    elif not isinstance(val, mwidgets.AxesWidget) and not isinstance(val, widgets.fixed) and isinstance(val, Iterable) and len(val)>1:\n",
    "        n_sliders += 1\n",
    "\n",
    "height = size[1]\n",
    "slider_in = .15\n",
    "radio_in = .6/3\n",
    "widget_gap_in = .1\n",
    "\n",
    "widget_inches = n_sliders*slider_in + n_opts*radio_in + widget_gap_in * (n_sliders + n_radio + 1) + .5 # half an inche for margin\n",
    "fig = plt.figure()\n",
    "size = fig.get_size_inches()\n",
    "fig_h = widget_inches\n",
    "fig.set_size_inches(size[0], widget_inches)\n",
    "slider_height = slider_in / fig_h\n",
    "radio_height  = radio_in / fig_h\n",
    "# radio\n",
    "gap_height = widget_gap_in/fig_h\n",
    "widget_y = .05\n",
    "slider_ax = []\n",
    "sliders = []\n",
    "radio_ax = []\n",
    "radio_buttons = []\n",
    "cbs = []\n",
    "for key, val in kwargs.items():\n",
    "    if isinstance(val, set):\n",
    "        if len(val) == 1:\n",
    "            val = val.pop()\n",
    "            if isinstance(val, tuple):\n",
    "                pass\n",
    "            else:\n",
    "                params[key] = val\n",
    "                continue\n",
    "        else:\n",
    "            val = list(val)\n",
    "        \n",
    "        n = len(val)\n",
    "        longest_len = max(list(map(lambda x: len(list(x)),map(str,val))))\n",
    "        # should probably use something based on fontsize rather that .015\n",
    "        width = max(.15, .015*longest_len)\n",
    "        radio_ax.append(plt.axes([.2 ,.9 - widget_y - radio_height*n, width, radio_height*n]))\n",
    "        widget_y += radio_height * n + gap_height\n",
    "        radio_buttons.append(RadioButtons(radio_ax[-1], val, active=0))\n",
    "#         radio_buttons[-1].on_clicked(f)\n",
    "        cbs.append(radio_buttons[-1].on_clicked(partial(_changeify,key=key, update=update)))\n",
    "        params[key] = val[0]\n",
    "    elif isinstance(val, mwidgets.AxesWidget):\n",
    "        pass\n",
    "    elif isinstance(val, widgets.fixed):\n",
    "        pass\n",
    "    else:\n",
    "        if isinstance(val, tuple):\n",
    "            if len(val) == 2:\n",
    "                min_ = val[0]\n",
    "                max_ = val[1]\n",
    "            elif len(val) == 3:\n",
    "                # should warn that that doesn't make sense with matplotlib sliders\n",
    "                min_ = val[0]\n",
    "                max_ = val[1]\n",
    "                pass\n",
    "        else:\n",
    "            val = np.atleast_1d(val)\n",
    "            if val.ndim > 1:\n",
    "                raise ValueError(f'{key} is {val.ndim}D but can only be 1D or a scalar')\n",
    "            if len(val)==1:\n",
    "                # don't need to create a slider\n",
    "                params[key] = val[0]\n",
    "                continue\n",
    "            else:\n",
    "                # list or numpy array\n",
    "                # should warn here as well\n",
    "                min_ = np.min(val)\n",
    "                max_ = np.max(val)\n",
    "        \n",
    "        slider_ax.append(plt.axes([.2, .9- widget_y-gap_height, .65, slider_height]))\n",
    "        sliders.append(Slider(slider_ax[-1], key, min_, max_, valinit=min_))\n",
    "#         cbs.append(sliders[-1].on_changed(f))\n",
    "        cbs.append(sliders[-1].on_changed(partial(_changeify, key=key, update=update)))\n",
    "        widget_y += slider_height + gap_height\n",
    "        params[key] = min_\n",
    "    # this is a pile of hacky handtuned nonsense\n",
    "    # I probably didn't even hand tune it very well\n",
    "    # tuning this is awful\n",
    "\n",
    "display(out)"
   ]
  },
  {
   "cell_type": "code",
   "execution_count": 119,
   "metadata": {},
   "outputs": [],
   "source": [
    "partial(f, ugh='slider')('asdfsdf')"
   ]
  },
  {
   "cell_type": "code",
   "execution_count": 103,
   "metadata": {},
   "outputs": [
    {
     "data": {
      "application/vnd.jupyter.widget-view+json": {
       "model_id": "e4656ed529064e56895b42e0e293a9e3",
       "version_major": 2,
       "version_minor": 0
      },
      "text/plain": [
       "Output()"
      ]
     },
     "metadata": {},
     "output_type": "display_data"
    }
   ],
   "source": [
    "display(out)"
   ]
  },
  {
   "cell_type": "code",
   "execution_count": 88,
   "metadata": {},
   "outputs": [
    {
     "data": {
      "text/plain": [
       "()"
      ]
     },
     "execution_count": 88,
     "metadata": {},
     "output_type": "execute_result"
    }
   ],
   "source": [
    "np.asarray(9).shape"
   ]
  },
  {
   "cell_type": "code",
   "execution_count": 134,
   "metadata": {},
   "outputs": [
    {
     "data": {
      "application/vnd.jupyter.widget-view+json": {
       "model_id": "8d6083e8df0f4f36a471152d75cc7e25",
       "version_major": 2,
       "version_minor": 0
      },
      "text/plain": [
       "Output()"
      ]
     },
     "metadata": {},
     "output_type": "display_data"
    }
   ],
   "source": [
    "import ipywidgets as widgets\n",
    "out = widgets.Output()\n",
    "iptions = [('red','blue','this one is very long'), ('beep', 'boop')]\n",
    "display(out)\n",
    "@out.capture()\n",
    "def f(yikes):\n",
    "    print(yikes)"
   ]
  },
  {
   "cell_type": "code",
   "execution_count": 135,
   "metadata": {},
   "outputs": [
    {
     "data": {
      "text/plain": [
       "1"
      ]
     },
     "execution_count": 135,
     "metadata": {},
     "output_type": "execute_result"
    }
   ],
   "source": [
    "\n",
    "\n",
    "rb.on_clicked(f)"
   ]
  },
  {
   "cell_type": "code",
   "execution_count": 136,
   "metadata": {},
   "outputs": [
    {
     "data": {
      "text/plain": [
       "0"
      ]
     },
     "execution_count": 136,
     "metadata": {},
     "output_type": "execute_result"
    }
   ],
   "source": [
    "sliders[-1].on_changed(f)"
   ]
  },
  {
   "cell_type": "code",
   "execution_count": 139,
   "metadata": {},
   "outputs": [],
   "source": [
    "def my_decorator(func):\n",
    "    def wrapper():\n",
    "        print(\"Something is happening before the function is called.\")\n",
    "        func()\n",
    "        print(\"Something is happening after the function is called.\")\n",
    "    return wrapper\n",
    "\n",
    "@my_decorator\n",
    "def say_whee():\n",
    "    print(\"Whee!\")\n",
    "\n",
    "# say_whee = my_decorator(say_whee)\n"
   ]
  },
  {
   "cell_type": "code",
   "execution_count": 4,
   "metadata": {},
   "outputs": [],
   "source": [
    "import matplotlib.widgets as mwidgets"
   ]
  },
  {
   "cell_type": "code",
   "execution_count": 143,
   "metadata": {},
   "outputs": [],
   "source": [
    "def categorical(val, update, ipywidgets=True):\n",
    "    if ipywidgets:\n",
    "        if len(val) <= 3:\n",
    "            selector = widgets.RadioButtons(options = val)\n",
    "        else:\n",
    "            selector = widgets.Select(options=val)\n",
    "        selector.observe(partial(update, key = key, label=None), names=['value'])\n",
    "    else:\n",
    "        selector = mwidgets.RadioButtons()\n",
    "    if len(val)"
   ]
  },
  {
   "cell_type": "code",
   "execution_count": 142,
   "metadata": {},
   "outputs": [],
   "source": []
  },
  {
   "cell_type": "code",
   "execution_count": 154,
   "metadata": {},
   "outputs": [],
   "source": [
    "\n",
    "from matplotlib.ticker import ScalarFormatter\n"
   ]
  },
  {
   "cell_type": "code",
   "execution_count": 164,
   "metadata": {},
   "outputs": [],
   "source": [
    "form = ScalarFormatter(useOffset=True)"
   ]
  },
  {
   "cell_type": "code",
   "execution_count": 167,
   "metadata": {},
   "outputs": [
    {
     "data": {
      "text/plain": [
       "'1.2e1'"
      ]
     },
     "execution_count": 167,
     "metadata": {},
     "output_type": "execute_result"
    }
   ],
   "source": [
    "form.format_data(12)"
   ]
  },
  {
   "cell_type": "code",
   "execution_count": null,
   "metadata": {},
   "outputs": [],
   "source": []
  }
 ],
 "metadata": {
  "kernelspec": {
   "display_name": "Python 3",
   "language": "python",
   "name": "python3"
  },
  "language_info": {
   "codemirror_mode": {
    "name": "ipython",
    "version": 3
   },
   "file_extension": ".py",
   "mimetype": "text/x-python",
   "name": "python",
   "nbconvert_exporter": "python",
   "pygments_lexer": "ipython3",
   "version": "3.8.3"
  }
 },
 "nbformat": 4,
 "nbformat_minor": 4
}
