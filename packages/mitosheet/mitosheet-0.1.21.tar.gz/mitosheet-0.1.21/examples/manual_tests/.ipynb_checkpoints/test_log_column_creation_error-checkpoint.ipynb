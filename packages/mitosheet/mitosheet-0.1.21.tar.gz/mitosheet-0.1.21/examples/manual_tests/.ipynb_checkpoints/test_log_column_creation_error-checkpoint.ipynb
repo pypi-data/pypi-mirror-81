{
 "cells": [
  {
   "cell_type": "code",
   "execution_count": 1,
   "metadata": {},
   "outputs": [],
   "source": [
    "\"\"\"\n",
    "This file is meant to tests logging of errors. In this case, we will\n",
    "cause an error by generating a column twice. \n",
    "\n",
    "To test:\n",
    "1. First, make sure all other kernels are shut down. Then, refresh this page.\n",
    "2. Then, open segment.com for both the Python and JS logs, and run this cell. \n",
    "\n",
    "On Python logs:\n",
    "    - sheet_creation_log_event\n",
    "    - py_recv_msg_log_event\n",
    "    - py_sent_msg_log_event\n",
    "    - error_log_event (should have type 'column_exists_error' for column 'B')\n",
    "    \n",
    "In JS logs:\n",
    "    - sheet_view_creation_log_event\n",
    "    - js_sent_msg_log_event\n",
    "    - js_sent_msg_log_event\n",
    "    \n",
    "Make sure to check the logs for the correct values!\n",
    "\"\"\"\n",
    "\n",
    "\n",
    "import mitosheet\n",
    "import pandas as pd\n",
    "\n",
    "df = pd.DataFrame(data={'A': [1]})\n",
    "mito = mitosheet.sheet(df)\n",
    "mito.receive_message(mito, {\n",
    "    'event': 'edit_event',\n",
    "    'type': 'add_column',\n",
    "    'id': '123',\n",
    "    'timestamp': '456',\n",
    "    'column_header': 'B'\n",
    "})\n",
    "mito.receive_message(mito, {\n",
    "    'event': 'edit_event',\n",
    "    'type': 'add_column',\n",
    "    'id': '123',\n",
    "    'timestamp': '456',\n",
    "    'column_header': 'B'\n",
    "})"
   ]
  },
  {
   "cell_type": "code",
   "execution_count": null,
   "metadata": {},
   "outputs": [],
   "source": []
  }
 ],
 "metadata": {
  "kernelspec": {
   "display_name": "Python 3",
   "language": "python",
   "name": "python3"
  },
  "language_info": {
   "codemirror_mode": {
    "name": "ipython",
    "version": 3
   },
   "file_extension": ".py",
   "mimetype": "text/x-python",
   "name": "python",
   "nbconvert_exporter": "python",
   "pygments_lexer": "ipython3",
   "version": "3.8.5"
  },
  "widgets": {
   "application/vnd.jupyter.widget-state+json": {
    "state": {
     "bdf2bf67db7a4028b1fa7425e749d753": {
      "model_module": "mitosheet",
      "model_module_version": "^0.1.10",
      "model_name": "ExampleModel",
      "state": {
       "_model_module_version": "^0.1.10",
       "_view_module_version": "^0.1.10",
       "code_json": "{\"imports\": \"from mitosheet import UPPER,LOWER,LEN,TRIM,CLEAN,MID,LEFT,RIGHT,PROPER,SUBSTITUTE,MULTIPLY,SUM,AVG,FIND,CONCATENATE\", \"code\": \"df['B'] = 0\"}",
       "column_spreadsheet_code_json": "{\"A\": \"\", \"B\": \"=0\"}",
       "df_name": "",
       "layout": "IPY_MODEL_e97b0122915849e7919b2aeee4cb22fa",
       "sheet_json": "{\"columns\": [\"A\", \"B\"], \"index\": [0], \"data\": [[1, 0]]}",
       "user_id": "/Users/nate/saga-vcs/monorepo/mito/mitosheet/example.py",
       "value": "Hello World"
      }
     },
     "e97b0122915849e7919b2aeee4cb22fa": {
      "model_module": "@jupyter-widgets/base",
      "model_module_version": "1.2.0",
      "model_name": "LayoutModel",
      "state": {}
     }
    },
    "version_major": 2,
    "version_minor": 0
   }
  }
 },
 "nbformat": 4,
 "nbformat_minor": 4
}
