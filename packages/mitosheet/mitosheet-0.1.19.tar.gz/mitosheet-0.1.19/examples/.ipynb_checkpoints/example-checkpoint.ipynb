{
 "cells": [
  {
   "cell_type": "code",
   "execution_count": 4,
   "metadata": {},
   "outputs": [
    {
     "data": {
      "application/vnd.jupyter.widget-view+json": {
       "model_id": "44727e6b04824f1fbd61e166e4d160a9",
       "version_major": 2,
       "version_minor": 0
      },
      "text/plain": [
       "MitoWidget(code_json='{\"code\": \"0\"}', column_spreadsheet_code_json='{\"A\": \"\"}', sheet_json='{\"columns\": [\"A\"],…"
      ]
     },
     "metadata": {},
     "output_type": "display_data"
    }
   ],
   "source": [
    "import mitosheet\n",
    "import pandas as pd\n",
    "\n",
    "d = {'A': [1]}\n",
    "df = pd.DataFrame(data=d)\n",
    "mitosheet.sheet(df)"
   ]
  },
  {
   "cell_type": "code",
   "execution_count": null,
   "metadata": {},
   "outputs": [],
   "source": []
  }
 ],
 "metadata": {
  "kernelspec": {
   "display_name": "Python 3",
   "language": "python",
   "name": "python3"
  },
  "language_info": {
   "codemirror_mode": {
    "name": "ipython",
    "version": 3
   },
   "file_extension": ".py",
   "mimetype": "text/x-python",
   "name": "python",
   "nbconvert_exporter": "python",
   "pygments_lexer": "ipython3",
   "version": "3.8.5"
  },
  "widgets": {
   "application/vnd.jupyter.widget-state+json": {
    "state": {
     "1cc144898024415b99fcc6964bdc4e64": {
      "model_module": "@jupyter-widgets/base",
      "model_module_version": "1.2.0",
      "model_name": "LayoutModel",
      "state": {}
     },
     "44727e6b04824f1fbd61e166e4d160a9": {
      "model_module": "mitosheet",
      "model_module_version": "^0.1.18",
      "model_name": "ExampleModel",
      "state": {
       "_model_module_version": "^0.1.18",
       "_view_module_version": "^0.1.18",
       "code_json": "{\"code\": \"0\"}",
       "column_spreadsheet_code_json": "{\"A\": \"\"}",
       "df_name": "df",
       "layout": "IPY_MODEL_1cc144898024415b99fcc6964bdc4e64",
       "sheet_json": "{\"columns\": [\"A\"], \"index\": [0], \"data\": [[1]]}",
       "user_id": "/Users/nate/saga-vcs/monorepo/mito/mitosheet/example.py",
       "value": "Hello World"
      }
     },
     "56673cd599a24615aaf202ccb43cb480": {
      "model_module": "@jupyter-widgets/base",
      "model_module_version": "1.2.0",
      "model_name": "LayoutModel",
      "state": {}
     },
     "7a7188509d80419b9e9e0eb3d59c64a9": {
      "model_module": "mitosheet",
      "model_module_version": "^0.1.18",
      "model_name": "ExampleModel",
      "state": {
       "_model_module_version": "^0.1.18",
       "_view_module_version": "^0.1.18",
       "code_json": "{\"imports\": \"from mitosheet import AVG,CLEAN,CONCATENATE,FIND,LEFT,LEN,LOWER,MID,MULTIPLY,PROPER,RIGHT,SUBSTITUTE,SUM,TRIM,UPPER\", \"code\": [\"df['B'] = df['A123']\", \"df['C'] = df['A123'] + df['B']\"]}",
       "column_spreadsheet_code_json": "{\"A123\": \"\", \"B\": \"=A123\", \"C\": \"=A123 + B\"}",
       "df_name": "df",
       "layout": "IPY_MODEL_56673cd599a24615aaf202ccb43cb480",
       "sheet_json": "{\"columns\": [\"A123\", \"B\", \"C\"], \"index\": [0], \"data\": [[1, 1, 2]]}",
       "user_id": "/Users/nate/saga-vcs/monorepo/mito/mitosheet/example.py",
       "value": "Hello World"
      }
     },
     "c976e281bed7418ead48dc8a2a4f4e62": {
      "model_module": "mitosheet",
      "model_module_version": "^0.1.18",
      "model_name": "ExampleModel",
      "state": {
       "_model_module_version": "^0.1.18",
       "_view_module_version": "^0.1.18",
       "code_json": "{\"code\": \"0\"}",
       "column_spreadsheet_code_json": "{\"A_12346\": \"\"}",
       "df_name": "df",
       "layout": "IPY_MODEL_ed32a14edccd4be08465a3570eaf1b68",
       "sheet_json": "{\"columns\": [\"A_12346\"], \"index\": [0], \"data\": [[1]]}",
       "user_id": "/Users/nate/saga-vcs/monorepo/mito/mitosheet/example.py",
       "value": "Hello World"
      }
     },
     "d5b2ddfc9bdf4be0886811e551cef7f9": {
      "model_module": "mitosheet",
      "model_module_version": "^0.1.18",
      "model_name": "ExampleModel",
      "state": {
       "_model_module_version": "^0.1.18",
       "_view_module_version": "^0.1.18",
       "code_json": "{\"imports\": \"from mitosheet import AVG,CLEAN,CONCATENATE,FIND,LEFT,LEN,LOWER,MID,MULTIPLY,PROPER,RIGHT,SUBSTITUTE,SUM,TRIM,UPPER\", \"code\": [\"df['C'] = df['A_12346'] - 100\", \"df['B'] = df['A_12346']\"]}",
       "column_spreadsheet_code_json": "{\"A_12346\": \"\", \"B\": \"=A_12346\", \"C\": \"=A_12346 - 100\"}",
       "df_name": "df",
       "layout": "IPY_MODEL_ecbe8bfa920549358730773bdc036d7e",
       "sheet_json": "{\"columns\": [\"A_12346\", \"B\", \"C\"], \"index\": [0], \"data\": [[1, 1, -99]]}",
       "user_id": "/Users/nate/saga-vcs/monorepo/mito/mitosheet/example.py",
       "value": "Hello World"
      }
     },
     "ecbe8bfa920549358730773bdc036d7e": {
      "model_module": "@jupyter-widgets/base",
      "model_module_version": "1.2.0",
      "model_name": "LayoutModel",
      "state": {}
     },
     "ed32a14edccd4be08465a3570eaf1b68": {
      "model_module": "@jupyter-widgets/base",
      "model_module_version": "1.2.0",
      "model_name": "LayoutModel",
      "state": {}
     }
    },
    "version_major": 2,
    "version_minor": 0
   }
  }
 },
 "nbformat": 4,
 "nbformat_minor": 4
}
