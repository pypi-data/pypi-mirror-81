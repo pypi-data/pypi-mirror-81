{
 "cells": [
  {
   "cell_type": "code",
   "execution_count": null,
   "metadata": {},
   "outputs": [],
   "source": [
    "\n",
    "%matplotlib widget\n",
    "import matplotlib.pyplot as plt\n",
    "import numpy as np\n",
    "from ipympl_interactions import interactive_plot, interactive_plot_factory"
   ]
  },
  {
   "cell_type": "code",
   "execution_count": null,
   "metadata": {},
   "outputs": [],
   "source": [
    "\n",
    "## Equivalent with standard interact function\n",
    "\n",
    "You can accomplish this using the standard ipywidgets interact machinery. There are two ways to do this both with downsides\n",
    "\n",
    "1. Make a new figure every time \n",
    "    - Downside: very poor performance)\n",
    "2. Update the lines of the plot this has very good performance\n",
    "    - Downside: It is a hassle to do + lots of boilerplate\n",
    "   \n",
    "Ultimately this library uses approach 2 but abstracts away the boilerplate. Below are both examples to compare and contrast with this libraries approach\n",
    "\n",
    "\n",
    "\n",
    "## Approach 1 - jerk performance"
   ]
  }
 ],
 "metadata": {
  "kernelspec": {
   "display_name": "Python 3",
   "language": "python",
   "name": "python3"
  },
  "language_info": {
   "name": ""
  }
 },
 "nbformat": 4,
 "nbformat_minor": 4
}
