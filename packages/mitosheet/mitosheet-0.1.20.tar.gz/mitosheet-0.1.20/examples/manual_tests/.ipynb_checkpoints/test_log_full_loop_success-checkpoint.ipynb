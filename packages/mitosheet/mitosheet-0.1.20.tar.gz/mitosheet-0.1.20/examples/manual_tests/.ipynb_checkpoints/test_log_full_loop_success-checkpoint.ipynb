{
 "cells": [
  {
   "cell_type": "code",
   "execution_count": 1,
   "metadata": {},
   "outputs": [
    {
     "data": {
      "application/vnd.jupyter.widget-view+json": {
       "model_id": "21321a326b09412ab48acf43df40a683",
       "version_major": 2,
       "version_minor": 0
      },
      "text/plain": [
       "MitoWidget(code_json='{\"code\": \"0\"}', column_spreadsheet_code_json='{\"A\": \"\"}', sheet_json='{\"columns\": [\"A\"],…"
      ]
     },
     "metadata": {},
     "output_type": "display_data"
    }
   ],
   "source": [
    "\"\"\"\n",
    "This file is meant to test logging of a full loop of the \n",
    "system\n",
    "\n",
    "To test:\n",
    "1. First, make sure all other kernels are shut down. Then, refresh this page.\n",
    "2. Then, open segment.com for both the Python and JS logs, and run this cell. \n",
    "\n",
    "On Python logs:\n",
    "    - sheet_creation_log_event\n",
    "    - py_recv_msg_log_event\n",
    "    - evaluator_started_log_event\n",
    "    - evaluator_finished_log_event\n",
    "    - transpiler_started_log_event\n",
    "    - transpiler_finished_log_event\n",
    "    - py_sent_msg_log_event\n",
    "\n",
    "In JS logs:\n",
    "    - sheet_view_creation_log_event\n",
    "    - js_sent_msg_log_event\n",
    "    - js_recv_msg_log_event\n",
    "    \n",
    "Make sure to check the logs for the correct values!\n",
    "\"\"\"\n",
    "\n",
    "\n",
    "import mitosheet\n",
    "import pandas as pd\n",
    "\n",
    "df = pd.DataFrame(data={'A': [1]})\n",
    "mito = mitosheet.sheet(df)\n",
    "mito"
   ]
  },
  {
   "cell_type": "code",
   "execution_count": null,
   "metadata": {},
   "outputs": [],
   "source": []
  }
 ],
 "metadata": {
  "kernelspec": {
   "display_name": "Python 3",
   "language": "python",
   "name": "python3"
  },
  "language_info": {
   "codemirror_mode": {
    "name": "ipython",
    "version": 3
   },
   "file_extension": ".py",
   "mimetype": "text/x-python",
   "name": "python",
   "nbconvert_exporter": "python",
   "pygments_lexer": "ipython3",
   "version": "3.8.5"
  },
  "widgets": {
   "application/vnd.jupyter.widget-state+json": {
    "state": {
     "21321a326b09412ab48acf43df40a683": {
      "model_module": "mitosheet",
      "model_module_version": "^0.1.10",
      "model_name": "ExampleModel",
      "state": {
       "_model_module_version": "^0.1.10",
       "_view_module_version": "^0.1.10",
       "code_json": "{\"code\": \"0\"}",
       "column_spreadsheet_code_json": "{\"A\": \"\"}",
       "df_name": "df",
       "layout": "IPY_MODEL_d17d331332524d5eae410f6062727e59",
       "sheet_json": "{\"columns\": [\"A\"], \"index\": [0], \"data\": [[1]]}",
       "user_id": "/Users/nate/saga-vcs/monorepo/mito/mitosheet/example.py",
       "value": "Hello World"
      }
     },
     "d17d331332524d5eae410f6062727e59": {
      "model_module": "@jupyter-widgets/base",
      "model_module_version": "1.2.0",
      "model_name": "LayoutModel",
      "state": {}
     }
    },
    "version_major": 2,
    "version_minor": 0
   }
  }
 },
 "nbformat": 4,
 "nbformat_minor": 4
}
