{
 "cells": [
  {
   "cell_type": "code",
   "execution_count": 1,
   "metadata": {},
   "outputs": [],
   "source": [
    "\"\"\"\n",
    "This file is meant to tests logging of errors. In this case, we will\n",
    "cause an error by generating a column twice. \n",
    "\n",
    "To test:\n",
    "1. First, make sure all other kernels are shut down. Then, refresh this page.\n",
    "2. Then, open segment.com for both the Python and JS logs, and run this cell. \n",
    "\n",
    "On Python logs:\n",
    "    - sheet_creation_log_event\n",
    "    - py_recv_msg_log_event\n",
    "    - py_sent_msg_log_event\n",
    "    - error_log_event (should have type 'column_exists_error' for column 'B')\n",
    "    \n",
    "In JS logs:\n",
    "    - sheet_view_creation_log_event\n",
    "    - js_sent_msg_log_event\n",
    "    - js_sent_msg_log_event\n",
    "    \n",
    "Make sure to check the logs for the correct values!\n",
    "\"\"\"\n",
    "\n",
    "\n",
    "import mitosheet\n",
    "import pandas as pd\n",
    "\n",
    "df = pd.DataFrame(data={'A': [1]})\n",
    "mito = mitosheet.sheet(df)\n",
    "mito.receive_message(mito, {\n",
    "    'event': 'edit_event',\n",
    "    'type': 'add_column',\n",
    "    'id': '123',\n",
    "    'timestamp': '456',\n",
    "    'column_header': 'B'\n",
    "})\n",
    "mito.receive_message(mito, {\n",
    "    'event': 'edit_event',\n",
    "    'type': 'add_column',\n",
    "    'id': '123',\n",
    "    'timestamp': '456',\n",
    "    'column_header': 'B'\n",
    "})"
   ]
  },
  {
   "cell_type": "code",
   "execution_count": null,
   "metadata": {},
   "outputs": [],
   "source": []
  }
 ],
 "metadata": {
  "kernelspec": {
   "display_name": "Python 3",
   "language": "python",
   "name": "python3"
  },
  "language_info": {
   "codemirror_mode": {
    "name": "ipython",
    "version": 3
   },
   "file_extension": ".py",
   "mimetype": "text/x-python",
   "name": "python",
   "nbconvert_exporter": "python",
   "pygments_lexer": "ipython3",
   "version": "3.8.5"
  },
  "widgets": {
   "application/vnd.jupyter.widget-state+json": {
    "state": {},
    "version_major": 2,
    "version_minor": 0
   }
  }
 },
 "nbformat": 4,
 "nbformat_minor": 4
}
