{
 "cells": [
  {
   "cell_type": "markdown",
   "metadata": {},
   "source": [
    "# Imports"
   ]
  },
  {
   "cell_type": "code",
   "execution_count": null,
   "metadata": {
    "ExecuteTime": {
     "end_time": "2017-04-13T09:19:40.170565Z",
     "start_time": "2017-04-13T11:19:26.143931+02:00"
    },
    "collapsed": true
   },
   "outputs": [],
   "source": [
    "%matplotlib inline\n",
    "%matplotlib notebook\n",
    "%load_ext autoreload\n",
    "%autoreload 2"
   ]
  },
  {
   "cell_type": "code",
   "execution_count": null,
   "metadata": {
    "ExecuteTime": {
     "end_time": "2017-04-13T09:19:40.204481Z",
     "start_time": "2017-04-13T11:19:40.174244+02:00"
    },
    "collapsed": true
   },
   "outputs": [],
   "source": [
    "from matplotlib.pyplot import *\n",
    "%matplotlib inline"
   ]
  },
  {
   "cell_type": "code",
   "execution_count": null,
   "metadata": {
    "ExecuteTime": {
     "end_time": "2017-04-13T09:19:40.234398Z",
     "start_time": "2017-04-13T11:19:40.208318+02:00"
    },
    "collapsed": true
   },
   "outputs": [],
   "source": [
    "from datetime import date,datetime\n",
    "from os import path\n",
    "today = date.today()\n",
    "now = datetime.now()"
   ]
  },
  {
   "cell_type": "code",
   "execution_count": null,
   "metadata": {
    "ExecuteTime": {
     "end_time": "2017-04-13T09:19:46.899110Z",
     "start_time": "2017-04-13T11:19:40.238032+02:00"
    },
    "collapsed": true
   },
   "outputs": [],
   "source": [
    "import dill\n",
    "import numpy as np\n",
    "from copy import copy\n",
    "from random import sample\n",
    "from sklearn.model_selection import train_test_split\n",
    "from time import time"
   ]
  },
  {
   "cell_type": "code",
   "execution_count": null,
   "metadata": {
    "ExecuteTime": {
     "end_time": "2017-04-13T09:19:53.955648Z",
     "start_time": "2017-04-13T11:19:46.902274+02:00"
    },
    "collapsed": true
   },
   "outputs": [],
   "source": [
    "from cBc import to_clf\n",
    "from cBc import ClassicalBayesian\n",
    "from cBc import ClassicalBayesianFit\n",
    "from cBc import ToClassifierDef\n",
    "from cBc import get_clf_functions\n",
    "from cBc import __test__\n",
    "from cBc import write_classical_Bayesian_to_hdf5_file\n",
    "from cBc import read_classical_Bayesian_from_hdf5_file"
   ]
  },
  {
   "cell_type": "markdown",
   "metadata": {},
   "source": [
    "# Parameters for the Cloud Mask"
   ]
  },
  {
   "cell_type": "code",
   "execution_count": 6,
   "metadata": {
    "ExecuteTime": {
     "end_time": "2017-04-13T09:19:54.033557Z",
     "start_time": "2017-04-13T11:19:53.971424+02:00"
    },
    "collapsed": true
   },
   "outputs": [],
   "source": [
    "suffix = \"_v%s\" % now.strftime(\"%Y%m%d_%H:%M:%S\")\n",
    "\n",
    "#fn_mc = \"/home/gts2/data/aux_data/cld_mask/20160321_s2.dill\"\n",
    "fn_mc = \"/home/gts2/data/aux_data/cld_mask/S2_classi_20170413.dill\"\n",
    "\n",
    "fn_out = (\"/home/gts2/data/aux_data/cld_mask/cld_mask_\" + path.basename(fn_mc)).replace(\".dill\",suffix + \".h5\")\n",
    "\n",
    "class_names = {'Shadow': 30, 'Clear': 10, 'Snow': 60, 'Water': 20, 'Cirrus': 40, 'Cloud': 50}\n",
    "class_ids = {v:k for k,v in class_names.items()}\n",
    "mask_legend = {value:key for key,value in class_names.items()}\n",
    "band_names = ['B01', 'B02', 'B03', 'B04', 'B05', 'B06', 'B07', 'B08', 'B8A', 'B09', 'B10', 'B11', 'B12']\n",
    "# RGB color coding of classes\n",
    "clf_to_col = {10: (0.0, 0.39215686274509803, 0.0),\n",
    "              20: (0.0, 0.0, 0.5019607843137255),\n",
    "              30: (0.5450980392156862, 0.0, 0.5450980392156862),\n",
    "              40: (0.5450980392156862, 0.0, 0.0),\n",
    "              50: (0.27450980392156865, 0.5098039215686274, 0.7058823529411765),\n",
    "              60: (1.0, 0.5490196078431373, 0.0)}"
   ]
  },
  {
   "cell_type": "code",
   "execution_count": 7,
   "metadata": {
    "ExecuteTime": {
     "end_time": "2017-04-13T09:19:54.083407Z",
     "start_time": "2017-04-13T11:19:54.037430+02:00"
    },
    "collapsed": false
   },
   "outputs": [
    {
     "data": {
      "text/plain": [
       "'/home/gts2/data/aux_data/cld_mask/cld_mask_S2_classi_20170413_v20170413_11:19:40.h5'"
      ]
     },
     "execution_count": 7,
     "metadata": {},
     "output_type": "execute_result"
    }
   ],
   "source": [
    "fn_out"
   ]
  },
  {
   "cell_type": "code",
   "execution_count": 8,
   "metadata": {
    "ExecuteTime": {
     "end_time": "2017-04-13T09:19:54.135807Z",
     "start_time": "2017-04-13T11:19:54.087941+02:00"
    },
    "collapsed": true
   },
   "outputs": [],
   "source": [
    "mk_clf=ToClassifierDef(clf_functions=get_clf_functions(),\n",
    "        classifiers_id=[(2,), (9, 0), (10, 1), (12,), (1, 8)],\n",
    "        classifiers_fk=['channel', 'difference', 'index', 'channel', 'index'])\n",
    "clf_suffix = \"_\".join([(fk+str(ids)).replace(\" \",\"\").replace(\",)\",\")\") for fk,ids in zip(mk_clf.classifiers_fk,mk_clf.classifiers_id)])"
   ]
  },
  {
   "cell_type": "markdown",
   "metadata": {},
   "source": [
    "# Load Data"
   ]
  },
  {
   "cell_type": "code",
   "execution_count": 9,
   "metadata": {
    "ExecuteTime": {
     "end_time": "2017-04-13T09:20:55.705672Z",
     "start_time": "2017-04-13T11:20:14.500292+02:00"
    },
    "collapsed": false
   },
   "outputs": [
    {
     "name": "stdout",
     "output_type": "stream",
     "text": [
      "Shadow 30 137294 (137295,)\n",
      "Snow 60 137294 (417414,)\n",
      "Cirrus 40 137294 (499372,)\n",
      "Cloud 50 137294 (486430,)\n",
      "Water 20 137294 (447811,)\n",
      "Clear 10 137294 (1040411,)\n",
      "(3025704, 13) (3029, 13) (3025704,) (3029,)\n"
     ]
    }
   ],
   "source": [
    "suffix = fn_mc.split(\".dill\")[0].split(\"_\")[-1]\n",
    "\n",
    "with open(fn_mc,\"rb\") as fl:\n",
    "    dat = dill.load(fl)\n",
    "clf_classes,clf_data_arr,clf_metadata = dat\n",
    "\n",
    "class_map = list(clf_metadata[\"Class Names\"].items())\n",
    "\n",
    "if suffix == \"s2\":\n",
    "    clf_data_arr = np.nan_to_num(np.array(clf_data_arr,dtype=np.float))\n",
    "del dat\n",
    "occurences = {class_name:len(clf_classes[clf_classes == class_val]) for class_name,class_val in class_map}\n",
    "orig_classes = copy(clf_metadata[\"Class Names\"])\n",
    "clf_metadata[\"Class Names\"] = {name:value for name,value in class_map if occurences[name]>0}\n",
    "\n",
    "data_norm = []\n",
    "clf_norm = []\n",
    "nn_min_class = np.min([len(clf_classes[clf_classes == class_val]) for class_name,class_val in class_map])-1\n",
    "\n",
    "\n",
    "for class_name,class_val in class_map:    \n",
    "    #idx = sample(list(np.where(clf_classes == class_val)[0]),nn_min_class)  # same number for all classes\n",
    "    idx = np.where(clf_classes == class_val)[0]  # use all data\n",
    "    \n",
    "    data_norm.append(clf_data_arr[idx])\n",
    "    clf_norm.append(clf_classes[idx])    \n",
    "    print(class_name,class_val,nn_min_class,clf_classes[idx].shape)   \n",
    "    \n",
    "clf_classes_norm = np.hstack(clf_norm)\n",
    "clf_data_norm = np.vstack(data_norm)\n",
    "\n",
    "del clf_classes\n",
    "del clf_data_arr\n",
    "\n",
    "clf_data = dict(zip((\"XX_train\",\"XX_test\",\"YY_train\",\"YY_test\"),\n",
    "                    train_test_split(clf_data_norm,clf_classes_norm,test_size=0.001,random_state=42)))\n",
    "clf_data.keys()\n",
    "\n",
    "sel_test = np.array(sample(range(clf_data[\"XX_test\"].shape[0]),np.min([len(clf_data[\"YY_test\"]),\n",
    "                                                                       np.min([clf_data[\"XX_test\"].shape[0],5000000])])),dtype=np.int)\n",
    "sel_train = np.array(sample(range(clf_data[\"XX_train\"].shape[0]),np.min([len(clf_data[\"YY_train\"]),\n",
    "                                                                         np.min([clf_data[\"XX_train\"].shape[0],5000000])])),dtype=np.int)\n",
    "\n",
    "dat_test_train = {\"xx\":to_clf(clf_data[\"XX_train\"][sel_train,:]),\"yy\":clf_data[\"YY_train\"][sel_train]}\n",
    "dat_test_test = {\"xx\":to_clf(clf_data[\"XX_test\"][sel_test,:]),\"yy\":clf_data[\"YY_test\"][sel_test]}\n",
    "\n",
    "print(clf_data[\"XX_train\"].shape,clf_data[\"XX_test\"].shape,clf_data[\"YY_train\"].shape,clf_data[\"YY_test\"].shape)\n",
    "\n",
    "# save data for later use\n",
    "ds = np.array(np.vstack((clf_data[ds] for ds in [\"XX_train\",\"XX_test\"])),dtype=np.float16)\n",
    "np.savez(\"/home/gts2/notebooks/cld_mask_dev/ds.npz\",ds)"
   ]
  },
  {
   "cell_type": "code",
   "execution_count": 10,
   "metadata": {
    "ExecuteTime": {
     "end_time": "2017-04-13T09:20:58.478254Z",
     "start_time": "2017-04-13T11:20:55.708875+02:00"
    },
    "collapsed": true
   },
   "outputs": [],
   "source": [
    "ds_y = np.array(np.hstack((clf_data[ds] for ds in [\"YY_train\",\"YY_test\"])),dtype=np.float16)\n",
    "np.savez(\"/home/gts2/notebooks/cld_mask_dev/ds_y.npz\",ds)"
   ]
  },
  {
   "cell_type": "markdown",
   "metadata": {
    "ExecuteTime": {
     "end_time": "2017-02-24T09:49:24.847616",
     "start_time": "2017-02-24T09:49:23.847893"
    }
   },
   "source": [
    "# Novelty Detector"
   ]
  },
  {
   "cell_type": "markdown",
   "metadata": {
    "heading_collapsed": true
   },
   "source": [
    "## One Class SVM"
   ]
  },
  {
   "cell_type": "code",
   "execution_count": null,
   "metadata": {
    "ExecuteTime": {
     "end_time": "2017-04-11T14:06:09.253856Z",
     "start_time": "2017-04-11T14:06:17.847Z"
    },
    "collapsed": true,
    "hidden": true
   },
   "outputs": [],
   "source": [
    "from sklearn.svm import OneClassSVM\n",
    "import Density_Sampling\n",
    "import pickle\n",
    "import tables\n",
    "import numpy as np\n",
    "from random import sample\n",
    "from os import path\n",
    "from time import time\n",
    "from cBc import ToClassifierDef\n",
    "from cBc import get_clf_functions\n",
    "from sklearn.model_selection import GridSearchCV\n",
    "from random import choice\n",
    "from operator import itemgetter\n",
    "import json\n",
    "from tqdm import tqdm_notebook\n",
    "from matplotlib.pyplot import *\n",
    "%matplotlib inline"
   ]
  },
  {
   "cell_type": "code",
   "execution_count": null,
   "metadata": {
    "ExecuteTime": {
     "end_time": "2017-04-11T14:06:09.254474Z",
     "start_time": "2017-04-11T14:06:18.088Z"
    },
    "collapsed": true,
    "hidden": true
   },
   "outputs": [],
   "source": [
    "dsf = np.load(\"/home/gts2/notebooks/cld_mask_dev/ds.npz\")\n",
    "ds = dsf.items()[0][1]\n",
    "# random data dabed on pdf of\n",
    "ds_rnd = np.abs(np.transpose(np.vstack([np.random.normal(loc=mn,scale=sd,size=4000) for mn,sd in zip(np.mean(np.array(ds,dtype=np.float),axis=0),np.std(np.array(ds,dtype=np.float),axis=0))])))"
   ]
  },
  {
   "cell_type": "code",
   "execution_count": null,
   "metadata": {
    "ExecuteTime": {
     "end_time": "2017-04-11T14:06:09.255082Z",
     "start_time": "2017-04-11T14:06:18.312Z"
    },
    "collapsed": true,
    "hidden": true
   },
   "outputs": [],
   "source": [
    "figure(figsize=(15,7))\n",
    "_ = plot(np.transpose(ds[sample(range(ds.shape[0]),1),:]),\"g\",label=\"database\")\n",
    "_ = plot(np.transpose(ds[sample(range(ds.shape[0]),6),:]),\"g\")\n",
    "_ = plot(np.transpose(ds_rnd[sample(range(ds_rnd.shape[0]),1),:]),\"b\",label=\"test spectra\")\n",
    "_ = plot(np.transpose(ds_rnd[sample(range(ds_rnd.shape[0]),6),:]),\"b\")\n",
    "xlabel(\"channel\")\n",
    "ylabel(\"TOA reflectance\")\n",
    "legend()"
   ]
  },
  {
   "cell_type": "code",
   "execution_count": null,
   "metadata": {
    "ExecuteTime": {
     "end_time": "2017-04-11T14:06:09.255664Z",
     "start_time": "2017-04-11T14:06:18.520Z"
    },
    "collapsed": true,
    "hidden": true
   },
   "outputs": [],
   "source": [
    "from time import time"
   ]
  },
  {
   "cell_type": "code",
   "execution_count": null,
   "metadata": {
    "ExecuteTime": {
     "end_time": "2017-04-11T14:06:09.256290Z",
     "start_time": "2017-04-11T14:06:18.719Z"
    },
    "collapsed": true,
    "hidden": true
   },
   "outputs": [],
   "source": [
    "mk_clf = ToClassifierDef(clf_functions=get_clf_functions(),\n",
    "        classifiers_id=[(2,), (9, 0), (10, 1), (12,), (1, 8)],\n",
    "        classifiers_fk=['channel', 'difference', 'index', 'channel', 'index'])\n",
    "clf_suffix = \"_\".join([(fk+str(ids)).replace(\" \",\"\").replace(\",)\",\")\") for fk,ids in zip(mk_clf.classifiers_fk,mk_clf.classifiers_id)])\n",
    "ds_rnd_clf = mk_clf(ds_rnd)\n",
    "bf_full = mk_clf(np.array(ds[:,:],dtype=np.float32))\n",
    "print(ds_rnd_clf.shape)\n",
    "def tst2(nov,X=None,y=None,debug=False):\n",
    "    if X is None:\n",
    "        pr = nov.predict(ds[::4000,:])\n",
    "    else:\n",
    "        pr = nov.predict(X)\n",
    "   \n",
    "    pr_rnd = nov.predict(ds_rnd_clf)\n",
    "    \n",
    "    if debug is False:\n",
    "        return np.sum(pr == 1) / len(pr) - np.sum(pr_rnd == 1) / len(pr_rnd)\n",
    "    else:\n",
    "        return np.sum(pr == 1) / len(pr) , np.sum(pr_rnd == 1) / len(pr_rnd)"
   ]
  },
  {
   "cell_type": "code",
   "execution_count": null,
   "metadata": {
    "ExecuteTime": {
     "end_time": "2017-04-10T14:36:47.510672Z",
     "start_time": "2017-04-10T16:36:47.452849+02:00"
    },
    "collapsed": true,
    "hidden": true
   },
   "outputs": [],
   "source": [
    "results = []"
   ]
  },
  {
   "cell_type": "code",
   "execution_count": null,
   "metadata": {
    "ExecuteTime": {
     "end_time": "2017-04-11T06:08:21.414600Z",
     "start_time": "2017-04-10T16:43:52.147768+02:00"
    },
    "collapsed": true,
    "hidden": true
   },
   "outputs": [],
   "source": [
    "# loop gridsearch over randomly selected data sample\n",
    "best_score = -10\n",
    "for ii in range(3000):  # increase to search longer, e.g. 200\n",
    "\n",
    "    #n_train = choice([300,500,1000,3000,5000,10000,20000])\n",
    "    n_train = choice([300,500,1000])\n",
    "    bf = mk_clf(np.array(ds[sample(range(ds.shape[0]),n_train),:],dtype=np.float32))\n",
    "\n",
    "    clf = GridSearchCV(OneClassSVM(),param_grid={\"kernel\":['linear', 'poly', 'rbf'],\"coef0\":[0.0,0.5,1.0],\"tol\":[0.001,0.1,0.3,0.5],\"nu\":[0.0001,0.001,0.005,0.01],\"gamma\":[0,7,10,15,50]},scoring=tst2)\n",
    "    clf.fit(X=bf)\n",
    "\n",
    "    t0 = time()\n",
    "    score = tst2(clf.best_estimator_,debug=True,X=bf_full)\n",
    "    t1 = time()\n",
    "    tt = (t1 - t0) / bf_full.shape[0] * 5000**2 / 60\n",
    "    \n",
    "    if clf.best_score_ > best_score:\n",
    "        best_score = clf.best_score_\n",
    "        results.append((clf.best_score_,clf,n_train,bf,score,tt))\n",
    "        print(ii,best_score,clf.best_params_,clf.best_score_,score,n_train,\"nv runtime: %.3f min\" % tt)\n",
    "    elif clf.best_score_ > 0.8 and tt<3:\n",
    "        results.append((clf.best_score_,clf,n_train,bf,score,tt))\n",
    "        print(ii,\"ok result:\",best_score,clf.best_params_,clf.best_score_,score,n_train,\"nv runtime: %.3f min\" % tt)"
   ]
  },
  {
   "cell_type": "code",
   "execution_count": null,
   "metadata": {
    "ExecuteTime": {
     "end_time": "2017-04-11T06:08:26.602816Z",
     "start_time": "2017-04-11T08:08:26.432646+02:00"
    },
    "collapsed": true,
    "hidden": true
   },
   "outputs": [],
   "source": [
    "len(results)"
   ]
  },
  {
   "cell_type": "code",
   "execution_count": null,
   "metadata": {
    "ExecuteTime": {
     "end_time": "2017-04-11T06:08:28.817338Z",
     "start_time": "2017-04-11T08:08:28.766688+02:00"
    },
    "collapsed": true,
    "hidden": true
   },
   "outputs": [],
   "source": [
    "best = sorted([res for res in results if res[-1] < 3.0],key=itemgetter(0))[-1]\n",
    "print(best[0],best[-2],\"time:\",best[-1])"
   ]
  },
  {
   "cell_type": "code",
   "execution_count": null,
   "metadata": {
    "ExecuteTime": {
     "end_time": "2017-04-11T06:08:33.696524Z",
     "start_time": "2017-04-11T08:08:33.649037+02:00"
    },
    "collapsed": true,
    "hidden": true
   },
   "outputs": [],
   "source": [
    "best = sorted(results,key=itemgetter(0))[-1]\n",
    "print(best[0],best[-2])"
   ]
  },
  {
   "cell_type": "code",
   "execution_count": null,
   "metadata": {
    "ExecuteTime": {
     "end_time": "2017-04-07T13:52:47.341554Z",
     "start_time": "2017-04-07T15:52:47.320432+02:00"
    },
    "collapsed": true,
    "hidden": true
   },
   "outputs": [],
   "source": [
    "print(clf_suffix.replace(\"(\",\"\").replace(\")\",\"\").replace(\",\",\"_\"))"
   ]
  },
  {
   "cell_type": "code",
   "execution_count": null,
   "metadata": {
    "ExecuteTime": {
     "end_time": "2017-04-07T13:52:47.374771Z",
     "start_time": "2017-04-07T15:52:47.345387+02:00"
    },
    "collapsed": true,
    "hidden": true
   },
   "outputs": [],
   "source": [
    "output_path = \"/home/gts2/notebooks/cld_mask_dev/\"\n",
    "fn = \"novelty_detector_%.2f_%.2f_%s.json\" % (best[-2][0],best[-2][1],clf_suffix.replace(\"(\",\"\").replace(\")\",\"\").replace(\",\",\"_\"))\n",
    "out_fn = path.join(output_path,fn)"
   ]
  },
  {
   "cell_type": "code",
   "execution_count": null,
   "metadata": {
    "ExecuteTime": {
     "end_time": "2017-04-07T13:53:10.783333Z",
     "start_time": "2017-04-07T15:52:47.377515+02:00"
    },
    "collapsed": true,
    "hidden": true
   },
   "outputs": [],
   "source": [
    "print(\"Write to:%s\" % out_fn)\n",
    "with open(out_fn,\"w\") as fl:\n",
    "    json.dump({\"params\":best[1].best_params_,\n",
    "               \"data\":best[3].tolist(),\n",
    "               \"clf\":{\"id\":mk_clf.classifiers_id,\n",
    "                      \"fk\":mk_clf.classifiers_fk}\n",
    "              },fl,indent=2)\n",
    "print(\"Read to test:%s\" % out_fn)\n",
    "with open(out_fn,\"r\") as fl:\n",
    "    nvc,ncv_clf = (lambda nvc_data:(\n",
    "        OneClassSVM(**nvc_data[\"params\"]).fit(np.array(nvc_data[\"data\"],dtype=np.float)),\n",
    "        nvc_data[\"clf\"]\n",
    "    ))(json.load(fl))\n",
    "print(ncv_clf)\n",
    "print(\"Apply to test data:\")\n",
    "nvc.fit(best[3])\n",
    "print(tst2(nvc,debug=True,X=bf_full))"
   ]
  },
  {
   "cell_type": "markdown",
   "metadata": {},
   "source": [
    "## Random Forrest"
   ]
  },
  {
   "cell_type": "code",
   "execution_count": 11,
   "metadata": {
    "ExecuteTime": {
     "end_time": "2017-04-13T09:20:59.104018Z",
     "start_time": "2017-04-13T11:20:58.481555+02:00"
    },
    "collapsed": true
   },
   "outputs": [],
   "source": [
    "from sklearn.ensemble import RandomForestClassifier\n",
    "from sklearn.metrics import accuracy_score"
   ]
  },
  {
   "cell_type": "code",
   "execution_count": 12,
   "metadata": {
    "ExecuteTime": {
     "end_time": "2017-04-13T09:21:03.398546Z",
     "start_time": "2017-04-13T11:20:59.107264+02:00"
    },
    "collapsed": true
   },
   "outputs": [],
   "source": [
    "dsf = np.load(\"/home/gts2/notebooks/cld_mask_dev/ds.npz\")\n",
    "ds = dsf.items()[0][1]\n",
    "# random data dabed on pdf of\n",
    "ds_rnd = np.abs(np.transpose(np.vstack([np.random.normal(loc=1*mn,scale=1*sd,size=400000) for mn,sd in \n",
    "                                        zip(np.mean(np.array(ds,dtype=np.float),axis=0),np.std(np.array(ds,dtype=np.float),axis=0))])))"
   ]
  },
  {
   "cell_type": "code",
   "execution_count": 13,
   "metadata": {
    "ExecuteTime": {
     "end_time": "2017-04-13T09:21:04.362649Z",
     "start_time": "2017-04-13T11:21:03.402133+02:00"
    },
    "collapsed": false
   },
   "outputs": [
    {
     "data": {
      "text/plain": [
       "<matplotlib.legend.Legend at 0x7fe2e1e10d68>"
      ]
     },
     "execution_count": 13,
     "metadata": {},
     "output_type": "execute_result"
    },
    {
     "data": {
      "image/png": "[encoded data removed]",
      "text/plain": [
       "<matplotlib.figure.Figure at 0x7fe2e212f710>"
      ]
     },
     "metadata": {},
     "output_type": "display_data"
    }
   ],
   "source": [
    "figure(figsize=(15,7))\n",
    "_ = plot(np.transpose(ds[sample(range(ds.shape[0]),1),:]),\"g\",label=\"database\")\n",
    "_ = plot(np.transpose(ds[sample(range(ds.shape[0]),6),:]),\"g\")\n",
    "_ = plot(np.transpose(ds_rnd[sample(range(ds_rnd.shape[0]),1),:]),\"b\",label=\"test spectra\")\n",
    "_ = plot(np.transpose(ds_rnd[sample(range(ds_rnd.shape[0]),6),:]),\"b\")\n",
    "xlabel(\"channel\")\n",
    "ylabel(\"TOA reflectance\")\n",
    "legend()"
   ]
  },
  {
   "cell_type": "code",
   "execution_count": 14,
   "metadata": {
    "ExecuteTime": {
     "end_time": "2017-04-13T09:21:09.432508Z",
     "start_time": "2017-04-13T11:21:04.367173+02:00"
    },
    "collapsed": true
   },
   "outputs": [],
   "source": [
    "ds_rnd = np.abs(np.transpose(np.vstack([np.random.normal(loc=1*mn,scale=1*sd,size=400000) for mn,sd in \n",
    "                                        zip(np.mean(np.array(ds,dtype=np.float),axis=0),np.std(np.array(ds,dtype=np.float),axis=0))])))\n",
    "XX_nodata = mk_clf(ds_rnd)\n",
    "XX_data = mk_clf(np.array(ds[:,:],dtype=np.float32))"
   ]
  },
  {
   "cell_type": "code",
   "execution_count": 15,
   "metadata": {
    "ExecuteTime": {
     "end_time": "2017-04-13T09:21:09.506299Z",
     "start_time": "2017-04-13T11:21:09.435973+02:00"
    },
    "collapsed": true
   },
   "outputs": [],
   "source": [
    "if False:  # remove clear to test novelty detector\n",
    "    ds_rnd = np.abs(np.transpose(np.vstack([np.random.normal(loc=1*mn,scale=1*sd,size=400000) for mn,sd in \n",
    "                                        zip(np.mean(np.array(ds[ds_y != 10,:],dtype=np.float),axis=0),np.std(np.array(ds[ds_y != 10,:],dtype=np.float),axis=0))])))\n",
    "    XX_nodata = mk_clf(ds_rnd)\n",
    "    XX_data = mk_clf(np.array(ds[ds_y != 10,:],dtype=np.float32))"
   ]
  },
  {
   "cell_type": "code",
   "execution_count": 16,
   "metadata": {
    "ExecuteTime": {
     "end_time": "2017-04-13T09:21:09.558541Z",
     "start_time": "2017-04-13T11:21:09.511462+02:00"
    },
    "collapsed": false
   },
   "outputs": [
    {
     "data": {
      "text/plain": [
       "((400000, 5), (3028733, 5))"
      ]
     },
     "execution_count": 16,
     "metadata": {},
     "output_type": "execute_result"
    }
   ],
   "source": [
    "XX_nodata.shape,XX_data.shape"
   ]
  },
  {
   "cell_type": "code",
   "execution_count": 17,
   "metadata": {
    "ExecuteTime": {
     "end_time": "2017-04-13T09:21:09.736081Z",
     "start_time": "2017-04-13T11:21:09.562912+02:00"
    },
    "collapsed": true
   },
   "outputs": [],
   "source": [
    "XX = np.vstack((XX_nodata,XX_data))\n",
    "YY = np.hstack((-1*np.ones(XX_nodata.shape[0]),1*np.ones(XX_data.shape[0])))"
   ]
  },
  {
   "cell_type": "code",
   "execution_count": 18,
   "metadata": {
    "ExecuteTime": {
     "end_time": "2017-04-13T09:21:10.357289Z",
     "start_time": "2017-04-13T11:21:09.740314+02:00"
    },
    "collapsed": true
   },
   "outputs": [],
   "source": [
    "X_train, X_test, y_train, y_test = train_test_split(XX, YY, test_size=0.8, random_state=42)"
   ]
  },
  {
   "cell_type": "code",
   "execution_count": 19,
   "metadata": {
    "ExecuteTime": {
     "end_time": "2017-04-13T09:21:44.173687Z",
     "start_time": "2017-04-13T11:21:10.361228+02:00"
    },
    "collapsed": false
   },
   "outputs": [
    {
     "data": {
      "text/plain": [
       "(0.97749497172243249, 0.6941363549095356)"
      ]
     },
     "execution_count": 19,
     "metadata": {},
     "output_type": "execute_result"
    }
   ],
   "source": [
    "opts = {\"n_estimators\":10,\"max_depth\":10,\"random_state\":42}\n",
    "nv = RandomForestClassifier(**opts)\n",
    "nv.fit(X=X_train,y=y_train)\n",
    "\n",
    "\n",
    "t0 = time()\n",
    "pr = nv.predict(X_test)\n",
    "t1 = time()\n",
    "\n",
    "tt = (t1-t0) / X_test.shape[0]*5000**2 / 60\n",
    "\n",
    "accuracy_score(y_test,nv.predict(X_test)),tt"
   ]
  },
  {
   "cell_type": "code",
   "execution_count": 20,
   "metadata": {
    "ExecuteTime": {
     "end_time": "2017-04-13T09:21:44.232681Z",
     "start_time": "2017-04-13T11:21:44.177123+02:00"
    },
    "collapsed": false
   },
   "outputs": [
    {
     "name": "stdout",
     "output_type": "stream",
     "text": [
      "/home/gts2/notebooks/cld_mask_dev/noclear_novelty_detector_channel2_difference9_0_index10_1_channel12_index1_8.\n"
     ]
    }
   ],
   "source": [
    "output_path = \"/home/gts2/notebooks/cld_mask_dev/\"\n",
    "fn = \"noclear_novelty_detector_%s.\" % (clf_suffix.replace(\"(\",\"\").replace(\")\",\"\").replace(\",\",\"_\"))\n",
    "out_fn = path.join(output_path,fn)\n",
    "print(out_fn)"
   ]
  },
  {
   "cell_type": "code",
   "execution_count": 21,
   "metadata": {
    "ExecuteTime": {
     "end_time": "2017-04-13T09:21:46.030111Z",
     "start_time": "2017-04-13T11:21:44.236780+02:00"
    },
    "collapsed": true
   },
   "outputs": [],
   "source": [
    "import h5py\n",
    "from os import path\n",
    "import pickle\n",
    "import json\n",
    "\n",
    "#save as h5 file\n",
    "h5f = h5py.File(out_fn + \"h5\",\"w\")\n",
    "h5f.create_dataset(name='xx',shape=XX.shape,dtype=np.float16,data=np.array(XX,dtype=np.float16))\n",
    "h5f.create_dataset(name='yy',shape=YY.shape,dtype=np.float16,data=np.array(YY,dtype=np.float16))\n",
    "h5f.attrs[\"clf\"] = json.dumps({\"id\":mk_clf.classifiers_id,\"fk\":mk_clf.classifiers_fk})\n",
    "for k,v in opts.items():\n",
    "    h5f[\"xx\"].attrs[k] = v\n",
    "h5f.close()\n",
    "\n",
    "# save as pickle\n",
    "with open(out_fn + \"pkl\",\"wb\") as fl:\n",
    "    pickle.dump(nv,fl)\n",
    "    pickle.dump({\"id\":mk_clf.classifiers_id,\"fk\":mk_clf.classifiers_fk},fl)"
   ]
  },
  {
   "cell_type": "code",
   "execution_count": 22,
   "metadata": {
    "ExecuteTime": {
     "end_time": "2017-04-13T09:23:38.979784Z",
     "start_time": "2017-04-13T11:21:46.033392+02:00"
    },
    "collapsed": true
   },
   "outputs": [],
   "source": [
    "# retrain from h5 file\n",
    "h5f = h5py.File(out_fn + \"h5\",\"r\")\n",
    "\n",
    "nv = RandomForestClassifier(**dict(h5f[\"xx\"].attrs.items()))\n",
    "nv.fit(X=h5f[\"xx\"],y=h5f[\"yy\"])\n",
    "bf = json.loads(h5f.attrs[\"clf\"])\n",
    "\n",
    "with open(out_fn + \"retrain.pkl\",\"wb\") as fl:\n",
    "    pickle.dump(nv,fl)\n",
    "    pickle.dump({\"id\": [tuple(ids) for ids in bf[\"id\"]],\"fk\":[str(ids) for ids in bf[\"fk\"]]},fl)\n",
    "    \n",
    "h5f.close() "
   ]
  },
  {
   "cell_type": "code",
   "execution_count": null,
   "metadata": {
    "collapsed": true
   },
   "outputs": [],
   "source": []
  },
  {
   "cell_type": "markdown",
   "metadata": {},
   "source": [
    "# Fit Classifier"
   ]
  },
  {
   "cell_type": "code",
   "execution_count": 23,
   "metadata": {
    "ExecuteTime": {
     "end_time": "2017-04-13T09:23:39.037065Z",
     "start_time": "2017-04-13T11:23:38.983583+02:00"
    },
    "collapsed": true
   },
   "outputs": [],
   "source": [
    "clf = ClassicalBayesianFit(fit_method=\"chosen_one\",mk_clf=ToClassifierDef(clf_functions=get_clf_functions(),\n",
    "        classifiers_id=[(2,), (9, 0), (10, 1), (12,), (1, 8)],\n",
    "        classifiers_fk=['channel', 'difference', 'index', 'channel', 'index']))"
   ]
  },
  {
   "cell_type": "code",
   "execution_count": 24,
   "metadata": {
    "ExecuteTime": {
     "end_time": "2017-04-13T09:23:53.351147Z",
     "start_time": "2017-04-13T11:23:39.041090+02:00"
    },
    "collapsed": false
   },
   "outputs": [
    {
     "data": {
      "text/plain": [
       "0.99231257353621616"
      ]
     },
     "execution_count": 24,
     "metadata": {},
     "output_type": "execute_result"
    }
   ],
   "source": [
    "clf.set(xx=clf_data[\"XX_train\"],yy=clf_data[\"YY_train\"],smooth=0.2,n_bins=25)"
   ]
  },
  {
   "cell_type": "code",
   "execution_count": 25,
   "metadata": {
    "ExecuteTime": {
     "end_time": "2017-04-13T09:24:02.973494Z",
     "start_time": "2017-04-13T11:23:53.354622+02:00"
    },
    "collapsed": false
   },
   "outputs": [
    {
     "name": "stdout",
     "output_type": "stream",
     "text": [
      "(0.99042588312974578, 0.99243250496413393)\n",
      "10 Clear 0.980318650422\n",
      "20 Water 1.0\n",
      "30 Shadow 0.986486486486\n",
      "40 Cirrus 0.991902834008\n",
      "50 Cloud 0.997987927565\n",
      "60 Snow 0.997619047619\n"
     ]
    }
   ],
   "source": [
    "print((__test__(clf,xx=clf_data[\"XX_test\"],yy=clf_data[\"YY_test\"]),\n",
    "       __test__(clf,xx=clf_data[\"XX_train\"],yy=clf_data[\"YY_train\"])))\n",
    "for cl in [10,20,30,40,50,60]:\n",
    "    print(cl,class_ids[cl],np.sum(clf.predict(clf_data[\"XX_test\"][clf_data[\"YY_test\"]==cl,:]) == cl) / (np.sum(clf_data[\"YY_test\"]==cl)))"
   ]
  },
  {
   "cell_type": "code",
   "execution_count": 26,
   "metadata": {
    "ExecuteTime": {
     "end_time": "2017-04-13T09:24:23.454081Z",
     "start_time": "2017-04-13T11:24:02.977085+02:00"
    },
    "collapsed": false
   },
   "outputs": [
    {
     "name": "stdout",
     "output_type": "stream",
     "text": [
      "/home/gts2/data/aux_data/cld_mask/cld_mask_S2_classi_20170413_v20170413_11:19:40.h5\n",
      "dict_keys(['clf_to_col', 'mask_legend', 'kwargs_cB', 'kwargs_mk_clf'])\n"
     ]
    }
   ],
   "source": [
    "print(fn_out)\n",
    "write_classical_Bayesian_to_hdf5_file(\n",
    "    clf=clf,filename=fn_out,class_names=class_names,\n",
    "    mask_legend=mask_legend,clf_to_col=clf_to_col,band_names=band_names)\n",
    "data = read_classical_Bayesian_from_hdf5_file(fn_out)\n",
    "print(data.keys())"
   ]
  },
  {
   "cell_type": "markdown",
   "metadata": {},
   "source": [
    "# Modify Data"
   ]
  },
  {
   "cell_type": "code",
   "execution_count": null,
   "metadata": {
    "ExecuteTime": {
     "end_time": "2016-11-24T12:27:44.942242",
     "start_time": "2016-11-24T12:27:44.792077"
    },
    "collapsed": true
   },
   "outputs": [],
   "source": [
    "xx,yy = np.copy(clf_data[\"XX_train\"]), np.copy(clf_data[\"YY_train\"])\n",
    "XX,YY = np.copy(clf_data[\"XX_test\"]), np.copy(clf_data[\"YY_test\"])"
   ]
  },
  {
   "cell_type": "code",
   "execution_count": null,
   "metadata": {
    "ExecuteTime": {
     "end_time": "2016-11-24T12:27:44.963614",
     "start_time": "2016-11-24T12:27:44.944026"
    },
    "collapsed": true
   },
   "outputs": [],
   "source": [
    "def sel(xx,yy):\n",
    "    \n",
    "    ids = (yy == 30) & np.logical_and.reduce((xx[:,0] < 0.2,xx[:,11] < 0.045,xx[:,12] < 0.045)) # xx[:,7] < 0.05\n",
    "    \n",
    "    yys = np.copy(yy)\n",
    "    yys[yys == 30] = 10\n",
    "    yys[ids] = 30\n",
    "    \n",
    "    return yys"
   ]
  },
  {
   "cell_type": "code",
   "execution_count": null,
   "metadata": {
    "ExecuteTime": {
     "end_time": "2016-11-24T12:27:53.226653",
     "start_time": "2016-11-24T12:27:44.964896"
    },
    "collapsed": true
   },
   "outputs": [],
   "source": [
    "dd = 10\n",
    "vp = violinplot(xx[yy == 30,:][::dd,:],positions=np.arange(xx.shape[1]),showmeans=True, showextrema=False, showmedians=False,vert=True)\n",
    "for pc in vp['bodies']:\n",
    "    pc.set_facecolor('0.6')\n",
    "    pc.set_edgecolor(\"None\")\n",
    "    \n",
    "vp = violinplot(xx[sel(xx,yy) == 30,:][::dd,:],positions=np.arange(xx.shape[1]),showmeans=True, showextrema=False, showmedians=False,vert=True)\n",
    "for pc in vp['bodies']:\n",
    "    pc.set_facecolor('red')\n",
    "    pc.set_edgecolor(\"None\")   \n",
    "       \n",
    "    \n",
    "ylim(0.0,0.3) \n",
    "xlim(-1,13)"
   ]
  },
  {
   "cell_type": "code",
   "execution_count": null,
   "metadata": {
    "ExecuteTime": {
     "end_time": "2016-11-24T12:27:53.424193",
     "start_time": "2016-11-24T12:27:53.229348"
    },
    "collapsed": true
   },
   "outputs": [],
   "source": [
    "yys = sel(xx,yy)\n",
    "YYs = sel(XX,YY)"
   ]
  },
  {
   "cell_type": "code",
   "execution_count": null,
   "metadata": {
    "ExecuteTime": {
     "end_time": "2016-11-24T12:27:53.441811",
     "start_time": "2016-11-24T12:27:53.425621"
    },
    "collapsed": true
   },
   "outputs": [],
   "source": [
    "def pp(yy):\n",
    "    return {class_id:np.sum(yy==class_id) for class_id in set(yy)}"
   ]
  },
  {
   "cell_type": "code",
   "execution_count": null,
   "metadata": {
    "ExecuteTime": {
     "end_time": "2016-11-24T12:27:54.804075",
     "start_time": "2016-11-24T12:27:53.443179"
    },
    "collapsed": true
   },
   "outputs": [],
   "source": [
    "print(pp(yy))\n",
    "print(pp(yys))\n",
    "\n",
    "print(pp(YY))\n",
    "print(pp(YYs))"
   ]
  },
  {
   "cell_type": "code",
   "execution_count": null,
   "metadata": {
    "ExecuteTime": {
     "end_time": "2016-11-24T12:28:00.658346",
     "start_time": "2016-11-24T12:27:54.807438"
    },
    "collapsed": true
   },
   "outputs": [],
   "source": [
    "clf = ClassicalBayesianFit(fit_method=\"chosen_one\",mk_clf=ToClassifierDef(clf_functions=get_clf_functions(),\n",
    "        classifiers_id=[(2,), (9, 0), (10, 1), (12,), (1, 8)],\n",
    "        classifiers_fk=['channel', 'difference', 'index', 'channel', 'index']))\n",
    "clf.set(xx=xx,yy=yys,smooth=0.2,n_bins=25)"
   ]
  },
  {
   "cell_type": "code",
   "execution_count": null,
   "metadata": {
    "ExecuteTime": {
     "end_time": "2016-11-24T12:28:09.104192",
     "start_time": "2016-11-24T12:28:00.660499"
    },
    "collapsed": true
   },
   "outputs": [],
   "source": [
    "print((__test__(clf,xx=xx,yy=yys),\n",
    "       __test__(clf,xx=XX,yy=YYs))\n",
    "     )\n",
    "for cl in [10,20,30,40,50,60]:\n",
    "    print(cl,class_ids[cl],np.sum(clf.predict(xx[yys==cl,:]) == cl) / (np.sum(yys==cl)))"
   ]
  },
  {
   "cell_type": "code",
   "execution_count": null,
   "metadata": {
    "ExecuteTime": {
     "end_time": "2016-11-24T12:28:34.065929",
     "start_time": "2016-11-24T12:28:09.106208"
    },
    "collapsed": true
   },
   "outputs": [],
   "source": [
    "fn_out_s = fn_out.replace(suffix,\"%s_mod_shadow\" % suffix)\n",
    "print(fn_out_s)\n",
    "\n",
    "write_classical_Bayesian_to_hdf5_file(\n",
    "    clf=clf,filename=fn_out_s,class_names=class_names,\n",
    "    mask_legend=mask_legend,clf_to_col=clf_to_col,band_names=band_names)\n",
    "data = read_classical_Bayesian_from_hdf5_file(fn_out_s)\n",
    "print(data.keys())"
   ]
  },
  {
   "cell_type": "markdown",
   "metadata": {},
   "source": [
    "# Programatic Modify Data"
   ]
  },
  {
   "cell_type": "code",
   "execution_count": null,
   "metadata": {
    "ExecuteTime": {
     "end_time": "2017-04-03T08:29:31.057528Z",
     "start_time": "2017-04-03T10:29:30.992825+02:00"
    },
    "collapsed": true
   },
   "outputs": [],
   "source": [
    "from os.path import exists\n",
    "from itertools import product"
   ]
  },
  {
   "cell_type": "code",
   "execution_count": null,
   "metadata": {
    "ExecuteTime": {
     "end_time": "2017-04-03T08:29:31.348532Z",
     "start_time": "2017-04-03T10:29:31.063176+02:00"
    },
    "collapsed": true
   },
   "outputs": [],
   "source": [
    "xx,yy = np.copy(clf_data[\"XX_train\"]), np.copy(clf_data[\"YY_train\"])\n",
    "XX,YY = np.copy(clf_data[\"XX_test\"]), np.copy(clf_data[\"YY_test\"])"
   ]
  },
  {
   "cell_type": "code",
   "execution_count": null,
   "metadata": {
    "ExecuteTime": {
     "end_time": "2017-04-03T08:29:31.645175Z",
     "start_time": "2017-04-03T10:29:31.354182+02:00"
    },
    "code_folding": [
     0
    ],
    "collapsed": true
   },
   "outputs": [],
   "source": [
    "def applay_change(changes,id_change=30,id_default=10):\n",
    "    \n",
    "    suffix_ch = \"\".join([\"_%i%s%.3f\" % (c[\"ch\"],{np.less:\"l\"}[c[\"f\"]],c[\"y\"]) for c in changes])\n",
    "    #print(suffix_ch)\n",
    "    suffix_ch = \"_id%s_id%s\" % (id_change, id_default) + suffix_ch\n",
    "    #print(suffix_ch)\n",
    "    #print(fn_out)\n",
    "    fn_out_s = fn_out.replace(suffix,\"%s%s\" % (suffix,suffix_ch))\n",
    "    print(fn_out_s)\n",
    "    #return fn_out_s\n",
    "\n",
    "    if exists(fn_out_s):\n",
    "        return fn_out_s\n",
    "\n",
    "    print(\"%s --> %s\" % (id_change,id_default))\n",
    "    def sel(xx,yy):   \n",
    "        yys = np.copy(yy)\n",
    "        yys[yys == id_change] = id_default    \n",
    "        ids = (yy == id_change) & np.logical_and.reduce(tuple([c[\"f\"](xx[:,c[\"ch\"]],c[\"y\"]) for c in changes]))    \n",
    "        yys[ids] = id_change    \n",
    "        return yys\n",
    "\n",
    "    yys = sel(xx,yy)\n",
    "    YYs = sel(XX,YY)\n",
    "\n",
    "    \n",
    "    fig = figure(figsize=(10,5))\n",
    "    dd = 10\n",
    "    vp = violinplot(xx[yy == id_change,:][::dd,:],positions=np.arange(xx.shape[1]),showmeans=True, showextrema=False, showmedians=False,vert=True)\n",
    "    for pc in vp['bodies']:\n",
    "        pc.set_facecolor('0.6')\n",
    "        pc.set_edgecolor(\"None\")\n",
    "\n",
    "    vp = violinplot(xx[yys == id_change,:][::dd,:],positions=np.arange(xx.shape[1]),showmeans=True, showextrema=False, showmedians=False,vert=True)\n",
    "    for pc in vp['bodies']:\n",
    "        pc.set_facecolor('red')\n",
    "        pc.set_edgecolor(\"None\")   \n",
    "        \n",
    "    \n",
    "    #hlines([c[\"y\"] for c in changes],-1,13,linestyles=\"dotted\")        \n",
    "    for c in changes:\n",
    "        hlines(c[\"y\"],c[\"ch\"]-0.25,c[\"ch\"]+0.25,linestyles=\"solid\",colors=\"b\")\n",
    "\n",
    "\n",
    "    ylim(0.0,0.5) \n",
    "    xlim(-1,13)  \n",
    "    \n",
    "    savefig(fn_out_s.replace(\".h5\",\"_selection.jpg\"))\n",
    "    fig.clf()\n",
    "                  \n",
    "    clf = ClassicalBayesianFit(fit_method=\"chosen_one\",mk_clf=ToClassifierDef(clf_functions=get_clf_functions(),\n",
    "            classifiers_id=[(2,), (9, 0), (10, 1), (12,), (1, 8)],\n",
    "            classifiers_fk=['channel', 'difference', 'index', 'channel', 'index']))\n",
    "    clf.set(xx=xx,yy=yys,smooth=0.2,n_bins=25)\n",
    "\n",
    "    print((__test__(clf,xx=xx,yy=yys),\n",
    "           __test__(clf,xx=XX,yy=YYs))\n",
    "         )\n",
    "    for cl in [10,20,30,40,50,60]:\n",
    "        print(cl,class_ids[cl],np.sum(clf.predict(xx[yys==cl,:]) == cl) / (np.sum(yys==cl)))\n",
    "\n",
    "\n",
    "    write_classical_Bayesian_to_hdf5_file(\n",
    "        clf=clf,filename=fn_out_s,class_names=class_names,\n",
    "        mask_legend=mask_legend,clf_to_col=clf_to_col,band_names=band_names)\n",
    "    data = read_classical_Bayesian_from_hdf5_file(fn_out_s)\n",
    "    print(data.keys())  \n",
    "    \n",
    "    return fn_out_s"
   ]
  },
  {
   "cell_type": "code",
   "execution_count": null,
   "metadata": {
    "ExecuteTime": {
     "end_time": "2017-04-03T08:29:38.255515Z",
     "start_time": "2017-04-03T10:29:31.650805+02:00"
    },
    "collapsed": true
   },
   "outputs": [],
   "source": [
    "from S2MSI import S2Image, CloudMask\n",
    "from glob import glob\n",
    "from S2SCAPEM.options import get_options\n",
    "from os.path import basename\n",
    "import pickle\n",
    "with open(\"./options.pkl\",\"rb\") as fl:\n",
    "    options, = pickle.load(fl)\n",
    "import os"
   ]
  },
  {
   "cell_type": "code",
   "execution_count": null,
   "metadata": {
    "ExecuteTime": {
     "end_time": "2017-04-03T08:30:27.244734Z",
     "start_time": "2017-04-03T10:30:14.152445+02:00"
    },
    "collapsed": true
   },
   "outputs": [],
   "source": [
    "#### The following should be sufficient to cut cloud mask spetra\n",
    "cld_mask_file = applay_change(changes=[{\"ch\":8,\"f\":np.less,\"y\":0.13},\n",
    "                                            {\"ch\":11,\"f\":np.less,\"y\":0.06},\n",
    "                                           {\"ch\":12,\"f\":np.less,\"y\":0.04}],\n",
    "                                       id_change=30,id_default=10    )  \n",
    "####"
   ]
  },
  {
   "cell_type": "code",
   "execution_count": null,
   "metadata": {
    "ExecuteTime": {
     "end_time": "2017-04-03T09:58:42.801195Z",
     "start_time": "2017-04-03T11:58:42.424829+02:00"
    },
    "collapsed": true
   },
   "outputs": [],
   "source": [
    "cld_mask_file=\"\"\n",
    "options = get_options(target=\"/home/gts2/notebooks/gts2_options_ESA_aerosol_ECMWF_v0.10_HD_v1.0.json\")"
   ]
  },
  {
   "cell_type": "code",
   "execution_count": null,
   "metadata": {
    "ExecuteTime": {
     "end_time": "2017-04-03T09:59:42.321062Z",
     "start_time": "2017-04-03T11:58:44.720552+02:00"
    },
    "collapsed": true,
    "scrolled": true
   },
   "outputs": [],
   "source": [
    "#s2img = S2Image(logger=None,driver=\"gdal_JP2KAK\",S2_MSI_granule_path=\"/home/gts2/data/S2_AC_FS_2/35V/LJ/2016/S2A_OPER_PRD_MSIL1C_PDMC_20160330T142613_R122_V20160327T100012_20160327T100012.SAFE/GRANULE/S2A_OPER_MSI_L1C_TL_SGS__20160327T140224_A003980_T35VLJ_N02.01/\")\n",
    "#s2img = S2Image(logger=None,driver=\"gdal_JP2KAK\",S2_MSI_granule_path=\"/home/gts2/data/S2_AC_FS_2/32T/MR/2016/S2A_OPER_PRD_MSIL1C_PDMC_20160624T193752_R108_V20160624T103721_20160624T103721.SAFE/GRANULE/S2A_OPER_MSI_L1C_TL_SGS__20160624T173213_A005253_T32TMR_N02.04\")\n",
    "#s2img = S2Image(logger=None,driver=\"gdal_JP2KAK\",,S2_MSI_granule_path=\"/home/gts2/data/S2_AC_FS_2/32T/MR/2016/S2A_MSIL1C_20161228T102432_N0204_R065_T32TMR_20161228T102428.SAFE/GRANULE/L1C_T32TMR_A007927_20161228T102428\")\n",
    "s2img = S2Image(logger=None,driver=\"gdal_JP2KAK\",S2_MSI_granule_path=\"/home/gts2/data/S2_AC_FS_2/35V/LJ/2016/S2A_OPER_PRD_MSIL1C_PDMC_20160901T191510_R079_V20160831T095032_20160831T095217.SAFE/GRANULE/S2A_OPER_MSI_L1C_TL_MPS__20160831T133451_A006225_T35VLJ_N02.04\")\n",
    "#s2img = S2Image(logger=None,driver=\"gdal_JP2KAK\",S2_MSI_granule_path=\"/home/gts2/data/S2_AC_FS_2/32T/NR/2016/S2A_OPER_PRD_MSIL1C_PDMC_20160323T192233_R065_V20160323T102143_20160323T102143.SAFE/GRANULE/S2A_OPER_MSI_L1C_TL_SGS__20160323T160631_A003923_T32TNR_N02.01\")\n",
    "#s2img = S2Image(logger=None,driver=\"gdal_JP2KAK\",S2_MSI_granule_path=\"/home/gts2/data/S2_AC_FS_2/36R/XV/2016/S2A_OPER_PRD_MSIL1C_PDMC_20161023T185504_R121_V20161023T082012_20161023T082012.SAFE/GRANULE/S2A_OPER_MSI_L1C_TL_SGS__20161023T135300_A006982_T36RXV_N02.04\")"
   ]
  },
  {
   "cell_type": "code",
   "execution_count": null,
   "metadata": {
    "ExecuteTime": {
     "end_time": "2017-04-03T09:59:42.584558Z",
     "start_time": "2017-04-03T11:59:42.326302+02:00"
    },
    "collapsed": true
   },
   "outputs": [],
   "source": [
    "mask_clouds = {}\n",
    "fn_out = (\"/home/gts2/data/aux_data/cld_mask/cld_mask_\" + path.basename(fn_mc)).replace(\".dill\", \".h5\")\n",
    "fn_out = fn_out.replace(\"/home/gts2/data/aux_data/cld_mask\",\"/home/gts2/notebooks/cld_mask\")"
   ]
  },
  {
   "cell_type": "code",
   "execution_count": null,
   "metadata": {
    "ExecuteTime": {
     "end_time": "2017-04-03T10:02:23.344493Z",
     "start_time": "2017-04-03T11:59:42.590288+02:00"
    },
    "collapsed": true,
    "scrolled": false
   },
   "outputs": [],
   "source": [
    "if True:\n",
    "    #############\n",
    "    #Attention! The band numbers start with 0 and band 8 is actually band 8a\n",
    "    ###########\n",
    "    #\"\"\"\n",
    "    cld_mask_file = applay_change(changes=[{\"ch\":6,\"f\":np.less,\"y\":0.8}],\n",
    "                                  id_change=30,id_default=10    )\n",
    "    fn_out=cld_mask_file \n",
    "    \"\"\"\n",
    "    cld_mask_file = applay_change(changes=[{\"ch\":8,\"f\":np.less,\"y\":0.15},\n",
    "                                            {\"ch\":11,\"f\":np.less,\"y\":0.09},\n",
    "                                           {\"ch\":12,\"f\":np.less,\"y\":0.07}],\n",
    "                                  id_change=30,id_default=10    )  \n",
    "    \"\"\"\n",
    "    bn = basename(cld_mask_file)\n",
    "    if bn not in mask_clouds:\n",
    "        print(bn)        \n",
    "        CldMsk = CloudMask(logger=None, persistence_file=cld_mask_file,\n",
    "                           processing_tiles=options[\"cld_mask\"][\"processing_tiles\"])\n",
    "\n",
    "        mask_clouds[bn] = CldMsk(S2_img=s2img, target_resolution=options[\"cld_mask\"][\"target_resolution\"],\n",
    "                                 majority_filter_options=options[\"cld_mask\"][\"majority_mask_filter\"],\n",
    "                                 nodata_value=options[\"cld_mask\"]['nodata_value_mask'])  \n",
    "        #out_name = os.path.join(\"/home/gts2/notebooks/cld_mask\",\"35VJL_20160327_\" + os.path.basename(bn)).replace(\".h5\",\".jpg\")\n",
    "        #out_name = os.path.join(\"/home/gts2/notebooks/cld_mask\",\"35VJL_20160831_\" + os.path.basename(bn)).replace(\".h5\",\".jpg\")\n",
    "        #out_name = os.path.join(\"/home/gts2/notebooks/cld_mask\",\"32TMR_20160624_\" + os.path.basename(bn)).replace(\".h5\",\".jpg\")\n",
    "        #out_name = os.path.join(\"/home/gts2/notebooks/cld_mask\",\"32TMR_20161228_\" + os.path.basename(bn)).replace(\".h5\",\".jpg\")\n",
    "        #out_name = os.path.join(\"/home/gts2/notebooks/cld_mask\",\"32TNR_20160323_\" + os.path.basename(bn)).replace(\".h5\",\".jpg\")\n",
    "        #out_name = os.path.join(\"/home/gts2/notebooks/cld_mask\",\"36RXV_20161023_\" + os.path.basename(bn)).replace(\".h5\",\".jpg\")\n",
    "        \n",
    "        #out_name = os.path.join(\"/home/gts2/notebooks/cld_mask\",\"35VJL_20160327_cld_mask_S2_classi_20160330_original.jpg\")\n",
    "        out_name = os.path.join(\"/home/gts2/notebooks/cld_mask\",\"35VJL_20160831_cld_mask_S2_classi_20160330_original.jpg\")\n",
    "        #out_name = os.path.join(\"/home/gts2/notebooks/cld_mask\",\"32TMR_20160624_cld_mask_S2_classi_20160330_original.jpg\")\n",
    "        #out_name = os.path.join(\"/home/gts2/notebooks/cld_mask\",\"32TMR_20161228_cld_mask_S2_classi_20160330_original.jpg\")\n",
    "        #out_name = os.path.join(\"/home/gts2/notebooks/cld_mask\",\"32TNR_20160323_cld_mask_S2_classi_20160330_original.jpg\")\n",
    "\n",
    "        print(out_name)\n",
    "        mask_clouds[bn].export_mask_rgb(fn_img=out_name,rgb_img=mask_clouds[bn].mask_rgb_array()) "
   ]
  },
  {
   "cell_type": "code",
   "execution_count": null,
   "metadata": {
    "ExecuteTime": {
     "end_time": "2017-03-31T11:40:15.711896Z",
     "start_time": "2017-03-31T13:38:29.289241+02:00"
    },
    "collapsed": true
   },
   "outputs": [],
   "source": [
    "# Test majority_mask_filter\n",
    "from S2MSI.Tools import majority_mask_filter\n",
    "CldMsk = CloudMask(logger=None, persistence_file=\"/home/gts2/data/aux_data/cld_mask/cld_mask_S2_classi_20170330_id30_id10_8l0.130_11l0.045_12l0.025.h5\",\n",
    "                           processing_tiles=options[\"cld_mask\"][\"processing_tiles\"])\n",
    "\n",
    "ccmm = CldMsk(S2_img=s2img, target_resolution=options[\"cld_mask\"][\"target_resolution\"],\n",
    "                                 majority_filter_options=options[\"cld_mask\"][\"majority_mask_filter\"],\n",
    "                                 nodata_value=options[\"cld_mask\"]['nodata_value_mask'])  \n"
   ]
  },
  {
   "cell_type": "code",
   "execution_count": null,
   "metadata": {
    "ExecuteTime": {
     "end_time": "2017-03-31T11:43:15.329023Z",
     "start_time": "2017-03-31T13:43:15.081050+02:00"
    },
    "collapsed": true
   },
   "outputs": [],
   "source": [
    "%matplotlib notebook\n",
    "import pylab as plt"
   ]
  },
  {
   "cell_type": "code",
   "execution_count": null,
   "metadata": {
    "ExecuteTime": {
     "end_time": "2017-03-31T11:45:11.908577Z",
     "start_time": "2017-03-31T13:45:11.324101+02:00"
    },
    "collapsed": true
   },
   "outputs": [],
   "source": [
    "ffccmm =majority_mask_filter(ccmm.mask_array, majority_width=5, block_replace=True, block_replace_params=((50, 5),(30,5)), nodata_value=255)\n",
    "ffccmm2=majority_mask_filter(ccmm.mask_array, majority_width=5, block_replace=True, block_replace_params=((50, 5),), nodata_value=255)"
   ]
  },
  {
   "cell_type": "code",
   "execution_count": null,
   "metadata": {
    "collapsed": true
   },
   "outputs": [],
   "source": [
    "plt.imshow(ffccmm, interpolation=\"none\", vmin=0, vmax=60)"
   ]
  },
  {
   "cell_type": "code",
   "execution_count": null,
   "metadata": {
    "ExecuteTime": {
     "end_time": "2017-03-31T11:45:23.811266Z",
     "start_time": "2017-03-31T13:45:23.218859+02:00"
    },
    "collapsed": true
   },
   "outputs": [],
   "source": [
    "plt.imshow(ffccmm2, interpolation=\"none\", vmin=0, vmax=60)"
   ]
  },
  {
   "cell_type": "code",
   "execution_count": null,
   "metadata": {
    "ExecuteTime": {
     "end_time": "2017-03-31T11:35:53.297006Z",
     "start_time": "2017-03-31T13:35:52.142079+02:00"
    },
    "collapsed": true
   },
   "outputs": [],
   "source": [
    "import pickle\n",
    "with open(\"/home/gts2/notebooks/cld_mask_tmp.pkl\", \"wb\") as f:\n",
    "    pickle.dump(ccmm.mask_array,f)"
   ]
  },
  {
   "cell_type": "code",
   "execution_count": null,
   "metadata": {
    "collapsed": true
   },
   "outputs": [],
   "source": [
    "if False:\n",
    "    for ii in np.linspace(0.1,0.2,5):\n",
    "        cld_mask_file = applay_change(changes=[{\"ch\":8,\"f\":np.less,\"y\":ii}],\n",
    "                      id_change=30,id_default=10\n",
    "                 )\n",
    "       \n",
    "        \n",
    "        bn = basename(cld_mask_file)\n",
    "        if bn not in mask_clouds:\n",
    "            print(bn)        \n",
    "            CldMsk = CloudMask(logger=None, persistence_file=cld_mask_file,\n",
    "                               processing_tiles=options[\"cld_mask\"][\"processing_tiles\"])\n",
    "\n",
    "            mask_clouds[bn] = CldMsk(S2_img=s2img, target_resolution=options[\"cld_mask\"][\"target_resolution\"],\n",
    "                                     majority_filter_options=options[\"cld_mask\"][\"majority_mask_filter\"],\n",
    "                                     nodata_value=options[\"cld_mask\"]['nodata_value_mask'])        \n",
    "            print(bn.replace(\".h5\",\".jpg\"))\n",
    "            mask_clouds[bn].export_mask_rgb(fn_img=bn.replace(\".h5\",\".jpg\"),rgb_img=mask_clouds[bn].mask_rgb_array())"
   ]
  },
  {
   "cell_type": "code",
   "execution_count": null,
   "metadata": {
    "ExecuteTime": {
     "end_time": "2017-03-29T13:24:17.516494Z",
     "start_time": "2017-03-29T15:24:17.131338+02:00"
    },
    "collapsed": true
   },
   "outputs": [],
   "source": [
    "bn.replace(\".h5\",\".jpg\")"
   ]
  },
  {
   "cell_type": "code",
   "execution_count": null,
   "metadata": {
    "collapsed": true
   },
   "outputs": [],
   "source": []
  },
  {
   "cell_type": "code",
   "execution_count": null,
   "metadata": {
    "collapsed": true
   },
   "outputs": [],
   "source": []
  },
  {
   "cell_type": "code",
   "execution_count": null,
   "metadata": {
    "collapsed": true
   },
   "outputs": [],
   "source": []
  },
  {
   "cell_type": "code",
   "execution_count": null,
   "metadata": {
    "ExecuteTime": {
     "end_time": "2016-11-24T21:50:57.430298",
     "start_time": "2016-11-24T16:44:56.916611"
    },
    "collapsed": true,
    "scrolled": true
   },
   "outputs": [],
   "source": [
    "for i8,i11,i12 in product(np.linspace(0.12,0.18,5), # i8\n",
    "                          np.linspace(0.035,0.055,5),  # i11\n",
    "                          np.linspace(0.02,0.03,5)): # i12\n",
    "    cld_mask_file = applay_change(changes=[{\"ch\":8,\"f\":np.less,\"y\":i8},\n",
    "                                           {\"ch\":11,\"f\":np.less,\"y\":i11},\n",
    "                                           {\"ch\":12,\"f\":np.less,\"y\":i12}],\n",
    "                                  id_change=30,id_default=10\n",
    "             )\n",
    "    \n",
    "    bn = basename(cld_mask_file)\n",
    "    if bn not in mask_clouds:\n",
    "        print(bn)        \n",
    "        CldMsk = CloudMask(logger=None, persistence_file=cld_mask_file,\n",
    "                           processing_tiles=options[\"cld_mask\"][\"processing_tiles\"])\n",
    "\n",
    "        mask_clouds[bn] = CldMsk(S2_img=s2img, target_resolution=options[\"cld_mask\"][\"target_resolution\"],\n",
    "                                 majority_filter_options=options[\"cld_mask\"][\"majority_mask_filter\"],\n",
    "                                 nodata_value=options[\"cld_mask\"]['nodata_value_mask'])  \n",
    "        print(bn.replace(\".h5\",\".jpg\"))\n",
    "        mask_clouds[bn].export_mask_rgb(fn_img=bn.replace(\".h5\",\".jpg\"),rgb_img=mask_clouds[bn].mask_rgb_array())    "
   ]
  },
  {
   "cell_type": "code",
   "execution_count": null,
   "metadata": {
    "ExecuteTime": {
     "end_time": "2016-11-25T08:50:49.055179",
     "start_time": "2016-11-25T08:50:48.866220"
    },
    "collapsed": true
   },
   "outputs": [],
   "source": [
    "len(mask_clouds.keys())"
   ]
  },
  {
   "cell_type": "code",
   "execution_count": null,
   "metadata": {
    "collapsed": true
   },
   "outputs": [],
   "source": []
  }
 ],
 "metadata": {
  "anaconda-cloud": {},
  "kernelspec": {
   "display_name": "Python 3",
   "language": "python",
   "name": "python3"
  },
  "language_info": {
   "codemirror_mode": {
    "name": "ipython",
    "version": 3
   },
   "file_extension": ".py",
   "mimetype": "text/x-python",
   "name": "python",
   "nbconvert_exporter": "python",
   "pygments_lexer": "ipython3",
   "version": "3.6.0"
  },
  "nav_menu": {},
  "toc": {
   "navigate_menu": true,
   "number_sections": true,
   "sideBar": true,
   "threshold": 4,
   "toc_cell": false,
   "toc_section_display": "block",
   "toc_window_display": false
  }
 },
 "nbformat": 4,
 "nbformat_minor": 1
}
