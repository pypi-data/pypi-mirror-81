{
 "cells": [
  {
   "cell_type": "markdown",
   "metadata": {
    "nbsphinx": "hidden"
   },
   "source": [
    "![CoSAppLogo](images/cosapp.svg) **CoSApp** tutorials:"
   ]
  },
  {
   "cell_type": "markdown",
   "metadata": {},
   "source": [
    "# Ports\n",
    "\n",
    "## What is a `Port`?!\n",
    "\n",
    "A `Port` object is a collection of variables that help basic use: check compatibility, plug, etc.\n",
    "Without this object, connections between `Systems` should be done variable-by-variable, *outch!*"
   ]
  },
  {
   "cell_type": "markdown",
   "metadata": {},
   "source": [
    "![Connected ports](images/ports_1.svg)"
   ]
  },
  {
   "cell_type": "markdown",
   "metadata": {},
   "source": [
    "## Types\n",
    "\n",
    "### `IN` or `OUT`\n",
    "\n",
    "Ports are directional objects, they can be either `IN` or `OUT`. This definition ensure compatibility at connection.\n",
    "\n",
    "### Available ports and compatibility\n",
    "\n",
    "<font color='orange'>**CoSApp**</font> allow user-defined ports, stored in libraries or created on-the-fly. They allow a frozen collection of variables that can be shared between multiple systems. They are compatible by construction (see [Ports connection](#Ports-connection) section of this tutorial).\n",
    "\n",
    "## Create a port\n",
    "\n",
    "### Import CoSApp core package"
   ]
  },
  {
   "cell_type": "code",
   "execution_count": null,
   "metadata": {},
   "outputs": [],
   "source": [
    "# import cosapp or cosapp base classes depending your usage\n",
    "from cosapp.systems import System\n",
    "from cosapp.ports import Port"
   ]
  },
  {
   "cell_type": "markdown",
   "metadata": {},
   "source": [
    "#### Define a new port"
   ]
  },
  {
   "cell_type": "code",
   "execution_count": null,
   "metadata": {},
   "outputs": [],
   "source": [
    "class DemoPort(Port):\n",
    "    \n",
    "    def setup(self):\n",
    "        self.add_variable('a', 1)\n",
    "        self.add_variable('b', 2)\n",
    "        self.add_variable('c', 3)"
   ]
  },
  {
   "cell_type": "markdown",
   "metadata": {},
   "source": [
    "#### Use it in a system\n",
    "\n",
    "Create a new `System` where the `DemoPort` is used"
   ]
  },
  {
   "cell_type": "code",
   "execution_count": null,
   "metadata": {},
   "outputs": [],
   "source": [
    "class DemoSystem(System):\n",
    "\n",
    "    def setup(self):\n",
    "        self.add_input(DemoPort, 'p_in')\n",
    "        self.add_output(DemoPort, 'p_out') \n",
    "\n",
    "    def compute(self):\n",
    "        self.p_out.a = self.p_in.c\n",
    "        self.p_out.b = self.p_in.b\n",
    "        self.p_out.c = self.p_in.a\n",
    "\n",
    "s = DemoSystem(name='demo')"
   ]
  },
  {
   "cell_type": "markdown",
   "metadata": {},
   "source": [
    "![Port-DemoSystem](images/ports_2.svg)\n",
    "\n",
    "Run the system to confirm the expected behaviour"
   ]
  },
  {
   "cell_type": "code",
   "execution_count": null,
   "metadata": {},
   "outputs": [],
   "source": [
    "s.run_once()\n",
    "print('s.p_in')\n",
    "s.p_in"
   ]
  },
  {
   "cell_type": "code",
   "execution_count": null,
   "metadata": {},
   "outputs": [],
   "source": [
    "print('s.p_out')\n",
    "s.p_out"
   ]
  },
  {
   "cell_type": "markdown",
   "metadata": {},
   "source": [
    "#### Set information on the variables\n",
    "\n",
    "All variables in **CoSApp** accept some additional informations:\n",
    "\n",
    "- *unit*: Physical unit of the variable - given by a string. Units *are not enforced* inside a `System`.\n",
    "This means that the user must ensure the computed variables in method `compute` are converted to the user\n",
    "specified unit set in `setup`. **CoSApp** will take care of unit conversion between connected `System`s.\n",
    "- *desc*: Short description of the variable.\n",
    "- *dtype*: If you need to force certain data type(s) on a variable, a tuple of acceptable types can be provided\n",
    "through this keyword. If that information is not supplied, dtype is inferred from the variable value; e.g.\n",
    "a number (integer or floating point) will be typed as `Number`."
   ]
  },
  {
   "cell_type": "code",
   "execution_count": null,
   "metadata": {},
   "outputs": [],
   "source": [
    "class AdvancedDemoPort(Port):\n",
    "    \n",
    "    def setup(self):\n",
    "        self.add_variable('a', 1., unit='degK', dtype=float, desc='Temperature')\n",
    "        self.add_variable('b', 2, unit='Pa', dtype=(int, float), desc='Pressure')\n",
    "        self.add_variable('c', 3, unit='kg/s', desc='Mass flow')\n",
    "\n",
    "class AdvancedDemoSystem(System):\n",
    "\n",
    "    def setup(self):\n",
    "        self.add_input(AdvancedDemoPort, 'p_in')\n",
    "        self.add_output(AdvancedDemoPort, 'p_out') \n",
    "\n",
    "    def compute(self):\n",
    "        self.p_out.a = self.p_in.c\n",
    "        self.p_out.b = self.p_in.b\n",
    "        self.p_out.c = self.p_in.a\n",
    "\n",
    "advanced_s = AdvancedDemoSystem(name='demo')\n",
    "print('Output port')\n",
    "advanced_s.p_out"
   ]
  },
  {
   "cell_type": "markdown",
   "metadata": {},
   "source": [
    "## Ports connection\n",
    "\n",
    "### Introduction\n",
    "\n",
    "Ports connection consists to create a reference in a `Port` to another to allow the transfer of information between systems when needed. The object used to connect 2 ports is called a `Connector`.\n",
    "\n",
    "![Port-Connection](images/ports_3.svg)\n",
    "\n",
    "If you want to connect all port variables at once, use the `connect` method of `Port`:"
   ]
  },
  {
   "cell_type": "code",
   "execution_count": null,
   "metadata": {},
   "outputs": [],
   "source": [
    "h = System('head')\n",
    "h.add_child(DemoSystem('demo1'))\n",
    "h.add_child(DemoSystem('demo2'))\n",
    "\n",
    "h.connect(h.demo2.p_in, h.demo1.p_out)"
   ]
  },
  {
   "cell_type": "markdown",
   "metadata": {},
   "source": [
    "If you need to connect a subset of the `Port` or connect to some inwards or outwards, use the `connect` method of `Port`:"
   ]
  },
  {
   "cell_type": "code",
   "execution_count": null,
   "metadata": {},
   "outputs": [],
   "source": [
    "class MonitorSystem(System):\n",
    "\n",
    "    def setup(self):\n",
    "        self.add_inward('a')\n",
    "        self.add_outward('result')\n",
    "\n",
    "    def compute(self):\n",
    "        self.result = self.a\n",
    "\n",
    "h.add_child(MonitorSystem('monitor1'))\n",
    "h.connect(h.monitor1.inwards, h.demo1.p_out, 'a')\n",
    "\n",
    "h.demo1.p_in.a = 50.\n",
    "h.demo1.p_in.c = 25.\n",
    "h.run_drivers()\n",
    "\n",
    "print('h.demo1.p_in')\n",
    "h.demo1.p_in"
   ]
  },
  {
   "cell_type": "code",
   "execution_count": null,
   "metadata": {},
   "outputs": [],
   "source": [
    "print('h.demo2.p_in')\n",
    "h.demo2.p_in"
   ]
  },
  {
   "cell_type": "code",
   "execution_count": null,
   "metadata": {},
   "outputs": [],
   "source": [
    "print('h.monitor1.outwards')\n",
    "h.monitor1.outwards"
   ]
  },
  {
   "cell_type": "markdown",
   "metadata": {},
   "source": [
    "**Congrats!** Now you have the basic of `Port` in **CoSApp**\n",
    "\n",
    "Next you will discover how to solve mathematical problem using [Drivers](03-Drivers.ipynb)."
   ]
  }
 ],
 "metadata": {
  "language_info": {
   "name": "python",
   "pygments_lexer": "ipython3"
  }
 },
 "nbformat": 4,
 "nbformat_minor": 4
}
