{
 "cells": [
  {
   "cell_type": "code",
   "execution_count": 1,
   "metadata": {},
   "outputs": [
    {
     "name": "stdout",
     "output_type": "stream",
     "text": [
      "['/Users/tareen/Desktop/Research_Projects/2020_mavenn_github/mavenn/mavenn']\n"
     ]
    }
   ],
   "source": [
    "# Standard imports\n",
    "import pandas as pd\n",
    "import matplotlib.pyplot as plt\n",
    "import numpy as np\n",
    "import time\n",
    "\n",
    "# Insert path to mavenn beginning of path\n",
    "import os\n",
    "import sys\n",
    "abs_path_to_mavenn = os.path.abspath('../../../')\n",
    "sys.path.insert(0, abs_path_to_mavenn)\n",
    "\n",
    "# Load mavenn\n",
    "import mavenn\n",
    "print(mavenn.__path__)"
   ]
  },
  {
   "cell_type": "code",
   "execution_count": 2,
   "metadata": {},
   "outputs": [
    {
     "data": {
      "text/html": [
       "<div>\n",
       "<style scoped>\n",
       "    .dataframe tbody tr th:only-of-type {\n",
       "        vertical-align: middle;\n",
       "    }\n",
       "\n",
       "    .dataframe tbody tr th {\n",
       "        vertical-align: top;\n",
       "    }\n",
       "\n",
       "    .dataframe thead th {\n",
       "        text-align: right;\n",
       "    }\n",
       "</style>\n",
       "<table border=\"1\" class=\"dataframe\">\n",
       "  <thead>\n",
       "    <tr style=\"text-align: right;\">\n",
       "      <th></th>\n",
       "      <th>training_set</th>\n",
       "      <th>y</th>\n",
       "      <th>dy</th>\n",
       "      <th>x</th>\n",
       "    </tr>\n",
       "  </thead>\n",
       "  <tbody>\n",
       "    <tr>\n",
       "      <th>0</th>\n",
       "      <td>False</td>\n",
       "      <td>-3.751854</td>\n",
       "      <td>0.444200</td>\n",
       "      <td>AAAGCAAAA</td>\n",
       "    </tr>\n",
       "    <tr>\n",
       "      <th>1</th>\n",
       "      <td>True</td>\n",
       "      <td>-2.697741</td>\n",
       "      <td>0.369972</td>\n",
       "      <td>AAAGCAAAC</td>\n",
       "    </tr>\n",
       "    <tr>\n",
       "      <th>2</th>\n",
       "      <td>True</td>\n",
       "      <td>-2.242947</td>\n",
       "      <td>0.575121</td>\n",
       "      <td>AAAGCAAAG</td>\n",
       "    </tr>\n",
       "    <tr>\n",
       "      <th>3</th>\n",
       "      <td>False</td>\n",
       "      <td>-3.067251</td>\n",
       "      <td>0.357014</td>\n",
       "      <td>AAAGCAAAT</td>\n",
       "    </tr>\n",
       "    <tr>\n",
       "      <th>4</th>\n",
       "      <td>False</td>\n",
       "      <td>-2.987074</td>\n",
       "      <td>0.472637</td>\n",
       "      <td>AAAGCAACA</td>\n",
       "    </tr>\n",
       "  </tbody>\n",
       "</table>\n",
       "</div>"
      ],
      "text/plain": [
       "   training_set         y        dy          x\n",
       "0         False -3.751854  0.444200  AAAGCAAAA\n",
       "1          True -2.697741  0.369972  AAAGCAAAC\n",
       "2          True -2.242947  0.575121  AAAGCAAAG\n",
       "3         False -3.067251  0.357014  AAAGCAAAT\n",
       "4         False -2.987074  0.472637  AAAGCAACA"
      ]
     },
     "execution_count": 2,
     "metadata": {},
     "output_type": "execute_result"
    }
   ],
   "source": [
    "# Load example data\n",
    "data_df = mavenn.load_example_dataset('mpsa')\n",
    "data_df.head()"
   ]
  },
  {
   "cell_type": "code",
   "execution_count": 3,
   "metadata": {},
   "outputs": [
    {
     "name": "stdout",
     "output_type": "stream",
     "text": [
      "training N: 17,498\n",
      "testing N: 4,431\n"
     ]
    }
   ],
   "source": [
    "# Split into trianing and test data\n",
    "ix = data_df['training_set']\n",
    "L = len(data_df['x'][0])\n",
    "train_df = data_df[ix]\n",
    "print(f'training N: {len(train_df):,}')\n",
    "test_df = data_df[~ix]\n",
    "print(f'testing N: {len(test_df):,}')"
   ]
  },
  {
   "cell_type": "code",
   "execution_count": 4,
   "metadata": {
    "collapsed": true
   },
   "outputs": [],
   "source": [
    "# Set seeed\n",
    "mavenn.set_seed(0)\n",
    "\n",
    "# Define model\n",
    "model = mavenn.Model(regression_type='GE',\n",
    "                     L=L,\n",
    "                     alphabet='dna',\n",
    "                     gpmap_type='pairwise',                     \n",
    "                     ge_noise_model_type='SkewedT',\n",
    "                     ge_heteroskedasticity_order=2)\n"
   ]
  },
  {
   "cell_type": "code",
   "execution_count": 5,
   "metadata": {},
   "outputs": [
    {
     "name": "stdout",
     "output_type": "stream",
     "text": [
      "N = 17,498 observations set as training data.\n",
      "Data shuffled.\n",
      "Time to set data: 0.325 sec.\n"
     ]
    }
   ],
   "source": [
    "# Set training data\n",
    "model.set_data(x=train_df['x'],\n",
    "               y=train_df['y'],\n",
    "               shuffle=True)"
   ]
  },
  {
   "cell_type": "code",
   "execution_count": 6,
   "metadata": {
    "scrolled": true
   },
   "outputs": [
    {
     "name": "stdout",
     "output_type": "stream",
     "text": [
      " \n",
      "LSMR            Least-squares solution of  Ax = b\n",
      "\n",
      "The matrix A has    17498 rows  and       36 cols\n",
      "damp = 0.00000000000000e+00\n",
      "\n",
      "atol = 1.00e-06                 conlim = 1.00e+08\n",
      "\n",
      "btol = 1.00e-06             maxiter =       36\n",
      "\n",
      " \n",
      "   itn      x(1)       norm r    norm Ar  compatible   LS      norm A   cond A\n",
      "     0  0.00000e+00  1.323e+02  4.299e+03   1.0e+00  2.5e-01\n",
      "     1  2.19200e-02  1.200e+02  1.397e+03   9.1e-01  1.5e-01  7.7e+01  1.0e+00\n",
      "     2  2.59784e-02  1.186e+02  7.118e+02   9.0e-01  5.2e-02  1.1e+02  1.1e+00\n",
      "     3  2.96533e-02  1.184e+02  2.279e+02   9.0e-01  7.5e-03  2.6e+02  2.4e+00\n",
      "     4  3.10860e-02  1.183e+02  5.410e+01   8.9e-01  1.7e-03  2.7e+02  3.1e+00\n",
      "     5  3.20917e-02  1.183e+02  1.251e+01   8.9e-01  3.7e-04  2.8e+02  3.4e+00\n",
      "     6  3.22692e-02  1.183e+02  1.248e+00   8.9e-01  3.7e-05  2.9e+02  3.5e+00\n",
      "     7  3.22536e-02  1.183e+02  2.542e-01   8.9e-01  7.2e-06  3.0e+02  3.5e+00\n",
      "     8  3.22424e-02  1.183e+02  6.790e-02   8.9e-01  1.9e-06  3.0e+02  3.5e+00\n",
      "     9  3.22416e-02  1.183e+02  1.024e-02   8.9e-01  2.8e-07  3.1e+02  3.5e+00\n",
      " \n",
      "LSMR finished\n",
      "The least-squares solution is good enough, given atol     \n",
      "istop =       2    normr = 1.2e+02\n",
      "    normA = 3.1e+02    normAr = 1.0e-02\n",
      "itn   =       9    condA = 3.5e+00\n",
      "    normx = 8.5e-01\n",
      "     9  3.22416e-02   1.183e+02  1.024e-02\n",
      "   8.9e-01  2.8e-07   3.1e+02  3.5e+00\n",
      "Linear regression time: 0.0299 sec\n",
      "Epoch 1/1000\n",
      "70/70 [==============================] - 0s 7ms/step - loss: 231.3641 - I_like: -0.3840 - val_loss: 193.2534 - val_I_like: -0.1322\n",
      "Epoch 2/1000\n",
      "70/70 [==============================] - 0s 3ms/step - loss: 181.4127 - I_like: -0.0319 - val_loss: 162.8758 - val_I_like: 0.0858\n",
      "Epoch 3/1000\n",
      "70/70 [==============================] - 0s 2ms/step - loss: 160.3654 - I_like: 0.1193 - val_loss: 153.3323 - val_I_like: 0.1552\n",
      "Epoch 4/1000\n",
      "70/70 [==============================] - 0s 3ms/step - loss: 154.3996 - I_like: 0.1612 - val_loss: 150.8741 - val_I_like: 0.1723\n",
      "Epoch 5/1000\n",
      "70/70 [==============================] - 0s 2ms/step - loss: 152.1857 - I_like: 0.1768 - val_loss: 148.6830 - val_I_like: 0.1880\n",
      "Epoch 6/1000\n",
      "70/70 [==============================] - 0s 2ms/step - loss: 151.2848 - I_like: 0.1832 - val_loss: 148.5081 - val_I_like: 0.1891\n",
      "Epoch 7/1000\n",
      "70/70 [==============================] - 0s 3ms/step - loss: 150.5058 - I_like: 0.1891 - val_loss: 147.8212 - val_I_like: 0.1945\n",
      "Epoch 8/1000\n",
      "70/70 [==============================] - 0s 3ms/step - loss: 149.7773 - I_like: 0.1948 - val_loss: 148.1888 - val_I_like: 0.1908\n",
      "Epoch 9/1000\n",
      "70/70 [==============================] - 0s 3ms/step - loss: 149.0610 - I_like: 0.2004 - val_loss: 147.8744 - val_I_like: 0.1943\n",
      "Epoch 10/1000\n",
      "70/70 [==============================] - 0s 2ms/step - loss: 148.8076 - I_like: 0.2024 - val_loss: 147.8637 - val_I_like: 0.1946\n",
      "Epoch 11/1000\n",
      "70/70 [==============================] - 0s 3ms/step - loss: 148.2689 - I_like: 0.2069 - val_loss: 147.4876 - val_I_like: 0.1979\n",
      "Epoch 12/1000\n",
      "70/70 [==============================] - 0s 2ms/step - loss: 148.2490 - I_like: 0.2075 - val_loss: 146.1182 - val_I_like: 0.2076\n",
      "Epoch 13/1000\n",
      "70/70 [==============================] - 0s 3ms/step - loss: 147.3561 - I_like: 0.2140 - val_loss: 146.4642 - val_I_like: 0.2049\n",
      "Epoch 14/1000\n",
      "70/70 [==============================] - 0s 3ms/step - loss: 146.8459 - I_like: 0.2182 - val_loss: 145.5653 - val_I_like: 0.2122\n",
      "Epoch 15/1000\n",
      "70/70 [==============================] - 0s 3ms/step - loss: 146.2802 - I_like: 0.2228 - val_loss: 145.8592 - val_I_like: 0.2099\n",
      "Epoch 16/1000\n",
      "70/70 [==============================] - 0s 2ms/step - loss: 146.3075 - I_like: 0.2228 - val_loss: 143.9739 - val_I_like: 0.2244\n",
      "Epoch 17/1000\n",
      "70/70 [==============================] - 0s 2ms/step - loss: 145.5961 - I_like: 0.2285 - val_loss: 144.2265 - val_I_like: 0.2229\n",
      "Epoch 18/1000\n",
      "70/70 [==============================] - 0s 3ms/step - loss: 145.4377 - I_like: 0.2301 - val_loss: 143.5526 - val_I_like: 0.2277\n",
      "Epoch 19/1000\n",
      "70/70 [==============================] - 0s 3ms/step - loss: 144.1777 - I_like: 0.2396 - val_loss: 142.5024 - val_I_like: 0.2357\n",
      "Epoch 20/1000\n",
      "70/70 [==============================] - 0s 2ms/step - loss: 143.5354 - I_like: 0.2447 - val_loss: 143.2440 - val_I_like: 0.2309\n",
      "Epoch 21/1000\n",
      "70/70 [==============================] - 0s 3ms/step - loss: 142.3573 - I_like: 0.2541 - val_loss: 140.5290 - val_I_like: 0.2522\n",
      "Epoch 22/1000\n",
      "70/70 [==============================] - 0s 3ms/step - loss: 141.9633 - I_like: 0.2572 - val_loss: 140.4813 - val_I_like: 0.2508\n",
      "Epoch 23/1000\n",
      "70/70 [==============================] - 0s 3ms/step - loss: 138.6470 - I_like: 0.2808 - val_loss: 136.2780 - val_I_like: 0.2831\n",
      "Epoch 24/1000\n",
      "70/70 [==============================] - 0s 3ms/step - loss: 137.1937 - I_like: 0.2907 - val_loss: 136.4135 - val_I_like: 0.2824\n",
      "Epoch 25/1000\n",
      "70/70 [==============================] - 0s 3ms/step - loss: 135.1728 - I_like: 0.3058 - val_loss: 134.5583 - val_I_like: 0.2941\n",
      "Epoch 26/1000\n",
      "70/70 [==============================] - 0s 2ms/step - loss: 133.8909 - I_like: 0.3154 - val_loss: 135.8137 - val_I_like: 0.2875\n",
      "Epoch 27/1000\n",
      "70/70 [==============================] - 0s 2ms/step - loss: 132.7920 - I_like: 0.3238 - val_loss: 133.5853 - val_I_like: 0.3025\n",
      "Epoch 28/1000\n",
      "70/70 [==============================] - 0s 3ms/step - loss: 133.1108 - I_like: 0.3216 - val_loss: 133.7070 - val_I_like: 0.3019\n",
      "Epoch 29/1000\n",
      "70/70 [==============================] - 0s 3ms/step - loss: 133.0604 - I_like: 0.3221 - val_loss: 133.2216 - val_I_like: 0.3058\n",
      "Epoch 30/1000\n",
      "70/70 [==============================] - 0s 3ms/step - loss: 132.5135 - I_like: 0.3262 - val_loss: 136.0161 - val_I_like: 0.2846\n",
      "Epoch 31/1000\n",
      "70/70 [==============================] - 0s 3ms/step - loss: 131.4353 - I_like: 0.3340 - val_loss: 133.5175 - val_I_like: 0.3034\n",
      "Epoch 32/1000\n",
      "70/70 [==============================] - 0s 3ms/step - loss: 133.4428 - I_like: 0.3198 - val_loss: 135.0019 - val_I_like: 0.2931\n",
      "Epoch 33/1000\n",
      "70/70 [==============================] - 0s 3ms/step - loss: 132.3189 - I_like: 0.3279 - val_loss: 133.8376 - val_I_like: 0.3013\n",
      "Epoch 34/1000\n",
      "70/70 [==============================] - 0s 3ms/step - loss: 133.2067 - I_like: 0.3213 - val_loss: 135.4482 - val_I_like: 0.2901\n",
      "Epoch 35/1000\n",
      "70/70 [==============================] - 0s 3ms/step - loss: 131.8365 - I_like: 0.3313 - val_loss: 132.5752 - val_I_like: 0.3114\n",
      "Epoch 36/1000\n",
      "70/70 [==============================] - 0s 3ms/step - loss: 131.3884 - I_like: 0.3349 - val_loss: 133.9450 - val_I_like: 0.3019\n",
      "Epoch 37/1000\n",
      "70/70 [==============================] - 0s 3ms/step - loss: 131.4225 - I_like: 0.3350 - val_loss: 135.3964 - val_I_like: 0.2910\n",
      "Epoch 38/1000\n",
      "70/70 [==============================] - 0s 3ms/step - loss: 131.6196 - I_like: 0.3335 - val_loss: 135.3713 - val_I_like: 0.2923\n",
      "Epoch 39/1000\n",
      "70/70 [==============================] - 0s 3ms/step - loss: 130.7666 - I_like: 0.3400 - val_loss: 134.8509 - val_I_like: 0.2964\n",
      "Epoch 40/1000\n",
      "70/70 [==============================] - 0s 3ms/step - loss: 131.3320 - I_like: 0.3358 - val_loss: 132.7650 - val_I_like: 0.3117\n",
      "Epoch 41/1000\n",
      "70/70 [==============================] - 0s 3ms/step - loss: 131.1767 - I_like: 0.3370 - val_loss: 136.1787 - val_I_like: 0.2863\n",
      "Epoch 42/1000\n",
      "70/70 [==============================] - 0s 3ms/step - loss: 132.1219 - I_like: 0.3300 - val_loss: 135.4492 - val_I_like: 0.2902\n",
      "Epoch 43/1000\n",
      "70/70 [==============================] - 0s 3ms/step - loss: 131.0357 - I_like: 0.3379 - val_loss: 135.9156 - val_I_like: 0.2889\n",
      "Epoch 44/1000\n",
      "70/70 [==============================] - 0s 3ms/step - loss: 131.2431 - I_like: 0.3365 - val_loss: 135.9337 - val_I_like: 0.2886\n",
      "Epoch 45/1000\n",
      "70/70 [==============================] - 0s 3ms/step - loss: 131.9938 - I_like: 0.3312 - val_loss: 134.2335 - val_I_like: 0.2999\n",
      "Epoch 46/1000\n",
      "70/70 [==============================] - 0s 3ms/step - loss: 131.4481 - I_like: 0.3352 - val_loss: 135.4390 - val_I_like: 0.2928\n",
      "Epoch 47/1000\n",
      "70/70 [==============================] - 0s 3ms/step - loss: 131.2632 - I_like: 0.3366 - val_loss: 132.4794 - val_I_like: 0.3127\n",
      "Epoch 48/1000\n"
     ]
    },
    {
     "name": "stdout",
     "output_type": "stream",
     "text": [
      "70/70 [==============================] - 0s 2ms/step - loss: 130.6523 - I_like: 0.3411 - val_loss: 133.1438 - val_I_like: 0.3085\n",
      "Epoch 49/1000\n",
      "70/70 [==============================] - 0s 2ms/step - loss: 130.6687 - I_like: 0.3411 - val_loss: 135.2321 - val_I_like: 0.2942\n",
      "Epoch 50/1000\n",
      "70/70 [==============================] - 0s 2ms/step - loss: 130.8473 - I_like: 0.3397 - val_loss: 132.2569 - val_I_like: 0.3152\n",
      "Epoch 51/1000\n",
      "70/70 [==============================] - 0s 3ms/step - loss: 130.1674 - I_like: 0.3449 - val_loss: 136.9533 - val_I_like: 0.2831\n",
      "Epoch 52/1000\n",
      "70/70 [==============================] - 0s 2ms/step - loss: 131.0651 - I_like: 0.3385 - val_loss: 134.3906 - val_I_like: 0.3008\n",
      "Epoch 53/1000\n",
      "70/70 [==============================] - 0s 2ms/step - loss: 131.3392 - I_like: 0.3364 - val_loss: 132.7657 - val_I_like: 0.3123\n",
      "Epoch 54/1000\n",
      "70/70 [==============================] - 0s 2ms/step - loss: 130.0996 - I_like: 0.3455 - val_loss: 135.4256 - val_I_like: 0.2912\n",
      "Epoch 55/1000\n",
      "70/70 [==============================] - 0s 2ms/step - loss: 130.5245 - I_like: 0.3425 - val_loss: 140.3991 - val_I_like: 0.2566\n",
      "Epoch 56/1000\n",
      "70/70 [==============================] - 0s 2ms/step - loss: 131.1795 - I_like: 0.3376 - val_loss: 133.2611 - val_I_like: 0.3077\n",
      "Epoch 57/1000\n",
      "70/70 [==============================] - 0s 2ms/step - loss: 131.2728 - I_like: 0.3369 - val_loss: 134.6600 - val_I_like: 0.2984\n",
      "Epoch 58/1000\n",
      "70/70 [==============================] - 0s 2ms/step - loss: 130.7893 - I_like: 0.3405 - val_loss: 137.1049 - val_I_like: 0.2812\n",
      "Epoch 59/1000\n",
      "70/70 [==============================] - 0s 2ms/step - loss: 130.7910 - I_like: 0.3403 - val_loss: 132.7671 - val_I_like: 0.3113\n",
      "Epoch 60/1000\n",
      "70/70 [==============================] - 0s 2ms/step - loss: 130.6108 - I_like: 0.3416 - val_loss: 133.0618 - val_I_like: 0.3094\n",
      "Epoch 61/1000\n",
      "70/70 [==============================] - 0s 2ms/step - loss: 130.4355 - I_like: 0.3430 - val_loss: 133.7133 - val_I_like: 0.3052\n",
      "Epoch 62/1000\n",
      "70/70 [==============================] - 0s 2ms/step - loss: 130.1299 - I_like: 0.3452 - val_loss: 139.3170 - val_I_like: 0.2654\n",
      "Epoch 63/1000\n",
      "70/70 [==============================] - 0s 2ms/step - loss: 131.3798 - I_like: 0.3362 - val_loss: 133.7125 - val_I_like: 0.3051\n",
      "Epoch 64/1000\n",
      "70/70 [==============================] - 0s 2ms/step - loss: 130.9781 - I_like: 0.3391 - val_loss: 135.4359 - val_I_like: 0.2922\n",
      "Epoch 65/1000\n",
      "70/70 [==============================] - 0s 2ms/step - loss: 130.6708 - I_like: 0.3414 - val_loss: 133.7964 - val_I_like: 0.3030\n",
      "Epoch 66/1000\n",
      "70/70 [==============================] - 0s 2ms/step - loss: 131.0666 - I_like: 0.3382 - val_loss: 133.0701 - val_I_like: 0.3087\n",
      "Epoch 67/1000\n",
      "70/70 [==============================] - 0s 2ms/step - loss: 130.4139 - I_like: 0.3430 - val_loss: 134.8293 - val_I_like: 0.2966\n",
      "Epoch 68/1000\n",
      "70/70 [==============================] - 0s 2ms/step - loss: 130.8298 - I_like: 0.3401 - val_loss: 133.4049 - val_I_like: 0.3074\n",
      "Epoch 69/1000\n",
      "70/70 [==============================] - 0s 2ms/step - loss: 131.3952 - I_like: 0.3360 - val_loss: 136.1492 - val_I_like: 0.2875\n",
      "Epoch 70/1000\n",
      "70/70 [==============================] - 0s 2ms/step - loss: 130.8152 - I_like: 0.3401 - val_loss: 133.1915 - val_I_like: 0.3084\n",
      "Epoch 71/1000\n",
      "70/70 [==============================] - 0s 2ms/step - loss: 130.9490 - I_like: 0.3392 - val_loss: 135.3675 - val_I_like: 0.2932\n",
      "Epoch 72/1000\n",
      "70/70 [==============================] - 0s 2ms/step - loss: 130.8360 - I_like: 0.3400 - val_loss: 135.7133 - val_I_like: 0.2907\n",
      "Epoch 73/1000\n",
      "70/70 [==============================] - 0s 3ms/step - loss: 130.3084 - I_like: 0.3438 - val_loss: 133.4308 - val_I_like: 0.3065\n",
      "Epoch 74/1000\n",
      "70/70 [==============================] - 0s 2ms/step - loss: 130.4168 - I_like: 0.3431 - val_loss: 134.2095 - val_I_like: 0.3022\n",
      "Epoch 75/1000\n",
      "70/70 [==============================] - 0s 2ms/step - loss: 130.0416 - I_like: 0.3459 - val_loss: 135.5117 - val_I_like: 0.2927\n",
      "Epoch 76/1000\n",
      "70/70 [==============================] - 0s 2ms/step - loss: 130.7453 - I_like: 0.3409 - val_loss: 133.7116 - val_I_like: 0.3059\n",
      "Epoch 77/1000\n",
      "70/70 [==============================] - 0s 2ms/step - loss: 130.7202 - I_like: 0.3410 - val_loss: 135.0847 - val_I_like: 0.2950\n",
      "Epoch 78/1000\n",
      "70/70 [==============================] - 0s 2ms/step - loss: 131.3632 - I_like: 0.3363 - val_loss: 134.8924 - val_I_like: 0.2970\n",
      "Epoch 79/1000\n",
      "70/70 [==============================] - 0s 4ms/step - loss: 130.4585 - I_like: 0.3430 - val_loss: 133.4061 - val_I_like: 0.3064\n",
      "Epoch 80/1000\n",
      "70/70 [==============================] - 0s 3ms/step - loss: 130.0551 - I_like: 0.3458 - val_loss: 134.8810 - val_I_like: 0.2965\n",
      "Training time: 16.6 seconds\n"
     ]
    }
   ],
   "source": [
    "# Fit model to data\n",
    "history = model.fit(learning_rate=.005,\n",
    "                    epochs=1000,\n",
    "                    batch_size=200,\n",
    "                    early_stopping=True,\n",
    "                    early_stopping_patience=30)"
   ]
  },
  {
   "cell_type": "code",
   "execution_count": 7,
   "metadata": {},
   "outputs": [
    {
     "name": "stdout",
     "output_type": "stream",
     "text": [
      "Model saved to these files:\n",
      "\tmpsa_ge_pairwise.pickle\n",
      "\tmpsa_ge_pairwise.h5\n"
     ]
    }
   ],
   "source": [
    "# Save model\n",
    "model.save('mpsa_ge_pairwise')"
   ]
  },
  {
   "cell_type": "code",
   "execution_count": 8,
   "metadata": {
    "scrolled": true
   },
   "outputs": [
    {
     "name": "stdout",
     "output_type": "stream",
     "text": [
      "Model loaded from these files:\n",
      "\tmpsa_ge_pairwise.pickle\n",
      "\tmpsa_ge_pairwise.h5\n"
     ]
    }
   ],
   "source": [
    "# Load model\n",
    "model = mavenn.load('mpsa_ge_pairwise')"
   ]
  },
  {
   "cell_type": "code",
   "execution_count": 9,
   "metadata": {
    "collapsed": true
   },
   "outputs": [],
   "source": [
    "# Get x and y\n",
    "x_test = test_df['x'].values\n",
    "y_test = test_df['y'].values"
   ]
  },
  {
   "cell_type": "code",
   "execution_count": 10,
   "metadata": {},
   "outputs": [
    {
     "data": {
      "image/png": "[encoded data removed]",
      "text/plain": [
       "<Figure size 288x288 with 1 Axes>"
      ]
     },
     "metadata": {
      "needs_background": "light"
     },
     "output_type": "display_data"
    }
   ],
   "source": [
    "# Predict latent phentoype values (phi) on test data\n",
    "phi_test = model.x_to_phi(x_test)\n",
    "\n",
    "# Predict measurement values (yhat) on test data\n",
    "yhat_test = model.x_to_yhat(x_test)\n",
    "\n",
    "# Set phi lims and create grid in phi space\n",
    "phi_lim = [min(phi_test)-.5, max(phi_test)+.5]\n",
    "phi_grid = np.linspace(phi_lim[0], phi_lim[1], 1000)\n",
    "\n",
    "# Compute yhat each phi gridpoint\n",
    "yhat_grid = model.phi_to_yhat(phi_grid)\n",
    "\n",
    "# Compute 90% CI for each yhat\n",
    "q = [0.05, 0.95] #[0.16, 0.84]\n",
    "yqs_grid = model.yhat_to_yq(yhat_grid, q=q)\n",
    "\n",
    "# Create figure\n",
    "fig, ax = plt.subplots(1, 1, figsize=[4, 4])\n",
    "\n",
    "# Illustrate measurement process with GE curve\n",
    "ax.scatter(phi_test, y_test, color='C0', s=5, alpha=.2, label='test data')\n",
    "ax.plot(phi_grid, yhat_grid, linewidth=2, color='C1',\n",
    "        label='$\\hat{y} = g(\\phi)$')\n",
    "ax.plot(phi_grid, yqs_grid[:, 0], linestyle='--', color='C1', label='68% CI')\n",
    "ax.plot(phi_grid, yqs_grid[:, 1], linestyle='--', color='C1')\n",
    "ax.set_xlim(phi_lim)\n",
    "ax.set_xlabel('latent phenotype ($\\phi$)')\n",
    "ax.set_ylabel('measurement ($y$)')\n",
    "ax.set_title('measurement process')\n",
    "ax.legend()\n",
    "\n",
    "# Fix up plot\n",
    "fig.tight_layout()\n",
    "plt.show()"
   ]
  },
  {
   "cell_type": "code",
   "execution_count": 11,
   "metadata": {},
   "outputs": [
    {
     "data": {
      "image/png": "[encoded data removed]",
      "text/plain": [
       "<Figure size 576x288 with 2 Axes>"
      ]
     },
     "metadata": {
      "needs_background": "light"
     },
     "output_type": "display_data"
    }
   ],
   "source": [
    "# Plot pairwise parameters\n",
    "theta = model.get_theta()\n",
    "fig, ax = plt.subplots(1, 1, figsize=[8, 4])\n",
    "mavenn.heatmap_pairwise(values=theta['theta_lclc'],\n",
    "                        alphabet=theta['alphabet'],\n",
    "                        ax=ax);"
   ]
  },
  {
   "cell_type": "code",
   "execution_count": 12,
   "metadata": {},
   "outputs": [
    {
     "data": {
      "text/html": [
       "<div>\n",
       "<style scoped>\n",
       "    .dataframe tbody tr th:only-of-type {\n",
       "        vertical-align: middle;\n",
       "    }\n",
       "\n",
       "    .dataframe tbody tr th {\n",
       "        vertical-align: top;\n",
       "    }\n",
       "\n",
       "    .dataframe thead th {\n",
       "        text-align: right;\n",
       "    }\n",
       "</style>\n",
       "<table border=\"1\" class=\"dataframe\">\n",
       "  <thead>\n",
       "    <tr style=\"text-align: right;\">\n",
       "      <th></th>\n",
       "      <th>training_set</th>\n",
       "      <th>yhat</th>\n",
       "      <th>phi</th>\n",
       "      <th>y</th>\n",
       "      <th>x</th>\n",
       "    </tr>\n",
       "  </thead>\n",
       "  <tbody>\n",
       "    <tr>\n",
       "      <th>0</th>\n",
       "      <td>True</td>\n",
       "      <td>-3.098211</td>\n",
       "      <td>0.568002</td>\n",
       "      <td>-4.235199</td>\n",
       "      <td>GCTGCAATG</td>\n",
       "    </tr>\n",
       "    <tr>\n",
       "      <th>1</th>\n",
       "      <td>True</td>\n",
       "      <td>-3.118686</td>\n",
       "      <td>-0.487634</td>\n",
       "      <td>-2.577604</td>\n",
       "      <td>AGCGCCGTA</td>\n",
       "    </tr>\n",
       "    <tr>\n",
       "      <th>2</th>\n",
       "      <td>True</td>\n",
       "      <td>-3.117015</td>\n",
       "      <td>-0.241194</td>\n",
       "      <td>-2.765634</td>\n",
       "      <td>ACTGCTGTT</td>\n",
       "    </tr>\n",
       "    <tr>\n",
       "      <th>3</th>\n",
       "      <td>True</td>\n",
       "      <td>-3.115941</td>\n",
       "      <td>-0.116270</td>\n",
       "      <td>-3.459939</td>\n",
       "      <td>CACGTCTCG</td>\n",
       "    </tr>\n",
       "    <tr>\n",
       "      <th>4</th>\n",
       "      <td>True</td>\n",
       "      <td>-3.119734</td>\n",
       "      <td>-0.676097</td>\n",
       "      <td>-3.617771</td>\n",
       "      <td>CCCGTTTCC</td>\n",
       "    </tr>\n",
       "    <tr>\n",
       "      <th>...</th>\n",
       "      <td>...</td>\n",
       "      <td>...</td>\n",
       "      <td>...</td>\n",
       "      <td>...</td>\n",
       "      <td>...</td>\n",
       "    </tr>\n",
       "    <tr>\n",
       "      <th>95</th>\n",
       "      <td>True</td>\n",
       "      <td>-2.988118</td>\n",
       "      <td>1.027351</td>\n",
       "      <td>-2.220375</td>\n",
       "      <td>CGGGTTTAT</td>\n",
       "    </tr>\n",
       "    <tr>\n",
       "      <th>96</th>\n",
       "      <td>True</td>\n",
       "      <td>-3.119848</td>\n",
       "      <td>-0.697896</td>\n",
       "      <td>-3.423427</td>\n",
       "      <td>GCAGTTCAA</td>\n",
       "    </tr>\n",
       "    <tr>\n",
       "      <th>97</th>\n",
       "      <td>False</td>\n",
       "      <td>-3.016053</td>\n",
       "      <td>0.975691</td>\n",
       "      <td>-3.142329</td>\n",
       "      <td>CCAGTAACC</td>\n",
       "    </tr>\n",
       "    <tr>\n",
       "      <th>98</th>\n",
       "      <td>False</td>\n",
       "      <td>-3.119695</td>\n",
       "      <td>-0.668622</td>\n",
       "      <td>-4.717013</td>\n",
       "      <td>CGGGCTACG</td>\n",
       "    </tr>\n",
       "    <tr>\n",
       "      <th>99</th>\n",
       "      <td>True</td>\n",
       "      <td>-3.120677</td>\n",
       "      <td>-0.865572</td>\n",
       "      <td>-6.964540</td>\n",
       "      <td>GTCGTCCTT</td>\n",
       "    </tr>\n",
       "  </tbody>\n",
       "</table>\n",
       "<p>100 rows × 5 columns</p>\n",
       "</div>"
      ],
      "text/plain": [
       "    training_set      yhat       phi         y          x\n",
       "0           True -3.098211  0.568002 -4.235199  GCTGCAATG\n",
       "1           True -3.118686 -0.487634 -2.577604  AGCGCCGTA\n",
       "2           True -3.117015 -0.241194 -2.765634  ACTGCTGTT\n",
       "3           True -3.115941 -0.116270 -3.459939  CACGTCTCG\n",
       "4           True -3.119734 -0.676097 -3.617771  CCCGTTTCC\n",
       "..           ...       ...       ...       ...        ...\n",
       "95          True -2.988118  1.027351 -2.220375  CGGGTTTAT\n",
       "96          True -3.119848 -0.697896 -3.423427  GCAGTTCAA\n",
       "97         False -3.016053  0.975691 -3.142329  CCAGTAACC\n",
       "98         False -3.119695 -0.668622 -4.717013  CGGGCTACG\n",
       "99          True -3.120677 -0.865572 -6.964540  GTCGTCCTT\n",
       "\n",
       "[100 rows x 5 columns]"
      ]
     },
     "execution_count": 12,
     "metadata": {},
     "output_type": "execute_result"
    }
   ],
   "source": [
    "model.simulate_dataset(N=100)"
   ]
  },
  {
   "cell_type": "code",
   "execution_count": null,
   "metadata": {
    "collapsed": true
   },
   "outputs": [],
   "source": []
  }
 ],
 "metadata": {
  "kernelspec": {
   "display_name": "Python 3",
   "language": "python",
   "name": "python3"
  },
  "language_info": {
   "codemirror_mode": {
    "name": "ipython",
    "version": 3
   },
   "file_extension": ".py",
   "mimetype": "text/x-python",
   "name": "python",
   "nbconvert_exporter": "python",
   "pygments_lexer": "ipython3",
   "version": "3.6.7"
  }
 },
 "nbformat": 4,
 "nbformat_minor": 2
}
