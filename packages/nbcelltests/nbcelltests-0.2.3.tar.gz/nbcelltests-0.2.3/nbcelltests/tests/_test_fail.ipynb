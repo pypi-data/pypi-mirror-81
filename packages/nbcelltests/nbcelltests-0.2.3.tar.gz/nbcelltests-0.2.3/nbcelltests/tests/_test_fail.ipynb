{
 "cells": [
  {
   "cell_type": "code",
   "execution_count": 1,
   "metadata": {
    "celltests": [
     "%cell\n",
     "assert x == -1, \"x should have been -1 but was %s\"%x"
    ]
   },
   "outputs": [],
   "source": [
    "x = 1"
   ]
  },
  {
   "cell_type": "code",
   "execution_count": 2,
   "metadata": {
    "celltests": [
     "%cell\n",
     "assert x == -2, \"x should have been -2 but was %s\"%x"
    ]
   },
   "outputs": [],
   "source": [
    "x = 2"
   ]
  }    
 ],
 "metadata": {
  "kernelspec": {
   "display_name": "Python 3",
   "language": "python",
   "name": "python3"
  },
  "language_info": {
   "codemirror_mode": {
    "name": "ipython",
    "version": 3
   },
   "file_extension": ".py",
   "mimetype": "text/x-python",
   "name": "python",
   "nbconvert_exporter": "python",
   "pygments_lexer": "ipython3",
   "version": "3.7.6"
  }
 },
 "nbformat": 4,
 "nbformat_minor": 4
}
