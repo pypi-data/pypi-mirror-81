{
 "cells": [
  {
   "cell_type": "code",
   "execution_count": 18,
   "metadata": {
    "ExecuteTime": {
     "end_time": "2020-10-08T19:38:38.698041Z",
     "start_time": "2020-10-08T19:38:38.649816Z"
    }
   },
   "outputs": [],
   "source": [
    "from classo.solve_R2 import pathlasso_R2, Classo_R2, problem_R2\n",
    "from classo.solve_R1 import pathlasso_R1, Classo_R1, problem_R1\n",
    "from classo.solve_R3 import pathlasso_R3, Classo_R3, problem_R3\n",
    "from classo.compact_func import Classo, pathlasso\n",
    "from classo import random_data, classo_problem\n",
    "import numpy as np\n",
    "import numpy.linalg as LA\n",
    "import matplotlib.pyplot as plt\n",
    "\n",
    "m,d,d_nonzero,k,sigma =200,150,6,0,0.5\n",
    "(X,C,y),sol = random_data(m,d,d_nonzero,k,sigma,zerosum=True,seed=None)"
   ]
  },
  {
   "cell_type": "code",
   "execution_count": 44,
   "metadata": {
    "ExecuteTime": {
     "end_time": "2020-10-08T20:56:28.917639Z",
     "start_time": "2020-10-08T20:56:28.904471Z"
    }
   },
   "outputs": [],
   "source": [
    "lam = 0.5\n",
    "pb_dr = problem_R3((X,C,y),'DR')\n",
    "pb_dr.tol =  1e-4\n",
    "pb_pa = problem_R3((X,C,y),'Path-Alg')"
   ]
  },
  {
   "cell_type": "code",
   "execution_count": 54,
   "metadata": {
    "ExecuteTime": {
     "end_time": "2020-10-08T20:58:27.390890Z",
     "start_time": "2020-10-08T20:58:27.355519Z"
    }
   },
   "outputs": [],
   "source": [
    "def R3(pb,lam):\n",
    "    (m,d,k),(A,C,y)  = pb.dim,pb.matrix\n",
    "\n",
    "    pb.compute_param()\n",
    "\n",
    "    lamb          = lam * pb.lambdamax\n",
    "    Anorm         = pb.Anorm\n",
    "    tol           = pb.tol * LA.norm(y)/LA.norm(A)\n",
    "    Proj          = proj_c(C,d)   # Proj = I - C^t . (C . C^t )^-1 . C\n",
    "    \n",
    "    c             = d**2/LA.norm(A)**2\n",
    "    mu, root   = 1.95, 0.\n",
    "    \n",
    "    Q1,Q2         = QQ( c,A)\n",
    "    QA            = Q1.dot(A)\n",
    "    gamma         = c* pb.gam / (d**2 *lam)  \n",
    "    w,zerod       = lamb *gamma*pb.weights, np.zeros(d)\n",
    "    \n",
    "    xs,nu,o,xbar,x= 1.,1.,np.zeros(m), np.zeros(d), np.zeros(d)    \n",
    "    \n",
    "\n",
    "    \n",
    "    #2prox\n",
    "    for i in range(pb.N):\n",
    "        nv_b, nv_s = x + Q1.dot(o) - QA.dot(x) - Q2.dot(x-xbar), (xs+nu)/2\n",
    "        if (i>0 and LA.norm(b-nv_b)+LA.norm(s-nv_s)/Anorm <2*tol):\n",
    "            return(b,s)\n",
    "\n",
    "        s,b = nv_s, nv_b\n",
    "        Ab = A.dot(b)\n",
    "        p1,p2,root = prox_phi_1(xs,2*Ab-o-y,gamma/c,root)\n",
    "        sup = [ max(0,nu)-s , p1-s , p2 + y - Ab , prox(2*b-xbar,w,zerod)-b, Proj.dot(2*b-x)-b]\n",
    "        xs,nu,o,xbar,x = xs+mu*sup[0] ,  nu+mu*sup[1] ,  o+mu*sup[2] ,  xbar+mu*sup[3] ,  x+mu*sup[4]\n",
    "\n",
    "        if (LA.norm(b)+LA.norm(s)>1e6):\n",
    "            raise ValueError(\"The algorithm of Doulgas Rachford diverges\")\n",
    "\n",
    "    raise ValueError(\"The algorithm of Doulgas Rachford did not converge after %i iterations \" %pb.N)"
   ]
  },
  {
   "cell_type": "code",
   "execution_count": 55,
   "metadata": {
    "ExecuteTime": {
     "end_time": "2020-10-08T20:58:32.838000Z",
     "start_time": "2020-10-08T20:58:27.964432Z"
    }
   },
   "outputs": [],
   "source": [
    "beta_dr = R3(pb_dr,lam)[0]\n",
    "beta_pa = Classo_R3(pb_pa,lam)[0]"
   ]
  },
  {
   "cell_type": "code",
   "execution_count": 56,
   "metadata": {
    "ExecuteTime": {
     "end_time": "2020-10-08T20:58:34.868491Z",
     "start_time": "2020-10-08T20:58:32.842876Z"
    },
    "scrolled": true
   },
   "outputs": [
    {
     "data": {
      "image/png": "[encoded data removed]",
      "text/plain": [
       "<Figure size 432x288 with 1 Axes>"
      ]
     },
     "metadata": {
      "needs_background": "light"
     },
     "output_type": "display_data"
    },
    {
     "data": {
      "image/png": "[encoded data removed]",
      "text/plain": [
       "<Figure size 432x288 with 1 Axes>"
      ]
     },
     "metadata": {
      "needs_background": "light"
     },
     "output_type": "display_data"
    }
   ],
   "source": [
    "for beta in [beta_dr,beta_pa]:\n",
    "    plt.bar(range(len(beta)),beta)\n",
    "    plt.show()"
   ]
  },
  {
   "cell_type": "code",
   "execution_count": null,
   "metadata": {},
   "outputs": [],
   "source": []
  },
  {
   "cell_type": "code",
   "execution_count": null,
   "metadata": {},
   "outputs": [],
   "source": [
    "def R3(pb,lam):\n",
    "    (m,d,k),(A,C,y)  = pb.dim,pb.matrix\n",
    "\n",
    "    pb.compute_param()\n",
    "\n",
    "    lamb          = lam * pb.lambdamax\n",
    "    Anorm         = pb.Anorm\n",
    "    tol           = pb.tol * LA.norm(y)/LA.norm(A)\n",
    "    Proj          = proj_c(C,d)   # Proj = I - C^t . (C . C^t )^-1 . C\n",
    "    \n",
    "    c             = d**2/LA.norm(A)**2\n",
    "    mu, root      = 1.95, 0.\n",
    "    \n",
    "    Q1,Q2         = QQ( c,A)\n",
    "    QA            = Q1.dot(A)\n",
    "    gamma         = c*d**2 * pb.gam / lam\n",
    "    w,zerod       = lamb*gamma*np.ones(d), np.zeros(d)\n",
    "    \n",
    "    xs,nu,o,xbar,x= 1.,1.,np.zeros(m), np.zeros(d), np.zeros(d)    \n",
    "    \n",
    "    #2prox\n",
    "    for i in range(pb.N):\n",
    "        nv_b, nv_s = x + Q1.dot(o) - QA.dot(x) - Q2.dot(x-xbar), (xs+nu)/2\n",
    "        if (i>0 and LA.norm(b-nv_b)+LA.norm(s-nv_s)/Anorm <2*tol):\n",
    "            return(b,s)\n",
    "\n",
    "        s,b = nv_s, nv_b\n",
    "        Ab = A.dot(b)\n",
    "        p1,p2,root = prox_phi_1(xs,2*Ab-o-y,gamma/c,root)\n",
    "        sup = [ max(0,nu)-s , p1-s , p2 + y - Ab , prox(2*b-xbar,w,zerod)-b, Proj.dot(2*b-x)-b]\n",
    "        xs,nu,o,xbar,x = xs+mu*sup[0] ,  nu+mu*sup[1] ,  o+mu*sup[2] ,  xbar+mu*sup[3] ,  x+mu*sup[4]\n",
    "\n",
    "        if (LA.norm(b)+LA.norm(s)>1e6):\n",
    "            raise ValueError(\"The algorithm of Doulgas Rachford diverges\")\n",
    "\n",
    "    raise ValueError(\"The algorithm of Doulgas Rachford did not converge after %i iterations \" %pb.N)"
   ]
  },
  {
   "cell_type": "code",
   "execution_count": 22,
   "metadata": {
    "ExecuteTime": {
     "end_time": "2020-10-08T19:39:13.589083Z",
     "start_time": "2020-10-08T19:39:13.537197Z"
    }
   },
   "outputs": [],
   "source": [
    "\n",
    "# compute the prox of the function : f(b)= sum (wi * |bi| )\n",
    "def prox(b,w,zeros): return(np.minimum(b+w,zeros)+np.maximum(b-w,zeros)) \n",
    "\n",
    "# Compute I - C^t (C.C^t)^-1 . C : the projection on Ker(C)\n",
    "def proj_c(M,d):\n",
    "    if (LA.matrix_rank(M)==0):  return(np.eye(d))\n",
    "    return(np.eye(d)-LA.multi_dot([M.T,np.linalg.inv(M.dot(M.T) ),M]) )\n",
    "\n",
    "# Compute the real positive root of a polynomial of degree 3 in the form : X^3 + a*X - b with Newton method and a warm start (for Comcomitant problem)\n",
    "def calc_Newton(a,b,root):\n",
    "    er = -b\n",
    "    while (abs(er)>1e-6): \n",
    "        root= root-er/(3*root**2+a)\n",
    "        er = root**3 + a*root-b\n",
    "    return(root)\n",
    "\n",
    "def QQ(coef,A): \n",
    "    # compute QQ = coef A^t (2.I.+coef A A^t )^-1 , (2.I.+coef A^t A)^-1 \n",
    "    return(coef*(A.T).dot(LA.inv(2*np.eye(A.shape[0])+coef*A.dot(A.T))),LA.inv(2*np.eye(A.shape[1])+coef*(A.T).dot(A)))    \n",
    "\n",
    "# Return the cost function of some Beta for a given Lasso problem : L_LS = ||y-Ab||2^2  + lambda* ||b||1\n",
    "def L_LS(pb,lam,sol): return(LA.norm( pb.matrix[0].dot(sol) - pb.matrix[2] )**2 + lam*pb.lambdamax * LA.norm(sol,1))\n",
    "\n",
    "# Return the prox operator for the function phi = ||(y-Ab)||2^2 /sigma + 1/2 * sigma with the warm start on the computation of the root    \n",
    "def prox_phi_1(sig,u,gamma,warm_start):\n",
    "    l2u = LA.norm(u)\n",
    "    Po0 = 4*gamma*sig + l2u**2\n",
    "    if (Po0 < 2*gamma**2): return(0.,0.,0.)\n",
    "    else : \n",
    "        root=calc_Newton((4*sig/gamma+6.),8*l2u/gamma,warm_start)\n",
    "        return(sig+0.5*gamma*(0.5*root**2-1.),u * (1-gamma*root/l2u),root)\n",
    "\n",
    "\n",
    "    \n",
    "# Return the positive root in [0,1] of the polynomial aX^2 + 2bX + c if it exists, 1. if not\n",
    "def root_2(a,b,c):\n",
    "    \n",
    "    if (a==0.) : return(c/(2*b))\n",
    "    root=   (-np.sqrt(b**2-a*c)-b)/a\n",
    "    if (root > 1) : return(1.)\n",
    "    return(root)\n",
    "\n"
   ]
  }
 ],
 "metadata": {
  "kernelspec": {
   "display_name": "Python 3",
   "language": "python",
   "name": "python3"
  },
  "language_info": {
   "codemirror_mode": {
    "name": "ipython",
    "version": 3
   },
   "file_extension": ".py",
   "mimetype": "text/x-python",
   "name": "python",
   "nbconvert_exporter": "python",
   "pygments_lexer": "ipython3",
   "version": "3.6.8"
  },
  "toc": {
   "base_numbering": 1,
   "nav_menu": {},
   "number_sections": true,
   "sideBar": true,
   "skip_h1_title": false,
   "title_cell": "Table of Contents",
   "title_sidebar": "Contents",
   "toc_cell": false,
   "toc_position": {},
   "toc_section_display": true,
   "toc_window_display": false
  }
 },
 "nbformat": 4,
 "nbformat_minor": 4
}
