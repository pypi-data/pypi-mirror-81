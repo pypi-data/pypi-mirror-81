{
 "cells": [
  {
   "cell_type": "code",
   "execution_count": 2,
   "metadata": {},
   "outputs": [
    {
     "data": {
      "application/vnd.jupyter.widget-view+json": {
       "model_id": "459cf6a9445e4c8b88a0f4a1a189cd47",
       "version_major": 2,
       "version_minor": 0
      },
      "text/plain": [
       "GPAuthWidget(buttons={'Register an Account': \"\\n    const target = event.target;\\n    const widget = target.cl…"
      ]
     },
     "metadata": {},
     "output_type": "display_data"
    },
    {
     "data": {
      "application/vnd.jupyter.widget-view+json": {
       "model_id": "e1d2685967b1472999957df37e937ec6",
       "version_major": 2,
       "version_minor": 0
      },
      "text/plain": [
       "Output()"
      ]
     },
     "metadata": {},
     "output_type": "display_data"
    }
   ],
   "source": [
    "import nbtools\n",
    "\n",
    "nbtools.tool(id='authentication', origin='+')"
   ]
  },
  {
   "cell_type": "code",
   "execution_count": 3,
   "metadata": {},
   "outputs": [
    {
     "data": {
      "application/vnd.jupyter.widget-view+json": {
       "model_id": "ba291c4da25149d48f9e943b5a45a2b8",
       "version_major": 2,
       "version_minor": 0
      },
      "text/plain": [
       "UIOutput(appendix=VBox(), error='Cannot find tool: GenePattern Cloud | urn:lsid:broad.mit.edu:cancer.software.…"
      ]
     },
     "metadata": {},
     "output_type": "display_data"
    },
    {
     "data": {
      "application/vnd.jupyter.widget-view+json": {
       "model_id": "c2eaf55ebfbc4085b2d2540ea27f47f7",
       "version_major": 2,
       "version_minor": 0
      },
      "text/plain": [
       "Output(outputs=({'output_type': 'display_data', 'data': {}, 'metadata': {}},))"
      ]
     },
     "metadata": {},
     "output_type": "display_data"
    }
   ],
   "source": [
    "nbtools.tool(id='urn:lsid:broad.mit.edu:cancer.software.genepattern.module.analysis:00017:4.2', origin='GenePattern Cloud')"
   ]
  },
  {
   "cell_type": "code",
   "execution_count": 4,
   "metadata": {},
   "outputs": [
    {
     "data": {
      "application/vnd.jupyter.widget-view+json": {
       "model_id": "6655d09f15b04c14b1cb706419772171",
       "version_major": 2,
       "version_minor": 0
      },
      "text/plain": [
       "UIBuilder(collapse=True, form=InteractiveForm(children=(FileFormInput(value='', children=(Label(value='bar*', …"
      ]
     },
     "metadata": {},
     "output_type": "display_data"
    },
    {
     "data": {
      "application/vnd.jupyter.widget-view+json": {
       "model_id": "e3405d14470b4f28b26867cd4b692352",
       "version_major": 2,
       "version_minor": 0
      },
      "text/plain": [
       "Output()"
      ]
     },
     "metadata": {},
     "output_type": "display_data"
    }
   ],
   "source": [
    "import nbtools\n",
    "import genepattern\n",
    "\n",
    "@nbtools.build_ui(parameters={\n",
    "    'bar': {\n",
    "        'type': 'file',\n",
    "        'kinds': ['_s.odf']\n",
    "    }\n",
    "})\n",
    "def foo(bar):\n",
    "    uio = nbtools.UIOutput(files=['https://www.drivethrurpg.com/product/103096/Escape-from-Castle-Island?filters=0_2110_100_0_0'])\n",
    "    genepattern.display(uio)"
   ]
  },
  {
   "cell_type": "code",
   "execution_count": 5,
   "metadata": {},
   "outputs": [
    {
     "data": {
      "application/vnd.jupyter.widget-view+json": {
       "model_id": "6655d09f15b04c14b1cb706419772171",
       "version_major": 2,
       "version_minor": 0
      },
      "text/plain": [
       "UIBuilder(collapse=True, form=InteractiveForm(children=(FileFormInput(value='', children=(Label(value='bar*', …"
      ]
     },
     "metadata": {},
     "output_type": "display_data"
    },
    {
     "data": {
      "application/vnd.jupyter.widget-view+json": {
       "model_id": "e3405d14470b4f28b26867cd4b692352",
       "version_major": 2,
       "version_minor": 0
      },
      "text/plain": [
       "Output()"
      ]
     },
     "metadata": {},
     "output_type": "display_data"
    }
   ],
   "source": [
    "nbtools.tool(id='foo', origin='Notebook')"
   ]
  },
  {
   "cell_type": "code",
   "execution_count": null,
   "metadata": {},
   "outputs": [],
   "source": []
  }
 ],
 "metadata": {
  "kernelspec": {
   "display_name": "Python 3",
   "language": "python",
   "name": "python3"
  },
  "language_info": {
   "codemirror_mode": {
    "name": "ipython",
    "version": 3
   },
   "file_extension": ".py",
   "mimetype": "text/x-python",
   "name": "python",
   "nbconvert_exporter": "python",
   "pygments_lexer": "ipython3",
   "version": "3.7.6"
  },
  "widgets": {
   "application/vnd.jupyter.widget-state+json": {
    "state": {
     "0012714fc3bd4e149cd1a73e5286f145": {
      "model_module": "@jupyter-widgets/controls",
      "model_module_version": "1.5.0",
      "model_name": "GridBoxModel",
      "state": {
       "_dom_classes": [
        "nbtools-input",
        "nbtools-passwordinput",
        "required"
       ],
       "children": [
        "IPY_MODEL_d15844e9afb641198a8c85efd6fe4a27",
        "IPY_MODEL_fc357306243240f7802645dd9668e611",
        "IPY_MODEL_15abe6fb095e480784117074f44074d6"
       ],
       "layout": "IPY_MODEL_b5a8c1ed5ee5448c8f725ff74aed797f"
      }
     },
     "039a32e64db7405aa37338585aa1d880": {
      "model_module": "@jupyter-widgets/controls",
      "model_module_version": "1.5.0",
      "model_name": "ButtonStyleModel",
      "state": {}
     },
     "04d6a8be89804812b4c89545a1843531": {
      "model_module": "@jupyter-widgets/controls",
      "model_module_version": "1.5.0",
      "model_name": "LabelModel",
      "state": {
       "layout": "IPY_MODEL_7b2ccd73af1f4a879d0c882889576015",
       "style": "IPY_MODEL_727b9f29a6ad49c1b1e2378780ce7fff"
      }
     },
     "0a0f34b66aff410182537c3930f9bb9f": {
      "model_module": "@jupyter-widgets/controls",
      "model_module_version": "1.5.0",
      "model_name": "DescriptionStyleModel",
      "state": {
       "description_width": ""
      }
     },
     "0cfa000c18ee41b0aeeaa60476c2fd96": {
      "model_module": "@jupyter-widgets/base",
      "model_module_version": "1.2.0",
      "model_name": "LayoutModel",
      "state": {}
     },
     "0f7b35e7983c44908ee28c64900e943b": {
      "model_module": "@jupyter-widgets/controls",
      "model_module_version": "1.5.0",
      "model_name": "ButtonStyleModel",
      "state": {}
     },
     "0f8af655625b4a879604d4a08a6c3f55": {
      "model_module": "@jupyter-widgets/controls",
      "model_module_version": "1.5.0",
      "model_name": "DescriptionStyleModel",
      "state": {
       "description_width": ""
      }
     },
     "1427af3ed87e4d8e84dc910092f1cf14": {
      "model_module": "@jupyter-widgets/controls",
      "model_module_version": "1.5.0",
      "model_name": "DescriptionStyleModel",
      "state": {
       "description_width": ""
      }
     },
     "15abe6fb095e480784117074f44074d6": {
      "model_module": "@jupyter-widgets/controls",
      "model_module_version": "1.5.0",
      "model_name": "LabelModel",
      "state": {
       "layout": "IPY_MODEL_ea3f04ac371349ebab45b07933ccd310",
       "style": "IPY_MODEL_fbf08f8427a5422797f6c810afa3fb36"
      }
     },
     "170fb56e311d430e8a02bd69618746cd": {
      "model_module": "@jupyter-widgets/controls",
      "model_module_version": "1.5.0",
      "model_name": "TextModel",
      "state": {
       "_dom_classes": [
        "nbtools-menu-attached"
       ],
       "layout": "IPY_MODEL_4cd6b4c15bf142d19c5c03c088aa124f",
       "style": "IPY_MODEL_837d1fbae9cf4eff890b54e1eaa7be05"
      }
     },
     "19da5b74430145859a70d28faa4d669a": {
      "model_module": "@jupyter-widgets/base",
      "model_module_version": "1.2.0",
      "model_name": "LayoutModel",
      "state": {
       "grid_template_areas": "\n                    \"label input\"\n                    \". description\"\n                ",
       "grid_template_columns": "25% 75%",
       "grid_template_rows": "auto auto",
       "width": "100%"
      }
     },
     "1a2eb4f3b5854982943ad4977faf42ba": {
      "model_module": "@jupyter-widgets/controls",
      "model_module_version": "1.5.0",
      "model_name": "DescriptionStyleModel",
      "state": {
       "description_width": ""
      }
     },
     "1c65fcf4ebc140a4aa1ae9622def3166": {
      "model_module": "@jupyter-widgets/base",
      "model_module_version": "1.2.0",
      "model_name": "LayoutModel",
      "state": {}
     },
     "1ce9d3dbdecd41d2a33074edef565ba6": {
      "model_module": "@jupyter-widgets/controls",
      "model_module_version": "1.5.0",
      "model_name": "DescriptionStyleModel",
      "state": {
       "description_width": ""
      }
     },
     "208a07abd25a4bd386b693b008e6a17b": {
      "model_module": "@jupyter-widgets/base",
      "model_module_version": "1.2.0",
      "model_name": "LayoutModel",
      "state": {}
     },
     "2259618a03c9485f92c3e89f4a16cd3d": {
      "model_module": "@jupyter-widgets/base",
      "model_module_version": "1.2.0",
      "model_name": "LayoutModel",
      "state": {
       "grid_area": "input",
       "width": "auto"
      }
     },
     "2479b1e442c5446eb450a2dbb0a19273": {
      "model_module": "@jupyter-widgets/controls",
      "model_module_version": "1.5.0",
      "model_name": "LabelModel",
      "state": {
       "layout": "IPY_MODEL_db44d3ce88844134a88621550dbbd599",
       "style": "IPY_MODEL_b909389177ca47bda61f726ccbe6c5d0"
      }
     },
     "299530b9758043a28cbb159c08c05a7e": {
      "model_module": "@jupyter-widgets/base",
      "model_module_version": "1.2.0",
      "model_name": "LayoutModel",
      "state": {
       "grid_area": "input",
       "width": "auto"
      }
     },
     "2d8b172a5619414a85158da293be9ef9": {
      "model_module": "@jupyter-widgets/controls",
      "model_module_version": "1.5.0",
      "model_name": "LabelModel",
      "state": {
       "description": "GenePattern Server",
       "layout": "IPY_MODEL_d421584f66864625b56d9f4d43026ee4",
       "style": "IPY_MODEL_f92f724b37034815bf4d33cba941071b",
       "value": "GenePattern Server*"
      }
     },
     "2dc8c10bfa204b9192d0cdfbe05de2ba": {
      "model_module": "@jupyter-widgets/output",
      "model_module_version": "1.0.0",
      "model_name": "OutputModel",
      "state": {
       "layout": "IPY_MODEL_cf648a03530c45a3b81cfd338388462d"
      }
     },
     "2e0d7514713d4b26a0f6a31bb1f0d880": {
      "model_module": "@jupyter-widgets/controls",
      "model_module_version": "1.5.0",
      "model_name": "LabelModel",
      "state": {
       "description": "output variable",
       "layout": "IPY_MODEL_7604dd63994849aa8c957c7e1d404833",
       "style": "IPY_MODEL_52fe76bf651241a2ac70821304f91c90",
       "value": "output variable"
      }
     },
     "31032ed3af144c5aa2b99070f68136f7": {
      "model_module": "@jupyter-widgets/controls",
      "model_module_version": "1.5.0",
      "model_name": "ButtonModel",
      "state": {
       "_dom_classes": [
        "hidden"
       ],
       "description": "Run",
       "layout": "IPY_MODEL_5cede80c920b435ab1570f5dec3c7dd2",
       "style": "IPY_MODEL_039a32e64db7405aa37338585aa1d880"
      }
     },
     "317754888dcf49529b7e465206f10c17": {
      "model_module": "@jupyter-widgets/controls",
      "model_module_version": "1.5.0",
      "model_name": "GridBoxModel",
      "state": {
       "_dom_classes": [
        "nbtools-input",
        "nbtools-comboinput",
        "required"
       ],
       "children": [
        "IPY_MODEL_2d8b172a5619414a85158da293be9ef9",
        "IPY_MODEL_832fca2fdedc43189767409f691d1717",
        "IPY_MODEL_04d6a8be89804812b4c89545a1843531"
       ],
       "layout": "IPY_MODEL_fefaf511121c4e9ab3d9981808c358db"
      }
     },
     "322107968267426186cf60f18d7cf492": {
      "model_module": "@jupyter-widgets/controls",
      "model_module_version": "1.5.0",
      "model_name": "VBoxModel",
      "state": {
       "_dom_classes": [
        "widget-interact"
       ],
       "children": [
        "IPY_MODEL_ed23a376f7c5455d85dba066be77f062",
        "IPY_MODEL_79366d179abf48a9b29141abef01fb7a"
       ],
       "layout": "IPY_MODEL_208a07abd25a4bd386b693b008e6a17b"
      }
     },
     "3308c74ce2b94ea8957a37da5762744b": {
      "model_module": "@jupyter-widgets/controls",
      "model_module_version": "1.5.0",
      "model_name": "DescriptionStyleModel",
      "state": {
       "description_width": ""
      }
     },
     "379cfdf0a55b4875bd3a446bdd5a36b9": {
      "model_module": "@jupyter-widgets/base",
      "model_module_version": "1.2.0",
      "model_name": "LayoutModel",
      "state": {}
     },
     "396f98373a9a468bb77019fb296f9e88": {
      "model_module": "@jupyter-widgets/controls",
      "model_module_version": "1.5.0",
      "model_name": "ButtonStyleModel",
      "state": {}
     },
     "3a908570e81440fb9e51b30f526aacb0": {
      "model_module": "@jupyter-widgets/base",
      "model_module_version": "1.2.0",
      "model_name": "LayoutModel",
      "state": {}
     },
     "3d1224b0759f4fa4bc1f5644c58b52af": {
      "model_module": "@jupyter-widgets/controls",
      "model_module_version": "1.5.0",
      "model_name": "GridBoxModel",
      "state": {
       "_dom_classes": [
        "nbtools-input",
        "nbtools-textinput"
       ],
       "children": [
        "IPY_MODEL_813a2af1d34b4db8ac7386e5e1ff2c19",
        "IPY_MODEL_170fb56e311d430e8a02bd69618746cd",
        "IPY_MODEL_83b37f1f80d34e52833cf393a48fc336"
       ],
       "layout": "IPY_MODEL_d3e661e0a41f4410b8d2bb691bd5cea9"
      }
     },
     "3ebee57ecf46411cad0654df17ee417c": {
      "model_module": "@jupyter-widgets/base",
      "model_module_version": "1.2.0",
      "model_name": "LayoutModel",
      "state": {
       "grid_area": "input",
       "width": "auto"
      }
     },
     "3eca22e438f9402786d5f28ac2e2fc30": {
      "model_module": "@jupyter-widgets/controls",
      "model_module_version": "1.5.0",
      "model_name": "TextModel",
      "state": {
       "_dom_classes": [
        "nbtools-menu-attached"
       ],
       "layout": "IPY_MODEL_5f4ed45c14684b748af508f9382d6473",
       "style": "IPY_MODEL_0f8af655625b4a879604d4a08a6c3f55"
      }
     },
     "475a15eb0de3449aac23b0a9962cfc68": {
      "model_module": "@jupyter-widgets/base",
      "model_module_version": "1.2.0",
      "model_name": "LayoutModel",
      "state": {
       "grid_area": "description",
       "width": "auto"
      }
     },
     "4820200307134214bd647c2132126674": {
      "model_module": "@jupyter-widgets/controls",
      "model_module_version": "1.5.0",
      "model_name": "DescriptionStyleModel",
      "state": {
       "description_width": ""
      }
     },
     "4b89d005a6b34c8a89e6972966472fef": {
      "model_module": "@jupyter-widgets/base",
      "model_module_version": "1.2.0",
      "model_name": "LayoutModel",
      "state": {}
     },
     "4cd6b4c15bf142d19c5c03c088aa124f": {
      "model_module": "@jupyter-widgets/base",
      "model_module_version": "1.2.0",
      "model_name": "LayoutModel",
      "state": {
       "grid_area": "input",
       "width": "auto"
      }
     },
     "4cec947df6854b91869ef11c65ecc101": {
      "model_module": "@jupyter-widgets/base",
      "model_module_version": "1.2.0",
      "model_name": "LayoutModel",
      "state": {
       "grid_area": "input",
       "width": "auto"
      }
     },
     "500b5395b34b44acb1224c9425f90884": {
      "model_module": "@jupyter-widgets/base",
      "model_module_version": "1.2.0",
      "model_name": "LayoutModel",
      "state": {}
     },
     "52fe76bf651241a2ac70821304f91c90": {
      "model_module": "@jupyter-widgets/controls",
      "model_module_version": "1.5.0",
      "model_name": "DescriptionStyleModel",
      "state": {
       "description_width": ""
      }
     },
     "57c6a7e08ca248bf85c7e91a62115192": {
      "model_module": "@jupyter-widgets/controls",
      "model_module_version": "1.5.0",
      "model_name": "LabelModel",
      "state": {
       "description": "output variable",
       "layout": "IPY_MODEL_a37b2c148ea64bc89f445ad4b62804f4",
       "style": "IPY_MODEL_8ab5f121d8c94fe0914339905eecf685",
       "value": "output variable"
      }
     },
     "5c3b336316174564a246e79d5666b82a": {
      "model_module": "@jupyter-widgets/controls",
      "model_module_version": "1.5.0",
      "model_name": "VBoxModel",
      "state": {
       "_dom_classes": [
        "widget-interact"
       ],
       "children": [
        "IPY_MODEL_8e637d7889c64bc290142d1bcc3df989",
        "IPY_MODEL_90f2254ee7d047d29b565c4f78cd8d67",
        "IPY_MODEL_f3ca19bf36d74f8d85970d2618662b34"
       ],
       "layout": "IPY_MODEL_500b5395b34b44acb1224c9425f90884"
      }
     },
     "5cede80c920b435ab1570f5dec3c7dd2": {
      "model_module": "@jupyter-widgets/base",
      "model_module_version": "1.2.0",
      "model_name": "LayoutModel",
      "state": {}
     },
     "5f4ed45c14684b748af508f9382d6473": {
      "model_module": "@jupyter-widgets/base",
      "model_module_version": "1.2.0",
      "model_name": "LayoutModel",
      "state": {
       "grid_area": "input",
       "width": "auto"
      }
     },
     "5ff8e8e6ab7a4796ad2b4516490c6472": {
      "model_module": "@jupyter-widgets/base",
      "model_module_version": "1.2.0",
      "model_name": "LayoutModel",
      "state": {}
     },
     "67df5990e3f644a69a399f920990e844": {
      "model_module": "@jupyter-widgets/controls",
      "model_module_version": "1.5.0",
      "model_name": "LabelModel",
      "state": {
       "layout": "IPY_MODEL_8060f82acdc04aeda4b89505bbdeadb9",
       "style": "IPY_MODEL_fac415bf775c4c2db049ab34929eca96"
      }
     },
     "6ab7a1943e1346a2ba38ef2c233f38e3": {
      "model_module": "@jupyter-widgets/controls",
      "model_module_version": "1.5.0",
      "model_name": "LabelModel",
      "state": {
       "description": "Username",
       "layout": "IPY_MODEL_83ba713f9053406a86226628b12fe5ec",
       "style": "IPY_MODEL_afe7ade24ac8464bb358f0689af50fb3",
       "value": "Username*"
      }
     },
     "6d29c30fe62c4365a2361c4006627f60": {
      "model_module": "@jupyter-widgets/controls",
      "model_module_version": "1.5.0",
      "model_name": "DescriptionStyleModel",
      "state": {
       "description_width": ""
      }
     },
     "6d34c6846f614e1abaa86f237a463321": {
      "model_module": "@jupyter-widgets/controls",
      "model_module_version": "1.5.0",
      "model_name": "LabelModel",
      "state": {
       "layout": "IPY_MODEL_cc2646860a5c4409af62aa87219398f6",
       "style": "IPY_MODEL_cc00fda72c824323a0b4bc4efe5db140"
      }
     },
     "716ceb02d0e143b49d8824646b62cf37": {
      "model_module": "@jupyter-widgets/controls",
      "model_module_version": "1.5.0",
      "model_name": "VBoxModel",
      "state": {
       "_dom_classes": [
        "widget-interact"
       ],
       "children": [
        "IPY_MODEL_bde804c2fcf544ca87dc85a3213f9fb2",
        "IPY_MODEL_8b7122f121a34ac7bdc64154680dd88e"
       ],
       "layout": "IPY_MODEL_b3dcd3ed4fd14f22a69f9c435790aa09"
      }
     },
     "727b9f29a6ad49c1b1e2378780ce7fff": {
      "model_module": "@jupyter-widgets/controls",
      "model_module_version": "1.5.0",
      "model_name": "DescriptionStyleModel",
      "state": {
       "description_width": ""
      }
     },
     "727ccad32ad64f41bb8a0048c5bd486d": {
      "model_module": "@jupyter-widgets/base",
      "model_module_version": "1.2.0",
      "model_name": "LayoutModel",
      "state": {}
     },
     "73d205ab06304425895de94ab77dd9e4": {
      "model_module": "@jupyter-widgets/controls",
      "model_module_version": "1.5.0",
      "model_name": "LabelModel",
      "state": {
       "description": "bar",
       "layout": "IPY_MODEL_76568dbc2ce742d1bd53a79e866bd0d3",
       "style": "IPY_MODEL_1a2eb4f3b5854982943ad4977faf42ba",
       "value": "bar*"
      }
     },
     "74264805174f4697941beec0036d3f97": {
      "model_module": "@jupyter-widgets/base",
      "model_module_version": "1.2.0",
      "model_name": "LayoutModel",
      "state": {
       "display": "none",
       "grid_template_areas": "\n                    \"label input\"\n                    \". description\"\n                ",
       "grid_template_columns": "25% 75%",
       "grid_template_rows": "auto auto",
       "width": "100%"
      }
     },
     "7455ad4189b246aba4afccbe2abae1dc": {
      "model_module": "@jupyter-widgets/base",
      "model_module_version": "1.2.0",
      "model_name": "LayoutModel",
      "state": {}
     },
     "7604dd63994849aa8c957c7e1d404833": {
      "model_module": "@jupyter-widgets/base",
      "model_module_version": "1.2.0",
      "model_name": "LayoutModel",
      "state": {
       "grid_area": "label",
       "width": "auto"
      }
     },
     "76568dbc2ce742d1bd53a79e866bd0d3": {
      "model_module": "@jupyter-widgets/base",
      "model_module_version": "1.2.0",
      "model_name": "LayoutModel",
      "state": {
       "grid_area": "label",
       "width": "auto"
      }
     },
     "785930e20fe247c8bc4f345afcef4a12": {
      "model_module": "@jupyter-widgets/controls",
      "model_module_version": "1.5.0",
      "model_name": "DescriptionStyleModel",
      "state": {
       "description_width": ""
      }
     },
     "79366d179abf48a9b29141abef01fb7a": {
      "model_module": "@jupyter-widgets/output",
      "model_module_version": "1.0.0",
      "model_name": "OutputModel",
      "state": {
       "layout": "IPY_MODEL_0cfa000c18ee41b0aeeaa60476c2fd96"
      }
     },
     "7939f432e87346619de7796ca6a8be89": {
      "model_module": "@jupyter-widgets/base",
      "model_module_version": "1.2.0",
      "model_name": "LayoutModel",
      "state": {}
     },
     "7a895176682b4b33b8fd03c5f88c85c2": {
      "model_module": "@jupyter-widgets/base",
      "model_module_version": "1.2.0",
      "model_name": "LayoutModel",
      "state": {
       "grid_template_areas": "\n                    \"label input\"\n                    \". description\"\n                ",
       "grid_template_columns": "25% 75%",
       "grid_template_rows": "auto auto",
       "width": "100%"
      }
     },
     "7b2ccd73af1f4a879d0c882889576015": {
      "model_module": "@jupyter-widgets/base",
      "model_module_version": "1.2.0",
      "model_name": "LayoutModel",
      "state": {
       "grid_area": "description",
       "width": "auto"
      }
     },
     "7c38402fc4be49629debc3d6d39b9b9e": {
      "model_module": "@jupyter-widgets/controls",
      "model_module_version": "1.5.0",
      "model_name": "FileUploadModel",
      "state": {
       "accept": "._s.odf",
       "description_tooltip": null,
       "layout": "IPY_MODEL_7939f432e87346619de7796ca6a8be89",
       "style": "IPY_MODEL_396f98373a9a468bb77019fb296f9e88"
      }
     },
     "7dede92027054a7695998b4928c335d7": {
      "model_module": "@jupyter-widgets/controls",
      "model_module_version": "1.5.0",
      "model_name": "GridBoxModel",
      "state": {
       "_dom_classes": [
        "nbtools-input",
        "nbtools-textinput",
        "required"
       ],
       "children": [
        "IPY_MODEL_6ab7a1943e1346a2ba38ef2c233f38e3",
        "IPY_MODEL_ae1b5062ad7c4f23b425cd6903b704b0",
        "IPY_MODEL_2479b1e442c5446eb450a2dbb0a19273"
       ],
       "layout": "IPY_MODEL_7a895176682b4b33b8fd03c5f88c85c2"
      }
     },
     "7f1f9d72882b4636abea8cc50504e1a9": {
      "model_module": "@jupyter-widgets/controls",
      "model_module_version": "1.5.0",
      "model_name": "GridBoxModel",
      "state": {
       "_dom_classes": [
        "nbtools-input",
        "nbtools-textinput"
       ],
       "children": [
        "IPY_MODEL_2e0d7514713d4b26a0f6a31bb1f0d880",
        "IPY_MODEL_d2eeca75c1904a63828b10e8bd217632",
        "IPY_MODEL_b20650495d0b47519479de178c748d0e"
       ],
       "layout": "IPY_MODEL_74264805174f4697941beec0036d3f97"
      }
     },
     "8060f82acdc04aeda4b89505bbdeadb9": {
      "model_module": "@jupyter-widgets/base",
      "model_module_version": "1.2.0",
      "model_name": "LayoutModel",
      "state": {
       "grid_area": "description",
       "width": "auto"
      }
     },
     "813a2af1d34b4db8ac7386e5e1ff2c19": {
      "model_module": "@jupyter-widgets/controls",
      "model_module_version": "1.5.0",
      "model_name": "LabelModel",
      "state": {
       "description": "output variable",
       "layout": "IPY_MODEL_98524f7a2a104788a5aa49c546c48e61",
       "style": "IPY_MODEL_1ce9d3dbdecd41d2a33074edef565ba6",
       "value": "output variable"
      }
     },
     "832fca2fdedc43189767409f691d1717": {
      "model_module": "@jupyter-widgets/controls",
      "model_module_version": "1.5.0",
      "model_name": "ComboboxModel",
      "state": {
       "_dom_classes": [
        "nbtools-menu-attached",
        "nbtools-nosendto"
       ],
       "choices": {
        "Broad Internal": "https://gpbroad.broadinstitute.org/gp",
        "GenePattern Cloud": "https://cloud.genepattern.org/gp",
        "Indiana University": "https://gp.indiana.edu/gp"
       },
       "ensure_option": false,
       "kinds": [],
       "layout": "IPY_MODEL_299530b9758043a28cbb159c08c05a7e",
       "style": "IPY_MODEL_6d29c30fe62c4365a2361c4006627f60",
       "value": "https://cloud.genepattern.org/gp"
      }
     },
     "837d1fbae9cf4eff890b54e1eaa7be05": {
      "model_module": "@jupyter-widgets/controls",
      "model_module_version": "1.5.0",
      "model_name": "DescriptionStyleModel",
      "state": {
       "description_width": ""
      }
     },
     "83b37f1f80d34e52833cf393a48fc336": {
      "model_module": "@jupyter-widgets/controls",
      "model_module_version": "1.5.0",
      "model_name": "LabelModel",
      "state": {
       "layout": "IPY_MODEL_d8185cb20b584925bd669fd7e3631329",
       "style": "IPY_MODEL_3308c74ce2b94ea8957a37da5762744b"
      }
     },
     "83ba713f9053406a86226628b12fe5ec": {
      "model_module": "@jupyter-widgets/base",
      "model_module_version": "1.2.0",
      "model_name": "LayoutModel",
      "state": {
       "grid_area": "label",
       "width": "auto"
      }
     },
     "849bea2f9f7f4c02a8af90f30700f73a": {
      "model_module": "@jupyter-widgets/controls",
      "model_module_version": "1.5.0",
      "model_name": "ButtonStyleModel",
      "state": {}
     },
     "84c892fc89ff4ce7903681d7c59cd02c": {
      "model_module": "@jupyter-widgets/controls",
      "model_module_version": "1.5.0",
      "model_name": "DescriptionStyleModel",
      "state": {
       "description_width": ""
      }
     },
     "8706a444ca6648c8af83abee1000e112": {
      "model_module": "@jupyter-widgets/base",
      "model_module_version": "1.2.0",
      "model_name": "LayoutModel",
      "state": {
       "display": "none",
       "grid_template_areas": "\n                    \"label input\"\n                    \". description\"\n                ",
       "grid_template_columns": "25% 75%",
       "grid_template_rows": "auto auto",
       "width": "100%"
      }
     },
     "89c0634d1b204cbeb8ebf3e8cf4c2ac6": {
      "model_module": "@jupyter-widgets/base",
      "model_module_version": "1.2.0",
      "model_name": "LayoutModel",
      "state": {}
     },
     "8ab5f121d8c94fe0914339905eecf685": {
      "model_module": "@jupyter-widgets/controls",
      "model_module_version": "1.5.0",
      "model_name": "DescriptionStyleModel",
      "state": {
       "description_width": ""
      }
     },
     "8b7122f121a34ac7bdc64154680dd88e": {
      "model_module": "@jupyter-widgets/output",
      "model_module_version": "1.0.0",
      "model_name": "OutputModel",
      "state": {
       "layout": "IPY_MODEL_89c0634d1b204cbeb8ebf3e8cf4c2ac6"
      }
     },
     "8dd616afd5bc41719c3d49b507eb4c18": {
      "model_module": "@jupyter-widgets/controls",
      "model_module_version": "1.5.0",
      "model_name": "LabelModel",
      "state": {
       "description": "output variable",
       "layout": "IPY_MODEL_b748f43e85c94578b55c7c2196900b3b",
       "style": "IPY_MODEL_b07e2ce8c1bb485a839c33922e4f8b61",
       "value": "output variable"
      }
     },
     "8e637d7889c64bc290142d1bcc3df989": {
      "model_module": "@jupyter-widgets/controls",
      "model_module_version": "1.5.0",
      "model_name": "GridBoxModel",
      "state": {
       "_dom_classes": [
        "nbtools-input",
        "nbtools-fileinput",
        "required"
       ],
       "children": [
        "IPY_MODEL_73d205ab06304425895de94ab77dd9e4",
        "IPY_MODEL_d9fb4cc3b1dd45ca89476fe8436bd8dd",
        "IPY_MODEL_ea1cced731b444f9900fd70602db3145"
       ],
       "layout": "IPY_MODEL_19da5b74430145859a70d28faa4d669a"
      }
     },
     "90f2254ee7d047d29b565c4f78cd8d67": {
      "model_module": "@jupyter-widgets/controls",
      "model_module_version": "1.5.0",
      "model_name": "ButtonModel",
      "state": {
       "_dom_classes": [
        "hidden"
       ],
       "description": "Run",
       "layout": "IPY_MODEL_c02c82b0899041d8aa19bca358396f4b",
       "style": "IPY_MODEL_da997134cae24d1da50e1d3d777994ca"
      }
     },
     "9411a07b148947a99e493dded211cca3": {
      "model_module": "@jupyter-widgets/controls",
      "model_module_version": "1.5.0",
      "model_name": "DescriptionStyleModel",
      "state": {
       "description_width": ""
      }
     },
     "94deff3432dc4a2ca36e8905a40fbe70": {
      "model_module": "@jupyter-widgets/controls",
      "model_module_version": "1.5.0",
      "model_name": "VBoxModel",
      "state": {
       "layout": "IPY_MODEL_4b89d005a6b34c8a89e6972966472fef"
      }
     },
     "96059f0426d04afab511d8e4b7f5a22c": {
      "model_module": "@jupyter-widgets/controls",
      "model_module_version": "1.5.0",
      "model_name": "DescriptionStyleModel",
      "state": {
       "description_width": ""
      }
     },
     "98524f7a2a104788a5aa49c546c48e61": {
      "model_module": "@jupyter-widgets/base",
      "model_module_version": "1.2.0",
      "model_name": "LayoutModel",
      "state": {
       "grid_area": "label",
       "width": "auto"
      }
     },
     "a37b2c148ea64bc89f445ad4b62804f4": {
      "model_module": "@jupyter-widgets/base",
      "model_module_version": "1.2.0",
      "model_name": "LayoutModel",
      "state": {
       "grid_area": "label",
       "width": "auto"
      }
     },
     "a6111db2ad83414dbf521ce48e3b95f4": {
      "model_module": "@jupyter-widgets/controls",
      "model_module_version": "1.5.0",
      "model_name": "VBoxModel",
      "state": {
       "children": [
        "IPY_MODEL_e351944d5365402286b10bdb42290a5b"
       ],
       "layout": "IPY_MODEL_727ccad32ad64f41bb8a0048c5bd486d"
      }
     },
     "acfce2cc8dd24ca7ba0995c03ce97997": {
      "model_module": "@jupyter-widgets/base",
      "model_module_version": "1.2.0",
      "model_name": "LayoutModel",
      "state": {
       "grid_area": "input",
       "width": "auto"
      }
     },
     "ae1b5062ad7c4f23b425cd6903b704b0": {
      "model_module": "@jupyter-widgets/controls",
      "model_module_version": "1.5.0",
      "model_name": "TextModel",
      "state": {
       "_dom_classes": [
        "nbtools-menu-attached"
       ],
       "layout": "IPY_MODEL_f92003077e7c4ea693d5e93d8e089cbd",
       "style": "IPY_MODEL_0a0f34b66aff410182537c3930f9bb9f"
      }
     },
     "afe7ade24ac8464bb358f0689af50fb3": {
      "model_module": "@jupyter-widgets/controls",
      "model_module_version": "1.5.0",
      "model_name": "DescriptionStyleModel",
      "state": {
       "description_width": ""
      }
     },
     "b07e2ce8c1bb485a839c33922e4f8b61": {
      "model_module": "@jupyter-widgets/controls",
      "model_module_version": "1.5.0",
      "model_name": "DescriptionStyleModel",
      "state": {
       "description_width": ""
      }
     },
     "b0e450117f4b44048aadc87b966aec05": {
      "model_module": "@jupyter-widgets/controls",
      "model_module_version": "1.5.0",
      "model_name": "DescriptionStyleModel",
      "state": {
       "description_width": ""
      }
     },
     "b20650495d0b47519479de178c748d0e": {
      "model_module": "@jupyter-widgets/controls",
      "model_module_version": "1.5.0",
      "model_name": "LabelModel",
      "state": {
       "layout": "IPY_MODEL_b74999e6fc1c4b21a7fad8b44aee254b",
       "style": "IPY_MODEL_785930e20fe247c8bc4f345afcef4a12"
      }
     },
     "b3560b724d9d489a9c442bdbb845f7a1": {
      "model_module": "@jupyter-widgets/base",
      "model_module_version": "1.2.0",
      "model_name": "LayoutModel",
      "state": {}
     },
     "b3dcd3ed4fd14f22a69f9c435790aa09": {
      "model_module": "@jupyter-widgets/base",
      "model_module_version": "1.2.0",
      "model_name": "LayoutModel",
      "state": {}
     },
     "b5a8c1ed5ee5448c8f725ff74aed797f": {
      "model_module": "@jupyter-widgets/base",
      "model_module_version": "1.2.0",
      "model_name": "LayoutModel",
      "state": {
       "grid_template_areas": "\n                    \"label input\"\n                    \". description\"\n                ",
       "grid_template_columns": "25% 75%",
       "grid_template_rows": "auto auto",
       "width": "100%"
      }
     },
     "b748f43e85c94578b55c7c2196900b3b": {
      "model_module": "@jupyter-widgets/base",
      "model_module_version": "1.2.0",
      "model_name": "LayoutModel",
      "state": {
       "grid_area": "label",
       "width": "auto"
      }
     },
     "b74999e6fc1c4b21a7fad8b44aee254b": {
      "model_module": "@jupyter-widgets/base",
      "model_module_version": "1.2.0",
      "model_name": "LayoutModel",
      "state": {
       "grid_area": "description",
       "width": "auto"
      }
     },
     "b909389177ca47bda61f726ccbe6c5d0": {
      "model_module": "@jupyter-widgets/controls",
      "model_module_version": "1.5.0",
      "model_name": "DescriptionStyleModel",
      "state": {
       "description_width": ""
      }
     },
     "bb8384af820c47c98fdfcca0255bfb4d": {
      "model_module": "@jupyter-widgets/base",
      "model_module_version": "1.2.0",
      "model_name": "LayoutModel",
      "state": {
       "display": "none",
       "grid_template_areas": "\n                    \"label input\"\n                    \". description\"\n                ",
       "grid_template_columns": "25% 75%",
       "grid_template_rows": "auto auto",
       "width": "100%"
      }
     },
     "bc4aad2f12be478189c91932eb7e8b6b": {
      "model_module": "@jupyter-widgets/base",
      "model_module_version": "1.2.0",
      "model_name": "LayoutModel",
      "state": {}
     },
     "bd4006bdce244558b8f52b7766ede6a7": {
      "model_module": "@jupyter-widgets/base",
      "model_module_version": "1.2.0",
      "model_name": "LayoutModel",
      "state": {}
     },
     "bde804c2fcf544ca87dc85a3213f9fb2": {
      "model_module": "@jupyter-widgets/controls",
      "model_module_version": "1.5.0",
      "model_name": "ButtonModel",
      "state": {
       "_dom_classes": [
        "hidden"
       ],
       "description": "Run",
       "layout": "IPY_MODEL_1c65fcf4ebc140a4aa1ae9622def3166",
       "style": "IPY_MODEL_849bea2f9f7f4c02a8af90f30700f73a"
      }
     },
     "bee0bca41ee7487badf12a6e240f6a28": {
      "model_module": "@jupyter-widgets/base",
      "model_module_version": "1.2.0",
      "model_name": "LayoutModel",
      "state": {
       "grid_area": "label",
       "width": "auto"
      }
     },
     "c02c82b0899041d8aa19bca358396f4b": {
      "model_module": "@jupyter-widgets/base",
      "model_module_version": "1.2.0",
      "model_name": "LayoutModel",
      "state": {}
     },
     "c2eaf55ebfbc4085b2d2540ea27f47f7": {
      "model_module": "@jupyter-widgets/output",
      "model_module_version": "1.0.0",
      "model_name": "OutputModel",
      "state": {
       "layout": "IPY_MODEL_5ff8e8e6ab7a4796ad2b4516490c6472",
       "outputs": [
        {
         "data": {},
         "metadata": {},
         "output_type": "display_data"
        }
       ]
      }
     },
     "c7d744c71c2a4eeaabf29c956ee0d3e6": {
      "model_module": "@jupyter-widgets/base",
      "model_module_version": "1.2.0",
      "model_name": "LayoutModel",
      "state": {}
     },
     "c8511c77b5cd4d7980ef20f7e7203f74": {
      "model_module": "@jupyter-widgets/base",
      "model_module_version": "1.2.0",
      "model_name": "LayoutModel",
      "state": {}
     },
     "caa802d6a8ae4f19b87023293b18e518": {
      "model_module": "@jupyter-widgets/base",
      "model_module_version": "1.2.0",
      "model_name": "LayoutModel",
      "state": {}
     },
     "cc00fda72c824323a0b4bc4efe5db140": {
      "model_module": "@jupyter-widgets/controls",
      "model_module_version": "1.5.0",
      "model_name": "DescriptionStyleModel",
      "state": {
       "description_width": ""
      }
     },
     "cc2646860a5c4409af62aa87219398f6": {
      "model_module": "@jupyter-widgets/base",
      "model_module_version": "1.2.0",
      "model_name": "LayoutModel",
      "state": {
       "grid_area": "description",
       "width": "auto"
      }
     },
     "cf648a03530c45a3b81cfd338388462d": {
      "model_module": "@jupyter-widgets/base",
      "model_module_version": "1.2.0",
      "model_name": "LayoutModel",
      "state": {}
     },
     "d15844e9afb641198a8c85efd6fe4a27": {
      "model_module": "@jupyter-widgets/controls",
      "model_module_version": "1.5.0",
      "model_name": "LabelModel",
      "state": {
       "description": "Password",
       "layout": "IPY_MODEL_bee0bca41ee7487badf12a6e240f6a28",
       "style": "IPY_MODEL_96059f0426d04afab511d8e4b7f5a22c",
       "value": "Password*"
      }
     },
     "d2dd5818ac8e42588ab9e2dbc6490159": {
      "model_module": "@jupyter-widgets/output",
      "model_module_version": "1.0.0",
      "model_name": "OutputModel",
      "state": {
       "layout": "IPY_MODEL_3a908570e81440fb9e51b30f526aacb0"
      }
     },
     "d2eeca75c1904a63828b10e8bd217632": {
      "model_module": "@jupyter-widgets/controls",
      "model_module_version": "1.5.0",
      "model_name": "TextModel",
      "state": {
       "_dom_classes": [
        "nbtools-menu-attached"
       ],
       "layout": "IPY_MODEL_4cec947df6854b91869ef11c65ecc101",
       "style": "IPY_MODEL_4820200307134214bd647c2132126674"
      }
     },
     "d3e661e0a41f4410b8d2bb691bd5cea9": {
      "model_module": "@jupyter-widgets/base",
      "model_module_version": "1.2.0",
      "model_name": "LayoutModel",
      "state": {
       "display": "none",
       "grid_template_areas": "\n                    \"label input\"\n                    \". description\"\n                ",
       "grid_template_columns": "25% 75%",
       "grid_template_rows": "auto auto",
       "width": "100%"
      }
     },
     "d421584f66864625b56d9f4d43026ee4": {
      "model_module": "@jupyter-widgets/base",
      "model_module_version": "1.2.0",
      "model_name": "LayoutModel",
      "state": {
       "grid_area": "label",
       "width": "auto"
      }
     },
     "d8185cb20b584925bd669fd7e3631329": {
      "model_module": "@jupyter-widgets/base",
      "model_module_version": "1.2.0",
      "model_name": "LayoutModel",
      "state": {
       "grid_area": "description",
       "width": "auto"
      }
     },
     "d9fb4cc3b1dd45ca89476fe8436bd8dd": {
      "model_module": "@jupyter-widgets/controls",
      "model_module_version": "1.5.0",
      "model_name": "HBoxModel",
      "state": {
       "children": [
        "IPY_MODEL_7c38402fc4be49629debc3d6d39b9b9e",
        "IPY_MODEL_a6111db2ad83414dbf521ce48e3b95f4"
       ],
       "layout": "IPY_MODEL_acfce2cc8dd24ca7ba0995c03ce97997"
      }
     },
     "da997134cae24d1da50e1d3d777994ca": {
      "model_module": "@jupyter-widgets/controls",
      "model_module_version": "1.5.0",
      "model_name": "ButtonStyleModel",
      "state": {}
     },
     "db44d3ce88844134a88621550dbbd599": {
      "model_module": "@jupyter-widgets/base",
      "model_module_version": "1.2.0",
      "model_name": "LayoutModel",
      "state": {
       "grid_area": "description",
       "width": "auto"
      }
     },
     "dbad1915d44a46f982d22f96af7b24af": {
      "model_module": "@jupyter-widgets/controls",
      "model_module_version": "1.5.0",
      "model_name": "VBoxModel",
      "state": {
       "_dom_classes": [
        "widget-interact"
       ],
       "children": [
        "IPY_MODEL_317754888dcf49529b7e465206f10c17",
        "IPY_MODEL_7dede92027054a7695998b4928c335d7",
        "IPY_MODEL_0012714fc3bd4e149cd1a73e5286f145",
        "IPY_MODEL_31032ed3af144c5aa2b99070f68136f7",
        "IPY_MODEL_e3984db2b3c44b7fa706c1c527b082bc"
       ],
       "layout": "IPY_MODEL_c8511c77b5cd4d7980ef20f7e7203f74"
      }
     },
     "e1d2685967b1472999957df37e937ec6": {
      "model_module": "@jupyter-widgets/output",
      "model_module_version": "1.0.0",
      "model_name": "OutputModel",
      "state": {
       "layout": "IPY_MODEL_caa802d6a8ae4f19b87023293b18e518"
      }
     },
     "e3405d14470b4f28b26867cd4b692352": {
      "model_module": "@jupyter-widgets/output",
      "model_module_version": "1.0.0",
      "model_name": "OutputModel",
      "state": {
       "layout": "IPY_MODEL_bc4aad2f12be478189c91932eb7e8b6b"
      }
     },
     "e351944d5365402286b10bdb42290a5b": {
      "model_module": "@jupyter-widgets/controls",
      "model_module_version": "1.5.0",
      "model_name": "ComboboxModel",
      "state": {
       "_dom_classes": [
        "nbtools-menu-attached"
       ],
       "choices": {},
       "ensure_option": false,
       "kinds": [
        "_s.odf"
       ],
       "layout": "IPY_MODEL_bd4006bdce244558b8f52b7766ede6a7",
       "style": "IPY_MODEL_1427af3ed87e4d8e84dc910092f1cf14"
      }
     },
     "e3984db2b3c44b7fa706c1c527b082bc": {
      "model_module": "@jupyter-widgets/controls",
      "model_module_version": "1.5.0",
      "model_name": "GridBoxModel",
      "state": {
       "_dom_classes": [
        "nbtools-input",
        "nbtools-textinput"
       ],
       "children": [
        "IPY_MODEL_8dd616afd5bc41719c3d49b507eb4c18",
        "IPY_MODEL_3eca22e438f9402786d5f28ac2e2fc30",
        "IPY_MODEL_6d34c6846f614e1abaa86f237a463321"
       ],
       "layout": "IPY_MODEL_8706a444ca6648c8af83abee1000e112"
      }
     },
     "ea1cced731b444f9900fd70602db3145": {
      "model_module": "@jupyter-widgets/controls",
      "model_module_version": "1.5.0",
      "model_name": "LabelModel",
      "state": {
       "layout": "IPY_MODEL_475a15eb0de3449aac23b0a9962cfc68",
       "style": "IPY_MODEL_84c892fc89ff4ce7903681d7c59cd02c"
      }
     },
     "ea3f04ac371349ebab45b07933ccd310": {
      "model_module": "@jupyter-widgets/base",
      "model_module_version": "1.2.0",
      "model_name": "LayoutModel",
      "state": {
       "grid_area": "description",
       "width": "auto"
      }
     },
     "ed23a376f7c5455d85dba066be77f062": {
      "model_module": "@jupyter-widgets/controls",
      "model_module_version": "1.5.0",
      "model_name": "ButtonModel",
      "state": {
       "_dom_classes": [
        "hidden"
       ],
       "description": "Run",
       "layout": "IPY_MODEL_379cfdf0a55b4875bd3a446bdd5a36b9",
       "style": "IPY_MODEL_0f7b35e7983c44908ee28c64900e943b"
      }
     },
     "f3ca19bf36d74f8d85970d2618662b34": {
      "model_module": "@jupyter-widgets/controls",
      "model_module_version": "1.5.0",
      "model_name": "GridBoxModel",
      "state": {
       "_dom_classes": [
        "nbtools-input",
        "nbtools-textinput"
       ],
       "children": [
        "IPY_MODEL_57c6a7e08ca248bf85c7e91a62115192",
        "IPY_MODEL_fd6d600743464c81b1b633e3b131ddd8",
        "IPY_MODEL_67df5990e3f644a69a399f920990e844"
       ],
       "layout": "IPY_MODEL_bb8384af820c47c98fdfcca0255bfb4d"
      }
     },
     "f92003077e7c4ea693d5e93d8e089cbd": {
      "model_module": "@jupyter-widgets/base",
      "model_module_version": "1.2.0",
      "model_name": "LayoutModel",
      "state": {
       "grid_area": "input",
       "width": "auto"
      }
     },
     "f92f724b37034815bf4d33cba941071b": {
      "model_module": "@jupyter-widgets/controls",
      "model_module_version": "1.5.0",
      "model_name": "DescriptionStyleModel",
      "state": {
       "description_width": ""
      }
     },
     "fac415bf775c4c2db049ab34929eca96": {
      "model_module": "@jupyter-widgets/controls",
      "model_module_version": "1.5.0",
      "model_name": "DescriptionStyleModel",
      "state": {
       "description_width": ""
      }
     },
     "fbf08f8427a5422797f6c810afa3fb36": {
      "model_module": "@jupyter-widgets/controls",
      "model_module_version": "1.5.0",
      "model_name": "DescriptionStyleModel",
      "state": {
       "description_width": ""
      }
     },
     "fc357306243240f7802645dd9668e611": {
      "model_module": "@jupyter-widgets/controls",
      "model_module_version": "1.5.0",
      "model_name": "PasswordModel",
      "state": {
       "layout": "IPY_MODEL_2259618a03c9485f92c3e89f4a16cd3d",
       "style": "IPY_MODEL_9411a07b148947a99e493dded211cca3"
      }
     },
     "fd6d600743464c81b1b633e3b131ddd8": {
      "model_module": "@jupyter-widgets/controls",
      "model_module_version": "1.5.0",
      "model_name": "TextModel",
      "state": {
       "_dom_classes": [
        "nbtools-menu-attached"
       ],
       "layout": "IPY_MODEL_3ebee57ecf46411cad0654df17ee417c",
       "style": "IPY_MODEL_b0e450117f4b44048aadc87b966aec05"
      }
     },
     "fefaf511121c4e9ab3d9981808c358db": {
      "model_module": "@jupyter-widgets/base",
      "model_module_version": "1.2.0",
      "model_name": "LayoutModel",
      "state": {
       "grid_template_areas": "\n                    \"label input\"\n                    \". description\"\n                ",
       "grid_template_columns": "25% 75%",
       "grid_template_rows": "auto auto",
       "width": "100%"
      }
     }
    },
    "version_major": 2,
    "version_minor": 0
   }
  }
 },
 "nbformat": 4,
 "nbformat_minor": 4
}
