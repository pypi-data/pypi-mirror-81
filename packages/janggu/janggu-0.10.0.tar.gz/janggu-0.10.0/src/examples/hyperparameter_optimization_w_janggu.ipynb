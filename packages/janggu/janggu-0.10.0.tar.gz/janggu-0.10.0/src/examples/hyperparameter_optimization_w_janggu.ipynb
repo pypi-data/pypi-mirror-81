{
 "cells": [
  {
   "cell_type": "markdown",
   "metadata": {},
   "source": [
    "# Hyperparameter optimization using Janggu"
   ]
  },
  {
   "cell_type": "markdown",
   "metadata": {},
   "source": [
    "In this notebook we illustrate how Janggu can be leveraged with hyperparameter optimization.\n",
    "In particular, for this example, we shall use the hyperopt python packages. So one needs\n",
    "to install the package using `pip install hyperopt`"
   ]
  },
  {
   "cell_type": "code",
   "execution_count": 1,
   "metadata": {},
   "outputs": [
    {
     "name": "stderr",
     "output_type": "stream",
     "text": [
      "Using TensorFlow backend.\n"
     ]
    }
   ],
   "source": [
    "import os\n",
    "\n",
    "import numpy as np\n",
    "from keras import Model\n",
    "from keras import backend as K\n",
    "from keras.layers import Conv2D\n",
    "\n",
    "from keras.layers import Dense\n",
    "from keras.layers import GlobalAveragePooling2D\n",
    "from keras.layers import Input\n",
    "from keras.layers import Reshape\n",
    "\n",
    "from pkg_resources import resource_filename\n",
    "\n",
    "from janggu import Janggu\n",
    "from janggu import Scorer\n",
    "from janggu import inputlayer\n",
    "from janggu import outputdense\n",
    "from janggu.data import Bioseq\n",
    "from janggu.data import Cover\n",
    "from janggu.data import ReduceDim\n",
    "from janggu.data import view\n",
    "from janggu.layers import DnaConv2D\n",
    "from janggu.layers import LocalAveragePooling2D\n",
    "from janggu.utils import ExportClustermap\n",
    "from janggu.utils import ExportTsne\n",
    "from janggu.utils import ExportTsv\n",
    "\n",
    "from IPython.display import Image\n",
    "\n",
    "np.random.seed(1234)\n",
    "from hyperopt import hp\n",
    "from hyperopt import tpe\n",
    "from hyperopt import fmin\n",
    "from hyperopt import Trials"
   ]
  },
  {
   "cell_type": "markdown",
   "metadata": {},
   "source": [
    "First, we need to specify the output directory in which the results are stored."
   ]
  },
  {
   "cell_type": "code",
   "execution_count": 2,
   "metadata": {},
   "outputs": [],
   "source": [
    "os.environ['JANGGU_OUTPUT'] = '/home/wkopp/janggu_examples'"
   ]
  },
  {
   "cell_type": "markdown",
   "metadata": {},
   "source": [
    "We use the following toy example files that are shipped with the package:"
   ]
  },
  {
   "cell_type": "code",
   "execution_count": 4,
   "metadata": {},
   "outputs": [],
   "source": [
    "# load the dataset\n",
    "# The pseudo genome represents just a concatenation of all sequences\n",
    "# in sample.fa and sample2.fa. Therefore, the results should be almost\n",
    "# identically to the models obtained from classify_fasta.py.\n",
    "REFGENOME = resource_filename('janggu', 'resources/pseudo_genome.fa')\n",
    "# ROI contains regions spanning positive and negative examples\n",
    "ROI_TRAIN_FILE = resource_filename('janggu', 'resources/roi_train.bed')\n",
    "ROI_VAL_FILE = resource_filename('janggu', 'resources/roi_test.bed')\n",
    "# PEAK_FILE only contains positive examples\n",
    "PEAK_FILE = resource_filename('janggu', 'resources/scores.bed')"
   ]
  },
  {
   "cell_type": "markdown",
   "metadata": {},
   "source": [
    "## Define a get_data function"
   ]
  },
  {
   "cell_type": "markdown",
   "metadata": {},
   "source": [
    "First, we define a function that instantiates the training and validation datasets needed for the model fitting/evaluation.\n",
    "The function can be parametrized by a dictionary.\n",
    "We shall make use of this parameter to test performances of different sequence encoding orders in this example.\n",
    "However, in general it can be useful, useful to consider different flanking windows,\n",
    "or normalization procedures for the coverage tracks."
   ]
  },
  {
   "cell_type": "code",
   "execution_count": 6,
   "metadata": {},
   "outputs": [],
   "source": [
    "def get_data(params):\n",
    "    DNA_TRAIN = Bioseq.create_from_refgenome('dna', refgenome=REFGENOME,\n",
    "                                             roi=ROI_TRAIN_FILE,\n",
    "                                             order=params['order'],\n",
    "                                             binsize=200,\n",
    "                                             store_whole_genome=True)\n",
    "                                   \n",
    "    LABELS_TRAIN = Cover.create_from_bed('peaks', roi=ROI_TRAIN_FILE,\n",
    "                                         bedfiles=PEAK_FILE,\n",
    "                                         binsize=200,\n",
    "                                         resolution=200,\n",
    "                                         storage='sparse',\n",
    "                                         store_whole_genome=True)\n",
    "\n",
    "    DNA_VAL = view(DNA_TRAIN, ROI_VAL_FILE)\n",
    "    LABELS_VAL = view(LABELS_TRAIN, ROI_VAL_FILE)\n",
    "    return ((DNA_TRAIN, ReduceDim(LABELS_TRAIN)), (DNA_VAL, ReduceDim(LABELS_VAL)))"
   ]
  },
  {
   "cell_type": "markdown",
   "metadata": {},
   "source": [
    "## Define and fit a model"
   ]
  },
  {
   "cell_type": "markdown",
   "metadata": {},
   "source": [
    "We define the neural network as described in other tutorial examples. Using Janggu's helper functionality."
   ]
  },
  {
   "cell_type": "code",
   "execution_count": 7,
   "metadata": {},
   "outputs": [],
   "source": [
    "@inputlayer\n",
    "@outputdense('sigmoid')\n",
    "def double_stranded_model_dnaconv(inputs, inp, oup, params):\n",
    "    \"\"\" keras model for scanning both DNA strands.\n",
    "\n",
    "    A more elegant way of scanning both strands for motif occurrences\n",
    "    is achieved by the DnaConv2D layer wrapper, which internally\n",
    "    performs the convolution operation with the normal kernel weights\n",
    "    and the reverse complemented weights.\n",
    "    \"\"\"\n",
    "    with inputs.use('dna') as layer:\n",
    "        # the name in inputs.use() should be the same as the dataset name.\n",
    "        layer = DnaConv2D(Conv2D(params[0], (params[1], 1),\n",
    "                                 activation=params[2]))(layer)\n",
    "    output = GlobalAveragePooling2D(name='motif')(layer)\n",
    "    return inputs, output\n"
   ]
  },
  {
   "cell_type": "markdown",
   "metadata": {},
   "source": [
    "Finally, we define the objective function whose semantics is explained in the hyperopt documentation in detail.\n",
    "In essense, given the `params` dictionary, the dataset is unpacked and the corresponding model is instantiated and fitted. The model's validation loss is reported back to hyperopt via the return value. This is in turn used to used to pick an appropriate set of parameters for the next trial."
   ]
  },
  {
   "cell_type": "code",
   "execution_count": 14,
   "metadata": {},
   "outputs": [],
   "source": [
    "def objective(params):\n",
    "    #print(params)\n",
    "    train_data, val_data = get_data(params)\n",
    "    \n",
    "    modelname = 'dna2peak_ex4_order{}_k{}_w{}'.format(params['order'], params['nkernels'], params['kernelwidth'])\n",
    "    \n",
    "    # without clear session, the memory consumption increases continuously\n",
    "    K.clear_session()\n",
    "    # create a new model object\n",
    "    model = Janggu.create(template=double_stranded_model_dnaconv,\n",
    "                          modelparams=(params['nkernels'], params['kernelwidth'], 'relu'),\n",
    "                          inputs=train_data[0],\n",
    "                          outputs=train_data[1],\n",
    "                          name=modelname)\n",
    "\n",
    "    model.compile(optimizer='adadelta', loss='binary_crossentropy',\n",
    "                  metrics=['acc'])\n",
    "\n",
    "    hist = model.fit(train_data[0], train_data[1], epochs=50, verbose=False, validation_data=val_data)\n",
    "    res = {'loss': hist.history['val_loss'][-1], 'status':'ok',\n",
    "            'modelname': model.name}\n",
    "    print(res)\n",
    "    return res"
   ]
  },
  {
   "cell_type": "markdown",
   "metadata": {},
   "source": [
    "We define a simple search space using different numbers of convolution filters, different filter lengths and different DNA sequence encoding orders."
   ]
  },
  {
   "cell_type": "code",
   "execution_count": 9,
   "metadata": {},
   "outputs": [],
   "source": [
    "space={'nkernels': hp.choice('nk', [10, 20, 30]),\n",
    "       'kernelwidth': hp.choice('kw', [11, 15, 25]),\n",
    "       'order': hp.choice('o', [1,2,3])}"
   ]
  },
  {
   "cell_type": "code",
   "execution_count": 10,
   "metadata": {},
   "outputs": [],
   "source": [
    "trials = Trials()"
   ]
  },
  {
   "cell_type": "code",
   "execution_count": 11,
   "metadata": {},
   "outputs": [
    {
     "name": "stdout",
     "output_type": "stream",
     "text": [
      "  0%|          | 0/30 [00:00<?, ?it/s, best loss: ?]WARNING:tensorflow:From /home/wkopp/anaconda3/envs/jdev/lib/python3.7/site-packages/tensorflow/python/framework/op_def_library.py:263: colocate_with (from tensorflow.python.framework.ops) is deprecated and will be removed in a future version.\n",
      "Instructions for updating:\n",
      "Colocations handled automatically by placer.\n",
      "WARNING:tensorflow:From /home/wkopp/anaconda3/envs/jdev/lib/python3.7/site-packages/tensorflow/python/ops/math_ops.py:3066: to_int32 (from tensorflow.python.ops.math_ops) is deprecated and will be removed in a future version.\n",
      "Instructions for updating:\n",
      "Use tf.cast instead.\n",
      "{'loss': 0.3910023140907288, 'status': 'ok', 'modelname': 'dna2peak_ex4_order1_k20_w15'}\n",
      "{'loss': 0.21008342802524566, 'status': 'ok', 'modelname': 'dna2peak_ex4_order3_k10_w11'}\n",
      "{'loss': 0.2897782826423645, 'status': 'ok', 'modelname': 'dna2peak_ex4_order2_k10_w11'}\n",
      "{'loss': 0.21085885047912598, 'status': 'ok', 'modelname': 'dna2peak_ex4_order2_k10_w15'}\n",
      "{'loss': 0.3971425604820251, 'status': 'ok', 'modelname': 'dna2peak_ex4_order1_k10_w25'}\n",
      "{'loss': 0.24330212771892548, 'status': 'ok', 'modelname': 'dna2peak_ex4_order2_k30_w11'}\n",
      "{'loss': 0.24345718264579774, 'status': 'ok', 'modelname': 'dna2peak_ex4_order2_k20_w11'}\n",
      "{'loss': 0.16862974882125856, 'status': 'ok', 'modelname': 'dna2peak_ex4_order2_k20_w25'}\n",
      "{'loss': 0.1668671941757202, 'status': 'ok', 'modelname': 'dna2peak_ex4_order2_k20_w25'}\n",
      "{'loss': 0.44734586238861085, 'status': 'ok', 'modelname': 'dna2peak_ex4_order1_k10_w11'}\n",
      "{'loss': 0.45441911220550535, 'status': 'ok', 'modelname': 'dna2peak_ex4_order1_k10_w11'}\n",
      "{'loss': 0.35290857672691345, 'status': 'ok', 'modelname': 'dna2peak_ex4_order1_k30_w25'}\n",
      "{'loss': 0.24321768164634705, 'status': 'ok', 'modelname': 'dna2peak_ex4_order2_k10_w25'}\n",
      "{'loss': 0.4089042639732361, 'status': 'ok', 'modelname': 'dna2peak_ex4_order1_k20_w11'}\n",
      "{'loss': 0.17503570795059203, 'status': 'ok', 'modelname': 'dna2peak_ex4_order2_k10_w25'}\n",
      "{'loss': 0.2442852509021759, 'status': 'ok', 'modelname': 'dna2peak_ex4_order2_k30_w11'}\n",
      "{'loss': 0.39497903823852537, 'status': 'ok', 'modelname': 'dna2peak_ex4_order1_k30_w11'}\n",
      "{'loss': 0.3563139796257019, 'status': 'ok', 'modelname': 'dna2peak_ex4_order1_k30_w25'}\n",
      "{'loss': 0.39190362811088564, 'status': 'ok', 'modelname': 'dna2peak_ex4_order1_k30_w15'}\n",
      "{'loss': 0.35503706216812136, 'status': 'ok', 'modelname': 'dna2peak_ex4_order1_k30_w25'}\n",
      "{'loss': 0.11563926815986633, 'status': 'ok', 'modelname': 'dna2peak_ex4_order3_k20_w25'}\n",
      "{'loss': 0.11595120310783386, 'status': 'ok', 'modelname': 'dna2peak_ex4_order3_k20_w25'}\n",
      "{'loss': 0.11960413366556168, 'status': 'ok', 'modelname': 'dna2peak_ex4_order3_k20_w25'}\n",
      "{'loss': 0.147387475669384, 'status': 'ok', 'modelname': 'dna2peak_ex4_order3_k20_w25'}\n",
      "{'loss': 0.12433685302734375, 'status': 'ok', 'modelname': 'dna2peak_ex4_order3_k20_w25'}\n",
      "{'loss': 0.13556983858346938, 'status': 'ok', 'modelname': 'dna2peak_ex4_order3_k20_w15'}\n",
      "{'loss': 0.137903308570385, 'status': 'ok', 'modelname': 'dna2peak_ex4_order3_k20_w25'}\n",
      "{'loss': 0.13357810378074647, 'status': 'ok', 'modelname': 'dna2peak_ex4_order3_k20_w25'}\n",
      "{'loss': 0.14981190830469132, 'status': 'ok', 'modelname': 'dna2peak_ex4_order3_k20_w15'}\n",
      "{'loss': 0.12669599175453186, 'status': 'ok', 'modelname': 'dna2peak_ex4_order3_k20_w25'}\n",
      "100%|██████████| 30/30 [1:53:31<00:00, 227.05s/it, best loss: 0.11563926815986633]\n"
     ]
    }
   ],
   "source": [
    "best = fmin(objective, space=space, algo=tpe.suggest, max_evals=30, trials=trials)"
   ]
  },
  {
   "cell_type": "code",
   "execution_count": 18,
   "metadata": {},
   "outputs": [
    {
     "name": "stdout",
     "output_type": "stream",
     "text": [
      "The best model (dna2peak_ex4_order3_k20_w25) has obtained a validation loss of 0.11563926815986633\n"
     ]
    }
   ],
   "source": [
    "bestmodel = ''\n",
    "score = np.inf\n",
    "for trial in trials.results:\n",
    "    if score > trial['loss']:\n",
    "        score = trial['loss']\n",
    "        bestmodel = trial['modelname']\n",
    "print('The best model ({}) has obtained a validation loss of {}'.format(bestmodel, score))"
   ]
  },
  {
   "cell_type": "markdown",
   "metadata": {},
   "source": [
    "When using the Janggu wrapper to fit a neural network, the model parameters are stored automatically into the JANGGU_OUTPUT path. Therefore, the best model can be fetched using:"
   ]
  },
  {
   "cell_type": "code",
   "execution_count": 16,
   "metadata": {},
   "outputs": [],
   "source": [
    "model = Janggu.create_by_name(bestmodel)"
   ]
  },
  {
   "cell_type": "code",
   "execution_count": 17,
   "metadata": {},
   "outputs": [
    {
     "name": "stdout",
     "output_type": "stream",
     "text": [
      "_________________________________________________________________\n",
      "Layer (type)                 Output Shape              Param #   \n",
      "=================================================================\n",
      "dna (InputLayer)             (None, 198, 1, 64)        0         \n",
      "_________________________________________________________________\n",
      "dna_conv2d_1 (DnaConv2D)     (None, 174, 1, 20)        32020     \n",
      "_________________________________________________________________\n",
      "motif (GlobalAveragePooling2 (None, 20)                0         \n",
      "_________________________________________________________________\n",
      "peaks (Dense)                (None, 1)                 21        \n",
      "=================================================================\n",
      "Total params: 32,041\n",
      "Trainable params: 32,041\n",
      "Non-trainable params: 0\n",
      "_________________________________________________________________\n"
     ]
    }
   ],
   "source": [
    "model.summary()"
   ]
  }
 ],
 "metadata": {
  "kernelspec": {
   "display_name": "Python 3",
   "language": "python",
   "name": "python3"
  },
  "language_info": {
   "codemirror_mode": {
    "name": "ipython",
    "version": 3
   },
   "file_extension": ".py",
   "mimetype": "text/x-python",
   "name": "python",
   "nbconvert_exporter": "python",
   "pygments_lexer": "ipython3",
   "version": "3.7.3"
  }
 },
 "nbformat": 4,
 "nbformat_minor": 2
}
