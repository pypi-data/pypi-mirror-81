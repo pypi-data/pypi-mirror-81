{
 "cells": [
  {
   "cell_type": "code",
   "execution_count": 6,
   "metadata": {},
   "outputs": [
    {
     "data": {
      "application/vnd.jupyter.widget-view+json": {
       "model_id": "d28a9c10d54f4f75910dcaa342842f36",
       "version_major": 2,
       "version_minor": 0
      },
      "text/plain": [
       "MitoWidget(code_json='{\"code\": \"0\"}', column_spreadsheet_code_json='{\"A\": \"\", \"B\": \"\", \"C\": \"\", \"D\": \"\"}', she…"
      ]
     },
     "metadata": {},
     "output_type": "display_data"
    }
   ],
   "source": [
    "import mitosheet\n",
    "import pandas as pd\n",
    "\n",
    "df = pd.read_csv('Salary Data.csv')\n",
    "mitosheet.sheet(df)"
   ]
  },
  {
   "cell_type": "code",
   "execution_count": null,
   "metadata": {},
   "outputs": [],
   "source": []
  }
 ],
 "metadata": {
  "kernelspec": {
   "display_name": "Python 3",
   "language": "python",
   "name": "python3"
  },
  "language_info": {
   "codemirror_mode": {
    "name": "ipython",
    "version": 3
   },
   "file_extension": ".py",
   "mimetype": "text/x-python",
   "name": "python",
   "nbconvert_exporter": "python",
   "pygments_lexer": "ipython3",
   "version": "3.8.5"
  },
  "widgets": {
   "application/vnd.jupyter.widget-state+json": {
    "state": {
     "06ddf042226d41878be59ab516adb58f": {
      "model_module": "@jupyter-widgets/base",
      "model_module_version": "1.2.0",
      "model_name": "LayoutModel",
      "state": {}
     },
     "29800e2c22784bbcb9fb18951a758409": {
      "model_module": "@jupyter-widgets/base",
      "model_module_version": "1.2.0",
      "model_name": "LayoutModel",
      "state": {}
     },
     "87c0c8cd604c40d09c831a5a6a48a445": {
      "model_module": "mitosheet",
      "model_module_version": "^0.1.18",
      "model_name": "ExampleModel",
      "state": {
       "_model_module_version": "^0.1.18",
       "_view_module_version": "^0.1.18",
       "code_json": "{\"code\": \"0\"}",
       "column_spreadsheet_code_json": "{\"A\": \"\", \"B\": \"\", \"C\": \"\", \"D\": \"\"}",
       "df_name": "df",
       "layout": "IPY_MODEL_a20675b494c14142ab738beddc928764",
       "sheet_json": "{\"columns\": [\"A\", \"B\", \"C\", \"D\"], \"index\": [0, 1, 2, 3, 4, 5, 6, 7, 8, 9, 10, 11, 12, 13, 14, 15, 16], \"data\": [[\"Jennifer Clark\", 88686, 79655, 52200], [\"Tamir Frank\", 78125, 84636, 82585], [\"Petra Roberston \", 77066, 65992, 54127], [\"Kyara Maxwell\", 51583, 71465, 92630], [\"Maggie Valentine \", 95780, 96706, 96083], [\"Tucker Diamond\", 71700, 88776, 86719], [\"Jamal Murray\", 58960, 80431, 50006], [\"Diana Simpson\", 56010, 51848, 60823], [\"Doug Miles\", 73798, 93324, 70508], [\"Rebecca Michaels\", 92908, 80631, 60841], [\"Yao Rong\", 93521, 87243, 89299], [\"Cody Wax\", 90691, 77059, 83437], [\"Mohammed Payne\", 68144, 50312, 58491], [\"Tristan Matthews\", 52939, 69745, 74653], [\"Sarah Berkowitz \", 59404, 62950, 96326], [\"Ian Smalls\", 53478, 52696, 67451], [\"Brian Dogcatcher \", 83813, 95347, 69448]]}",
       "user_id": "nate",
       "value": "Hello World"
      }
     },
     "a20675b494c14142ab738beddc928764": {
      "model_module": "@jupyter-widgets/base",
      "model_module_version": "1.2.0",
      "model_name": "LayoutModel",
      "state": {}
     },
     "b4349d6742ec4a2daa6297fbc2a35541": {
      "model_module": "@jupyter-widgets/base",
      "model_module_version": "1.2.0",
      "model_name": "LayoutModel",
      "state": {}
     },
     "cde0828aa8354250a318f40f46c985ea": {
      "model_module": "mitosheet",
      "model_module_version": "^0.1.18",
      "model_name": "ExampleModel",
      "state": {
       "_model_module_version": "^0.1.18",
       "_view_module_version": "^0.1.18",
       "code_json": "{\"imports\": \"from mitosheet import AVG,CLEAN,CONCATENATE,FIND,LEFT,LEN,LOWER,MID,MULTIPLY,PROPER,RIGHT,SUBSTITUTE,SUM,TRIM,UPPER\", \"code\": [\"df['E'] = 0\"]}",
       "column_spreadsheet_code_json": "{\"A\": \"\", \"B\": \"\", \"C\": \"\", \"D\": \"\", \"E\": \"=0\"}",
       "df_name": "df",
       "layout": "IPY_MODEL_29800e2c22784bbcb9fb18951a758409",
       "sheet_json": "{\"columns\": [\"A\", \"B\", \"C\", \"D\", \"E\"], \"index\": [0, 1, 2, 3, 4, 5, 6, 7, 8, 9, 10, 11, 12, 13, 14, 15, 16], \"data\": [[\"Jennifer Clark\", 88686, 79655, 52200, 0], [\"Tamir Frank\", 78125, 84636, 82585, 0], [\"Petra Roberston \", 77066, 65992, 54127, 0], [\"Kyara Maxwell\", 51583, 71465, 92630, 0], [\"Maggie Valentine \", 95780, 96706, 96083, 0], [\"Tucker Diamond\", 71700, 88776, 86719, 0], [\"Jamal Murray\", 58960, 80431, 50006, 0], [\"Diana Simpson\", 56010, 51848, 60823, 0], [\"Doug Miles\", 73798, 93324, 70508, 0], [\"Rebecca Michaels\", 92908, 80631, 60841, 0], [\"Yao Rong\", 93521, 87243, 89299, 0], [\"Cody Wax\", 90691, 77059, 83437, 0], [\"Mohammed Payne\", 68144, 50312, 58491, 0], [\"Tristan Matthews\", 52939, 69745, 74653, 0], [\"Sarah Berkowitz \", 59404, 62950, 96326, 0], [\"Ian Smalls\", 53478, 52696, 67451, 0], [\"Brian Dogcatcher \", 83813, 95347, 69448, 0]]}",
       "user_id": "nate",
       "value": "Hello World"
      }
     },
     "d28a9c10d54f4f75910dcaa342842f36": {
      "model_module": "mitosheet",
      "model_module_version": "^0.1.18",
      "model_name": "ExampleModel",
      "state": {
       "_model_module_version": "^0.1.18",
       "_view_module_version": "^0.1.18",
       "code_json": "{\"code\": \"0\"}",
       "column_spreadsheet_code_json": "{\"A\": \"\", \"B\": \"\", \"C\": \"\", \"D\": \"\"}",
       "df_name": "df",
       "layout": "IPY_MODEL_06ddf042226d41878be59ab516adb58f",
       "sheet_json": "{\"columns\": [\"A\", \"B\", \"C\", \"D\"], \"index\": [0, 1, 2, 3, 4, 5, 6, 7, 8, 9, 10, 11, 12, 13, 14, 15, 16], \"data\": [[\"Jennifer Clark\", 88686, 79655, 52200], [\"Tamir Frank\", 78125, 84636, 82585], [\"Petra Roberston \", 77066, 65992, 54127], [\"Kyara Maxwell\", 51583, 71465, 92630], [\"Maggie Valentine \", 95780, 96706, 96083], [\"Tucker Diamond\", 71700, 88776, 86719], [\"Jamal Murray\", 58960, 80431, 50006], [\"Diana Simpson\", 56010, 51848, 60823], [\"Doug Miles\", 73798, 93324, 70508], [\"Rebecca Michaels\", 92908, 80631, 60841], [\"Yao Rong\", 93521, 87243, 89299], [\"Cody Wax\", 90691, 77059, 83437], [\"Mohammed Payne\", 68144, 50312, 58491], [\"Tristan Matthews\", 52939, 69745, 74653], [\"Sarah Berkowitz \", 59404, 62950, 96326], [\"Ian Smalls\", 53478, 52696, 67451], [\"Brian Dogcatcher \", 83813, 95347, 69448]]}",
       "user_id": "nate",
       "value": "Hello World"
      }
     },
     "d77bfdbed19c427f83796ac9b64dec09": {
      "model_module": "mitosheet",
      "model_module_version": "^0.1.18",
      "model_name": "ExampleModel",
      "state": {
       "_model_module_version": "^0.1.18",
       "_view_module_version": "^0.1.18",
       "code_json": "{\"code\": \"0\"}",
       "column_spreadsheet_code_json": "{\"A\": \"\", \"B\": \"\", \"C\": \"\", \"D\": \"\", \"E\": \"\"}",
       "df_name": "",
       "layout": "IPY_MODEL_b4349d6742ec4a2daa6297fbc2a35541",
       "sheet_json": "{\"columns\": [\"A\", \"B\", \"C\", \"D\", \"E\"], \"index\": [0, 1, 2, 3, 4, 5, 6, 7, 8, 9, 10, 11, 12, 13, 14, 15, 16], \"data\": [[\"Jennifer Clark\", 88686, 79655, 52200, 0], [\"Tamir Frank\", 78125, 84636, 82585, 0], [\"Petra Roberston \", 77066, 65992, 54127, 0], [\"Kyara Maxwell\", 51583, 71465, 92630, 0], [\"Maggie Valentine \", 95780, 96706, 96083, 0], [\"Tucker Diamond\", 71700, 88776, 86719, 0], [\"Jamal Murray\", 58960, 80431, 50006, 0], [\"Diana Simpson\", 56010, 51848, 60823, 0], [\"Doug Miles\", 73798, 93324, 70508, 0], [\"Rebecca Michaels\", 92908, 80631, 60841, 0], [\"Yao Rong\", 93521, 87243, 89299, 0], [\"Cody Wax\", 90691, 77059, 83437, 0], [\"Mohammed Payne\", 68144, 50312, 58491, 0], [\"Tristan Matthews\", 52939, 69745, 74653, 0], [\"Sarah Berkowitz \", 59404, 62950, 96326, 0], [\"Ian Smalls\", 53478, 52696, 67451, 0], [\"Brian Dogcatcher \", 83813, 95347, 69448, 0]]}",
       "user_id": "nate",
       "value": "Hello World"
      }
     },
     "e9183814a7d0430faeb86d21ed5952df": {
      "model_module": "@jupyter-widgets/base",
      "model_module_version": "1.2.0",
      "model_name": "LayoutModel",
      "state": {}
     },
     "ed4753254bd24c518a3780da8c8492d5": {
      "model_module": "@jupyter-widgets/base",
      "model_module_version": "1.2.0",
      "model_name": "LayoutModel",
      "state": {}
     },
     "ee1fed9a35fb4ab795302cf8754067bb": {
      "model_module": "mitosheet",
      "model_module_version": "^0.1.18",
      "model_name": "ExampleModel",
      "state": {
       "_model_module_version": "^0.1.18",
       "_view_module_version": "^0.1.18",
       "code_json": "{\"code\": \"0\"}",
       "column_spreadsheet_code_json": "{\"A\": \"\"}",
       "df_name": "",
       "layout": "IPY_MODEL_e9183814a7d0430faeb86d21ed5952df",
       "sheet_json": "{\"columns\": [\"A\"], \"index\": [0], \"data\": [[1]]}",
       "user_id": "nate",
       "value": "Hello World"
      }
     },
     "f5eff7566f2d42dfb04eec9aaff73b08": {
      "model_module": "mitosheet",
      "model_module_version": "^0.1.18",
      "model_name": "ExampleModel",
      "state": {
       "_model_module_version": "^0.1.18",
       "_view_module_version": "^0.1.18",
       "code_json": "{\"imports\": \"from mitosheet import AVG,CLEAN,CONCATENATE,FIND,LEFT,LEN,LOWER,MID,MULTIPLY,PROPER,RIGHT,SUBSTITUTE,SUM,TRIM,UPPER\", \"code\": [\"df['B'] = 0\", \"df['C'] = df['A']\"]}",
       "column_spreadsheet_code_json": "{\"A\": \"\", \"B\": \"=0\", \"C\": \"=A\"}",
       "df_name": "",
       "layout": "IPY_MODEL_ed4753254bd24c518a3780da8c8492d5",
       "sheet_json": "{\"columns\": [\"A\", \"B\", \"C\"], \"index\": [0], \"data\": [[1, 0, 1]]}",
       "user_id": "nate",
       "value": "Hello World"
      }
     }
    },
    "version_major": 2,
    "version_minor": 0
   }
  }
 },
 "nbformat": 4,
 "nbformat_minor": 4
}
